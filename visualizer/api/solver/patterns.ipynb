{
 "cells": [
  {
   "cell_type": "code",
   "execution_count": 3,
   "metadata": {},
   "outputs": [],
   "source": [
    "%load_ext autoreload\n",
    "%autoreload 2\n",
    "\n",
    "import numpy as np\n",
    "from pomdp import *\n",
    "from helpers import *\n",
    "from fractions import Fraction as frac"
   ]
  },
  {
   "cell_type": "markdown",
   "metadata": {},
   "source": [
    "## Budget 1"
   ]
  },
  {
   "cell_type": "markdown",
   "metadata": {},
   "source": [
    "10x10 grid with target at the bottom right"
   ]
  },
  {
   "cell_type": "code",
   "execution_count": 2,
   "metadata": {},
   "outputs": [
    {
     "data": {
      "application/vnd.plotly.v1+json": {
       "config": {
        "plotlyServerURL": "https://plot.ly"
       },
       "data": [
        {
         "marker": {
          "color": [
           "blue",
           "blue",
           "blue",
           "blue",
           "red",
           "blue",
           "blue",
           "blue",
           "blue",
           "blue"
          ],
          "line": {
           "color": "black",
           "width": 1
          },
          "opacity": 0.8,
          "size": 8
         },
         "mode": "markers",
         "type": "scatter3d",
         "x": [
          0,
          0.1111111111111111,
          0.2222222222222222,
          0.3333333333333333,
          0.4444444444444444,
          0.5555555555555556,
          0.6666666666666666,
          0.7777777777777778,
          0.8888888888888888,
          1
         ],
         "y": [
          1,
          0.8888888888888888,
          0.7777777777777778,
          0.6666666666666666,
          0.5555555555555556,
          0.4444444444444444,
          0.3333333333333333,
          0.2222222222222222,
          0.1111111111111111,
          0
         ],
         "z": [
          0,
          0.024006820260538884,
          0.04618716058069774,
          0.06426020256293578,
          0.07480985633519664,
          0.07480985633519664,
          0.06426020256293578,
          0.04618716058069774,
          0.024006820260538884,
          0
         ]
        }
       ],
       "layout": {
        "scene": {
         "xaxis": {
          "title": {
           "text": "d"
          }
         },
         "yaxis": {
          "title": {
           "text": "r"
          }
         },
         "zaxis": {
          "title": {
           "text": "Utility"
          }
         }
        },
        "template": {
         "data": {
          "bar": [
           {
            "error_x": {
             "color": "#2a3f5f"
            },
            "error_y": {
             "color": "#2a3f5f"
            },
            "marker": {
             "line": {
              "color": "white",
              "width": 0.5
             },
             "pattern": {
              "fillmode": "overlay",
              "size": 10,
              "solidity": 0.2
             }
            },
            "type": "bar"
           }
          ],
          "barpolar": [
           {
            "marker": {
             "line": {
              "color": "white",
              "width": 0.5
             },
             "pattern": {
              "fillmode": "overlay",
              "size": 10,
              "solidity": 0.2
             }
            },
            "type": "barpolar"
           }
          ],
          "carpet": [
           {
            "aaxis": {
             "endlinecolor": "#2a3f5f",
             "gridcolor": "#C8D4E3",
             "linecolor": "#C8D4E3",
             "minorgridcolor": "#C8D4E3",
             "startlinecolor": "#2a3f5f"
            },
            "baxis": {
             "endlinecolor": "#2a3f5f",
             "gridcolor": "#C8D4E3",
             "linecolor": "#C8D4E3",
             "minorgridcolor": "#C8D4E3",
             "startlinecolor": "#2a3f5f"
            },
            "type": "carpet"
           }
          ],
          "choropleth": [
           {
            "colorbar": {
             "outlinewidth": 0,
             "ticks": ""
            },
            "type": "choropleth"
           }
          ],
          "contour": [
           {
            "colorbar": {
             "outlinewidth": 0,
             "ticks": ""
            },
            "colorscale": [
             [
              0,
              "#0d0887"
             ],
             [
              0.1111111111111111,
              "#46039f"
             ],
             [
              0.2222222222222222,
              "#7201a8"
             ],
             [
              0.3333333333333333,
              "#9c179e"
             ],
             [
              0.4444444444444444,
              "#bd3786"
             ],
             [
              0.5555555555555556,
              "#d8576b"
             ],
             [
              0.6666666666666666,
              "#ed7953"
             ],
             [
              0.7777777777777778,
              "#fb9f3a"
             ],
             [
              0.8888888888888888,
              "#fdca26"
             ],
             [
              1,
              "#f0f921"
             ]
            ],
            "type": "contour"
           }
          ],
          "contourcarpet": [
           {
            "colorbar": {
             "outlinewidth": 0,
             "ticks": ""
            },
            "type": "contourcarpet"
           }
          ],
          "heatmap": [
           {
            "colorbar": {
             "outlinewidth": 0,
             "ticks": ""
            },
            "colorscale": [
             [
              0,
              "#0d0887"
             ],
             [
              0.1111111111111111,
              "#46039f"
             ],
             [
              0.2222222222222222,
              "#7201a8"
             ],
             [
              0.3333333333333333,
              "#9c179e"
             ],
             [
              0.4444444444444444,
              "#bd3786"
             ],
             [
              0.5555555555555556,
              "#d8576b"
             ],
             [
              0.6666666666666666,
              "#ed7953"
             ],
             [
              0.7777777777777778,
              "#fb9f3a"
             ],
             [
              0.8888888888888888,
              "#fdca26"
             ],
             [
              1,
              "#f0f921"
             ]
            ],
            "type": "heatmap"
           }
          ],
          "heatmapgl": [
           {
            "colorbar": {
             "outlinewidth": 0,
             "ticks": ""
            },
            "colorscale": [
             [
              0,
              "#0d0887"
             ],
             [
              0.1111111111111111,
              "#46039f"
             ],
             [
              0.2222222222222222,
              "#7201a8"
             ],
             [
              0.3333333333333333,
              "#9c179e"
             ],
             [
              0.4444444444444444,
              "#bd3786"
             ],
             [
              0.5555555555555556,
              "#d8576b"
             ],
             [
              0.6666666666666666,
              "#ed7953"
             ],
             [
              0.7777777777777778,
              "#fb9f3a"
             ],
             [
              0.8888888888888888,
              "#fdca26"
             ],
             [
              1,
              "#f0f921"
             ]
            ],
            "type": "heatmapgl"
           }
          ],
          "histogram": [
           {
            "marker": {
             "pattern": {
              "fillmode": "overlay",
              "size": 10,
              "solidity": 0.2
             }
            },
            "type": "histogram"
           }
          ],
          "histogram2d": [
           {
            "colorbar": {
             "outlinewidth": 0,
             "ticks": ""
            },
            "colorscale": [
             [
              0,
              "#0d0887"
             ],
             [
              0.1111111111111111,
              "#46039f"
             ],
             [
              0.2222222222222222,
              "#7201a8"
             ],
             [
              0.3333333333333333,
              "#9c179e"
             ],
             [
              0.4444444444444444,
              "#bd3786"
             ],
             [
              0.5555555555555556,
              "#d8576b"
             ],
             [
              0.6666666666666666,
              "#ed7953"
             ],
             [
              0.7777777777777778,
              "#fb9f3a"
             ],
             [
              0.8888888888888888,
              "#fdca26"
             ],
             [
              1,
              "#f0f921"
             ]
            ],
            "type": "histogram2d"
           }
          ],
          "histogram2dcontour": [
           {
            "colorbar": {
             "outlinewidth": 0,
             "ticks": ""
            },
            "colorscale": [
             [
              0,
              "#0d0887"
             ],
             [
              0.1111111111111111,
              "#46039f"
             ],
             [
              0.2222222222222222,
              "#7201a8"
             ],
             [
              0.3333333333333333,
              "#9c179e"
             ],
             [
              0.4444444444444444,
              "#bd3786"
             ],
             [
              0.5555555555555556,
              "#d8576b"
             ],
             [
              0.6666666666666666,
              "#ed7953"
             ],
             [
              0.7777777777777778,
              "#fb9f3a"
             ],
             [
              0.8888888888888888,
              "#fdca26"
             ],
             [
              1,
              "#f0f921"
             ]
            ],
            "type": "histogram2dcontour"
           }
          ],
          "mesh3d": [
           {
            "colorbar": {
             "outlinewidth": 0,
             "ticks": ""
            },
            "type": "mesh3d"
           }
          ],
          "parcoords": [
           {
            "line": {
             "colorbar": {
              "outlinewidth": 0,
              "ticks": ""
             }
            },
            "type": "parcoords"
           }
          ],
          "pie": [
           {
            "automargin": true,
            "type": "pie"
           }
          ],
          "scatter": [
           {
            "fillpattern": {
             "fillmode": "overlay",
             "size": 10,
             "solidity": 0.2
            },
            "type": "scatter"
           }
          ],
          "scatter3d": [
           {
            "line": {
             "colorbar": {
              "outlinewidth": 0,
              "ticks": ""
             }
            },
            "marker": {
             "colorbar": {
              "outlinewidth": 0,
              "ticks": ""
             }
            },
            "type": "scatter3d"
           }
          ],
          "scattercarpet": [
           {
            "marker": {
             "colorbar": {
              "outlinewidth": 0,
              "ticks": ""
             }
            },
            "type": "scattercarpet"
           }
          ],
          "scattergeo": [
           {
            "marker": {
             "colorbar": {
              "outlinewidth": 0,
              "ticks": ""
             }
            },
            "type": "scattergeo"
           }
          ],
          "scattergl": [
           {
            "marker": {
             "colorbar": {
              "outlinewidth": 0,
              "ticks": ""
             }
            },
            "type": "scattergl"
           }
          ],
          "scattermapbox": [
           {
            "marker": {
             "colorbar": {
              "outlinewidth": 0,
              "ticks": ""
             }
            },
            "type": "scattermapbox"
           }
          ],
          "scatterpolar": [
           {
            "marker": {
             "colorbar": {
              "outlinewidth": 0,
              "ticks": ""
             }
            },
            "type": "scatterpolar"
           }
          ],
          "scatterpolargl": [
           {
            "marker": {
             "colorbar": {
              "outlinewidth": 0,
              "ticks": ""
             }
            },
            "type": "scatterpolargl"
           }
          ],
          "scatterternary": [
           {
            "marker": {
             "colorbar": {
              "outlinewidth": 0,
              "ticks": ""
             }
            },
            "type": "scatterternary"
           }
          ],
          "surface": [
           {
            "colorbar": {
             "outlinewidth": 0,
             "ticks": ""
            },
            "colorscale": [
             [
              0,
              "#0d0887"
             ],
             [
              0.1111111111111111,
              "#46039f"
             ],
             [
              0.2222222222222222,
              "#7201a8"
             ],
             [
              0.3333333333333333,
              "#9c179e"
             ],
             [
              0.4444444444444444,
              "#bd3786"
             ],
             [
              0.5555555555555556,
              "#d8576b"
             ],
             [
              0.6666666666666666,
              "#ed7953"
             ],
             [
              0.7777777777777778,
              "#fb9f3a"
             ],
             [
              0.8888888888888888,
              "#fdca26"
             ],
             [
              1,
              "#f0f921"
             ]
            ],
            "type": "surface"
           }
          ],
          "table": [
           {
            "cells": {
             "fill": {
              "color": "#EBF0F8"
             },
             "line": {
              "color": "white"
             }
            },
            "header": {
             "fill": {
              "color": "#C8D4E3"
             },
             "line": {
              "color": "white"
             }
            },
            "type": "table"
           }
          ]
         },
         "layout": {
          "annotationdefaults": {
           "arrowcolor": "#2a3f5f",
           "arrowhead": 0,
           "arrowwidth": 1
          },
          "autotypenumbers": "strict",
          "coloraxis": {
           "colorbar": {
            "outlinewidth": 0,
            "ticks": ""
           }
          },
          "colorscale": {
           "diverging": [
            [
             0,
             "#8e0152"
            ],
            [
             0.1,
             "#c51b7d"
            ],
            [
             0.2,
             "#de77ae"
            ],
            [
             0.3,
             "#f1b6da"
            ],
            [
             0.4,
             "#fde0ef"
            ],
            [
             0.5,
             "#f7f7f7"
            ],
            [
             0.6,
             "#e6f5d0"
            ],
            [
             0.7,
             "#b8e186"
            ],
            [
             0.8,
             "#7fbc41"
            ],
            [
             0.9,
             "#4d9221"
            ],
            [
             1,
             "#276419"
            ]
           ],
           "sequential": [
            [
             0,
             "#0d0887"
            ],
            [
             0.1111111111111111,
             "#46039f"
            ],
            [
             0.2222222222222222,
             "#7201a8"
            ],
            [
             0.3333333333333333,
             "#9c179e"
            ],
            [
             0.4444444444444444,
             "#bd3786"
            ],
            [
             0.5555555555555556,
             "#d8576b"
            ],
            [
             0.6666666666666666,
             "#ed7953"
            ],
            [
             0.7777777777777778,
             "#fb9f3a"
            ],
            [
             0.8888888888888888,
             "#fdca26"
            ],
            [
             1,
             "#f0f921"
            ]
           ],
           "sequentialminus": [
            [
             0,
             "#0d0887"
            ],
            [
             0.1111111111111111,
             "#46039f"
            ],
            [
             0.2222222222222222,
             "#7201a8"
            ],
            [
             0.3333333333333333,
             "#9c179e"
            ],
            [
             0.4444444444444444,
             "#bd3786"
            ],
            [
             0.5555555555555556,
             "#d8576b"
            ],
            [
             0.6666666666666666,
             "#ed7953"
            ],
            [
             0.7777777777777778,
             "#fb9f3a"
            ],
            [
             0.8888888888888888,
             "#fdca26"
            ],
            [
             1,
             "#f0f921"
            ]
           ]
          },
          "colorway": [
           "#636efa",
           "#EF553B",
           "#00cc96",
           "#ab63fa",
           "#FFA15A",
           "#19d3f3",
           "#FF6692",
           "#B6E880",
           "#FF97FF",
           "#FECB52"
          ],
          "font": {
           "color": "#2a3f5f"
          },
          "geo": {
           "bgcolor": "white",
           "lakecolor": "white",
           "landcolor": "white",
           "showlakes": true,
           "showland": true,
           "subunitcolor": "#C8D4E3"
          },
          "hoverlabel": {
           "align": "left"
          },
          "hovermode": "closest",
          "mapbox": {
           "style": "light"
          },
          "paper_bgcolor": "white",
          "plot_bgcolor": "white",
          "polar": {
           "angularaxis": {
            "gridcolor": "#EBF0F8",
            "linecolor": "#EBF0F8",
            "ticks": ""
           },
           "bgcolor": "white",
           "radialaxis": {
            "gridcolor": "#EBF0F8",
            "linecolor": "#EBF0F8",
            "ticks": ""
           }
          },
          "scene": {
           "xaxis": {
            "backgroundcolor": "white",
            "gridcolor": "#DFE8F3",
            "gridwidth": 2,
            "linecolor": "#EBF0F8",
            "showbackground": true,
            "ticks": "",
            "zerolinecolor": "#EBF0F8"
           },
           "yaxis": {
            "backgroundcolor": "white",
            "gridcolor": "#DFE8F3",
            "gridwidth": 2,
            "linecolor": "#EBF0F8",
            "showbackground": true,
            "ticks": "",
            "zerolinecolor": "#EBF0F8"
           },
           "zaxis": {
            "backgroundcolor": "white",
            "gridcolor": "#DFE8F3",
            "gridwidth": 2,
            "linecolor": "#EBF0F8",
            "showbackground": true,
            "ticks": "",
            "zerolinecolor": "#EBF0F8"
           }
          },
          "shapedefaults": {
           "line": {
            "color": "#2a3f5f"
           }
          },
          "ternary": {
           "aaxis": {
            "gridcolor": "#DFE8F3",
            "linecolor": "#A2B1C6",
            "ticks": ""
           },
           "baxis": {
            "gridcolor": "#DFE8F3",
            "linecolor": "#A2B1C6",
            "ticks": ""
           },
           "bgcolor": "white",
           "caxis": {
            "gridcolor": "#DFE8F3",
            "linecolor": "#A2B1C6",
            "ticks": ""
           }
          },
          "title": {
           "x": 0.05
          },
          "xaxis": {
           "automargin": true,
           "gridcolor": "#EBF0F8",
           "linecolor": "#EBF0F8",
           "ticks": "",
           "title": {
            "standoff": 15
           },
           "zerolinecolor": "#EBF0F8",
           "zerolinewidth": 2
          },
          "yaxis": {
           "automargin": true,
           "gridcolor": "#EBF0F8",
           "linecolor": "#EBF0F8",
           "ticks": "",
           "title": {
            "standoff": 15
           },
           "zerolinecolor": "#EBF0F8",
           "zerolinewidth": 2
          }
         }
        },
        "title": {
         "text": "3D Scatter Plot"
        }
       }
      }
     },
     "metadata": {},
     "output_type": "display_data"
    },
    {
     "name": "stdout",
     "output_type": "stream",
     "text": [
      "Max utility value: \n",
      "[Fraction(0, 1) Fraction(5, 9) Fraction(4, 9) Fraction(0, 1)]\n",
      "[0.   0.56 0.44 0.  ]\n",
      "0.07480985633519664\n"
     ]
    }
   ],
   "source": [
    "budget = 1\n",
    "gridSize = (10, 10)\n",
    "target = Node(9, 9)\n",
    "strategies = list([  \n",
    "    Strategy({ Action.DOWN: frac(1, 2), Action.RIGHT: frac(1, 2) }) \n",
    "])\n",
    "enumerated_strategies = dict(enumerate(strategies, start=1))\n",
    "\n",
    "pomdp = POMDP(gridSize=gridSize, target=target, model='grid', budget=budget)\n",
    "\n",
    "# Assign strategies to the nodes\n",
    "for node in pomdp.nodes: node.assign_strategy(enumerated_strategies[1], 1)\n",
    "observations =  {n: n.strategy_id for n in pomdp.nodes if n != target}\n",
    "\n",
    "# ---------------------------------------------------------\n",
    "# get one specific utility value\n",
    "# print(pomdp.utility(enumerated_strategies, assignments)[0])\n",
    "# ---------------------------------------------------------\n",
    "\n",
    "combinations_, U = pomdp.generate_points(enumerated_strategies, observations, sections=10, write_to_file=True)\n",
    "plot_actions_3D(combinations_, U, actions = [Action.DOWN, Action.RIGHT])\n",
    "\n",
    "# get the probability distribution of the actions that maximizes the utility\n",
    "max_index = np.argmax(U)\n",
    "approx = np.around(list(map(float, combinations_[max_index][0])), 2)\n",
    "\n",
    "print('Max utility value: ')\n",
    "print(combinations_[max_index][0])\n",
    "print(approx)\n",
    "print(U[max_index]) # 0.07480985633519664"
   ]
  },
  {
   "cell_type": "markdown",
   "metadata": {},
   "source": [
    "11x11 grid with the target in the bottom middle"
   ]
  },
  {
   "cell_type": "code",
   "execution_count": 3,
   "metadata": {},
   "outputs": [
    {
     "data": {
      "application/vnd.plotly.v1+json": {
       "config": {
        "plotlyServerURL": "https://plot.ly"
       },
       "data": [
        {
         "marker": {
          "color": [
           "blue",
           "blue",
           "blue",
           "blue",
           "blue",
           "blue",
           "blue",
           "blue",
           "blue",
           "blue",
           "blue",
           "blue",
           "blue",
           "blue",
           "blue",
           "blue",
           "blue",
           "blue",
           "blue",
           "blue",
           "blue",
           "blue",
           "blue",
           "blue",
           "blue",
           "blue",
           "blue",
           "blue",
           "blue",
           "blue",
           "red",
           "blue",
           "blue",
           "blue",
           "blue",
           "blue",
           "blue",
           "blue",
           "blue",
           "blue",
           "blue",
           "blue",
           "blue",
           "blue",
           "blue",
           "blue",
           "blue",
           "blue",
           "blue",
           "blue",
           "blue",
           "blue",
           "blue",
           "blue",
           "blue"
          ],
          "opacity": 0.7,
          "size": [
           1,
           1,
           1,
           1,
           1,
           1,
           1,
           1,
           1,
           1,
           1,
           1.0316618101661172,
           2.132375597787352,
           7.739370707000461,
           13.666666666666666,
           7.739370707000461,
           2.132375597787352,
           1.0316618101661172,
           1,
           1,
           1.0584353154019825,
           3.204638920830647,
           14.505004200404832,
           14.505004200404832,
           3.204638920830647,
           1.0584353154019825,
           1,
           1,
           1.1214527974963626,
           5.789651600046846,
           20,
           5.789651600046846,
           1.1214527974963626,
           1,
           1,
           1.2974908811520707,
           11.677513037205552,
           11.677513037205552,
           1.2974908811520707,
           1,
           1,
           1.8972317556342844,
           16.833333333333332,
           1.8972317556342844,
           1,
           1,
           4.379714443659732,
           4.379714443659732,
           1,
           1,
           9.866666666666665,
           1,
           1,
           1,
           1
          ]
         },
         "mode": "markers",
         "type": "scatter3d",
         "x": [
          0,
          0,
          0,
          0,
          0,
          0,
          0,
          0,
          0,
          0,
          0.1111111111111111,
          0.1111111111111111,
          0.1111111111111111,
          0.1111111111111111,
          0.1111111111111111,
          0.1111111111111111,
          0.1111111111111111,
          0.1111111111111111,
          0.1111111111111111,
          0.2222222222222222,
          0.2222222222222222,
          0.2222222222222222,
          0.2222222222222222,
          0.2222222222222222,
          0.2222222222222222,
          0.2222222222222222,
          0.2222222222222222,
          0.3333333333333333,
          0.3333333333333333,
          0.3333333333333333,
          0.3333333333333333,
          0.3333333333333333,
          0.3333333333333333,
          0.3333333333333333,
          0.4444444444444444,
          0.4444444444444444,
          0.4444444444444444,
          0.4444444444444444,
          0.4444444444444444,
          0.4444444444444444,
          0.5555555555555556,
          0.5555555555555556,
          0.5555555555555556,
          0.5555555555555556,
          0.5555555555555556,
          0.6666666666666666,
          0.6666666666666666,
          0.6666666666666666,
          0.6666666666666666,
          0.7777777777777778,
          0.7777777777777778,
          0.7777777777777778,
          0.8888888888888888,
          0.8888888888888888,
          1
         ],
         "y": [
          0,
          0.1111111111111111,
          0.2222222222222222,
          0.3333333333333333,
          0.4444444444444444,
          0.5555555555555556,
          0.6666666666666666,
          0.7777777777777778,
          0.8888888888888888,
          1,
          0,
          0.1111111111111111,
          0.2222222222222222,
          0.3333333333333333,
          0.4444444444444444,
          0.5555555555555556,
          0.6666666666666666,
          0.7777777777777778,
          0.8888888888888888,
          0,
          0.1111111111111111,
          0.2222222222222222,
          0.3333333333333333,
          0.4444444444444444,
          0.5555555555555556,
          0.6666666666666666,
          0.7777777777777778,
          0,
          0.1111111111111111,
          0.2222222222222222,
          0.3333333333333333,
          0.4444444444444444,
          0.5555555555555556,
          0.6666666666666666,
          0,
          0.1111111111111111,
          0.2222222222222222,
          0.3333333333333333,
          0.4444444444444444,
          0.5555555555555556,
          0,
          0.1111111111111111,
          0.2222222222222222,
          0.3333333333333333,
          0.4444444444444444,
          0,
          0.1111111111111111,
          0.2222222222222222,
          0.3333333333333333,
          0,
          0.1111111111111111,
          0.2222222222222222,
          0,
          0.1111111111111111,
          0
         ],
         "z": [
          1,
          0.8888888888888888,
          0.7777777777777778,
          0.6666666666666666,
          0.5555555555555556,
          0.4444444444444444,
          0.3333333333333333,
          0.2222222222222222,
          0.1111111111111111,
          0,
          0.8888888888888888,
          0.7777777777777778,
          0.6666666666666666,
          0.5555555555555556,
          0.4444444444444444,
          0.3333333333333333,
          0.2222222222222222,
          0.1111111111111111,
          0,
          0.7777777777777778,
          0.6666666666666666,
          0.5555555555555556,
          0.4444444444444444,
          0.3333333333333333,
          0.2222222222222222,
          0.1111111111111111,
          0,
          0.6666666666666666,
          0.5555555555555556,
          0.4444444444444444,
          0.3333333333333333,
          0.2222222222222222,
          0.1111111111111111,
          0,
          0.5555555555555556,
          0.4444444444444444,
          0.3333333333333333,
          0.2222222222222222,
          0.1111111111111111,
          0,
          0.4444444444444444,
          0.3333333333333333,
          0.2222222222222222,
          0.1111111111111111,
          0,
          0.3333333333333333,
          0.2222222222222222,
          0.1111111111111111,
          0,
          0.2222222222222222,
          0.1111111111111111,
          0,
          0.1111111111111111,
          0,
          0
         ]
        }
       ],
       "layout": {
        "scene": {
         "xaxis": {
          "title": {
           "text": "d"
          }
         },
         "yaxis": {
          "title": {
           "text": "r"
          }
         },
         "zaxis": {
          "title": {
           "text": "l"
          }
         }
        },
        "template": {
         "data": {
          "bar": [
           {
            "error_x": {
             "color": "#2a3f5f"
            },
            "error_y": {
             "color": "#2a3f5f"
            },
            "marker": {
             "line": {
              "color": "white",
              "width": 0.5
             },
             "pattern": {
              "fillmode": "overlay",
              "size": 10,
              "solidity": 0.2
             }
            },
            "type": "bar"
           }
          ],
          "barpolar": [
           {
            "marker": {
             "line": {
              "color": "white",
              "width": 0.5
             },
             "pattern": {
              "fillmode": "overlay",
              "size": 10,
              "solidity": 0.2
             }
            },
            "type": "barpolar"
           }
          ],
          "carpet": [
           {
            "aaxis": {
             "endlinecolor": "#2a3f5f",
             "gridcolor": "#C8D4E3",
             "linecolor": "#C8D4E3",
             "minorgridcolor": "#C8D4E3",
             "startlinecolor": "#2a3f5f"
            },
            "baxis": {
             "endlinecolor": "#2a3f5f",
             "gridcolor": "#C8D4E3",
             "linecolor": "#C8D4E3",
             "minorgridcolor": "#C8D4E3",
             "startlinecolor": "#2a3f5f"
            },
            "type": "carpet"
           }
          ],
          "choropleth": [
           {
            "colorbar": {
             "outlinewidth": 0,
             "ticks": ""
            },
            "type": "choropleth"
           }
          ],
          "contour": [
           {
            "colorbar": {
             "outlinewidth": 0,
             "ticks": ""
            },
            "colorscale": [
             [
              0,
              "#0d0887"
             ],
             [
              0.1111111111111111,
              "#46039f"
             ],
             [
              0.2222222222222222,
              "#7201a8"
             ],
             [
              0.3333333333333333,
              "#9c179e"
             ],
             [
              0.4444444444444444,
              "#bd3786"
             ],
             [
              0.5555555555555556,
              "#d8576b"
             ],
             [
              0.6666666666666666,
              "#ed7953"
             ],
             [
              0.7777777777777778,
              "#fb9f3a"
             ],
             [
              0.8888888888888888,
              "#fdca26"
             ],
             [
              1,
              "#f0f921"
             ]
            ],
            "type": "contour"
           }
          ],
          "contourcarpet": [
           {
            "colorbar": {
             "outlinewidth": 0,
             "ticks": ""
            },
            "type": "contourcarpet"
           }
          ],
          "heatmap": [
           {
            "colorbar": {
             "outlinewidth": 0,
             "ticks": ""
            },
            "colorscale": [
             [
              0,
              "#0d0887"
             ],
             [
              0.1111111111111111,
              "#46039f"
             ],
             [
              0.2222222222222222,
              "#7201a8"
             ],
             [
              0.3333333333333333,
              "#9c179e"
             ],
             [
              0.4444444444444444,
              "#bd3786"
             ],
             [
              0.5555555555555556,
              "#d8576b"
             ],
             [
              0.6666666666666666,
              "#ed7953"
             ],
             [
              0.7777777777777778,
              "#fb9f3a"
             ],
             [
              0.8888888888888888,
              "#fdca26"
             ],
             [
              1,
              "#f0f921"
             ]
            ],
            "type": "heatmap"
           }
          ],
          "heatmapgl": [
           {
            "colorbar": {
             "outlinewidth": 0,
             "ticks": ""
            },
            "colorscale": [
             [
              0,
              "#0d0887"
             ],
             [
              0.1111111111111111,
              "#46039f"
             ],
             [
              0.2222222222222222,
              "#7201a8"
             ],
             [
              0.3333333333333333,
              "#9c179e"
             ],
             [
              0.4444444444444444,
              "#bd3786"
             ],
             [
              0.5555555555555556,
              "#d8576b"
             ],
             [
              0.6666666666666666,
              "#ed7953"
             ],
             [
              0.7777777777777778,
              "#fb9f3a"
             ],
             [
              0.8888888888888888,
              "#fdca26"
             ],
             [
              1,
              "#f0f921"
             ]
            ],
            "type": "heatmapgl"
           }
          ],
          "histogram": [
           {
            "marker": {
             "pattern": {
              "fillmode": "overlay",
              "size": 10,
              "solidity": 0.2
             }
            },
            "type": "histogram"
           }
          ],
          "histogram2d": [
           {
            "colorbar": {
             "outlinewidth": 0,
             "ticks": ""
            },
            "colorscale": [
             [
              0,
              "#0d0887"
             ],
             [
              0.1111111111111111,
              "#46039f"
             ],
             [
              0.2222222222222222,
              "#7201a8"
             ],
             [
              0.3333333333333333,
              "#9c179e"
             ],
             [
              0.4444444444444444,
              "#bd3786"
             ],
             [
              0.5555555555555556,
              "#d8576b"
             ],
             [
              0.6666666666666666,
              "#ed7953"
             ],
             [
              0.7777777777777778,
              "#fb9f3a"
             ],
             [
              0.8888888888888888,
              "#fdca26"
             ],
             [
              1,
              "#f0f921"
             ]
            ],
            "type": "histogram2d"
           }
          ],
          "histogram2dcontour": [
           {
            "colorbar": {
             "outlinewidth": 0,
             "ticks": ""
            },
            "colorscale": [
             [
              0,
              "#0d0887"
             ],
             [
              0.1111111111111111,
              "#46039f"
             ],
             [
              0.2222222222222222,
              "#7201a8"
             ],
             [
              0.3333333333333333,
              "#9c179e"
             ],
             [
              0.4444444444444444,
              "#bd3786"
             ],
             [
              0.5555555555555556,
              "#d8576b"
             ],
             [
              0.6666666666666666,
              "#ed7953"
             ],
             [
              0.7777777777777778,
              "#fb9f3a"
             ],
             [
              0.8888888888888888,
              "#fdca26"
             ],
             [
              1,
              "#f0f921"
             ]
            ],
            "type": "histogram2dcontour"
           }
          ],
          "mesh3d": [
           {
            "colorbar": {
             "outlinewidth": 0,
             "ticks": ""
            },
            "type": "mesh3d"
           }
          ],
          "parcoords": [
           {
            "line": {
             "colorbar": {
              "outlinewidth": 0,
              "ticks": ""
             }
            },
            "type": "parcoords"
           }
          ],
          "pie": [
           {
            "automargin": true,
            "type": "pie"
           }
          ],
          "scatter": [
           {
            "fillpattern": {
             "fillmode": "overlay",
             "size": 10,
             "solidity": 0.2
            },
            "type": "scatter"
           }
          ],
          "scatter3d": [
           {
            "line": {
             "colorbar": {
              "outlinewidth": 0,
              "ticks": ""
             }
            },
            "marker": {
             "colorbar": {
              "outlinewidth": 0,
              "ticks": ""
             }
            },
            "type": "scatter3d"
           }
          ],
          "scattercarpet": [
           {
            "marker": {
             "colorbar": {
              "outlinewidth": 0,
              "ticks": ""
             }
            },
            "type": "scattercarpet"
           }
          ],
          "scattergeo": [
           {
            "marker": {
             "colorbar": {
              "outlinewidth": 0,
              "ticks": ""
             }
            },
            "type": "scattergeo"
           }
          ],
          "scattergl": [
           {
            "marker": {
             "colorbar": {
              "outlinewidth": 0,
              "ticks": ""
             }
            },
            "type": "scattergl"
           }
          ],
          "scattermapbox": [
           {
            "marker": {
             "colorbar": {
              "outlinewidth": 0,
              "ticks": ""
             }
            },
            "type": "scattermapbox"
           }
          ],
          "scatterpolar": [
           {
            "marker": {
             "colorbar": {
              "outlinewidth": 0,
              "ticks": ""
             }
            },
            "type": "scatterpolar"
           }
          ],
          "scatterpolargl": [
           {
            "marker": {
             "colorbar": {
              "outlinewidth": 0,
              "ticks": ""
             }
            },
            "type": "scatterpolargl"
           }
          ],
          "scatterternary": [
           {
            "marker": {
             "colorbar": {
              "outlinewidth": 0,
              "ticks": ""
             }
            },
            "type": "scatterternary"
           }
          ],
          "surface": [
           {
            "colorbar": {
             "outlinewidth": 0,
             "ticks": ""
            },
            "colorscale": [
             [
              0,
              "#0d0887"
             ],
             [
              0.1111111111111111,
              "#46039f"
             ],
             [
              0.2222222222222222,
              "#7201a8"
             ],
             [
              0.3333333333333333,
              "#9c179e"
             ],
             [
              0.4444444444444444,
              "#bd3786"
             ],
             [
              0.5555555555555556,
              "#d8576b"
             ],
             [
              0.6666666666666666,
              "#ed7953"
             ],
             [
              0.7777777777777778,
              "#fb9f3a"
             ],
             [
              0.8888888888888888,
              "#fdca26"
             ],
             [
              1,
              "#f0f921"
             ]
            ],
            "type": "surface"
           }
          ],
          "table": [
           {
            "cells": {
             "fill": {
              "color": "#EBF0F8"
             },
             "line": {
              "color": "white"
             }
            },
            "header": {
             "fill": {
              "color": "#C8D4E3"
             },
             "line": {
              "color": "white"
             }
            },
            "type": "table"
           }
          ]
         },
         "layout": {
          "annotationdefaults": {
           "arrowcolor": "#2a3f5f",
           "arrowhead": 0,
           "arrowwidth": 1
          },
          "autotypenumbers": "strict",
          "coloraxis": {
           "colorbar": {
            "outlinewidth": 0,
            "ticks": ""
           }
          },
          "colorscale": {
           "diverging": [
            [
             0,
             "#8e0152"
            ],
            [
             0.1,
             "#c51b7d"
            ],
            [
             0.2,
             "#de77ae"
            ],
            [
             0.3,
             "#f1b6da"
            ],
            [
             0.4,
             "#fde0ef"
            ],
            [
             0.5,
             "#f7f7f7"
            ],
            [
             0.6,
             "#e6f5d0"
            ],
            [
             0.7,
             "#b8e186"
            ],
            [
             0.8,
             "#7fbc41"
            ],
            [
             0.9,
             "#4d9221"
            ],
            [
             1,
             "#276419"
            ]
           ],
           "sequential": [
            [
             0,
             "#0d0887"
            ],
            [
             0.1111111111111111,
             "#46039f"
            ],
            [
             0.2222222222222222,
             "#7201a8"
            ],
            [
             0.3333333333333333,
             "#9c179e"
            ],
            [
             0.4444444444444444,
             "#bd3786"
            ],
            [
             0.5555555555555556,
             "#d8576b"
            ],
            [
             0.6666666666666666,
             "#ed7953"
            ],
            [
             0.7777777777777778,
             "#fb9f3a"
            ],
            [
             0.8888888888888888,
             "#fdca26"
            ],
            [
             1,
             "#f0f921"
            ]
           ],
           "sequentialminus": [
            [
             0,
             "#0d0887"
            ],
            [
             0.1111111111111111,
             "#46039f"
            ],
            [
             0.2222222222222222,
             "#7201a8"
            ],
            [
             0.3333333333333333,
             "#9c179e"
            ],
            [
             0.4444444444444444,
             "#bd3786"
            ],
            [
             0.5555555555555556,
             "#d8576b"
            ],
            [
             0.6666666666666666,
             "#ed7953"
            ],
            [
             0.7777777777777778,
             "#fb9f3a"
            ],
            [
             0.8888888888888888,
             "#fdca26"
            ],
            [
             1,
             "#f0f921"
            ]
           ]
          },
          "colorway": [
           "#636efa",
           "#EF553B",
           "#00cc96",
           "#ab63fa",
           "#FFA15A",
           "#19d3f3",
           "#FF6692",
           "#B6E880",
           "#FF97FF",
           "#FECB52"
          ],
          "font": {
           "color": "#2a3f5f"
          },
          "geo": {
           "bgcolor": "white",
           "lakecolor": "white",
           "landcolor": "white",
           "showlakes": true,
           "showland": true,
           "subunitcolor": "#C8D4E3"
          },
          "hoverlabel": {
           "align": "left"
          },
          "hovermode": "closest",
          "mapbox": {
           "style": "light"
          },
          "paper_bgcolor": "white",
          "plot_bgcolor": "white",
          "polar": {
           "angularaxis": {
            "gridcolor": "#EBF0F8",
            "linecolor": "#EBF0F8",
            "ticks": ""
           },
           "bgcolor": "white",
           "radialaxis": {
            "gridcolor": "#EBF0F8",
            "linecolor": "#EBF0F8",
            "ticks": ""
           }
          },
          "scene": {
           "xaxis": {
            "backgroundcolor": "white",
            "gridcolor": "#DFE8F3",
            "gridwidth": 2,
            "linecolor": "#EBF0F8",
            "showbackground": true,
            "ticks": "",
            "zerolinecolor": "#EBF0F8"
           },
           "yaxis": {
            "backgroundcolor": "white",
            "gridcolor": "#DFE8F3",
            "gridwidth": 2,
            "linecolor": "#EBF0F8",
            "showbackground": true,
            "ticks": "",
            "zerolinecolor": "#EBF0F8"
           },
           "zaxis": {
            "backgroundcolor": "white",
            "gridcolor": "#DFE8F3",
            "gridwidth": 2,
            "linecolor": "#EBF0F8",
            "showbackground": true,
            "ticks": "",
            "zerolinecolor": "#EBF0F8"
           }
          },
          "shapedefaults": {
           "line": {
            "color": "#2a3f5f"
           }
          },
          "ternary": {
           "aaxis": {
            "gridcolor": "#DFE8F3",
            "linecolor": "#A2B1C6",
            "ticks": ""
           },
           "baxis": {
            "gridcolor": "#DFE8F3",
            "linecolor": "#A2B1C6",
            "ticks": ""
           },
           "bgcolor": "white",
           "caxis": {
            "gridcolor": "#DFE8F3",
            "linecolor": "#A2B1C6",
            "ticks": ""
           }
          },
          "title": {
           "x": 0.05
          },
          "xaxis": {
           "automargin": true,
           "gridcolor": "#EBF0F8",
           "linecolor": "#EBF0F8",
           "ticks": "",
           "title": {
            "standoff": 15
           },
           "zerolinecolor": "#EBF0F8",
           "zerolinewidth": 2
          },
          "yaxis": {
           "automargin": true,
           "gridcolor": "#EBF0F8",
           "linecolor": "#EBF0F8",
           "ticks": "",
           "title": {
            "standoff": 15
           },
           "zerolinecolor": "#EBF0F8",
           "zerolinewidth": 2
          }
         }
        }
       }
      }
     },
     "metadata": {},
     "output_type": "display_data"
    },
    {
     "name": "stdout",
     "output_type": "stream",
     "text": [
      "Max utility value: \n",
      "[Fraction(0, 1) Fraction(1, 3) Fraction(1, 3) Fraction(1, 3)]\n",
      "[0.   0.33 0.33 0.33]\n",
      "0.02203856749311295\n"
     ]
    }
   ],
   "source": [
    "budget = 1\n",
    "gridSize = (11, 11)\n",
    "target = Node(10, 5)\n",
    "strategies = list([ \n",
    "    Strategy({ Action.DOWN: frac(1, 3), Action.RIGHT: frac(1, 3), Action.LEFT: frac(1, 3) }) \n",
    "])\n",
    "enumerated_strategies = dict(enumerate(strategies, start=1))\n",
    "\n",
    "pomdp = POMDP(gridSize=gridSize, target=target, model='grid', budget=budget)\n",
    "\n",
    "# Assign strategies to the nodes\n",
    "for node in pomdp.nodes: node.assign_strategy(enumerated_strategies[1], 1)\n",
    "observations =  {n: n.strategy_id for n in pomdp.nodes if n != target}\n",
    "\n",
    "# ---------------------------------------------------------\n",
    "# get one specific utility value\n",
    "# print(pomdp.utility(enumerated_strategies, assignments)[0])\n",
    "# ---------------------------------------------------------\n",
    "\n",
    "combinations_, U = pomdp.generate_points(enumerated_strategies, observations, sections=10, write_to_file=True)\n",
    "plot_actions_4D(combinations_, U, actions = [Action.DOWN, Action.RIGHT, Action.LEFT])\n",
    "\n",
    "# get the probability distribution of the actions that maximizes the utility\n",
    "max_index = np.argmax(U)\n",
    "approx = np.around(list(map(float, combinations_[max_index][0])), 2)\n",
    "\n",
    "print('Max utility value: ')\n",
    "print(combinations_[max_index][0])\n",
    "print(approx)\n",
    "print(U[max_index]) # 0.07480985633519664"
   ]
  },
  {
   "cell_type": "markdown",
   "metadata": {},
   "source": [
    "10x10 grid with the target close to the bottom left."
   ]
  },
  {
   "cell_type": "code",
   "execution_count": 5,
   "metadata": {},
   "outputs": [
    {
     "data": {
      "application/vnd.plotly.v1+json": {
       "config": {
        "plotlyServerURL": "https://plot.ly"
       },
       "data": [
        {
         "marker": {
          "color": [
           "blue",
           "blue",
           "blue",
           "blue",
           "blue",
           "blue",
           "blue",
           "blue",
           "blue",
           "blue",
           "blue",
           "blue",
           "blue",
           "blue",
           "blue",
           "blue",
           "blue",
           "blue",
           "blue",
           "blue",
           "blue",
           "blue",
           "blue",
           "blue",
           "blue",
           "blue",
           "blue",
           "blue",
           "blue",
           "blue",
           "blue",
           "blue",
           "blue",
           "blue",
           "blue",
           "blue",
           "blue",
           "blue",
           "blue",
           "blue",
           "blue",
           "blue",
           "blue",
           "blue",
           "blue",
           "blue",
           "blue",
           "blue",
           "blue",
           "blue",
           "blue",
           "blue",
           "blue",
           "blue",
           "blue",
           "blue",
           "blue",
           "blue",
           "blue",
           "blue",
           "blue",
           "blue",
           "blue",
           "blue",
           "blue",
           "blue",
           "blue",
           "blue",
           "blue",
           "blue",
           "blue",
           "blue",
           "blue",
           "blue",
           "blue",
           "blue",
           "blue",
           "blue",
           "blue",
           "blue",
           "blue",
           "blue",
           "blue",
           "blue",
           "blue",
           "blue",
           "blue",
           "blue",
           "blue",
           "blue",
           "blue",
           "blue",
           "blue",
           "blue",
           "blue",
           "blue",
           "blue",
           "blue",
           "blue",
           "blue",
           "blue",
           "blue",
           "blue",
           "blue",
           "blue",
           "blue",
           "blue",
           "blue",
           "blue",
           "blue",
           "blue",
           "blue",
           "blue",
           "blue",
           "blue",
           "blue",
           "blue",
           "blue",
           "blue",
           "blue",
           "blue",
           "blue",
           "blue",
           "blue",
           "blue",
           "blue",
           "blue",
           "blue",
           "blue",
           "blue",
           "blue",
           "blue",
           "blue",
           "blue",
           "blue",
           "blue",
           "blue",
           "blue",
           "blue",
           "blue",
           "blue",
           "blue",
           "blue",
           "blue",
           "blue",
           "blue",
           "red",
           "blue",
           "blue",
           "blue",
           "blue",
           "blue",
           "blue",
           "blue",
           "blue",
           "blue",
           "blue",
           "blue",
           "blue",
           "blue",
           "blue",
           "blue",
           "blue",
           "blue",
           "blue",
           "blue",
           "blue",
           "blue",
           "blue",
           "blue",
           "blue",
           "blue",
           "blue",
           "blue",
           "blue",
           "blue",
           "blue",
           "blue",
           "blue",
           "blue",
           "blue",
           "blue",
           "blue",
           "blue",
           "blue",
           "blue",
           "blue",
           "blue",
           "blue",
           "blue",
           "blue",
           "blue",
           "blue",
           "blue",
           "blue",
           "blue",
           "blue",
           "blue",
           "blue",
           "blue",
           "blue",
           "blue",
           "blue",
           "blue",
           "blue",
           "blue",
           "blue",
           "blue",
           "blue",
           "blue"
          ],
          "opacity": 0.7,
          "size": [
           1,
           1,
           1,
           1,
           1,
           1,
           1,
           1,
           1,
           1,
           1,
           1,
           1,
           1,
           1,
           1,
           1,
           1,
           1,
           1,
           1,
           4.523131668321097,
           4.8384563010706,
           4.952689823899581,
           5.004667700363431,
           5.01987891763008,
           4.990618932150079,
           4.86803563743471,
           4.523848390870988,
           3.785341454157863,
           2.7202414391515077,
           1.7567152995318687,
           1.2257809572637903,
           1.0458080053905063,
           1.0061628916353103,
           1.0004763730437678,
           1.0000141247356025,
           1.0000000417001509,
           1,
           1,
           7.1224619401588685,
           8.097793146571405,
           8.471075400141787,
           8.623581742935404,
           8.612362797325167,
           8.359672585495451,
           7.6216337829426655,
           6.08349186551269,
           3.9817535183279493,
           2.2483237419248536,
           1.3645241767157414,
           1.0734854580586455,
           1.0098085205951262,
           1.0007485091063149,
           1.0000218444323166,
           1.0000000634042836,
           1,
           1,
           9.185771592459085,
           10.925887446645763,
           11.598002543634228,
           11.799794824664861,
           11.564483403602342,
           10.63887155396335,
           8.613417858441283,
           5.646997024372776,
           3.007347186190907,
           1.597271335332185,
           1.1212823699073773,
           1.0161097402143904,
           1.0012129102599794,
           1.0000347749093783,
           1.0000000990154512,
           1,
           1,
           10.927467272910611,
           13.414898999320583,
           14.32387283640219,
           14.387285690732867,
           13.53229862399247,
           11.358547625199291,
           7.818225732989196,
           4.189060927692983,
           1.9988024120460395,
           1.2069108133135318,
           1.0274327946424007,
           1.0020360974354972,
           1.0000572196634083,
           1.000000159395029,
           1,
           1,
           12.477244544925668,
           15.60664466667951,
           16.569411232863086,
           16.143974902199737,
           14.159119630586456,
           10.430925319178218,
           5.930932010470181,
           2.69049944252498,
           1.3653295298212131,
           1.048672856931245,
           1.003560258329278,
           1.0000978085739831,
           1.0000002656848674,
           1,
           1,
           13.913034153935763,
           17.48375881230284,
           18.1745118147142,
           16.791983195875808,
           13.297328755285704,
           8.284674768007688,
           3.8458485818895016,
           1.6653099546877712,
           1.090402022727547,
           1.0065274227813048,
           1.0001747803090453,
           1.0000004610732918,
           1,
           1,
           15.266983339626035,
           18.9562520573742,
           18.921755352559654,
           16.14694453549835,
           11.143294941191854,
           5.650403913686832,
           2.236189416723158,
           1.176337197395563,
           1.0126463360532438,
           1.0003290949184775,
           1.0000008388544963,
           1,
           1,
           16.517099467316335,
           19.862045945778252,
           18.609577230182968,
           14.233699235843103,
           8.187585386766475,
           3.293008702371088,
           1.3609574684061783,
           1.0261216441033776,
           1.000659491801065,
           1.0000016141774535,
           1,
           1,
           17.57537779612591,
           20,
           17.145048991142264,
           11.306985532216178,
           5.104005524242262,
           1.7678957761854157,
           1.0580576349022195,
           1.0014246831206035,
           1.0000033231985308,
           1,
           1,
           18.285618058552988,
           19.195000985239236,
           14.597107757144439,
           7.813231102833948,
           2.6523530838348908,
           1.1398579287363266,
           1.0033730097516966,
           1.0000074327939426,
           1,
           1,
           18.44379143101464,
           17.36509100021414,
           11.189917697801778,
           4.411296583600139,
           1.3645177070966656,
           1.0089400252317011,
           1.0000184437584327,
           1,
           1,
           17.843456569249767,
           14.552687028913269,
           7.3028503832106875,
           1.9984557923605015,
           1.0272356705305217,
           1.0000523087727526,
           1,
           1,
           16.330345414821068,
           10.916330851090496,
           3.629494968032363,
           1.0979767498235897,
           1.0001772117934329,
           1,
           1,
           13.84142107317902,
           6.747402902194651,
           1.415406332001959,
           1.0007684010142008,
           1,
           1,
           10.41777107193698,
           2.789424209622218,
           1.004779798167244,
           1,
           1,
           6.216190252076179,
           1.0511898780280267,
           1,
           1,
           1.9091592974383707,
           1,
           1,
           1,
           1
          ]
         },
         "mode": "markers",
         "type": "scatter3d",
         "x": [
          0,
          0,
          0,
          0,
          0,
          0,
          0,
          0,
          0,
          0,
          0,
          0,
          0,
          0,
          0,
          0,
          0,
          0,
          0,
          0,
          0.05263157894736842,
          0.05263157894736842,
          0.05263157894736842,
          0.05263157894736842,
          0.05263157894736842,
          0.05263157894736842,
          0.05263157894736842,
          0.05263157894736842,
          0.05263157894736842,
          0.05263157894736842,
          0.05263157894736842,
          0.05263157894736842,
          0.05263157894736842,
          0.05263157894736842,
          0.05263157894736842,
          0.05263157894736842,
          0.05263157894736842,
          0.05263157894736842,
          0.05263157894736842,
          0.10526315789473684,
          0.10526315789473684,
          0.10526315789473684,
          0.10526315789473684,
          0.10526315789473684,
          0.10526315789473684,
          0.10526315789473684,
          0.10526315789473684,
          0.10526315789473684,
          0.10526315789473684,
          0.10526315789473684,
          0.10526315789473684,
          0.10526315789473684,
          0.10526315789473684,
          0.10526315789473684,
          0.10526315789473684,
          0.10526315789473684,
          0.10526315789473684,
          0.15789473684210525,
          0.15789473684210525,
          0.15789473684210525,
          0.15789473684210525,
          0.15789473684210525,
          0.15789473684210525,
          0.15789473684210525,
          0.15789473684210525,
          0.15789473684210525,
          0.15789473684210525,
          0.15789473684210525,
          0.15789473684210525,
          0.15789473684210525,
          0.15789473684210525,
          0.15789473684210525,
          0.15789473684210525,
          0.15789473684210525,
          0.21052631578947367,
          0.21052631578947367,
          0.21052631578947367,
          0.21052631578947367,
          0.21052631578947367,
          0.21052631578947367,
          0.21052631578947367,
          0.21052631578947367,
          0.21052631578947367,
          0.21052631578947367,
          0.21052631578947367,
          0.21052631578947367,
          0.21052631578947367,
          0.21052631578947367,
          0.21052631578947367,
          0.21052631578947367,
          0.2631578947368421,
          0.2631578947368421,
          0.2631578947368421,
          0.2631578947368421,
          0.2631578947368421,
          0.2631578947368421,
          0.2631578947368421,
          0.2631578947368421,
          0.2631578947368421,
          0.2631578947368421,
          0.2631578947368421,
          0.2631578947368421,
          0.2631578947368421,
          0.2631578947368421,
          0.2631578947368421,
          0.3157894736842105,
          0.3157894736842105,
          0.3157894736842105,
          0.3157894736842105,
          0.3157894736842105,
          0.3157894736842105,
          0.3157894736842105,
          0.3157894736842105,
          0.3157894736842105,
          0.3157894736842105,
          0.3157894736842105,
          0.3157894736842105,
          0.3157894736842105,
          0.3157894736842105,
          0.3684210526315789,
          0.3684210526315789,
          0.3684210526315789,
          0.3684210526315789,
          0.3684210526315789,
          0.3684210526315789,
          0.3684210526315789,
          0.3684210526315789,
          0.3684210526315789,
          0.3684210526315789,
          0.3684210526315789,
          0.3684210526315789,
          0.3684210526315789,
          0.42105263157894735,
          0.42105263157894735,
          0.42105263157894735,
          0.42105263157894735,
          0.42105263157894735,
          0.42105263157894735,
          0.42105263157894735,
          0.42105263157894735,
          0.42105263157894735,
          0.42105263157894735,
          0.42105263157894735,
          0.42105263157894735,
          0.47368421052631576,
          0.47368421052631576,
          0.47368421052631576,
          0.47368421052631576,
          0.47368421052631576,
          0.47368421052631576,
          0.47368421052631576,
          0.47368421052631576,
          0.47368421052631576,
          0.47368421052631576,
          0.47368421052631576,
          0.5263157894736842,
          0.5263157894736842,
          0.5263157894736842,
          0.5263157894736842,
          0.5263157894736842,
          0.5263157894736842,
          0.5263157894736842,
          0.5263157894736842,
          0.5263157894736842,
          0.5263157894736842,
          0.5789473684210527,
          0.5789473684210527,
          0.5789473684210527,
          0.5789473684210527,
          0.5789473684210527,
          0.5789473684210527,
          0.5789473684210527,
          0.5789473684210527,
          0.5789473684210527,
          0.631578947368421,
          0.631578947368421,
          0.631578947368421,
          0.631578947368421,
          0.631578947368421,
          0.631578947368421,
          0.631578947368421,
          0.631578947368421,
          0.6842105263157895,
          0.6842105263157895,
          0.6842105263157895,
          0.6842105263157895,
          0.6842105263157895,
          0.6842105263157895,
          0.6842105263157895,
          0.7368421052631579,
          0.7368421052631579,
          0.7368421052631579,
          0.7368421052631579,
          0.7368421052631579,
          0.7368421052631579,
          0.7894736842105263,
          0.7894736842105263,
          0.7894736842105263,
          0.7894736842105263,
          0.7894736842105263,
          0.8421052631578947,
          0.8421052631578947,
          0.8421052631578947,
          0.8421052631578947,
          0.8947368421052632,
          0.8947368421052632,
          0.8947368421052632,
          0.9473684210526315,
          0.9473684210526315,
          1
         ],
         "y": [
          0,
          0.05263157894736842,
          0.10526315789473684,
          0.15789473684210525,
          0.21052631578947367,
          0.2631578947368421,
          0.3157894736842105,
          0.3684210526315789,
          0.42105263157894735,
          0.47368421052631576,
          0.5263157894736842,
          0.5789473684210527,
          0.631578947368421,
          0.6842105263157895,
          0.7368421052631579,
          0.7894736842105263,
          0.8421052631578947,
          0.8947368421052632,
          0.9473684210526315,
          1,
          0,
          0.05263157894736842,
          0.10526315789473684,
          0.15789473684210525,
          0.21052631578947367,
          0.2631578947368421,
          0.3157894736842105,
          0.3684210526315789,
          0.42105263157894735,
          0.47368421052631576,
          0.5263157894736842,
          0.5789473684210527,
          0.631578947368421,
          0.6842105263157895,
          0.7368421052631579,
          0.7894736842105263,
          0.8421052631578947,
          0.8947368421052632,
          0.9473684210526315,
          0,
          0.05263157894736842,
          0.10526315789473684,
          0.15789473684210525,
          0.21052631578947367,
          0.2631578947368421,
          0.3157894736842105,
          0.3684210526315789,
          0.42105263157894735,
          0.47368421052631576,
          0.5263157894736842,
          0.5789473684210527,
          0.631578947368421,
          0.6842105263157895,
          0.7368421052631579,
          0.7894736842105263,
          0.8421052631578947,
          0.8947368421052632,
          0,
          0.05263157894736842,
          0.10526315789473684,
          0.15789473684210525,
          0.21052631578947367,
          0.2631578947368421,
          0.3157894736842105,
          0.3684210526315789,
          0.42105263157894735,
          0.47368421052631576,
          0.5263157894736842,
          0.5789473684210527,
          0.631578947368421,
          0.6842105263157895,
          0.7368421052631579,
          0.7894736842105263,
          0.8421052631578947,
          0,
          0.05263157894736842,
          0.10526315789473684,
          0.15789473684210525,
          0.21052631578947367,
          0.2631578947368421,
          0.3157894736842105,
          0.3684210526315789,
          0.42105263157894735,
          0.47368421052631576,
          0.5263157894736842,
          0.5789473684210527,
          0.631578947368421,
          0.6842105263157895,
          0.7368421052631579,
          0.7894736842105263,
          0,
          0.05263157894736842,
          0.10526315789473684,
          0.15789473684210525,
          0.21052631578947367,
          0.2631578947368421,
          0.3157894736842105,
          0.3684210526315789,
          0.42105263157894735,
          0.47368421052631576,
          0.5263157894736842,
          0.5789473684210527,
          0.631578947368421,
          0.6842105263157895,
          0.7368421052631579,
          0,
          0.05263157894736842,
          0.10526315789473684,
          0.15789473684210525,
          0.21052631578947367,
          0.2631578947368421,
          0.3157894736842105,
          0.3684210526315789,
          0.42105263157894735,
          0.47368421052631576,
          0.5263157894736842,
          0.5789473684210527,
          0.631578947368421,
          0.6842105263157895,
          0,
          0.05263157894736842,
          0.10526315789473684,
          0.15789473684210525,
          0.21052631578947367,
          0.2631578947368421,
          0.3157894736842105,
          0.3684210526315789,
          0.42105263157894735,
          0.47368421052631576,
          0.5263157894736842,
          0.5789473684210527,
          0.631578947368421,
          0,
          0.05263157894736842,
          0.10526315789473684,
          0.15789473684210525,
          0.21052631578947367,
          0.2631578947368421,
          0.3157894736842105,
          0.3684210526315789,
          0.42105263157894735,
          0.47368421052631576,
          0.5263157894736842,
          0.5789473684210527,
          0,
          0.05263157894736842,
          0.10526315789473684,
          0.15789473684210525,
          0.21052631578947367,
          0.2631578947368421,
          0.3157894736842105,
          0.3684210526315789,
          0.42105263157894735,
          0.47368421052631576,
          0.5263157894736842,
          0,
          0.05263157894736842,
          0.10526315789473684,
          0.15789473684210525,
          0.21052631578947367,
          0.2631578947368421,
          0.3157894736842105,
          0.3684210526315789,
          0.42105263157894735,
          0.47368421052631576,
          0,
          0.05263157894736842,
          0.10526315789473684,
          0.15789473684210525,
          0.21052631578947367,
          0.2631578947368421,
          0.3157894736842105,
          0.3684210526315789,
          0.42105263157894735,
          0,
          0.05263157894736842,
          0.10526315789473684,
          0.15789473684210525,
          0.21052631578947367,
          0.2631578947368421,
          0.3157894736842105,
          0.3684210526315789,
          0,
          0.05263157894736842,
          0.10526315789473684,
          0.15789473684210525,
          0.21052631578947367,
          0.2631578947368421,
          0.3157894736842105,
          0,
          0.05263157894736842,
          0.10526315789473684,
          0.15789473684210525,
          0.21052631578947367,
          0.2631578947368421,
          0,
          0.05263157894736842,
          0.10526315789473684,
          0.15789473684210525,
          0.21052631578947367,
          0,
          0.05263157894736842,
          0.10526315789473684,
          0.15789473684210525,
          0,
          0.05263157894736842,
          0.10526315789473684,
          0,
          0.05263157894736842,
          0
         ],
         "z": [
          1,
          0.9473684210526315,
          0.8947368421052632,
          0.8421052631578947,
          0.7894736842105263,
          0.7368421052631579,
          0.6842105263157895,
          0.631578947368421,
          0.5789473684210527,
          0.5263157894736842,
          0.47368421052631576,
          0.42105263157894735,
          0.3684210526315789,
          0.3157894736842105,
          0.2631578947368421,
          0.21052631578947367,
          0.15789473684210525,
          0.10526315789473684,
          0.05263157894736842,
          0,
          0.9473684210526315,
          0.8947368421052632,
          0.8421052631578947,
          0.7894736842105263,
          0.7368421052631579,
          0.6842105263157895,
          0.631578947368421,
          0.5789473684210527,
          0.5263157894736842,
          0.47368421052631576,
          0.42105263157894735,
          0.3684210526315789,
          0.3157894736842105,
          0.2631578947368421,
          0.21052631578947367,
          0.15789473684210525,
          0.10526315789473684,
          0.05263157894736842,
          0,
          0.8947368421052632,
          0.8421052631578947,
          0.7894736842105263,
          0.7368421052631579,
          0.6842105263157895,
          0.631578947368421,
          0.5789473684210527,
          0.5263157894736842,
          0.47368421052631576,
          0.42105263157894735,
          0.3684210526315789,
          0.3157894736842105,
          0.2631578947368421,
          0.21052631578947367,
          0.15789473684210525,
          0.10526315789473684,
          0.05263157894736842,
          0,
          0.8421052631578947,
          0.7894736842105263,
          0.7368421052631579,
          0.6842105263157895,
          0.631578947368421,
          0.5789473684210527,
          0.5263157894736842,
          0.47368421052631576,
          0.42105263157894735,
          0.3684210526315789,
          0.3157894736842105,
          0.2631578947368421,
          0.21052631578947367,
          0.15789473684210525,
          0.10526315789473684,
          0.05263157894736842,
          0,
          0.7894736842105263,
          0.7368421052631579,
          0.6842105263157895,
          0.631578947368421,
          0.5789473684210527,
          0.5263157894736842,
          0.47368421052631576,
          0.42105263157894735,
          0.3684210526315789,
          0.3157894736842105,
          0.2631578947368421,
          0.21052631578947367,
          0.15789473684210525,
          0.10526315789473684,
          0.05263157894736842,
          0,
          0.7368421052631579,
          0.6842105263157895,
          0.631578947368421,
          0.5789473684210527,
          0.5263157894736842,
          0.47368421052631576,
          0.42105263157894735,
          0.3684210526315789,
          0.3157894736842105,
          0.2631578947368421,
          0.21052631578947367,
          0.15789473684210525,
          0.10526315789473684,
          0.05263157894736842,
          0,
          0.6842105263157895,
          0.631578947368421,
          0.5789473684210527,
          0.5263157894736842,
          0.47368421052631576,
          0.42105263157894735,
          0.3684210526315789,
          0.3157894736842105,
          0.2631578947368421,
          0.21052631578947367,
          0.15789473684210525,
          0.10526315789473684,
          0.05263157894736842,
          0,
          0.631578947368421,
          0.5789473684210527,
          0.5263157894736842,
          0.47368421052631576,
          0.42105263157894735,
          0.3684210526315789,
          0.3157894736842105,
          0.2631578947368421,
          0.21052631578947367,
          0.15789473684210525,
          0.10526315789473684,
          0.05263157894736842,
          0,
          0.5789473684210527,
          0.5263157894736842,
          0.47368421052631576,
          0.42105263157894735,
          0.3684210526315789,
          0.3157894736842105,
          0.2631578947368421,
          0.21052631578947367,
          0.15789473684210525,
          0.10526315789473684,
          0.05263157894736842,
          0,
          0.5263157894736842,
          0.47368421052631576,
          0.42105263157894735,
          0.3684210526315789,
          0.3157894736842105,
          0.2631578947368421,
          0.21052631578947367,
          0.15789473684210525,
          0.10526315789473684,
          0.05263157894736842,
          0,
          0.47368421052631576,
          0.42105263157894735,
          0.3684210526315789,
          0.3157894736842105,
          0.2631578947368421,
          0.21052631578947367,
          0.15789473684210525,
          0.10526315789473684,
          0.05263157894736842,
          0,
          0.42105263157894735,
          0.3684210526315789,
          0.3157894736842105,
          0.2631578947368421,
          0.21052631578947367,
          0.15789473684210525,
          0.10526315789473684,
          0.05263157894736842,
          0,
          0.3684210526315789,
          0.3157894736842105,
          0.2631578947368421,
          0.21052631578947367,
          0.15789473684210525,
          0.10526315789473684,
          0.05263157894736842,
          0,
          0.3157894736842105,
          0.2631578947368421,
          0.21052631578947367,
          0.15789473684210525,
          0.10526315789473684,
          0.05263157894736842,
          0,
          0.2631578947368421,
          0.21052631578947367,
          0.15789473684210525,
          0.10526315789473684,
          0.05263157894736842,
          0,
          0.21052631578947367,
          0.15789473684210525,
          0.10526315789473684,
          0.05263157894736842,
          0,
          0.15789473684210525,
          0.10526315789473684,
          0.05263157894736842,
          0,
          0.10526315789473684,
          0.05263157894736842,
          0,
          0.05263157894736842,
          0,
          0
         ]
        }
       ],
       "layout": {
        "scene": {
         "xaxis": {
          "title": {
           "text": "d"
          }
         },
         "yaxis": {
          "title": {
           "text": "r"
          }
         },
         "zaxis": {
          "title": {
           "text": "l"
          }
         }
        },
        "template": {
         "data": {
          "bar": [
           {
            "error_x": {
             "color": "#2a3f5f"
            },
            "error_y": {
             "color": "#2a3f5f"
            },
            "marker": {
             "line": {
              "color": "white",
              "width": 0.5
             },
             "pattern": {
              "fillmode": "overlay",
              "size": 10,
              "solidity": 0.2
             }
            },
            "type": "bar"
           }
          ],
          "barpolar": [
           {
            "marker": {
             "line": {
              "color": "white",
              "width": 0.5
             },
             "pattern": {
              "fillmode": "overlay",
              "size": 10,
              "solidity": 0.2
             }
            },
            "type": "barpolar"
           }
          ],
          "carpet": [
           {
            "aaxis": {
             "endlinecolor": "#2a3f5f",
             "gridcolor": "#C8D4E3",
             "linecolor": "#C8D4E3",
             "minorgridcolor": "#C8D4E3",
             "startlinecolor": "#2a3f5f"
            },
            "baxis": {
             "endlinecolor": "#2a3f5f",
             "gridcolor": "#C8D4E3",
             "linecolor": "#C8D4E3",
             "minorgridcolor": "#C8D4E3",
             "startlinecolor": "#2a3f5f"
            },
            "type": "carpet"
           }
          ],
          "choropleth": [
           {
            "colorbar": {
             "outlinewidth": 0,
             "ticks": ""
            },
            "type": "choropleth"
           }
          ],
          "contour": [
           {
            "colorbar": {
             "outlinewidth": 0,
             "ticks": ""
            },
            "colorscale": [
             [
              0,
              "#0d0887"
             ],
             [
              0.1111111111111111,
              "#46039f"
             ],
             [
              0.2222222222222222,
              "#7201a8"
             ],
             [
              0.3333333333333333,
              "#9c179e"
             ],
             [
              0.4444444444444444,
              "#bd3786"
             ],
             [
              0.5555555555555556,
              "#d8576b"
             ],
             [
              0.6666666666666666,
              "#ed7953"
             ],
             [
              0.7777777777777778,
              "#fb9f3a"
             ],
             [
              0.8888888888888888,
              "#fdca26"
             ],
             [
              1,
              "#f0f921"
             ]
            ],
            "type": "contour"
           }
          ],
          "contourcarpet": [
           {
            "colorbar": {
             "outlinewidth": 0,
             "ticks": ""
            },
            "type": "contourcarpet"
           }
          ],
          "heatmap": [
           {
            "colorbar": {
             "outlinewidth": 0,
             "ticks": ""
            },
            "colorscale": [
             [
              0,
              "#0d0887"
             ],
             [
              0.1111111111111111,
              "#46039f"
             ],
             [
              0.2222222222222222,
              "#7201a8"
             ],
             [
              0.3333333333333333,
              "#9c179e"
             ],
             [
              0.4444444444444444,
              "#bd3786"
             ],
             [
              0.5555555555555556,
              "#d8576b"
             ],
             [
              0.6666666666666666,
              "#ed7953"
             ],
             [
              0.7777777777777778,
              "#fb9f3a"
             ],
             [
              0.8888888888888888,
              "#fdca26"
             ],
             [
              1,
              "#f0f921"
             ]
            ],
            "type": "heatmap"
           }
          ],
          "heatmapgl": [
           {
            "colorbar": {
             "outlinewidth": 0,
             "ticks": ""
            },
            "colorscale": [
             [
              0,
              "#0d0887"
             ],
             [
              0.1111111111111111,
              "#46039f"
             ],
             [
              0.2222222222222222,
              "#7201a8"
             ],
             [
              0.3333333333333333,
              "#9c179e"
             ],
             [
              0.4444444444444444,
              "#bd3786"
             ],
             [
              0.5555555555555556,
              "#d8576b"
             ],
             [
              0.6666666666666666,
              "#ed7953"
             ],
             [
              0.7777777777777778,
              "#fb9f3a"
             ],
             [
              0.8888888888888888,
              "#fdca26"
             ],
             [
              1,
              "#f0f921"
             ]
            ],
            "type": "heatmapgl"
           }
          ],
          "histogram": [
           {
            "marker": {
             "pattern": {
              "fillmode": "overlay",
              "size": 10,
              "solidity": 0.2
             }
            },
            "type": "histogram"
           }
          ],
          "histogram2d": [
           {
            "colorbar": {
             "outlinewidth": 0,
             "ticks": ""
            },
            "colorscale": [
             [
              0,
              "#0d0887"
             ],
             [
              0.1111111111111111,
              "#46039f"
             ],
             [
              0.2222222222222222,
              "#7201a8"
             ],
             [
              0.3333333333333333,
              "#9c179e"
             ],
             [
              0.4444444444444444,
              "#bd3786"
             ],
             [
              0.5555555555555556,
              "#d8576b"
             ],
             [
              0.6666666666666666,
              "#ed7953"
             ],
             [
              0.7777777777777778,
              "#fb9f3a"
             ],
             [
              0.8888888888888888,
              "#fdca26"
             ],
             [
              1,
              "#f0f921"
             ]
            ],
            "type": "histogram2d"
           }
          ],
          "histogram2dcontour": [
           {
            "colorbar": {
             "outlinewidth": 0,
             "ticks": ""
            },
            "colorscale": [
             [
              0,
              "#0d0887"
             ],
             [
              0.1111111111111111,
              "#46039f"
             ],
             [
              0.2222222222222222,
              "#7201a8"
             ],
             [
              0.3333333333333333,
              "#9c179e"
             ],
             [
              0.4444444444444444,
              "#bd3786"
             ],
             [
              0.5555555555555556,
              "#d8576b"
             ],
             [
              0.6666666666666666,
              "#ed7953"
             ],
             [
              0.7777777777777778,
              "#fb9f3a"
             ],
             [
              0.8888888888888888,
              "#fdca26"
             ],
             [
              1,
              "#f0f921"
             ]
            ],
            "type": "histogram2dcontour"
           }
          ],
          "mesh3d": [
           {
            "colorbar": {
             "outlinewidth": 0,
             "ticks": ""
            },
            "type": "mesh3d"
           }
          ],
          "parcoords": [
           {
            "line": {
             "colorbar": {
              "outlinewidth": 0,
              "ticks": ""
             }
            },
            "type": "parcoords"
           }
          ],
          "pie": [
           {
            "automargin": true,
            "type": "pie"
           }
          ],
          "scatter": [
           {
            "fillpattern": {
             "fillmode": "overlay",
             "size": 10,
             "solidity": 0.2
            },
            "type": "scatter"
           }
          ],
          "scatter3d": [
           {
            "line": {
             "colorbar": {
              "outlinewidth": 0,
              "ticks": ""
             }
            },
            "marker": {
             "colorbar": {
              "outlinewidth": 0,
              "ticks": ""
             }
            },
            "type": "scatter3d"
           }
          ],
          "scattercarpet": [
           {
            "marker": {
             "colorbar": {
              "outlinewidth": 0,
              "ticks": ""
             }
            },
            "type": "scattercarpet"
           }
          ],
          "scattergeo": [
           {
            "marker": {
             "colorbar": {
              "outlinewidth": 0,
              "ticks": ""
             }
            },
            "type": "scattergeo"
           }
          ],
          "scattergl": [
           {
            "marker": {
             "colorbar": {
              "outlinewidth": 0,
              "ticks": ""
             }
            },
            "type": "scattergl"
           }
          ],
          "scattermapbox": [
           {
            "marker": {
             "colorbar": {
              "outlinewidth": 0,
              "ticks": ""
             }
            },
            "type": "scattermapbox"
           }
          ],
          "scatterpolar": [
           {
            "marker": {
             "colorbar": {
              "outlinewidth": 0,
              "ticks": ""
             }
            },
            "type": "scatterpolar"
           }
          ],
          "scatterpolargl": [
           {
            "marker": {
             "colorbar": {
              "outlinewidth": 0,
              "ticks": ""
             }
            },
            "type": "scatterpolargl"
           }
          ],
          "scatterternary": [
           {
            "marker": {
             "colorbar": {
              "outlinewidth": 0,
              "ticks": ""
             }
            },
            "type": "scatterternary"
           }
          ],
          "surface": [
           {
            "colorbar": {
             "outlinewidth": 0,
             "ticks": ""
            },
            "colorscale": [
             [
              0,
              "#0d0887"
             ],
             [
              0.1111111111111111,
              "#46039f"
             ],
             [
              0.2222222222222222,
              "#7201a8"
             ],
             [
              0.3333333333333333,
              "#9c179e"
             ],
             [
              0.4444444444444444,
              "#bd3786"
             ],
             [
              0.5555555555555556,
              "#d8576b"
             ],
             [
              0.6666666666666666,
              "#ed7953"
             ],
             [
              0.7777777777777778,
              "#fb9f3a"
             ],
             [
              0.8888888888888888,
              "#fdca26"
             ],
             [
              1,
              "#f0f921"
             ]
            ],
            "type": "surface"
           }
          ],
          "table": [
           {
            "cells": {
             "fill": {
              "color": "#EBF0F8"
             },
             "line": {
              "color": "white"
             }
            },
            "header": {
             "fill": {
              "color": "#C8D4E3"
             },
             "line": {
              "color": "white"
             }
            },
            "type": "table"
           }
          ]
         },
         "layout": {
          "annotationdefaults": {
           "arrowcolor": "#2a3f5f",
           "arrowhead": 0,
           "arrowwidth": 1
          },
          "autotypenumbers": "strict",
          "coloraxis": {
           "colorbar": {
            "outlinewidth": 0,
            "ticks": ""
           }
          },
          "colorscale": {
           "diverging": [
            [
             0,
             "#8e0152"
            ],
            [
             0.1,
             "#c51b7d"
            ],
            [
             0.2,
             "#de77ae"
            ],
            [
             0.3,
             "#f1b6da"
            ],
            [
             0.4,
             "#fde0ef"
            ],
            [
             0.5,
             "#f7f7f7"
            ],
            [
             0.6,
             "#e6f5d0"
            ],
            [
             0.7,
             "#b8e186"
            ],
            [
             0.8,
             "#7fbc41"
            ],
            [
             0.9,
             "#4d9221"
            ],
            [
             1,
             "#276419"
            ]
           ],
           "sequential": [
            [
             0,
             "#0d0887"
            ],
            [
             0.1111111111111111,
             "#46039f"
            ],
            [
             0.2222222222222222,
             "#7201a8"
            ],
            [
             0.3333333333333333,
             "#9c179e"
            ],
            [
             0.4444444444444444,
             "#bd3786"
            ],
            [
             0.5555555555555556,
             "#d8576b"
            ],
            [
             0.6666666666666666,
             "#ed7953"
            ],
            [
             0.7777777777777778,
             "#fb9f3a"
            ],
            [
             0.8888888888888888,
             "#fdca26"
            ],
            [
             1,
             "#f0f921"
            ]
           ],
           "sequentialminus": [
            [
             0,
             "#0d0887"
            ],
            [
             0.1111111111111111,
             "#46039f"
            ],
            [
             0.2222222222222222,
             "#7201a8"
            ],
            [
             0.3333333333333333,
             "#9c179e"
            ],
            [
             0.4444444444444444,
             "#bd3786"
            ],
            [
             0.5555555555555556,
             "#d8576b"
            ],
            [
             0.6666666666666666,
             "#ed7953"
            ],
            [
             0.7777777777777778,
             "#fb9f3a"
            ],
            [
             0.8888888888888888,
             "#fdca26"
            ],
            [
             1,
             "#f0f921"
            ]
           ]
          },
          "colorway": [
           "#636efa",
           "#EF553B",
           "#00cc96",
           "#ab63fa",
           "#FFA15A",
           "#19d3f3",
           "#FF6692",
           "#B6E880",
           "#FF97FF",
           "#FECB52"
          ],
          "font": {
           "color": "#2a3f5f"
          },
          "geo": {
           "bgcolor": "white",
           "lakecolor": "white",
           "landcolor": "white",
           "showlakes": true,
           "showland": true,
           "subunitcolor": "#C8D4E3"
          },
          "hoverlabel": {
           "align": "left"
          },
          "hovermode": "closest",
          "mapbox": {
           "style": "light"
          },
          "paper_bgcolor": "white",
          "plot_bgcolor": "white",
          "polar": {
           "angularaxis": {
            "gridcolor": "#EBF0F8",
            "linecolor": "#EBF0F8",
            "ticks": ""
           },
           "bgcolor": "white",
           "radialaxis": {
            "gridcolor": "#EBF0F8",
            "linecolor": "#EBF0F8",
            "ticks": ""
           }
          },
          "scene": {
           "xaxis": {
            "backgroundcolor": "white",
            "gridcolor": "#DFE8F3",
            "gridwidth": 2,
            "linecolor": "#EBF0F8",
            "showbackground": true,
            "ticks": "",
            "zerolinecolor": "#EBF0F8"
           },
           "yaxis": {
            "backgroundcolor": "white",
            "gridcolor": "#DFE8F3",
            "gridwidth": 2,
            "linecolor": "#EBF0F8",
            "showbackground": true,
            "ticks": "",
            "zerolinecolor": "#EBF0F8"
           },
           "zaxis": {
            "backgroundcolor": "white",
            "gridcolor": "#DFE8F3",
            "gridwidth": 2,
            "linecolor": "#EBF0F8",
            "showbackground": true,
            "ticks": "",
            "zerolinecolor": "#EBF0F8"
           }
          },
          "shapedefaults": {
           "line": {
            "color": "#2a3f5f"
           }
          },
          "ternary": {
           "aaxis": {
            "gridcolor": "#DFE8F3",
            "linecolor": "#A2B1C6",
            "ticks": ""
           },
           "baxis": {
            "gridcolor": "#DFE8F3",
            "linecolor": "#A2B1C6",
            "ticks": ""
           },
           "bgcolor": "white",
           "caxis": {
            "gridcolor": "#DFE8F3",
            "linecolor": "#A2B1C6",
            "ticks": ""
           }
          },
          "title": {
           "x": 0.05
          },
          "xaxis": {
           "automargin": true,
           "gridcolor": "#EBF0F8",
           "linecolor": "#EBF0F8",
           "ticks": "",
           "title": {
            "standoff": 15
           },
           "zerolinecolor": "#EBF0F8",
           "zerolinewidth": 2
          },
          "yaxis": {
           "automargin": true,
           "gridcolor": "#EBF0F8",
           "linecolor": "#EBF0F8",
           "ticks": "",
           "title": {
            "standoff": 15
           },
           "zerolinecolor": "#EBF0F8",
           "zerolinewidth": 2
          }
         }
        }
       }
      }
     },
     "metadata": {},
     "output_type": "display_data"
    },
    {
     "name": "stdout",
     "output_type": "stream",
     "text": [
      "Max utility value: \n",
      "[Fraction(0, 1) Fraction(2, 19) Fraction(9, 19) Fraction(8, 19)]\n",
      "[0.   0.11 0.47 0.42]\n",
      "0.052440814232111506\n"
     ]
    }
   ],
   "source": [
    "budget = 1\n",
    "gridSize = (10, 10)\n",
    "target = Node(9, 1)\n",
    "strategies = list([ \n",
    "    Strategy({ Action.DOWN: frac(1, 3), Action.RIGHT: frac(1, 3), Action.LEFT: frac(1, 3) }) \n",
    "])\n",
    "enumerated_strategies = dict(enumerate(strategies, start=1))\n",
    "\n",
    "pomdp = POMDP(gridSize=gridSize, target=target, model='grid', budget=budget)\n",
    "\n",
    "# Assign strategies to the nodes\n",
    "for node in pomdp.nodes: node.assign_strategy(enumerated_strategies[1], 1)\n",
    "observations =  {n: n.strategy_id for n in pomdp.nodes if n != target}\n",
    "\n",
    "# ---------------------------------------------------------\n",
    "# get one specific utility value\n",
    "# print(pomdp.utility(enumerated_strategies, assignments)[0])\n",
    "# ---------------------------------------------------------\n",
    "\n",
    "combinations_, U = pomdp.generate_points(enumerated_strategies, observations, sections=20, write_to_file=True)\n",
    "plot_actions_4D(combinations_, U, actions = [Action.DOWN, Action.RIGHT, Action.LEFT])\n",
    "\n",
    "# get the probability distribution of the actions that maximizes the utility\n",
    "max_index = np.argmax(U)\n",
    "approx = np.around(list(map(float, combinations_[max_index][0])), 2)\n",
    "\n",
    "print('Max utility value: ')\n",
    "print(combinations_[max_index][0])\n",
    "print(approx)\n",
    "print(U[max_index])"
   ]
  },
  {
   "cell_type": "markdown",
   "metadata": {},
   "source": [
    "5x5 grid with the target close to the bottom left."
   ]
  },
  {
   "cell_type": "code",
   "execution_count": 4,
   "metadata": {},
   "outputs": [
    {
     "data": {
      "application/vnd.plotly.v1+json": {
       "config": {
        "plotlyServerURL": "https://plot.ly"
       },
       "data": [
        {
         "marker": {
          "color": [
           "blue",
           "blue",
           "blue",
           "blue",
           "blue",
           "blue",
           "blue",
           "blue",
           "blue",
           "blue",
           "blue",
           "blue",
           "blue",
           "blue",
           "blue",
           "blue",
           "blue",
           "blue",
           "blue",
           "blue",
           "blue",
           "blue",
           "blue",
           "blue",
           "blue",
           "blue",
           "blue",
           "blue",
           "blue",
           "blue",
           "blue",
           "blue",
           "blue",
           "blue",
           "blue",
           "blue",
           "blue",
           "blue",
           "blue",
           "blue",
           "blue",
           "blue",
           "blue",
           "blue",
           "blue",
           "blue",
           "blue",
           "blue",
           "blue",
           "blue",
           "blue",
           "blue",
           "blue",
           "blue",
           "blue",
           "blue",
           "blue",
           "blue",
           "blue",
           "blue",
           "blue",
           "blue",
           "blue",
           "blue",
           "blue",
           "blue",
           "blue",
           "blue",
           "blue",
           "blue",
           "blue",
           "blue",
           "blue",
           "blue",
           "blue",
           "blue",
           "blue",
           "blue",
           "blue",
           "blue",
           "blue",
           "blue",
           "blue",
           "blue",
           "blue",
           "blue",
           "blue",
           "blue",
           "blue",
           "blue",
           "blue",
           "blue",
           "blue",
           "blue",
           "blue",
           "blue",
           "blue",
           "blue",
           "blue",
           "blue",
           "blue",
           "blue",
           "blue",
           "blue",
           "blue",
           "blue",
           "blue",
           "blue",
           "blue",
           "blue",
           "blue",
           "blue",
           "blue",
           "blue",
           "blue",
           "blue",
           "blue",
           "blue",
           "blue",
           "blue",
           "blue",
           "blue",
           "blue",
           "blue",
           "blue",
           "blue",
           "blue",
           "blue",
           "blue",
           "blue",
           "blue",
           "blue",
           "blue",
           "blue",
           "blue",
           "red",
           "blue",
           "blue",
           "blue",
           "blue",
           "blue",
           "blue",
           "blue",
           "blue",
           "blue",
           "blue",
           "blue",
           "blue",
           "blue",
           "blue",
           "blue",
           "blue",
           "blue",
           "blue",
           "blue",
           "blue",
           "blue",
           "blue",
           "blue",
           "blue",
           "blue",
           "blue",
           "blue",
           "blue",
           "blue",
           "blue",
           "blue",
           "blue",
           "blue",
           "blue",
           "blue",
           "blue",
           "blue",
           "blue",
           "blue",
           "blue",
           "blue",
           "blue",
           "blue",
           "blue",
           "blue",
           "blue",
           "blue",
           "blue",
           "blue",
           "blue",
           "blue",
           "blue",
           "blue",
           "blue",
           "blue",
           "blue",
           "blue",
           "blue",
           "blue",
           "blue",
           "blue",
           "blue",
           "blue",
           "blue",
           "blue",
           "blue",
           "blue",
           "blue",
           "blue",
           "blue",
           "blue",
           "blue",
           "blue",
           "blue"
          ],
          "opacity": 0.7,
          "size": [
           1,
           1,
           1,
           1,
           1,
           1,
           1,
           1,
           1,
           1,
           1,
           1,
           1,
           1,
           1,
           1,
           1,
           1,
           1,
           1,
           1,
           4.4525076063237385,
           5.045560862483466,
           5.287612374607974,
           5.411158912175679,
           5.471605423292894,
           5.481844280006434,
           5.437283816145595,
           5.323899264090354,
           5.1236529069294034,
           4.819000140268949,
           4.395056035445378,
           3.8418469704264013,
           3.166131331517587,
           2.4203466336340966,
           1.7283055427537715,
           1.2443645288174152,
           1.032257251847935,
           1,
           1,
           6.461530795880119,
           8.040950760586227,
           8.771160768884986,
           9.15078528333424,
           9.310584521367037,
           9.270942912339255,
           9.006149117652072,
           8.479605492005515,
           7.675811486645635,
           6.621010025619269,
           5.385499993858783,
           4.080441332982131,
           2.8574617375122937,
           1.8861164945313065,
           1.2834177538881422,
           1.0366327025035873,
           1,
           1,
           7.869251459760954,
           10.426135851297408,
           11.697009692760544,
           12.338299211980315,
           12.521103471222844,
           12.252396356092085,
           11.491527818806627,
           10.236982511521864,
           8.583321970396879,
           6.716124795786649,
           4.862641691296593,
           3.2450973341070974,
           2.0403816119358487,
           1.326734503089027,
           1.041874303572875,
           1,
           1,
           8.991942482626058,
           12.435204588900804,
           14.200429032192677,
           15.006740566371912,
           15.025972069063583,
           14.255688258238997,
           12.710787282587441,
           10.551299612722426,
           8.091687807279012,
           5.697515105101781,
           3.676070835523867,
           2.2200856679178136,
           1.3791092707215324,
           1.0483082487038498,
           1,
           1,
           9.976387715923044,
           14.194156418531003,
           16.33367512037745,
           17.11058229336857,
           16.686415818475965,
           15.117010048597963,
           12.612585772387401,
           9.615720407632509,
           6.663528403319836,
           4.192084707532117,
           2.440742495817015,
           1.4443239427779575,
           1.056338687126765,
           1,
           1,
           10.898255534463186,
           15.759204105636123,
           18.07723941180795,
           18.53743774692003,
           17.343759682577513,
           14.757324032180447,
           11.333993503687914,
           7.814319707256564,
           4.829139901325235,
           2.7187666864360933,
           1.5271673148958422,
           1.0665314774238563,
           1,
           1,
           11.795224204140386,
           17.130818678347037,
           19.34617361117025,
           19.132541117403903,
           16.880317614708733,
           13.24599954179035,
           9.19255661232969,
           5.626899718017648,
           3.07527025016038,
           1.6343464526262672,
           1.0797077635563168,
           1,
           1,
           12.678042270201859,
           18.25687055620363,
           20,
           18.740876807434425,
           15.28482823716765,
           10.825176993923272,
           6.6313389919445695,
           3.538981281316925,
           1.7756337667617894,
           1.0970945938134338,
           1,
           1,
           13.531846853745137,
           19.031901621764305,
           19.863809291361374,
           17.264719008704617,
           12.702258249394252,
           7.892960988113891,
           4.149620533705092,
           1.9656789592039066,
           1.1205849719308998,
           1,
           1,
           14.311814628245813,
           19.298502373037746,
           18.766150551306943,
           14.726504990318832,
           9.456184778660479,
           4.961756858675033,
           2.2270395426899396,
           1.153209282314601,
           1,
           1,
           14.9348228407442,
           18.857440157943287,
           16.59505798806634,
           11.325895084018345,
           6.04742533514316,
           2.5953765223948837,
           1.2000364566650006,
           1,
           1,
           15.268445060070373,
           17.493819728813545,
           13.370521986353467,
           7.489910766959083,
           3.128383656922254,
           1.2700074572712676,
           1,
           1,
           15.119283425739932,
           15.02747413589175,
           9.338942545123905,
           3.920282147126048,
           1.3799543442836515,
           1,
           1,
           14.22432126394743,
           11.404389300553408,
           5.118524049340407,
           1.5642303784602274,
           1,
           1,
           12.254413846675066,
           6.890932724184863,
           1.9002568718321844,
           1,
           1,
           8.868849879120436,
           2.5823825560934597,
           1,
           1,
           4.086255949211315,
           1,
           1,
           1,
           1
          ]
         },
         "mode": "markers",
         "type": "scatter3d",
         "x": [
          0,
          0,
          0,
          0,
          0,
          0,
          0,
          0,
          0,
          0,
          0,
          0,
          0,
          0,
          0,
          0,
          0,
          0,
          0,
          0,
          0.05263157894736842,
          0.05263157894736842,
          0.05263157894736842,
          0.05263157894736842,
          0.05263157894736842,
          0.05263157894736842,
          0.05263157894736842,
          0.05263157894736842,
          0.05263157894736842,
          0.05263157894736842,
          0.05263157894736842,
          0.05263157894736842,
          0.05263157894736842,
          0.05263157894736842,
          0.05263157894736842,
          0.05263157894736842,
          0.05263157894736842,
          0.05263157894736842,
          0.05263157894736842,
          0.10526315789473684,
          0.10526315789473684,
          0.10526315789473684,
          0.10526315789473684,
          0.10526315789473684,
          0.10526315789473684,
          0.10526315789473684,
          0.10526315789473684,
          0.10526315789473684,
          0.10526315789473684,
          0.10526315789473684,
          0.10526315789473684,
          0.10526315789473684,
          0.10526315789473684,
          0.10526315789473684,
          0.10526315789473684,
          0.10526315789473684,
          0.10526315789473684,
          0.15789473684210525,
          0.15789473684210525,
          0.15789473684210525,
          0.15789473684210525,
          0.15789473684210525,
          0.15789473684210525,
          0.15789473684210525,
          0.15789473684210525,
          0.15789473684210525,
          0.15789473684210525,
          0.15789473684210525,
          0.15789473684210525,
          0.15789473684210525,
          0.15789473684210525,
          0.15789473684210525,
          0.15789473684210525,
          0.15789473684210525,
          0.21052631578947367,
          0.21052631578947367,
          0.21052631578947367,
          0.21052631578947367,
          0.21052631578947367,
          0.21052631578947367,
          0.21052631578947367,
          0.21052631578947367,
          0.21052631578947367,
          0.21052631578947367,
          0.21052631578947367,
          0.21052631578947367,
          0.21052631578947367,
          0.21052631578947367,
          0.21052631578947367,
          0.21052631578947367,
          0.2631578947368421,
          0.2631578947368421,
          0.2631578947368421,
          0.2631578947368421,
          0.2631578947368421,
          0.2631578947368421,
          0.2631578947368421,
          0.2631578947368421,
          0.2631578947368421,
          0.2631578947368421,
          0.2631578947368421,
          0.2631578947368421,
          0.2631578947368421,
          0.2631578947368421,
          0.2631578947368421,
          0.3157894736842105,
          0.3157894736842105,
          0.3157894736842105,
          0.3157894736842105,
          0.3157894736842105,
          0.3157894736842105,
          0.3157894736842105,
          0.3157894736842105,
          0.3157894736842105,
          0.3157894736842105,
          0.3157894736842105,
          0.3157894736842105,
          0.3157894736842105,
          0.3157894736842105,
          0.3684210526315789,
          0.3684210526315789,
          0.3684210526315789,
          0.3684210526315789,
          0.3684210526315789,
          0.3684210526315789,
          0.3684210526315789,
          0.3684210526315789,
          0.3684210526315789,
          0.3684210526315789,
          0.3684210526315789,
          0.3684210526315789,
          0.3684210526315789,
          0.42105263157894735,
          0.42105263157894735,
          0.42105263157894735,
          0.42105263157894735,
          0.42105263157894735,
          0.42105263157894735,
          0.42105263157894735,
          0.42105263157894735,
          0.42105263157894735,
          0.42105263157894735,
          0.42105263157894735,
          0.42105263157894735,
          0.47368421052631576,
          0.47368421052631576,
          0.47368421052631576,
          0.47368421052631576,
          0.47368421052631576,
          0.47368421052631576,
          0.47368421052631576,
          0.47368421052631576,
          0.47368421052631576,
          0.47368421052631576,
          0.47368421052631576,
          0.5263157894736842,
          0.5263157894736842,
          0.5263157894736842,
          0.5263157894736842,
          0.5263157894736842,
          0.5263157894736842,
          0.5263157894736842,
          0.5263157894736842,
          0.5263157894736842,
          0.5263157894736842,
          0.5789473684210527,
          0.5789473684210527,
          0.5789473684210527,
          0.5789473684210527,
          0.5789473684210527,
          0.5789473684210527,
          0.5789473684210527,
          0.5789473684210527,
          0.5789473684210527,
          0.631578947368421,
          0.631578947368421,
          0.631578947368421,
          0.631578947368421,
          0.631578947368421,
          0.631578947368421,
          0.631578947368421,
          0.631578947368421,
          0.6842105263157895,
          0.6842105263157895,
          0.6842105263157895,
          0.6842105263157895,
          0.6842105263157895,
          0.6842105263157895,
          0.6842105263157895,
          0.7368421052631579,
          0.7368421052631579,
          0.7368421052631579,
          0.7368421052631579,
          0.7368421052631579,
          0.7368421052631579,
          0.7894736842105263,
          0.7894736842105263,
          0.7894736842105263,
          0.7894736842105263,
          0.7894736842105263,
          0.8421052631578947,
          0.8421052631578947,
          0.8421052631578947,
          0.8421052631578947,
          0.8947368421052632,
          0.8947368421052632,
          0.8947368421052632,
          0.9473684210526315,
          0.9473684210526315,
          1
         ],
         "y": [
          0,
          0.05263157894736842,
          0.10526315789473684,
          0.15789473684210525,
          0.21052631578947367,
          0.2631578947368421,
          0.3157894736842105,
          0.3684210526315789,
          0.42105263157894735,
          0.47368421052631576,
          0.5263157894736842,
          0.5789473684210527,
          0.631578947368421,
          0.6842105263157895,
          0.7368421052631579,
          0.7894736842105263,
          0.8421052631578947,
          0.8947368421052632,
          0.9473684210526315,
          1,
          0,
          0.05263157894736842,
          0.10526315789473684,
          0.15789473684210525,
          0.21052631578947367,
          0.2631578947368421,
          0.3157894736842105,
          0.3684210526315789,
          0.42105263157894735,
          0.47368421052631576,
          0.5263157894736842,
          0.5789473684210527,
          0.631578947368421,
          0.6842105263157895,
          0.7368421052631579,
          0.7894736842105263,
          0.8421052631578947,
          0.8947368421052632,
          0.9473684210526315,
          0,
          0.05263157894736842,
          0.10526315789473684,
          0.15789473684210525,
          0.21052631578947367,
          0.2631578947368421,
          0.3157894736842105,
          0.3684210526315789,
          0.42105263157894735,
          0.47368421052631576,
          0.5263157894736842,
          0.5789473684210527,
          0.631578947368421,
          0.6842105263157895,
          0.7368421052631579,
          0.7894736842105263,
          0.8421052631578947,
          0.8947368421052632,
          0,
          0.05263157894736842,
          0.10526315789473684,
          0.15789473684210525,
          0.21052631578947367,
          0.2631578947368421,
          0.3157894736842105,
          0.3684210526315789,
          0.42105263157894735,
          0.47368421052631576,
          0.5263157894736842,
          0.5789473684210527,
          0.631578947368421,
          0.6842105263157895,
          0.7368421052631579,
          0.7894736842105263,
          0.8421052631578947,
          0,
          0.05263157894736842,
          0.10526315789473684,
          0.15789473684210525,
          0.21052631578947367,
          0.2631578947368421,
          0.3157894736842105,
          0.3684210526315789,
          0.42105263157894735,
          0.47368421052631576,
          0.5263157894736842,
          0.5789473684210527,
          0.631578947368421,
          0.6842105263157895,
          0.7368421052631579,
          0.7894736842105263,
          0,
          0.05263157894736842,
          0.10526315789473684,
          0.15789473684210525,
          0.21052631578947367,
          0.2631578947368421,
          0.3157894736842105,
          0.3684210526315789,
          0.42105263157894735,
          0.47368421052631576,
          0.5263157894736842,
          0.5789473684210527,
          0.631578947368421,
          0.6842105263157895,
          0.7368421052631579,
          0,
          0.05263157894736842,
          0.10526315789473684,
          0.15789473684210525,
          0.21052631578947367,
          0.2631578947368421,
          0.3157894736842105,
          0.3684210526315789,
          0.42105263157894735,
          0.47368421052631576,
          0.5263157894736842,
          0.5789473684210527,
          0.631578947368421,
          0.6842105263157895,
          0,
          0.05263157894736842,
          0.10526315789473684,
          0.15789473684210525,
          0.21052631578947367,
          0.2631578947368421,
          0.3157894736842105,
          0.3684210526315789,
          0.42105263157894735,
          0.47368421052631576,
          0.5263157894736842,
          0.5789473684210527,
          0.631578947368421,
          0,
          0.05263157894736842,
          0.10526315789473684,
          0.15789473684210525,
          0.21052631578947367,
          0.2631578947368421,
          0.3157894736842105,
          0.3684210526315789,
          0.42105263157894735,
          0.47368421052631576,
          0.5263157894736842,
          0.5789473684210527,
          0,
          0.05263157894736842,
          0.10526315789473684,
          0.15789473684210525,
          0.21052631578947367,
          0.2631578947368421,
          0.3157894736842105,
          0.3684210526315789,
          0.42105263157894735,
          0.47368421052631576,
          0.5263157894736842,
          0,
          0.05263157894736842,
          0.10526315789473684,
          0.15789473684210525,
          0.21052631578947367,
          0.2631578947368421,
          0.3157894736842105,
          0.3684210526315789,
          0.42105263157894735,
          0.47368421052631576,
          0,
          0.05263157894736842,
          0.10526315789473684,
          0.15789473684210525,
          0.21052631578947367,
          0.2631578947368421,
          0.3157894736842105,
          0.3684210526315789,
          0.42105263157894735,
          0,
          0.05263157894736842,
          0.10526315789473684,
          0.15789473684210525,
          0.21052631578947367,
          0.2631578947368421,
          0.3157894736842105,
          0.3684210526315789,
          0,
          0.05263157894736842,
          0.10526315789473684,
          0.15789473684210525,
          0.21052631578947367,
          0.2631578947368421,
          0.3157894736842105,
          0,
          0.05263157894736842,
          0.10526315789473684,
          0.15789473684210525,
          0.21052631578947367,
          0.2631578947368421,
          0,
          0.05263157894736842,
          0.10526315789473684,
          0.15789473684210525,
          0.21052631578947367,
          0,
          0.05263157894736842,
          0.10526315789473684,
          0.15789473684210525,
          0,
          0.05263157894736842,
          0.10526315789473684,
          0,
          0.05263157894736842,
          0
         ],
         "z": [
          1,
          0.9473684210526315,
          0.8947368421052632,
          0.8421052631578947,
          0.7894736842105263,
          0.7368421052631579,
          0.6842105263157895,
          0.631578947368421,
          0.5789473684210527,
          0.5263157894736842,
          0.47368421052631576,
          0.42105263157894735,
          0.3684210526315789,
          0.3157894736842105,
          0.2631578947368421,
          0.21052631578947367,
          0.15789473684210525,
          0.10526315789473684,
          0.05263157894736842,
          0,
          0.9473684210526315,
          0.8947368421052632,
          0.8421052631578947,
          0.7894736842105263,
          0.7368421052631579,
          0.6842105263157895,
          0.631578947368421,
          0.5789473684210527,
          0.5263157894736842,
          0.47368421052631576,
          0.42105263157894735,
          0.3684210526315789,
          0.3157894736842105,
          0.2631578947368421,
          0.21052631578947367,
          0.15789473684210525,
          0.10526315789473684,
          0.05263157894736842,
          0,
          0.8947368421052632,
          0.8421052631578947,
          0.7894736842105263,
          0.7368421052631579,
          0.6842105263157895,
          0.631578947368421,
          0.5789473684210527,
          0.5263157894736842,
          0.47368421052631576,
          0.42105263157894735,
          0.3684210526315789,
          0.3157894736842105,
          0.2631578947368421,
          0.21052631578947367,
          0.15789473684210525,
          0.10526315789473684,
          0.05263157894736842,
          0,
          0.8421052631578947,
          0.7894736842105263,
          0.7368421052631579,
          0.6842105263157895,
          0.631578947368421,
          0.5789473684210527,
          0.5263157894736842,
          0.47368421052631576,
          0.42105263157894735,
          0.3684210526315789,
          0.3157894736842105,
          0.2631578947368421,
          0.21052631578947367,
          0.15789473684210525,
          0.10526315789473684,
          0.05263157894736842,
          0,
          0.7894736842105263,
          0.7368421052631579,
          0.6842105263157895,
          0.631578947368421,
          0.5789473684210527,
          0.5263157894736842,
          0.47368421052631576,
          0.42105263157894735,
          0.3684210526315789,
          0.3157894736842105,
          0.2631578947368421,
          0.21052631578947367,
          0.15789473684210525,
          0.10526315789473684,
          0.05263157894736842,
          0,
          0.7368421052631579,
          0.6842105263157895,
          0.631578947368421,
          0.5789473684210527,
          0.5263157894736842,
          0.47368421052631576,
          0.42105263157894735,
          0.3684210526315789,
          0.3157894736842105,
          0.2631578947368421,
          0.21052631578947367,
          0.15789473684210525,
          0.10526315789473684,
          0.05263157894736842,
          0,
          0.6842105263157895,
          0.631578947368421,
          0.5789473684210527,
          0.5263157894736842,
          0.47368421052631576,
          0.42105263157894735,
          0.3684210526315789,
          0.3157894736842105,
          0.2631578947368421,
          0.21052631578947367,
          0.15789473684210525,
          0.10526315789473684,
          0.05263157894736842,
          0,
          0.631578947368421,
          0.5789473684210527,
          0.5263157894736842,
          0.47368421052631576,
          0.42105263157894735,
          0.3684210526315789,
          0.3157894736842105,
          0.2631578947368421,
          0.21052631578947367,
          0.15789473684210525,
          0.10526315789473684,
          0.05263157894736842,
          0,
          0.5789473684210527,
          0.5263157894736842,
          0.47368421052631576,
          0.42105263157894735,
          0.3684210526315789,
          0.3157894736842105,
          0.2631578947368421,
          0.21052631578947367,
          0.15789473684210525,
          0.10526315789473684,
          0.05263157894736842,
          0,
          0.5263157894736842,
          0.47368421052631576,
          0.42105263157894735,
          0.3684210526315789,
          0.3157894736842105,
          0.2631578947368421,
          0.21052631578947367,
          0.15789473684210525,
          0.10526315789473684,
          0.05263157894736842,
          0,
          0.47368421052631576,
          0.42105263157894735,
          0.3684210526315789,
          0.3157894736842105,
          0.2631578947368421,
          0.21052631578947367,
          0.15789473684210525,
          0.10526315789473684,
          0.05263157894736842,
          0,
          0.42105263157894735,
          0.3684210526315789,
          0.3157894736842105,
          0.2631578947368421,
          0.21052631578947367,
          0.15789473684210525,
          0.10526315789473684,
          0.05263157894736842,
          0,
          0.3684210526315789,
          0.3157894736842105,
          0.2631578947368421,
          0.21052631578947367,
          0.15789473684210525,
          0.10526315789473684,
          0.05263157894736842,
          0,
          0.3157894736842105,
          0.2631578947368421,
          0.21052631578947367,
          0.15789473684210525,
          0.10526315789473684,
          0.05263157894736842,
          0,
          0.2631578947368421,
          0.21052631578947367,
          0.15789473684210525,
          0.10526315789473684,
          0.05263157894736842,
          0,
          0.21052631578947367,
          0.15789473684210525,
          0.10526315789473684,
          0.05263157894736842,
          0,
          0.15789473684210525,
          0.10526315789473684,
          0.05263157894736842,
          0,
          0.10526315789473684,
          0.05263157894736842,
          0,
          0.05263157894736842,
          0,
          0
         ]
        }
       ],
       "layout": {
        "scene": {
         "xaxis": {
          "title": {
           "text": "d"
          }
         },
         "yaxis": {
          "title": {
           "text": "r"
          }
         },
         "zaxis": {
          "title": {
           "text": "l"
          }
         }
        },
        "template": {
         "data": {
          "bar": [
           {
            "error_x": {
             "color": "#2a3f5f"
            },
            "error_y": {
             "color": "#2a3f5f"
            },
            "marker": {
             "line": {
              "color": "white",
              "width": 0.5
             },
             "pattern": {
              "fillmode": "overlay",
              "size": 10,
              "solidity": 0.2
             }
            },
            "type": "bar"
           }
          ],
          "barpolar": [
           {
            "marker": {
             "line": {
              "color": "white",
              "width": 0.5
             },
             "pattern": {
              "fillmode": "overlay",
              "size": 10,
              "solidity": 0.2
             }
            },
            "type": "barpolar"
           }
          ],
          "carpet": [
           {
            "aaxis": {
             "endlinecolor": "#2a3f5f",
             "gridcolor": "#C8D4E3",
             "linecolor": "#C8D4E3",
             "minorgridcolor": "#C8D4E3",
             "startlinecolor": "#2a3f5f"
            },
            "baxis": {
             "endlinecolor": "#2a3f5f",
             "gridcolor": "#C8D4E3",
             "linecolor": "#C8D4E3",
             "minorgridcolor": "#C8D4E3",
             "startlinecolor": "#2a3f5f"
            },
            "type": "carpet"
           }
          ],
          "choropleth": [
           {
            "colorbar": {
             "outlinewidth": 0,
             "ticks": ""
            },
            "type": "choropleth"
           }
          ],
          "contour": [
           {
            "colorbar": {
             "outlinewidth": 0,
             "ticks": ""
            },
            "colorscale": [
             [
              0,
              "#0d0887"
             ],
             [
              0.1111111111111111,
              "#46039f"
             ],
             [
              0.2222222222222222,
              "#7201a8"
             ],
             [
              0.3333333333333333,
              "#9c179e"
             ],
             [
              0.4444444444444444,
              "#bd3786"
             ],
             [
              0.5555555555555556,
              "#d8576b"
             ],
             [
              0.6666666666666666,
              "#ed7953"
             ],
             [
              0.7777777777777778,
              "#fb9f3a"
             ],
             [
              0.8888888888888888,
              "#fdca26"
             ],
             [
              1,
              "#f0f921"
             ]
            ],
            "type": "contour"
           }
          ],
          "contourcarpet": [
           {
            "colorbar": {
             "outlinewidth": 0,
             "ticks": ""
            },
            "type": "contourcarpet"
           }
          ],
          "heatmap": [
           {
            "colorbar": {
             "outlinewidth": 0,
             "ticks": ""
            },
            "colorscale": [
             [
              0,
              "#0d0887"
             ],
             [
              0.1111111111111111,
              "#46039f"
             ],
             [
              0.2222222222222222,
              "#7201a8"
             ],
             [
              0.3333333333333333,
              "#9c179e"
             ],
             [
              0.4444444444444444,
              "#bd3786"
             ],
             [
              0.5555555555555556,
              "#d8576b"
             ],
             [
              0.6666666666666666,
              "#ed7953"
             ],
             [
              0.7777777777777778,
              "#fb9f3a"
             ],
             [
              0.8888888888888888,
              "#fdca26"
             ],
             [
              1,
              "#f0f921"
             ]
            ],
            "type": "heatmap"
           }
          ],
          "heatmapgl": [
           {
            "colorbar": {
             "outlinewidth": 0,
             "ticks": ""
            },
            "colorscale": [
             [
              0,
              "#0d0887"
             ],
             [
              0.1111111111111111,
              "#46039f"
             ],
             [
              0.2222222222222222,
              "#7201a8"
             ],
             [
              0.3333333333333333,
              "#9c179e"
             ],
             [
              0.4444444444444444,
              "#bd3786"
             ],
             [
              0.5555555555555556,
              "#d8576b"
             ],
             [
              0.6666666666666666,
              "#ed7953"
             ],
             [
              0.7777777777777778,
              "#fb9f3a"
             ],
             [
              0.8888888888888888,
              "#fdca26"
             ],
             [
              1,
              "#f0f921"
             ]
            ],
            "type": "heatmapgl"
           }
          ],
          "histogram": [
           {
            "marker": {
             "pattern": {
              "fillmode": "overlay",
              "size": 10,
              "solidity": 0.2
             }
            },
            "type": "histogram"
           }
          ],
          "histogram2d": [
           {
            "colorbar": {
             "outlinewidth": 0,
             "ticks": ""
            },
            "colorscale": [
             [
              0,
              "#0d0887"
             ],
             [
              0.1111111111111111,
              "#46039f"
             ],
             [
              0.2222222222222222,
              "#7201a8"
             ],
             [
              0.3333333333333333,
              "#9c179e"
             ],
             [
              0.4444444444444444,
              "#bd3786"
             ],
             [
              0.5555555555555556,
              "#d8576b"
             ],
             [
              0.6666666666666666,
              "#ed7953"
             ],
             [
              0.7777777777777778,
              "#fb9f3a"
             ],
             [
              0.8888888888888888,
              "#fdca26"
             ],
             [
              1,
              "#f0f921"
             ]
            ],
            "type": "histogram2d"
           }
          ],
          "histogram2dcontour": [
           {
            "colorbar": {
             "outlinewidth": 0,
             "ticks": ""
            },
            "colorscale": [
             [
              0,
              "#0d0887"
             ],
             [
              0.1111111111111111,
              "#46039f"
             ],
             [
              0.2222222222222222,
              "#7201a8"
             ],
             [
              0.3333333333333333,
              "#9c179e"
             ],
             [
              0.4444444444444444,
              "#bd3786"
             ],
             [
              0.5555555555555556,
              "#d8576b"
             ],
             [
              0.6666666666666666,
              "#ed7953"
             ],
             [
              0.7777777777777778,
              "#fb9f3a"
             ],
             [
              0.8888888888888888,
              "#fdca26"
             ],
             [
              1,
              "#f0f921"
             ]
            ],
            "type": "histogram2dcontour"
           }
          ],
          "mesh3d": [
           {
            "colorbar": {
             "outlinewidth": 0,
             "ticks": ""
            },
            "type": "mesh3d"
           }
          ],
          "parcoords": [
           {
            "line": {
             "colorbar": {
              "outlinewidth": 0,
              "ticks": ""
             }
            },
            "type": "parcoords"
           }
          ],
          "pie": [
           {
            "automargin": true,
            "type": "pie"
           }
          ],
          "scatter": [
           {
            "fillpattern": {
             "fillmode": "overlay",
             "size": 10,
             "solidity": 0.2
            },
            "type": "scatter"
           }
          ],
          "scatter3d": [
           {
            "line": {
             "colorbar": {
              "outlinewidth": 0,
              "ticks": ""
             }
            },
            "marker": {
             "colorbar": {
              "outlinewidth": 0,
              "ticks": ""
             }
            },
            "type": "scatter3d"
           }
          ],
          "scattercarpet": [
           {
            "marker": {
             "colorbar": {
              "outlinewidth": 0,
              "ticks": ""
             }
            },
            "type": "scattercarpet"
           }
          ],
          "scattergeo": [
           {
            "marker": {
             "colorbar": {
              "outlinewidth": 0,
              "ticks": ""
             }
            },
            "type": "scattergeo"
           }
          ],
          "scattergl": [
           {
            "marker": {
             "colorbar": {
              "outlinewidth": 0,
              "ticks": ""
             }
            },
            "type": "scattergl"
           }
          ],
          "scattermapbox": [
           {
            "marker": {
             "colorbar": {
              "outlinewidth": 0,
              "ticks": ""
             }
            },
            "type": "scattermapbox"
           }
          ],
          "scatterpolar": [
           {
            "marker": {
             "colorbar": {
              "outlinewidth": 0,
              "ticks": ""
             }
            },
            "type": "scatterpolar"
           }
          ],
          "scatterpolargl": [
           {
            "marker": {
             "colorbar": {
              "outlinewidth": 0,
              "ticks": ""
             }
            },
            "type": "scatterpolargl"
           }
          ],
          "scatterternary": [
           {
            "marker": {
             "colorbar": {
              "outlinewidth": 0,
              "ticks": ""
             }
            },
            "type": "scatterternary"
           }
          ],
          "surface": [
           {
            "colorbar": {
             "outlinewidth": 0,
             "ticks": ""
            },
            "colorscale": [
             [
              0,
              "#0d0887"
             ],
             [
              0.1111111111111111,
              "#46039f"
             ],
             [
              0.2222222222222222,
              "#7201a8"
             ],
             [
              0.3333333333333333,
              "#9c179e"
             ],
             [
              0.4444444444444444,
              "#bd3786"
             ],
             [
              0.5555555555555556,
              "#d8576b"
             ],
             [
              0.6666666666666666,
              "#ed7953"
             ],
             [
              0.7777777777777778,
              "#fb9f3a"
             ],
             [
              0.8888888888888888,
              "#fdca26"
             ],
             [
              1,
              "#f0f921"
             ]
            ],
            "type": "surface"
           }
          ],
          "table": [
           {
            "cells": {
             "fill": {
              "color": "#EBF0F8"
             },
             "line": {
              "color": "white"
             }
            },
            "header": {
             "fill": {
              "color": "#C8D4E3"
             },
             "line": {
              "color": "white"
             }
            },
            "type": "table"
           }
          ]
         },
         "layout": {
          "annotationdefaults": {
           "arrowcolor": "#2a3f5f",
           "arrowhead": 0,
           "arrowwidth": 1
          },
          "autotypenumbers": "strict",
          "coloraxis": {
           "colorbar": {
            "outlinewidth": 0,
            "ticks": ""
           }
          },
          "colorscale": {
           "diverging": [
            [
             0,
             "#8e0152"
            ],
            [
             0.1,
             "#c51b7d"
            ],
            [
             0.2,
             "#de77ae"
            ],
            [
             0.3,
             "#f1b6da"
            ],
            [
             0.4,
             "#fde0ef"
            ],
            [
             0.5,
             "#f7f7f7"
            ],
            [
             0.6,
             "#e6f5d0"
            ],
            [
             0.7,
             "#b8e186"
            ],
            [
             0.8,
             "#7fbc41"
            ],
            [
             0.9,
             "#4d9221"
            ],
            [
             1,
             "#276419"
            ]
           ],
           "sequential": [
            [
             0,
             "#0d0887"
            ],
            [
             0.1111111111111111,
             "#46039f"
            ],
            [
             0.2222222222222222,
             "#7201a8"
            ],
            [
             0.3333333333333333,
             "#9c179e"
            ],
            [
             0.4444444444444444,
             "#bd3786"
            ],
            [
             0.5555555555555556,
             "#d8576b"
            ],
            [
             0.6666666666666666,
             "#ed7953"
            ],
            [
             0.7777777777777778,
             "#fb9f3a"
            ],
            [
             0.8888888888888888,
             "#fdca26"
            ],
            [
             1,
             "#f0f921"
            ]
           ],
           "sequentialminus": [
            [
             0,
             "#0d0887"
            ],
            [
             0.1111111111111111,
             "#46039f"
            ],
            [
             0.2222222222222222,
             "#7201a8"
            ],
            [
             0.3333333333333333,
             "#9c179e"
            ],
            [
             0.4444444444444444,
             "#bd3786"
            ],
            [
             0.5555555555555556,
             "#d8576b"
            ],
            [
             0.6666666666666666,
             "#ed7953"
            ],
            [
             0.7777777777777778,
             "#fb9f3a"
            ],
            [
             0.8888888888888888,
             "#fdca26"
            ],
            [
             1,
             "#f0f921"
            ]
           ]
          },
          "colorway": [
           "#636efa",
           "#EF553B",
           "#00cc96",
           "#ab63fa",
           "#FFA15A",
           "#19d3f3",
           "#FF6692",
           "#B6E880",
           "#FF97FF",
           "#FECB52"
          ],
          "font": {
           "color": "#2a3f5f"
          },
          "geo": {
           "bgcolor": "white",
           "lakecolor": "white",
           "landcolor": "white",
           "showlakes": true,
           "showland": true,
           "subunitcolor": "#C8D4E3"
          },
          "hoverlabel": {
           "align": "left"
          },
          "hovermode": "closest",
          "mapbox": {
           "style": "light"
          },
          "paper_bgcolor": "white",
          "plot_bgcolor": "white",
          "polar": {
           "angularaxis": {
            "gridcolor": "#EBF0F8",
            "linecolor": "#EBF0F8",
            "ticks": ""
           },
           "bgcolor": "white",
           "radialaxis": {
            "gridcolor": "#EBF0F8",
            "linecolor": "#EBF0F8",
            "ticks": ""
           }
          },
          "scene": {
           "xaxis": {
            "backgroundcolor": "white",
            "gridcolor": "#DFE8F3",
            "gridwidth": 2,
            "linecolor": "#EBF0F8",
            "showbackground": true,
            "ticks": "",
            "zerolinecolor": "#EBF0F8"
           },
           "yaxis": {
            "backgroundcolor": "white",
            "gridcolor": "#DFE8F3",
            "gridwidth": 2,
            "linecolor": "#EBF0F8",
            "showbackground": true,
            "ticks": "",
            "zerolinecolor": "#EBF0F8"
           },
           "zaxis": {
            "backgroundcolor": "white",
            "gridcolor": "#DFE8F3",
            "gridwidth": 2,
            "linecolor": "#EBF0F8",
            "showbackground": true,
            "ticks": "",
            "zerolinecolor": "#EBF0F8"
           }
          },
          "shapedefaults": {
           "line": {
            "color": "#2a3f5f"
           }
          },
          "ternary": {
           "aaxis": {
            "gridcolor": "#DFE8F3",
            "linecolor": "#A2B1C6",
            "ticks": ""
           },
           "baxis": {
            "gridcolor": "#DFE8F3",
            "linecolor": "#A2B1C6",
            "ticks": ""
           },
           "bgcolor": "white",
           "caxis": {
            "gridcolor": "#DFE8F3",
            "linecolor": "#A2B1C6",
            "ticks": ""
           }
          },
          "title": {
           "x": 0.05
          },
          "xaxis": {
           "automargin": true,
           "gridcolor": "#EBF0F8",
           "linecolor": "#EBF0F8",
           "ticks": "",
           "title": {
            "standoff": 15
           },
           "zerolinecolor": "#EBF0F8",
           "zerolinewidth": 2
          },
          "yaxis": {
           "automargin": true,
           "gridcolor": "#EBF0F8",
           "linecolor": "#EBF0F8",
           "ticks": "",
           "title": {
            "standoff": 15
           },
           "zerolinecolor": "#EBF0F8",
           "zerolinewidth": 2
          }
         }
        }
       }
      }
     },
     "metadata": {},
     "output_type": "display_data"
    },
    {
     "name": "stdout",
     "output_type": "stream",
     "text": [
      "Max utility value: \n",
      "[Fraction(0, 1) Fraction(3, 19) Fraction(8, 19) Fraction(8, 19)]\n",
      "[0.   0.16 0.42 0.42]\n",
      "0.09977284235955096\n"
     ]
    }
   ],
   "source": [
    "budget = 1\n",
    "gridSize = (5, 5)\n",
    "target = Node(4, 1)\n",
    "strategies = list([ \n",
    "    Strategy({ Action.DOWN: frac(1, 3), Action.RIGHT: frac(1, 3), Action.LEFT: frac(1, 3) }) \n",
    "])\n",
    "enumerated_strategies = dict(enumerate(strategies, start=1))\n",
    "\n",
    "pomdp = POMDP(gridSize=gridSize, target=target, model='grid', budget=budget)\n",
    "\n",
    "# Assign strategies to the nodes\n",
    "for node in pomdp.nodes: node.assign_strategy(enumerated_strategies[1], 1)\n",
    "observations =  {n: n.strategy_id for n in pomdp.nodes if n != target}\n",
    "\n",
    "# ---------------------------------------------------------\n",
    "# get one specific utility value\n",
    "# print(pomdp.utility(enumerated_strategies, assignments)[0])\n",
    "# ---------------------------------------------------------\n",
    "\n",
    "combinations_, U = pomdp.generate_points(enumerated_strategies, observations, sections=20, write_to_file=True)\n",
    "plot_actions_4D(combinations_, U, actions = [Action.DOWN, Action.RIGHT, Action.LEFT])\n",
    "\n",
    "# get the probability distribution of the actions that maximizes the utility\n",
    "max_index = np.argmax(U)\n",
    "approx = np.around(list(map(float, combinations_[max_index][0])), 2)\n",
    "\n",
    "print('Max utility value: ')\n",
    "print(combinations_[max_index][0])\n",
    "print(approx)\n",
    "print(U[max_index])"
   ]
  },
  {
   "cell_type": "markdown",
   "metadata": {},
   "source": [
    "20x20 grid with the target close to the bottom left."
   ]
  },
  {
   "cell_type": "code",
   "execution_count": 9,
   "metadata": {},
   "outputs": [],
   "source": [
    "budget = 1\n",
    "gridSize = (20, 20)\n",
    "target = Node(19, 1)\n",
    "strategies = list([ \n",
    "    Strategy({ Action.DOWN: frac(1, 3), Action.RIGHT: frac(1, 3), Action.LEFT: frac(1, 3) }) \n",
    "])\n",
    "enumerated_strategies = dict(enumerate(strategies, start=1))\n",
    "\n",
    "pomdp = POMDP(gridSize=gridSize, target=target, model='grid', budget=budget)\n",
    "\n",
    "# Assign strategies to the nodes\n",
    "for node in pomdp.nodes: node.assign_strategy(enumerated_strategies[1], 1)\n",
    "observations =  {n: n.strategy_id for n in pomdp.nodes if n != target}\n",
    "\n",
    "# ---------------------------------------------------------\n",
    "# get one specific utility value\n",
    "# print(pomdp.utility(enumerated_strategies, assignments)[0])\n",
    "# ---------------------------------------------------------\n",
    "\n",
    "combinations_, U = pomdp.generate_points(enumerated_strategies, observations, sections=20, write_to_file=True)\n",
    "plot_actions_4D(combinations_, U, actions = [Action.DOWN, Action.RIGHT, Action.LEFT])\n",
    "\n",
    "# get the probability distribution of the actions that maximizes the utility\n",
    "max_index = np.argmax(U)\n",
    "approx = np.around(list(map(float, combinations_[max_index][0])), 2)\n",
    "\n",
    "print('Max utility value: ')\n",
    "print(combinations_[max_index][0])\n",
    "print(approx)\n",
    "print(U[max_index])"
   ]
  },
  {
   "cell_type": "markdown",
   "metadata": {},
   "source": [
    "# Budget 2"
   ]
  },
  {
   "cell_type": "markdown",
   "metadata": {},
   "source": [
    "10x10 grid with target close to the bottom left"
   ]
  },
  {
   "cell_type": "code",
   "execution_count": 95,
   "metadata": {},
   "outputs": [
    {
     "name": "stdout",
     "output_type": "stream",
     "text": [
      "Max utility value: \n",
      "[[Fraction(0, 1) Fraction(1, 1) Fraction(0, 1) Fraction(0, 1)]\n",
      " [Fraction(0, 1) Fraction(0, 1) Fraction(52, 89) Fraction(37, 89)]]\n",
      "[[0.0, 1.0, 0.0, 0.0], [0.0, 0.0, 0.58, 0.42]]\n",
      "0.0723509908371792\n"
     ]
    }
   ],
   "source": [
    "budget = 2\n",
    "gridSize = (10, 10)\n",
    "target = Node(9, 1)\n",
    "strategies = list([\n",
    "    Strategy({ Action.RIGHT: frac(1, 3) }),\n",
    "    Strategy({ Action.DOWN: frac(1, 3), Action.LEFT: frac(1, 3) }), \n",
    "])\n",
    "enumerated_strategies = dict(enumerate(strategies, start=1))\n",
    "\n",
    "pomdp = POMDP(gridSize=gridSize, target=target, model='grid', budget=budget)\n",
    "\n",
    "# Assign strategies to the nodes\n",
    "for node in pomdp.nodes: \n",
    "    if node.j < 1: node.assign_strategy(enumerated_strategies[1], 1)\n",
    "    else: node.assign_strategy(enumerated_strategies[2], 2)\n",
    "\n",
    "observations =  {n: n.strategy_id for n in pomdp.nodes if n != target}\n",
    "\n",
    "# ---------------------------------------------------------\n",
    "# get one specific utility value\n",
    "# print(pomdp.utility(enumerated_strategies, assignments)[0])\n",
    "# ---------------------------------------------------------\n",
    "\n",
    "combinations_, U = pomdp.generate_points(enumerated_strategies, observations, sections=90, write_to_file=True)\n",
    "\n",
    "# get the probability distribution of the actions that maximizes the utility\n",
    "max_index = np.argmax(U)\n",
    "print('Max utility value: ')\n",
    "\n",
    "print(combinations_[max_index])\n",
    "print([list(map(lambda x : round(float(x), 2), x)) for x in combinations_[max_index]])\n",
    "print(U[max_index]) "
   ]
  },
  {
   "cell_type": "code",
   "execution_count": 97,
   "metadata": {},
   "outputs": [
    {
     "name": "stdout",
     "output_type": "stream",
     "text": [
      "Max utility value: \n",
      "[[Fraction(0, 1) Fraction(1, 1) Fraction(0, 1) Fraction(0, 1)]\n",
      " [Fraction(0, 1) Fraction(0, 1) Fraction(53, 89) Fraction(36, 89)]]\n",
      "[[0.0, 1.0, 0.0, 0.0], [0.0, 0.0, 0.6, 0.4]]\n",
      "0.06463233843503492\n"
     ]
    }
   ],
   "source": [
    "budget = 2\n",
    "gridSize = (10, 10)\n",
    "target = Node(9, 1)\n",
    "strategies = list([\n",
    "    Strategy({ Action.RIGHT: frac(1, 3) }),\n",
    "    Strategy({ Action.DOWN: frac(1, 3), Action.LEFT: frac(1, 3) }), \n",
    "])\n",
    "enumerated_strategies = dict(enumerate(strategies, start=1))\n",
    "\n",
    "pomdp = POMDP(gridSize=gridSize, target=target, model='grid', budget=budget)\n",
    "\n",
    "# Assign strategies to the nodes\n",
    "for node in pomdp.nodes: \n",
    "    if node.j <= 1: node.assign_strategy(enumerated_strategies[1], 1)\n",
    "    else: node.assign_strategy(enumerated_strategies[2], 2)\n",
    "\n",
    "observations =  {n: n.strategy_id for n in pomdp.nodes if n != target}\n",
    "\n",
    "# ---------------------------------------------------------\n",
    "# get one specific utility value\n",
    "# print(pomdp.utility(enumerated_strategies, assignments)[0])\n",
    "# ---------------------------------------------------------\n",
    "\n",
    "combinations_, U = pomdp.generate_points(enumerated_strategies, observations, sections=90, write_to_file=True)\n",
    "\n",
    "# get the probability distribution of the actions that maximizes the utility\n",
    "max_index = np.argmax(U)\n",
    "print('Max utility value: ')\n",
    "\n",
    "print(combinations_[max_index])\n",
    "print([list(map(lambda x : round(float(x), 2), x)) for x in combinations_[max_index]])\n",
    "print(U[max_index]) "
   ]
  },
  {
   "cell_type": "code",
   "execution_count": 96,
   "metadata": {},
   "outputs": [
    {
     "name": "stdout",
     "output_type": "stream",
     "text": [
      "Max utility value: \n",
      "[[Fraction(0, 1) Fraction(21, 89) Fraction(68, 89) Fraction(0, 1)]\n",
      " [Fraction(0, 1) Fraction(0, 1) Fraction(0, 1) Fraction(1, 1)]]\n",
      "[[0.0, 0.24, 0.76, 0.0], [0.0, 0.0, 0.0, 1.0]]\n",
      "0.0636816547896828\n"
     ]
    }
   ],
   "source": [
    "budget = 2\n",
    "gridSize = (10, 10)\n",
    "target = Node(9, 1)\n",
    "strategies = list([\n",
    "    Strategy({ Action.DOWN: frac(1, 3), Action.RIGHT: frac(1, 3) }), \n",
    "    Strategy({ Action.LEFT: frac(1, 3) }),\n",
    "])\n",
    "enumerated_strategies = dict(enumerate(strategies, start=1))\n",
    "\n",
    "pomdp = POMDP(gridSize=gridSize, target=target, model='grid', budget=budget)\n",
    "\n",
    "# Assign strategies to the nodes\n",
    "for node in pomdp.nodes: \n",
    "    if node.j < 1: node.assign_strategy(enumerated_strategies[1], 1)\n",
    "    else: node.assign_strategy(enumerated_strategies[2], 2)\n",
    "\n",
    "observations =  {n: n.strategy_id for n in pomdp.nodes if n != target}\n",
    "\n",
    "# ---------------------------------------------------------\n",
    "# get one specific utility value\n",
    "# print(pomdp.utility(enumerated_strategies, assignments)[0])\n",
    "# ---------------------------------------------------------\n",
    "\n",
    "combinations_, U = pomdp.generate_points(enumerated_strategies, observations, sections=90, write_to_file=True)\n",
    "\n",
    "# get the probability distribution of the actions that maximizes the utility\n",
    "max_index = np.argmax(U)\n",
    "print('Max utility value: ')\n",
    "\n",
    "print(combinations_[max_index])\n",
    "print([list(map(lambda x : round(float(x), 2), x)) for x in combinations_[max_index]])\n",
    "print(U[max_index]) "
   ]
  },
  {
   "cell_type": "code",
   "execution_count": 7,
   "metadata": {},
   "outputs": [],
   "source": [
    "budget = 2\n",
    "gridSize = (20, 20)\n",
    "target = Node(19, 1)\n",
    "strategies = list([\n",
    "    Strategy({ Action.DOWN: frac(1, 3), Action.RIGHT: frac(1, 3) }), \n",
    "    Strategy({ Action.LEFT: frac(1, 3) }),\n",
    "])\n",
    "enumerated_strategies = dict(enumerate(strategies, start=1))\n",
    "\n",
    "pomdp = POMDP(gridSize=gridSize, target=target, model='grid', budget=budget)\n",
    "\n",
    "# Assign strategies to the nodes\n",
    "for node in pomdp.nodes: \n",
    "    if node.j <= 1: node.assign_strategy(enumerated_strategies[1], 1)\n",
    "    else: node.assign_strategy(enumerated_strategies[2], 2)\n",
    "\n",
    "observations =  {n: n.strategy_id for n in pomdp.nodes if n != target}\n",
    "\n",
    "# ---------------------------------------------------------\n",
    "# get one specific utility value\n",
    "# print(pomdp.utility(enumerated_strategies, assignments)[0])\n",
    "# ---------------------------------------------------------\n",
    "\n",
    "combinations_, U = pomdp.generate_points(enumerated_strategies, observations, sections=20, write_to_file=True)\n",
    "\n",
    "# get the probability distribution of the actions that maximizes the utility\n",
    "max_index = np.argmax(U)\n",
    "print('Max utility value: ')\n",
    "\n",
    "print(combinations_[max_index])\n",
    "print([list(map(lambda x : round(float(x), 2), x)) for x in combinations_[max_index]])\n",
    "print(U[max_index]) "
   ]
  },
  {
   "cell_type": "code",
   "execution_count": null,
   "metadata": {},
   "outputs": [
    {
     "name": "stdout",
     "output_type": "stream",
     "text": [
      "Max utility value: \n",
      "[[Fraction(0, 1) Fraction(1, 19) Fraction(0, 1) Fraction(18, 19)]\n",
      " [Fraction(0, 1) Fraction(0, 1) Fraction(1, 1) Fraction(0, 1)]]\n",
      "[[0.0, 0.05, 0.0, 0.95], [0.0, 0.0, 1.0, 0.0]]\n",
      "0.06618321274047534\n"
     ]
    }
   ],
   "source": [
    "budget = 2\n",
    "gridSize = (20, 20)\n",
    "target = Node(19, 1)\n",
    "strategies = list([\n",
    "    Strategy({ Action.LEFT: frac(1, 3), Action.RIGHT: frac(1, 3) }), \n",
    "    Strategy({ Action.DOWN: frac(1, 3) }),\n",
    "])\n",
    "enumerated_strategies = dict(enumerate(strategies, start=1))\n",
    "\n",
    "pomdp = POMDP(gridSize=gridSize, target=target, model='grid', budget=budget)\n",
    "\n",
    "# Assign strategies to the nodes\n",
    "for node in pomdp.nodes: \n",
    "    if node.i == 19: node.assign_strategy(enumerated_strategies[1], 1)\n",
    "    else: node.assign_strategy(enumerated_strategies[2], 2)\n",
    "\n",
    "observations =  {n: n.strategy_id for n in pomdp.nodes if n != target}\n",
    "\n",
    "# ---------------------------------------------------------\n",
    "# get one specific utility value\n",
    "# print(pomdp.utility(enumerated_strategies, assignments)[0])\n",
    "# ---------------------------------------------------------\n",
    "\n",
    "combinations_, U = pomdp.generate_points(enumerated_strategies, observations, sections=20, write_to_file=True)\n",
    "\n",
    "# get the probability distribution of the actions that maximizes the utility\n",
    "max_index = np.argmax(U)\n",
    "print('Max utility value: ')\n",
    "\n",
    "print(combinations_[max_index])\n",
    "print([list(map(lambda x : round(float(x), 2), x)) for x in combinations_[max_index]])\n",
    "print(U[max_index]) "
   ]
  },
  {
   "cell_type": "code",
   "execution_count": null,
   "metadata": {},
   "outputs": [],
   "source": []
  }
 ],
 "metadata": {
  "kernelspec": {
   "display_name": "env",
   "language": "python",
   "name": "python3"
  },
  "language_info": {
   "codemirror_mode": {
    "name": "ipython",
    "version": 3
   },
   "file_extension": ".py",
   "mimetype": "text/x-python",
   "name": "python",
   "nbconvert_exporter": "python",
   "pygments_lexer": "ipython3",
   "version": "3.12.2"
  }
 },
 "nbformat": 4,
 "nbformat_minor": 2
}
