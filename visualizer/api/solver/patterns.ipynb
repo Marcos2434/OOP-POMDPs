{
 "cells": [
  {
   "cell_type": "code",
   "execution_count": 1,
   "metadata": {},
   "outputs": [],
   "source": [
    "%load_ext autoreload\n",
    "%autoreload 2\n",
    "\n",
    "import numpy as np\n",
    "from pomdp import *\n",
    "from helpers import *\n",
    "from fractions import Fraction as frac"
   ]
  },
  {
   "cell_type": "markdown",
   "metadata": {},
   "source": [
    "## Budget 1"
   ]
  },
  {
   "cell_type": "markdown",
   "metadata": {},
   "source": [
    "5x5 grid with target at the bottom right"
   ]
  },
  {
   "cell_type": "code",
   "execution_count": 7,
   "metadata": {},
   "outputs": [
    {
     "data": {
      "application/vnd.plotly.v1+json": {
       "config": {
        "plotlyServerURL": "https://plot.ly"
       },
       "data": [
        {
         "marker": {
          "color": [
           "blue",
           "blue",
           "blue",
           "blue",
           "blue",
           "blue",
           "blue",
           "blue",
           "blue",
           "blue",
           "blue",
           "blue",
           "red",
           "blue",
           "blue",
           "blue",
           "blue",
           "blue",
           "blue",
           "blue",
           "blue",
           "blue",
           "blue",
           "blue",
           "blue"
          ],
          "line": {
           "color": "black",
           "width": 1
          },
          "opacity": 0.8,
          "size": 8
         },
         "mode": "markers",
         "type": "scatter3d",
         "x": [
          0,
          0.041666666666666664,
          0.08333333333333333,
          0.125,
          0.16666666666666666,
          0.20833333333333334,
          0.25,
          0.2916666666666667,
          0.3333333333333333,
          0.375,
          0.4166666666666667,
          0.4583333333333333,
          0.5,
          0.5416666666666666,
          0.5833333333333334,
          0.625,
          0.6666666666666666,
          0.7083333333333334,
          0.75,
          0.7916666666666666,
          0.8333333333333334,
          0.875,
          0.9166666666666666,
          0.9583333333333334,
          1
         ],
         "y": [
          1,
          0.9583333333333334,
          0.9166666666666666,
          0.875,
          0.8333333333333334,
          0.7916666666666666,
          0.75,
          0.7083333333333334,
          0.6666666666666666,
          0.625,
          0.5833333333333334,
          0.5416666666666666,
          0.5,
          0.4583333333333333,
          0.4166666666666667,
          0.375,
          0.3333333333333333,
          0.2916666666666667,
          0.25,
          0.20833333333333334,
          0.16666666666666666,
          0.125,
          0.08333333333333333,
          0.041666666666666664,
          0
         ],
         "z": [
          0,
          0.01981273433439949,
          0.03915860834552333,
          0.057874566596422886,
          0.0757616804534832,
          0.09258347970913561,
          0.10806833422501044,
          0.12191723837924064,
          0.13381773681593942,
          0.14346369673062082,
          0.15057927893172474,
          0.15494408188901546,
          0.15641547861507127,
          0.15494408188901546,
          0.15057927893172474,
          0.14346369673062082,
          0.13381773681593942,
          0.12191723837924064,
          0.10806833422501044,
          0.09258347970913561,
          0.0757616804534832,
          0.057874566596422886,
          0.03915860834552333,
          0.01981273433439949,
          0
         ]
        }
       ],
       "layout": {
        "scene": {
         "xaxis": {
          "range": [
           0,
           1
          ],
          "title": {
           "text": "d"
          }
         },
         "yaxis": {
          "range": [
           0,
           1
          ],
          "title": {
           "text": "r"
          }
         },
         "zaxis": {
          "title": {
           "text": "Utility"
          }
         }
        },
        "template": {
         "data": {
          "bar": [
           {
            "error_x": {
             "color": "#2a3f5f"
            },
            "error_y": {
             "color": "#2a3f5f"
            },
            "marker": {
             "line": {
              "color": "white",
              "width": 0.5
             },
             "pattern": {
              "fillmode": "overlay",
              "size": 10,
              "solidity": 0.2
             }
            },
            "type": "bar"
           }
          ],
          "barpolar": [
           {
            "marker": {
             "line": {
              "color": "white",
              "width": 0.5
             },
             "pattern": {
              "fillmode": "overlay",
              "size": 10,
              "solidity": 0.2
             }
            },
            "type": "barpolar"
           }
          ],
          "carpet": [
           {
            "aaxis": {
             "endlinecolor": "#2a3f5f",
             "gridcolor": "#C8D4E3",
             "linecolor": "#C8D4E3",
             "minorgridcolor": "#C8D4E3",
             "startlinecolor": "#2a3f5f"
            },
            "baxis": {
             "endlinecolor": "#2a3f5f",
             "gridcolor": "#C8D4E3",
             "linecolor": "#C8D4E3",
             "minorgridcolor": "#C8D4E3",
             "startlinecolor": "#2a3f5f"
            },
            "type": "carpet"
           }
          ],
          "choropleth": [
           {
            "colorbar": {
             "outlinewidth": 0,
             "ticks": ""
            },
            "type": "choropleth"
           }
          ],
          "contour": [
           {
            "colorbar": {
             "outlinewidth": 0,
             "ticks": ""
            },
            "colorscale": [
             [
              0,
              "#0d0887"
             ],
             [
              0.1111111111111111,
              "#46039f"
             ],
             [
              0.2222222222222222,
              "#7201a8"
             ],
             [
              0.3333333333333333,
              "#9c179e"
             ],
             [
              0.4444444444444444,
              "#bd3786"
             ],
             [
              0.5555555555555556,
              "#d8576b"
             ],
             [
              0.6666666666666666,
              "#ed7953"
             ],
             [
              0.7777777777777778,
              "#fb9f3a"
             ],
             [
              0.8888888888888888,
              "#fdca26"
             ],
             [
              1,
              "#f0f921"
             ]
            ],
            "type": "contour"
           }
          ],
          "contourcarpet": [
           {
            "colorbar": {
             "outlinewidth": 0,
             "ticks": ""
            },
            "type": "contourcarpet"
           }
          ],
          "heatmap": [
           {
            "colorbar": {
             "outlinewidth": 0,
             "ticks": ""
            },
            "colorscale": [
             [
              0,
              "#0d0887"
             ],
             [
              0.1111111111111111,
              "#46039f"
             ],
             [
              0.2222222222222222,
              "#7201a8"
             ],
             [
              0.3333333333333333,
              "#9c179e"
             ],
             [
              0.4444444444444444,
              "#bd3786"
             ],
             [
              0.5555555555555556,
              "#d8576b"
             ],
             [
              0.6666666666666666,
              "#ed7953"
             ],
             [
              0.7777777777777778,
              "#fb9f3a"
             ],
             [
              0.8888888888888888,
              "#fdca26"
             ],
             [
              1,
              "#f0f921"
             ]
            ],
            "type": "heatmap"
           }
          ],
          "heatmapgl": [
           {
            "colorbar": {
             "outlinewidth": 0,
             "ticks": ""
            },
            "colorscale": [
             [
              0,
              "#0d0887"
             ],
             [
              0.1111111111111111,
              "#46039f"
             ],
             [
              0.2222222222222222,
              "#7201a8"
             ],
             [
              0.3333333333333333,
              "#9c179e"
             ],
             [
              0.4444444444444444,
              "#bd3786"
             ],
             [
              0.5555555555555556,
              "#d8576b"
             ],
             [
              0.6666666666666666,
              "#ed7953"
             ],
             [
              0.7777777777777778,
              "#fb9f3a"
             ],
             [
              0.8888888888888888,
              "#fdca26"
             ],
             [
              1,
              "#f0f921"
             ]
            ],
            "type": "heatmapgl"
           }
          ],
          "histogram": [
           {
            "marker": {
             "pattern": {
              "fillmode": "overlay",
              "size": 10,
              "solidity": 0.2
             }
            },
            "type": "histogram"
           }
          ],
          "histogram2d": [
           {
            "colorbar": {
             "outlinewidth": 0,
             "ticks": ""
            },
            "colorscale": [
             [
              0,
              "#0d0887"
             ],
             [
              0.1111111111111111,
              "#46039f"
             ],
             [
              0.2222222222222222,
              "#7201a8"
             ],
             [
              0.3333333333333333,
              "#9c179e"
             ],
             [
              0.4444444444444444,
              "#bd3786"
             ],
             [
              0.5555555555555556,
              "#d8576b"
             ],
             [
              0.6666666666666666,
              "#ed7953"
             ],
             [
              0.7777777777777778,
              "#fb9f3a"
             ],
             [
              0.8888888888888888,
              "#fdca26"
             ],
             [
              1,
              "#f0f921"
             ]
            ],
            "type": "histogram2d"
           }
          ],
          "histogram2dcontour": [
           {
            "colorbar": {
             "outlinewidth": 0,
             "ticks": ""
            },
            "colorscale": [
             [
              0,
              "#0d0887"
             ],
             [
              0.1111111111111111,
              "#46039f"
             ],
             [
              0.2222222222222222,
              "#7201a8"
             ],
             [
              0.3333333333333333,
              "#9c179e"
             ],
             [
              0.4444444444444444,
              "#bd3786"
             ],
             [
              0.5555555555555556,
              "#d8576b"
             ],
             [
              0.6666666666666666,
              "#ed7953"
             ],
             [
              0.7777777777777778,
              "#fb9f3a"
             ],
             [
              0.8888888888888888,
              "#fdca26"
             ],
             [
              1,
              "#f0f921"
             ]
            ],
            "type": "histogram2dcontour"
           }
          ],
          "mesh3d": [
           {
            "colorbar": {
             "outlinewidth": 0,
             "ticks": ""
            },
            "type": "mesh3d"
           }
          ],
          "parcoords": [
           {
            "line": {
             "colorbar": {
              "outlinewidth": 0,
              "ticks": ""
             }
            },
            "type": "parcoords"
           }
          ],
          "pie": [
           {
            "automargin": true,
            "type": "pie"
           }
          ],
          "scatter": [
           {
            "fillpattern": {
             "fillmode": "overlay",
             "size": 10,
             "solidity": 0.2
            },
            "type": "scatter"
           }
          ],
          "scatter3d": [
           {
            "line": {
             "colorbar": {
              "outlinewidth": 0,
              "ticks": ""
             }
            },
            "marker": {
             "colorbar": {
              "outlinewidth": 0,
              "ticks": ""
             }
            },
            "type": "scatter3d"
           }
          ],
          "scattercarpet": [
           {
            "marker": {
             "colorbar": {
              "outlinewidth": 0,
              "ticks": ""
             }
            },
            "type": "scattercarpet"
           }
          ],
          "scattergeo": [
           {
            "marker": {
             "colorbar": {
              "outlinewidth": 0,
              "ticks": ""
             }
            },
            "type": "scattergeo"
           }
          ],
          "scattergl": [
           {
            "marker": {
             "colorbar": {
              "outlinewidth": 0,
              "ticks": ""
             }
            },
            "type": "scattergl"
           }
          ],
          "scattermapbox": [
           {
            "marker": {
             "colorbar": {
              "outlinewidth": 0,
              "ticks": ""
             }
            },
            "type": "scattermapbox"
           }
          ],
          "scatterpolar": [
           {
            "marker": {
             "colorbar": {
              "outlinewidth": 0,
              "ticks": ""
             }
            },
            "type": "scatterpolar"
           }
          ],
          "scatterpolargl": [
           {
            "marker": {
             "colorbar": {
              "outlinewidth": 0,
              "ticks": ""
             }
            },
            "type": "scatterpolargl"
           }
          ],
          "scatterternary": [
           {
            "marker": {
             "colorbar": {
              "outlinewidth": 0,
              "ticks": ""
             }
            },
            "type": "scatterternary"
           }
          ],
          "surface": [
           {
            "colorbar": {
             "outlinewidth": 0,
             "ticks": ""
            },
            "colorscale": [
             [
              0,
              "#0d0887"
             ],
             [
              0.1111111111111111,
              "#46039f"
             ],
             [
              0.2222222222222222,
              "#7201a8"
             ],
             [
              0.3333333333333333,
              "#9c179e"
             ],
             [
              0.4444444444444444,
              "#bd3786"
             ],
             [
              0.5555555555555556,
              "#d8576b"
             ],
             [
              0.6666666666666666,
              "#ed7953"
             ],
             [
              0.7777777777777778,
              "#fb9f3a"
             ],
             [
              0.8888888888888888,
              "#fdca26"
             ],
             [
              1,
              "#f0f921"
             ]
            ],
            "type": "surface"
           }
          ],
          "table": [
           {
            "cells": {
             "fill": {
              "color": "#EBF0F8"
             },
             "line": {
              "color": "white"
             }
            },
            "header": {
             "fill": {
              "color": "#C8D4E3"
             },
             "line": {
              "color": "white"
             }
            },
            "type": "table"
           }
          ]
         },
         "layout": {
          "annotationdefaults": {
           "arrowcolor": "#2a3f5f",
           "arrowhead": 0,
           "arrowwidth": 1
          },
          "autotypenumbers": "strict",
          "coloraxis": {
           "colorbar": {
            "outlinewidth": 0,
            "ticks": ""
           }
          },
          "colorscale": {
           "diverging": [
            [
             0,
             "#8e0152"
            ],
            [
             0.1,
             "#c51b7d"
            ],
            [
             0.2,
             "#de77ae"
            ],
            [
             0.3,
             "#f1b6da"
            ],
            [
             0.4,
             "#fde0ef"
            ],
            [
             0.5,
             "#f7f7f7"
            ],
            [
             0.6,
             "#e6f5d0"
            ],
            [
             0.7,
             "#b8e186"
            ],
            [
             0.8,
             "#7fbc41"
            ],
            [
             0.9,
             "#4d9221"
            ],
            [
             1,
             "#276419"
            ]
           ],
           "sequential": [
            [
             0,
             "#0d0887"
            ],
            [
             0.1111111111111111,
             "#46039f"
            ],
            [
             0.2222222222222222,
             "#7201a8"
            ],
            [
             0.3333333333333333,
             "#9c179e"
            ],
            [
             0.4444444444444444,
             "#bd3786"
            ],
            [
             0.5555555555555556,
             "#d8576b"
            ],
            [
             0.6666666666666666,
             "#ed7953"
            ],
            [
             0.7777777777777778,
             "#fb9f3a"
            ],
            [
             0.8888888888888888,
             "#fdca26"
            ],
            [
             1,
             "#f0f921"
            ]
           ],
           "sequentialminus": [
            [
             0,
             "#0d0887"
            ],
            [
             0.1111111111111111,
             "#46039f"
            ],
            [
             0.2222222222222222,
             "#7201a8"
            ],
            [
             0.3333333333333333,
             "#9c179e"
            ],
            [
             0.4444444444444444,
             "#bd3786"
            ],
            [
             0.5555555555555556,
             "#d8576b"
            ],
            [
             0.6666666666666666,
             "#ed7953"
            ],
            [
             0.7777777777777778,
             "#fb9f3a"
            ],
            [
             0.8888888888888888,
             "#fdca26"
            ],
            [
             1,
             "#f0f921"
            ]
           ]
          },
          "colorway": [
           "#636efa",
           "#EF553B",
           "#00cc96",
           "#ab63fa",
           "#FFA15A",
           "#19d3f3",
           "#FF6692",
           "#B6E880",
           "#FF97FF",
           "#FECB52"
          ],
          "font": {
           "color": "#2a3f5f"
          },
          "geo": {
           "bgcolor": "white",
           "lakecolor": "white",
           "landcolor": "white",
           "showlakes": true,
           "showland": true,
           "subunitcolor": "#C8D4E3"
          },
          "hoverlabel": {
           "align": "left"
          },
          "hovermode": "closest",
          "mapbox": {
           "style": "light"
          },
          "paper_bgcolor": "white",
          "plot_bgcolor": "white",
          "polar": {
           "angularaxis": {
            "gridcolor": "#EBF0F8",
            "linecolor": "#EBF0F8",
            "ticks": ""
           },
           "bgcolor": "white",
           "radialaxis": {
            "gridcolor": "#EBF0F8",
            "linecolor": "#EBF0F8",
            "ticks": ""
           }
          },
          "scene": {
           "xaxis": {
            "backgroundcolor": "white",
            "gridcolor": "#DFE8F3",
            "gridwidth": 2,
            "linecolor": "#EBF0F8",
            "showbackground": true,
            "ticks": "",
            "zerolinecolor": "#EBF0F8"
           },
           "yaxis": {
            "backgroundcolor": "white",
            "gridcolor": "#DFE8F3",
            "gridwidth": 2,
            "linecolor": "#EBF0F8",
            "showbackground": true,
            "ticks": "",
            "zerolinecolor": "#EBF0F8"
           },
           "zaxis": {
            "backgroundcolor": "white",
            "gridcolor": "#DFE8F3",
            "gridwidth": 2,
            "linecolor": "#EBF0F8",
            "showbackground": true,
            "ticks": "",
            "zerolinecolor": "#EBF0F8"
           }
          },
          "shapedefaults": {
           "line": {
            "color": "#2a3f5f"
           }
          },
          "ternary": {
           "aaxis": {
            "gridcolor": "#DFE8F3",
            "linecolor": "#A2B1C6",
            "ticks": ""
           },
           "baxis": {
            "gridcolor": "#DFE8F3",
            "linecolor": "#A2B1C6",
            "ticks": ""
           },
           "bgcolor": "white",
           "caxis": {
            "gridcolor": "#DFE8F3",
            "linecolor": "#A2B1C6",
            "ticks": ""
           }
          },
          "title": {
           "x": 0.05
          },
          "xaxis": {
           "automargin": true,
           "gridcolor": "#EBF0F8",
           "linecolor": "#EBF0F8",
           "ticks": "",
           "title": {
            "standoff": 15
           },
           "zerolinecolor": "#EBF0F8",
           "zerolinewidth": 2
          },
          "yaxis": {
           "automargin": true,
           "gridcolor": "#EBF0F8",
           "linecolor": "#EBF0F8",
           "ticks": "",
           "title": {
            "standoff": 15
           },
           "zerolinecolor": "#EBF0F8",
           "zerolinewidth": 2
          }
         }
        },
        "title": {
         "text": "3D Scatter Plot"
        }
       }
      }
     },
     "metadata": {},
     "output_type": "display_data"
    },
    {
     "name": "stdout",
     "output_type": "stream",
     "text": [
      "Max utility value: \n",
      "[Fraction(0, 1) Fraction(1, 2) Fraction(1, 2) Fraction(0, 1)]\n",
      "[0.  0.5 0.5 0. ]\n",
      "0.15641547861507127\n"
     ]
    }
   ],
   "source": [
    "budget = 1\n",
    "gridSize = (5, 5)\n",
    "target = Node(4, 4)\n",
    "strategies = list([  \n",
    "    Strategy({ Action.DOWN: frac(1, 2), Action.RIGHT: frac(1, 2) }) \n",
    "])\n",
    "enumerated_strategies = dict(enumerate(strategies, start=1))\n",
    "\n",
    "pomdp = POMDP(gridSize=gridSize, target=target, model='grid', budget=budget)\n",
    "\n",
    "# Assign strategies to the nodes\n",
    "for node in pomdp.nodes: node.assign_strategy(enumerated_strategies[1], 1)\n",
    "observations =  {n: n.strategy_id for n in pomdp.nodes if n != target}\n",
    "\n",
    "# ---------------------------------------------------------\n",
    "# get one specific utility value\n",
    "# print(pomdp.utility(enumerated_strategies, assignments)[0])\n",
    "# ---------------------------------------------------------\n",
    "\n",
    "combinations_, U = pomdp.generate_points(enumerated_strategies, observations, sections=15, write_to_file=True)\n",
    "plot_actions_3D(combinations_, U, actions = [Action.DOWN, Action.RIGHT])\n",
    "\n",
    "# get the probability distribution of the actions that maximizes the utility\n",
    "max_index = np.argmax(U)\n",
    "approx = np.around(list(map(float, combinations_[max_index][0])), 2)\n",
    "\n",
    "print('Max utility value: ')\n",
    "print(combinations_[max_index][0])\n",
    "print(approx)\n",
    "print(U[max_index])"
   ]
  },
  {
   "cell_type": "markdown",
   "metadata": {},
   "source": [
    "5x5 grid with the target in the bottom middle"
   ]
  },
  {
   "cell_type": "code",
   "execution_count": 4,
   "metadata": {},
   "outputs": [
    {
     "data": {
      "application/vnd.plotly.v1+json": {
       "config": {
        "plotlyServerURL": "https://plot.ly"
       },
       "data": [
        {
         "marker": {
          "color": [
           "blue",
           "blue",
           "blue",
           "blue",
           "blue",
           "blue",
           "blue",
           "blue",
           "blue",
           "blue",
           "blue",
           "blue",
           "blue",
           "blue",
           "blue",
           "blue",
           "blue",
           "blue",
           "blue",
           "blue",
           "blue",
           "blue",
           "blue",
           "blue",
           "blue",
           "blue",
           "blue",
           "blue",
           "blue",
           "blue",
           "red",
           "blue",
           "blue",
           "blue",
           "blue",
           "blue",
           "blue",
           "blue",
           "blue",
           "blue",
           "blue",
           "blue",
           "blue",
           "blue",
           "blue",
           "blue",
           "blue",
           "blue",
           "blue",
           "blue",
           "blue",
           "blue",
           "blue",
           "blue",
           "blue"
          ],
          "opacity": 0.7,
          "size": [
           1,
           1,
           1,
           1,
           1,
           1,
           1,
           1,
           1,
           1,
           1,
           3.7268651583488306,
           7.665513931366941,
           10.226050477754526,
           11.133333333333333,
           10.226050477754526,
           7.665513931366941,
           3.7268651583488306,
           1,
           1,
           4.621403502119453,
           11.363944863211739,
           16.379090565894792,
           16.379090565894792,
           11.363944863211739,
           4.621403502119453,
           1,
           1,
           5.692180782088191,
           14.986566835066487,
           20,
           14.986566835066487,
           5.692180782088191,
           1,
           1,
           7.204044113006889,
           18.359803404172567,
           18.359803404172567,
           7.204044113006889,
           1,
           1,
           9.35372214991232,
           19.095238095238095,
           9.35372214991232,
           1,
           1,
           11.977376529652108,
           11.977376529652108,
           1,
           1,
           12.083333333333334,
           1,
           1,
           1,
           1
          ]
         },
         "mode": "markers",
         "type": "scatter3d",
         "x": [
          0,
          0,
          0,
          0,
          0,
          0,
          0,
          0,
          0,
          0,
          0.1111111111111111,
          0.1111111111111111,
          0.1111111111111111,
          0.1111111111111111,
          0.1111111111111111,
          0.1111111111111111,
          0.1111111111111111,
          0.1111111111111111,
          0.1111111111111111,
          0.2222222222222222,
          0.2222222222222222,
          0.2222222222222222,
          0.2222222222222222,
          0.2222222222222222,
          0.2222222222222222,
          0.2222222222222222,
          0.2222222222222222,
          0.3333333333333333,
          0.3333333333333333,
          0.3333333333333333,
          0.3333333333333333,
          0.3333333333333333,
          0.3333333333333333,
          0.3333333333333333,
          0.4444444444444444,
          0.4444444444444444,
          0.4444444444444444,
          0.4444444444444444,
          0.4444444444444444,
          0.4444444444444444,
          0.5555555555555556,
          0.5555555555555556,
          0.5555555555555556,
          0.5555555555555556,
          0.5555555555555556,
          0.6666666666666666,
          0.6666666666666666,
          0.6666666666666666,
          0.6666666666666666,
          0.7777777777777778,
          0.7777777777777778,
          0.7777777777777778,
          0.8888888888888888,
          0.8888888888888888,
          1
         ],
         "y": [
          0,
          0.1111111111111111,
          0.2222222222222222,
          0.3333333333333333,
          0.4444444444444444,
          0.5555555555555556,
          0.6666666666666666,
          0.7777777777777778,
          0.8888888888888888,
          1,
          0,
          0.1111111111111111,
          0.2222222222222222,
          0.3333333333333333,
          0.4444444444444444,
          0.5555555555555556,
          0.6666666666666666,
          0.7777777777777778,
          0.8888888888888888,
          0,
          0.1111111111111111,
          0.2222222222222222,
          0.3333333333333333,
          0.4444444444444444,
          0.5555555555555556,
          0.6666666666666666,
          0.7777777777777778,
          0,
          0.1111111111111111,
          0.2222222222222222,
          0.3333333333333333,
          0.4444444444444444,
          0.5555555555555556,
          0.6666666666666666,
          0,
          0.1111111111111111,
          0.2222222222222222,
          0.3333333333333333,
          0.4444444444444444,
          0.5555555555555556,
          0,
          0.1111111111111111,
          0.2222222222222222,
          0.3333333333333333,
          0.4444444444444444,
          0,
          0.1111111111111111,
          0.2222222222222222,
          0.3333333333333333,
          0,
          0.1111111111111111,
          0.2222222222222222,
          0,
          0.1111111111111111,
          0
         ],
         "z": [
          1,
          0.8888888888888888,
          0.7777777777777778,
          0.6666666666666666,
          0.5555555555555556,
          0.4444444444444444,
          0.3333333333333333,
          0.2222222222222222,
          0.1111111111111111,
          0,
          0.8888888888888888,
          0.7777777777777778,
          0.6666666666666666,
          0.5555555555555556,
          0.4444444444444444,
          0.3333333333333333,
          0.2222222222222222,
          0.1111111111111111,
          0,
          0.7777777777777778,
          0.6666666666666666,
          0.5555555555555556,
          0.4444444444444444,
          0.3333333333333333,
          0.2222222222222222,
          0.1111111111111111,
          0,
          0.6666666666666666,
          0.5555555555555556,
          0.4444444444444444,
          0.3333333333333333,
          0.2222222222222222,
          0.1111111111111111,
          0,
          0.5555555555555556,
          0.4444444444444444,
          0.3333333333333333,
          0.2222222222222222,
          0.1111111111111111,
          0,
          0.4444444444444444,
          0.3333333333333333,
          0.2222222222222222,
          0.1111111111111111,
          0,
          0.3333333333333333,
          0.2222222222222222,
          0.1111111111111111,
          0,
          0.2222222222222222,
          0.1111111111111111,
          0,
          0.1111111111111111,
          0,
          0
         ]
        }
       ],
       "layout": {
        "scene": {
         "xaxis": {
          "title": {
           "text": "d"
          }
         },
         "yaxis": {
          "title": {
           "text": "r"
          }
         },
         "zaxis": {
          "title": {
           "text": "l"
          }
         }
        },
        "template": {
         "data": {
          "bar": [
           {
            "error_x": {
             "color": "#2a3f5f"
            },
            "error_y": {
             "color": "#2a3f5f"
            },
            "marker": {
             "line": {
              "color": "white",
              "width": 0.5
             },
             "pattern": {
              "fillmode": "overlay",
              "size": 10,
              "solidity": 0.2
             }
            },
            "type": "bar"
           }
          ],
          "barpolar": [
           {
            "marker": {
             "line": {
              "color": "white",
              "width": 0.5
             },
             "pattern": {
              "fillmode": "overlay",
              "size": 10,
              "solidity": 0.2
             }
            },
            "type": "barpolar"
           }
          ],
          "carpet": [
           {
            "aaxis": {
             "endlinecolor": "#2a3f5f",
             "gridcolor": "#C8D4E3",
             "linecolor": "#C8D4E3",
             "minorgridcolor": "#C8D4E3",
             "startlinecolor": "#2a3f5f"
            },
            "baxis": {
             "endlinecolor": "#2a3f5f",
             "gridcolor": "#C8D4E3",
             "linecolor": "#C8D4E3",
             "minorgridcolor": "#C8D4E3",
             "startlinecolor": "#2a3f5f"
            },
            "type": "carpet"
           }
          ],
          "choropleth": [
           {
            "colorbar": {
             "outlinewidth": 0,
             "ticks": ""
            },
            "type": "choropleth"
           }
          ],
          "contour": [
           {
            "colorbar": {
             "outlinewidth": 0,
             "ticks": ""
            },
            "colorscale": [
             [
              0,
              "#0d0887"
             ],
             [
              0.1111111111111111,
              "#46039f"
             ],
             [
              0.2222222222222222,
              "#7201a8"
             ],
             [
              0.3333333333333333,
              "#9c179e"
             ],
             [
              0.4444444444444444,
              "#bd3786"
             ],
             [
              0.5555555555555556,
              "#d8576b"
             ],
             [
              0.6666666666666666,
              "#ed7953"
             ],
             [
              0.7777777777777778,
              "#fb9f3a"
             ],
             [
              0.8888888888888888,
              "#fdca26"
             ],
             [
              1,
              "#f0f921"
             ]
            ],
            "type": "contour"
           }
          ],
          "contourcarpet": [
           {
            "colorbar": {
             "outlinewidth": 0,
             "ticks": ""
            },
            "type": "contourcarpet"
           }
          ],
          "heatmap": [
           {
            "colorbar": {
             "outlinewidth": 0,
             "ticks": ""
            },
            "colorscale": [
             [
              0,
              "#0d0887"
             ],
             [
              0.1111111111111111,
              "#46039f"
             ],
             [
              0.2222222222222222,
              "#7201a8"
             ],
             [
              0.3333333333333333,
              "#9c179e"
             ],
             [
              0.4444444444444444,
              "#bd3786"
             ],
             [
              0.5555555555555556,
              "#d8576b"
             ],
             [
              0.6666666666666666,
              "#ed7953"
             ],
             [
              0.7777777777777778,
              "#fb9f3a"
             ],
             [
              0.8888888888888888,
              "#fdca26"
             ],
             [
              1,
              "#f0f921"
             ]
            ],
            "type": "heatmap"
           }
          ],
          "heatmapgl": [
           {
            "colorbar": {
             "outlinewidth": 0,
             "ticks": ""
            },
            "colorscale": [
             [
              0,
              "#0d0887"
             ],
             [
              0.1111111111111111,
              "#46039f"
             ],
             [
              0.2222222222222222,
              "#7201a8"
             ],
             [
              0.3333333333333333,
              "#9c179e"
             ],
             [
              0.4444444444444444,
              "#bd3786"
             ],
             [
              0.5555555555555556,
              "#d8576b"
             ],
             [
              0.6666666666666666,
              "#ed7953"
             ],
             [
              0.7777777777777778,
              "#fb9f3a"
             ],
             [
              0.8888888888888888,
              "#fdca26"
             ],
             [
              1,
              "#f0f921"
             ]
            ],
            "type": "heatmapgl"
           }
          ],
          "histogram": [
           {
            "marker": {
             "pattern": {
              "fillmode": "overlay",
              "size": 10,
              "solidity": 0.2
             }
            },
            "type": "histogram"
           }
          ],
          "histogram2d": [
           {
            "colorbar": {
             "outlinewidth": 0,
             "ticks": ""
            },
            "colorscale": [
             [
              0,
              "#0d0887"
             ],
             [
              0.1111111111111111,
              "#46039f"
             ],
             [
              0.2222222222222222,
              "#7201a8"
             ],
             [
              0.3333333333333333,
              "#9c179e"
             ],
             [
              0.4444444444444444,
              "#bd3786"
             ],
             [
              0.5555555555555556,
              "#d8576b"
             ],
             [
              0.6666666666666666,
              "#ed7953"
             ],
             [
              0.7777777777777778,
              "#fb9f3a"
             ],
             [
              0.8888888888888888,
              "#fdca26"
             ],
             [
              1,
              "#f0f921"
             ]
            ],
            "type": "histogram2d"
           }
          ],
          "histogram2dcontour": [
           {
            "colorbar": {
             "outlinewidth": 0,
             "ticks": ""
            },
            "colorscale": [
             [
              0,
              "#0d0887"
             ],
             [
              0.1111111111111111,
              "#46039f"
             ],
             [
              0.2222222222222222,
              "#7201a8"
             ],
             [
              0.3333333333333333,
              "#9c179e"
             ],
             [
              0.4444444444444444,
              "#bd3786"
             ],
             [
              0.5555555555555556,
              "#d8576b"
             ],
             [
              0.6666666666666666,
              "#ed7953"
             ],
             [
              0.7777777777777778,
              "#fb9f3a"
             ],
             [
              0.8888888888888888,
              "#fdca26"
             ],
             [
              1,
              "#f0f921"
             ]
            ],
            "type": "histogram2dcontour"
           }
          ],
          "mesh3d": [
           {
            "colorbar": {
             "outlinewidth": 0,
             "ticks": ""
            },
            "type": "mesh3d"
           }
          ],
          "parcoords": [
           {
            "line": {
             "colorbar": {
              "outlinewidth": 0,
              "ticks": ""
             }
            },
            "type": "parcoords"
           }
          ],
          "pie": [
           {
            "automargin": true,
            "type": "pie"
           }
          ],
          "scatter": [
           {
            "fillpattern": {
             "fillmode": "overlay",
             "size": 10,
             "solidity": 0.2
            },
            "type": "scatter"
           }
          ],
          "scatter3d": [
           {
            "line": {
             "colorbar": {
              "outlinewidth": 0,
              "ticks": ""
             }
            },
            "marker": {
             "colorbar": {
              "outlinewidth": 0,
              "ticks": ""
             }
            },
            "type": "scatter3d"
           }
          ],
          "scattercarpet": [
           {
            "marker": {
             "colorbar": {
              "outlinewidth": 0,
              "ticks": ""
             }
            },
            "type": "scattercarpet"
           }
          ],
          "scattergeo": [
           {
            "marker": {
             "colorbar": {
              "outlinewidth": 0,
              "ticks": ""
             }
            },
            "type": "scattergeo"
           }
          ],
          "scattergl": [
           {
            "marker": {
             "colorbar": {
              "outlinewidth": 0,
              "ticks": ""
             }
            },
            "type": "scattergl"
           }
          ],
          "scattermapbox": [
           {
            "marker": {
             "colorbar": {
              "outlinewidth": 0,
              "ticks": ""
             }
            },
            "type": "scattermapbox"
           }
          ],
          "scatterpolar": [
           {
            "marker": {
             "colorbar": {
              "outlinewidth": 0,
              "ticks": ""
             }
            },
            "type": "scatterpolar"
           }
          ],
          "scatterpolargl": [
           {
            "marker": {
             "colorbar": {
              "outlinewidth": 0,
              "ticks": ""
             }
            },
            "type": "scatterpolargl"
           }
          ],
          "scatterternary": [
           {
            "marker": {
             "colorbar": {
              "outlinewidth": 0,
              "ticks": ""
             }
            },
            "type": "scatterternary"
           }
          ],
          "surface": [
           {
            "colorbar": {
             "outlinewidth": 0,
             "ticks": ""
            },
            "colorscale": [
             [
              0,
              "#0d0887"
             ],
             [
              0.1111111111111111,
              "#46039f"
             ],
             [
              0.2222222222222222,
              "#7201a8"
             ],
             [
              0.3333333333333333,
              "#9c179e"
             ],
             [
              0.4444444444444444,
              "#bd3786"
             ],
             [
              0.5555555555555556,
              "#d8576b"
             ],
             [
              0.6666666666666666,
              "#ed7953"
             ],
             [
              0.7777777777777778,
              "#fb9f3a"
             ],
             [
              0.8888888888888888,
              "#fdca26"
             ],
             [
              1,
              "#f0f921"
             ]
            ],
            "type": "surface"
           }
          ],
          "table": [
           {
            "cells": {
             "fill": {
              "color": "#EBF0F8"
             },
             "line": {
              "color": "white"
             }
            },
            "header": {
             "fill": {
              "color": "#C8D4E3"
             },
             "line": {
              "color": "white"
             }
            },
            "type": "table"
           }
          ]
         },
         "layout": {
          "annotationdefaults": {
           "arrowcolor": "#2a3f5f",
           "arrowhead": 0,
           "arrowwidth": 1
          },
          "autotypenumbers": "strict",
          "coloraxis": {
           "colorbar": {
            "outlinewidth": 0,
            "ticks": ""
           }
          },
          "colorscale": {
           "diverging": [
            [
             0,
             "#8e0152"
            ],
            [
             0.1,
             "#c51b7d"
            ],
            [
             0.2,
             "#de77ae"
            ],
            [
             0.3,
             "#f1b6da"
            ],
            [
             0.4,
             "#fde0ef"
            ],
            [
             0.5,
             "#f7f7f7"
            ],
            [
             0.6,
             "#e6f5d0"
            ],
            [
             0.7,
             "#b8e186"
            ],
            [
             0.8,
             "#7fbc41"
            ],
            [
             0.9,
             "#4d9221"
            ],
            [
             1,
             "#276419"
            ]
           ],
           "sequential": [
            [
             0,
             "#0d0887"
            ],
            [
             0.1111111111111111,
             "#46039f"
            ],
            [
             0.2222222222222222,
             "#7201a8"
            ],
            [
             0.3333333333333333,
             "#9c179e"
            ],
            [
             0.4444444444444444,
             "#bd3786"
            ],
            [
             0.5555555555555556,
             "#d8576b"
            ],
            [
             0.6666666666666666,
             "#ed7953"
            ],
            [
             0.7777777777777778,
             "#fb9f3a"
            ],
            [
             0.8888888888888888,
             "#fdca26"
            ],
            [
             1,
             "#f0f921"
            ]
           ],
           "sequentialminus": [
            [
             0,
             "#0d0887"
            ],
            [
             0.1111111111111111,
             "#46039f"
            ],
            [
             0.2222222222222222,
             "#7201a8"
            ],
            [
             0.3333333333333333,
             "#9c179e"
            ],
            [
             0.4444444444444444,
             "#bd3786"
            ],
            [
             0.5555555555555556,
             "#d8576b"
            ],
            [
             0.6666666666666666,
             "#ed7953"
            ],
            [
             0.7777777777777778,
             "#fb9f3a"
            ],
            [
             0.8888888888888888,
             "#fdca26"
            ],
            [
             1,
             "#f0f921"
            ]
           ]
          },
          "colorway": [
           "#636efa",
           "#EF553B",
           "#00cc96",
           "#ab63fa",
           "#FFA15A",
           "#19d3f3",
           "#FF6692",
           "#B6E880",
           "#FF97FF",
           "#FECB52"
          ],
          "font": {
           "color": "#2a3f5f"
          },
          "geo": {
           "bgcolor": "white",
           "lakecolor": "white",
           "landcolor": "white",
           "showlakes": true,
           "showland": true,
           "subunitcolor": "#C8D4E3"
          },
          "hoverlabel": {
           "align": "left"
          },
          "hovermode": "closest",
          "mapbox": {
           "style": "light"
          },
          "paper_bgcolor": "white",
          "plot_bgcolor": "white",
          "polar": {
           "angularaxis": {
            "gridcolor": "#EBF0F8",
            "linecolor": "#EBF0F8",
            "ticks": ""
           },
           "bgcolor": "white",
           "radialaxis": {
            "gridcolor": "#EBF0F8",
            "linecolor": "#EBF0F8",
            "ticks": ""
           }
          },
          "scene": {
           "xaxis": {
            "backgroundcolor": "white",
            "gridcolor": "#DFE8F3",
            "gridwidth": 2,
            "linecolor": "#EBF0F8",
            "showbackground": true,
            "ticks": "",
            "zerolinecolor": "#EBF0F8"
           },
           "yaxis": {
            "backgroundcolor": "white",
            "gridcolor": "#DFE8F3",
            "gridwidth": 2,
            "linecolor": "#EBF0F8",
            "showbackground": true,
            "ticks": "",
            "zerolinecolor": "#EBF0F8"
           },
           "zaxis": {
            "backgroundcolor": "white",
            "gridcolor": "#DFE8F3",
            "gridwidth": 2,
            "linecolor": "#EBF0F8",
            "showbackground": true,
            "ticks": "",
            "zerolinecolor": "#EBF0F8"
           }
          },
          "shapedefaults": {
           "line": {
            "color": "#2a3f5f"
           }
          },
          "ternary": {
           "aaxis": {
            "gridcolor": "#DFE8F3",
            "linecolor": "#A2B1C6",
            "ticks": ""
           },
           "baxis": {
            "gridcolor": "#DFE8F3",
            "linecolor": "#A2B1C6",
            "ticks": ""
           },
           "bgcolor": "white",
           "caxis": {
            "gridcolor": "#DFE8F3",
            "linecolor": "#A2B1C6",
            "ticks": ""
           }
          },
          "title": {
           "x": 0.05
          },
          "xaxis": {
           "automargin": true,
           "gridcolor": "#EBF0F8",
           "linecolor": "#EBF0F8",
           "ticks": "",
           "title": {
            "standoff": 15
           },
           "zerolinecolor": "#EBF0F8",
           "zerolinewidth": 2
          },
          "yaxis": {
           "automargin": true,
           "gridcolor": "#EBF0F8",
           "linecolor": "#EBF0F8",
           "ticks": "",
           "title": {
            "standoff": 15
           },
           "zerolinecolor": "#EBF0F8",
           "zerolinewidth": 2
          }
         }
        }
       }
      }
     },
     "metadata": {},
     "output_type": "display_data"
    },
    {
     "name": "stdout",
     "output_type": "stream",
     "text": [
      "Max utility value: \n",
      "[Fraction(0, 1) Fraction(1, 3) Fraction(1, 3) Fraction(1, 3)]\n",
      "[0.   0.33 0.33 0.33]\n",
      "0.08\n"
     ]
    }
   ],
   "source": [
    "budget = 1\n",
    "gridSize = (5, 5)\n",
    "target = Node(4, 2)\n",
    "strategies = list([ \n",
    "    Strategy({ Action.DOWN: frac(1, 3), Action.RIGHT: frac(1, 3), Action.LEFT: frac(1, 3) }) \n",
    "])\n",
    "enumerated_strategies = dict(enumerate(strategies, start=1))\n",
    "\n",
    "pomdp = POMDP(gridSize=gridSize, target=target, model='grid', budget=budget)\n",
    "\n",
    "# Assign strategies to the nodes\n",
    "for node in pomdp.nodes: node.assign_strategy(enumerated_strategies[1], 1)\n",
    "observations =  {n: n.strategy_id for n in pomdp.nodes if n != target}\n",
    "\n",
    "# ---------------------------------------------------------\n",
    "# get one specific utility value\n",
    "# print(pomdp.utility(enumerated_strategies, assignments)[0])\n",
    "# ---------------------------------------------------------\n",
    "\n",
    "combinations_, U = pomdp.generate_points(enumerated_strategies, observations, sections=10, write_to_file=True)\n",
    "plot_actions_4D(combinations_, U, actions = [Action.DOWN, Action.RIGHT, Action.LEFT])\n",
    "\n",
    "# get the probability distribution of the actions that maximizes the utility\n",
    "max_index = np.argmax(U)\n",
    "approx = np.around(list(map(float, combinations_[max_index][0])), 2)\n",
    "\n",
    "print('Max utility value: ')\n",
    "print(combinations_[max_index][0])\n",
    "print(approx)\n",
    "print(U[max_index]) # 0.07480985633519664"
   ]
  },
  {
   "cell_type": "markdown",
   "metadata": {},
   "source": [
    "5x5 grid with the target close to the bottom left."
   ]
  },
  {
   "cell_type": "code",
   "execution_count": 3,
   "metadata": {},
   "outputs": [
    {
     "data": {
      "application/vnd.plotly.v1+json": {
       "config": {
        "plotlyServerURL": "https://plot.ly"
       },
       "data": [
        {
         "marker": {
          "color": [
           "blue",
           "blue",
           "blue",
           "blue",
           "blue",
           "blue",
           "blue",
           "blue",
           "blue",
           "blue",
           "blue",
           "blue",
           "blue",
           "blue",
           "blue",
           "blue",
           "blue",
           "blue",
           "blue",
           "blue",
           "blue",
           "blue",
           "blue",
           "blue",
           "blue",
           "blue",
           "blue",
           "blue",
           "blue",
           "blue",
           "blue",
           "blue",
           "blue",
           "blue",
           "blue",
           "blue",
           "blue",
           "blue",
           "blue",
           "blue",
           "blue",
           "blue",
           "blue",
           "blue",
           "blue",
           "blue",
           "blue",
           "blue",
           "blue",
           "blue",
           "blue",
           "blue",
           "blue",
           "blue",
           "blue",
           "blue",
           "blue",
           "blue",
           "blue",
           "blue",
           "blue",
           "blue",
           "blue",
           "blue",
           "blue",
           "blue",
           "blue",
           "blue",
           "blue",
           "blue",
           "blue",
           "blue",
           "blue",
           "blue",
           "blue",
           "blue",
           "blue",
           "blue",
           "blue",
           "blue",
           "blue",
           "blue",
           "blue",
           "blue",
           "blue",
           "blue",
           "blue",
           "blue",
           "blue",
           "blue",
           "blue",
           "blue",
           "blue",
           "blue",
           "blue",
           "blue",
           "blue",
           "blue",
           "blue",
           "blue",
           "blue",
           "blue",
           "blue",
           "blue",
           "blue",
           "blue",
           "blue",
           "blue",
           "blue",
           "blue",
           "blue",
           "blue",
           "blue",
           "blue",
           "blue",
           "blue",
           "blue",
           "blue",
           "blue",
           "blue",
           "blue",
           "blue",
           "blue",
           "blue",
           "blue",
           "blue",
           "blue",
           "blue",
           "blue",
           "blue",
           "blue",
           "blue",
           "blue",
           "blue",
           "blue",
           "blue",
           "blue",
           "blue",
           "blue",
           "blue",
           "blue",
           "blue",
           "blue",
           "blue",
           "blue",
           "blue",
           "blue",
           "blue",
           "blue",
           "blue",
           "blue",
           "blue",
           "blue",
           "blue",
           "blue",
           "blue",
           "blue",
           "blue",
           "blue",
           "blue",
           "blue",
           "blue",
           "blue",
           "blue",
           "blue",
           "blue",
           "blue",
           "blue",
           "blue",
           "blue",
           "blue",
           "blue",
           "blue",
           "blue",
           "blue",
           "blue",
           "blue",
           "blue",
           "blue",
           "blue",
           "blue",
           "blue",
           "blue",
           "blue",
           "blue",
           "blue",
           "blue",
           "blue",
           "blue",
           "blue",
           "blue",
           "blue",
           "blue",
           "blue",
           "blue",
           "blue",
           "blue",
           "blue",
           "blue",
           "blue",
           "blue",
           "blue",
           "blue",
           "blue",
           "blue",
           "blue",
           "blue",
           "blue",
           "blue",
           "blue",
           "blue",
           "blue",
           "blue",
           "blue",
           "blue",
           "blue",
           "blue",
           "blue",
           "blue",
           "blue",
           "blue",
           "blue",
           "blue",
           "blue",
           "blue",
           "blue",
           "blue",
           "blue",
           "blue",
           "blue",
           "blue",
           "blue",
           "blue",
           "blue",
           "blue",
           "blue",
           "blue",
           "blue",
           "blue",
           "blue",
           "blue",
           "blue",
           "blue",
           "blue",
           "blue",
           "blue",
           "blue",
           "blue",
           "blue",
           "blue",
           "blue",
           "blue",
           "blue",
           "blue",
           "blue",
           "blue",
           "blue",
           "blue",
           "blue",
           "blue",
           "blue",
           "blue",
           "blue",
           "blue",
           "blue",
           "blue",
           "blue",
           "blue",
           "blue",
           "blue",
           "blue",
           "blue",
           "blue",
           "blue",
           "blue",
           "blue",
           "blue",
           "blue",
           "blue",
           "blue",
           "blue",
           "blue",
           "blue",
           "blue",
           "blue",
           "blue",
           "blue",
           "blue",
           "blue",
           "blue",
           "blue",
           "blue",
           "blue",
           "blue",
           "blue",
           "blue",
           "blue",
           "blue",
           "blue",
           "blue",
           "blue",
           "blue",
           "blue",
           "blue",
           "blue",
           "blue",
           "blue",
           "blue",
           "blue",
           "blue",
           "blue",
           "blue",
           "blue",
           "blue",
           "blue",
           "blue",
           "blue",
           "blue",
           "blue",
           "blue",
           "blue",
           "blue",
           "blue",
           "blue",
           "blue",
           "blue",
           "blue",
           "blue",
           "blue",
           "blue",
           "blue",
           "blue",
           "blue",
           "blue",
           "blue",
           "blue",
           "blue",
           "blue",
           "blue",
           "blue",
           "blue",
           "blue",
           "blue",
           "blue",
           "blue",
           "blue",
           "blue",
           "blue",
           "blue",
           "blue",
           "blue",
           "blue",
           "blue",
           "blue",
           "blue",
           "blue",
           "blue",
           "blue",
           "blue",
           "blue",
           "blue",
           "blue",
           "blue",
           "blue",
           "blue",
           "blue",
           "blue",
           "blue",
           "blue",
           "blue",
           "blue",
           "blue",
           "blue",
           "blue",
           "blue",
           "blue",
           "blue",
           "blue",
           "blue",
           "blue",
           "blue",
           "blue",
           "blue",
           "blue",
           "blue",
           "blue",
           "blue",
           "blue",
           "blue",
           "blue",
           "blue",
           "blue",
           "blue",
           "blue",
           "blue",
           "blue",
           "blue",
           "blue",
           "blue",
           "blue",
           "blue",
           "blue",
           "blue",
           "blue",
           "blue",
           "blue",
           "blue",
           "blue",
           "blue",
           "blue",
           "blue",
           "blue",
           "blue",
           "blue",
           "blue",
           "blue",
           "blue",
           "blue",
           "blue",
           "blue",
           "blue",
           "blue",
           "blue",
           "blue",
           "blue",
           "blue",
           "blue",
           "blue",
           "blue",
           "blue",
           "blue",
           "blue",
           "blue",
           "blue",
           "blue",
           "blue",
           "blue",
           "blue",
           "blue",
           "blue",
           "blue",
           "blue",
           "blue",
           "blue",
           "blue",
           "blue",
           "blue",
           "blue",
           "blue",
           "blue",
           "blue",
           "blue",
           "blue",
           "blue",
           "blue",
           "blue",
           "blue",
           "blue",
           "blue",
           "blue",
           "blue",
           "blue",
           "blue",
           "blue",
           "blue",
           "blue",
           "blue",
           "blue",
           "blue",
           "blue",
           "blue",
           "blue",
           "blue",
           "blue",
           "blue",
           "blue",
           "blue",
           "blue",
           "blue",
           "blue",
           "blue",
           "blue",
           "blue",
           "blue",
           "blue",
           "blue",
           "blue",
           "blue",
           "blue",
           "blue",
           "blue",
           "blue",
           "blue",
           "blue",
           "blue",
           "blue",
           "blue",
           "blue",
           "blue",
           "blue",
           "blue",
           "blue",
           "blue",
           "blue",
           "blue",
           "blue",
           "blue",
           "blue",
           "blue",
           "blue",
           "blue",
           "blue",
           "blue",
           "blue",
           "blue",
           "blue",
           "blue",
           "blue",
           "blue",
           "blue",
           "blue",
           "blue",
           "blue",
           "blue",
           "blue",
           "blue",
           "blue",
           "blue",
           "blue",
           "blue",
           "blue",
           "blue",
           "blue",
           "blue",
           "blue",
           "blue",
           "blue",
           "blue",
           "blue",
           "blue",
           "blue",
           "blue",
           "blue",
           "blue",
           "blue",
           "blue",
           "blue",
           "blue",
           "blue",
           "blue",
           "red",
           "blue",
           "blue",
           "blue",
           "blue",
           "blue",
           "blue",
           "blue",
           "blue",
           "blue",
           "blue",
           "blue",
           "blue",
           "blue",
           "blue",
           "blue",
           "blue",
           "blue",
           "blue",
           "blue",
           "blue",
           "blue",
           "blue",
           "blue",
           "blue",
           "blue",
           "blue",
           "blue",
           "blue",
           "blue",
           "blue",
           "blue",
           "blue",
           "blue",
           "blue",
           "blue",
           "blue",
           "blue",
           "blue",
           "blue",
           "blue",
           "blue",
           "blue",
           "blue",
           "blue",
           "blue",
           "blue",
           "blue",
           "blue",
           "blue",
           "blue",
           "blue",
           "blue",
           "blue",
           "blue",
           "blue",
           "blue",
           "blue",
           "blue",
           "blue",
           "blue",
           "blue",
           "blue",
           "blue",
           "blue",
           "blue",
           "blue",
           "blue",
           "blue",
           "blue",
           "blue",
           "blue",
           "blue",
           "blue",
           "blue",
           "blue",
           "blue",
           "blue",
           "blue",
           "blue",
           "blue",
           "blue",
           "blue",
           "blue",
           "blue",
           "blue",
           "blue",
           "blue",
           "blue",
           "blue",
           "blue",
           "blue",
           "blue",
           "blue",
           "blue",
           "blue",
           "blue",
           "blue",
           "blue",
           "blue",
           "blue",
           "blue",
           "blue",
           "blue",
           "blue",
           "blue",
           "blue",
           "blue",
           "blue",
           "blue",
           "blue",
           "blue",
           "blue",
           "blue",
           "blue",
           "blue",
           "blue",
           "blue",
           "blue",
           "blue",
           "blue",
           "blue",
           "blue",
           "blue",
           "blue",
           "blue",
           "blue",
           "blue",
           "blue",
           "blue",
           "blue",
           "blue",
           "blue",
           "blue",
           "blue",
           "blue",
           "blue",
           "blue",
           "blue",
           "blue",
           "blue",
           "blue",
           "blue",
           "blue",
           "blue",
           "blue",
           "blue",
           "blue",
           "blue",
           "blue",
           "blue",
           "blue",
           "blue",
           "blue",
           "blue",
           "blue",
           "blue",
           "blue",
           "blue",
           "blue",
           "blue",
           "blue",
           "blue",
           "blue",
           "blue",
           "blue",
           "blue",
           "blue",
           "blue",
           "blue",
           "blue",
           "blue",
           "blue",
           "blue",
           "blue",
           "blue",
           "blue",
           "blue",
           "blue",
           "blue",
           "blue",
           "blue",
           "blue",
           "blue",
           "blue",
           "blue",
           "blue",
           "blue",
           "blue",
           "blue",
           "blue",
           "blue",
           "blue",
           "blue",
           "blue",
           "blue",
           "blue",
           "blue",
           "blue",
           "blue",
           "blue",
           "blue",
           "blue",
           "blue",
           "blue",
           "blue",
           "blue",
           "blue",
           "blue",
           "blue",
           "blue",
           "blue",
           "blue",
           "blue",
           "blue",
           "blue",
           "blue",
           "blue",
           "blue",
           "blue",
           "blue",
           "blue",
           "blue",
           "blue",
           "blue",
           "blue",
           "blue",
           "blue",
           "blue",
           "blue",
           "blue",
           "blue",
           "blue",
           "blue",
           "blue",
           "blue",
           "blue",
           "blue",
           "blue",
           "blue",
           "blue",
           "blue",
           "blue",
           "blue",
           "blue",
           "blue",
           "blue",
           "blue",
           "blue",
           "blue",
           "blue",
           "blue",
           "blue",
           "blue",
           "blue",
           "blue",
           "blue",
           "blue",
           "blue",
           "blue",
           "blue",
           "blue",
           "blue",
           "blue",
           "blue",
           "blue",
           "blue",
           "blue",
           "blue",
           "blue"
          ],
          "opacity": 0.7,
          "size": [
           1,
           1,
           1,
           1,
           1,
           1,
           1,
           1,
           1,
           1,
           1,
           1,
           1,
           1,
           1,
           1,
           1,
           1,
           1,
           1,
           1,
           1,
           1,
           1,
           1,
           1,
           1,
           1,
           1,
           1,
           1,
           1,
           1,
           1,
           1,
           1,
           1,
           1,
           1,
           1,
           1,
           2.6607317717376526,
           2.9478343403692,
           3.0669612756920546,
           3.1320905695414516,
           3.1730085650217394,
           3.2008873506070312,
           3.2208136971273778,
           3.2353821749980605,
           3.245993230320567,
           3.2533976160239373,
           3.2579490268498286,
           3.2597299702280047,
           3.2586184316187614,
           3.2543262967203055,
           3.246424864862846,
           3.234364760547939,
           3.217492209716235,
           3.195059404912237,
           3.1662236165490776,
           3.130028691206331,
           3.085364466885362,
           3.0309046487655604,
           2.9650315062022568,
           2.8857664915494343,
           2.7907413657412965,
           2.677268438187858,
           2.542604293731413,
           2.3845430327986925,
           2.2024888970333336,
           1.9990555289029834,
           1.7818781559156305,
           1.5646519722316996,
           1.3658280775722988,
           1.2039641682029913,
           1.0910898172591283,
           1.0278590392083367,
           1.0035262813893087,
           1,
           1,
           3.5919777046634,
           4.352894169345816,
           4.7164880338132065,
           4.929122662381682,
           5.067971092947195,
           5.164798828932008,
           5.234879677087621,
           5.286242097997544,
           5.323249230072228,
           5.348174223286018,
           5.361959871543735,
           5.364615036508636,
           5.355444277084573,
           5.333206063190751,
           5.2962485217772075,
           5.242644522092685,
           5.170327657890707,
           5.077215477767313,
           4.961299817975128,
           4.820691013866657,
           4.653624187665093,
           4.458466680798738,
           4.233796420169297,
           3.9786412520813066,
           3.6929691305097503,
           3.3784846011270377,
           3.0396948063042513,
           2.6850319013457113,
           2.3275662252889067,
           1.9846270398992185,
           1.675717476952462,
           1.4187224650500725,
           1.2254521206895976,
           1.0983274253089061,
           1.02967908297216,
           1.003737056979845,
           1,
           1,
           4.205572198663068,
           5.4313316026937715,
           6.078150744754726,
           6.4766691517804755,
           6.745065488193521,
           6.935676123834694,
           7.074772059693788,
           7.1764501493066994,
           7.248336162537006,
           7.294206031781034,
           7.315305317659107,
           7.311086339408142,
           7.279693610430929,
           7.218364677093407,
           7.123828518027673,
           6.9927249827040905,
           6.822022114924045,
           6.609379049169191,
           6.3534030893124624,
           6.053786233010913,
           5.711366689616555,
           5.328216081046439,
           4.907870934619674,
           4.455787096046583,
           3.9799939197227303,
           3.491773407260396,
           3.0060215994519788,
           2.5408387162892856,
           2.1159579814123695,
           1.7499647525135107,
           1.456835841431806,
           1.2428557967703022,
           1.1050315381672842,
           1.0315551609479157,
           1.0039653752306752,
           1,
           1,
           4.654621099658437,
           6.300191553585482,
           7.234789126813689,
           7.834822795816505,
           8.249040992899165,
           8.547263018998084,
           8.765712531380235,
           8.924046475533798,
           9.032712203178733,
           9.096477778046783,
           9.116308928016037,
           9.090523156479204,
           9.015668845568621,
           8.887353188110112,
           8.701105241883738,
           8.453253027751323,
           8.141714545212823,
           7.766575585903567,
           7.330371618100893,
           6.838093393566942,
           6.297043864230814,
           5.7167220882744,
           5.108859448181283,
           4.487594686695175,
           3.8695985297111646,
           3.2738200047398984,
           2.72050591547408,
           2.229308223170316,
           1.8166440328785503,
           1.4928914993203841,
           1.2602607209321954,
           1.1120599448915673,
           1.0335813389816477,
           1.0042148479019057,
           1,
           1,
           5.009371617733104,
           7.028611999213234,
           8.241965357840654,
           9.046999056022855,
           9.613654518744436,
           10.025465821972368,
           10.326821979394355,
           10.541848786915702,
           10.682955703442301,
           10.755137088016767,
           10.758431874236411,
           10.689624588856741,
           10.543716906093628,
           10.315402947449536,
           10.000569600247522,
           9.597678188021264,
           9.1087962445473,
           8.540081248828642,
           7.901670557009049,
           7.2071286555349765,
           6.472729268281252,
           5.716826064084586,
           4.959400973843746,
           4.221661607005723,
           3.5254027015242735,
           2.891839482265892,
           2.3397956495183783,
           1.8834402616557773,
           1.530085140969114,
           1.278700142565925,
           1.1196554754325148,
           1.0357957645844404,
           1.004488524086599,
           1,
           1,
           5.30679989633775,
           7.660231243432638,
           9.138380728374653,
           10.14521280559598,
           10.864499787970262,
           11.38988941514506,
           11.771914588626752,
           12.03780902845144,
           12.200898318331312,
           12.265606371234771,
           12.230595350088274,
           12.091211573395398,
           11.841781765696958,
           11.477911224042083,
           10.998636001021362,
           10.40808834154556,
           9.716319528424206,
           8.939116174790833,
           8.096959741426637,
           7.213537372551031,
           6.31426143414391,
           5.425075520152912,
           4.571535613175847,
           3.777925041566104,
           3.0661098309859596,
           2.4539902955408777,
           1.9536845699160068,
           1.5698530047978363,
           1.2986880967020702,
           1.1279665962929608,
           1.0382304768540438,
           1.0047897569989157,
           1,
           1,
           5.568392530982162,
           8.224059749105125,
           9.95177832625856,
           11.153343775148935,
           12.020835972115075,
           12.654833280904326,
           13.109994250858408,
           13.415232298565227,
           13.58376163798961,
           13.618850273274777,
           13.517822722469601,
           13.275491107145811,
           12.887463949500935,
           12.353272402980055,
           11.678896317356969,
           10.878151784700462,
           9.972594751902253,
           8.990031770223553,
           7.962170457968337,
           6.922127109674083,
           5.902344478763668,
           4.933092372972211,
           4.041367931116689,
           3.2498634407096474,
           2.5757677120502716,
           2.029426102431228,
           1.6131523180151446,
           1.3206140167174594,
           1.1371264602645772,
           1.0409192553804942,
           1.0051224084748198,
           1,
           1,
           5.8076197879382505,
           8.740184420368664,
           10.702438751912805,
           12.089203750783582,
           13.096775051165421,
           13.829930271846077,
           14.345565618686116,
           14.67294570321829,
           14.824379336174927,
           14.801874280701607,
           14.60224720752691,
           14.221750077036909,
           13.660413130782425,
           12.92569978811537,
           12.03476379194194,
           11.014721885665779,
           9.900885603984042,
           8.733556644774438,
           7.554388042537362,
           6.403225327336981,
           5.315874883158139,
           4.3227206637824835,
           3.4478087459671145,
           2.7080334952361875,
           2.112298464994744,
           1.6608124332084073,
           1.3448504821359288,
           1.147275464041352,
           1.0439003315840052,
           1.005490989968822,
           1,
           1,
           6.033453939473514,
           9.222947555660395,
           11.405319210795241,
           12.965860781241481,
           14.102046692079542,
           14.92054888512408,
           15.478842297653928,
           15.805488768773593,
           15.91157349919425,
           15.798508237255016,
           15.464488962219658,
           14.910380566006241,
           14.144811825140575,
           13.187671212054559,
           12.07114286020235,
           10.837972068700049,
           9.537532975895072,
           8.220962223272988,
           6.936707224683072,
           5.727326713994604,
           4.627656509265453,
           3.663936707854993,
           2.8533774852397853,
           2.203845075010468,
           1.7136682695221976,
           1.3717964296114469,
           1.1585716924712302,
           1.0472181397964153,
           1.0059008120959134,
           1,
           1,
           6.252172085373664,
           9.682801020981907,
           12.071389303976995,
           13.792484906288028,
           15.04247846945118,
           15.928043291603263,
           16.505918183541908,
           16.803388382720655,
           16.830742423226503,
           16.590502676007155,
           16.08535707946345,
           15.325076438666143,
           14.331672331856073,
           13.141687598952057,
           11.8049564472278,
           10.38022656138861,
           8.929081811078614,
           7.509987464423763,
           6.173817271525733,
           4.96130102479634,
           3.902035395011998,
           3.014377799895189,
           2.305675219303687,
           1.772628701212589,
           1.401902257864903,
           1.1711984377778228,
           1.0509250015200535,
           1.0063581637821755,
           1,
           1,
           6.468340816893628,
           10.127421910014446,
           12.708468625982974,
           14.574874597112034,
           15.920282527938319,
           16.849915299568696,
           17.418960308594432,
           17.653575881100366,
           17.564702935481215,
           17.158932355736287,
           16.447779553144784,
           15.454994822029011,
           14.22068097413522,
           12.801152644426987,
           11.26457850735597,
           9.683861211925564,
           8.129026990161464,
           6.661130585828647,
           5.328617970948649,
           4.165962592875353,
           3.1937725302010445,
           2.419560071625327,
           1.8387239628944225,
           1.4356902256994568,
           1.185371541494809,
           1.055083054529992,
           1.0068705350573506,
           1,
           1,
           6.685379250210376,
           10.56239303667269,
           13.321741048669823,
           15.315763594280867,
           16.734213509641798,
           17.67994282778347,
           18.206478657317373,
           18.339997530916786,
           18.094809292285703,
           17.4858603481146,
           16.538816462028937,
           15.29666079596215,
           13.821388747073117,
           12.190337504790262,
           10.488399153254418,
           8.798727349906986,
           7.194673586364886,
           5.734608400021157,
           4.459809012979538,
           3.394577220702761,
           2.547507684741348,
           1.9131480328403314,
           1.4737752461598421,
           1.201347755113624,
           1.0597666160957895,
           1.0074468986910217,
           1,
           1,
           6.905889521981244,
           10.991612637316429,
           13.914049500091016,
           16.01497404915157,
           17.47964889405636,
           18.40832615776577,
           18.85372657313529,
           18.844458540879685,
           18.40234140736784,
           17.55617235596876,
           16.35158087686062,
           14.855419546561693,
           13.153654606533246,
           11.343545902142413,
           9.522848526962678,
           7.779503896355782,
           6.18439924374014,
           4.78800433185343,
           3.620179630977328,
           2.6918333958424245,
           1.99730328460504,
           1.5168887733370917,
           1.2194349310401527,
           1.0650651628604146,
           1.0080980701183386,
           1,
           1,
           7.131850395794586,
           11.417525610379265,
           14.486035199912617,
           16.669463236780448,
           18.148637127754935,
           19.021903025920313,
           19.34328133377806,
           19.147722449061586,
           18.470119411549977,
           17.35945373887434,
           15.886890190980708,
           14.146306860521086,
           12.247370506063408,
           10.303701894590976,
           8.420207643991208,
           6.683246701843333,
           5.155385358551648,
           3.874425060507158,
           2.8552337859683123,
           2.092851808468989,
           1.5659078470842185,
           1.2400048449308212,
           1.0710871491535496,
           1.0088371718673836,
           1,
           1,
           7.3647244642866845,
           11.841229543163987,
           15.03616280303884,
           17.273301824891806,
           18.72995797965539,
           19.504483760276234,
           19.655845551284443,
           19.230861946266423,
           18.284264925537357,
           16.891761974178102,
           15.154503706511724,
           13.194302280802589,
           11.141602618732572,
           9.120618839011327,
           7.236452258733892,
           5.567228747562453,
           4.1616968444667854,
           3.040868873841031,
           2.2017769495645707,
           1.6218914145846135,
           1.2635096176008327,
           1.0779649581678308,
           1.0096802386313768,
           1,
           1,
           7.6055062067856625,
           12.262486818682135,
           15.560660571317072,
           17.81761842271364,
           19.209241128155824,
           19.837355699017873,
           19.77129464933888,
           19.07682639409553,
           17.83600057256825,
           16.157154154042992,
           14.173866433825648,
           12.034025184022347,
           9.883341695249273,
           7.849168515341026,
           6.029238493565152,
           4.486990881319009,
           3.2524554148922817,
           2.3264585895041803,
           1.68612647367769,
           1.2905030118382261,
           1.0858613914378574,
           1.0106470135986654,
           1,
           1,
           7.854725497338563,
           12.679661500790065,
           16.053398730081526,
           18.29054578909992,
           19.56919104947473,
           20,
           19.669973970578027,
           18.67216110852367,
           17.123367784122486,
           15.168865784038431,
           12.974359385783544,
           10.709004638972399,
           8.526050073831524,
           6.547465611471228,
           4.8559772111517,
           3.49437264058213,
           2.46976606136008,
           1.7601873114860385,
           1.3216683480120115,
           1.0949782664624559,
           1.0117620079215046,
           1,
           1,
           8.112413812096069,
           13.089592522546651,
           16.505727468214083,
           18.67720709414617,
           19.7899669575024,
           19.97105249326004,
           19.334223769102795,
           18.008792033962518,
           16.152756222615032,
           13.950097757415557,
           11.595130325141502,
           9.270675269914701,
           7.128119974079382,
           5.275033536539907,
           3.7717795695241616,
           2.6351730922807564,
           1.8460121683872988,
           1.357855471559176,
           1.1055679362014086,
           1.0130559268937824,
           1,
           1,
           8.378035799806561,
           13.4874108942904,
           16.906297360123975,
           18.95978463668453,
           19.84976425896722,
           19.729523878207594,
           18.750087030439865,
           17.08578554416706,
           14.940177688272463,
           12.534437438767815,
           10.084620078757649,
           7.777207588485864,
           5.751222562819858,
           4.090739031003698,
           2.826899556407553,
           1.9460031141317042,
           1.4001302156895448,
           1.117948910058288,
           1.0145676143815696,
           1,
           1,
           8.65038572576344,
           13.866307108191746,
           17.240888472963825,
           19.117717132449254,
           19.725637900760773,
           19.25627617284831,
           17.909141776280407,
           15.91101337062743,
           13.512276098089382,
           10.965993898016807,
           8.499883403343656,
           6.292163056571944,
           4.458335939424807,
           3.050084632810729,
           2.063156874658066,
           1.4498412920773112,
           1.1325273130010185,
           1.0163467409695028,
           1,
           1,
           8.927445824285883,
           14.217255041204067,
           17.49227937120271,
           19.12807403398971,
           19.394598793276483,
           18.53573773917192,
           16.810405258965194,
           14.502698039877162,
           11.907125928940092,
           9.299337391205547,
           6.9057064701381226,
           4.882762825839628,
           3.3109942441466345,
           2.201236873518192,
           1.5087117561733923,
           1.1498267818276666,
           1.0184575774071378,
           1,
           1,
           9.206201297724968,
           14.528700089283264,
           17.640193023528905,
           18.966155935944457,
           18.83500542937818,
           17.557837321034288,
           15.462289602888774,
           12.89087667634308,
           10.174906466914857,
           7.599263803434243,
           5.373317875257817,
           3.617260374654275,
           2.3649998159643326,
           1.578965510448063,
           1.1705307571404007,
           1.0209843812672215,
           1,
           1,
           9.482404153173185,
           14.78622176501475,
           17.661362856883336,
           18.60637012967217,
           18.028270764050365,
           16.320159422196426,
           13.884649205362061,
           11.118879853403245,
           8.378506112987676,
           5.94020747902634,
           3.978136708187435,
           2.5604933442762023,
           1.6635043060929682,
           1.1955433154855117,
           1.0240392307655384,
           1,
           1,
           9.750274786715133,
           14.97218442757965,
           17.52976918242054,
           18.023433936187974,
           16.96092095117922,
           14.830380448428361,
           12.111041628518226,
           9.24493676770879,
           6.593942056438719,
           4.40472469565006,
           2.7954432088249446,
           1.7661582402775517,
           1.2260782751920685,
           1.0277736554668833,
           1,
           1,
           10.002125547148768,
           15.065394306259133,
           17.21710593746818,
           17.193974812478793,
           15.627094882400481,
           13.109145715131858,
           10.191398254724797,
           7.343909786911229,
           4.910056373729624,
           3.0797449350068473,
           1.892044016190198,
           1.2637923353703466,
           1.032396308062717,
           1,
           1,
           10.227883460159278,
           15.040787334196974,
           16.69355584978284,
           16.09864315304918,
           14.03168544589979,
           11.193689374324997,
           8.195297577681238,
           5.508769683509625,
           3.426055103087888,
           2.048081613805482,
           1.3109883642897218,
           1.038200522866542,
           1,
           1,
           10.414478410680285,
           14.869183093675868,
           15.928992089049913,
           14.724963430146541,
           12.194525423495442,
           9.142647006858502,
           6.215773874180393,
           3.8504120295597897,
           2.2437420656146863,
           1.3709331843466375,
           1.0456085784867288,
           1,
           1,
           10.545046228992076,
           14.517162192971039,
           14.894815500814238,
           13.071379821962326,
           10.156342381076422,
           7.042522547306783,
           4.372627619234631,
           2.4921223991624775,
           1.448367045091366,
           1.0552452245743857,
           1,
           1,
           10.597870341891095,
           13.947174650286227,
           13.566842626168478,
           11.153407993581117,
           7.987628540631724,
           5.015670638238649,
           2.8114444347503538,
           1.5503423141736177,
           1.0680646513276617,
           1,
           1,
           10.54494736873916,
           13.118107926318327,
           11.930125407884523,
           9.013660759607546,
           5.801803005438091,
           3.226955334446112,
           1.6876407613304767,
           1.0855798623061956,
           1,
           1,
           10.35000902452961,
           11.98684670825019,
           9.987648719604483,
           6.7389686641664985,
           3.772606329399536,
           1.877221877696111,
           1.1102995863952194,
           1,
           1,
           9.965773100240577,
           10.512158164658691,
           7.77732818899918,
           4.489414905189538,
           2.1464817838019776,
           1.1466145179319143,
           1,
           1,
           9.330188640758488,
           8.664519539923859,
           5.40736925291865,
           2.5403425875180137,
           1.2027354223738465,
           1,
           1,
           8.361780488754107,
           6.45265490280565,
           3.130162348154389,
           1.2953302617333975,
           1,
           1,
           6.956425970419547,
           4.001961264845897,
           1.461827066310165,
           1,
           1,
           5.001600857920929,
           1.7961355189632595,
           1,
           1,
           2.5305827789030975,
           1,
           1,
           1,
           1
          ]
         },
         "mode": "markers",
         "type": "scatter3d",
         "x": [
          0,
          0,
          0,
          0,
          0,
          0,
          0,
          0,
          0,
          0,
          0,
          0,
          0,
          0,
          0,
          0,
          0,
          0,
          0,
          0,
          0,
          0,
          0,
          0,
          0,
          0,
          0,
          0,
          0,
          0,
          0,
          0,
          0,
          0,
          0,
          0,
          0,
          0,
          0,
          0,
          0.02564102564102564,
          0.02564102564102564,
          0.02564102564102564,
          0.02564102564102564,
          0.02564102564102564,
          0.02564102564102564,
          0.02564102564102564,
          0.02564102564102564,
          0.02564102564102564,
          0.02564102564102564,
          0.02564102564102564,
          0.02564102564102564,
          0.02564102564102564,
          0.02564102564102564,
          0.02564102564102564,
          0.02564102564102564,
          0.02564102564102564,
          0.02564102564102564,
          0.02564102564102564,
          0.02564102564102564,
          0.02564102564102564,
          0.02564102564102564,
          0.02564102564102564,
          0.02564102564102564,
          0.02564102564102564,
          0.02564102564102564,
          0.02564102564102564,
          0.02564102564102564,
          0.02564102564102564,
          0.02564102564102564,
          0.02564102564102564,
          0.02564102564102564,
          0.02564102564102564,
          0.02564102564102564,
          0.02564102564102564,
          0.02564102564102564,
          0.02564102564102564,
          0.02564102564102564,
          0.02564102564102564,
          0.05128205128205128,
          0.05128205128205128,
          0.05128205128205128,
          0.05128205128205128,
          0.05128205128205128,
          0.05128205128205128,
          0.05128205128205128,
          0.05128205128205128,
          0.05128205128205128,
          0.05128205128205128,
          0.05128205128205128,
          0.05128205128205128,
          0.05128205128205128,
          0.05128205128205128,
          0.05128205128205128,
          0.05128205128205128,
          0.05128205128205128,
          0.05128205128205128,
          0.05128205128205128,
          0.05128205128205128,
          0.05128205128205128,
          0.05128205128205128,
          0.05128205128205128,
          0.05128205128205128,
          0.05128205128205128,
          0.05128205128205128,
          0.05128205128205128,
          0.05128205128205128,
          0.05128205128205128,
          0.05128205128205128,
          0.05128205128205128,
          0.05128205128205128,
          0.05128205128205128,
          0.05128205128205128,
          0.05128205128205128,
          0.05128205128205128,
          0.05128205128205128,
          0.05128205128205128,
          0.07692307692307693,
          0.07692307692307693,
          0.07692307692307693,
          0.07692307692307693,
          0.07692307692307693,
          0.07692307692307693,
          0.07692307692307693,
          0.07692307692307693,
          0.07692307692307693,
          0.07692307692307693,
          0.07692307692307693,
          0.07692307692307693,
          0.07692307692307693,
          0.07692307692307693,
          0.07692307692307693,
          0.07692307692307693,
          0.07692307692307693,
          0.07692307692307693,
          0.07692307692307693,
          0.07692307692307693,
          0.07692307692307693,
          0.07692307692307693,
          0.07692307692307693,
          0.07692307692307693,
          0.07692307692307693,
          0.07692307692307693,
          0.07692307692307693,
          0.07692307692307693,
          0.07692307692307693,
          0.07692307692307693,
          0.07692307692307693,
          0.07692307692307693,
          0.07692307692307693,
          0.07692307692307693,
          0.07692307692307693,
          0.07692307692307693,
          0.07692307692307693,
          0.10256410256410256,
          0.10256410256410256,
          0.10256410256410256,
          0.10256410256410256,
          0.10256410256410256,
          0.10256410256410256,
          0.10256410256410256,
          0.10256410256410256,
          0.10256410256410256,
          0.10256410256410256,
          0.10256410256410256,
          0.10256410256410256,
          0.10256410256410256,
          0.10256410256410256,
          0.10256410256410256,
          0.10256410256410256,
          0.10256410256410256,
          0.10256410256410256,
          0.10256410256410256,
          0.10256410256410256,
          0.10256410256410256,
          0.10256410256410256,
          0.10256410256410256,
          0.10256410256410256,
          0.10256410256410256,
          0.10256410256410256,
          0.10256410256410256,
          0.10256410256410256,
          0.10256410256410256,
          0.10256410256410256,
          0.10256410256410256,
          0.10256410256410256,
          0.10256410256410256,
          0.10256410256410256,
          0.10256410256410256,
          0.10256410256410256,
          0.1282051282051282,
          0.1282051282051282,
          0.1282051282051282,
          0.1282051282051282,
          0.1282051282051282,
          0.1282051282051282,
          0.1282051282051282,
          0.1282051282051282,
          0.1282051282051282,
          0.1282051282051282,
          0.1282051282051282,
          0.1282051282051282,
          0.1282051282051282,
          0.1282051282051282,
          0.1282051282051282,
          0.1282051282051282,
          0.1282051282051282,
          0.1282051282051282,
          0.1282051282051282,
          0.1282051282051282,
          0.1282051282051282,
          0.1282051282051282,
          0.1282051282051282,
          0.1282051282051282,
          0.1282051282051282,
          0.1282051282051282,
          0.1282051282051282,
          0.1282051282051282,
          0.1282051282051282,
          0.1282051282051282,
          0.1282051282051282,
          0.1282051282051282,
          0.1282051282051282,
          0.1282051282051282,
          0.1282051282051282,
          0.15384615384615385,
          0.15384615384615385,
          0.15384615384615385,
          0.15384615384615385,
          0.15384615384615385,
          0.15384615384615385,
          0.15384615384615385,
          0.15384615384615385,
          0.15384615384615385,
          0.15384615384615385,
          0.15384615384615385,
          0.15384615384615385,
          0.15384615384615385,
          0.15384615384615385,
          0.15384615384615385,
          0.15384615384615385,
          0.15384615384615385,
          0.15384615384615385,
          0.15384615384615385,
          0.15384615384615385,
          0.15384615384615385,
          0.15384615384615385,
          0.15384615384615385,
          0.15384615384615385,
          0.15384615384615385,
          0.15384615384615385,
          0.15384615384615385,
          0.15384615384615385,
          0.15384615384615385,
          0.15384615384615385,
          0.15384615384615385,
          0.15384615384615385,
          0.15384615384615385,
          0.15384615384615385,
          0.1794871794871795,
          0.1794871794871795,
          0.1794871794871795,
          0.1794871794871795,
          0.1794871794871795,
          0.1794871794871795,
          0.1794871794871795,
          0.1794871794871795,
          0.1794871794871795,
          0.1794871794871795,
          0.1794871794871795,
          0.1794871794871795,
          0.1794871794871795,
          0.1794871794871795,
          0.1794871794871795,
          0.1794871794871795,
          0.1794871794871795,
          0.1794871794871795,
          0.1794871794871795,
          0.1794871794871795,
          0.1794871794871795,
          0.1794871794871795,
          0.1794871794871795,
          0.1794871794871795,
          0.1794871794871795,
          0.1794871794871795,
          0.1794871794871795,
          0.1794871794871795,
          0.1794871794871795,
          0.1794871794871795,
          0.1794871794871795,
          0.1794871794871795,
          0.1794871794871795,
          0.20512820512820512,
          0.20512820512820512,
          0.20512820512820512,
          0.20512820512820512,
          0.20512820512820512,
          0.20512820512820512,
          0.20512820512820512,
          0.20512820512820512,
          0.20512820512820512,
          0.20512820512820512,
          0.20512820512820512,
          0.20512820512820512,
          0.20512820512820512,
          0.20512820512820512,
          0.20512820512820512,
          0.20512820512820512,
          0.20512820512820512,
          0.20512820512820512,
          0.20512820512820512,
          0.20512820512820512,
          0.20512820512820512,
          0.20512820512820512,
          0.20512820512820512,
          0.20512820512820512,
          0.20512820512820512,
          0.20512820512820512,
          0.20512820512820512,
          0.20512820512820512,
          0.20512820512820512,
          0.20512820512820512,
          0.20512820512820512,
          0.20512820512820512,
          0.23076923076923078,
          0.23076923076923078,
          0.23076923076923078,
          0.23076923076923078,
          0.23076923076923078,
          0.23076923076923078,
          0.23076923076923078,
          0.23076923076923078,
          0.23076923076923078,
          0.23076923076923078,
          0.23076923076923078,
          0.23076923076923078,
          0.23076923076923078,
          0.23076923076923078,
          0.23076923076923078,
          0.23076923076923078,
          0.23076923076923078,
          0.23076923076923078,
          0.23076923076923078,
          0.23076923076923078,
          0.23076923076923078,
          0.23076923076923078,
          0.23076923076923078,
          0.23076923076923078,
          0.23076923076923078,
          0.23076923076923078,
          0.23076923076923078,
          0.23076923076923078,
          0.23076923076923078,
          0.23076923076923078,
          0.23076923076923078,
          0.2564102564102564,
          0.2564102564102564,
          0.2564102564102564,
          0.2564102564102564,
          0.2564102564102564,
          0.2564102564102564,
          0.2564102564102564,
          0.2564102564102564,
          0.2564102564102564,
          0.2564102564102564,
          0.2564102564102564,
          0.2564102564102564,
          0.2564102564102564,
          0.2564102564102564,
          0.2564102564102564,
          0.2564102564102564,
          0.2564102564102564,
          0.2564102564102564,
          0.2564102564102564,
          0.2564102564102564,
          0.2564102564102564,
          0.2564102564102564,
          0.2564102564102564,
          0.2564102564102564,
          0.2564102564102564,
          0.2564102564102564,
          0.2564102564102564,
          0.2564102564102564,
          0.2564102564102564,
          0.2564102564102564,
          0.28205128205128205,
          0.28205128205128205,
          0.28205128205128205,
          0.28205128205128205,
          0.28205128205128205,
          0.28205128205128205,
          0.28205128205128205,
          0.28205128205128205,
          0.28205128205128205,
          0.28205128205128205,
          0.28205128205128205,
          0.28205128205128205,
          0.28205128205128205,
          0.28205128205128205,
          0.28205128205128205,
          0.28205128205128205,
          0.28205128205128205,
          0.28205128205128205,
          0.28205128205128205,
          0.28205128205128205,
          0.28205128205128205,
          0.28205128205128205,
          0.28205128205128205,
          0.28205128205128205,
          0.28205128205128205,
          0.28205128205128205,
          0.28205128205128205,
          0.28205128205128205,
          0.28205128205128205,
          0.3076923076923077,
          0.3076923076923077,
          0.3076923076923077,
          0.3076923076923077,
          0.3076923076923077,
          0.3076923076923077,
          0.3076923076923077,
          0.3076923076923077,
          0.3076923076923077,
          0.3076923076923077,
          0.3076923076923077,
          0.3076923076923077,
          0.3076923076923077,
          0.3076923076923077,
          0.3076923076923077,
          0.3076923076923077,
          0.3076923076923077,
          0.3076923076923077,
          0.3076923076923077,
          0.3076923076923077,
          0.3076923076923077,
          0.3076923076923077,
          0.3076923076923077,
          0.3076923076923077,
          0.3076923076923077,
          0.3076923076923077,
          0.3076923076923077,
          0.3076923076923077,
          0.3333333333333333,
          0.3333333333333333,
          0.3333333333333333,
          0.3333333333333333,
          0.3333333333333333,
          0.3333333333333333,
          0.3333333333333333,
          0.3333333333333333,
          0.3333333333333333,
          0.3333333333333333,
          0.3333333333333333,
          0.3333333333333333,
          0.3333333333333333,
          0.3333333333333333,
          0.3333333333333333,
          0.3333333333333333,
          0.3333333333333333,
          0.3333333333333333,
          0.3333333333333333,
          0.3333333333333333,
          0.3333333333333333,
          0.3333333333333333,
          0.3333333333333333,
          0.3333333333333333,
          0.3333333333333333,
          0.3333333333333333,
          0.3333333333333333,
          0.358974358974359,
          0.358974358974359,
          0.358974358974359,
          0.358974358974359,
          0.358974358974359,
          0.358974358974359,
          0.358974358974359,
          0.358974358974359,
          0.358974358974359,
          0.358974358974359,
          0.358974358974359,
          0.358974358974359,
          0.358974358974359,
          0.358974358974359,
          0.358974358974359,
          0.358974358974359,
          0.358974358974359,
          0.358974358974359,
          0.358974358974359,
          0.358974358974359,
          0.358974358974359,
          0.358974358974359,
          0.358974358974359,
          0.358974358974359,
          0.358974358974359,
          0.358974358974359,
          0.38461538461538464,
          0.38461538461538464,
          0.38461538461538464,
          0.38461538461538464,
          0.38461538461538464,
          0.38461538461538464,
          0.38461538461538464,
          0.38461538461538464,
          0.38461538461538464,
          0.38461538461538464,
          0.38461538461538464,
          0.38461538461538464,
          0.38461538461538464,
          0.38461538461538464,
          0.38461538461538464,
          0.38461538461538464,
          0.38461538461538464,
          0.38461538461538464,
          0.38461538461538464,
          0.38461538461538464,
          0.38461538461538464,
          0.38461538461538464,
          0.38461538461538464,
          0.38461538461538464,
          0.38461538461538464,
          0.41025641025641024,
          0.41025641025641024,
          0.41025641025641024,
          0.41025641025641024,
          0.41025641025641024,
          0.41025641025641024,
          0.41025641025641024,
          0.41025641025641024,
          0.41025641025641024,
          0.41025641025641024,
          0.41025641025641024,
          0.41025641025641024,
          0.41025641025641024,
          0.41025641025641024,
          0.41025641025641024,
          0.41025641025641024,
          0.41025641025641024,
          0.41025641025641024,
          0.41025641025641024,
          0.41025641025641024,
          0.41025641025641024,
          0.41025641025641024,
          0.41025641025641024,
          0.41025641025641024,
          0.4358974358974359,
          0.4358974358974359,
          0.4358974358974359,
          0.4358974358974359,
          0.4358974358974359,
          0.4358974358974359,
          0.4358974358974359,
          0.4358974358974359,
          0.4358974358974359,
          0.4358974358974359,
          0.4358974358974359,
          0.4358974358974359,
          0.4358974358974359,
          0.4358974358974359,
          0.4358974358974359,
          0.4358974358974359,
          0.4358974358974359,
          0.4358974358974359,
          0.4358974358974359,
          0.4358974358974359,
          0.4358974358974359,
          0.4358974358974359,
          0.4358974358974359,
          0.46153846153846156,
          0.46153846153846156,
          0.46153846153846156,
          0.46153846153846156,
          0.46153846153846156,
          0.46153846153846156,
          0.46153846153846156,
          0.46153846153846156,
          0.46153846153846156,
          0.46153846153846156,
          0.46153846153846156,
          0.46153846153846156,
          0.46153846153846156,
          0.46153846153846156,
          0.46153846153846156,
          0.46153846153846156,
          0.46153846153846156,
          0.46153846153846156,
          0.46153846153846156,
          0.46153846153846156,
          0.46153846153846156,
          0.46153846153846156,
          0.48717948717948717,
          0.48717948717948717,
          0.48717948717948717,
          0.48717948717948717,
          0.48717948717948717,
          0.48717948717948717,
          0.48717948717948717,
          0.48717948717948717,
          0.48717948717948717,
          0.48717948717948717,
          0.48717948717948717,
          0.48717948717948717,
          0.48717948717948717,
          0.48717948717948717,
          0.48717948717948717,
          0.48717948717948717,
          0.48717948717948717,
          0.48717948717948717,
          0.48717948717948717,
          0.48717948717948717,
          0.48717948717948717,
          0.5128205128205128,
          0.5128205128205128,
          0.5128205128205128,
          0.5128205128205128,
          0.5128205128205128,
          0.5128205128205128,
          0.5128205128205128,
          0.5128205128205128,
          0.5128205128205128,
          0.5128205128205128,
          0.5128205128205128,
          0.5128205128205128,
          0.5128205128205128,
          0.5128205128205128,
          0.5128205128205128,
          0.5128205128205128,
          0.5128205128205128,
          0.5128205128205128,
          0.5128205128205128,
          0.5128205128205128,
          0.5384615384615384,
          0.5384615384615384,
          0.5384615384615384,
          0.5384615384615384,
          0.5384615384615384,
          0.5384615384615384,
          0.5384615384615384,
          0.5384615384615384,
          0.5384615384615384,
          0.5384615384615384,
          0.5384615384615384,
          0.5384615384615384,
          0.5384615384615384,
          0.5384615384615384,
          0.5384615384615384,
          0.5384615384615384,
          0.5384615384615384,
          0.5384615384615384,
          0.5384615384615384,
          0.5641025641025641,
          0.5641025641025641,
          0.5641025641025641,
          0.5641025641025641,
          0.5641025641025641,
          0.5641025641025641,
          0.5641025641025641,
          0.5641025641025641,
          0.5641025641025641,
          0.5641025641025641,
          0.5641025641025641,
          0.5641025641025641,
          0.5641025641025641,
          0.5641025641025641,
          0.5641025641025641,
          0.5641025641025641,
          0.5641025641025641,
          0.5641025641025641,
          0.5897435897435898,
          0.5897435897435898,
          0.5897435897435898,
          0.5897435897435898,
          0.5897435897435898,
          0.5897435897435898,
          0.5897435897435898,
          0.5897435897435898,
          0.5897435897435898,
          0.5897435897435898,
          0.5897435897435898,
          0.5897435897435898,
          0.5897435897435898,
          0.5897435897435898,
          0.5897435897435898,
          0.5897435897435898,
          0.5897435897435898,
          0.6153846153846154,
          0.6153846153846154,
          0.6153846153846154,
          0.6153846153846154,
          0.6153846153846154,
          0.6153846153846154,
          0.6153846153846154,
          0.6153846153846154,
          0.6153846153846154,
          0.6153846153846154,
          0.6153846153846154,
          0.6153846153846154,
          0.6153846153846154,
          0.6153846153846154,
          0.6153846153846154,
          0.6153846153846154,
          0.6410256410256411,
          0.6410256410256411,
          0.6410256410256411,
          0.6410256410256411,
          0.6410256410256411,
          0.6410256410256411,
          0.6410256410256411,
          0.6410256410256411,
          0.6410256410256411,
          0.6410256410256411,
          0.6410256410256411,
          0.6410256410256411,
          0.6410256410256411,
          0.6410256410256411,
          0.6410256410256411,
          0.6666666666666666,
          0.6666666666666666,
          0.6666666666666666,
          0.6666666666666666,
          0.6666666666666666,
          0.6666666666666666,
          0.6666666666666666,
          0.6666666666666666,
          0.6666666666666666,
          0.6666666666666666,
          0.6666666666666666,
          0.6666666666666666,
          0.6666666666666666,
          0.6666666666666666,
          0.6923076923076923,
          0.6923076923076923,
          0.6923076923076923,
          0.6923076923076923,
          0.6923076923076923,
          0.6923076923076923,
          0.6923076923076923,
          0.6923076923076923,
          0.6923076923076923,
          0.6923076923076923,
          0.6923076923076923,
          0.6923076923076923,
          0.6923076923076923,
          0.717948717948718,
          0.717948717948718,
          0.717948717948718,
          0.717948717948718,
          0.717948717948718,
          0.717948717948718,
          0.717948717948718,
          0.717948717948718,
          0.717948717948718,
          0.717948717948718,
          0.717948717948718,
          0.717948717948718,
          0.7435897435897436,
          0.7435897435897436,
          0.7435897435897436,
          0.7435897435897436,
          0.7435897435897436,
          0.7435897435897436,
          0.7435897435897436,
          0.7435897435897436,
          0.7435897435897436,
          0.7435897435897436,
          0.7435897435897436,
          0.7692307692307693,
          0.7692307692307693,
          0.7692307692307693,
          0.7692307692307693,
          0.7692307692307693,
          0.7692307692307693,
          0.7692307692307693,
          0.7692307692307693,
          0.7692307692307693,
          0.7692307692307693,
          0.7948717948717948,
          0.7948717948717948,
          0.7948717948717948,
          0.7948717948717948,
          0.7948717948717948,
          0.7948717948717948,
          0.7948717948717948,
          0.7948717948717948,
          0.7948717948717948,
          0.8205128205128205,
          0.8205128205128205,
          0.8205128205128205,
          0.8205128205128205,
          0.8205128205128205,
          0.8205128205128205,
          0.8205128205128205,
          0.8205128205128205,
          0.8461538461538461,
          0.8461538461538461,
          0.8461538461538461,
          0.8461538461538461,
          0.8461538461538461,
          0.8461538461538461,
          0.8461538461538461,
          0.8717948717948718,
          0.8717948717948718,
          0.8717948717948718,
          0.8717948717948718,
          0.8717948717948718,
          0.8717948717948718,
          0.8974358974358975,
          0.8974358974358975,
          0.8974358974358975,
          0.8974358974358975,
          0.8974358974358975,
          0.9230769230769231,
          0.9230769230769231,
          0.9230769230769231,
          0.9230769230769231,
          0.9487179487179487,
          0.9487179487179487,
          0.9487179487179487,
          0.9743589743589743,
          0.9743589743589743,
          1
         ],
         "y": [
          0,
          0.02564102564102564,
          0.05128205128205128,
          0.07692307692307693,
          0.10256410256410256,
          0.1282051282051282,
          0.15384615384615385,
          0.1794871794871795,
          0.20512820512820512,
          0.23076923076923078,
          0.2564102564102564,
          0.28205128205128205,
          0.3076923076923077,
          0.3333333333333333,
          0.358974358974359,
          0.38461538461538464,
          0.41025641025641024,
          0.4358974358974359,
          0.46153846153846156,
          0.48717948717948717,
          0.5128205128205128,
          0.5384615384615384,
          0.5641025641025641,
          0.5897435897435898,
          0.6153846153846154,
          0.6410256410256411,
          0.6666666666666666,
          0.6923076923076923,
          0.717948717948718,
          0.7435897435897436,
          0.7692307692307693,
          0.7948717948717948,
          0.8205128205128205,
          0.8461538461538461,
          0.8717948717948718,
          0.8974358974358975,
          0.9230769230769231,
          0.9487179487179487,
          0.9743589743589743,
          1,
          0,
          0.02564102564102564,
          0.05128205128205128,
          0.07692307692307693,
          0.10256410256410256,
          0.1282051282051282,
          0.15384615384615385,
          0.1794871794871795,
          0.20512820512820512,
          0.23076923076923078,
          0.2564102564102564,
          0.28205128205128205,
          0.3076923076923077,
          0.3333333333333333,
          0.358974358974359,
          0.38461538461538464,
          0.41025641025641024,
          0.4358974358974359,
          0.46153846153846156,
          0.48717948717948717,
          0.5128205128205128,
          0.5384615384615384,
          0.5641025641025641,
          0.5897435897435898,
          0.6153846153846154,
          0.6410256410256411,
          0.6666666666666666,
          0.6923076923076923,
          0.717948717948718,
          0.7435897435897436,
          0.7692307692307693,
          0.7948717948717948,
          0.8205128205128205,
          0.8461538461538461,
          0.8717948717948718,
          0.8974358974358975,
          0.9230769230769231,
          0.9487179487179487,
          0.9743589743589743,
          0,
          0.02564102564102564,
          0.05128205128205128,
          0.07692307692307693,
          0.10256410256410256,
          0.1282051282051282,
          0.15384615384615385,
          0.1794871794871795,
          0.20512820512820512,
          0.23076923076923078,
          0.2564102564102564,
          0.28205128205128205,
          0.3076923076923077,
          0.3333333333333333,
          0.358974358974359,
          0.38461538461538464,
          0.41025641025641024,
          0.4358974358974359,
          0.46153846153846156,
          0.48717948717948717,
          0.5128205128205128,
          0.5384615384615384,
          0.5641025641025641,
          0.5897435897435898,
          0.6153846153846154,
          0.6410256410256411,
          0.6666666666666666,
          0.6923076923076923,
          0.717948717948718,
          0.7435897435897436,
          0.7692307692307693,
          0.7948717948717948,
          0.8205128205128205,
          0.8461538461538461,
          0.8717948717948718,
          0.8974358974358975,
          0.9230769230769231,
          0.9487179487179487,
          0,
          0.02564102564102564,
          0.05128205128205128,
          0.07692307692307693,
          0.10256410256410256,
          0.1282051282051282,
          0.15384615384615385,
          0.1794871794871795,
          0.20512820512820512,
          0.23076923076923078,
          0.2564102564102564,
          0.28205128205128205,
          0.3076923076923077,
          0.3333333333333333,
          0.358974358974359,
          0.38461538461538464,
          0.41025641025641024,
          0.4358974358974359,
          0.46153846153846156,
          0.48717948717948717,
          0.5128205128205128,
          0.5384615384615384,
          0.5641025641025641,
          0.5897435897435898,
          0.6153846153846154,
          0.6410256410256411,
          0.6666666666666666,
          0.6923076923076923,
          0.717948717948718,
          0.7435897435897436,
          0.7692307692307693,
          0.7948717948717948,
          0.8205128205128205,
          0.8461538461538461,
          0.8717948717948718,
          0.8974358974358975,
          0.9230769230769231,
          0,
          0.02564102564102564,
          0.05128205128205128,
          0.07692307692307693,
          0.10256410256410256,
          0.1282051282051282,
          0.15384615384615385,
          0.1794871794871795,
          0.20512820512820512,
          0.23076923076923078,
          0.2564102564102564,
          0.28205128205128205,
          0.3076923076923077,
          0.3333333333333333,
          0.358974358974359,
          0.38461538461538464,
          0.41025641025641024,
          0.4358974358974359,
          0.46153846153846156,
          0.48717948717948717,
          0.5128205128205128,
          0.5384615384615384,
          0.5641025641025641,
          0.5897435897435898,
          0.6153846153846154,
          0.6410256410256411,
          0.6666666666666666,
          0.6923076923076923,
          0.717948717948718,
          0.7435897435897436,
          0.7692307692307693,
          0.7948717948717948,
          0.8205128205128205,
          0.8461538461538461,
          0.8717948717948718,
          0.8974358974358975,
          0,
          0.02564102564102564,
          0.05128205128205128,
          0.07692307692307693,
          0.10256410256410256,
          0.1282051282051282,
          0.15384615384615385,
          0.1794871794871795,
          0.20512820512820512,
          0.23076923076923078,
          0.2564102564102564,
          0.28205128205128205,
          0.3076923076923077,
          0.3333333333333333,
          0.358974358974359,
          0.38461538461538464,
          0.41025641025641024,
          0.4358974358974359,
          0.46153846153846156,
          0.48717948717948717,
          0.5128205128205128,
          0.5384615384615384,
          0.5641025641025641,
          0.5897435897435898,
          0.6153846153846154,
          0.6410256410256411,
          0.6666666666666666,
          0.6923076923076923,
          0.717948717948718,
          0.7435897435897436,
          0.7692307692307693,
          0.7948717948717948,
          0.8205128205128205,
          0.8461538461538461,
          0.8717948717948718,
          0,
          0.02564102564102564,
          0.05128205128205128,
          0.07692307692307693,
          0.10256410256410256,
          0.1282051282051282,
          0.15384615384615385,
          0.1794871794871795,
          0.20512820512820512,
          0.23076923076923078,
          0.2564102564102564,
          0.28205128205128205,
          0.3076923076923077,
          0.3333333333333333,
          0.358974358974359,
          0.38461538461538464,
          0.41025641025641024,
          0.4358974358974359,
          0.46153846153846156,
          0.48717948717948717,
          0.5128205128205128,
          0.5384615384615384,
          0.5641025641025641,
          0.5897435897435898,
          0.6153846153846154,
          0.6410256410256411,
          0.6666666666666666,
          0.6923076923076923,
          0.717948717948718,
          0.7435897435897436,
          0.7692307692307693,
          0.7948717948717948,
          0.8205128205128205,
          0.8461538461538461,
          0,
          0.02564102564102564,
          0.05128205128205128,
          0.07692307692307693,
          0.10256410256410256,
          0.1282051282051282,
          0.15384615384615385,
          0.1794871794871795,
          0.20512820512820512,
          0.23076923076923078,
          0.2564102564102564,
          0.28205128205128205,
          0.3076923076923077,
          0.3333333333333333,
          0.358974358974359,
          0.38461538461538464,
          0.41025641025641024,
          0.4358974358974359,
          0.46153846153846156,
          0.48717948717948717,
          0.5128205128205128,
          0.5384615384615384,
          0.5641025641025641,
          0.5897435897435898,
          0.6153846153846154,
          0.6410256410256411,
          0.6666666666666666,
          0.6923076923076923,
          0.717948717948718,
          0.7435897435897436,
          0.7692307692307693,
          0.7948717948717948,
          0.8205128205128205,
          0,
          0.02564102564102564,
          0.05128205128205128,
          0.07692307692307693,
          0.10256410256410256,
          0.1282051282051282,
          0.15384615384615385,
          0.1794871794871795,
          0.20512820512820512,
          0.23076923076923078,
          0.2564102564102564,
          0.28205128205128205,
          0.3076923076923077,
          0.3333333333333333,
          0.358974358974359,
          0.38461538461538464,
          0.41025641025641024,
          0.4358974358974359,
          0.46153846153846156,
          0.48717948717948717,
          0.5128205128205128,
          0.5384615384615384,
          0.5641025641025641,
          0.5897435897435898,
          0.6153846153846154,
          0.6410256410256411,
          0.6666666666666666,
          0.6923076923076923,
          0.717948717948718,
          0.7435897435897436,
          0.7692307692307693,
          0.7948717948717948,
          0,
          0.02564102564102564,
          0.05128205128205128,
          0.07692307692307693,
          0.10256410256410256,
          0.1282051282051282,
          0.15384615384615385,
          0.1794871794871795,
          0.20512820512820512,
          0.23076923076923078,
          0.2564102564102564,
          0.28205128205128205,
          0.3076923076923077,
          0.3333333333333333,
          0.358974358974359,
          0.38461538461538464,
          0.41025641025641024,
          0.4358974358974359,
          0.46153846153846156,
          0.48717948717948717,
          0.5128205128205128,
          0.5384615384615384,
          0.5641025641025641,
          0.5897435897435898,
          0.6153846153846154,
          0.6410256410256411,
          0.6666666666666666,
          0.6923076923076923,
          0.717948717948718,
          0.7435897435897436,
          0.7692307692307693,
          0,
          0.02564102564102564,
          0.05128205128205128,
          0.07692307692307693,
          0.10256410256410256,
          0.1282051282051282,
          0.15384615384615385,
          0.1794871794871795,
          0.20512820512820512,
          0.23076923076923078,
          0.2564102564102564,
          0.28205128205128205,
          0.3076923076923077,
          0.3333333333333333,
          0.358974358974359,
          0.38461538461538464,
          0.41025641025641024,
          0.4358974358974359,
          0.46153846153846156,
          0.48717948717948717,
          0.5128205128205128,
          0.5384615384615384,
          0.5641025641025641,
          0.5897435897435898,
          0.6153846153846154,
          0.6410256410256411,
          0.6666666666666666,
          0.6923076923076923,
          0.717948717948718,
          0.7435897435897436,
          0,
          0.02564102564102564,
          0.05128205128205128,
          0.07692307692307693,
          0.10256410256410256,
          0.1282051282051282,
          0.15384615384615385,
          0.1794871794871795,
          0.20512820512820512,
          0.23076923076923078,
          0.2564102564102564,
          0.28205128205128205,
          0.3076923076923077,
          0.3333333333333333,
          0.358974358974359,
          0.38461538461538464,
          0.41025641025641024,
          0.4358974358974359,
          0.46153846153846156,
          0.48717948717948717,
          0.5128205128205128,
          0.5384615384615384,
          0.5641025641025641,
          0.5897435897435898,
          0.6153846153846154,
          0.6410256410256411,
          0.6666666666666666,
          0.6923076923076923,
          0.717948717948718,
          0,
          0.02564102564102564,
          0.05128205128205128,
          0.07692307692307693,
          0.10256410256410256,
          0.1282051282051282,
          0.15384615384615385,
          0.1794871794871795,
          0.20512820512820512,
          0.23076923076923078,
          0.2564102564102564,
          0.28205128205128205,
          0.3076923076923077,
          0.3333333333333333,
          0.358974358974359,
          0.38461538461538464,
          0.41025641025641024,
          0.4358974358974359,
          0.46153846153846156,
          0.48717948717948717,
          0.5128205128205128,
          0.5384615384615384,
          0.5641025641025641,
          0.5897435897435898,
          0.6153846153846154,
          0.6410256410256411,
          0.6666666666666666,
          0.6923076923076923,
          0,
          0.02564102564102564,
          0.05128205128205128,
          0.07692307692307693,
          0.10256410256410256,
          0.1282051282051282,
          0.15384615384615385,
          0.1794871794871795,
          0.20512820512820512,
          0.23076923076923078,
          0.2564102564102564,
          0.28205128205128205,
          0.3076923076923077,
          0.3333333333333333,
          0.358974358974359,
          0.38461538461538464,
          0.41025641025641024,
          0.4358974358974359,
          0.46153846153846156,
          0.48717948717948717,
          0.5128205128205128,
          0.5384615384615384,
          0.5641025641025641,
          0.5897435897435898,
          0.6153846153846154,
          0.6410256410256411,
          0.6666666666666666,
          0,
          0.02564102564102564,
          0.05128205128205128,
          0.07692307692307693,
          0.10256410256410256,
          0.1282051282051282,
          0.15384615384615385,
          0.1794871794871795,
          0.20512820512820512,
          0.23076923076923078,
          0.2564102564102564,
          0.28205128205128205,
          0.3076923076923077,
          0.3333333333333333,
          0.358974358974359,
          0.38461538461538464,
          0.41025641025641024,
          0.4358974358974359,
          0.46153846153846156,
          0.48717948717948717,
          0.5128205128205128,
          0.5384615384615384,
          0.5641025641025641,
          0.5897435897435898,
          0.6153846153846154,
          0.6410256410256411,
          0,
          0.02564102564102564,
          0.05128205128205128,
          0.07692307692307693,
          0.10256410256410256,
          0.1282051282051282,
          0.15384615384615385,
          0.1794871794871795,
          0.20512820512820512,
          0.23076923076923078,
          0.2564102564102564,
          0.28205128205128205,
          0.3076923076923077,
          0.3333333333333333,
          0.358974358974359,
          0.38461538461538464,
          0.41025641025641024,
          0.4358974358974359,
          0.46153846153846156,
          0.48717948717948717,
          0.5128205128205128,
          0.5384615384615384,
          0.5641025641025641,
          0.5897435897435898,
          0.6153846153846154,
          0,
          0.02564102564102564,
          0.05128205128205128,
          0.07692307692307693,
          0.10256410256410256,
          0.1282051282051282,
          0.15384615384615385,
          0.1794871794871795,
          0.20512820512820512,
          0.23076923076923078,
          0.2564102564102564,
          0.28205128205128205,
          0.3076923076923077,
          0.3333333333333333,
          0.358974358974359,
          0.38461538461538464,
          0.41025641025641024,
          0.4358974358974359,
          0.46153846153846156,
          0.48717948717948717,
          0.5128205128205128,
          0.5384615384615384,
          0.5641025641025641,
          0.5897435897435898,
          0,
          0.02564102564102564,
          0.05128205128205128,
          0.07692307692307693,
          0.10256410256410256,
          0.1282051282051282,
          0.15384615384615385,
          0.1794871794871795,
          0.20512820512820512,
          0.23076923076923078,
          0.2564102564102564,
          0.28205128205128205,
          0.3076923076923077,
          0.3333333333333333,
          0.358974358974359,
          0.38461538461538464,
          0.41025641025641024,
          0.4358974358974359,
          0.46153846153846156,
          0.48717948717948717,
          0.5128205128205128,
          0.5384615384615384,
          0.5641025641025641,
          0,
          0.02564102564102564,
          0.05128205128205128,
          0.07692307692307693,
          0.10256410256410256,
          0.1282051282051282,
          0.15384615384615385,
          0.1794871794871795,
          0.20512820512820512,
          0.23076923076923078,
          0.2564102564102564,
          0.28205128205128205,
          0.3076923076923077,
          0.3333333333333333,
          0.358974358974359,
          0.38461538461538464,
          0.41025641025641024,
          0.4358974358974359,
          0.46153846153846156,
          0.48717948717948717,
          0.5128205128205128,
          0.5384615384615384,
          0,
          0.02564102564102564,
          0.05128205128205128,
          0.07692307692307693,
          0.10256410256410256,
          0.1282051282051282,
          0.15384615384615385,
          0.1794871794871795,
          0.20512820512820512,
          0.23076923076923078,
          0.2564102564102564,
          0.28205128205128205,
          0.3076923076923077,
          0.3333333333333333,
          0.358974358974359,
          0.38461538461538464,
          0.41025641025641024,
          0.4358974358974359,
          0.46153846153846156,
          0.48717948717948717,
          0.5128205128205128,
          0,
          0.02564102564102564,
          0.05128205128205128,
          0.07692307692307693,
          0.10256410256410256,
          0.1282051282051282,
          0.15384615384615385,
          0.1794871794871795,
          0.20512820512820512,
          0.23076923076923078,
          0.2564102564102564,
          0.28205128205128205,
          0.3076923076923077,
          0.3333333333333333,
          0.358974358974359,
          0.38461538461538464,
          0.41025641025641024,
          0.4358974358974359,
          0.46153846153846156,
          0.48717948717948717,
          0,
          0.02564102564102564,
          0.05128205128205128,
          0.07692307692307693,
          0.10256410256410256,
          0.1282051282051282,
          0.15384615384615385,
          0.1794871794871795,
          0.20512820512820512,
          0.23076923076923078,
          0.2564102564102564,
          0.28205128205128205,
          0.3076923076923077,
          0.3333333333333333,
          0.358974358974359,
          0.38461538461538464,
          0.41025641025641024,
          0.4358974358974359,
          0.46153846153846156,
          0,
          0.02564102564102564,
          0.05128205128205128,
          0.07692307692307693,
          0.10256410256410256,
          0.1282051282051282,
          0.15384615384615385,
          0.1794871794871795,
          0.20512820512820512,
          0.23076923076923078,
          0.2564102564102564,
          0.28205128205128205,
          0.3076923076923077,
          0.3333333333333333,
          0.358974358974359,
          0.38461538461538464,
          0.41025641025641024,
          0.4358974358974359,
          0,
          0.02564102564102564,
          0.05128205128205128,
          0.07692307692307693,
          0.10256410256410256,
          0.1282051282051282,
          0.15384615384615385,
          0.1794871794871795,
          0.20512820512820512,
          0.23076923076923078,
          0.2564102564102564,
          0.28205128205128205,
          0.3076923076923077,
          0.3333333333333333,
          0.358974358974359,
          0.38461538461538464,
          0.41025641025641024,
          0,
          0.02564102564102564,
          0.05128205128205128,
          0.07692307692307693,
          0.10256410256410256,
          0.1282051282051282,
          0.15384615384615385,
          0.1794871794871795,
          0.20512820512820512,
          0.23076923076923078,
          0.2564102564102564,
          0.28205128205128205,
          0.3076923076923077,
          0.3333333333333333,
          0.358974358974359,
          0.38461538461538464,
          0,
          0.02564102564102564,
          0.05128205128205128,
          0.07692307692307693,
          0.10256410256410256,
          0.1282051282051282,
          0.15384615384615385,
          0.1794871794871795,
          0.20512820512820512,
          0.23076923076923078,
          0.2564102564102564,
          0.28205128205128205,
          0.3076923076923077,
          0.3333333333333333,
          0.358974358974359,
          0,
          0.02564102564102564,
          0.05128205128205128,
          0.07692307692307693,
          0.10256410256410256,
          0.1282051282051282,
          0.15384615384615385,
          0.1794871794871795,
          0.20512820512820512,
          0.23076923076923078,
          0.2564102564102564,
          0.28205128205128205,
          0.3076923076923077,
          0.3333333333333333,
          0,
          0.02564102564102564,
          0.05128205128205128,
          0.07692307692307693,
          0.10256410256410256,
          0.1282051282051282,
          0.15384615384615385,
          0.1794871794871795,
          0.20512820512820512,
          0.23076923076923078,
          0.2564102564102564,
          0.28205128205128205,
          0.3076923076923077,
          0,
          0.02564102564102564,
          0.05128205128205128,
          0.07692307692307693,
          0.10256410256410256,
          0.1282051282051282,
          0.15384615384615385,
          0.1794871794871795,
          0.20512820512820512,
          0.23076923076923078,
          0.2564102564102564,
          0.28205128205128205,
          0,
          0.02564102564102564,
          0.05128205128205128,
          0.07692307692307693,
          0.10256410256410256,
          0.1282051282051282,
          0.15384615384615385,
          0.1794871794871795,
          0.20512820512820512,
          0.23076923076923078,
          0.2564102564102564,
          0,
          0.02564102564102564,
          0.05128205128205128,
          0.07692307692307693,
          0.10256410256410256,
          0.1282051282051282,
          0.15384615384615385,
          0.1794871794871795,
          0.20512820512820512,
          0.23076923076923078,
          0,
          0.02564102564102564,
          0.05128205128205128,
          0.07692307692307693,
          0.10256410256410256,
          0.1282051282051282,
          0.15384615384615385,
          0.1794871794871795,
          0.20512820512820512,
          0,
          0.02564102564102564,
          0.05128205128205128,
          0.07692307692307693,
          0.10256410256410256,
          0.1282051282051282,
          0.15384615384615385,
          0.1794871794871795,
          0,
          0.02564102564102564,
          0.05128205128205128,
          0.07692307692307693,
          0.10256410256410256,
          0.1282051282051282,
          0.15384615384615385,
          0,
          0.02564102564102564,
          0.05128205128205128,
          0.07692307692307693,
          0.10256410256410256,
          0.1282051282051282,
          0,
          0.02564102564102564,
          0.05128205128205128,
          0.07692307692307693,
          0.10256410256410256,
          0,
          0.02564102564102564,
          0.05128205128205128,
          0.07692307692307693,
          0,
          0.02564102564102564,
          0.05128205128205128,
          0,
          0.02564102564102564,
          0
         ],
         "z": [
          1,
          0.9743589743589743,
          0.9487179487179487,
          0.9230769230769231,
          0.8974358974358975,
          0.8717948717948718,
          0.8461538461538461,
          0.8205128205128205,
          0.7948717948717948,
          0.7692307692307693,
          0.7435897435897436,
          0.717948717948718,
          0.6923076923076923,
          0.6666666666666666,
          0.6410256410256411,
          0.6153846153846154,
          0.5897435897435898,
          0.5641025641025641,
          0.5384615384615384,
          0.5128205128205128,
          0.48717948717948717,
          0.46153846153846156,
          0.4358974358974359,
          0.41025641025641024,
          0.38461538461538464,
          0.358974358974359,
          0.3333333333333333,
          0.3076923076923077,
          0.28205128205128205,
          0.2564102564102564,
          0.23076923076923078,
          0.20512820512820512,
          0.1794871794871795,
          0.15384615384615385,
          0.1282051282051282,
          0.10256410256410256,
          0.07692307692307693,
          0.05128205128205128,
          0.02564102564102564,
          0,
          0.9743589743589743,
          0.9487179487179487,
          0.9230769230769231,
          0.8974358974358975,
          0.8717948717948718,
          0.8461538461538461,
          0.8205128205128205,
          0.7948717948717948,
          0.7692307692307693,
          0.7435897435897436,
          0.717948717948718,
          0.6923076923076923,
          0.6666666666666666,
          0.6410256410256411,
          0.6153846153846154,
          0.5897435897435898,
          0.5641025641025641,
          0.5384615384615384,
          0.5128205128205128,
          0.48717948717948717,
          0.46153846153846156,
          0.4358974358974359,
          0.41025641025641024,
          0.38461538461538464,
          0.358974358974359,
          0.3333333333333333,
          0.3076923076923077,
          0.28205128205128205,
          0.2564102564102564,
          0.23076923076923078,
          0.20512820512820512,
          0.1794871794871795,
          0.15384615384615385,
          0.1282051282051282,
          0.10256410256410256,
          0.07692307692307693,
          0.05128205128205128,
          0.02564102564102564,
          0,
          0.9487179487179487,
          0.9230769230769231,
          0.8974358974358975,
          0.8717948717948718,
          0.8461538461538461,
          0.8205128205128205,
          0.7948717948717948,
          0.7692307692307693,
          0.7435897435897436,
          0.717948717948718,
          0.6923076923076923,
          0.6666666666666666,
          0.6410256410256411,
          0.6153846153846154,
          0.5897435897435898,
          0.5641025641025641,
          0.5384615384615384,
          0.5128205128205128,
          0.48717948717948717,
          0.46153846153846156,
          0.4358974358974359,
          0.41025641025641024,
          0.38461538461538464,
          0.358974358974359,
          0.3333333333333333,
          0.3076923076923077,
          0.28205128205128205,
          0.2564102564102564,
          0.23076923076923078,
          0.20512820512820512,
          0.1794871794871795,
          0.15384615384615385,
          0.1282051282051282,
          0.10256410256410256,
          0.07692307692307693,
          0.05128205128205128,
          0.02564102564102564,
          0,
          0.9230769230769231,
          0.8974358974358975,
          0.8717948717948718,
          0.8461538461538461,
          0.8205128205128205,
          0.7948717948717948,
          0.7692307692307693,
          0.7435897435897436,
          0.717948717948718,
          0.6923076923076923,
          0.6666666666666666,
          0.6410256410256411,
          0.6153846153846154,
          0.5897435897435898,
          0.5641025641025641,
          0.5384615384615384,
          0.5128205128205128,
          0.48717948717948717,
          0.46153846153846156,
          0.4358974358974359,
          0.41025641025641024,
          0.38461538461538464,
          0.358974358974359,
          0.3333333333333333,
          0.3076923076923077,
          0.28205128205128205,
          0.2564102564102564,
          0.23076923076923078,
          0.20512820512820512,
          0.1794871794871795,
          0.15384615384615385,
          0.1282051282051282,
          0.10256410256410256,
          0.07692307692307693,
          0.05128205128205128,
          0.02564102564102564,
          0,
          0.8974358974358975,
          0.8717948717948718,
          0.8461538461538461,
          0.8205128205128205,
          0.7948717948717948,
          0.7692307692307693,
          0.7435897435897436,
          0.717948717948718,
          0.6923076923076923,
          0.6666666666666666,
          0.6410256410256411,
          0.6153846153846154,
          0.5897435897435898,
          0.5641025641025641,
          0.5384615384615384,
          0.5128205128205128,
          0.48717948717948717,
          0.46153846153846156,
          0.4358974358974359,
          0.41025641025641024,
          0.38461538461538464,
          0.358974358974359,
          0.3333333333333333,
          0.3076923076923077,
          0.28205128205128205,
          0.2564102564102564,
          0.23076923076923078,
          0.20512820512820512,
          0.1794871794871795,
          0.15384615384615385,
          0.1282051282051282,
          0.10256410256410256,
          0.07692307692307693,
          0.05128205128205128,
          0.02564102564102564,
          0,
          0.8717948717948718,
          0.8461538461538461,
          0.8205128205128205,
          0.7948717948717948,
          0.7692307692307693,
          0.7435897435897436,
          0.717948717948718,
          0.6923076923076923,
          0.6666666666666666,
          0.6410256410256411,
          0.6153846153846154,
          0.5897435897435898,
          0.5641025641025641,
          0.5384615384615384,
          0.5128205128205128,
          0.48717948717948717,
          0.46153846153846156,
          0.4358974358974359,
          0.41025641025641024,
          0.38461538461538464,
          0.358974358974359,
          0.3333333333333333,
          0.3076923076923077,
          0.28205128205128205,
          0.2564102564102564,
          0.23076923076923078,
          0.20512820512820512,
          0.1794871794871795,
          0.15384615384615385,
          0.1282051282051282,
          0.10256410256410256,
          0.07692307692307693,
          0.05128205128205128,
          0.02564102564102564,
          0,
          0.8461538461538461,
          0.8205128205128205,
          0.7948717948717948,
          0.7692307692307693,
          0.7435897435897436,
          0.717948717948718,
          0.6923076923076923,
          0.6666666666666666,
          0.6410256410256411,
          0.6153846153846154,
          0.5897435897435898,
          0.5641025641025641,
          0.5384615384615384,
          0.5128205128205128,
          0.48717948717948717,
          0.46153846153846156,
          0.4358974358974359,
          0.41025641025641024,
          0.38461538461538464,
          0.358974358974359,
          0.3333333333333333,
          0.3076923076923077,
          0.28205128205128205,
          0.2564102564102564,
          0.23076923076923078,
          0.20512820512820512,
          0.1794871794871795,
          0.15384615384615385,
          0.1282051282051282,
          0.10256410256410256,
          0.07692307692307693,
          0.05128205128205128,
          0.02564102564102564,
          0,
          0.8205128205128205,
          0.7948717948717948,
          0.7692307692307693,
          0.7435897435897436,
          0.717948717948718,
          0.6923076923076923,
          0.6666666666666666,
          0.6410256410256411,
          0.6153846153846154,
          0.5897435897435898,
          0.5641025641025641,
          0.5384615384615384,
          0.5128205128205128,
          0.48717948717948717,
          0.46153846153846156,
          0.4358974358974359,
          0.41025641025641024,
          0.38461538461538464,
          0.358974358974359,
          0.3333333333333333,
          0.3076923076923077,
          0.28205128205128205,
          0.2564102564102564,
          0.23076923076923078,
          0.20512820512820512,
          0.1794871794871795,
          0.15384615384615385,
          0.1282051282051282,
          0.10256410256410256,
          0.07692307692307693,
          0.05128205128205128,
          0.02564102564102564,
          0,
          0.7948717948717948,
          0.7692307692307693,
          0.7435897435897436,
          0.717948717948718,
          0.6923076923076923,
          0.6666666666666666,
          0.6410256410256411,
          0.6153846153846154,
          0.5897435897435898,
          0.5641025641025641,
          0.5384615384615384,
          0.5128205128205128,
          0.48717948717948717,
          0.46153846153846156,
          0.4358974358974359,
          0.41025641025641024,
          0.38461538461538464,
          0.358974358974359,
          0.3333333333333333,
          0.3076923076923077,
          0.28205128205128205,
          0.2564102564102564,
          0.23076923076923078,
          0.20512820512820512,
          0.1794871794871795,
          0.15384615384615385,
          0.1282051282051282,
          0.10256410256410256,
          0.07692307692307693,
          0.05128205128205128,
          0.02564102564102564,
          0,
          0.7692307692307693,
          0.7435897435897436,
          0.717948717948718,
          0.6923076923076923,
          0.6666666666666666,
          0.6410256410256411,
          0.6153846153846154,
          0.5897435897435898,
          0.5641025641025641,
          0.5384615384615384,
          0.5128205128205128,
          0.48717948717948717,
          0.46153846153846156,
          0.4358974358974359,
          0.41025641025641024,
          0.38461538461538464,
          0.358974358974359,
          0.3333333333333333,
          0.3076923076923077,
          0.28205128205128205,
          0.2564102564102564,
          0.23076923076923078,
          0.20512820512820512,
          0.1794871794871795,
          0.15384615384615385,
          0.1282051282051282,
          0.10256410256410256,
          0.07692307692307693,
          0.05128205128205128,
          0.02564102564102564,
          0,
          0.7435897435897436,
          0.717948717948718,
          0.6923076923076923,
          0.6666666666666666,
          0.6410256410256411,
          0.6153846153846154,
          0.5897435897435898,
          0.5641025641025641,
          0.5384615384615384,
          0.5128205128205128,
          0.48717948717948717,
          0.46153846153846156,
          0.4358974358974359,
          0.41025641025641024,
          0.38461538461538464,
          0.358974358974359,
          0.3333333333333333,
          0.3076923076923077,
          0.28205128205128205,
          0.2564102564102564,
          0.23076923076923078,
          0.20512820512820512,
          0.1794871794871795,
          0.15384615384615385,
          0.1282051282051282,
          0.10256410256410256,
          0.07692307692307693,
          0.05128205128205128,
          0.02564102564102564,
          0,
          0.717948717948718,
          0.6923076923076923,
          0.6666666666666666,
          0.6410256410256411,
          0.6153846153846154,
          0.5897435897435898,
          0.5641025641025641,
          0.5384615384615384,
          0.5128205128205128,
          0.48717948717948717,
          0.46153846153846156,
          0.4358974358974359,
          0.41025641025641024,
          0.38461538461538464,
          0.358974358974359,
          0.3333333333333333,
          0.3076923076923077,
          0.28205128205128205,
          0.2564102564102564,
          0.23076923076923078,
          0.20512820512820512,
          0.1794871794871795,
          0.15384615384615385,
          0.1282051282051282,
          0.10256410256410256,
          0.07692307692307693,
          0.05128205128205128,
          0.02564102564102564,
          0,
          0.6923076923076923,
          0.6666666666666666,
          0.6410256410256411,
          0.6153846153846154,
          0.5897435897435898,
          0.5641025641025641,
          0.5384615384615384,
          0.5128205128205128,
          0.48717948717948717,
          0.46153846153846156,
          0.4358974358974359,
          0.41025641025641024,
          0.38461538461538464,
          0.358974358974359,
          0.3333333333333333,
          0.3076923076923077,
          0.28205128205128205,
          0.2564102564102564,
          0.23076923076923078,
          0.20512820512820512,
          0.1794871794871795,
          0.15384615384615385,
          0.1282051282051282,
          0.10256410256410256,
          0.07692307692307693,
          0.05128205128205128,
          0.02564102564102564,
          0,
          0.6666666666666666,
          0.6410256410256411,
          0.6153846153846154,
          0.5897435897435898,
          0.5641025641025641,
          0.5384615384615384,
          0.5128205128205128,
          0.48717948717948717,
          0.46153846153846156,
          0.4358974358974359,
          0.41025641025641024,
          0.38461538461538464,
          0.358974358974359,
          0.3333333333333333,
          0.3076923076923077,
          0.28205128205128205,
          0.2564102564102564,
          0.23076923076923078,
          0.20512820512820512,
          0.1794871794871795,
          0.15384615384615385,
          0.1282051282051282,
          0.10256410256410256,
          0.07692307692307693,
          0.05128205128205128,
          0.02564102564102564,
          0,
          0.6410256410256411,
          0.6153846153846154,
          0.5897435897435898,
          0.5641025641025641,
          0.5384615384615384,
          0.5128205128205128,
          0.48717948717948717,
          0.46153846153846156,
          0.4358974358974359,
          0.41025641025641024,
          0.38461538461538464,
          0.358974358974359,
          0.3333333333333333,
          0.3076923076923077,
          0.28205128205128205,
          0.2564102564102564,
          0.23076923076923078,
          0.20512820512820512,
          0.1794871794871795,
          0.15384615384615385,
          0.1282051282051282,
          0.10256410256410256,
          0.07692307692307693,
          0.05128205128205128,
          0.02564102564102564,
          0,
          0.6153846153846154,
          0.5897435897435898,
          0.5641025641025641,
          0.5384615384615384,
          0.5128205128205128,
          0.48717948717948717,
          0.46153846153846156,
          0.4358974358974359,
          0.41025641025641024,
          0.38461538461538464,
          0.358974358974359,
          0.3333333333333333,
          0.3076923076923077,
          0.28205128205128205,
          0.2564102564102564,
          0.23076923076923078,
          0.20512820512820512,
          0.1794871794871795,
          0.15384615384615385,
          0.1282051282051282,
          0.10256410256410256,
          0.07692307692307693,
          0.05128205128205128,
          0.02564102564102564,
          0,
          0.5897435897435898,
          0.5641025641025641,
          0.5384615384615384,
          0.5128205128205128,
          0.48717948717948717,
          0.46153846153846156,
          0.4358974358974359,
          0.41025641025641024,
          0.38461538461538464,
          0.358974358974359,
          0.3333333333333333,
          0.3076923076923077,
          0.28205128205128205,
          0.2564102564102564,
          0.23076923076923078,
          0.20512820512820512,
          0.1794871794871795,
          0.15384615384615385,
          0.1282051282051282,
          0.10256410256410256,
          0.07692307692307693,
          0.05128205128205128,
          0.02564102564102564,
          0,
          0.5641025641025641,
          0.5384615384615384,
          0.5128205128205128,
          0.48717948717948717,
          0.46153846153846156,
          0.4358974358974359,
          0.41025641025641024,
          0.38461538461538464,
          0.358974358974359,
          0.3333333333333333,
          0.3076923076923077,
          0.28205128205128205,
          0.2564102564102564,
          0.23076923076923078,
          0.20512820512820512,
          0.1794871794871795,
          0.15384615384615385,
          0.1282051282051282,
          0.10256410256410256,
          0.07692307692307693,
          0.05128205128205128,
          0.02564102564102564,
          0,
          0.5384615384615384,
          0.5128205128205128,
          0.48717948717948717,
          0.46153846153846156,
          0.4358974358974359,
          0.41025641025641024,
          0.38461538461538464,
          0.358974358974359,
          0.3333333333333333,
          0.3076923076923077,
          0.28205128205128205,
          0.2564102564102564,
          0.23076923076923078,
          0.20512820512820512,
          0.1794871794871795,
          0.15384615384615385,
          0.1282051282051282,
          0.10256410256410256,
          0.07692307692307693,
          0.05128205128205128,
          0.02564102564102564,
          0,
          0.5128205128205128,
          0.48717948717948717,
          0.46153846153846156,
          0.4358974358974359,
          0.41025641025641024,
          0.38461538461538464,
          0.358974358974359,
          0.3333333333333333,
          0.3076923076923077,
          0.28205128205128205,
          0.2564102564102564,
          0.23076923076923078,
          0.20512820512820512,
          0.1794871794871795,
          0.15384615384615385,
          0.1282051282051282,
          0.10256410256410256,
          0.07692307692307693,
          0.05128205128205128,
          0.02564102564102564,
          0,
          0.48717948717948717,
          0.46153846153846156,
          0.4358974358974359,
          0.41025641025641024,
          0.38461538461538464,
          0.358974358974359,
          0.3333333333333333,
          0.3076923076923077,
          0.28205128205128205,
          0.2564102564102564,
          0.23076923076923078,
          0.20512820512820512,
          0.1794871794871795,
          0.15384615384615385,
          0.1282051282051282,
          0.10256410256410256,
          0.07692307692307693,
          0.05128205128205128,
          0.02564102564102564,
          0,
          0.46153846153846156,
          0.4358974358974359,
          0.41025641025641024,
          0.38461538461538464,
          0.358974358974359,
          0.3333333333333333,
          0.3076923076923077,
          0.28205128205128205,
          0.2564102564102564,
          0.23076923076923078,
          0.20512820512820512,
          0.1794871794871795,
          0.15384615384615385,
          0.1282051282051282,
          0.10256410256410256,
          0.07692307692307693,
          0.05128205128205128,
          0.02564102564102564,
          0,
          0.4358974358974359,
          0.41025641025641024,
          0.38461538461538464,
          0.358974358974359,
          0.3333333333333333,
          0.3076923076923077,
          0.28205128205128205,
          0.2564102564102564,
          0.23076923076923078,
          0.20512820512820512,
          0.1794871794871795,
          0.15384615384615385,
          0.1282051282051282,
          0.10256410256410256,
          0.07692307692307693,
          0.05128205128205128,
          0.02564102564102564,
          0,
          0.41025641025641024,
          0.38461538461538464,
          0.358974358974359,
          0.3333333333333333,
          0.3076923076923077,
          0.28205128205128205,
          0.2564102564102564,
          0.23076923076923078,
          0.20512820512820512,
          0.1794871794871795,
          0.15384615384615385,
          0.1282051282051282,
          0.10256410256410256,
          0.07692307692307693,
          0.05128205128205128,
          0.02564102564102564,
          0,
          0.38461538461538464,
          0.358974358974359,
          0.3333333333333333,
          0.3076923076923077,
          0.28205128205128205,
          0.2564102564102564,
          0.23076923076923078,
          0.20512820512820512,
          0.1794871794871795,
          0.15384615384615385,
          0.1282051282051282,
          0.10256410256410256,
          0.07692307692307693,
          0.05128205128205128,
          0.02564102564102564,
          0,
          0.358974358974359,
          0.3333333333333333,
          0.3076923076923077,
          0.28205128205128205,
          0.2564102564102564,
          0.23076923076923078,
          0.20512820512820512,
          0.1794871794871795,
          0.15384615384615385,
          0.1282051282051282,
          0.10256410256410256,
          0.07692307692307693,
          0.05128205128205128,
          0.02564102564102564,
          0,
          0.3333333333333333,
          0.3076923076923077,
          0.28205128205128205,
          0.2564102564102564,
          0.23076923076923078,
          0.20512820512820512,
          0.1794871794871795,
          0.15384615384615385,
          0.1282051282051282,
          0.10256410256410256,
          0.07692307692307693,
          0.05128205128205128,
          0.02564102564102564,
          0,
          0.3076923076923077,
          0.28205128205128205,
          0.2564102564102564,
          0.23076923076923078,
          0.20512820512820512,
          0.1794871794871795,
          0.15384615384615385,
          0.1282051282051282,
          0.10256410256410256,
          0.07692307692307693,
          0.05128205128205128,
          0.02564102564102564,
          0,
          0.28205128205128205,
          0.2564102564102564,
          0.23076923076923078,
          0.20512820512820512,
          0.1794871794871795,
          0.15384615384615385,
          0.1282051282051282,
          0.10256410256410256,
          0.07692307692307693,
          0.05128205128205128,
          0.02564102564102564,
          0,
          0.2564102564102564,
          0.23076923076923078,
          0.20512820512820512,
          0.1794871794871795,
          0.15384615384615385,
          0.1282051282051282,
          0.10256410256410256,
          0.07692307692307693,
          0.05128205128205128,
          0.02564102564102564,
          0,
          0.23076923076923078,
          0.20512820512820512,
          0.1794871794871795,
          0.15384615384615385,
          0.1282051282051282,
          0.10256410256410256,
          0.07692307692307693,
          0.05128205128205128,
          0.02564102564102564,
          0,
          0.20512820512820512,
          0.1794871794871795,
          0.15384615384615385,
          0.1282051282051282,
          0.10256410256410256,
          0.07692307692307693,
          0.05128205128205128,
          0.02564102564102564,
          0,
          0.1794871794871795,
          0.15384615384615385,
          0.1282051282051282,
          0.10256410256410256,
          0.07692307692307693,
          0.05128205128205128,
          0.02564102564102564,
          0,
          0.15384615384615385,
          0.1282051282051282,
          0.10256410256410256,
          0.07692307692307693,
          0.05128205128205128,
          0.02564102564102564,
          0,
          0.1282051282051282,
          0.10256410256410256,
          0.07692307692307693,
          0.05128205128205128,
          0.02564102564102564,
          0,
          0.10256410256410256,
          0.07692307692307693,
          0.05128205128205128,
          0.02564102564102564,
          0,
          0.07692307692307693,
          0.05128205128205128,
          0.02564102564102564,
          0,
          0.05128205128205128,
          0.02564102564102564,
          0,
          0.02564102564102564,
          0,
          0
         ]
        }
       ],
       "layout": {
        "scene": {
         "xaxis": {
          "title": {
           "text": "d"
          }
         },
         "yaxis": {
          "title": {
           "text": "r"
          }
         },
         "zaxis": {
          "title": {
           "text": "l"
          }
         }
        },
        "template": {
         "data": {
          "bar": [
           {
            "error_x": {
             "color": "#2a3f5f"
            },
            "error_y": {
             "color": "#2a3f5f"
            },
            "marker": {
             "line": {
              "color": "white",
              "width": 0.5
             },
             "pattern": {
              "fillmode": "overlay",
              "size": 10,
              "solidity": 0.2
             }
            },
            "type": "bar"
           }
          ],
          "barpolar": [
           {
            "marker": {
             "line": {
              "color": "white",
              "width": 0.5
             },
             "pattern": {
              "fillmode": "overlay",
              "size": 10,
              "solidity": 0.2
             }
            },
            "type": "barpolar"
           }
          ],
          "carpet": [
           {
            "aaxis": {
             "endlinecolor": "#2a3f5f",
             "gridcolor": "#C8D4E3",
             "linecolor": "#C8D4E3",
             "minorgridcolor": "#C8D4E3",
             "startlinecolor": "#2a3f5f"
            },
            "baxis": {
             "endlinecolor": "#2a3f5f",
             "gridcolor": "#C8D4E3",
             "linecolor": "#C8D4E3",
             "minorgridcolor": "#C8D4E3",
             "startlinecolor": "#2a3f5f"
            },
            "type": "carpet"
           }
          ],
          "choropleth": [
           {
            "colorbar": {
             "outlinewidth": 0,
             "ticks": ""
            },
            "type": "choropleth"
           }
          ],
          "contour": [
           {
            "colorbar": {
             "outlinewidth": 0,
             "ticks": ""
            },
            "colorscale": [
             [
              0,
              "#0d0887"
             ],
             [
              0.1111111111111111,
              "#46039f"
             ],
             [
              0.2222222222222222,
              "#7201a8"
             ],
             [
              0.3333333333333333,
              "#9c179e"
             ],
             [
              0.4444444444444444,
              "#bd3786"
             ],
             [
              0.5555555555555556,
              "#d8576b"
             ],
             [
              0.6666666666666666,
              "#ed7953"
             ],
             [
              0.7777777777777778,
              "#fb9f3a"
             ],
             [
              0.8888888888888888,
              "#fdca26"
             ],
             [
              1,
              "#f0f921"
             ]
            ],
            "type": "contour"
           }
          ],
          "contourcarpet": [
           {
            "colorbar": {
             "outlinewidth": 0,
             "ticks": ""
            },
            "type": "contourcarpet"
           }
          ],
          "heatmap": [
           {
            "colorbar": {
             "outlinewidth": 0,
             "ticks": ""
            },
            "colorscale": [
             [
              0,
              "#0d0887"
             ],
             [
              0.1111111111111111,
              "#46039f"
             ],
             [
              0.2222222222222222,
              "#7201a8"
             ],
             [
              0.3333333333333333,
              "#9c179e"
             ],
             [
              0.4444444444444444,
              "#bd3786"
             ],
             [
              0.5555555555555556,
              "#d8576b"
             ],
             [
              0.6666666666666666,
              "#ed7953"
             ],
             [
              0.7777777777777778,
              "#fb9f3a"
             ],
             [
              0.8888888888888888,
              "#fdca26"
             ],
             [
              1,
              "#f0f921"
             ]
            ],
            "type": "heatmap"
           }
          ],
          "heatmapgl": [
           {
            "colorbar": {
             "outlinewidth": 0,
             "ticks": ""
            },
            "colorscale": [
             [
              0,
              "#0d0887"
             ],
             [
              0.1111111111111111,
              "#46039f"
             ],
             [
              0.2222222222222222,
              "#7201a8"
             ],
             [
              0.3333333333333333,
              "#9c179e"
             ],
             [
              0.4444444444444444,
              "#bd3786"
             ],
             [
              0.5555555555555556,
              "#d8576b"
             ],
             [
              0.6666666666666666,
              "#ed7953"
             ],
             [
              0.7777777777777778,
              "#fb9f3a"
             ],
             [
              0.8888888888888888,
              "#fdca26"
             ],
             [
              1,
              "#f0f921"
             ]
            ],
            "type": "heatmapgl"
           }
          ],
          "histogram": [
           {
            "marker": {
             "pattern": {
              "fillmode": "overlay",
              "size": 10,
              "solidity": 0.2
             }
            },
            "type": "histogram"
           }
          ],
          "histogram2d": [
           {
            "colorbar": {
             "outlinewidth": 0,
             "ticks": ""
            },
            "colorscale": [
             [
              0,
              "#0d0887"
             ],
             [
              0.1111111111111111,
              "#46039f"
             ],
             [
              0.2222222222222222,
              "#7201a8"
             ],
             [
              0.3333333333333333,
              "#9c179e"
             ],
             [
              0.4444444444444444,
              "#bd3786"
             ],
             [
              0.5555555555555556,
              "#d8576b"
             ],
             [
              0.6666666666666666,
              "#ed7953"
             ],
             [
              0.7777777777777778,
              "#fb9f3a"
             ],
             [
              0.8888888888888888,
              "#fdca26"
             ],
             [
              1,
              "#f0f921"
             ]
            ],
            "type": "histogram2d"
           }
          ],
          "histogram2dcontour": [
           {
            "colorbar": {
             "outlinewidth": 0,
             "ticks": ""
            },
            "colorscale": [
             [
              0,
              "#0d0887"
             ],
             [
              0.1111111111111111,
              "#46039f"
             ],
             [
              0.2222222222222222,
              "#7201a8"
             ],
             [
              0.3333333333333333,
              "#9c179e"
             ],
             [
              0.4444444444444444,
              "#bd3786"
             ],
             [
              0.5555555555555556,
              "#d8576b"
             ],
             [
              0.6666666666666666,
              "#ed7953"
             ],
             [
              0.7777777777777778,
              "#fb9f3a"
             ],
             [
              0.8888888888888888,
              "#fdca26"
             ],
             [
              1,
              "#f0f921"
             ]
            ],
            "type": "histogram2dcontour"
           }
          ],
          "mesh3d": [
           {
            "colorbar": {
             "outlinewidth": 0,
             "ticks": ""
            },
            "type": "mesh3d"
           }
          ],
          "parcoords": [
           {
            "line": {
             "colorbar": {
              "outlinewidth": 0,
              "ticks": ""
             }
            },
            "type": "parcoords"
           }
          ],
          "pie": [
           {
            "automargin": true,
            "type": "pie"
           }
          ],
          "scatter": [
           {
            "fillpattern": {
             "fillmode": "overlay",
             "size": 10,
             "solidity": 0.2
            },
            "type": "scatter"
           }
          ],
          "scatter3d": [
           {
            "line": {
             "colorbar": {
              "outlinewidth": 0,
              "ticks": ""
             }
            },
            "marker": {
             "colorbar": {
              "outlinewidth": 0,
              "ticks": ""
             }
            },
            "type": "scatter3d"
           }
          ],
          "scattercarpet": [
           {
            "marker": {
             "colorbar": {
              "outlinewidth": 0,
              "ticks": ""
             }
            },
            "type": "scattercarpet"
           }
          ],
          "scattergeo": [
           {
            "marker": {
             "colorbar": {
              "outlinewidth": 0,
              "ticks": ""
             }
            },
            "type": "scattergeo"
           }
          ],
          "scattergl": [
           {
            "marker": {
             "colorbar": {
              "outlinewidth": 0,
              "ticks": ""
             }
            },
            "type": "scattergl"
           }
          ],
          "scattermapbox": [
           {
            "marker": {
             "colorbar": {
              "outlinewidth": 0,
              "ticks": ""
             }
            },
            "type": "scattermapbox"
           }
          ],
          "scatterpolar": [
           {
            "marker": {
             "colorbar": {
              "outlinewidth": 0,
              "ticks": ""
             }
            },
            "type": "scatterpolar"
           }
          ],
          "scatterpolargl": [
           {
            "marker": {
             "colorbar": {
              "outlinewidth": 0,
              "ticks": ""
             }
            },
            "type": "scatterpolargl"
           }
          ],
          "scatterternary": [
           {
            "marker": {
             "colorbar": {
              "outlinewidth": 0,
              "ticks": ""
             }
            },
            "type": "scatterternary"
           }
          ],
          "surface": [
           {
            "colorbar": {
             "outlinewidth": 0,
             "ticks": ""
            },
            "colorscale": [
             [
              0,
              "#0d0887"
             ],
             [
              0.1111111111111111,
              "#46039f"
             ],
             [
              0.2222222222222222,
              "#7201a8"
             ],
             [
              0.3333333333333333,
              "#9c179e"
             ],
             [
              0.4444444444444444,
              "#bd3786"
             ],
             [
              0.5555555555555556,
              "#d8576b"
             ],
             [
              0.6666666666666666,
              "#ed7953"
             ],
             [
              0.7777777777777778,
              "#fb9f3a"
             ],
             [
              0.8888888888888888,
              "#fdca26"
             ],
             [
              1,
              "#f0f921"
             ]
            ],
            "type": "surface"
           }
          ],
          "table": [
           {
            "cells": {
             "fill": {
              "color": "#EBF0F8"
             },
             "line": {
              "color": "white"
             }
            },
            "header": {
             "fill": {
              "color": "#C8D4E3"
             },
             "line": {
              "color": "white"
             }
            },
            "type": "table"
           }
          ]
         },
         "layout": {
          "annotationdefaults": {
           "arrowcolor": "#2a3f5f",
           "arrowhead": 0,
           "arrowwidth": 1
          },
          "autotypenumbers": "strict",
          "coloraxis": {
           "colorbar": {
            "outlinewidth": 0,
            "ticks": ""
           }
          },
          "colorscale": {
           "diverging": [
            [
             0,
             "#8e0152"
            ],
            [
             0.1,
             "#c51b7d"
            ],
            [
             0.2,
             "#de77ae"
            ],
            [
             0.3,
             "#f1b6da"
            ],
            [
             0.4,
             "#fde0ef"
            ],
            [
             0.5,
             "#f7f7f7"
            ],
            [
             0.6,
             "#e6f5d0"
            ],
            [
             0.7,
             "#b8e186"
            ],
            [
             0.8,
             "#7fbc41"
            ],
            [
             0.9,
             "#4d9221"
            ],
            [
             1,
             "#276419"
            ]
           ],
           "sequential": [
            [
             0,
             "#0d0887"
            ],
            [
             0.1111111111111111,
             "#46039f"
            ],
            [
             0.2222222222222222,
             "#7201a8"
            ],
            [
             0.3333333333333333,
             "#9c179e"
            ],
            [
             0.4444444444444444,
             "#bd3786"
            ],
            [
             0.5555555555555556,
             "#d8576b"
            ],
            [
             0.6666666666666666,
             "#ed7953"
            ],
            [
             0.7777777777777778,
             "#fb9f3a"
            ],
            [
             0.8888888888888888,
             "#fdca26"
            ],
            [
             1,
             "#f0f921"
            ]
           ],
           "sequentialminus": [
            [
             0,
             "#0d0887"
            ],
            [
             0.1111111111111111,
             "#46039f"
            ],
            [
             0.2222222222222222,
             "#7201a8"
            ],
            [
             0.3333333333333333,
             "#9c179e"
            ],
            [
             0.4444444444444444,
             "#bd3786"
            ],
            [
             0.5555555555555556,
             "#d8576b"
            ],
            [
             0.6666666666666666,
             "#ed7953"
            ],
            [
             0.7777777777777778,
             "#fb9f3a"
            ],
            [
             0.8888888888888888,
             "#fdca26"
            ],
            [
             1,
             "#f0f921"
            ]
           ]
          },
          "colorway": [
           "#636efa",
           "#EF553B",
           "#00cc96",
           "#ab63fa",
           "#FFA15A",
           "#19d3f3",
           "#FF6692",
           "#B6E880",
           "#FF97FF",
           "#FECB52"
          ],
          "font": {
           "color": "#2a3f5f"
          },
          "geo": {
           "bgcolor": "white",
           "lakecolor": "white",
           "landcolor": "white",
           "showlakes": true,
           "showland": true,
           "subunitcolor": "#C8D4E3"
          },
          "hoverlabel": {
           "align": "left"
          },
          "hovermode": "closest",
          "mapbox": {
           "style": "light"
          },
          "paper_bgcolor": "white",
          "plot_bgcolor": "white",
          "polar": {
           "angularaxis": {
            "gridcolor": "#EBF0F8",
            "linecolor": "#EBF0F8",
            "ticks": ""
           },
           "bgcolor": "white",
           "radialaxis": {
            "gridcolor": "#EBF0F8",
            "linecolor": "#EBF0F8",
            "ticks": ""
           }
          },
          "scene": {
           "xaxis": {
            "backgroundcolor": "white",
            "gridcolor": "#DFE8F3",
            "gridwidth": 2,
            "linecolor": "#EBF0F8",
            "showbackground": true,
            "ticks": "",
            "zerolinecolor": "#EBF0F8"
           },
           "yaxis": {
            "backgroundcolor": "white",
            "gridcolor": "#DFE8F3",
            "gridwidth": 2,
            "linecolor": "#EBF0F8",
            "showbackground": true,
            "ticks": "",
            "zerolinecolor": "#EBF0F8"
           },
           "zaxis": {
            "backgroundcolor": "white",
            "gridcolor": "#DFE8F3",
            "gridwidth": 2,
            "linecolor": "#EBF0F8",
            "showbackground": true,
            "ticks": "",
            "zerolinecolor": "#EBF0F8"
           }
          },
          "shapedefaults": {
           "line": {
            "color": "#2a3f5f"
           }
          },
          "ternary": {
           "aaxis": {
            "gridcolor": "#DFE8F3",
            "linecolor": "#A2B1C6",
            "ticks": ""
           },
           "baxis": {
            "gridcolor": "#DFE8F3",
            "linecolor": "#A2B1C6",
            "ticks": ""
           },
           "bgcolor": "white",
           "caxis": {
            "gridcolor": "#DFE8F3",
            "linecolor": "#A2B1C6",
            "ticks": ""
           }
          },
          "title": {
           "x": 0.05
          },
          "xaxis": {
           "automargin": true,
           "gridcolor": "#EBF0F8",
           "linecolor": "#EBF0F8",
           "ticks": "",
           "title": {
            "standoff": 15
           },
           "zerolinecolor": "#EBF0F8",
           "zerolinewidth": 2
          },
          "yaxis": {
           "automargin": true,
           "gridcolor": "#EBF0F8",
           "linecolor": "#EBF0F8",
           "ticks": "",
           "title": {
            "standoff": 15
           },
           "zerolinecolor": "#EBF0F8",
           "zerolinewidth": 2
          }
         }
        }
       }
      }
     },
     "metadata": {},
     "output_type": "display_data"
    },
    {
     "name": "stdout",
     "output_type": "stream",
     "text": [
      "Max utility value: \n",
      "[Fraction(0, 1) Fraction(2, 13) Fraction(17, 39) Fraction(16, 39)]\n",
      "[0.   0.15 0.44 0.41]\n",
      "0.10005220975642456\n"
     ]
    }
   ],
   "source": [
    "budget = 1\n",
    "gridSize = (5, 5)\n",
    "target = Node(4, 1)\n",
    "strategies = list([ \n",
    "    Strategy({ Action.DOWN: frac(1, 3), Action.RIGHT: frac(1, 3), Action.LEFT: frac(1, 3) }) \n",
    "])\n",
    "enumerated_strategies = dict(enumerate(strategies, start=1))\n",
    "\n",
    "pomdp = POMDP(gridSize=gridSize, target=target, model='grid', budget=budget)\n",
    "\n",
    "# Assign strategies to the nodes\n",
    "for node in pomdp.nodes: node.assign_strategy(enumerated_strategies[1], 1)\n",
    "observations =  {n: n.strategy_id for n in pomdp.nodes if n != target}\n",
    "\n",
    "# ---------------------------------------------------------\n",
    "# get one specific utility value\n",
    "# print(pomdp.utility(enumerated_strategies, assignments)[0])\n",
    "# ---------------------------------------------------------\n",
    "\n",
    "combinations_, U = pomdp.generate_points(enumerated_strategies, observations, sections=40, write_to_file=True)\n",
    "plot_actions_4D(combinations_, U, actions = [Action.DOWN, Action.RIGHT, Action.LEFT])\n",
    "\n",
    "# get the probability distribution of the actions that maximizes the utility\n",
    "max_index = np.argmax(U)\n",
    "approx = np.around(list(map(float, combinations_[max_index][0])), 2)\n",
    "\n",
    "print('Max utility value: ')\n",
    "print(combinations_[max_index][0])\n",
    "print(approx)\n",
    "print(U[max_index])"
   ]
  },
  {
   "cell_type": "markdown",
   "metadata": {},
   "source": [
    "15x15 grid with the target close to the bottom left."
   ]
  },
  {
   "cell_type": "code",
   "execution_count": 4,
   "metadata": {},
   "outputs": [
    {
     "data": {
      "application/vnd.plotly.v1+json": {
       "config": {
        "plotlyServerURL": "https://plot.ly"
       },
       "data": [
        {
         "marker": {
          "color": [
           "blue",
           "blue",
           "blue",
           "blue",
           "blue",
           "blue",
           "blue",
           "blue",
           "blue",
           "blue",
           "blue",
           "blue",
           "blue",
           "blue",
           "blue",
           "blue",
           "blue",
           "blue",
           "blue",
           "blue",
           "blue",
           "blue",
           "blue",
           "blue",
           "blue",
           "blue",
           "blue",
           "blue",
           "blue",
           "blue",
           "blue",
           "blue",
           "blue",
           "blue",
           "blue",
           "blue",
           "blue",
           "blue",
           "blue",
           "blue",
           "blue",
           "blue",
           "blue",
           "blue",
           "blue",
           "blue",
           "blue",
           "blue",
           "blue",
           "blue",
           "blue",
           "blue",
           "blue",
           "blue",
           "blue",
           "blue",
           "blue",
           "blue",
           "blue",
           "blue",
           "blue",
           "blue",
           "blue",
           "blue",
           "blue",
           "blue",
           "blue",
           "blue",
           "blue",
           "blue",
           "blue",
           "blue",
           "blue",
           "blue",
           "blue",
           "blue",
           "blue",
           "blue",
           "blue",
           "blue",
           "blue",
           "blue",
           "blue",
           "blue",
           "blue",
           "blue",
           "blue",
           "blue",
           "blue",
           "blue",
           "blue",
           "blue",
           "blue",
           "blue",
           "blue",
           "blue",
           "blue",
           "blue",
           "blue",
           "blue",
           "blue",
           "blue",
           "blue",
           "blue",
           "blue",
           "blue",
           "blue",
           "blue",
           "blue",
           "blue",
           "blue",
           "blue",
           "blue",
           "blue",
           "blue",
           "blue",
           "blue",
           "blue",
           "blue",
           "blue",
           "blue",
           "blue",
           "blue",
           "blue",
           "blue",
           "blue",
           "blue",
           "blue",
           "blue",
           "blue",
           "blue",
           "blue",
           "blue",
           "blue",
           "blue",
           "blue",
           "blue",
           "blue",
           "blue",
           "blue",
           "blue",
           "blue",
           "blue",
           "blue",
           "blue",
           "blue",
           "blue",
           "blue",
           "blue",
           "blue",
           "blue",
           "blue",
           "blue",
           "blue",
           "blue",
           "blue",
           "blue",
           "blue",
           "blue",
           "blue",
           "blue",
           "blue",
           "blue",
           "blue",
           "blue",
           "blue",
           "blue",
           "blue",
           "blue",
           "blue",
           "blue",
           "blue",
           "blue",
           "blue",
           "blue",
           "blue",
           "blue",
           "blue",
           "blue",
           "blue",
           "blue",
           "blue",
           "blue",
           "blue",
           "blue",
           "blue",
           "blue",
           "blue",
           "blue",
           "blue",
           "blue",
           "blue",
           "blue",
           "blue",
           "blue",
           "blue",
           "blue",
           "blue",
           "blue",
           "blue",
           "blue",
           "blue",
           "blue",
           "blue",
           "blue",
           "blue",
           "blue",
           "blue",
           "blue",
           "blue",
           "blue",
           "blue",
           "blue",
           "blue",
           "blue",
           "blue",
           "blue",
           "blue",
           "blue",
           "blue",
           "blue",
           "blue",
           "blue",
           "blue",
           "blue",
           "blue",
           "blue",
           "blue",
           "blue",
           "blue",
           "blue",
           "blue",
           "blue",
           "blue",
           "blue",
           "blue",
           "blue",
           "blue",
           "blue",
           "blue",
           "blue",
           "blue",
           "blue",
           "blue",
           "blue",
           "blue",
           "blue",
           "blue",
           "blue",
           "blue",
           "blue",
           "blue",
           "blue",
           "blue",
           "blue",
           "blue",
           "blue",
           "blue",
           "blue",
           "blue",
           "blue",
           "blue",
           "blue",
           "blue",
           "blue",
           "blue",
           "blue",
           "blue",
           "blue",
           "blue",
           "blue",
           "blue",
           "blue",
           "blue",
           "blue",
           "blue",
           "blue",
           "blue",
           "blue",
           "blue",
           "blue",
           "blue",
           "blue",
           "blue",
           "blue",
           "blue",
           "blue",
           "blue",
           "blue",
           "blue",
           "blue",
           "blue",
           "blue",
           "blue",
           "blue",
           "blue",
           "blue",
           "blue",
           "blue",
           "blue",
           "blue",
           "blue",
           "blue",
           "blue",
           "blue",
           "blue",
           "blue",
           "blue",
           "blue",
           "blue",
           "blue",
           "blue",
           "blue",
           "blue",
           "blue",
           "blue",
           "blue",
           "blue",
           "blue",
           "blue",
           "blue",
           "blue",
           "blue",
           "blue",
           "blue",
           "blue",
           "blue",
           "blue",
           "blue",
           "blue",
           "blue",
           "blue",
           "blue",
           "blue",
           "blue",
           "blue",
           "blue",
           "blue",
           "blue",
           "blue",
           "blue",
           "blue",
           "blue",
           "blue",
           "blue",
           "blue",
           "blue",
           "blue",
           "blue",
           "blue",
           "blue",
           "blue",
           "blue",
           "blue",
           "blue",
           "blue",
           "blue",
           "blue",
           "blue",
           "blue",
           "blue",
           "blue",
           "blue",
           "blue",
           "blue",
           "blue",
           "blue",
           "blue",
           "blue",
           "blue",
           "blue",
           "blue",
           "blue",
           "blue",
           "blue",
           "blue",
           "blue",
           "blue",
           "blue",
           "blue",
           "blue",
           "blue",
           "blue",
           "blue",
           "blue",
           "blue",
           "blue",
           "blue",
           "blue",
           "blue",
           "blue",
           "blue",
           "blue",
           "blue",
           "blue",
           "blue",
           "blue",
           "blue",
           "blue",
           "blue",
           "blue",
           "blue",
           "blue",
           "blue",
           "blue",
           "blue",
           "blue",
           "blue",
           "blue",
           "blue",
           "blue",
           "blue",
           "blue",
           "blue",
           "blue",
           "blue",
           "blue",
           "blue",
           "blue",
           "blue",
           "blue",
           "blue",
           "blue",
           "blue",
           "blue",
           "blue",
           "blue",
           "blue",
           "blue",
           "blue",
           "blue",
           "blue",
           "blue",
           "blue",
           "blue",
           "blue",
           "blue",
           "blue",
           "blue",
           "blue",
           "blue",
           "blue",
           "blue",
           "blue",
           "blue",
           "blue",
           "blue",
           "blue",
           "blue",
           "blue",
           "blue",
           "blue",
           "blue",
           "blue",
           "blue",
           "blue",
           "blue",
           "blue",
           "blue",
           "blue",
           "blue",
           "blue",
           "blue",
           "blue",
           "blue",
           "blue",
           "blue",
           "blue",
           "blue",
           "blue",
           "blue",
           "blue",
           "blue",
           "blue",
           "blue",
           "blue",
           "blue",
           "blue",
           "blue",
           "blue",
           "blue",
           "blue",
           "blue",
           "blue",
           "blue",
           "blue",
           "blue",
           "blue",
           "blue",
           "blue",
           "blue",
           "blue",
           "blue",
           "blue",
           "blue",
           "blue",
           "blue",
           "blue",
           "blue",
           "blue",
           "blue",
           "blue",
           "blue",
           "blue",
           "blue",
           "blue",
           "blue",
           "blue",
           "blue",
           "blue",
           "blue",
           "blue",
           "blue",
           "blue",
           "blue",
           "blue",
           "blue",
           "blue",
           "blue",
           "blue",
           "blue",
           "blue",
           "blue",
           "blue",
           "blue",
           "blue",
           "blue",
           "blue",
           "blue",
           "blue",
           "blue",
           "blue",
           "blue",
           "blue",
           "blue",
           "blue",
           "blue",
           "blue",
           "blue",
           "blue",
           "blue",
           "blue",
           "blue",
           "blue",
           "blue",
           "blue",
           "blue",
           "blue",
           "blue",
           "blue",
           "blue",
           "blue",
           "blue",
           "blue",
           "blue",
           "blue",
           "blue",
           "blue",
           "blue",
           "blue",
           "blue",
           "blue",
           "blue",
           "blue",
           "blue",
           "blue",
           "blue",
           "blue",
           "blue",
           "blue",
           "blue",
           "blue",
           "blue",
           "blue",
           "blue",
           "blue",
           "blue",
           "blue",
           "blue",
           "blue",
           "blue",
           "blue",
           "blue",
           "blue",
           "blue",
           "blue",
           "blue",
           "blue",
           "blue",
           "blue",
           "blue",
           "blue",
           "red",
           "blue",
           "blue",
           "blue",
           "blue",
           "blue",
           "blue",
           "blue",
           "blue",
           "blue",
           "blue",
           "blue",
           "blue",
           "blue",
           "blue",
           "blue",
           "blue",
           "blue",
           "blue",
           "blue",
           "blue",
           "blue",
           "blue",
           "blue",
           "blue",
           "blue",
           "blue",
           "blue",
           "blue",
           "blue",
           "blue",
           "blue",
           "blue",
           "blue",
           "blue",
           "blue",
           "blue",
           "blue",
           "blue",
           "blue",
           "blue",
           "blue",
           "blue",
           "blue",
           "blue",
           "blue",
           "blue",
           "blue",
           "blue",
           "blue",
           "blue",
           "blue",
           "blue",
           "blue",
           "blue",
           "blue",
           "blue",
           "blue",
           "blue",
           "blue",
           "blue",
           "blue",
           "blue",
           "blue",
           "blue",
           "blue",
           "blue",
           "blue",
           "blue",
           "blue",
           "blue",
           "blue",
           "blue",
           "blue",
           "blue",
           "blue",
           "blue",
           "blue",
           "blue",
           "blue",
           "blue",
           "blue",
           "blue",
           "blue",
           "blue",
           "blue",
           "blue",
           "blue",
           "blue",
           "blue",
           "blue",
           "blue",
           "blue",
           "blue",
           "blue",
           "blue",
           "blue",
           "blue",
           "blue",
           "blue",
           "blue",
           "blue",
           "blue",
           "blue",
           "blue",
           "blue",
           "blue",
           "blue",
           "blue",
           "blue",
           "blue",
           "blue",
           "blue",
           "blue",
           "blue",
           "blue",
           "blue",
           "blue",
           "blue",
           "blue",
           "blue",
           "blue",
           "blue",
           "blue",
           "blue",
           "blue",
           "blue",
           "blue",
           "blue",
           "blue",
           "blue",
           "blue",
           "blue",
           "blue",
           "blue",
           "blue",
           "blue",
           "blue",
           "blue",
           "blue",
           "blue",
           "blue",
           "blue",
           "blue",
           "blue",
           "blue",
           "blue",
           "blue",
           "blue",
           "blue",
           "blue",
           "blue",
           "blue",
           "blue",
           "blue",
           "blue",
           "blue",
           "blue",
           "blue",
           "blue",
           "blue",
           "blue",
           "blue",
           "blue",
           "blue",
           "blue",
           "blue",
           "blue",
           "blue",
           "blue",
           "blue",
           "blue",
           "blue",
           "blue",
           "blue",
           "blue",
           "blue",
           "blue",
           "blue",
           "blue",
           "blue",
           "blue",
           "blue",
           "blue",
           "blue",
           "blue",
           "blue",
           "blue",
           "blue",
           "blue",
           "blue",
           "blue",
           "blue",
           "blue",
           "blue",
           "blue",
           "blue",
           "blue",
           "blue",
           "blue",
           "blue",
           "blue",
           "blue",
           "blue",
           "blue",
           "blue",
           "blue",
           "blue",
           "blue",
           "blue",
           "blue",
           "blue",
           "blue",
           "blue",
           "blue",
           "blue",
           "blue",
           "blue",
           "blue",
           "blue",
           "blue",
           "blue",
           "blue",
           "blue",
           "blue",
           "blue",
           "blue",
           "blue"
          ],
          "opacity": 0.7,
          "size": [
           1,
           1,
           1,
           1,
           1,
           1,
           1,
           1,
           1,
           1,
           1,
           1,
           1,
           1,
           1,
           1,
           1,
           1,
           1,
           1,
           1,
           1,
           1,
           1,
           1,
           1,
           1,
           1,
           1,
           1,
           1,
           1,
           1,
           1,
           1,
           1,
           1,
           1,
           1,
           1,
           1,
           2.677729360000213,
           2.7818860142929185,
           2.819464246397979,
           2.838752141805032,
           2.850385747326544,
           2.858039358847356,
           2.863293412681071,
           2.8669031054411964,
           2.869220521035966,
           2.870343846304298,
           2.870143155567285,
           2.8681875524204767,
           2.8635233504671724,
           2.8541415360261797,
           2.8357500085323313,
           2.7991325176820605,
           2.7256469978715585,
           2.5843779930914277,
           2.3440618005711036,
           2.0076479284925677,
           1.637935570500264,
           1.3304186086493108,
           1.1402381220114197,
           1.0502735972717225,
           1.0157281124288615,
           1.0043757834865394,
           1.0010870036067712,
           1.0002393295625478,
           1.0000459189341249,
           1.000007471473952,
           1.0000009897104647,
           1.0000001003489636,
           1.000000007067809,
           1.0000000002935947,
           1.0000000000052875,
           1.0000000000000207,
           1,
           1,
           1,
           4.016533713135008,
           4.365065105363909,
           4.499376538505285,
           4.5700288478266105,
           4.613025432578466,
           4.64124146637981,
           4.660281597350242,
           4.672777927615979,
           4.67983129249407,
           4.681481431672807,
           4.676685323616569,
           4.662826848050219,
           4.634455563908643,
           4.580490163452652,
           4.478601059013947,
           4.2867055523853015,
           3.9414329138161883,
           3.3949766492012983,
           2.6978405303019706,
           2.0154077031537874,
           1.5058319608210555,
           1.2112266422289157,
           1.0754937687996915,
           1.023624026840279,
           1.0065652267382208,
           1.0016253206063181,
           1.0003559463042806,
           1.0000678411216066,
           1.0000109565760436,
           1.0000014399752075,
           1.0000001448285527,
           1.0000000101182691,
           1.0000000004169474,
           1.00000000000745,
           1.0000000000000289,
           1,
           1,
           1,
           5.120520672182798,
           5.787250400795926,
           6.05866669563296,
           6.204394136636999,
           6.29357009407114,
           6.3516535215430245,
           6.38978679639859,
           6.413020576054265,
           6.4230586096450955,
           6.419020370352998,
           6.397060705955294,
           6.348737341269978,
           6.257323555428891,
           6.0907406697011846,
           5.791530325436163,
           5.275990328119797,
           4.480523508355855,
           3.4720004150612636,
           2.48370363097667,
           1.7446654686243865,
           1.314502823616813,
           1.1136278978946084,
           1.0357914888923392,
           1.0099625688356426,
           1.0024605577590358,
           1.0005361450202068,
           1.0001014992748691,
           1.000016266218143,
           1.0000021201912144,
           1.0000002114347157,
           1.0000000146455847,
           1.0000000005983976,
           1.000000000010603,
           1.0000000000000409,
           1,
           1,
           1,
           6.056535086304654,
           7.0778001202717,
           7.513009661049645,
           7.750561801735849,
           7.896157209684135,
           7.989657027538366,
           8.04845186035779,
           8.079932503072389,
           8.085558556086852,
           8.06166304181453,
           7.99812596699818,
           7.874586900523725,
           7.653245412156924,
           7.269021529611418,
           6.628235203146825,
           5.651203519969838,
           4.387920782449131,
           3.0954881776084395,
           2.0821376953642305,
           1.4680913062033132,
           1.1721213819773564,
           1.0547781273490038,
           1.0153029919285779,
           1.0037742648432013,
           1.0008185061262125,
           1.00015390211102,
           1.0000244671654888,
           1.0000031615551679,
           1.0000003124619015,
           1.0000000214480078,
           1.000000000868474,
           1.0000000000152531,
           1.0000000000000582,
           1,
           1,
           1,
           6.8696753008261595,
           8.259944828238545,
           8.875382881404727,
           9.215498369731677,
           9.423286002201504,
           9.55364379350576,
           9.630171561383367,
           9.661809146949292,
           9.64801779503534,
           9.579177831287613,
           9.433639552756341,
           9.171353452256083,
           8.7252087919373,
           7.999149216340514,
           6.901565650118951,
           5.448664456305625,
           3.876182867519123,
           2.5521780226230564,
           1.6958577265443906,
           1.2623158766233713,
           1.084701696779266,
           1.023804555377354,
           1.0058698482874955,
           1.0012675075388986,
           1.000236705834976,
           1.0000373198689294,
           1.0000047785593618,
           1.00000046780557,
           1.0000000318036366,
           1.0000000012755337,
           1.0000000000221925,
           1.000000000000084,
           1,
           1,
           1,
           7.591693061757728,
           9.352328605920823,
           10.15646250306394,
           10.604442478681978,
           10.875606798567075,
           11.039576040672248,
           11.125365008659521,
           11.141840815700382,
           11.083653444826812,
           10.930807500865306,
           10.644079706553216,
           10.158160166237131,
           9.379702459267815,
           8.211424209574957,
           6.6346401002716995,
           4.831848175842282,
           3.186179464220685,
           2.0286003483350417,
           1.4012992096148422,
           1.1322380295943055,
           1.0375075425705684,
           1.0092618239656819,
           1.0019926677446263,
           1.0003696228703425,
           1.0000577784486062,
           1.0000073276525345,
           1.0000007101747725,
           1.000000047790214,
           1.0000000018972963,
           1.0000000000326819,
           1.0000000000001223,
           1,
           1,
           1,
           8.245822439210308,
           10.37008941672158,
           11.364884246856686,
           11.920832485857341,
           12.251604141129725,
           12.440410717876661,
           12.520105072581924,
           12.496986826113943,
           12.357203571342604,
           12.065707918306837,
           11.561951163171692,
           10.758604944531086,
           9.558569348428943,
           7.916243200295053,
           5.949447504067257,
           4.005786668208664,
           2.5021340276973714,
           1.613733413006438,
           1.208102082885848,
           1.0598516689554975,
           1.0148347965738314,
           1.0031831373125508,
           1.000586584026465,
           1.0000908889058497,
           1.0000114116063537,
           1.0000010942600326,
           1.000000072840652,
           1.0000000028606277,
           1.000000000048753,
           1.0000000000001805,
           1,
           1,
           1,
           8.849697166243502,
           11.32561358412165,
           12.507375547228975,
           13.166121519839594,
           13.547148536976303,
           13.745393651987275,
           13.795232688485337,
           13.697278702001311,
           13.425524049869136,
           12.927324599590076,
           12.123864462343763,
           10.922768164316095,
           9.262098007191883,
           7.200761796366652,
           5.015373205714769,
           3.1515720933354707,
           1.9328201608790776,
           1.329102969481652,
           1.0966423511795518,
           1.0241284579208807,
           1.0051711800678056,
           1.0009470900433235,
           1.0001454350031185,
           1.0000180689000253,
           1.000001713170937,
           1.0000001127260816,
           1.0000000043760735,
           1.0000000000737355,
           1.0000000000002702,
           1,
           1,
           1,
           9.417181921346076,
           12.22903684799166,
           13.588744266455057,
           14.339448462501311,
           14.754907464613844,
           14.939312183507132,
           14.925790230040013,
           14.706327472561766,
           14.240987902823347,
           13.46227586398197,
           12.286089379860158,
           10.6437102208457,
           8.549771334409542,
           6.1987813311171225,
           4.0020105543038795,
           2.3986798506473916,
           1.5205545942587682,
           1.1576107598973018,
           1.0398485411047764,
           1.0085503065356798,
           1.001557527911737,
           1.000237017752532,
           1.0000291246833677,
           1.0000027285201687,
           1.0000001773302691,
           1.0000000067993016,
           1.0000000001131775,
           1.0000000000004097,
           1,
           1,
           1,
           9.959541816434154,
           13.08851710650496,
           14.611692198912703,
           15.437141900240457,
           15.863669418035702,
           16.001947046057566,
           15.881324518910038,
           15.483837996015934,
           14.758009927662867,
           13.63160951913938,
           12.036778467288158,
           9.960063064861973,
           7.522865398396294,
           5.0588728739195545,
           3.0521175492228556,
           1.8180983681098495,
           1.2587639772157768,
           1.0667741880610033,
           1.0143976127921852,
           1.0026119757458918,
           1.0003939447683659,
           1.0000478559116202,
           1.0000044267085326,
           1.0000002839211748,
           1.0000000107426594,
           1.0000000001764915,
           1.0000000000006308,
           1,
           1,
           1,
           10.486165704607219,
           13.910271124201838,
           15.57642367559201,
           16.45208361635872,
           16.857753988946445,
           16.908129218901227,
           16.627643799883682,
           15.990388159505551,
           14.941370628314692,
           13.420169704002019,
           11.399326091058688,
           8.945993013341518,
           6.303442216029485,
           3.9234069096662445,
           2.2668082331824664,
           1.4254775999273253,
           1.1133285835259583,
           1.024695083742826,
           1.0044717836771004,
           1.0006687532966652,
           1.000080282325302,
           1.0000073267445284,
           1.0000004633219528,
           1.0000000172821792,
           1.0000000002799603,
           1.000000000000987,
           1,
           1,
           1,
           11.004945430529075,
           14.698356654524147,
           16.480056974961194,
           17.373055086134766,
           17.716817981680936,
           17.628859935913496,
           17.130285061461382,
           16.193689724787337,
           14.773607765675907,
           12.840248171750636,
           10.426705082288311,
           7.69705891534176,
           5.019918532034741,
           2.9146017181873907,
           1.6954730352058056,
           1.1941557192328218,
           1.04312707913188,
           1.0078234582941241,
           1.0011612928864078,
           1.0001377365143986,
           1.0000123920815518,
           1.0000007718401274,
           1.0000000283508126,
           1.000000000452343,
           1.0000000000015714,
           1.0000000000000002,
           1,
           1,
           11.522354714103416,
           15.454200877799323,
           17.315923264889655,
           18.184308490367716,
           18.416436937975554,
           18.133766195995644,
           17.359272726331728,
           16.074560347668463,
           14.25874475498185,
           11.928689797947698,
           9.191618863120087,
           6.320048821960134,
           3.7986311005348243,
           2.11916507551242,
           1.3339178421134874,
           1.0765682314358274,
           1.0139963062367834,
           1.0020660804248378,
           1.0002421197728197,
           1.0000214583035438,
           1.0000013149462001,
           1.0000000475045558,
           1.0000000007455943,
           1.000000000002549,
           1.0000000000000002,
           1,
           1,
           12.043250608200234,
           16.175927346175207,
           18.072937500346338,
           18.865684356667654,
           18.92975017072075,
           18.394720101686517,
           17.29402566430413,
           15.6306186131469,
           13.421262197353062,
           10.7399937512574,
           7.778475657624002,
           4.929096661415704,
           2.753088765560918,
           1.5717262992913292,
           1.1377556207712938,
           1.0256066817950926,
           1.0037717589846546,
           1.0004369595373772,
           1.000038122224117,
           1.0000022956376489,
           1.0000000814564527,
           1.0000000012558874,
           1.00000000000422,
           1.0000000000000004,
           1,
           1,
           12.570427703178497,
           16.857607257347304,
           18.735309952947524,
           19.393571719815835,
           19.230168834119183,
           18.389905759422575,
           16.926952062927263,
           14.876559607719772,
           12.301452676012705,
           9.339513379322451,
           6.2808558101346605,
           3.643363275692355,
           1.9634496206862213,
           1.2497077781284913,
           1.04786122651485,
           1.0070746063094858,
           1.0008113721368286,
           1.0000696492260466,
           1.0000041163315854,
           1.0000001432406034,
           1.000000002166027,
           1.0000000000071423,
           1.0000000000000007,
           1,
           1,
           13.10398258671148,
           17.488636234494326,
           19.282886725230874,
           19.742830861532067,
           19.294735165948634,
           18.10726536996044,
           16.26464755876762,
           13.841321777414535,
           10.949752732476378,
           7.80030640359336,
           4.80409655835836,
           2.5759037096922857,
           1.4518384160393774,
           1.0911353888353559,
           1.0136452134252683,
           1.001553601877747,
           1.000131205397506,
           1.0000076008732157,
           1.0000002589523396,
           1.000000003833661,
           1.000000000012383,
           1.0000000000000009,
           1,
           1,
           13.640585649238835,
           18.05348584925176,
           19.6923212575109,
           19.88949651358569,
           19.10737157579088,
           17.546348228871846,
           15.326529811004757,
           12.563662024603618,
           9.42281994843033,
           6.20555628462141,
           3.466905570438562,
           1.805143838872996,
           1.1757827097326055,
           1.0270589801962913,
           1.0030743538514575,
           1.000255593305635,
           1.0000144962799162,
           1.000000482621727,
           1.0000000069809667,
           1.0000000000220441,
           1.0000000000000018,
           1,
           1,
           14.172799912861448,
           18.532067677857953,
           19.939077853397997,
           19.813757981911422,
           18.661177407450886,
           16.718130087703727,
           14.141693359430175,
           11.088088578032414,
           7.783591776111913,
           4.655927273423876,
           2.3885057598407897,
           1.339970222417428,
           1.0550599100554248,
           1.006299262760823,
           1.0005165248347458,
           1.0000286527888667,
           1.0000009303270496,
           1.0000000131176843,
           1.0000000000404026,
           1.0000000000000029,
           1,
           1,
           14.688619061881765,
           18.900852100408525,
           20,
           19.502529381387095,
           17.95920562751031,
           15.64308933800513,
           12.745286814544357,
           9.4629453294531,
           6.107035835223211,
           3.275125657611339,
           1.6487799361057582,
           1.114361514250317,
           1.0133795134530137,
           1.001086540825087,
           1.0000589224035028,
           1.0000018618300013,
           1.000000025523199,
           1.0000000000764726,
           1.0000000000000056,
           1,
           1,
           15.171400855385459,
           19.13470550088219,
           19.85594462537086,
           18.950997056148363,
           17.013663229570632,
           14.348355357914794,
           11.17573219603098,
           7.742366487214396,
           4.4919425748402375,
           2.19487851425775,
           1.2398849328478025,
           1.0294419089612081,
           1.0023872291097156,
           1.0001266235316526,
           1.0000038853028983,
           1.0000000516298537,
           1.0000000001500204,
           1.0000000000000104,
           1,
           1,
           15.600328078632126,
           19.209192479782324,
           19.493906727248433,
           18.162851782217018,
           15.843971240704477,
           12.864896579882107,
           9.473986938819214,
           5.994370851118948,
           3.071907862334585,
           1.4986603074107219,
           1.0668569175645881,
           1.0054947748242307,
           1.000285777758546,
           1.0000084980934263,
           1.0000001090988166,
           1.0000000003063267,
           1.0000000000000209,
           1,
           1,
           15.951429081721045,
           19.102919117002145,
           18.90819597907459,
           17.149329304256675,
           14.474375810194632,
           11.225602619537941,
           7.686423445653451,
           4.3174568992601134,
           1.9983266646241158,
           1.1550426057503027,
           1.0132731797594483,
           1.0006810883746184,
           1.000019599877605,
           1.000000242185594,
           1.0000000006543266,
           1.0000000000000429,
           1,
           1,
           16.199052769203583,
           18.79945670294918,
           18.1005252588319,
           15.927497549778174,
           12.93178418388121,
           9.465093790670515,
           5.874494711390773,
           2.859925862206275,
           1.35934378216216,
           1.0336005979243328,
           1.0017240075325629,
           1.000048007636294,
           1.0000005686320381,
           1.0000000014709567,
           1.0000000000000921,
           1,
           1,
           16.317568694458075,
           18.288514611308297,
           17.07918897554411,
           14.518329211201522,
           11.244361303581062,
           7.622769955310131,
           4.136711425698206,
           1.8020549640422214,
           1.0883765827405196,
           1.0046596147157338,
           1.0001259276098926,
           1.000001423756237,
           1.0000000035057075,
           1.0000000000002096,
           1,
           1,
           16.283011911519033,
           17.566269971067122,
           15.857706390646655,
           12.94501372532799,
           9.441458559094306,
           5.753168242243908,
           2.6410802535693056,
           1.2359810959771382,
           1.013488658154352,
           1.0003571818470964,
           1.0000038399148279,
           1.0000000089375358,
           1.000000000000506,
           1,
           1,
           16.074445316744786,
           16.63499551287176,
           14.453328824686732,
           11.23183212917958,
           7.5562291180273045,
           3.953558785184671,
           1.609750085312277,
           1.0416629038691156,
           1.0011073792221077,
           1.0000112945599424,
           1.000000024647583,
           1.0000000000013094,
           1,
           1,
           15.674942529595414,
           15.502255554492143,
           12.885710539242517,
           9.403955577449048,
           5.635512611311548,
           2.416759131161594,
           1.1343883633328011,
           1.0037928650921,
           1.0000367927683134,
           1.000000074572091,
           1.0000000000036777,
           1,
           1,
           15.072229431757108,
           14.179937848519835,
           11.175930424936608,
           7.48920752010824,
           3.772088049242421,
           1.426379185826741,
           1.0144412768987847,
           1.0001352999948798,
           1.0000002520695006,
           1.0000000000113807,
           1,
           1,
           14.259092440886128,
           12.683305132296173,
           9.346061154736308,
           5.526091356819571,
           2.1879999251791604,
           1.0604071181356887,
           1.000574825421788,
           1.0000009749636045,
           1.0000000000395852,
           1,
           1,
           13.233644950048745,
           11.030164508362711,
           7.419919774165045,
           3.597370370343659,
           1.2595045091654327,
           1.0028939014418077,
           1.0000044559305954,
           1.0000000001589657,
           1,
           1,
           11.999474168720008,
           9.240241190302017,
           5.428097188458502,
           1.9555935557017872,
           1.0175306892335207,
           1.0000251498505184,
           1.0000000007648715,
           1,
           1,
           10.56562727088141,
           7.335040653557788,
           3.4364599731915173,
           1.1214257711627442,
           1.0001863410266,
           1.0000000046517035,
           1,
           1,
           8.946384418223428,
           5.339699291145932,
           1.7201535455749253,
           1.001962227944423,
           1.0000000387773826,
           1,
           1,
           7.160841215745285,
           3.299217681150687,
           1.0308538165366194,
           1.0000005051193026,
           1,
           1,
           5.232659842821619,
           1.4821631156630122,
           1.0000129340184953,
           1,
           1,
           3.1933585938398283,
           1.0009974968510384,
           1,
           1,
           1.2420080331892425,
           1,
           1,
           1,
           1
          ]
         },
         "mode": "markers",
         "type": "scatter3d",
         "x": [
          0,
          0,
          0,
          0,
          0,
          0,
          0,
          0,
          0,
          0,
          0,
          0,
          0,
          0,
          0,
          0,
          0,
          0,
          0,
          0,
          0,
          0,
          0,
          0,
          0,
          0,
          0,
          0,
          0,
          0,
          0,
          0,
          0,
          0,
          0,
          0,
          0,
          0,
          0,
          0,
          0.02564102564102564,
          0.02564102564102564,
          0.02564102564102564,
          0.02564102564102564,
          0.02564102564102564,
          0.02564102564102564,
          0.02564102564102564,
          0.02564102564102564,
          0.02564102564102564,
          0.02564102564102564,
          0.02564102564102564,
          0.02564102564102564,
          0.02564102564102564,
          0.02564102564102564,
          0.02564102564102564,
          0.02564102564102564,
          0.02564102564102564,
          0.02564102564102564,
          0.02564102564102564,
          0.02564102564102564,
          0.02564102564102564,
          0.02564102564102564,
          0.02564102564102564,
          0.02564102564102564,
          0.02564102564102564,
          0.02564102564102564,
          0.02564102564102564,
          0.02564102564102564,
          0.02564102564102564,
          0.02564102564102564,
          0.02564102564102564,
          0.02564102564102564,
          0.02564102564102564,
          0.02564102564102564,
          0.02564102564102564,
          0.02564102564102564,
          0.02564102564102564,
          0.02564102564102564,
          0.02564102564102564,
          0.05128205128205128,
          0.05128205128205128,
          0.05128205128205128,
          0.05128205128205128,
          0.05128205128205128,
          0.05128205128205128,
          0.05128205128205128,
          0.05128205128205128,
          0.05128205128205128,
          0.05128205128205128,
          0.05128205128205128,
          0.05128205128205128,
          0.05128205128205128,
          0.05128205128205128,
          0.05128205128205128,
          0.05128205128205128,
          0.05128205128205128,
          0.05128205128205128,
          0.05128205128205128,
          0.05128205128205128,
          0.05128205128205128,
          0.05128205128205128,
          0.05128205128205128,
          0.05128205128205128,
          0.05128205128205128,
          0.05128205128205128,
          0.05128205128205128,
          0.05128205128205128,
          0.05128205128205128,
          0.05128205128205128,
          0.05128205128205128,
          0.05128205128205128,
          0.05128205128205128,
          0.05128205128205128,
          0.05128205128205128,
          0.05128205128205128,
          0.05128205128205128,
          0.05128205128205128,
          0.07692307692307693,
          0.07692307692307693,
          0.07692307692307693,
          0.07692307692307693,
          0.07692307692307693,
          0.07692307692307693,
          0.07692307692307693,
          0.07692307692307693,
          0.07692307692307693,
          0.07692307692307693,
          0.07692307692307693,
          0.07692307692307693,
          0.07692307692307693,
          0.07692307692307693,
          0.07692307692307693,
          0.07692307692307693,
          0.07692307692307693,
          0.07692307692307693,
          0.07692307692307693,
          0.07692307692307693,
          0.07692307692307693,
          0.07692307692307693,
          0.07692307692307693,
          0.07692307692307693,
          0.07692307692307693,
          0.07692307692307693,
          0.07692307692307693,
          0.07692307692307693,
          0.07692307692307693,
          0.07692307692307693,
          0.07692307692307693,
          0.07692307692307693,
          0.07692307692307693,
          0.07692307692307693,
          0.07692307692307693,
          0.07692307692307693,
          0.07692307692307693,
          0.10256410256410256,
          0.10256410256410256,
          0.10256410256410256,
          0.10256410256410256,
          0.10256410256410256,
          0.10256410256410256,
          0.10256410256410256,
          0.10256410256410256,
          0.10256410256410256,
          0.10256410256410256,
          0.10256410256410256,
          0.10256410256410256,
          0.10256410256410256,
          0.10256410256410256,
          0.10256410256410256,
          0.10256410256410256,
          0.10256410256410256,
          0.10256410256410256,
          0.10256410256410256,
          0.10256410256410256,
          0.10256410256410256,
          0.10256410256410256,
          0.10256410256410256,
          0.10256410256410256,
          0.10256410256410256,
          0.10256410256410256,
          0.10256410256410256,
          0.10256410256410256,
          0.10256410256410256,
          0.10256410256410256,
          0.10256410256410256,
          0.10256410256410256,
          0.10256410256410256,
          0.10256410256410256,
          0.10256410256410256,
          0.10256410256410256,
          0.1282051282051282,
          0.1282051282051282,
          0.1282051282051282,
          0.1282051282051282,
          0.1282051282051282,
          0.1282051282051282,
          0.1282051282051282,
          0.1282051282051282,
          0.1282051282051282,
          0.1282051282051282,
          0.1282051282051282,
          0.1282051282051282,
          0.1282051282051282,
          0.1282051282051282,
          0.1282051282051282,
          0.1282051282051282,
          0.1282051282051282,
          0.1282051282051282,
          0.1282051282051282,
          0.1282051282051282,
          0.1282051282051282,
          0.1282051282051282,
          0.1282051282051282,
          0.1282051282051282,
          0.1282051282051282,
          0.1282051282051282,
          0.1282051282051282,
          0.1282051282051282,
          0.1282051282051282,
          0.1282051282051282,
          0.1282051282051282,
          0.1282051282051282,
          0.1282051282051282,
          0.1282051282051282,
          0.1282051282051282,
          0.15384615384615385,
          0.15384615384615385,
          0.15384615384615385,
          0.15384615384615385,
          0.15384615384615385,
          0.15384615384615385,
          0.15384615384615385,
          0.15384615384615385,
          0.15384615384615385,
          0.15384615384615385,
          0.15384615384615385,
          0.15384615384615385,
          0.15384615384615385,
          0.15384615384615385,
          0.15384615384615385,
          0.15384615384615385,
          0.15384615384615385,
          0.15384615384615385,
          0.15384615384615385,
          0.15384615384615385,
          0.15384615384615385,
          0.15384615384615385,
          0.15384615384615385,
          0.15384615384615385,
          0.15384615384615385,
          0.15384615384615385,
          0.15384615384615385,
          0.15384615384615385,
          0.15384615384615385,
          0.15384615384615385,
          0.15384615384615385,
          0.15384615384615385,
          0.15384615384615385,
          0.15384615384615385,
          0.1794871794871795,
          0.1794871794871795,
          0.1794871794871795,
          0.1794871794871795,
          0.1794871794871795,
          0.1794871794871795,
          0.1794871794871795,
          0.1794871794871795,
          0.1794871794871795,
          0.1794871794871795,
          0.1794871794871795,
          0.1794871794871795,
          0.1794871794871795,
          0.1794871794871795,
          0.1794871794871795,
          0.1794871794871795,
          0.1794871794871795,
          0.1794871794871795,
          0.1794871794871795,
          0.1794871794871795,
          0.1794871794871795,
          0.1794871794871795,
          0.1794871794871795,
          0.1794871794871795,
          0.1794871794871795,
          0.1794871794871795,
          0.1794871794871795,
          0.1794871794871795,
          0.1794871794871795,
          0.1794871794871795,
          0.1794871794871795,
          0.1794871794871795,
          0.1794871794871795,
          0.20512820512820512,
          0.20512820512820512,
          0.20512820512820512,
          0.20512820512820512,
          0.20512820512820512,
          0.20512820512820512,
          0.20512820512820512,
          0.20512820512820512,
          0.20512820512820512,
          0.20512820512820512,
          0.20512820512820512,
          0.20512820512820512,
          0.20512820512820512,
          0.20512820512820512,
          0.20512820512820512,
          0.20512820512820512,
          0.20512820512820512,
          0.20512820512820512,
          0.20512820512820512,
          0.20512820512820512,
          0.20512820512820512,
          0.20512820512820512,
          0.20512820512820512,
          0.20512820512820512,
          0.20512820512820512,
          0.20512820512820512,
          0.20512820512820512,
          0.20512820512820512,
          0.20512820512820512,
          0.20512820512820512,
          0.20512820512820512,
          0.20512820512820512,
          0.23076923076923078,
          0.23076923076923078,
          0.23076923076923078,
          0.23076923076923078,
          0.23076923076923078,
          0.23076923076923078,
          0.23076923076923078,
          0.23076923076923078,
          0.23076923076923078,
          0.23076923076923078,
          0.23076923076923078,
          0.23076923076923078,
          0.23076923076923078,
          0.23076923076923078,
          0.23076923076923078,
          0.23076923076923078,
          0.23076923076923078,
          0.23076923076923078,
          0.23076923076923078,
          0.23076923076923078,
          0.23076923076923078,
          0.23076923076923078,
          0.23076923076923078,
          0.23076923076923078,
          0.23076923076923078,
          0.23076923076923078,
          0.23076923076923078,
          0.23076923076923078,
          0.23076923076923078,
          0.23076923076923078,
          0.23076923076923078,
          0.2564102564102564,
          0.2564102564102564,
          0.2564102564102564,
          0.2564102564102564,
          0.2564102564102564,
          0.2564102564102564,
          0.2564102564102564,
          0.2564102564102564,
          0.2564102564102564,
          0.2564102564102564,
          0.2564102564102564,
          0.2564102564102564,
          0.2564102564102564,
          0.2564102564102564,
          0.2564102564102564,
          0.2564102564102564,
          0.2564102564102564,
          0.2564102564102564,
          0.2564102564102564,
          0.2564102564102564,
          0.2564102564102564,
          0.2564102564102564,
          0.2564102564102564,
          0.2564102564102564,
          0.2564102564102564,
          0.2564102564102564,
          0.2564102564102564,
          0.2564102564102564,
          0.2564102564102564,
          0.2564102564102564,
          0.28205128205128205,
          0.28205128205128205,
          0.28205128205128205,
          0.28205128205128205,
          0.28205128205128205,
          0.28205128205128205,
          0.28205128205128205,
          0.28205128205128205,
          0.28205128205128205,
          0.28205128205128205,
          0.28205128205128205,
          0.28205128205128205,
          0.28205128205128205,
          0.28205128205128205,
          0.28205128205128205,
          0.28205128205128205,
          0.28205128205128205,
          0.28205128205128205,
          0.28205128205128205,
          0.28205128205128205,
          0.28205128205128205,
          0.28205128205128205,
          0.28205128205128205,
          0.28205128205128205,
          0.28205128205128205,
          0.28205128205128205,
          0.28205128205128205,
          0.28205128205128205,
          0.28205128205128205,
          0.3076923076923077,
          0.3076923076923077,
          0.3076923076923077,
          0.3076923076923077,
          0.3076923076923077,
          0.3076923076923077,
          0.3076923076923077,
          0.3076923076923077,
          0.3076923076923077,
          0.3076923076923077,
          0.3076923076923077,
          0.3076923076923077,
          0.3076923076923077,
          0.3076923076923077,
          0.3076923076923077,
          0.3076923076923077,
          0.3076923076923077,
          0.3076923076923077,
          0.3076923076923077,
          0.3076923076923077,
          0.3076923076923077,
          0.3076923076923077,
          0.3076923076923077,
          0.3076923076923077,
          0.3076923076923077,
          0.3076923076923077,
          0.3076923076923077,
          0.3076923076923077,
          0.3333333333333333,
          0.3333333333333333,
          0.3333333333333333,
          0.3333333333333333,
          0.3333333333333333,
          0.3333333333333333,
          0.3333333333333333,
          0.3333333333333333,
          0.3333333333333333,
          0.3333333333333333,
          0.3333333333333333,
          0.3333333333333333,
          0.3333333333333333,
          0.3333333333333333,
          0.3333333333333333,
          0.3333333333333333,
          0.3333333333333333,
          0.3333333333333333,
          0.3333333333333333,
          0.3333333333333333,
          0.3333333333333333,
          0.3333333333333333,
          0.3333333333333333,
          0.3333333333333333,
          0.3333333333333333,
          0.3333333333333333,
          0.3333333333333333,
          0.358974358974359,
          0.358974358974359,
          0.358974358974359,
          0.358974358974359,
          0.358974358974359,
          0.358974358974359,
          0.358974358974359,
          0.358974358974359,
          0.358974358974359,
          0.358974358974359,
          0.358974358974359,
          0.358974358974359,
          0.358974358974359,
          0.358974358974359,
          0.358974358974359,
          0.358974358974359,
          0.358974358974359,
          0.358974358974359,
          0.358974358974359,
          0.358974358974359,
          0.358974358974359,
          0.358974358974359,
          0.358974358974359,
          0.358974358974359,
          0.358974358974359,
          0.358974358974359,
          0.38461538461538464,
          0.38461538461538464,
          0.38461538461538464,
          0.38461538461538464,
          0.38461538461538464,
          0.38461538461538464,
          0.38461538461538464,
          0.38461538461538464,
          0.38461538461538464,
          0.38461538461538464,
          0.38461538461538464,
          0.38461538461538464,
          0.38461538461538464,
          0.38461538461538464,
          0.38461538461538464,
          0.38461538461538464,
          0.38461538461538464,
          0.38461538461538464,
          0.38461538461538464,
          0.38461538461538464,
          0.38461538461538464,
          0.38461538461538464,
          0.38461538461538464,
          0.38461538461538464,
          0.38461538461538464,
          0.41025641025641024,
          0.41025641025641024,
          0.41025641025641024,
          0.41025641025641024,
          0.41025641025641024,
          0.41025641025641024,
          0.41025641025641024,
          0.41025641025641024,
          0.41025641025641024,
          0.41025641025641024,
          0.41025641025641024,
          0.41025641025641024,
          0.41025641025641024,
          0.41025641025641024,
          0.41025641025641024,
          0.41025641025641024,
          0.41025641025641024,
          0.41025641025641024,
          0.41025641025641024,
          0.41025641025641024,
          0.41025641025641024,
          0.41025641025641024,
          0.41025641025641024,
          0.41025641025641024,
          0.4358974358974359,
          0.4358974358974359,
          0.4358974358974359,
          0.4358974358974359,
          0.4358974358974359,
          0.4358974358974359,
          0.4358974358974359,
          0.4358974358974359,
          0.4358974358974359,
          0.4358974358974359,
          0.4358974358974359,
          0.4358974358974359,
          0.4358974358974359,
          0.4358974358974359,
          0.4358974358974359,
          0.4358974358974359,
          0.4358974358974359,
          0.4358974358974359,
          0.4358974358974359,
          0.4358974358974359,
          0.4358974358974359,
          0.4358974358974359,
          0.4358974358974359,
          0.46153846153846156,
          0.46153846153846156,
          0.46153846153846156,
          0.46153846153846156,
          0.46153846153846156,
          0.46153846153846156,
          0.46153846153846156,
          0.46153846153846156,
          0.46153846153846156,
          0.46153846153846156,
          0.46153846153846156,
          0.46153846153846156,
          0.46153846153846156,
          0.46153846153846156,
          0.46153846153846156,
          0.46153846153846156,
          0.46153846153846156,
          0.46153846153846156,
          0.46153846153846156,
          0.46153846153846156,
          0.46153846153846156,
          0.46153846153846156,
          0.48717948717948717,
          0.48717948717948717,
          0.48717948717948717,
          0.48717948717948717,
          0.48717948717948717,
          0.48717948717948717,
          0.48717948717948717,
          0.48717948717948717,
          0.48717948717948717,
          0.48717948717948717,
          0.48717948717948717,
          0.48717948717948717,
          0.48717948717948717,
          0.48717948717948717,
          0.48717948717948717,
          0.48717948717948717,
          0.48717948717948717,
          0.48717948717948717,
          0.48717948717948717,
          0.48717948717948717,
          0.48717948717948717,
          0.5128205128205128,
          0.5128205128205128,
          0.5128205128205128,
          0.5128205128205128,
          0.5128205128205128,
          0.5128205128205128,
          0.5128205128205128,
          0.5128205128205128,
          0.5128205128205128,
          0.5128205128205128,
          0.5128205128205128,
          0.5128205128205128,
          0.5128205128205128,
          0.5128205128205128,
          0.5128205128205128,
          0.5128205128205128,
          0.5128205128205128,
          0.5128205128205128,
          0.5128205128205128,
          0.5128205128205128,
          0.5384615384615384,
          0.5384615384615384,
          0.5384615384615384,
          0.5384615384615384,
          0.5384615384615384,
          0.5384615384615384,
          0.5384615384615384,
          0.5384615384615384,
          0.5384615384615384,
          0.5384615384615384,
          0.5384615384615384,
          0.5384615384615384,
          0.5384615384615384,
          0.5384615384615384,
          0.5384615384615384,
          0.5384615384615384,
          0.5384615384615384,
          0.5384615384615384,
          0.5384615384615384,
          0.5641025641025641,
          0.5641025641025641,
          0.5641025641025641,
          0.5641025641025641,
          0.5641025641025641,
          0.5641025641025641,
          0.5641025641025641,
          0.5641025641025641,
          0.5641025641025641,
          0.5641025641025641,
          0.5641025641025641,
          0.5641025641025641,
          0.5641025641025641,
          0.5641025641025641,
          0.5641025641025641,
          0.5641025641025641,
          0.5641025641025641,
          0.5641025641025641,
          0.5897435897435898,
          0.5897435897435898,
          0.5897435897435898,
          0.5897435897435898,
          0.5897435897435898,
          0.5897435897435898,
          0.5897435897435898,
          0.5897435897435898,
          0.5897435897435898,
          0.5897435897435898,
          0.5897435897435898,
          0.5897435897435898,
          0.5897435897435898,
          0.5897435897435898,
          0.5897435897435898,
          0.5897435897435898,
          0.5897435897435898,
          0.6153846153846154,
          0.6153846153846154,
          0.6153846153846154,
          0.6153846153846154,
          0.6153846153846154,
          0.6153846153846154,
          0.6153846153846154,
          0.6153846153846154,
          0.6153846153846154,
          0.6153846153846154,
          0.6153846153846154,
          0.6153846153846154,
          0.6153846153846154,
          0.6153846153846154,
          0.6153846153846154,
          0.6153846153846154,
          0.6410256410256411,
          0.6410256410256411,
          0.6410256410256411,
          0.6410256410256411,
          0.6410256410256411,
          0.6410256410256411,
          0.6410256410256411,
          0.6410256410256411,
          0.6410256410256411,
          0.6410256410256411,
          0.6410256410256411,
          0.6410256410256411,
          0.6410256410256411,
          0.6410256410256411,
          0.6410256410256411,
          0.6666666666666666,
          0.6666666666666666,
          0.6666666666666666,
          0.6666666666666666,
          0.6666666666666666,
          0.6666666666666666,
          0.6666666666666666,
          0.6666666666666666,
          0.6666666666666666,
          0.6666666666666666,
          0.6666666666666666,
          0.6666666666666666,
          0.6666666666666666,
          0.6666666666666666,
          0.6923076923076923,
          0.6923076923076923,
          0.6923076923076923,
          0.6923076923076923,
          0.6923076923076923,
          0.6923076923076923,
          0.6923076923076923,
          0.6923076923076923,
          0.6923076923076923,
          0.6923076923076923,
          0.6923076923076923,
          0.6923076923076923,
          0.6923076923076923,
          0.717948717948718,
          0.717948717948718,
          0.717948717948718,
          0.717948717948718,
          0.717948717948718,
          0.717948717948718,
          0.717948717948718,
          0.717948717948718,
          0.717948717948718,
          0.717948717948718,
          0.717948717948718,
          0.717948717948718,
          0.7435897435897436,
          0.7435897435897436,
          0.7435897435897436,
          0.7435897435897436,
          0.7435897435897436,
          0.7435897435897436,
          0.7435897435897436,
          0.7435897435897436,
          0.7435897435897436,
          0.7435897435897436,
          0.7435897435897436,
          0.7692307692307693,
          0.7692307692307693,
          0.7692307692307693,
          0.7692307692307693,
          0.7692307692307693,
          0.7692307692307693,
          0.7692307692307693,
          0.7692307692307693,
          0.7692307692307693,
          0.7692307692307693,
          0.7948717948717948,
          0.7948717948717948,
          0.7948717948717948,
          0.7948717948717948,
          0.7948717948717948,
          0.7948717948717948,
          0.7948717948717948,
          0.7948717948717948,
          0.7948717948717948,
          0.8205128205128205,
          0.8205128205128205,
          0.8205128205128205,
          0.8205128205128205,
          0.8205128205128205,
          0.8205128205128205,
          0.8205128205128205,
          0.8205128205128205,
          0.8461538461538461,
          0.8461538461538461,
          0.8461538461538461,
          0.8461538461538461,
          0.8461538461538461,
          0.8461538461538461,
          0.8461538461538461,
          0.8717948717948718,
          0.8717948717948718,
          0.8717948717948718,
          0.8717948717948718,
          0.8717948717948718,
          0.8717948717948718,
          0.8974358974358975,
          0.8974358974358975,
          0.8974358974358975,
          0.8974358974358975,
          0.8974358974358975,
          0.9230769230769231,
          0.9230769230769231,
          0.9230769230769231,
          0.9230769230769231,
          0.9487179487179487,
          0.9487179487179487,
          0.9487179487179487,
          0.9743589743589743,
          0.9743589743589743,
          1
         ],
         "y": [
          0,
          0.02564102564102564,
          0.05128205128205128,
          0.07692307692307693,
          0.10256410256410256,
          0.1282051282051282,
          0.15384615384615385,
          0.1794871794871795,
          0.20512820512820512,
          0.23076923076923078,
          0.2564102564102564,
          0.28205128205128205,
          0.3076923076923077,
          0.3333333333333333,
          0.358974358974359,
          0.38461538461538464,
          0.41025641025641024,
          0.4358974358974359,
          0.46153846153846156,
          0.48717948717948717,
          0.5128205128205128,
          0.5384615384615384,
          0.5641025641025641,
          0.5897435897435898,
          0.6153846153846154,
          0.6410256410256411,
          0.6666666666666666,
          0.6923076923076923,
          0.717948717948718,
          0.7435897435897436,
          0.7692307692307693,
          0.7948717948717948,
          0.8205128205128205,
          0.8461538461538461,
          0.8717948717948718,
          0.8974358974358975,
          0.9230769230769231,
          0.9487179487179487,
          0.9743589743589743,
          1,
          0,
          0.02564102564102564,
          0.05128205128205128,
          0.07692307692307693,
          0.10256410256410256,
          0.1282051282051282,
          0.15384615384615385,
          0.1794871794871795,
          0.20512820512820512,
          0.23076923076923078,
          0.2564102564102564,
          0.28205128205128205,
          0.3076923076923077,
          0.3333333333333333,
          0.358974358974359,
          0.38461538461538464,
          0.41025641025641024,
          0.4358974358974359,
          0.46153846153846156,
          0.48717948717948717,
          0.5128205128205128,
          0.5384615384615384,
          0.5641025641025641,
          0.5897435897435898,
          0.6153846153846154,
          0.6410256410256411,
          0.6666666666666666,
          0.6923076923076923,
          0.717948717948718,
          0.7435897435897436,
          0.7692307692307693,
          0.7948717948717948,
          0.8205128205128205,
          0.8461538461538461,
          0.8717948717948718,
          0.8974358974358975,
          0.9230769230769231,
          0.9487179487179487,
          0.9743589743589743,
          0,
          0.02564102564102564,
          0.05128205128205128,
          0.07692307692307693,
          0.10256410256410256,
          0.1282051282051282,
          0.15384615384615385,
          0.1794871794871795,
          0.20512820512820512,
          0.23076923076923078,
          0.2564102564102564,
          0.28205128205128205,
          0.3076923076923077,
          0.3333333333333333,
          0.358974358974359,
          0.38461538461538464,
          0.41025641025641024,
          0.4358974358974359,
          0.46153846153846156,
          0.48717948717948717,
          0.5128205128205128,
          0.5384615384615384,
          0.5641025641025641,
          0.5897435897435898,
          0.6153846153846154,
          0.6410256410256411,
          0.6666666666666666,
          0.6923076923076923,
          0.717948717948718,
          0.7435897435897436,
          0.7692307692307693,
          0.7948717948717948,
          0.8205128205128205,
          0.8461538461538461,
          0.8717948717948718,
          0.8974358974358975,
          0.9230769230769231,
          0.9487179487179487,
          0,
          0.02564102564102564,
          0.05128205128205128,
          0.07692307692307693,
          0.10256410256410256,
          0.1282051282051282,
          0.15384615384615385,
          0.1794871794871795,
          0.20512820512820512,
          0.23076923076923078,
          0.2564102564102564,
          0.28205128205128205,
          0.3076923076923077,
          0.3333333333333333,
          0.358974358974359,
          0.38461538461538464,
          0.41025641025641024,
          0.4358974358974359,
          0.46153846153846156,
          0.48717948717948717,
          0.5128205128205128,
          0.5384615384615384,
          0.5641025641025641,
          0.5897435897435898,
          0.6153846153846154,
          0.6410256410256411,
          0.6666666666666666,
          0.6923076923076923,
          0.717948717948718,
          0.7435897435897436,
          0.7692307692307693,
          0.7948717948717948,
          0.8205128205128205,
          0.8461538461538461,
          0.8717948717948718,
          0.8974358974358975,
          0.9230769230769231,
          0,
          0.02564102564102564,
          0.05128205128205128,
          0.07692307692307693,
          0.10256410256410256,
          0.1282051282051282,
          0.15384615384615385,
          0.1794871794871795,
          0.20512820512820512,
          0.23076923076923078,
          0.2564102564102564,
          0.28205128205128205,
          0.3076923076923077,
          0.3333333333333333,
          0.358974358974359,
          0.38461538461538464,
          0.41025641025641024,
          0.4358974358974359,
          0.46153846153846156,
          0.48717948717948717,
          0.5128205128205128,
          0.5384615384615384,
          0.5641025641025641,
          0.5897435897435898,
          0.6153846153846154,
          0.6410256410256411,
          0.6666666666666666,
          0.6923076923076923,
          0.717948717948718,
          0.7435897435897436,
          0.7692307692307693,
          0.7948717948717948,
          0.8205128205128205,
          0.8461538461538461,
          0.8717948717948718,
          0.8974358974358975,
          0,
          0.02564102564102564,
          0.05128205128205128,
          0.07692307692307693,
          0.10256410256410256,
          0.1282051282051282,
          0.15384615384615385,
          0.1794871794871795,
          0.20512820512820512,
          0.23076923076923078,
          0.2564102564102564,
          0.28205128205128205,
          0.3076923076923077,
          0.3333333333333333,
          0.358974358974359,
          0.38461538461538464,
          0.41025641025641024,
          0.4358974358974359,
          0.46153846153846156,
          0.48717948717948717,
          0.5128205128205128,
          0.5384615384615384,
          0.5641025641025641,
          0.5897435897435898,
          0.6153846153846154,
          0.6410256410256411,
          0.6666666666666666,
          0.6923076923076923,
          0.717948717948718,
          0.7435897435897436,
          0.7692307692307693,
          0.7948717948717948,
          0.8205128205128205,
          0.8461538461538461,
          0.8717948717948718,
          0,
          0.02564102564102564,
          0.05128205128205128,
          0.07692307692307693,
          0.10256410256410256,
          0.1282051282051282,
          0.15384615384615385,
          0.1794871794871795,
          0.20512820512820512,
          0.23076923076923078,
          0.2564102564102564,
          0.28205128205128205,
          0.3076923076923077,
          0.3333333333333333,
          0.358974358974359,
          0.38461538461538464,
          0.41025641025641024,
          0.4358974358974359,
          0.46153846153846156,
          0.48717948717948717,
          0.5128205128205128,
          0.5384615384615384,
          0.5641025641025641,
          0.5897435897435898,
          0.6153846153846154,
          0.6410256410256411,
          0.6666666666666666,
          0.6923076923076923,
          0.717948717948718,
          0.7435897435897436,
          0.7692307692307693,
          0.7948717948717948,
          0.8205128205128205,
          0.8461538461538461,
          0,
          0.02564102564102564,
          0.05128205128205128,
          0.07692307692307693,
          0.10256410256410256,
          0.1282051282051282,
          0.15384615384615385,
          0.1794871794871795,
          0.20512820512820512,
          0.23076923076923078,
          0.2564102564102564,
          0.28205128205128205,
          0.3076923076923077,
          0.3333333333333333,
          0.358974358974359,
          0.38461538461538464,
          0.41025641025641024,
          0.4358974358974359,
          0.46153846153846156,
          0.48717948717948717,
          0.5128205128205128,
          0.5384615384615384,
          0.5641025641025641,
          0.5897435897435898,
          0.6153846153846154,
          0.6410256410256411,
          0.6666666666666666,
          0.6923076923076923,
          0.717948717948718,
          0.7435897435897436,
          0.7692307692307693,
          0.7948717948717948,
          0.8205128205128205,
          0,
          0.02564102564102564,
          0.05128205128205128,
          0.07692307692307693,
          0.10256410256410256,
          0.1282051282051282,
          0.15384615384615385,
          0.1794871794871795,
          0.20512820512820512,
          0.23076923076923078,
          0.2564102564102564,
          0.28205128205128205,
          0.3076923076923077,
          0.3333333333333333,
          0.358974358974359,
          0.38461538461538464,
          0.41025641025641024,
          0.4358974358974359,
          0.46153846153846156,
          0.48717948717948717,
          0.5128205128205128,
          0.5384615384615384,
          0.5641025641025641,
          0.5897435897435898,
          0.6153846153846154,
          0.6410256410256411,
          0.6666666666666666,
          0.6923076923076923,
          0.717948717948718,
          0.7435897435897436,
          0.7692307692307693,
          0.7948717948717948,
          0,
          0.02564102564102564,
          0.05128205128205128,
          0.07692307692307693,
          0.10256410256410256,
          0.1282051282051282,
          0.15384615384615385,
          0.1794871794871795,
          0.20512820512820512,
          0.23076923076923078,
          0.2564102564102564,
          0.28205128205128205,
          0.3076923076923077,
          0.3333333333333333,
          0.358974358974359,
          0.38461538461538464,
          0.41025641025641024,
          0.4358974358974359,
          0.46153846153846156,
          0.48717948717948717,
          0.5128205128205128,
          0.5384615384615384,
          0.5641025641025641,
          0.5897435897435898,
          0.6153846153846154,
          0.6410256410256411,
          0.6666666666666666,
          0.6923076923076923,
          0.717948717948718,
          0.7435897435897436,
          0.7692307692307693,
          0,
          0.02564102564102564,
          0.05128205128205128,
          0.07692307692307693,
          0.10256410256410256,
          0.1282051282051282,
          0.15384615384615385,
          0.1794871794871795,
          0.20512820512820512,
          0.23076923076923078,
          0.2564102564102564,
          0.28205128205128205,
          0.3076923076923077,
          0.3333333333333333,
          0.358974358974359,
          0.38461538461538464,
          0.41025641025641024,
          0.4358974358974359,
          0.46153846153846156,
          0.48717948717948717,
          0.5128205128205128,
          0.5384615384615384,
          0.5641025641025641,
          0.5897435897435898,
          0.6153846153846154,
          0.6410256410256411,
          0.6666666666666666,
          0.6923076923076923,
          0.717948717948718,
          0.7435897435897436,
          0,
          0.02564102564102564,
          0.05128205128205128,
          0.07692307692307693,
          0.10256410256410256,
          0.1282051282051282,
          0.15384615384615385,
          0.1794871794871795,
          0.20512820512820512,
          0.23076923076923078,
          0.2564102564102564,
          0.28205128205128205,
          0.3076923076923077,
          0.3333333333333333,
          0.358974358974359,
          0.38461538461538464,
          0.41025641025641024,
          0.4358974358974359,
          0.46153846153846156,
          0.48717948717948717,
          0.5128205128205128,
          0.5384615384615384,
          0.5641025641025641,
          0.5897435897435898,
          0.6153846153846154,
          0.6410256410256411,
          0.6666666666666666,
          0.6923076923076923,
          0.717948717948718,
          0,
          0.02564102564102564,
          0.05128205128205128,
          0.07692307692307693,
          0.10256410256410256,
          0.1282051282051282,
          0.15384615384615385,
          0.1794871794871795,
          0.20512820512820512,
          0.23076923076923078,
          0.2564102564102564,
          0.28205128205128205,
          0.3076923076923077,
          0.3333333333333333,
          0.358974358974359,
          0.38461538461538464,
          0.41025641025641024,
          0.4358974358974359,
          0.46153846153846156,
          0.48717948717948717,
          0.5128205128205128,
          0.5384615384615384,
          0.5641025641025641,
          0.5897435897435898,
          0.6153846153846154,
          0.6410256410256411,
          0.6666666666666666,
          0.6923076923076923,
          0,
          0.02564102564102564,
          0.05128205128205128,
          0.07692307692307693,
          0.10256410256410256,
          0.1282051282051282,
          0.15384615384615385,
          0.1794871794871795,
          0.20512820512820512,
          0.23076923076923078,
          0.2564102564102564,
          0.28205128205128205,
          0.3076923076923077,
          0.3333333333333333,
          0.358974358974359,
          0.38461538461538464,
          0.41025641025641024,
          0.4358974358974359,
          0.46153846153846156,
          0.48717948717948717,
          0.5128205128205128,
          0.5384615384615384,
          0.5641025641025641,
          0.5897435897435898,
          0.6153846153846154,
          0.6410256410256411,
          0.6666666666666666,
          0,
          0.02564102564102564,
          0.05128205128205128,
          0.07692307692307693,
          0.10256410256410256,
          0.1282051282051282,
          0.15384615384615385,
          0.1794871794871795,
          0.20512820512820512,
          0.23076923076923078,
          0.2564102564102564,
          0.28205128205128205,
          0.3076923076923077,
          0.3333333333333333,
          0.358974358974359,
          0.38461538461538464,
          0.41025641025641024,
          0.4358974358974359,
          0.46153846153846156,
          0.48717948717948717,
          0.5128205128205128,
          0.5384615384615384,
          0.5641025641025641,
          0.5897435897435898,
          0.6153846153846154,
          0.6410256410256411,
          0,
          0.02564102564102564,
          0.05128205128205128,
          0.07692307692307693,
          0.10256410256410256,
          0.1282051282051282,
          0.15384615384615385,
          0.1794871794871795,
          0.20512820512820512,
          0.23076923076923078,
          0.2564102564102564,
          0.28205128205128205,
          0.3076923076923077,
          0.3333333333333333,
          0.358974358974359,
          0.38461538461538464,
          0.41025641025641024,
          0.4358974358974359,
          0.46153846153846156,
          0.48717948717948717,
          0.5128205128205128,
          0.5384615384615384,
          0.5641025641025641,
          0.5897435897435898,
          0.6153846153846154,
          0,
          0.02564102564102564,
          0.05128205128205128,
          0.07692307692307693,
          0.10256410256410256,
          0.1282051282051282,
          0.15384615384615385,
          0.1794871794871795,
          0.20512820512820512,
          0.23076923076923078,
          0.2564102564102564,
          0.28205128205128205,
          0.3076923076923077,
          0.3333333333333333,
          0.358974358974359,
          0.38461538461538464,
          0.41025641025641024,
          0.4358974358974359,
          0.46153846153846156,
          0.48717948717948717,
          0.5128205128205128,
          0.5384615384615384,
          0.5641025641025641,
          0.5897435897435898,
          0,
          0.02564102564102564,
          0.05128205128205128,
          0.07692307692307693,
          0.10256410256410256,
          0.1282051282051282,
          0.15384615384615385,
          0.1794871794871795,
          0.20512820512820512,
          0.23076923076923078,
          0.2564102564102564,
          0.28205128205128205,
          0.3076923076923077,
          0.3333333333333333,
          0.358974358974359,
          0.38461538461538464,
          0.41025641025641024,
          0.4358974358974359,
          0.46153846153846156,
          0.48717948717948717,
          0.5128205128205128,
          0.5384615384615384,
          0.5641025641025641,
          0,
          0.02564102564102564,
          0.05128205128205128,
          0.07692307692307693,
          0.10256410256410256,
          0.1282051282051282,
          0.15384615384615385,
          0.1794871794871795,
          0.20512820512820512,
          0.23076923076923078,
          0.2564102564102564,
          0.28205128205128205,
          0.3076923076923077,
          0.3333333333333333,
          0.358974358974359,
          0.38461538461538464,
          0.41025641025641024,
          0.4358974358974359,
          0.46153846153846156,
          0.48717948717948717,
          0.5128205128205128,
          0.5384615384615384,
          0,
          0.02564102564102564,
          0.05128205128205128,
          0.07692307692307693,
          0.10256410256410256,
          0.1282051282051282,
          0.15384615384615385,
          0.1794871794871795,
          0.20512820512820512,
          0.23076923076923078,
          0.2564102564102564,
          0.28205128205128205,
          0.3076923076923077,
          0.3333333333333333,
          0.358974358974359,
          0.38461538461538464,
          0.41025641025641024,
          0.4358974358974359,
          0.46153846153846156,
          0.48717948717948717,
          0.5128205128205128,
          0,
          0.02564102564102564,
          0.05128205128205128,
          0.07692307692307693,
          0.10256410256410256,
          0.1282051282051282,
          0.15384615384615385,
          0.1794871794871795,
          0.20512820512820512,
          0.23076923076923078,
          0.2564102564102564,
          0.28205128205128205,
          0.3076923076923077,
          0.3333333333333333,
          0.358974358974359,
          0.38461538461538464,
          0.41025641025641024,
          0.4358974358974359,
          0.46153846153846156,
          0.48717948717948717,
          0,
          0.02564102564102564,
          0.05128205128205128,
          0.07692307692307693,
          0.10256410256410256,
          0.1282051282051282,
          0.15384615384615385,
          0.1794871794871795,
          0.20512820512820512,
          0.23076923076923078,
          0.2564102564102564,
          0.28205128205128205,
          0.3076923076923077,
          0.3333333333333333,
          0.358974358974359,
          0.38461538461538464,
          0.41025641025641024,
          0.4358974358974359,
          0.46153846153846156,
          0,
          0.02564102564102564,
          0.05128205128205128,
          0.07692307692307693,
          0.10256410256410256,
          0.1282051282051282,
          0.15384615384615385,
          0.1794871794871795,
          0.20512820512820512,
          0.23076923076923078,
          0.2564102564102564,
          0.28205128205128205,
          0.3076923076923077,
          0.3333333333333333,
          0.358974358974359,
          0.38461538461538464,
          0.41025641025641024,
          0.4358974358974359,
          0,
          0.02564102564102564,
          0.05128205128205128,
          0.07692307692307693,
          0.10256410256410256,
          0.1282051282051282,
          0.15384615384615385,
          0.1794871794871795,
          0.20512820512820512,
          0.23076923076923078,
          0.2564102564102564,
          0.28205128205128205,
          0.3076923076923077,
          0.3333333333333333,
          0.358974358974359,
          0.38461538461538464,
          0.41025641025641024,
          0,
          0.02564102564102564,
          0.05128205128205128,
          0.07692307692307693,
          0.10256410256410256,
          0.1282051282051282,
          0.15384615384615385,
          0.1794871794871795,
          0.20512820512820512,
          0.23076923076923078,
          0.2564102564102564,
          0.28205128205128205,
          0.3076923076923077,
          0.3333333333333333,
          0.358974358974359,
          0.38461538461538464,
          0,
          0.02564102564102564,
          0.05128205128205128,
          0.07692307692307693,
          0.10256410256410256,
          0.1282051282051282,
          0.15384615384615385,
          0.1794871794871795,
          0.20512820512820512,
          0.23076923076923078,
          0.2564102564102564,
          0.28205128205128205,
          0.3076923076923077,
          0.3333333333333333,
          0.358974358974359,
          0,
          0.02564102564102564,
          0.05128205128205128,
          0.07692307692307693,
          0.10256410256410256,
          0.1282051282051282,
          0.15384615384615385,
          0.1794871794871795,
          0.20512820512820512,
          0.23076923076923078,
          0.2564102564102564,
          0.28205128205128205,
          0.3076923076923077,
          0.3333333333333333,
          0,
          0.02564102564102564,
          0.05128205128205128,
          0.07692307692307693,
          0.10256410256410256,
          0.1282051282051282,
          0.15384615384615385,
          0.1794871794871795,
          0.20512820512820512,
          0.23076923076923078,
          0.2564102564102564,
          0.28205128205128205,
          0.3076923076923077,
          0,
          0.02564102564102564,
          0.05128205128205128,
          0.07692307692307693,
          0.10256410256410256,
          0.1282051282051282,
          0.15384615384615385,
          0.1794871794871795,
          0.20512820512820512,
          0.23076923076923078,
          0.2564102564102564,
          0.28205128205128205,
          0,
          0.02564102564102564,
          0.05128205128205128,
          0.07692307692307693,
          0.10256410256410256,
          0.1282051282051282,
          0.15384615384615385,
          0.1794871794871795,
          0.20512820512820512,
          0.23076923076923078,
          0.2564102564102564,
          0,
          0.02564102564102564,
          0.05128205128205128,
          0.07692307692307693,
          0.10256410256410256,
          0.1282051282051282,
          0.15384615384615385,
          0.1794871794871795,
          0.20512820512820512,
          0.23076923076923078,
          0,
          0.02564102564102564,
          0.05128205128205128,
          0.07692307692307693,
          0.10256410256410256,
          0.1282051282051282,
          0.15384615384615385,
          0.1794871794871795,
          0.20512820512820512,
          0,
          0.02564102564102564,
          0.05128205128205128,
          0.07692307692307693,
          0.10256410256410256,
          0.1282051282051282,
          0.15384615384615385,
          0.1794871794871795,
          0,
          0.02564102564102564,
          0.05128205128205128,
          0.07692307692307693,
          0.10256410256410256,
          0.1282051282051282,
          0.15384615384615385,
          0,
          0.02564102564102564,
          0.05128205128205128,
          0.07692307692307693,
          0.10256410256410256,
          0.1282051282051282,
          0,
          0.02564102564102564,
          0.05128205128205128,
          0.07692307692307693,
          0.10256410256410256,
          0,
          0.02564102564102564,
          0.05128205128205128,
          0.07692307692307693,
          0,
          0.02564102564102564,
          0.05128205128205128,
          0,
          0.02564102564102564,
          0
         ],
         "z": [
          1,
          0.9743589743589743,
          0.9487179487179487,
          0.9230769230769231,
          0.8974358974358975,
          0.8717948717948718,
          0.8461538461538461,
          0.8205128205128205,
          0.7948717948717948,
          0.7692307692307693,
          0.7435897435897436,
          0.717948717948718,
          0.6923076923076923,
          0.6666666666666666,
          0.6410256410256411,
          0.6153846153846154,
          0.5897435897435898,
          0.5641025641025641,
          0.5384615384615384,
          0.5128205128205128,
          0.48717948717948717,
          0.46153846153846156,
          0.4358974358974359,
          0.41025641025641024,
          0.38461538461538464,
          0.358974358974359,
          0.3333333333333333,
          0.3076923076923077,
          0.28205128205128205,
          0.2564102564102564,
          0.23076923076923078,
          0.20512820512820512,
          0.1794871794871795,
          0.15384615384615385,
          0.1282051282051282,
          0.10256410256410256,
          0.07692307692307693,
          0.05128205128205128,
          0.02564102564102564,
          0,
          0.9743589743589743,
          0.9487179487179487,
          0.9230769230769231,
          0.8974358974358975,
          0.8717948717948718,
          0.8461538461538461,
          0.8205128205128205,
          0.7948717948717948,
          0.7692307692307693,
          0.7435897435897436,
          0.717948717948718,
          0.6923076923076923,
          0.6666666666666666,
          0.6410256410256411,
          0.6153846153846154,
          0.5897435897435898,
          0.5641025641025641,
          0.5384615384615384,
          0.5128205128205128,
          0.48717948717948717,
          0.46153846153846156,
          0.4358974358974359,
          0.41025641025641024,
          0.38461538461538464,
          0.358974358974359,
          0.3333333333333333,
          0.3076923076923077,
          0.28205128205128205,
          0.2564102564102564,
          0.23076923076923078,
          0.20512820512820512,
          0.1794871794871795,
          0.15384615384615385,
          0.1282051282051282,
          0.10256410256410256,
          0.07692307692307693,
          0.05128205128205128,
          0.02564102564102564,
          0,
          0.9487179487179487,
          0.9230769230769231,
          0.8974358974358975,
          0.8717948717948718,
          0.8461538461538461,
          0.8205128205128205,
          0.7948717948717948,
          0.7692307692307693,
          0.7435897435897436,
          0.717948717948718,
          0.6923076923076923,
          0.6666666666666666,
          0.6410256410256411,
          0.6153846153846154,
          0.5897435897435898,
          0.5641025641025641,
          0.5384615384615384,
          0.5128205128205128,
          0.48717948717948717,
          0.46153846153846156,
          0.4358974358974359,
          0.41025641025641024,
          0.38461538461538464,
          0.358974358974359,
          0.3333333333333333,
          0.3076923076923077,
          0.28205128205128205,
          0.2564102564102564,
          0.23076923076923078,
          0.20512820512820512,
          0.1794871794871795,
          0.15384615384615385,
          0.1282051282051282,
          0.10256410256410256,
          0.07692307692307693,
          0.05128205128205128,
          0.02564102564102564,
          0,
          0.9230769230769231,
          0.8974358974358975,
          0.8717948717948718,
          0.8461538461538461,
          0.8205128205128205,
          0.7948717948717948,
          0.7692307692307693,
          0.7435897435897436,
          0.717948717948718,
          0.6923076923076923,
          0.6666666666666666,
          0.6410256410256411,
          0.6153846153846154,
          0.5897435897435898,
          0.5641025641025641,
          0.5384615384615384,
          0.5128205128205128,
          0.48717948717948717,
          0.46153846153846156,
          0.4358974358974359,
          0.41025641025641024,
          0.38461538461538464,
          0.358974358974359,
          0.3333333333333333,
          0.3076923076923077,
          0.28205128205128205,
          0.2564102564102564,
          0.23076923076923078,
          0.20512820512820512,
          0.1794871794871795,
          0.15384615384615385,
          0.1282051282051282,
          0.10256410256410256,
          0.07692307692307693,
          0.05128205128205128,
          0.02564102564102564,
          0,
          0.8974358974358975,
          0.8717948717948718,
          0.8461538461538461,
          0.8205128205128205,
          0.7948717948717948,
          0.7692307692307693,
          0.7435897435897436,
          0.717948717948718,
          0.6923076923076923,
          0.6666666666666666,
          0.6410256410256411,
          0.6153846153846154,
          0.5897435897435898,
          0.5641025641025641,
          0.5384615384615384,
          0.5128205128205128,
          0.48717948717948717,
          0.46153846153846156,
          0.4358974358974359,
          0.41025641025641024,
          0.38461538461538464,
          0.358974358974359,
          0.3333333333333333,
          0.3076923076923077,
          0.28205128205128205,
          0.2564102564102564,
          0.23076923076923078,
          0.20512820512820512,
          0.1794871794871795,
          0.15384615384615385,
          0.1282051282051282,
          0.10256410256410256,
          0.07692307692307693,
          0.05128205128205128,
          0.02564102564102564,
          0,
          0.8717948717948718,
          0.8461538461538461,
          0.8205128205128205,
          0.7948717948717948,
          0.7692307692307693,
          0.7435897435897436,
          0.717948717948718,
          0.6923076923076923,
          0.6666666666666666,
          0.6410256410256411,
          0.6153846153846154,
          0.5897435897435898,
          0.5641025641025641,
          0.5384615384615384,
          0.5128205128205128,
          0.48717948717948717,
          0.46153846153846156,
          0.4358974358974359,
          0.41025641025641024,
          0.38461538461538464,
          0.358974358974359,
          0.3333333333333333,
          0.3076923076923077,
          0.28205128205128205,
          0.2564102564102564,
          0.23076923076923078,
          0.20512820512820512,
          0.1794871794871795,
          0.15384615384615385,
          0.1282051282051282,
          0.10256410256410256,
          0.07692307692307693,
          0.05128205128205128,
          0.02564102564102564,
          0,
          0.8461538461538461,
          0.8205128205128205,
          0.7948717948717948,
          0.7692307692307693,
          0.7435897435897436,
          0.717948717948718,
          0.6923076923076923,
          0.6666666666666666,
          0.6410256410256411,
          0.6153846153846154,
          0.5897435897435898,
          0.5641025641025641,
          0.5384615384615384,
          0.5128205128205128,
          0.48717948717948717,
          0.46153846153846156,
          0.4358974358974359,
          0.41025641025641024,
          0.38461538461538464,
          0.358974358974359,
          0.3333333333333333,
          0.3076923076923077,
          0.28205128205128205,
          0.2564102564102564,
          0.23076923076923078,
          0.20512820512820512,
          0.1794871794871795,
          0.15384615384615385,
          0.1282051282051282,
          0.10256410256410256,
          0.07692307692307693,
          0.05128205128205128,
          0.02564102564102564,
          0,
          0.8205128205128205,
          0.7948717948717948,
          0.7692307692307693,
          0.7435897435897436,
          0.717948717948718,
          0.6923076923076923,
          0.6666666666666666,
          0.6410256410256411,
          0.6153846153846154,
          0.5897435897435898,
          0.5641025641025641,
          0.5384615384615384,
          0.5128205128205128,
          0.48717948717948717,
          0.46153846153846156,
          0.4358974358974359,
          0.41025641025641024,
          0.38461538461538464,
          0.358974358974359,
          0.3333333333333333,
          0.3076923076923077,
          0.28205128205128205,
          0.2564102564102564,
          0.23076923076923078,
          0.20512820512820512,
          0.1794871794871795,
          0.15384615384615385,
          0.1282051282051282,
          0.10256410256410256,
          0.07692307692307693,
          0.05128205128205128,
          0.02564102564102564,
          0,
          0.7948717948717948,
          0.7692307692307693,
          0.7435897435897436,
          0.717948717948718,
          0.6923076923076923,
          0.6666666666666666,
          0.6410256410256411,
          0.6153846153846154,
          0.5897435897435898,
          0.5641025641025641,
          0.5384615384615384,
          0.5128205128205128,
          0.48717948717948717,
          0.46153846153846156,
          0.4358974358974359,
          0.41025641025641024,
          0.38461538461538464,
          0.358974358974359,
          0.3333333333333333,
          0.3076923076923077,
          0.28205128205128205,
          0.2564102564102564,
          0.23076923076923078,
          0.20512820512820512,
          0.1794871794871795,
          0.15384615384615385,
          0.1282051282051282,
          0.10256410256410256,
          0.07692307692307693,
          0.05128205128205128,
          0.02564102564102564,
          0,
          0.7692307692307693,
          0.7435897435897436,
          0.717948717948718,
          0.6923076923076923,
          0.6666666666666666,
          0.6410256410256411,
          0.6153846153846154,
          0.5897435897435898,
          0.5641025641025641,
          0.5384615384615384,
          0.5128205128205128,
          0.48717948717948717,
          0.46153846153846156,
          0.4358974358974359,
          0.41025641025641024,
          0.38461538461538464,
          0.358974358974359,
          0.3333333333333333,
          0.3076923076923077,
          0.28205128205128205,
          0.2564102564102564,
          0.23076923076923078,
          0.20512820512820512,
          0.1794871794871795,
          0.15384615384615385,
          0.1282051282051282,
          0.10256410256410256,
          0.07692307692307693,
          0.05128205128205128,
          0.02564102564102564,
          0,
          0.7435897435897436,
          0.717948717948718,
          0.6923076923076923,
          0.6666666666666666,
          0.6410256410256411,
          0.6153846153846154,
          0.5897435897435898,
          0.5641025641025641,
          0.5384615384615384,
          0.5128205128205128,
          0.48717948717948717,
          0.46153846153846156,
          0.4358974358974359,
          0.41025641025641024,
          0.38461538461538464,
          0.358974358974359,
          0.3333333333333333,
          0.3076923076923077,
          0.28205128205128205,
          0.2564102564102564,
          0.23076923076923078,
          0.20512820512820512,
          0.1794871794871795,
          0.15384615384615385,
          0.1282051282051282,
          0.10256410256410256,
          0.07692307692307693,
          0.05128205128205128,
          0.02564102564102564,
          0,
          0.717948717948718,
          0.6923076923076923,
          0.6666666666666666,
          0.6410256410256411,
          0.6153846153846154,
          0.5897435897435898,
          0.5641025641025641,
          0.5384615384615384,
          0.5128205128205128,
          0.48717948717948717,
          0.46153846153846156,
          0.4358974358974359,
          0.41025641025641024,
          0.38461538461538464,
          0.358974358974359,
          0.3333333333333333,
          0.3076923076923077,
          0.28205128205128205,
          0.2564102564102564,
          0.23076923076923078,
          0.20512820512820512,
          0.1794871794871795,
          0.15384615384615385,
          0.1282051282051282,
          0.10256410256410256,
          0.07692307692307693,
          0.05128205128205128,
          0.02564102564102564,
          0,
          0.6923076923076923,
          0.6666666666666666,
          0.6410256410256411,
          0.6153846153846154,
          0.5897435897435898,
          0.5641025641025641,
          0.5384615384615384,
          0.5128205128205128,
          0.48717948717948717,
          0.46153846153846156,
          0.4358974358974359,
          0.41025641025641024,
          0.38461538461538464,
          0.358974358974359,
          0.3333333333333333,
          0.3076923076923077,
          0.28205128205128205,
          0.2564102564102564,
          0.23076923076923078,
          0.20512820512820512,
          0.1794871794871795,
          0.15384615384615385,
          0.1282051282051282,
          0.10256410256410256,
          0.07692307692307693,
          0.05128205128205128,
          0.02564102564102564,
          0,
          0.6666666666666666,
          0.6410256410256411,
          0.6153846153846154,
          0.5897435897435898,
          0.5641025641025641,
          0.5384615384615384,
          0.5128205128205128,
          0.48717948717948717,
          0.46153846153846156,
          0.4358974358974359,
          0.41025641025641024,
          0.38461538461538464,
          0.358974358974359,
          0.3333333333333333,
          0.3076923076923077,
          0.28205128205128205,
          0.2564102564102564,
          0.23076923076923078,
          0.20512820512820512,
          0.1794871794871795,
          0.15384615384615385,
          0.1282051282051282,
          0.10256410256410256,
          0.07692307692307693,
          0.05128205128205128,
          0.02564102564102564,
          0,
          0.6410256410256411,
          0.6153846153846154,
          0.5897435897435898,
          0.5641025641025641,
          0.5384615384615384,
          0.5128205128205128,
          0.48717948717948717,
          0.46153846153846156,
          0.4358974358974359,
          0.41025641025641024,
          0.38461538461538464,
          0.358974358974359,
          0.3333333333333333,
          0.3076923076923077,
          0.28205128205128205,
          0.2564102564102564,
          0.23076923076923078,
          0.20512820512820512,
          0.1794871794871795,
          0.15384615384615385,
          0.1282051282051282,
          0.10256410256410256,
          0.07692307692307693,
          0.05128205128205128,
          0.02564102564102564,
          0,
          0.6153846153846154,
          0.5897435897435898,
          0.5641025641025641,
          0.5384615384615384,
          0.5128205128205128,
          0.48717948717948717,
          0.46153846153846156,
          0.4358974358974359,
          0.41025641025641024,
          0.38461538461538464,
          0.358974358974359,
          0.3333333333333333,
          0.3076923076923077,
          0.28205128205128205,
          0.2564102564102564,
          0.23076923076923078,
          0.20512820512820512,
          0.1794871794871795,
          0.15384615384615385,
          0.1282051282051282,
          0.10256410256410256,
          0.07692307692307693,
          0.05128205128205128,
          0.02564102564102564,
          0,
          0.5897435897435898,
          0.5641025641025641,
          0.5384615384615384,
          0.5128205128205128,
          0.48717948717948717,
          0.46153846153846156,
          0.4358974358974359,
          0.41025641025641024,
          0.38461538461538464,
          0.358974358974359,
          0.3333333333333333,
          0.3076923076923077,
          0.28205128205128205,
          0.2564102564102564,
          0.23076923076923078,
          0.20512820512820512,
          0.1794871794871795,
          0.15384615384615385,
          0.1282051282051282,
          0.10256410256410256,
          0.07692307692307693,
          0.05128205128205128,
          0.02564102564102564,
          0,
          0.5641025641025641,
          0.5384615384615384,
          0.5128205128205128,
          0.48717948717948717,
          0.46153846153846156,
          0.4358974358974359,
          0.41025641025641024,
          0.38461538461538464,
          0.358974358974359,
          0.3333333333333333,
          0.3076923076923077,
          0.28205128205128205,
          0.2564102564102564,
          0.23076923076923078,
          0.20512820512820512,
          0.1794871794871795,
          0.15384615384615385,
          0.1282051282051282,
          0.10256410256410256,
          0.07692307692307693,
          0.05128205128205128,
          0.02564102564102564,
          0,
          0.5384615384615384,
          0.5128205128205128,
          0.48717948717948717,
          0.46153846153846156,
          0.4358974358974359,
          0.41025641025641024,
          0.38461538461538464,
          0.358974358974359,
          0.3333333333333333,
          0.3076923076923077,
          0.28205128205128205,
          0.2564102564102564,
          0.23076923076923078,
          0.20512820512820512,
          0.1794871794871795,
          0.15384615384615385,
          0.1282051282051282,
          0.10256410256410256,
          0.07692307692307693,
          0.05128205128205128,
          0.02564102564102564,
          0,
          0.5128205128205128,
          0.48717948717948717,
          0.46153846153846156,
          0.4358974358974359,
          0.41025641025641024,
          0.38461538461538464,
          0.358974358974359,
          0.3333333333333333,
          0.3076923076923077,
          0.28205128205128205,
          0.2564102564102564,
          0.23076923076923078,
          0.20512820512820512,
          0.1794871794871795,
          0.15384615384615385,
          0.1282051282051282,
          0.10256410256410256,
          0.07692307692307693,
          0.05128205128205128,
          0.02564102564102564,
          0,
          0.48717948717948717,
          0.46153846153846156,
          0.4358974358974359,
          0.41025641025641024,
          0.38461538461538464,
          0.358974358974359,
          0.3333333333333333,
          0.3076923076923077,
          0.28205128205128205,
          0.2564102564102564,
          0.23076923076923078,
          0.20512820512820512,
          0.1794871794871795,
          0.15384615384615385,
          0.1282051282051282,
          0.10256410256410256,
          0.07692307692307693,
          0.05128205128205128,
          0.02564102564102564,
          0,
          0.46153846153846156,
          0.4358974358974359,
          0.41025641025641024,
          0.38461538461538464,
          0.358974358974359,
          0.3333333333333333,
          0.3076923076923077,
          0.28205128205128205,
          0.2564102564102564,
          0.23076923076923078,
          0.20512820512820512,
          0.1794871794871795,
          0.15384615384615385,
          0.1282051282051282,
          0.10256410256410256,
          0.07692307692307693,
          0.05128205128205128,
          0.02564102564102564,
          0,
          0.4358974358974359,
          0.41025641025641024,
          0.38461538461538464,
          0.358974358974359,
          0.3333333333333333,
          0.3076923076923077,
          0.28205128205128205,
          0.2564102564102564,
          0.23076923076923078,
          0.20512820512820512,
          0.1794871794871795,
          0.15384615384615385,
          0.1282051282051282,
          0.10256410256410256,
          0.07692307692307693,
          0.05128205128205128,
          0.02564102564102564,
          0,
          0.41025641025641024,
          0.38461538461538464,
          0.358974358974359,
          0.3333333333333333,
          0.3076923076923077,
          0.28205128205128205,
          0.2564102564102564,
          0.23076923076923078,
          0.20512820512820512,
          0.1794871794871795,
          0.15384615384615385,
          0.1282051282051282,
          0.10256410256410256,
          0.07692307692307693,
          0.05128205128205128,
          0.02564102564102564,
          0,
          0.38461538461538464,
          0.358974358974359,
          0.3333333333333333,
          0.3076923076923077,
          0.28205128205128205,
          0.2564102564102564,
          0.23076923076923078,
          0.20512820512820512,
          0.1794871794871795,
          0.15384615384615385,
          0.1282051282051282,
          0.10256410256410256,
          0.07692307692307693,
          0.05128205128205128,
          0.02564102564102564,
          0,
          0.358974358974359,
          0.3333333333333333,
          0.3076923076923077,
          0.28205128205128205,
          0.2564102564102564,
          0.23076923076923078,
          0.20512820512820512,
          0.1794871794871795,
          0.15384615384615385,
          0.1282051282051282,
          0.10256410256410256,
          0.07692307692307693,
          0.05128205128205128,
          0.02564102564102564,
          0,
          0.3333333333333333,
          0.3076923076923077,
          0.28205128205128205,
          0.2564102564102564,
          0.23076923076923078,
          0.20512820512820512,
          0.1794871794871795,
          0.15384615384615385,
          0.1282051282051282,
          0.10256410256410256,
          0.07692307692307693,
          0.05128205128205128,
          0.02564102564102564,
          0,
          0.3076923076923077,
          0.28205128205128205,
          0.2564102564102564,
          0.23076923076923078,
          0.20512820512820512,
          0.1794871794871795,
          0.15384615384615385,
          0.1282051282051282,
          0.10256410256410256,
          0.07692307692307693,
          0.05128205128205128,
          0.02564102564102564,
          0,
          0.28205128205128205,
          0.2564102564102564,
          0.23076923076923078,
          0.20512820512820512,
          0.1794871794871795,
          0.15384615384615385,
          0.1282051282051282,
          0.10256410256410256,
          0.07692307692307693,
          0.05128205128205128,
          0.02564102564102564,
          0,
          0.2564102564102564,
          0.23076923076923078,
          0.20512820512820512,
          0.1794871794871795,
          0.15384615384615385,
          0.1282051282051282,
          0.10256410256410256,
          0.07692307692307693,
          0.05128205128205128,
          0.02564102564102564,
          0,
          0.23076923076923078,
          0.20512820512820512,
          0.1794871794871795,
          0.15384615384615385,
          0.1282051282051282,
          0.10256410256410256,
          0.07692307692307693,
          0.05128205128205128,
          0.02564102564102564,
          0,
          0.20512820512820512,
          0.1794871794871795,
          0.15384615384615385,
          0.1282051282051282,
          0.10256410256410256,
          0.07692307692307693,
          0.05128205128205128,
          0.02564102564102564,
          0,
          0.1794871794871795,
          0.15384615384615385,
          0.1282051282051282,
          0.10256410256410256,
          0.07692307692307693,
          0.05128205128205128,
          0.02564102564102564,
          0,
          0.15384615384615385,
          0.1282051282051282,
          0.10256410256410256,
          0.07692307692307693,
          0.05128205128205128,
          0.02564102564102564,
          0,
          0.1282051282051282,
          0.10256410256410256,
          0.07692307692307693,
          0.05128205128205128,
          0.02564102564102564,
          0,
          0.10256410256410256,
          0.07692307692307693,
          0.05128205128205128,
          0.02564102564102564,
          0,
          0.07692307692307693,
          0.05128205128205128,
          0.02564102564102564,
          0,
          0.05128205128205128,
          0.02564102564102564,
          0,
          0.02564102564102564,
          0,
          0
         ]
        }
       ],
       "layout": {
        "scene": {
         "xaxis": {
          "title": {
           "text": "d"
          }
         },
         "yaxis": {
          "title": {
           "text": "r"
          }
         },
         "zaxis": {
          "title": {
           "text": "l"
          }
         }
        },
        "template": {
         "data": {
          "bar": [
           {
            "error_x": {
             "color": "#2a3f5f"
            },
            "error_y": {
             "color": "#2a3f5f"
            },
            "marker": {
             "line": {
              "color": "white",
              "width": 0.5
             },
             "pattern": {
              "fillmode": "overlay",
              "size": 10,
              "solidity": 0.2
             }
            },
            "type": "bar"
           }
          ],
          "barpolar": [
           {
            "marker": {
             "line": {
              "color": "white",
              "width": 0.5
             },
             "pattern": {
              "fillmode": "overlay",
              "size": 10,
              "solidity": 0.2
             }
            },
            "type": "barpolar"
           }
          ],
          "carpet": [
           {
            "aaxis": {
             "endlinecolor": "#2a3f5f",
             "gridcolor": "#C8D4E3",
             "linecolor": "#C8D4E3",
             "minorgridcolor": "#C8D4E3",
             "startlinecolor": "#2a3f5f"
            },
            "baxis": {
             "endlinecolor": "#2a3f5f",
             "gridcolor": "#C8D4E3",
             "linecolor": "#C8D4E3",
             "minorgridcolor": "#C8D4E3",
             "startlinecolor": "#2a3f5f"
            },
            "type": "carpet"
           }
          ],
          "choropleth": [
           {
            "colorbar": {
             "outlinewidth": 0,
             "ticks": ""
            },
            "type": "choropleth"
           }
          ],
          "contour": [
           {
            "colorbar": {
             "outlinewidth": 0,
             "ticks": ""
            },
            "colorscale": [
             [
              0,
              "#0d0887"
             ],
             [
              0.1111111111111111,
              "#46039f"
             ],
             [
              0.2222222222222222,
              "#7201a8"
             ],
             [
              0.3333333333333333,
              "#9c179e"
             ],
             [
              0.4444444444444444,
              "#bd3786"
             ],
             [
              0.5555555555555556,
              "#d8576b"
             ],
             [
              0.6666666666666666,
              "#ed7953"
             ],
             [
              0.7777777777777778,
              "#fb9f3a"
             ],
             [
              0.8888888888888888,
              "#fdca26"
             ],
             [
              1,
              "#f0f921"
             ]
            ],
            "type": "contour"
           }
          ],
          "contourcarpet": [
           {
            "colorbar": {
             "outlinewidth": 0,
             "ticks": ""
            },
            "type": "contourcarpet"
           }
          ],
          "heatmap": [
           {
            "colorbar": {
             "outlinewidth": 0,
             "ticks": ""
            },
            "colorscale": [
             [
              0,
              "#0d0887"
             ],
             [
              0.1111111111111111,
              "#46039f"
             ],
             [
              0.2222222222222222,
              "#7201a8"
             ],
             [
              0.3333333333333333,
              "#9c179e"
             ],
             [
              0.4444444444444444,
              "#bd3786"
             ],
             [
              0.5555555555555556,
              "#d8576b"
             ],
             [
              0.6666666666666666,
              "#ed7953"
             ],
             [
              0.7777777777777778,
              "#fb9f3a"
             ],
             [
              0.8888888888888888,
              "#fdca26"
             ],
             [
              1,
              "#f0f921"
             ]
            ],
            "type": "heatmap"
           }
          ],
          "heatmapgl": [
           {
            "colorbar": {
             "outlinewidth": 0,
             "ticks": ""
            },
            "colorscale": [
             [
              0,
              "#0d0887"
             ],
             [
              0.1111111111111111,
              "#46039f"
             ],
             [
              0.2222222222222222,
              "#7201a8"
             ],
             [
              0.3333333333333333,
              "#9c179e"
             ],
             [
              0.4444444444444444,
              "#bd3786"
             ],
             [
              0.5555555555555556,
              "#d8576b"
             ],
             [
              0.6666666666666666,
              "#ed7953"
             ],
             [
              0.7777777777777778,
              "#fb9f3a"
             ],
             [
              0.8888888888888888,
              "#fdca26"
             ],
             [
              1,
              "#f0f921"
             ]
            ],
            "type": "heatmapgl"
           }
          ],
          "histogram": [
           {
            "marker": {
             "pattern": {
              "fillmode": "overlay",
              "size": 10,
              "solidity": 0.2
             }
            },
            "type": "histogram"
           }
          ],
          "histogram2d": [
           {
            "colorbar": {
             "outlinewidth": 0,
             "ticks": ""
            },
            "colorscale": [
             [
              0,
              "#0d0887"
             ],
             [
              0.1111111111111111,
              "#46039f"
             ],
             [
              0.2222222222222222,
              "#7201a8"
             ],
             [
              0.3333333333333333,
              "#9c179e"
             ],
             [
              0.4444444444444444,
              "#bd3786"
             ],
             [
              0.5555555555555556,
              "#d8576b"
             ],
             [
              0.6666666666666666,
              "#ed7953"
             ],
             [
              0.7777777777777778,
              "#fb9f3a"
             ],
             [
              0.8888888888888888,
              "#fdca26"
             ],
             [
              1,
              "#f0f921"
             ]
            ],
            "type": "histogram2d"
           }
          ],
          "histogram2dcontour": [
           {
            "colorbar": {
             "outlinewidth": 0,
             "ticks": ""
            },
            "colorscale": [
             [
              0,
              "#0d0887"
             ],
             [
              0.1111111111111111,
              "#46039f"
             ],
             [
              0.2222222222222222,
              "#7201a8"
             ],
             [
              0.3333333333333333,
              "#9c179e"
             ],
             [
              0.4444444444444444,
              "#bd3786"
             ],
             [
              0.5555555555555556,
              "#d8576b"
             ],
             [
              0.6666666666666666,
              "#ed7953"
             ],
             [
              0.7777777777777778,
              "#fb9f3a"
             ],
             [
              0.8888888888888888,
              "#fdca26"
             ],
             [
              1,
              "#f0f921"
             ]
            ],
            "type": "histogram2dcontour"
           }
          ],
          "mesh3d": [
           {
            "colorbar": {
             "outlinewidth": 0,
             "ticks": ""
            },
            "type": "mesh3d"
           }
          ],
          "parcoords": [
           {
            "line": {
             "colorbar": {
              "outlinewidth": 0,
              "ticks": ""
             }
            },
            "type": "parcoords"
           }
          ],
          "pie": [
           {
            "automargin": true,
            "type": "pie"
           }
          ],
          "scatter": [
           {
            "fillpattern": {
             "fillmode": "overlay",
             "size": 10,
             "solidity": 0.2
            },
            "type": "scatter"
           }
          ],
          "scatter3d": [
           {
            "line": {
             "colorbar": {
              "outlinewidth": 0,
              "ticks": ""
             }
            },
            "marker": {
             "colorbar": {
              "outlinewidth": 0,
              "ticks": ""
             }
            },
            "type": "scatter3d"
           }
          ],
          "scattercarpet": [
           {
            "marker": {
             "colorbar": {
              "outlinewidth": 0,
              "ticks": ""
             }
            },
            "type": "scattercarpet"
           }
          ],
          "scattergeo": [
           {
            "marker": {
             "colorbar": {
              "outlinewidth": 0,
              "ticks": ""
             }
            },
            "type": "scattergeo"
           }
          ],
          "scattergl": [
           {
            "marker": {
             "colorbar": {
              "outlinewidth": 0,
              "ticks": ""
             }
            },
            "type": "scattergl"
           }
          ],
          "scattermapbox": [
           {
            "marker": {
             "colorbar": {
              "outlinewidth": 0,
              "ticks": ""
             }
            },
            "type": "scattermapbox"
           }
          ],
          "scatterpolar": [
           {
            "marker": {
             "colorbar": {
              "outlinewidth": 0,
              "ticks": ""
             }
            },
            "type": "scatterpolar"
           }
          ],
          "scatterpolargl": [
           {
            "marker": {
             "colorbar": {
              "outlinewidth": 0,
              "ticks": ""
             }
            },
            "type": "scatterpolargl"
           }
          ],
          "scatterternary": [
           {
            "marker": {
             "colorbar": {
              "outlinewidth": 0,
              "ticks": ""
             }
            },
            "type": "scatterternary"
           }
          ],
          "surface": [
           {
            "colorbar": {
             "outlinewidth": 0,
             "ticks": ""
            },
            "colorscale": [
             [
              0,
              "#0d0887"
             ],
             [
              0.1111111111111111,
              "#46039f"
             ],
             [
              0.2222222222222222,
              "#7201a8"
             ],
             [
              0.3333333333333333,
              "#9c179e"
             ],
             [
              0.4444444444444444,
              "#bd3786"
             ],
             [
              0.5555555555555556,
              "#d8576b"
             ],
             [
              0.6666666666666666,
              "#ed7953"
             ],
             [
              0.7777777777777778,
              "#fb9f3a"
             ],
             [
              0.8888888888888888,
              "#fdca26"
             ],
             [
              1,
              "#f0f921"
             ]
            ],
            "type": "surface"
           }
          ],
          "table": [
           {
            "cells": {
             "fill": {
              "color": "#EBF0F8"
             },
             "line": {
              "color": "white"
             }
            },
            "header": {
             "fill": {
              "color": "#C8D4E3"
             },
             "line": {
              "color": "white"
             }
            },
            "type": "table"
           }
          ]
         },
         "layout": {
          "annotationdefaults": {
           "arrowcolor": "#2a3f5f",
           "arrowhead": 0,
           "arrowwidth": 1
          },
          "autotypenumbers": "strict",
          "coloraxis": {
           "colorbar": {
            "outlinewidth": 0,
            "ticks": ""
           }
          },
          "colorscale": {
           "diverging": [
            [
             0,
             "#8e0152"
            ],
            [
             0.1,
             "#c51b7d"
            ],
            [
             0.2,
             "#de77ae"
            ],
            [
             0.3,
             "#f1b6da"
            ],
            [
             0.4,
             "#fde0ef"
            ],
            [
             0.5,
             "#f7f7f7"
            ],
            [
             0.6,
             "#e6f5d0"
            ],
            [
             0.7,
             "#b8e186"
            ],
            [
             0.8,
             "#7fbc41"
            ],
            [
             0.9,
             "#4d9221"
            ],
            [
             1,
             "#276419"
            ]
           ],
           "sequential": [
            [
             0,
             "#0d0887"
            ],
            [
             0.1111111111111111,
             "#46039f"
            ],
            [
             0.2222222222222222,
             "#7201a8"
            ],
            [
             0.3333333333333333,
             "#9c179e"
            ],
            [
             0.4444444444444444,
             "#bd3786"
            ],
            [
             0.5555555555555556,
             "#d8576b"
            ],
            [
             0.6666666666666666,
             "#ed7953"
            ],
            [
             0.7777777777777778,
             "#fb9f3a"
            ],
            [
             0.8888888888888888,
             "#fdca26"
            ],
            [
             1,
             "#f0f921"
            ]
           ],
           "sequentialminus": [
            [
             0,
             "#0d0887"
            ],
            [
             0.1111111111111111,
             "#46039f"
            ],
            [
             0.2222222222222222,
             "#7201a8"
            ],
            [
             0.3333333333333333,
             "#9c179e"
            ],
            [
             0.4444444444444444,
             "#bd3786"
            ],
            [
             0.5555555555555556,
             "#d8576b"
            ],
            [
             0.6666666666666666,
             "#ed7953"
            ],
            [
             0.7777777777777778,
             "#fb9f3a"
            ],
            [
             0.8888888888888888,
             "#fdca26"
            ],
            [
             1,
             "#f0f921"
            ]
           ]
          },
          "colorway": [
           "#636efa",
           "#EF553B",
           "#00cc96",
           "#ab63fa",
           "#FFA15A",
           "#19d3f3",
           "#FF6692",
           "#B6E880",
           "#FF97FF",
           "#FECB52"
          ],
          "font": {
           "color": "#2a3f5f"
          },
          "geo": {
           "bgcolor": "white",
           "lakecolor": "white",
           "landcolor": "white",
           "showlakes": true,
           "showland": true,
           "subunitcolor": "#C8D4E3"
          },
          "hoverlabel": {
           "align": "left"
          },
          "hovermode": "closest",
          "mapbox": {
           "style": "light"
          },
          "paper_bgcolor": "white",
          "plot_bgcolor": "white",
          "polar": {
           "angularaxis": {
            "gridcolor": "#EBF0F8",
            "linecolor": "#EBF0F8",
            "ticks": ""
           },
           "bgcolor": "white",
           "radialaxis": {
            "gridcolor": "#EBF0F8",
            "linecolor": "#EBF0F8",
            "ticks": ""
           }
          },
          "scene": {
           "xaxis": {
            "backgroundcolor": "white",
            "gridcolor": "#DFE8F3",
            "gridwidth": 2,
            "linecolor": "#EBF0F8",
            "showbackground": true,
            "ticks": "",
            "zerolinecolor": "#EBF0F8"
           },
           "yaxis": {
            "backgroundcolor": "white",
            "gridcolor": "#DFE8F3",
            "gridwidth": 2,
            "linecolor": "#EBF0F8",
            "showbackground": true,
            "ticks": "",
            "zerolinecolor": "#EBF0F8"
           },
           "zaxis": {
            "backgroundcolor": "white",
            "gridcolor": "#DFE8F3",
            "gridwidth": 2,
            "linecolor": "#EBF0F8",
            "showbackground": true,
            "ticks": "",
            "zerolinecolor": "#EBF0F8"
           }
          },
          "shapedefaults": {
           "line": {
            "color": "#2a3f5f"
           }
          },
          "ternary": {
           "aaxis": {
            "gridcolor": "#DFE8F3",
            "linecolor": "#A2B1C6",
            "ticks": ""
           },
           "baxis": {
            "gridcolor": "#DFE8F3",
            "linecolor": "#A2B1C6",
            "ticks": ""
           },
           "bgcolor": "white",
           "caxis": {
            "gridcolor": "#DFE8F3",
            "linecolor": "#A2B1C6",
            "ticks": ""
           }
          },
          "title": {
           "x": 0.05
          },
          "xaxis": {
           "automargin": true,
           "gridcolor": "#EBF0F8",
           "linecolor": "#EBF0F8",
           "ticks": "",
           "title": {
            "standoff": 15
           },
           "zerolinecolor": "#EBF0F8",
           "zerolinewidth": 2
          },
          "yaxis": {
           "automargin": true,
           "gridcolor": "#EBF0F8",
           "linecolor": "#EBF0F8",
           "ticks": "",
           "title": {
            "standoff": 15
           },
           "zerolinecolor": "#EBF0F8",
           "zerolinewidth": 2
          }
         }
        }
       }
      }
     },
     "metadata": {},
     "output_type": "display_data"
    },
    {
     "name": "stdout",
     "output_type": "stream",
     "text": [
      "Max utility value: \n",
      "[Fraction(0, 1) Fraction(1, 13) Fraction(19, 39) Fraction(17, 39)]\n",
      "[0.   0.08 0.49 0.44]\n",
      "0.036534377905936506\n"
     ]
    }
   ],
   "source": [
    "budget = 1\n",
    "gridSize = (15, 15)\n",
    "target = Node(14, 1)\n",
    "strategies = list([ \n",
    "    Strategy({ Action.DOWN: frac(1, 3), Action.RIGHT: frac(1, 3), Action.LEFT: frac(1, 3) }) \n",
    "])\n",
    "enumerated_strategies = dict(enumerate(strategies, start=1))\n",
    "\n",
    "pomdp = POMDP(gridSize=gridSize, target=target, model='grid', budget=budget)\n",
    "\n",
    "# Assign strategies to the nodes\n",
    "for node in pomdp.nodes: node.assign_strategy(enumerated_strategies[1], 1)\n",
    "observations =  {n: n.strategy_id for n in pomdp.nodes if n != target}\n",
    "\n",
    "# ---------------------------------------------------------\n",
    "# get one specific utility value\n",
    "# print(pomdp.utility(enumerated_strategies, assignments)[0])\n",
    "# ---------------------------------------------------------\n",
    "\n",
    "combinations_, U = pomdp.generate_points(enumerated_strategies, observations, sections=40, write_to_file=True)\n",
    "plot_actions_4D(combinations_, U, actions = [Action.DOWN, Action.RIGHT, Action.LEFT])\n",
    "\n",
    "# get the probability distribution of the actions that maximizes the utility\n",
    "max_index = np.argmax(U)\n",
    "approx = np.around(list(map(float, combinations_[max_index][0])), 2)\n",
    "\n",
    "print('Max utility value: ')\n",
    "print(combinations_[max_index][0])\n",
    "print(approx)\n",
    "print(U[max_index])"
   ]
  },
  {
   "cell_type": "markdown",
   "metadata": {},
   "source": [
    "25x25 grid with the target close to the bottom left."
   ]
  },
  {
   "cell_type": "code",
   "execution_count": 12,
   "metadata": {},
   "outputs": [
    {
     "data": {
      "application/vnd.plotly.v1+json": {
       "config": {
        "plotlyServerURL": "https://plot.ly"
       },
       "data": [
        {
         "marker": {
          "color": [
           "blue",
           "blue",
           "blue",
           "blue",
           "blue",
           "blue",
           "blue",
           "blue",
           "blue",
           "blue",
           "blue",
           "blue",
           "blue",
           "blue",
           "blue",
           "blue",
           "blue",
           "blue",
           "blue",
           "blue",
           "blue",
           "blue",
           "blue",
           "blue",
           "blue",
           "blue",
           "blue",
           "blue",
           "blue",
           "blue",
           "blue",
           "blue",
           "blue",
           "blue",
           "blue",
           "blue",
           "blue",
           "blue",
           "blue",
           "blue",
           "blue",
           "blue",
           "blue",
           "blue",
           "blue",
           "blue",
           "blue",
           "blue",
           "blue",
           "blue",
           "blue",
           "blue",
           "blue",
           "blue",
           "blue",
           "blue",
           "blue",
           "blue",
           "blue",
           "blue",
           "blue",
           "blue",
           "blue",
           "blue",
           "blue",
           "blue",
           "blue",
           "blue",
           "blue",
           "blue",
           "blue",
           "blue",
           "blue",
           "blue",
           "blue",
           "blue",
           "blue",
           "blue",
           "blue",
           "blue",
           "blue",
           "blue",
           "blue",
           "blue",
           "blue",
           "red",
           "blue",
           "blue",
           "blue",
           "blue",
           "blue",
           "blue",
           "blue",
           "blue",
           "blue",
           "blue",
           "blue",
           "blue",
           "blue",
           "blue",
           "blue",
           "blue",
           "blue",
           "blue",
           "blue",
           "blue",
           "blue",
           "blue",
           "blue",
           "blue",
           "blue",
           "blue",
           "blue",
           "blue",
           "blue",
           "blue",
           "blue",
           "blue",
           "blue",
           "blue"
          ],
          "opacity": 0.7,
          "size": [
           1,
           1,
           1,
           1,
           1,
           1,
           1,
           1,
           1,
           1,
           1,
           1,
           1,
           1,
           1,
           1,
           5.576503841109548,
           5.738557507548869,
           5.778716690890868,
           5.754822228579474,
           5.566197803530674,
           4.286736969838319,
           1.2972119882062993,
           1.0013629277145653,
           1.0000013127495597,
           1.0000000002740312,
           1.000000000000004,
           1,
           1,
           1,
           9.55604450995143,
           10.06909907501909,
           10.105213817541667,
           9.69906249194123,
           7.83773325087814,
           2.696601574829722,
           1.0154947932019618,
           1.0000142728118337,
           1.0000000025292064,
           1.000000000000032,
           1,
           1,
           1,
           13.033671451805423,
           13.851927782907218,
           13.495091651585383,
           11.497098467846191,
           6.017577941383302,
           1.1887149272665316,
           1.0002006231588847,
           1.0000000297698708,
           1.0000000000003066,
           1,
           1,
           1,
           16.023493950106225,
           16.759013018469123,
           15.048754064388831,
           10.055890339209189,
           2.571762983773989,
           1.0037472012995048,
           1.0000004726749532,
           1.0000000000038134,
           1,
           1,
           1,
           18.418563873899743,
           18.207063896209146,
           14.026066675719667,
           6.312211335709958,
           1.0859048354988243,
           1.000010900110819,
           1.000000000065501,
           1,
           1,
           1,
           19.90599257056695,
           17.63008534973094,
           10.795193631746304,
           2.3060395180088835,
           1.0003982349225273,
           1.0000000017052322,
           1,
           1,
           1,
           20,
           15.063480315179657,
           6.344391765785195,
           1.0233631256555116,
           1.000000077172066,
           1.0000000000000002,
           1,
           1,
           18.419702493045964,
           11.083861307366467,
           1.9988443074349629,
           1.0000074566117056,
           1.0000000000000162,
           1,
           1,
           15.333092448323768,
           6.316130615628683,
           1.0019941403360815,
           1.000000000001941,
           1,
           1,
           11.146001938532875,
           1.6738687364869098,
           1.00000000087564,
           1,
           1,
           6.276183618054563,
           1.0000038513414489,
           1,
           1,
           1.3396453344247239,
           1,
           1,
           1,
           1
          ]
         },
         "mode": "markers",
         "type": "scatter3d",
         "x": [
          0,
          0,
          0,
          0,
          0,
          0,
          0,
          0,
          0,
          0,
          0,
          0,
          0,
          0,
          0,
          0.07142857142857142,
          0.07142857142857142,
          0.07142857142857142,
          0.07142857142857142,
          0.07142857142857142,
          0.07142857142857142,
          0.07142857142857142,
          0.07142857142857142,
          0.07142857142857142,
          0.07142857142857142,
          0.07142857142857142,
          0.07142857142857142,
          0.07142857142857142,
          0.07142857142857142,
          0.14285714285714285,
          0.14285714285714285,
          0.14285714285714285,
          0.14285714285714285,
          0.14285714285714285,
          0.14285714285714285,
          0.14285714285714285,
          0.14285714285714285,
          0.14285714285714285,
          0.14285714285714285,
          0.14285714285714285,
          0.14285714285714285,
          0.14285714285714285,
          0.21428571428571427,
          0.21428571428571427,
          0.21428571428571427,
          0.21428571428571427,
          0.21428571428571427,
          0.21428571428571427,
          0.21428571428571427,
          0.21428571428571427,
          0.21428571428571427,
          0.21428571428571427,
          0.21428571428571427,
          0.21428571428571427,
          0.2857142857142857,
          0.2857142857142857,
          0.2857142857142857,
          0.2857142857142857,
          0.2857142857142857,
          0.2857142857142857,
          0.2857142857142857,
          0.2857142857142857,
          0.2857142857142857,
          0.2857142857142857,
          0.2857142857142857,
          0.35714285714285715,
          0.35714285714285715,
          0.35714285714285715,
          0.35714285714285715,
          0.35714285714285715,
          0.35714285714285715,
          0.35714285714285715,
          0.35714285714285715,
          0.35714285714285715,
          0.35714285714285715,
          0.42857142857142855,
          0.42857142857142855,
          0.42857142857142855,
          0.42857142857142855,
          0.42857142857142855,
          0.42857142857142855,
          0.42857142857142855,
          0.42857142857142855,
          0.42857142857142855,
          0.5,
          0.5,
          0.5,
          0.5,
          0.5,
          0.5,
          0.5,
          0.5,
          0.5714285714285714,
          0.5714285714285714,
          0.5714285714285714,
          0.5714285714285714,
          0.5714285714285714,
          0.5714285714285714,
          0.5714285714285714,
          0.6428571428571429,
          0.6428571428571429,
          0.6428571428571429,
          0.6428571428571429,
          0.6428571428571429,
          0.6428571428571429,
          0.7142857142857143,
          0.7142857142857143,
          0.7142857142857143,
          0.7142857142857143,
          0.7142857142857143,
          0.7857142857142857,
          0.7857142857142857,
          0.7857142857142857,
          0.7857142857142857,
          0.8571428571428571,
          0.8571428571428571,
          0.8571428571428571,
          0.9285714285714286,
          0.9285714285714286,
          1
         ],
         "y": [
          0,
          0.07142857142857142,
          0.14285714285714285,
          0.21428571428571427,
          0.2857142857142857,
          0.35714285714285715,
          0.42857142857142855,
          0.5,
          0.5714285714285714,
          0.6428571428571429,
          0.7142857142857143,
          0.7857142857142857,
          0.8571428571428571,
          0.9285714285714286,
          1,
          0,
          0.07142857142857142,
          0.14285714285714285,
          0.21428571428571427,
          0.2857142857142857,
          0.35714285714285715,
          0.42857142857142855,
          0.5,
          0.5714285714285714,
          0.6428571428571429,
          0.7142857142857143,
          0.7857142857142857,
          0.8571428571428571,
          0.9285714285714286,
          0,
          0.07142857142857142,
          0.14285714285714285,
          0.21428571428571427,
          0.2857142857142857,
          0.35714285714285715,
          0.42857142857142855,
          0.5,
          0.5714285714285714,
          0.6428571428571429,
          0.7142857142857143,
          0.7857142857142857,
          0.8571428571428571,
          0,
          0.07142857142857142,
          0.14285714285714285,
          0.21428571428571427,
          0.2857142857142857,
          0.35714285714285715,
          0.42857142857142855,
          0.5,
          0.5714285714285714,
          0.6428571428571429,
          0.7142857142857143,
          0.7857142857142857,
          0,
          0.07142857142857142,
          0.14285714285714285,
          0.21428571428571427,
          0.2857142857142857,
          0.35714285714285715,
          0.42857142857142855,
          0.5,
          0.5714285714285714,
          0.6428571428571429,
          0.7142857142857143,
          0,
          0.07142857142857142,
          0.14285714285714285,
          0.21428571428571427,
          0.2857142857142857,
          0.35714285714285715,
          0.42857142857142855,
          0.5,
          0.5714285714285714,
          0.6428571428571429,
          0,
          0.07142857142857142,
          0.14285714285714285,
          0.21428571428571427,
          0.2857142857142857,
          0.35714285714285715,
          0.42857142857142855,
          0.5,
          0.5714285714285714,
          0,
          0.07142857142857142,
          0.14285714285714285,
          0.21428571428571427,
          0.2857142857142857,
          0.35714285714285715,
          0.42857142857142855,
          0.5,
          0,
          0.07142857142857142,
          0.14285714285714285,
          0.21428571428571427,
          0.2857142857142857,
          0.35714285714285715,
          0.42857142857142855,
          0,
          0.07142857142857142,
          0.14285714285714285,
          0.21428571428571427,
          0.2857142857142857,
          0.35714285714285715,
          0,
          0.07142857142857142,
          0.14285714285714285,
          0.21428571428571427,
          0.2857142857142857,
          0,
          0.07142857142857142,
          0.14285714285714285,
          0.21428571428571427,
          0,
          0.07142857142857142,
          0.14285714285714285,
          0,
          0.07142857142857142,
          0
         ],
         "z": [
          1,
          0.9285714285714286,
          0.8571428571428571,
          0.7857142857142857,
          0.7142857142857143,
          0.6428571428571429,
          0.5714285714285714,
          0.5,
          0.42857142857142855,
          0.35714285714285715,
          0.2857142857142857,
          0.21428571428571427,
          0.14285714285714285,
          0.07142857142857142,
          0,
          0.9285714285714286,
          0.8571428571428571,
          0.7857142857142857,
          0.7142857142857143,
          0.6428571428571429,
          0.5714285714285714,
          0.5,
          0.42857142857142855,
          0.35714285714285715,
          0.2857142857142857,
          0.21428571428571427,
          0.14285714285714285,
          0.07142857142857142,
          0,
          0.8571428571428571,
          0.7857142857142857,
          0.7142857142857143,
          0.6428571428571429,
          0.5714285714285714,
          0.5,
          0.42857142857142855,
          0.35714285714285715,
          0.2857142857142857,
          0.21428571428571427,
          0.14285714285714285,
          0.07142857142857142,
          0,
          0.7857142857142857,
          0.7142857142857143,
          0.6428571428571429,
          0.5714285714285714,
          0.5,
          0.42857142857142855,
          0.35714285714285715,
          0.2857142857142857,
          0.21428571428571427,
          0.14285714285714285,
          0.07142857142857142,
          0,
          0.7142857142857143,
          0.6428571428571429,
          0.5714285714285714,
          0.5,
          0.42857142857142855,
          0.35714285714285715,
          0.2857142857142857,
          0.21428571428571427,
          0.14285714285714285,
          0.07142857142857142,
          0,
          0.6428571428571429,
          0.5714285714285714,
          0.5,
          0.42857142857142855,
          0.35714285714285715,
          0.2857142857142857,
          0.21428571428571427,
          0.14285714285714285,
          0.07142857142857142,
          0,
          0.5714285714285714,
          0.5,
          0.42857142857142855,
          0.35714285714285715,
          0.2857142857142857,
          0.21428571428571427,
          0.14285714285714285,
          0.07142857142857142,
          0,
          0.5,
          0.42857142857142855,
          0.35714285714285715,
          0.2857142857142857,
          0.21428571428571427,
          0.14285714285714285,
          0.07142857142857142,
          0,
          0.42857142857142855,
          0.35714285714285715,
          0.2857142857142857,
          0.21428571428571427,
          0.14285714285714285,
          0.07142857142857142,
          0,
          0.35714285714285715,
          0.2857142857142857,
          0.21428571428571427,
          0.14285714285714285,
          0.07142857142857142,
          0,
          0.2857142857142857,
          0.21428571428571427,
          0.14285714285714285,
          0.07142857142857142,
          0,
          0.21428571428571427,
          0.14285714285714285,
          0.07142857142857142,
          0,
          0.14285714285714285,
          0.07142857142857142,
          0,
          0.07142857142857142,
          0,
          0
         ]
        }
       ],
       "layout": {
        "scene": {
         "xaxis": {
          "title": {
           "text": "d"
          }
         },
         "yaxis": {
          "title": {
           "text": "r"
          }
         },
         "zaxis": {
          "title": {
           "text": "l"
          }
         }
        },
        "template": {
         "data": {
          "bar": [
           {
            "error_x": {
             "color": "#2a3f5f"
            },
            "error_y": {
             "color": "#2a3f5f"
            },
            "marker": {
             "line": {
              "color": "white",
              "width": 0.5
             },
             "pattern": {
              "fillmode": "overlay",
              "size": 10,
              "solidity": 0.2
             }
            },
            "type": "bar"
           }
          ],
          "barpolar": [
           {
            "marker": {
             "line": {
              "color": "white",
              "width": 0.5
             },
             "pattern": {
              "fillmode": "overlay",
              "size": 10,
              "solidity": 0.2
             }
            },
            "type": "barpolar"
           }
          ],
          "carpet": [
           {
            "aaxis": {
             "endlinecolor": "#2a3f5f",
             "gridcolor": "#C8D4E3",
             "linecolor": "#C8D4E3",
             "minorgridcolor": "#C8D4E3",
             "startlinecolor": "#2a3f5f"
            },
            "baxis": {
             "endlinecolor": "#2a3f5f",
             "gridcolor": "#C8D4E3",
             "linecolor": "#C8D4E3",
             "minorgridcolor": "#C8D4E3",
             "startlinecolor": "#2a3f5f"
            },
            "type": "carpet"
           }
          ],
          "choropleth": [
           {
            "colorbar": {
             "outlinewidth": 0,
             "ticks": ""
            },
            "type": "choropleth"
           }
          ],
          "contour": [
           {
            "colorbar": {
             "outlinewidth": 0,
             "ticks": ""
            },
            "colorscale": [
             [
              0,
              "#0d0887"
             ],
             [
              0.1111111111111111,
              "#46039f"
             ],
             [
              0.2222222222222222,
              "#7201a8"
             ],
             [
              0.3333333333333333,
              "#9c179e"
             ],
             [
              0.4444444444444444,
              "#bd3786"
             ],
             [
              0.5555555555555556,
              "#d8576b"
             ],
             [
              0.6666666666666666,
              "#ed7953"
             ],
             [
              0.7777777777777778,
              "#fb9f3a"
             ],
             [
              0.8888888888888888,
              "#fdca26"
             ],
             [
              1,
              "#f0f921"
             ]
            ],
            "type": "contour"
           }
          ],
          "contourcarpet": [
           {
            "colorbar": {
             "outlinewidth": 0,
             "ticks": ""
            },
            "type": "contourcarpet"
           }
          ],
          "heatmap": [
           {
            "colorbar": {
             "outlinewidth": 0,
             "ticks": ""
            },
            "colorscale": [
             [
              0,
              "#0d0887"
             ],
             [
              0.1111111111111111,
              "#46039f"
             ],
             [
              0.2222222222222222,
              "#7201a8"
             ],
             [
              0.3333333333333333,
              "#9c179e"
             ],
             [
              0.4444444444444444,
              "#bd3786"
             ],
             [
              0.5555555555555556,
              "#d8576b"
             ],
             [
              0.6666666666666666,
              "#ed7953"
             ],
             [
              0.7777777777777778,
              "#fb9f3a"
             ],
             [
              0.8888888888888888,
              "#fdca26"
             ],
             [
              1,
              "#f0f921"
             ]
            ],
            "type": "heatmap"
           }
          ],
          "heatmapgl": [
           {
            "colorbar": {
             "outlinewidth": 0,
             "ticks": ""
            },
            "colorscale": [
             [
              0,
              "#0d0887"
             ],
             [
              0.1111111111111111,
              "#46039f"
             ],
             [
              0.2222222222222222,
              "#7201a8"
             ],
             [
              0.3333333333333333,
              "#9c179e"
             ],
             [
              0.4444444444444444,
              "#bd3786"
             ],
             [
              0.5555555555555556,
              "#d8576b"
             ],
             [
              0.6666666666666666,
              "#ed7953"
             ],
             [
              0.7777777777777778,
              "#fb9f3a"
             ],
             [
              0.8888888888888888,
              "#fdca26"
             ],
             [
              1,
              "#f0f921"
             ]
            ],
            "type": "heatmapgl"
           }
          ],
          "histogram": [
           {
            "marker": {
             "pattern": {
              "fillmode": "overlay",
              "size": 10,
              "solidity": 0.2
             }
            },
            "type": "histogram"
           }
          ],
          "histogram2d": [
           {
            "colorbar": {
             "outlinewidth": 0,
             "ticks": ""
            },
            "colorscale": [
             [
              0,
              "#0d0887"
             ],
             [
              0.1111111111111111,
              "#46039f"
             ],
             [
              0.2222222222222222,
              "#7201a8"
             ],
             [
              0.3333333333333333,
              "#9c179e"
             ],
             [
              0.4444444444444444,
              "#bd3786"
             ],
             [
              0.5555555555555556,
              "#d8576b"
             ],
             [
              0.6666666666666666,
              "#ed7953"
             ],
             [
              0.7777777777777778,
              "#fb9f3a"
             ],
             [
              0.8888888888888888,
              "#fdca26"
             ],
             [
              1,
              "#f0f921"
             ]
            ],
            "type": "histogram2d"
           }
          ],
          "histogram2dcontour": [
           {
            "colorbar": {
             "outlinewidth": 0,
             "ticks": ""
            },
            "colorscale": [
             [
              0,
              "#0d0887"
             ],
             [
              0.1111111111111111,
              "#46039f"
             ],
             [
              0.2222222222222222,
              "#7201a8"
             ],
             [
              0.3333333333333333,
              "#9c179e"
             ],
             [
              0.4444444444444444,
              "#bd3786"
             ],
             [
              0.5555555555555556,
              "#d8576b"
             ],
             [
              0.6666666666666666,
              "#ed7953"
             ],
             [
              0.7777777777777778,
              "#fb9f3a"
             ],
             [
              0.8888888888888888,
              "#fdca26"
             ],
             [
              1,
              "#f0f921"
             ]
            ],
            "type": "histogram2dcontour"
           }
          ],
          "mesh3d": [
           {
            "colorbar": {
             "outlinewidth": 0,
             "ticks": ""
            },
            "type": "mesh3d"
           }
          ],
          "parcoords": [
           {
            "line": {
             "colorbar": {
              "outlinewidth": 0,
              "ticks": ""
             }
            },
            "type": "parcoords"
           }
          ],
          "pie": [
           {
            "automargin": true,
            "type": "pie"
           }
          ],
          "scatter": [
           {
            "fillpattern": {
             "fillmode": "overlay",
             "size": 10,
             "solidity": 0.2
            },
            "type": "scatter"
           }
          ],
          "scatter3d": [
           {
            "line": {
             "colorbar": {
              "outlinewidth": 0,
              "ticks": ""
             }
            },
            "marker": {
             "colorbar": {
              "outlinewidth": 0,
              "ticks": ""
             }
            },
            "type": "scatter3d"
           }
          ],
          "scattercarpet": [
           {
            "marker": {
             "colorbar": {
              "outlinewidth": 0,
              "ticks": ""
             }
            },
            "type": "scattercarpet"
           }
          ],
          "scattergeo": [
           {
            "marker": {
             "colorbar": {
              "outlinewidth": 0,
              "ticks": ""
             }
            },
            "type": "scattergeo"
           }
          ],
          "scattergl": [
           {
            "marker": {
             "colorbar": {
              "outlinewidth": 0,
              "ticks": ""
             }
            },
            "type": "scattergl"
           }
          ],
          "scattermapbox": [
           {
            "marker": {
             "colorbar": {
              "outlinewidth": 0,
              "ticks": ""
             }
            },
            "type": "scattermapbox"
           }
          ],
          "scatterpolar": [
           {
            "marker": {
             "colorbar": {
              "outlinewidth": 0,
              "ticks": ""
             }
            },
            "type": "scatterpolar"
           }
          ],
          "scatterpolargl": [
           {
            "marker": {
             "colorbar": {
              "outlinewidth": 0,
              "ticks": ""
             }
            },
            "type": "scatterpolargl"
           }
          ],
          "scatterternary": [
           {
            "marker": {
             "colorbar": {
              "outlinewidth": 0,
              "ticks": ""
             }
            },
            "type": "scatterternary"
           }
          ],
          "surface": [
           {
            "colorbar": {
             "outlinewidth": 0,
             "ticks": ""
            },
            "colorscale": [
             [
              0,
              "#0d0887"
             ],
             [
              0.1111111111111111,
              "#46039f"
             ],
             [
              0.2222222222222222,
              "#7201a8"
             ],
             [
              0.3333333333333333,
              "#9c179e"
             ],
             [
              0.4444444444444444,
              "#bd3786"
             ],
             [
              0.5555555555555556,
              "#d8576b"
             ],
             [
              0.6666666666666666,
              "#ed7953"
             ],
             [
              0.7777777777777778,
              "#fb9f3a"
             ],
             [
              0.8888888888888888,
              "#fdca26"
             ],
             [
              1,
              "#f0f921"
             ]
            ],
            "type": "surface"
           }
          ],
          "table": [
           {
            "cells": {
             "fill": {
              "color": "#EBF0F8"
             },
             "line": {
              "color": "white"
             }
            },
            "header": {
             "fill": {
              "color": "#C8D4E3"
             },
             "line": {
              "color": "white"
             }
            },
            "type": "table"
           }
          ]
         },
         "layout": {
          "annotationdefaults": {
           "arrowcolor": "#2a3f5f",
           "arrowhead": 0,
           "arrowwidth": 1
          },
          "autotypenumbers": "strict",
          "coloraxis": {
           "colorbar": {
            "outlinewidth": 0,
            "ticks": ""
           }
          },
          "colorscale": {
           "diverging": [
            [
             0,
             "#8e0152"
            ],
            [
             0.1,
             "#c51b7d"
            ],
            [
             0.2,
             "#de77ae"
            ],
            [
             0.3,
             "#f1b6da"
            ],
            [
             0.4,
             "#fde0ef"
            ],
            [
             0.5,
             "#f7f7f7"
            ],
            [
             0.6,
             "#e6f5d0"
            ],
            [
             0.7,
             "#b8e186"
            ],
            [
             0.8,
             "#7fbc41"
            ],
            [
             0.9,
             "#4d9221"
            ],
            [
             1,
             "#276419"
            ]
           ],
           "sequential": [
            [
             0,
             "#0d0887"
            ],
            [
             0.1111111111111111,
             "#46039f"
            ],
            [
             0.2222222222222222,
             "#7201a8"
            ],
            [
             0.3333333333333333,
             "#9c179e"
            ],
            [
             0.4444444444444444,
             "#bd3786"
            ],
            [
             0.5555555555555556,
             "#d8576b"
            ],
            [
             0.6666666666666666,
             "#ed7953"
            ],
            [
             0.7777777777777778,
             "#fb9f3a"
            ],
            [
             0.8888888888888888,
             "#fdca26"
            ],
            [
             1,
             "#f0f921"
            ]
           ],
           "sequentialminus": [
            [
             0,
             "#0d0887"
            ],
            [
             0.1111111111111111,
             "#46039f"
            ],
            [
             0.2222222222222222,
             "#7201a8"
            ],
            [
             0.3333333333333333,
             "#9c179e"
            ],
            [
             0.4444444444444444,
             "#bd3786"
            ],
            [
             0.5555555555555556,
             "#d8576b"
            ],
            [
             0.6666666666666666,
             "#ed7953"
            ],
            [
             0.7777777777777778,
             "#fb9f3a"
            ],
            [
             0.8888888888888888,
             "#fdca26"
            ],
            [
             1,
             "#f0f921"
            ]
           ]
          },
          "colorway": [
           "#636efa",
           "#EF553B",
           "#00cc96",
           "#ab63fa",
           "#FFA15A",
           "#19d3f3",
           "#FF6692",
           "#B6E880",
           "#FF97FF",
           "#FECB52"
          ],
          "font": {
           "color": "#2a3f5f"
          },
          "geo": {
           "bgcolor": "white",
           "lakecolor": "white",
           "landcolor": "white",
           "showlakes": true,
           "showland": true,
           "subunitcolor": "#C8D4E3"
          },
          "hoverlabel": {
           "align": "left"
          },
          "hovermode": "closest",
          "mapbox": {
           "style": "light"
          },
          "paper_bgcolor": "white",
          "plot_bgcolor": "white",
          "polar": {
           "angularaxis": {
            "gridcolor": "#EBF0F8",
            "linecolor": "#EBF0F8",
            "ticks": ""
           },
           "bgcolor": "white",
           "radialaxis": {
            "gridcolor": "#EBF0F8",
            "linecolor": "#EBF0F8",
            "ticks": ""
           }
          },
          "scene": {
           "xaxis": {
            "backgroundcolor": "white",
            "gridcolor": "#DFE8F3",
            "gridwidth": 2,
            "linecolor": "#EBF0F8",
            "showbackground": true,
            "ticks": "",
            "zerolinecolor": "#EBF0F8"
           },
           "yaxis": {
            "backgroundcolor": "white",
            "gridcolor": "#DFE8F3",
            "gridwidth": 2,
            "linecolor": "#EBF0F8",
            "showbackground": true,
            "ticks": "",
            "zerolinecolor": "#EBF0F8"
           },
           "zaxis": {
            "backgroundcolor": "white",
            "gridcolor": "#DFE8F3",
            "gridwidth": 2,
            "linecolor": "#EBF0F8",
            "showbackground": true,
            "ticks": "",
            "zerolinecolor": "#EBF0F8"
           }
          },
          "shapedefaults": {
           "line": {
            "color": "#2a3f5f"
           }
          },
          "ternary": {
           "aaxis": {
            "gridcolor": "#DFE8F3",
            "linecolor": "#A2B1C6",
            "ticks": ""
           },
           "baxis": {
            "gridcolor": "#DFE8F3",
            "linecolor": "#A2B1C6",
            "ticks": ""
           },
           "bgcolor": "white",
           "caxis": {
            "gridcolor": "#DFE8F3",
            "linecolor": "#A2B1C6",
            "ticks": ""
           }
          },
          "title": {
           "x": 0.05
          },
          "xaxis": {
           "automargin": true,
           "gridcolor": "#EBF0F8",
           "linecolor": "#EBF0F8",
           "ticks": "",
           "title": {
            "standoff": 15
           },
           "zerolinecolor": "#EBF0F8",
           "zerolinewidth": 2
          },
          "yaxis": {
           "automargin": true,
           "gridcolor": "#EBF0F8",
           "linecolor": "#EBF0F8",
           "ticks": "",
           "title": {
            "standoff": 15
           },
           "zerolinecolor": "#EBF0F8",
           "zerolinewidth": 2
          }
         }
        }
       }
      }
     },
     "metadata": {},
     "output_type": "display_data"
    },
    {
     "name": "stdout",
     "output_type": "stream",
     "text": [
      "Max utility value: \n",
      "[Fraction(0, 1) Fraction(1, 14) Fraction(1, 2) Fraction(3, 7)]\n",
      "[0.   0.07 0.5  0.43]\n",
      "0.022927422605160164\n"
     ]
    }
   ],
   "source": [
    "budget = 1\n",
    "gridSize = (25, 25)\n",
    "target = Node(24, 1)\n",
    "strategies = list([ \n",
    "    Strategy({ Action.DOWN: frac(1, 3), Action.RIGHT: frac(1, 3), Action.LEFT: frac(1, 3) }) \n",
    "])\n",
    "enumerated_strategies = dict(enumerate(strategies, start=1))\n",
    "\n",
    "pomdp = POMDP(gridSize=gridSize, target=target, model='grid', budget=budget)\n",
    "\n",
    "# Assign strategies to the nodes\n",
    "for node in pomdp.nodes: node.assign_strategy(enumerated_strategies[1], 1)\n",
    "observations =  {n: n.strategy_id for n in pomdp.nodes if n != target}\n",
    "\n",
    "# ---------------------------------------------------------\n",
    "# get one specific utility value\n",
    "# print(pomdp.utility(enumerated_strategies, assignments)[0])\n",
    "# ---------------------------------------------------------\n",
    "\n",
    "combinations_, U = pomdp.generate_points(enumerated_strategies, observations, sections=15, write_to_file=True)\n",
    "plot_actions_4D(combinations_, U, actions = [Action.DOWN, Action.RIGHT, Action.LEFT])\n",
    "\n",
    "# get the probability distribution of the actions that maximizes the utility\n",
    "max_index = np.argmax(U)\n",
    "approx = np.around(list(map(float, combinations_[max_index][0])), 2)\n",
    "\n",
    "print('Max utility value: ')\n",
    "print(combinations_[max_index][0])\n",
    "print(approx)\n",
    "print(U[max_index])"
   ]
  },
  {
   "cell_type": "markdown",
   "metadata": {},
   "source": [
    "# Budget 2"
   ]
  },
  {
   "cell_type": "markdown",
   "metadata": {},
   "source": [
    "5x5 grid with target close to the bottom left"
   ]
  },
  {
   "cell_type": "code",
   "execution_count": 6,
   "metadata": {},
   "outputs": [
    {
     "name": "stdout",
     "output_type": "stream",
     "text": [
      "Max utility value: \n",
      "[[Fraction(0, 1) Fraction(1, 1) Fraction(0, 1) Fraction(0, 1)]\n",
      " [Fraction(0, 1) Fraction(0, 1) Fraction(56, 89) Fraction(33, 89)]]\n",
      "[[0.0, 1.0, 0.0, 0.0], [0.0, 0.0, 0.63, 0.37]]\n",
      "0.15807418381325913\n"
     ]
    }
   ],
   "source": [
    "budget = 2\n",
    "gridSize = (5, 5)\n",
    "target = Node(4, 1)\n",
    "strategies = list([\n",
    "    Strategy({ Action.RIGHT: frac(1, 3) }),\n",
    "    Strategy({ Action.DOWN: frac(1, 3), Action.LEFT: frac(1, 3) }), \n",
    "])\n",
    "enumerated_strategies = dict(enumerate(strategies, start=1))\n",
    "\n",
    "pomdp = POMDP(gridSize=gridSize, target=target, model='grid', budget=budget)\n",
    "\n",
    "# Assign strategies to the nodes\n",
    "for node in pomdp.nodes: \n",
    "    if node.j < 1: node.assign_strategy(enumerated_strategies[1], 1)\n",
    "    else: node.assign_strategy(enumerated_strategies[2], 2)\n",
    "\n",
    "observations =  {n: n.strategy_id for n in pomdp.nodes if n != target}\n",
    "\n",
    "# ---------------------------------------------------------\n",
    "# get one specific utility value\n",
    "# print(pomdp.utility(enumerated_strategies, assignments)[0])\n",
    "# ---------------------------------------------------------\n",
    "\n",
    "combinations_, U = pomdp.generate_points(enumerated_strategies, observations, sections=90, write_to_file=True)\n",
    "\n",
    "# get the probability distribution of the actions that maximizes the utility\n",
    "max_index = np.argmax(U)\n",
    "print('Max utility value: ')\n",
    "\n",
    "print(combinations_[max_index])\n",
    "print([list(map(lambda x : round(float(x), 2), x)) for x in combinations_[max_index]])\n",
    "print(U[max_index]) "
   ]
  },
  {
   "cell_type": "code",
   "execution_count": 7,
   "metadata": {},
   "outputs": [
    {
     "name": "stdout",
     "output_type": "stream",
     "text": [
      "Max utility value: \n",
      "[[Fraction(0, 1) Fraction(1, 1) Fraction(0, 1) Fraction(0, 1)]\n",
      " [Fraction(0, 1) Fraction(0, 1) Fraction(55, 89) Fraction(34, 89)]]\n",
      "[[0.0, 1.0, 0.0, 0.0], [0.0, 0.0, 0.62, 0.38]]\n",
      "0.12026029388044755\n"
     ]
    }
   ],
   "source": [
    "budget = 2\n",
    "gridSize = (5, 5)\n",
    "target = Node(4, 1)\n",
    "strategies = list([\n",
    "    Strategy({ Action.RIGHT: frac(1, 3) }),\n",
    "    Strategy({ Action.DOWN: frac(1, 3), Action.LEFT: frac(1, 3) }), \n",
    "])\n",
    "enumerated_strategies = dict(enumerate(strategies, start=1))\n",
    "\n",
    "pomdp = POMDP(gridSize=gridSize, target=target, model='grid', budget=budget)\n",
    "\n",
    "# Assign strategies to the nodes\n",
    "for node in pomdp.nodes: \n",
    "    if node.j <= 1: node.assign_strategy(enumerated_strategies[1], 1)\n",
    "    else: node.assign_strategy(enumerated_strategies[2], 2)\n",
    "\n",
    "observations =  {n: n.strategy_id for n in pomdp.nodes if n != target}\n",
    "\n",
    "# ---------------------------------------------------------\n",
    "# get one specific utility value\n",
    "# print(pomdp.utility(enumerated_strategies, assignments)[0])\n",
    "# ---------------------------------------------------------\n",
    "\n",
    "combinations_, U = pomdp.generate_points(enumerated_strategies, observations, sections=90, write_to_file=True)\n",
    "\n",
    "# get the probability distribution of the actions that maximizes the utility\n",
    "max_index = np.argmax(U)\n",
    "print('Max utility value: ')\n",
    "\n",
    "print(combinations_[max_index])\n",
    "print([list(map(lambda x : round(float(x), 2), x)) for x in combinations_[max_index]])\n",
    "print(U[max_index]) "
   ]
  },
  {
   "cell_type": "code",
   "execution_count": 8,
   "metadata": {},
   "outputs": [
    {
     "name": "stdout",
     "output_type": "stream",
     "text": [
      "Max utility value: \n",
      "[[Fraction(0, 1) Fraction(28, 89) Fraction(61, 89) Fraction(0, 1)]\n",
      " [Fraction(0, 1) Fraction(0, 1) Fraction(0, 1) Fraction(1, 1)]]\n",
      "[[0.0, 0.31, 0.69, 0.0], [0.0, 0.0, 0.0, 1.0]]\n",
      "0.11502425801889572\n"
     ]
    }
   ],
   "source": [
    "budget = 2\n",
    "gridSize = (5, 5)\n",
    "target = Node(4, 1)\n",
    "strategies = list([\n",
    "    Strategy({ Action.DOWN: frac(1, 3), Action.RIGHT: frac(1, 3) }), \n",
    "    Strategy({ Action.LEFT: frac(1, 3) }),\n",
    "])\n",
    "enumerated_strategies = dict(enumerate(strategies, start=1))\n",
    "\n",
    "pomdp = POMDP(gridSize=gridSize, target=target, model='grid', budget=budget)\n",
    "\n",
    "# Assign strategies to the nodes\n",
    "for node in pomdp.nodes: \n",
    "    if node.j < 1: node.assign_strategy(enumerated_strategies[1], 1)\n",
    "    else: node.assign_strategy(enumerated_strategies[2], 2)\n",
    "\n",
    "observations =  {n: n.strategy_id for n in pomdp.nodes if n != target}\n",
    "\n",
    "# ---------------------------------------------------------\n",
    "# get one specific utility value\n",
    "# print(pomdp.utility(enumerated_strategies, assignments)[0])\n",
    "# ---------------------------------------------------------\n",
    "\n",
    "combinations_, U = pomdp.generate_points(enumerated_strategies, observations, sections=90, write_to_file=True)\n",
    "\n",
    "# get the probability distribution of the actions that maximizes the utility\n",
    "max_index = np.argmax(U)\n",
    "print('Max utility value: ')\n",
    "\n",
    "print(combinations_[max_index])\n",
    "print([list(map(lambda x : round(float(x), 2), x)) for x in combinations_[max_index]])\n",
    "print(U[max_index]) "
   ]
  },
  {
   "cell_type": "code",
   "execution_count": 15,
   "metadata": {},
   "outputs": [],
   "source": [
    "budget = 2\n",
    "gridSize = (10, 10)\n",
    "target = Node(9, 1)\n",
    "strategies = list([\n",
    "    Strategy({ Action.DOWN: frac(1, 3), Action.RIGHT: frac(1, 3) }), \n",
    "    Strategy({ Action.LEFT: frac(1, 3) }),\n",
    "])\n",
    "enumerated_strategies = dict(enumerate(strategies, start=1))\n",
    "\n",
    "pomdp = POMDP(gridSize=gridSize, target=target, model='grid', budget=budget)\n",
    "\n",
    "# Assign strategies to the nodes\n",
    "for node in pomdp.nodes: \n",
    "    if node.j <= 1: node.assign_strategy(enumerated_strategies[1], 1)\n",
    "    else: node.assign_strategy(enumerated_strategies[2], 2)\n",
    "\n",
    "observations =  {n: n.strategy_id for n in pomdp.nodes if n != target}\n",
    "\n",
    "# ---------------------------------------------------------\n",
    "# get one specific utility value\n",
    "# print(pomdp.utility(enumerated_strategies, assignments)[0])\n",
    "# ---------------------------------------------------------\n",
    "\n",
    "combinations_, U = pomdp.generate_points(enumerated_strategies, observations, sections=90, write_to_file=True)\n",
    "\n",
    "# get the probability distribution of the actions that maximizes the utility\n",
    "max_index = np.argmax(U)\n",
    "print('Max utility value: ')\n",
    "\n",
    "print(combinations_[max_index])\n",
    "print([list(map(lambda x : round(float(x), 2), x)) for x in combinations_[max_index]])\n",
    "print(U[max_index]) "
   ]
  },
  {
   "cell_type": "code",
   "execution_count": 14,
   "metadata": {},
   "outputs": [
    {
     "name": "stdout",
     "output_type": "stream",
     "text": [
      "Max utility value: \n",
      "[[Fraction(0, 1) Fraction(18, 19) Fraction(0, 1) Fraction(1, 19)]\n",
      " [Fraction(0, 1) Fraction(0, 1) Fraction(1, 1) Fraction(0, 1)]]\n",
      "[[0.0, 0.95, 0.0, 0.05], [0.0, 0.0, 1.0, 0.0]]\n",
      "0.09509532605420438\n"
     ]
    }
   ],
   "source": [
    "budget = 2\n",
    "gridSize = (5, 5)\n",
    "target = Node(4, 1)\n",
    "strategies = list([\n",
    "    Strategy({ Action.LEFT: frac(1, 3), Action.RIGHT: frac(1, 3) }), \n",
    "    Strategy({ Action.DOWN: frac(1, 3) }),\n",
    "])\n",
    "enumerated_strategies = dict(enumerate(strategies, start=1))\n",
    "\n",
    "pomdp = POMDP(gridSize=gridSize, target=target, model='grid', budget=budget)\n",
    "\n",
    "# Assign strategies to the nodes\n",
    "for node in pomdp.nodes: \n",
    "    if node.i == 4: node.assign_strategy(enumerated_strategies[1], 1)\n",
    "    else: node.assign_strategy(enumerated_strategies[2], 2)\n",
    "\n",
    "observations =  {n: n.strategy_id for n in pomdp.nodes if n != target}\n",
    "\n",
    "# ---------------------------------------------------------\n",
    "# get one specific utility value\n",
    "# print(pomdp.utility(enumerated_strategies, assignments)[0])\n",
    "# ---------------------------------------------------------\n",
    "\n",
    "combinations_, U = pomdp.generate_points(enumerated_strategies, observations, sections=90, write_to_file=True)\n",
    "\n",
    "# get the probability distribution of the actions that maximizes the utility\n",
    "max_index = np.argmax(U)\n",
    "print('Max utility value: ')\n",
    "\n",
    "print(combinations_[max_index])\n",
    "print([list(map(lambda x : round(float(x), 2), x)) for x in combinations_[max_index]])\n",
    "print(U[max_index]) "
   ]
  },
  {
   "cell_type": "markdown",
   "metadata": {},
   "source": [
    "# Convergence Analysis"
   ]
  },
  {
   "cell_type": "code",
   "execution_count": 16,
   "metadata": {},
   "outputs": [
    {
     "name": "stdout",
     "output_type": "stream",
     "text": [
      "3: [0.   0.26 0.47 0.26]\n",
      "4: [0.   0.21 0.42 0.37]\n",
      "5: [0.   0.16 0.42 0.42]\n"
     ]
    }
   ],
   "source": [
    "def f(x):\n",
    "    budget = 1\n",
    "    gridSize = (x, x)\n",
    "\n",
    "    target = Node(x-1, 1)\n",
    "    strategies = list([ \n",
    "        Strategy({ Action.DOWN: frac(1, 3), Action.RIGHT: frac(1, 3), Action.LEFT: frac(1, 3) }) \n",
    "    ])\n",
    "    enumerated_strategies = dict(enumerate(strategies, start=1))\n",
    "\n",
    "    pomdp = POMDP(gridSize=gridSize, target=target, model='grid', budget=budget)\n",
    "    \n",
    "    # Assign strategies to the nodes\n",
    "    for node in pomdp.nodes: node.assign_strategy(enumerated_strategies[1], 1)\n",
    "    observations =  {n: n.strategy_id for n in pomdp.nodes if n != target}\n",
    "\n",
    "    # ---------------------------------------------------------\n",
    "    # get one specific utility value\n",
    "    # print(pomdp.utility(enumerated_strategies, assignments)[0])\n",
    "    # ---------------------------------------------------------\n",
    "    # print(len(pomdp.ordered_nodes))\n",
    "    # print(len(observations))\n",
    "    combinations_, U = pomdp.generate_points(enumerated_strategies, observations, sections=20, write_to_file=True)\n",
    "    # plot_actions_4D(combinations_, U, actions = [Action.DOWN, Action.RIGHT, Action.LEFT])\n",
    "\n",
    "    # get the probability distribution of the actions that maximizes the utility\n",
    "    max_index = np.argmax(U)\n",
    "    approx = np.around(list(map(float, combinations_[max_index][0])), 2) # the probability distribution of the actions that maximizes the utility\n",
    "    \n",
    "    # print('Max utility value: ')\n",
    "    # print(combinations_[max_index][0])\n",
    "    # print(approx)\n",
    "    # print(U[max_index])\n",
    "    \n",
    "    return approx\n",
    "\n",
    "    \n",
    "    \n",
    "for i in range(3,15):\n",
    "    print(f'{i}: {f(i)}')"
   ]
  },
  {
   "cell_type": "code",
   "execution_count": 18,
   "metadata": {},
   "outputs": [
    {
     "ename": "ZeroDivisionError",
     "evalue": "float division by zero",
     "output_type": "error",
     "traceback": [
      "\u001b[0;31m---------------------------------------------------------------------------\u001b[0m",
      "\u001b[0;31mZeroDivisionError\u001b[0m                         Traceback (most recent call last)",
      "Cell \u001b[0;32mIn[18], line 28\u001b[0m\n\u001b[1;32m     24\u001b[0m max_iterations \u001b[38;5;241m=\u001b[39m \u001b[38;5;241m200\u001b[39m  \u001b[38;5;66;03m# Sufficient iterations to explore the search space\u001b[39;00m\n\u001b[1;32m     25\u001b[0m neighborhood_scale \u001b[38;5;241m=\u001b[39m \u001b[38;5;241m0.1\u001b[39m  \u001b[38;5;66;03m# Small perturbations for neighborhood exploration around (0.5, 0.5)\u001b[39;00m\n\u001b[0;32m---> 28\u001b[0m best_solution, best_U, points, utilities \u001b[38;5;241m=\u001b[39m \u001b[43mpomdp\u001b[49m\u001b[38;5;241;43m.\u001b[39;49m\u001b[43msimulated_annealing\u001b[49m\u001b[43m(\u001b[49m\n\u001b[1;32m     29\u001b[0m \u001b[43m    \u001b[49m\u001b[43menumerated_strategies\u001b[49m\u001b[43m,\u001b[49m\u001b[43m \u001b[49m\n\u001b[1;32m     30\u001b[0m \u001b[43m    \u001b[49m\u001b[43mobservations\u001b[49m\u001b[43m,\u001b[49m\u001b[43m \u001b[49m\n\u001b[1;32m     31\u001b[0m \u001b[43m    \u001b[49m\u001b[43minitial_temperature\u001b[49m\u001b[43m,\u001b[49m\u001b[43m \u001b[49m\n\u001b[1;32m     32\u001b[0m \u001b[43m    \u001b[49m\u001b[43mcooling_rate\u001b[49m\u001b[43m,\u001b[49m\u001b[43m \u001b[49m\n\u001b[1;32m     33\u001b[0m \u001b[43m    \u001b[49m\u001b[43mmax_iterations\u001b[49m\u001b[43m,\u001b[49m\u001b[43m \u001b[49m\n\u001b[1;32m     34\u001b[0m \u001b[43m    \u001b[49m\u001b[43mneighborhood_scale\u001b[49m\u001b[43m,\u001b[49m\u001b[43m \u001b[49m\n\u001b[1;32m     35\u001b[0m \u001b[43m)\u001b[49m\n\u001b[1;32m     37\u001b[0m plot_actions_3D(np\u001b[38;5;241m.\u001b[39marray(points), utilities, actions \u001b[38;5;241m=\u001b[39m [Action\u001b[38;5;241m.\u001b[39mDOWN, Action\u001b[38;5;241m.\u001b[39mRIGHT])\n\u001b[1;32m     39\u001b[0m approximated_solution \u001b[38;5;241m=\u001b[39m np\u001b[38;5;241m.\u001b[39maround(\u001b[38;5;28mlist\u001b[39m(\u001b[38;5;28mmap\u001b[39m(\u001b[38;5;28mfloat\u001b[39m, best_solution[\u001b[38;5;241m0\u001b[39m])), \u001b[38;5;241m2\u001b[39m)\n",
      "File \u001b[0;32m~/Documents/github_projects/POMDPs/visualizer/api/solver/pomdp.py:262\u001b[0m, in \u001b[0;36mPOMDP.simulated_annealing\u001b[0;34m(self, strategies, observations, initial_temperature, cooling_rate, max_iterations, neighborhood_scale)\u001b[0m\n\u001b[1;32m    258\u001b[0m utilities\u001b[38;5;241m.\u001b[39mappend(new_utility)\n\u001b[1;32m    260\u001b[0m \u001b[38;5;66;03m# print(f\"new solution: {np.around(list(map(float, new_solution[0])), 2)}, new utility: {new_utility}, acceptance probability: {self.acceptance_probability(current_utility, new_utility, temperature)}\")\u001b[39;00m\n\u001b[0;32m--> 262\u001b[0m \u001b[38;5;28;01mif\u001b[39;00m \u001b[38;5;28;43mself\u001b[39;49m\u001b[38;5;241;43m.\u001b[39;49m\u001b[43macceptance_probability\u001b[49m\u001b[43m(\u001b[49m\u001b[43mcurrent_utility\u001b[49m\u001b[43m,\u001b[49m\u001b[43m \u001b[49m\u001b[43mnew_utility\u001b[49m\u001b[43m,\u001b[49m\u001b[43m \u001b[49m\u001b[43mtemperature\u001b[49m\u001b[43m)\u001b[49m \u001b[38;5;241m>\u001b[39m random\u001b[38;5;241m.\u001b[39mrandom():\n\u001b[1;32m    263\u001b[0m     current_solution \u001b[38;5;241m=\u001b[39m new_solution\n\u001b[1;32m    264\u001b[0m     current_utility \u001b[38;5;241m=\u001b[39m new_utility\n",
      "File \u001b[0;32m~/Documents/github_projects/POMDPs/visualizer/api/solver/pomdp.py:232\u001b[0m, in \u001b[0;36mPOMDP.acceptance_probability\u001b[0;34m(self, old_utility, new_utility, temperature)\u001b[0m\n\u001b[1;32m    229\u001b[0m \u001b[38;5;28;01mdef\u001b[39;00m \u001b[38;5;21macceptance_probability\u001b[39m(\u001b[38;5;28mself\u001b[39m, old_utility, new_utility, temperature):\n\u001b[1;32m    230\u001b[0m     \u001b[38;5;66;03m# Calculate acceptance probability based on temperature and cost difference\u001b[39;00m\n\u001b[1;32m    231\u001b[0m     \u001b[38;5;28;01mif\u001b[39;00m new_utility \u001b[38;5;241m>\u001b[39m old_utility: \u001b[38;5;28;01mreturn\u001b[39;00m \u001b[38;5;241m1\u001b[39m \u001b[38;5;66;03m# accept if the new solution is better\u001b[39;00m\n\u001b[0;32m--> 232\u001b[0m     \u001b[38;5;28;01melse\u001b[39;00m: \u001b[38;5;28;01mreturn\u001b[39;00m np\u001b[38;5;241m.\u001b[39mexp(\u001b[43m(\u001b[49m\u001b[43mnew_utility\u001b[49m\u001b[43m \u001b[49m\u001b[38;5;241;43m-\u001b[39;49m\u001b[43m \u001b[49m\u001b[43mold_utility\u001b[49m\u001b[43m)\u001b[49m\u001b[43m \u001b[49m\u001b[38;5;241;43m/\u001b[39;49m\u001b[43m \u001b[49m\u001b[43mtemperature\u001b[49m)\n",
      "\u001b[0;31mZeroDivisionError\u001b[0m: float division by zero"
     ]
    }
   ],
   "source": [
    "budget = 1\n",
    "gridSize = (10, 10)\n",
    "target = Node(9, 9)\n",
    "strategies = list([  \n",
    "    Strategy({ Action.DOWN: frac(1, 2), Action.RIGHT: frac(1, 2) }) \n",
    "])\n",
    "enumerated_strategies = dict(enumerate(strategies, start=1))\n",
    "\n",
    "pomdp = POMDP(gridSize=gridSize, target=target, model='grid', budget=budget)\n",
    "\n",
    "# Assign strategies to the nodes\n",
    "for node in pomdp.nodes: node.assign_strategy(enumerated_strategies[1], 1)\n",
    "observations =  {n: n.strategy_id for n in pomdp.nodes if n != target}\n",
    "\n",
    "# ---------------------------------------------------------\n",
    "# get one specific utility value\n",
    "# print(pomdp.utility(enumerated_strategies, assignments)[0])\n",
    "# ---------------------------------------------------------\n",
    "# print(len(pomdp.ordered_nodes))\n",
    "# print(len(observations))\n",
    "\n",
    "initial_temperature = 10.0  # High initial temperature to encourage exploration\n",
    "cooling_rate = 0.01  # Low cooling rate to increase exploitation\n",
    "max_iterations = 200  # Sufficient iterations to explore the search space\n",
    "neighborhood_scale = 0.1  # Small perturbations for neighborhood exploration around (0.5, 0.5)\n",
    "\n",
    "\n",
    "best_solution, best_U, points, utilities = pomdp.simulated_annealing(\n",
    "    enumerated_strategies, \n",
    "    observations, \n",
    "    initial_temperature, \n",
    "    cooling_rate, \n",
    "    max_iterations, \n",
    "    neighborhood_scale, \n",
    ")\n",
    "\n",
    "plot_actions_3D(np.array(points), utilities, actions = [Action.DOWN, Action.RIGHT])\n",
    "\n",
    "approximated_solution = np.around(list(map(float, best_solution[0])), 2)\n",
    "\n",
    "print('Best solution: ', approximated_solution)\n",
    "print('Best utility: ', best_U)"
   ]
  },
  {
   "cell_type": "code",
   "execution_count": null,
   "metadata": {},
   "outputs": [],
   "source": []
  },
  {
   "cell_type": "code",
   "execution_count": 25,
   "metadata": {},
   "outputs": [
    {
     "name": "stdout",
     "output_type": "stream",
     "text": [
      "{1: {r: Fraction(786090, 900781), d: Fraction(89806, 727335), l: Fraction(503, 130606)}}\n",
      "r 0.8726760444547564\n",
      "d 0.12347267765197605\n",
      "l 0.0038512778892240787\n",
      "0.9999999999959566\n",
      "{1: {r: Fraction(26733653999267427482053217566005, 31458681640010718620840347303936), d: Fraction(2393384692730677387397596454791, 31458681640010718620840347303936), l: Fraction(582910737003153437847383320785, 7864670410002679655210086825984)}}\n",
      "r 0.8498021088482689\n",
      "d 0.07608026045461014\n",
      "l 0.07411763069712095\n",
      "1.0\n",
      "{1: {r: Fraction(47667076378677766065890198842549, 62917363280021437241680694607872), d: Fraction(7976258406384502775481458693949, 62917363280021437241680694607872), l: Fraction(3637014247479584200154518535687, 31458681640010718620840347303936)}}\n",
      "r 0.7576140177160572\n",
      "d 0.12677356441154705\n",
      "l 0.11561241787239578\n",
      "1.0\n",
      "{1: {r: Fraction(48467989402403495387884182497369, 62917363280021437241680694607872), d: Fraction(3752125573294396802394784190129, 62917363280021437241680694607872), l: Fraction(5348624152161772525700863960187, 31458681640010718620840347303936)}}\n",
      "r 0.7703436201973495\n",
      "d 0.059635772665728254\n",
      "l 0.1700206071369223\n",
      "1.0\n",
      "{1: {r: Fraction(43435292776177866324271567235567, 62917363280021437241680694607872), d: Fraction(3938230409747948573872974477385, 125834726560042874483361389215744), l: Fraction(35025910597939193260945280267225, 125834726560042874483361389215744)}}\n",
      "r 0.6903546256835934\n",
      "d 0.03129684879053475\n",
      "l 0.2783485255258718\n",
      "1.0\n",
      "{1: {r: Fraction(28820108521096766263015470740164, 42233556136802213994353254685277), d: Fraction(0, 1), l: Fraction(13413447615705447731337783945113, 42233556136802213994353254685277)}}\n",
      "r 0.6823983381305416\n",
      "d 0.0\n",
      "l 0.31760166186945843\n",
      "1.0\n",
      "{1: {r: Fraction(2044957248354277153071515296237088327098179866209, 3043248442883734008515266735726422448632886198272), d: Fraction(81419420211201, 1125899906842624), l: Fraction(778218768666055498145518500647162113718694320735, 3043248442883734008515266735726422448632886198272)}}\n",
      "r 0.6719652656476867\n",
      "d 0.07231497197608494\n",
      "l 0.2557197623762284\n",
      "1.0\n",
      "{1: {r: Fraction(2192875995066714070026311252056845156524605724497, 3043248442883734008515266735726422448632886198272), d: Fraction(5659197405202443, 36028797018963968), l: Fraction(372356385213294334008752935317812200019407410353, 3043248442883734008515266735726422448632886198272)}}\n",
      "r 0.7205708098510615\n",
      "d 0.15707428150386735\n",
      "l 0.12235490864507116\n",
      "1.0\n",
      "{1: {r: Fraction(1055507409889179985015196663979351162612211141601, 1521624221441867004257633367863211224316443099136), d: Fraction(5889112713318607, 72057594037927936), l: Fraction(683515450731477046264103002393629621366450865931, 3043248442883734008515266735726422448632886198272)}}\n",
      "r 0.69367153533413\n",
      "d 0.08172785661173808\n",
      "l 0.22460060805413198\n",
      "1.0\n",
      "{1: {r: Fraction(3963931267839663777053370375824258161363053664811, 6086496885767468059264089608255058891619027081821), d: Fraction(3680154801441620, 144115188075855873), l: Fraction(1967139593528997418530836121566616550356984388270, 6086496885767468059264089608255058891619027081821)}}\n",
      "r 0.6512664579043546\n",
      "d 0.025536203717158173\n",
      "l 0.3231973383784873\n",
      "1.0\n",
      "{1: {r: Fraction(17920494520940476875171736450720761710831710759471015645208200151, 27411145106734053510625471700317167488658550090901237138473353216), d: Fraction(290857026056461416937674104841313, 5192296858534827664559293348184064), l: Fraction(63641278148609705549216058886693454006180410670477539220278775819, 219289160853872428085003773602537339909268400727209897107786825728)}}\n",
      "r 0.6537667233952213\n",
      "d 0.056017025601755754\n",
      "l 0.2902162510030229\n",
      "1.0\n",
      "[[[Fraction(0, 1), Fraction(26733653999267427482053217566005, 31458681640010718620840347303936), Fraction(2393384692730677387397596454791, 31458681640010718620840347303936), Fraction(582910737003153437847383320785, 7864670410002679655210086825984)]], [[Fraction(0, 1), Fraction(47667076378677766065890198842549, 62917363280021437241680694607872), Fraction(7976258406384502775481458693949, 62917363280021437241680694607872), Fraction(3637014247479584200154518535687, 31458681640010718620840347303936)]], [[Fraction(0, 1), Fraction(48467989402403495387884182497369, 62917363280021437241680694607872), Fraction(3752125573294396802394784190129, 62917363280021437241680694607872), Fraction(5348624152161772525700863960187, 31458681640010718620840347303936)]], [[Fraction(0, 1), Fraction(43435292776177866324271567235567, 62917363280021437241680694607872), Fraction(3938230409747948573872974477385, 125834726560042874483361389215744), Fraction(35025910597939193260945280267225, 125834726560042874483361389215744)]], [[Fraction(0, 1), Fraction(28820108521096766263015470740164, 42233556136802213994353254685277), Fraction(0, 1), Fraction(13413447615705447731337783945113, 42233556136802213994353254685277)]], [[Fraction(0, 1), Fraction(2044957248354277153071515296237088327098179866209, 3043248442883734008515266735726422448632886198272), Fraction(81419420211201, 1125899906842624), Fraction(778218768666055498145518500647162113718694320735, 3043248442883734008515266735726422448632886198272)]], [[Fraction(0, 1), Fraction(2192875995066714070026311252056845156524605724497, 3043248442883734008515266735726422448632886198272), Fraction(5659197405202443, 36028797018963968), Fraction(372356385213294334008752935317812200019407410353, 3043248442883734008515266735726422448632886198272)]], [[Fraction(0, 1), Fraction(1055507409889179985015196663979351162612211141601, 1521624221441867004257633367863211224316443099136), Fraction(5889112713318607, 72057594037927936), Fraction(683515450731477046264103002393629621366450865931, 3043248442883734008515266735726422448632886198272)]], [[Fraction(0, 1), Fraction(3963931267839663777053370375824258161363053664811, 6086496885767468059264089608255058891619027081821), Fraction(3680154801441620, 144115188075855873), Fraction(1967139593528997418530836121566616550356984388270, 6086496885767468059264089608255058891619027081821)]], [[Fraction(0, 1), Fraction(17920494520940476875171736450720761710831710759471015645208200151, 27411145106734053510625471700317167488658550090901237138473353216), Fraction(290857026056461416937674104841313, 5192296858534827664559293348184064), Fraction(63641278148609705549216058886693454006180410670477539220278775819, 219289160853872428085003773602537339909268400727209897107786825728)]]]\n",
      "[0, 0, 0, 0, 0, 0, 0, 0, 0, 0]\n",
      "All values are the same, setting all sizes to 10\n"
     ]
    },
    {
     "data": {
      "application/vnd.plotly.v1+json": {
       "config": {
        "plotlyServerURL": "https://plot.ly"
       },
       "data": [
        {
         "marker": {
          "color": [
           "red",
           "blue",
           "blue",
           "blue",
           "blue",
           "blue",
           "blue",
           "blue",
           "blue",
           "blue"
          ],
          "opacity": 0.7,
          "size": [
           10,
           10,
           10,
           10,
           10,
           10,
           10,
           10,
           10,
           10
          ]
         },
         "mode": "markers",
         "type": "scatter3d",
         "x": [
          0.07608026045461014,
          0.12677356441154705,
          0.059635772665728254,
          0.03129684879053475,
          0,
          0.07231497197608494,
          0.15707428150386735,
          0.08172785661173808,
          0.025536203717158173,
          0.056017025601755754
         ],
         "y": [
          0.8498021088482689,
          0.7576140177160572,
          0.7703436201973495,
          0.6903546256835934,
          0.6823983381305416,
          0.6719652656476867,
          0.7205708098510615,
          0.69367153533413,
          0.6512664579043546,
          0.6537667233952213
         ],
         "z": [
          0.07411763069712095,
          0.11561241787239578,
          0.1700206071369223,
          0.2783485255258718,
          0.31760166186945843,
          0.2557197623762284,
          0.12235490864507116,
          0.22460060805413198,
          0.3231973383784873,
          0.2902162510030229
         ]
        }
       ],
       "layout": {
        "scene": {
         "xaxis": {
          "title": {
           "text": "d"
          }
         },
         "yaxis": {
          "title": {
           "text": "r"
          }
         },
         "zaxis": {
          "title": {
           "text": "l"
          }
         }
        },
        "template": {
         "data": {
          "bar": [
           {
            "error_x": {
             "color": "#2a3f5f"
            },
            "error_y": {
             "color": "#2a3f5f"
            },
            "marker": {
             "line": {
              "color": "white",
              "width": 0.5
             },
             "pattern": {
              "fillmode": "overlay",
              "size": 10,
              "solidity": 0.2
             }
            },
            "type": "bar"
           }
          ],
          "barpolar": [
           {
            "marker": {
             "line": {
              "color": "white",
              "width": 0.5
             },
             "pattern": {
              "fillmode": "overlay",
              "size": 10,
              "solidity": 0.2
             }
            },
            "type": "barpolar"
           }
          ],
          "carpet": [
           {
            "aaxis": {
             "endlinecolor": "#2a3f5f",
             "gridcolor": "#C8D4E3",
             "linecolor": "#C8D4E3",
             "minorgridcolor": "#C8D4E3",
             "startlinecolor": "#2a3f5f"
            },
            "baxis": {
             "endlinecolor": "#2a3f5f",
             "gridcolor": "#C8D4E3",
             "linecolor": "#C8D4E3",
             "minorgridcolor": "#C8D4E3",
             "startlinecolor": "#2a3f5f"
            },
            "type": "carpet"
           }
          ],
          "choropleth": [
           {
            "colorbar": {
             "outlinewidth": 0,
             "ticks": ""
            },
            "type": "choropleth"
           }
          ],
          "contour": [
           {
            "colorbar": {
             "outlinewidth": 0,
             "ticks": ""
            },
            "colorscale": [
             [
              0,
              "#0d0887"
             ],
             [
              0.1111111111111111,
              "#46039f"
             ],
             [
              0.2222222222222222,
              "#7201a8"
             ],
             [
              0.3333333333333333,
              "#9c179e"
             ],
             [
              0.4444444444444444,
              "#bd3786"
             ],
             [
              0.5555555555555556,
              "#d8576b"
             ],
             [
              0.6666666666666666,
              "#ed7953"
             ],
             [
              0.7777777777777778,
              "#fb9f3a"
             ],
             [
              0.8888888888888888,
              "#fdca26"
             ],
             [
              1,
              "#f0f921"
             ]
            ],
            "type": "contour"
           }
          ],
          "contourcarpet": [
           {
            "colorbar": {
             "outlinewidth": 0,
             "ticks": ""
            },
            "type": "contourcarpet"
           }
          ],
          "heatmap": [
           {
            "colorbar": {
             "outlinewidth": 0,
             "ticks": ""
            },
            "colorscale": [
             [
              0,
              "#0d0887"
             ],
             [
              0.1111111111111111,
              "#46039f"
             ],
             [
              0.2222222222222222,
              "#7201a8"
             ],
             [
              0.3333333333333333,
              "#9c179e"
             ],
             [
              0.4444444444444444,
              "#bd3786"
             ],
             [
              0.5555555555555556,
              "#d8576b"
             ],
             [
              0.6666666666666666,
              "#ed7953"
             ],
             [
              0.7777777777777778,
              "#fb9f3a"
             ],
             [
              0.8888888888888888,
              "#fdca26"
             ],
             [
              1,
              "#f0f921"
             ]
            ],
            "type": "heatmap"
           }
          ],
          "heatmapgl": [
           {
            "colorbar": {
             "outlinewidth": 0,
             "ticks": ""
            },
            "colorscale": [
             [
              0,
              "#0d0887"
             ],
             [
              0.1111111111111111,
              "#46039f"
             ],
             [
              0.2222222222222222,
              "#7201a8"
             ],
             [
              0.3333333333333333,
              "#9c179e"
             ],
             [
              0.4444444444444444,
              "#bd3786"
             ],
             [
              0.5555555555555556,
              "#d8576b"
             ],
             [
              0.6666666666666666,
              "#ed7953"
             ],
             [
              0.7777777777777778,
              "#fb9f3a"
             ],
             [
              0.8888888888888888,
              "#fdca26"
             ],
             [
              1,
              "#f0f921"
             ]
            ],
            "type": "heatmapgl"
           }
          ],
          "histogram": [
           {
            "marker": {
             "pattern": {
              "fillmode": "overlay",
              "size": 10,
              "solidity": 0.2
             }
            },
            "type": "histogram"
           }
          ],
          "histogram2d": [
           {
            "colorbar": {
             "outlinewidth": 0,
             "ticks": ""
            },
            "colorscale": [
             [
              0,
              "#0d0887"
             ],
             [
              0.1111111111111111,
              "#46039f"
             ],
             [
              0.2222222222222222,
              "#7201a8"
             ],
             [
              0.3333333333333333,
              "#9c179e"
             ],
             [
              0.4444444444444444,
              "#bd3786"
             ],
             [
              0.5555555555555556,
              "#d8576b"
             ],
             [
              0.6666666666666666,
              "#ed7953"
             ],
             [
              0.7777777777777778,
              "#fb9f3a"
             ],
             [
              0.8888888888888888,
              "#fdca26"
             ],
             [
              1,
              "#f0f921"
             ]
            ],
            "type": "histogram2d"
           }
          ],
          "histogram2dcontour": [
           {
            "colorbar": {
             "outlinewidth": 0,
             "ticks": ""
            },
            "colorscale": [
             [
              0,
              "#0d0887"
             ],
             [
              0.1111111111111111,
              "#46039f"
             ],
             [
              0.2222222222222222,
              "#7201a8"
             ],
             [
              0.3333333333333333,
              "#9c179e"
             ],
             [
              0.4444444444444444,
              "#bd3786"
             ],
             [
              0.5555555555555556,
              "#d8576b"
             ],
             [
              0.6666666666666666,
              "#ed7953"
             ],
             [
              0.7777777777777778,
              "#fb9f3a"
             ],
             [
              0.8888888888888888,
              "#fdca26"
             ],
             [
              1,
              "#f0f921"
             ]
            ],
            "type": "histogram2dcontour"
           }
          ],
          "mesh3d": [
           {
            "colorbar": {
             "outlinewidth": 0,
             "ticks": ""
            },
            "type": "mesh3d"
           }
          ],
          "parcoords": [
           {
            "line": {
             "colorbar": {
              "outlinewidth": 0,
              "ticks": ""
             }
            },
            "type": "parcoords"
           }
          ],
          "pie": [
           {
            "automargin": true,
            "type": "pie"
           }
          ],
          "scatter": [
           {
            "fillpattern": {
             "fillmode": "overlay",
             "size": 10,
             "solidity": 0.2
            },
            "type": "scatter"
           }
          ],
          "scatter3d": [
           {
            "line": {
             "colorbar": {
              "outlinewidth": 0,
              "ticks": ""
             }
            },
            "marker": {
             "colorbar": {
              "outlinewidth": 0,
              "ticks": ""
             }
            },
            "type": "scatter3d"
           }
          ],
          "scattercarpet": [
           {
            "marker": {
             "colorbar": {
              "outlinewidth": 0,
              "ticks": ""
             }
            },
            "type": "scattercarpet"
           }
          ],
          "scattergeo": [
           {
            "marker": {
             "colorbar": {
              "outlinewidth": 0,
              "ticks": ""
             }
            },
            "type": "scattergeo"
           }
          ],
          "scattergl": [
           {
            "marker": {
             "colorbar": {
              "outlinewidth": 0,
              "ticks": ""
             }
            },
            "type": "scattergl"
           }
          ],
          "scattermapbox": [
           {
            "marker": {
             "colorbar": {
              "outlinewidth": 0,
              "ticks": ""
             }
            },
            "type": "scattermapbox"
           }
          ],
          "scatterpolar": [
           {
            "marker": {
             "colorbar": {
              "outlinewidth": 0,
              "ticks": ""
             }
            },
            "type": "scatterpolar"
           }
          ],
          "scatterpolargl": [
           {
            "marker": {
             "colorbar": {
              "outlinewidth": 0,
              "ticks": ""
             }
            },
            "type": "scatterpolargl"
           }
          ],
          "scatterternary": [
           {
            "marker": {
             "colorbar": {
              "outlinewidth": 0,
              "ticks": ""
             }
            },
            "type": "scatterternary"
           }
          ],
          "surface": [
           {
            "colorbar": {
             "outlinewidth": 0,
             "ticks": ""
            },
            "colorscale": [
             [
              0,
              "#0d0887"
             ],
             [
              0.1111111111111111,
              "#46039f"
             ],
             [
              0.2222222222222222,
              "#7201a8"
             ],
             [
              0.3333333333333333,
              "#9c179e"
             ],
             [
              0.4444444444444444,
              "#bd3786"
             ],
             [
              0.5555555555555556,
              "#d8576b"
             ],
             [
              0.6666666666666666,
              "#ed7953"
             ],
             [
              0.7777777777777778,
              "#fb9f3a"
             ],
             [
              0.8888888888888888,
              "#fdca26"
             ],
             [
              1,
              "#f0f921"
             ]
            ],
            "type": "surface"
           }
          ],
          "table": [
           {
            "cells": {
             "fill": {
              "color": "#EBF0F8"
             },
             "line": {
              "color": "white"
             }
            },
            "header": {
             "fill": {
              "color": "#C8D4E3"
             },
             "line": {
              "color": "white"
             }
            },
            "type": "table"
           }
          ]
         },
         "layout": {
          "annotationdefaults": {
           "arrowcolor": "#2a3f5f",
           "arrowhead": 0,
           "arrowwidth": 1
          },
          "autotypenumbers": "strict",
          "coloraxis": {
           "colorbar": {
            "outlinewidth": 0,
            "ticks": ""
           }
          },
          "colorscale": {
           "diverging": [
            [
             0,
             "#8e0152"
            ],
            [
             0.1,
             "#c51b7d"
            ],
            [
             0.2,
             "#de77ae"
            ],
            [
             0.3,
             "#f1b6da"
            ],
            [
             0.4,
             "#fde0ef"
            ],
            [
             0.5,
             "#f7f7f7"
            ],
            [
             0.6,
             "#e6f5d0"
            ],
            [
             0.7,
             "#b8e186"
            ],
            [
             0.8,
             "#7fbc41"
            ],
            [
             0.9,
             "#4d9221"
            ],
            [
             1,
             "#276419"
            ]
           ],
           "sequential": [
            [
             0,
             "#0d0887"
            ],
            [
             0.1111111111111111,
             "#46039f"
            ],
            [
             0.2222222222222222,
             "#7201a8"
            ],
            [
             0.3333333333333333,
             "#9c179e"
            ],
            [
             0.4444444444444444,
             "#bd3786"
            ],
            [
             0.5555555555555556,
             "#d8576b"
            ],
            [
             0.6666666666666666,
             "#ed7953"
            ],
            [
             0.7777777777777778,
             "#fb9f3a"
            ],
            [
             0.8888888888888888,
             "#fdca26"
            ],
            [
             1,
             "#f0f921"
            ]
           ],
           "sequentialminus": [
            [
             0,
             "#0d0887"
            ],
            [
             0.1111111111111111,
             "#46039f"
            ],
            [
             0.2222222222222222,
             "#7201a8"
            ],
            [
             0.3333333333333333,
             "#9c179e"
            ],
            [
             0.4444444444444444,
             "#bd3786"
            ],
            [
             0.5555555555555556,
             "#d8576b"
            ],
            [
             0.6666666666666666,
             "#ed7953"
            ],
            [
             0.7777777777777778,
             "#fb9f3a"
            ],
            [
             0.8888888888888888,
             "#fdca26"
            ],
            [
             1,
             "#f0f921"
            ]
           ]
          },
          "colorway": [
           "#636efa",
           "#EF553B",
           "#00cc96",
           "#ab63fa",
           "#FFA15A",
           "#19d3f3",
           "#FF6692",
           "#B6E880",
           "#FF97FF",
           "#FECB52"
          ],
          "font": {
           "color": "#2a3f5f"
          },
          "geo": {
           "bgcolor": "white",
           "lakecolor": "white",
           "landcolor": "white",
           "showlakes": true,
           "showland": true,
           "subunitcolor": "#C8D4E3"
          },
          "hoverlabel": {
           "align": "left"
          },
          "hovermode": "closest",
          "mapbox": {
           "style": "light"
          },
          "paper_bgcolor": "white",
          "plot_bgcolor": "white",
          "polar": {
           "angularaxis": {
            "gridcolor": "#EBF0F8",
            "linecolor": "#EBF0F8",
            "ticks": ""
           },
           "bgcolor": "white",
           "radialaxis": {
            "gridcolor": "#EBF0F8",
            "linecolor": "#EBF0F8",
            "ticks": ""
           }
          },
          "scene": {
           "xaxis": {
            "backgroundcolor": "white",
            "gridcolor": "#DFE8F3",
            "gridwidth": 2,
            "linecolor": "#EBF0F8",
            "showbackground": true,
            "ticks": "",
            "zerolinecolor": "#EBF0F8"
           },
           "yaxis": {
            "backgroundcolor": "white",
            "gridcolor": "#DFE8F3",
            "gridwidth": 2,
            "linecolor": "#EBF0F8",
            "showbackground": true,
            "ticks": "",
            "zerolinecolor": "#EBF0F8"
           },
           "zaxis": {
            "backgroundcolor": "white",
            "gridcolor": "#DFE8F3",
            "gridwidth": 2,
            "linecolor": "#EBF0F8",
            "showbackground": true,
            "ticks": "",
            "zerolinecolor": "#EBF0F8"
           }
          },
          "shapedefaults": {
           "line": {
            "color": "#2a3f5f"
           }
          },
          "ternary": {
           "aaxis": {
            "gridcolor": "#DFE8F3",
            "linecolor": "#A2B1C6",
            "ticks": ""
           },
           "baxis": {
            "gridcolor": "#DFE8F3",
            "linecolor": "#A2B1C6",
            "ticks": ""
           },
           "bgcolor": "white",
           "caxis": {
            "gridcolor": "#DFE8F3",
            "linecolor": "#A2B1C6",
            "ticks": ""
           }
          },
          "title": {
           "x": 0.05
          },
          "xaxis": {
           "automargin": true,
           "gridcolor": "#EBF0F8",
           "linecolor": "#EBF0F8",
           "ticks": "",
           "title": {
            "standoff": 15
           },
           "zerolinecolor": "#EBF0F8",
           "zerolinewidth": 2
          },
          "yaxis": {
           "automargin": true,
           "gridcolor": "#EBF0F8",
           "linecolor": "#EBF0F8",
           "ticks": "",
           "title": {
            "standoff": 15
           },
           "zerolinecolor": "#EBF0F8",
           "zerolinewidth": 2
          }
         }
        }
       }
      }
     },
     "metadata": {},
     "output_type": "display_data"
    },
    {
     "name": "stdout",
     "output_type": "stream",
     "text": [
      "Best solution:  [0.   0.87 0.12 0.  ]\n",
      "Best utility:  0\n"
     ]
    }
   ],
   "source": [
    "budget = 1\n",
    "gridSize = (10, 10)\n",
    "target = Node(9, 1)\n",
    "strategies = list([  \n",
    "    Strategy({ Action.DOWN: frac(1, 3), Action.RIGHT: frac(1, 3), Action.LEFT: frac(1, 3) }) \n",
    "])\n",
    "enumerated_strategies = dict(enumerate(strategies, start=1))\n",
    "\n",
    "pomdp = POMDP(gridSize=gridSize, target=target, model='grid', budget=budget)\n",
    "\n",
    "# Assign strategies to the nodes\n",
    "for node in pomdp.nodes: node.assign_strategy(enumerated_strategies[1], 1)\n",
    "observations =  {n: n.strategy_id for n in pomdp.nodes if n != target}\n",
    "\n",
    "# ---------------------------------------------------------\n",
    "# get one specific utility value\n",
    "# print(pomdp.utility(enumerated_strategies, assignments)[0])\n",
    "# ---------------------------------------------------------\n",
    "# print(len(pomdp.ordered_nodes))\n",
    "# print(len(observations))\n",
    "\n",
    "initial_temperature = 20.0  # High initial temperature to encourage exploration\n",
    "cooling_rate = 0.99  # Gradual cooling rate to balance exploration and exploitation\n",
    "max_iterations = 10  # Sufficient iterations to explore the search space\n",
    "neighborhood_scale = 0.1  # Small perturbations for neighborhood exploration around (0.5, 0.5)\n",
    "\n",
    "# initial_temperature = 0.01  # Low initial temperature to focus search near the known maximum point\n",
    "# cooling_rate = 0.9999  # Faster cooling rate to shift towards exploitation sooner\n",
    "# max_iterations = 100  # Reduced maximum iterations to limit exploration\n",
    "# neighborhood_scale = 0.1  # Small perturbations for narrow exploration around the target point\n",
    "\n",
    "best_solution, best_U, points, utilities = pomdp.simulated_annealing(\n",
    "    enumerated_strategies, \n",
    "    observations, \n",
    "    initial_temperature, \n",
    "    cooling_rate, \n",
    "    max_iterations, \n",
    "    neighborhood_scale, \n",
    ")\n",
    "\n",
    "print(points)\n",
    "print(utilities)\n",
    "\n",
    "plot_actions_4D(np.array(points), utilities, actions = [Action.DOWN, Action.RIGHT, Action.LEFT])\n",
    "\n",
    "approximated_solution = np.around(list(map(float, best_solution[0])), 2)\n",
    "\n",
    "print('Best solution: ', approximated_solution)\n",
    "print('Best utility: ', best_U)"
   ]
  },
  {
   "cell_type": "code",
   "execution_count": null,
   "metadata": {},
   "outputs": [],
   "source": []
  },
  {
   "cell_type": "code",
   "execution_count": 4,
   "metadata": {},
   "outputs": [
    {
     "data": {
      "application/vnd.plotly.v1+json": {
       "config": {
        "plotlyServerURL": "https://plot.ly"
       },
       "data": [
        {
         "marker": {
          "color": [
           "blue",
           "blue",
           "blue",
           "blue",
           "blue",
           "blue",
           "red",
           "blue",
           "blue",
           "blue",
           "blue",
           "blue",
           "blue",
           "blue",
           "blue"
          ],
          "opacity": 0.7,
          "size": [
           1,
           1,
           1,
           1,
           1,
           1,
           20,
           1.277001177383805,
           1,
           1,
           6.463101983914395,
           1,
           1,
           1,
           1
          ]
         },
         "mode": "markers",
         "type": "scatter3d",
         "x": [
          0,
          0,
          0,
          0,
          0,
          0.25,
          0.25,
          0.25,
          0.25,
          0.5,
          0.5,
          0.5,
          0.75,
          0.75,
          1
         ],
         "y": [
          0,
          0.25,
          0.5,
          0.75,
          1,
          0,
          0.25,
          0.5,
          0.75,
          0,
          0.25,
          0.5,
          0,
          0.25,
          0
         ],
         "z": [
          1,
          0.75,
          0.5,
          0.25,
          0,
          0.75,
          0.5,
          0.25,
          0,
          0.5,
          0.25,
          0,
          0.25,
          0,
          0
         ]
        }
       ],
       "layout": {
        "scene": {
         "xaxis": {
          "title": {
           "text": "d"
          }
         },
         "yaxis": {
          "title": {
           "text": "r"
          }
         },
         "zaxis": {
          "title": {
           "text": "l"
          }
         }
        },
        "template": {
         "data": {
          "bar": [
           {
            "error_x": {
             "color": "#2a3f5f"
            },
            "error_y": {
             "color": "#2a3f5f"
            },
            "marker": {
             "line": {
              "color": "white",
              "width": 0.5
             },
             "pattern": {
              "fillmode": "overlay",
              "size": 10,
              "solidity": 0.2
             }
            },
            "type": "bar"
           }
          ],
          "barpolar": [
           {
            "marker": {
             "line": {
              "color": "white",
              "width": 0.5
             },
             "pattern": {
              "fillmode": "overlay",
              "size": 10,
              "solidity": 0.2
             }
            },
            "type": "barpolar"
           }
          ],
          "carpet": [
           {
            "aaxis": {
             "endlinecolor": "#2a3f5f",
             "gridcolor": "#C8D4E3",
             "linecolor": "#C8D4E3",
             "minorgridcolor": "#C8D4E3",
             "startlinecolor": "#2a3f5f"
            },
            "baxis": {
             "endlinecolor": "#2a3f5f",
             "gridcolor": "#C8D4E3",
             "linecolor": "#C8D4E3",
             "minorgridcolor": "#C8D4E3",
             "startlinecolor": "#2a3f5f"
            },
            "type": "carpet"
           }
          ],
          "choropleth": [
           {
            "colorbar": {
             "outlinewidth": 0,
             "ticks": ""
            },
            "type": "choropleth"
           }
          ],
          "contour": [
           {
            "colorbar": {
             "outlinewidth": 0,
             "ticks": ""
            },
            "colorscale": [
             [
              0,
              "#0d0887"
             ],
             [
              0.1111111111111111,
              "#46039f"
             ],
             [
              0.2222222222222222,
              "#7201a8"
             ],
             [
              0.3333333333333333,
              "#9c179e"
             ],
             [
              0.4444444444444444,
              "#bd3786"
             ],
             [
              0.5555555555555556,
              "#d8576b"
             ],
             [
              0.6666666666666666,
              "#ed7953"
             ],
             [
              0.7777777777777778,
              "#fb9f3a"
             ],
             [
              0.8888888888888888,
              "#fdca26"
             ],
             [
              1,
              "#f0f921"
             ]
            ],
            "type": "contour"
           }
          ],
          "contourcarpet": [
           {
            "colorbar": {
             "outlinewidth": 0,
             "ticks": ""
            },
            "type": "contourcarpet"
           }
          ],
          "heatmap": [
           {
            "colorbar": {
             "outlinewidth": 0,
             "ticks": ""
            },
            "colorscale": [
             [
              0,
              "#0d0887"
             ],
             [
              0.1111111111111111,
              "#46039f"
             ],
             [
              0.2222222222222222,
              "#7201a8"
             ],
             [
              0.3333333333333333,
              "#9c179e"
             ],
             [
              0.4444444444444444,
              "#bd3786"
             ],
             [
              0.5555555555555556,
              "#d8576b"
             ],
             [
              0.6666666666666666,
              "#ed7953"
             ],
             [
              0.7777777777777778,
              "#fb9f3a"
             ],
             [
              0.8888888888888888,
              "#fdca26"
             ],
             [
              1,
              "#f0f921"
             ]
            ],
            "type": "heatmap"
           }
          ],
          "heatmapgl": [
           {
            "colorbar": {
             "outlinewidth": 0,
             "ticks": ""
            },
            "colorscale": [
             [
              0,
              "#0d0887"
             ],
             [
              0.1111111111111111,
              "#46039f"
             ],
             [
              0.2222222222222222,
              "#7201a8"
             ],
             [
              0.3333333333333333,
              "#9c179e"
             ],
             [
              0.4444444444444444,
              "#bd3786"
             ],
             [
              0.5555555555555556,
              "#d8576b"
             ],
             [
              0.6666666666666666,
              "#ed7953"
             ],
             [
              0.7777777777777778,
              "#fb9f3a"
             ],
             [
              0.8888888888888888,
              "#fdca26"
             ],
             [
              1,
              "#f0f921"
             ]
            ],
            "type": "heatmapgl"
           }
          ],
          "histogram": [
           {
            "marker": {
             "pattern": {
              "fillmode": "overlay",
              "size": 10,
              "solidity": 0.2
             }
            },
            "type": "histogram"
           }
          ],
          "histogram2d": [
           {
            "colorbar": {
             "outlinewidth": 0,
             "ticks": ""
            },
            "colorscale": [
             [
              0,
              "#0d0887"
             ],
             [
              0.1111111111111111,
              "#46039f"
             ],
             [
              0.2222222222222222,
              "#7201a8"
             ],
             [
              0.3333333333333333,
              "#9c179e"
             ],
             [
              0.4444444444444444,
              "#bd3786"
             ],
             [
              0.5555555555555556,
              "#d8576b"
             ],
             [
              0.6666666666666666,
              "#ed7953"
             ],
             [
              0.7777777777777778,
              "#fb9f3a"
             ],
             [
              0.8888888888888888,
              "#fdca26"
             ],
             [
              1,
              "#f0f921"
             ]
            ],
            "type": "histogram2d"
           }
          ],
          "histogram2dcontour": [
           {
            "colorbar": {
             "outlinewidth": 0,
             "ticks": ""
            },
            "colorscale": [
             [
              0,
              "#0d0887"
             ],
             [
              0.1111111111111111,
              "#46039f"
             ],
             [
              0.2222222222222222,
              "#7201a8"
             ],
             [
              0.3333333333333333,
              "#9c179e"
             ],
             [
              0.4444444444444444,
              "#bd3786"
             ],
             [
              0.5555555555555556,
              "#d8576b"
             ],
             [
              0.6666666666666666,
              "#ed7953"
             ],
             [
              0.7777777777777778,
              "#fb9f3a"
             ],
             [
              0.8888888888888888,
              "#fdca26"
             ],
             [
              1,
              "#f0f921"
             ]
            ],
            "type": "histogram2dcontour"
           }
          ],
          "mesh3d": [
           {
            "colorbar": {
             "outlinewidth": 0,
             "ticks": ""
            },
            "type": "mesh3d"
           }
          ],
          "parcoords": [
           {
            "line": {
             "colorbar": {
              "outlinewidth": 0,
              "ticks": ""
             }
            },
            "type": "parcoords"
           }
          ],
          "pie": [
           {
            "automargin": true,
            "type": "pie"
           }
          ],
          "scatter": [
           {
            "fillpattern": {
             "fillmode": "overlay",
             "size": 10,
             "solidity": 0.2
            },
            "type": "scatter"
           }
          ],
          "scatter3d": [
           {
            "line": {
             "colorbar": {
              "outlinewidth": 0,
              "ticks": ""
             }
            },
            "marker": {
             "colorbar": {
              "outlinewidth": 0,
              "ticks": ""
             }
            },
            "type": "scatter3d"
           }
          ],
          "scattercarpet": [
           {
            "marker": {
             "colorbar": {
              "outlinewidth": 0,
              "ticks": ""
             }
            },
            "type": "scattercarpet"
           }
          ],
          "scattergeo": [
           {
            "marker": {
             "colorbar": {
              "outlinewidth": 0,
              "ticks": ""
             }
            },
            "type": "scattergeo"
           }
          ],
          "scattergl": [
           {
            "marker": {
             "colorbar": {
              "outlinewidth": 0,
              "ticks": ""
             }
            },
            "type": "scattergl"
           }
          ],
          "scattermapbox": [
           {
            "marker": {
             "colorbar": {
              "outlinewidth": 0,
              "ticks": ""
             }
            },
            "type": "scattermapbox"
           }
          ],
          "scatterpolar": [
           {
            "marker": {
             "colorbar": {
              "outlinewidth": 0,
              "ticks": ""
             }
            },
            "type": "scatterpolar"
           }
          ],
          "scatterpolargl": [
           {
            "marker": {
             "colorbar": {
              "outlinewidth": 0,
              "ticks": ""
             }
            },
            "type": "scatterpolargl"
           }
          ],
          "scatterternary": [
           {
            "marker": {
             "colorbar": {
              "outlinewidth": 0,
              "ticks": ""
             }
            },
            "type": "scatterternary"
           }
          ],
          "surface": [
           {
            "colorbar": {
             "outlinewidth": 0,
             "ticks": ""
            },
            "colorscale": [
             [
              0,
              "#0d0887"
             ],
             [
              0.1111111111111111,
              "#46039f"
             ],
             [
              0.2222222222222222,
              "#7201a8"
             ],
             [
              0.3333333333333333,
              "#9c179e"
             ],
             [
              0.4444444444444444,
              "#bd3786"
             ],
             [
              0.5555555555555556,
              "#d8576b"
             ],
             [
              0.6666666666666666,
              "#ed7953"
             ],
             [
              0.7777777777777778,
              "#fb9f3a"
             ],
             [
              0.8888888888888888,
              "#fdca26"
             ],
             [
              1,
              "#f0f921"
             ]
            ],
            "type": "surface"
           }
          ],
          "table": [
           {
            "cells": {
             "fill": {
              "color": "#EBF0F8"
             },
             "line": {
              "color": "white"
             }
            },
            "header": {
             "fill": {
              "color": "#C8D4E3"
             },
             "line": {
              "color": "white"
             }
            },
            "type": "table"
           }
          ]
         },
         "layout": {
          "annotationdefaults": {
           "arrowcolor": "#2a3f5f",
           "arrowhead": 0,
           "arrowwidth": 1
          },
          "autotypenumbers": "strict",
          "coloraxis": {
           "colorbar": {
            "outlinewidth": 0,
            "ticks": ""
           }
          },
          "colorscale": {
           "diverging": [
            [
             0,
             "#8e0152"
            ],
            [
             0.1,
             "#c51b7d"
            ],
            [
             0.2,
             "#de77ae"
            ],
            [
             0.3,
             "#f1b6da"
            ],
            [
             0.4,
             "#fde0ef"
            ],
            [
             0.5,
             "#f7f7f7"
            ],
            [
             0.6,
             "#e6f5d0"
            ],
            [
             0.7,
             "#b8e186"
            ],
            [
             0.8,
             "#7fbc41"
            ],
            [
             0.9,
             "#4d9221"
            ],
            [
             1,
             "#276419"
            ]
           ],
           "sequential": [
            [
             0,
             "#0d0887"
            ],
            [
             0.1111111111111111,
             "#46039f"
            ],
            [
             0.2222222222222222,
             "#7201a8"
            ],
            [
             0.3333333333333333,
             "#9c179e"
            ],
            [
             0.4444444444444444,
             "#bd3786"
            ],
            [
             0.5555555555555556,
             "#d8576b"
            ],
            [
             0.6666666666666666,
             "#ed7953"
            ],
            [
             0.7777777777777778,
             "#fb9f3a"
            ],
            [
             0.8888888888888888,
             "#fdca26"
            ],
            [
             1,
             "#f0f921"
            ]
           ],
           "sequentialminus": [
            [
             0,
             "#0d0887"
            ],
            [
             0.1111111111111111,
             "#46039f"
            ],
            [
             0.2222222222222222,
             "#7201a8"
            ],
            [
             0.3333333333333333,
             "#9c179e"
            ],
            [
             0.4444444444444444,
             "#bd3786"
            ],
            [
             0.5555555555555556,
             "#d8576b"
            ],
            [
             0.6666666666666666,
             "#ed7953"
            ],
            [
             0.7777777777777778,
             "#fb9f3a"
            ],
            [
             0.8888888888888888,
             "#fdca26"
            ],
            [
             1,
             "#f0f921"
            ]
           ]
          },
          "colorway": [
           "#636efa",
           "#EF553B",
           "#00cc96",
           "#ab63fa",
           "#FFA15A",
           "#19d3f3",
           "#FF6692",
           "#B6E880",
           "#FF97FF",
           "#FECB52"
          ],
          "font": {
           "color": "#2a3f5f"
          },
          "geo": {
           "bgcolor": "white",
           "lakecolor": "white",
           "landcolor": "white",
           "showlakes": true,
           "showland": true,
           "subunitcolor": "#C8D4E3"
          },
          "hoverlabel": {
           "align": "left"
          },
          "hovermode": "closest",
          "mapbox": {
           "style": "light"
          },
          "paper_bgcolor": "white",
          "plot_bgcolor": "white",
          "polar": {
           "angularaxis": {
            "gridcolor": "#EBF0F8",
            "linecolor": "#EBF0F8",
            "ticks": ""
           },
           "bgcolor": "white",
           "radialaxis": {
            "gridcolor": "#EBF0F8",
            "linecolor": "#EBF0F8",
            "ticks": ""
           }
          },
          "scene": {
           "xaxis": {
            "backgroundcolor": "white",
            "gridcolor": "#DFE8F3",
            "gridwidth": 2,
            "linecolor": "#EBF0F8",
            "showbackground": true,
            "ticks": "",
            "zerolinecolor": "#EBF0F8"
           },
           "yaxis": {
            "backgroundcolor": "white",
            "gridcolor": "#DFE8F3",
            "gridwidth": 2,
            "linecolor": "#EBF0F8",
            "showbackground": true,
            "ticks": "",
            "zerolinecolor": "#EBF0F8"
           },
           "zaxis": {
            "backgroundcolor": "white",
            "gridcolor": "#DFE8F3",
            "gridwidth": 2,
            "linecolor": "#EBF0F8",
            "showbackground": true,
            "ticks": "",
            "zerolinecolor": "#EBF0F8"
           }
          },
          "shapedefaults": {
           "line": {
            "color": "#2a3f5f"
           }
          },
          "ternary": {
           "aaxis": {
            "gridcolor": "#DFE8F3",
            "linecolor": "#A2B1C6",
            "ticks": ""
           },
           "baxis": {
            "gridcolor": "#DFE8F3",
            "linecolor": "#A2B1C6",
            "ticks": ""
           },
           "bgcolor": "white",
           "caxis": {
            "gridcolor": "#DFE8F3",
            "linecolor": "#A2B1C6",
            "ticks": ""
           }
          },
          "title": {
           "x": 0.05
          },
          "xaxis": {
           "automargin": true,
           "gridcolor": "#EBF0F8",
           "linecolor": "#EBF0F8",
           "ticks": "",
           "title": {
            "standoff": 15
           },
           "zerolinecolor": "#EBF0F8",
           "zerolinewidth": 2
          },
          "yaxis": {
           "automargin": true,
           "gridcolor": "#EBF0F8",
           "linecolor": "#EBF0F8",
           "ticks": "",
           "title": {
            "standoff": 15
           },
           "zerolinecolor": "#EBF0F8",
           "zerolinewidth": 2
          }
         }
        }
       }
      }
     },
     "metadata": {},
     "output_type": "display_data"
    },
    {
     "name": "stdout",
     "output_type": "stream",
     "text": [
      "Max utility value: \n",
      "[Fraction(0, 1) Fraction(1, 4) Fraction(1, 4) Fraction(1, 2)]\n",
      "[0.   0.25 0.25 0.5 ]\n",
      "0.037836250780585036\n"
     ]
    }
   ],
   "source": [
    "budget = 1\n",
    "gridSize = (10, 10)\n",
    "target = Node(9, 1)\n",
    "strategies = list([  \n",
    "    Strategy({ Action.DOWN: frac(1, 3), Action.RIGHT: frac(1, 3), Action.LEFT: frac(1, 3) }) \n",
    "])\n",
    "enumerated_strategies = dict(enumerate(strategies, start=1))\n",
    "\n",
    "pomdp = POMDP(gridSize=gridSize, target=target, model='grid', budget=budget)\n",
    "\n",
    "# Assign strategies to the nodes\n",
    "for node in pomdp.nodes: node.assign_strategy(enumerated_strategies[1], 1)\n",
    "observations =  {n: n.strategy_id for n in pomdp.nodes if n != target}\n",
    "\n",
    "# ---------------------------------------------------------\n",
    "# get one specific utility value\n",
    "# print(pomdp.utility(enumerated_strategies, assignments)[0])\n",
    "# ---------------------------------------------------------\n",
    "\n",
    "combinations_, U = pomdp.generate_points(enumerated_strategies, observations, sections=5)\n",
    "plot_actions_4D(combinations_, U, actions = [Action.DOWN, Action.RIGHT, Action.LEFT])\n",
    "\n",
    "# get the probability distribution of the actions that maximizes the utility\n",
    "max_index = np.argmax(U)\n",
    "approx = np.around(list(map(float, combinations_[max_index][0])), 2)\n",
    "\n",
    "print('Max utility value: ')\n",
    "print(combinations_[max_index][0])\n",
    "print(approx)\n",
    "print(U[max_index])"
   ]
  }
 ],
 "metadata": {
  "kernelspec": {
   "display_name": "env",
   "language": "python",
   "name": "python3"
  },
  "language_info": {
   "codemirror_mode": {
    "name": "ipython",
    "version": 3
   },
   "file_extension": ".py",
   "mimetype": "text/x-python",
   "name": "python",
   "nbconvert_exporter": "python",
   "pygments_lexer": "ipython3",
   "version": "3.12.2"
  }
 },
 "nbformat": 4,
 "nbformat_minor": 2
}
