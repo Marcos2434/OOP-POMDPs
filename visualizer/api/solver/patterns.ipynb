{
 "cells": [
  {
   "cell_type": "code",
   "execution_count": 1,
   "metadata": {},
   "outputs": [],
   "source": [
    "%load_ext autoreload\n",
    "%autoreload 2\n",
    "\n",
    "import numpy as np\n",
    "from pomdp import *\n",
    "from helpers import *\n",
    "from fractions import Fraction as frac"
   ]
  },
  {
   "cell_type": "markdown",
   "metadata": {},
   "source": [
    "## Budget 1"
   ]
  },
  {
   "cell_type": "markdown",
   "metadata": {},
   "source": [
    "10x10 grid with target at the bottom right"
   ]
  },
  {
   "cell_type": "code",
   "execution_count": 15,
   "metadata": {},
   "outputs": [
    {
     "data": {
      "application/vnd.plotly.v1+json": {
       "config": {
        "plotlyServerURL": "https://plot.ly"
       },
       "data": [
        {
         "marker": {
          "color": "blue",
          "line": {
           "color": "black",
           "width": 1
          },
          "opacity": 0.8,
          "size": 8
         },
         "mode": "markers",
         "type": "scatter3d",
         "x": [
          0,
          0.010101010101010102,
          0.020202020202020204,
          0.030303030303030304,
          0.04040404040404041,
          0.050505050505050504,
          0.06060606060606061,
          0.0707070707070707,
          0.08080808080808081,
          0.09090909090909091,
          0.10101010101010101,
          0.1111111111111111,
          0.12121212121212122,
          0.13131313131313133,
          0.1414141414141414,
          0.15151515151515152,
          0.16161616161616163,
          0.1717171717171717,
          0.18181818181818182,
          0.1919191919191919,
          0.20202020202020202,
          0.21212121212121213,
          0.2222222222222222,
          0.23232323232323232,
          0.24242424242424243,
          0.25252525252525254,
          0.26262626262626265,
          0.2727272727272727,
          0.2828282828282828,
          0.29292929292929293,
          0.30303030303030304,
          0.31313131313131315,
          0.32323232323232326,
          0.3333333333333333,
          0.3434343434343434,
          0.35353535353535354,
          0.36363636363636365,
          0.37373737373737376,
          0.3838383838383838,
          0.3939393939393939,
          0.40404040404040403,
          0.41414141414141414,
          0.42424242424242425,
          0.43434343434343436,
          0.4444444444444444,
          0.45454545454545453,
          0.46464646464646464,
          0.47474747474747475,
          0.48484848484848486,
          0.494949494949495,
          0.5050505050505051,
          0.5151515151515151,
          0.5252525252525253,
          0.5353535353535354,
          0.5454545454545454,
          0.5555555555555556,
          0.5656565656565656,
          0.5757575757575758,
          0.5858585858585859,
          0.5959595959595959,
          0.6060606060606061,
          0.6161616161616161,
          0.6262626262626263,
          0.6363636363636364,
          0.6464646464646465,
          0.6565656565656566,
          0.6666666666666666,
          0.6767676767676768,
          0.6868686868686869,
          0.696969696969697,
          0.7070707070707071,
          0.7171717171717171,
          0.7272727272727273,
          0.7373737373737373,
          0.7474747474747475,
          0.7575757575757576,
          0.7676767676767676,
          0.7777777777777778,
          0.7878787878787878,
          0.797979797979798,
          0.8080808080808081,
          0.8181818181818182,
          0.8282828282828283,
          0.8383838383838383,
          0.8484848484848485,
          0.8585858585858586,
          0.8686868686868687,
          0.8787878787878788,
          0.8888888888888888,
          0.898989898989899,
          0.9090909090909091,
          0.9191919191919192,
          0.9292929292929293,
          0.9393939393939394,
          0.9494949494949495,
          0.9595959595959596,
          0.9696969696969697,
          0.9797979797979798,
          0.98989898989899,
          1
         ],
         "y": [
          1,
          0.98989898989899,
          0.9797979797979798,
          0.9696969696969697,
          0.9595959595959596,
          0.9494949494949495,
          0.9393939393939394,
          0.9292929292929293,
          0.9191919191919192,
          0.9090909090909091,
          0.898989898989899,
          0.8888888888888888,
          0.8787878787878788,
          0.8686868686868687,
          0.8585858585858586,
          0.8484848484848485,
          0.8383838383838383,
          0.8282828282828283,
          0.8181818181818182,
          0.8080808080808081,
          0.797979797979798,
          0.7878787878787878,
          0.7777777777777778,
          0.7676767676767676,
          0.7575757575757576,
          0.7474747474747475,
          0.7373737373737373,
          0.7272727272727273,
          0.7171717171717171,
          0.7070707070707071,
          0.696969696969697,
          0.6868686868686869,
          0.6767676767676768,
          0.6666666666666666,
          0.6565656565656566,
          0.6464646464646465,
          0.6363636363636364,
          0.6262626262626263,
          0.6161616161616161,
          0.6060606060606061,
          0.5959595959595959,
          0.5858585858585859,
          0.5757575757575758,
          0.5656565656565656,
          0.5555555555555556,
          0.5454545454545454,
          0.5353535353535354,
          0.5252525252525253,
          0.5151515151515151,
          0.5050505050505051,
          0.494949494949495,
          0.48484848484848486,
          0.47474747474747475,
          0.46464646464646464,
          0.45454545454545453,
          0.4444444444444444,
          0.43434343434343436,
          0.42424242424242425,
          0.41414141414141414,
          0.40404040404040403,
          0.3939393939393939,
          0.3838383838383838,
          0.37373737373737376,
          0.36363636363636365,
          0.35353535353535354,
          0.3434343434343434,
          0.3333333333333333,
          0.32323232323232326,
          0.31313131313131315,
          0.30303030303030304,
          0.29292929292929293,
          0.2828282828282828,
          0.2727272727272727,
          0.26262626262626265,
          0.25252525252525254,
          0.24242424242424243,
          0.23232323232323232,
          0.2222222222222222,
          0.21212121212121213,
          0.20202020202020202,
          0.1919191919191919,
          0.18181818181818182,
          0.1717171717171717,
          0.16161616161616163,
          0.15151515151515152,
          0.1414141414141414,
          0.13131313131313133,
          0.12121212121212122,
          0.1111111111111111,
          0.10101010101010101,
          0.09090909090909091,
          0.08080808080808081,
          0.0707070707070707,
          0.06060606060606061,
          0.050505050505050504,
          0.04040404040404041,
          0.030303030303030304,
          0.020202020202020204,
          0.010101010101010102,
          0
         ],
         "z": [
          0,
          0.002219872294935136,
          0.004434609656316574,
          0.006643526778473449,
          0.008845892785820127,
          0.011040928657571518,
          0.013227804542446143,
          0.015405636964068714,
          0.017573485919081238,
          0.019730351871734737,
          0.021875172651134533,
          0.024006820260538884,
          0.02612409761235407,
          0.028225735207902176,
          0.030310387787800302,
          0.03237663098697033,
          0.034422958037917124,
          0.03644777657690913,
          0.03844940561991639,
          0.04042607278835175,
          0.04237591187846337,
          0.04429696088217489,
          0.04618716058069774,
          0.04804435384468849,
          0.0498662857853551,
          0.05165060490893197,
          0.053394865431515254,
          0.05509653091154305,
          0.05675297935242505,
          0.05836150991725293,
          0.059919351380564,
          0.06142367241837024,
          0.062871593806912,
          0.06426020256293578,
          0.06558656801413497,
          0.066847759738484,
          0.06804086725667273,
          0.06916302130420343,
          0.07021141645080266,
          0.07118333477677312,
          0.07207617026115569,
          0.07288745348759715,
          0.07361487623315378,
          0.07425631547529289,
          0.07480985633519664,
          0.07527381347281202,
          0.07564675046204626,
          0.07592749670352904,
          0.07611516147714975,
          0.07620914479604808,
          0.07620914479604808,
          0.07611516147714975,
          0.07592749670352904,
          0.07564675046204626,
          0.07527381347281202,
          0.07480985633519664,
          0.07425631547529289,
          0.07361487623315378,
          0.07288745348759715,
          0.07207617026115569,
          0.07118333477677312,
          0.07021141645080266,
          0.06916302130420343,
          0.06804086725667273,
          0.066847759738484,
          0.06558656801413497,
          0.06426020256293578,
          0.062871593806912,
          0.06142367241837024,
          0.059919351380564,
          0.05836150991725293,
          0.05675297935242505,
          0.05509653091154305,
          0.053394865431515254,
          0.05165060490893197,
          0.0498662857853551,
          0.04804435384468849,
          0.04618716058069774,
          0.04429696088217489,
          0.04237591187846337,
          0.04042607278835175,
          0.03844940561991639,
          0.03644777657690913,
          0.034422958037917124,
          0.03237663098697033,
          0.030310387787800302,
          0.028225735207902176,
          0.02612409761235407,
          0.024006820260538884,
          0.021875172651134533,
          0.019730351871734737,
          0.017573485919081238,
          0.015405636964068714,
          0.013227804542446143,
          0.011040928657571518,
          0.008845892785820127,
          0.006643526778473449,
          0.004434609656316574,
          0.002219872294935136,
          0
         ]
        }
       ],
       "layout": {
        "scene": {
         "xaxis": {
          "title": {
           "text": "d"
          }
         },
         "yaxis": {
          "title": {
           "text": "r"
          }
         },
         "zaxis": {
          "title": {
           "text": "Utility"
          }
         }
        },
        "template": {
         "data": {
          "bar": [
           {
            "error_x": {
             "color": "#f2f5fa"
            },
            "error_y": {
             "color": "#f2f5fa"
            },
            "marker": {
             "line": {
              "color": "rgb(17,17,17)",
              "width": 0.5
             },
             "pattern": {
              "fillmode": "overlay",
              "size": 10,
              "solidity": 0.2
             }
            },
            "type": "bar"
           }
          ],
          "barpolar": [
           {
            "marker": {
             "line": {
              "color": "rgb(17,17,17)",
              "width": 0.5
             },
             "pattern": {
              "fillmode": "overlay",
              "size": 10,
              "solidity": 0.2
             }
            },
            "type": "barpolar"
           }
          ],
          "carpet": [
           {
            "aaxis": {
             "endlinecolor": "#A2B1C6",
             "gridcolor": "#506784",
             "linecolor": "#506784",
             "minorgridcolor": "#506784",
             "startlinecolor": "#A2B1C6"
            },
            "baxis": {
             "endlinecolor": "#A2B1C6",
             "gridcolor": "#506784",
             "linecolor": "#506784",
             "minorgridcolor": "#506784",
             "startlinecolor": "#A2B1C6"
            },
            "type": "carpet"
           }
          ],
          "choropleth": [
           {
            "colorbar": {
             "outlinewidth": 0,
             "ticks": ""
            },
            "type": "choropleth"
           }
          ],
          "contour": [
           {
            "colorbar": {
             "outlinewidth": 0,
             "ticks": ""
            },
            "colorscale": [
             [
              0,
              "#0d0887"
             ],
             [
              0.1111111111111111,
              "#46039f"
             ],
             [
              0.2222222222222222,
              "#7201a8"
             ],
             [
              0.3333333333333333,
              "#9c179e"
             ],
             [
              0.4444444444444444,
              "#bd3786"
             ],
             [
              0.5555555555555556,
              "#d8576b"
             ],
             [
              0.6666666666666666,
              "#ed7953"
             ],
             [
              0.7777777777777778,
              "#fb9f3a"
             ],
             [
              0.8888888888888888,
              "#fdca26"
             ],
             [
              1,
              "#f0f921"
             ]
            ],
            "type": "contour"
           }
          ],
          "contourcarpet": [
           {
            "colorbar": {
             "outlinewidth": 0,
             "ticks": ""
            },
            "type": "contourcarpet"
           }
          ],
          "heatmap": [
           {
            "colorbar": {
             "outlinewidth": 0,
             "ticks": ""
            },
            "colorscale": [
             [
              0,
              "#0d0887"
             ],
             [
              0.1111111111111111,
              "#46039f"
             ],
             [
              0.2222222222222222,
              "#7201a8"
             ],
             [
              0.3333333333333333,
              "#9c179e"
             ],
             [
              0.4444444444444444,
              "#bd3786"
             ],
             [
              0.5555555555555556,
              "#d8576b"
             ],
             [
              0.6666666666666666,
              "#ed7953"
             ],
             [
              0.7777777777777778,
              "#fb9f3a"
             ],
             [
              0.8888888888888888,
              "#fdca26"
             ],
             [
              1,
              "#f0f921"
             ]
            ],
            "type": "heatmap"
           }
          ],
          "heatmapgl": [
           {
            "colorbar": {
             "outlinewidth": 0,
             "ticks": ""
            },
            "colorscale": [
             [
              0,
              "#0d0887"
             ],
             [
              0.1111111111111111,
              "#46039f"
             ],
             [
              0.2222222222222222,
              "#7201a8"
             ],
             [
              0.3333333333333333,
              "#9c179e"
             ],
             [
              0.4444444444444444,
              "#bd3786"
             ],
             [
              0.5555555555555556,
              "#d8576b"
             ],
             [
              0.6666666666666666,
              "#ed7953"
             ],
             [
              0.7777777777777778,
              "#fb9f3a"
             ],
             [
              0.8888888888888888,
              "#fdca26"
             ],
             [
              1,
              "#f0f921"
             ]
            ],
            "type": "heatmapgl"
           }
          ],
          "histogram": [
           {
            "marker": {
             "pattern": {
              "fillmode": "overlay",
              "size": 10,
              "solidity": 0.2
             }
            },
            "type": "histogram"
           }
          ],
          "histogram2d": [
           {
            "colorbar": {
             "outlinewidth": 0,
             "ticks": ""
            },
            "colorscale": [
             [
              0,
              "#0d0887"
             ],
             [
              0.1111111111111111,
              "#46039f"
             ],
             [
              0.2222222222222222,
              "#7201a8"
             ],
             [
              0.3333333333333333,
              "#9c179e"
             ],
             [
              0.4444444444444444,
              "#bd3786"
             ],
             [
              0.5555555555555556,
              "#d8576b"
             ],
             [
              0.6666666666666666,
              "#ed7953"
             ],
             [
              0.7777777777777778,
              "#fb9f3a"
             ],
             [
              0.8888888888888888,
              "#fdca26"
             ],
             [
              1,
              "#f0f921"
             ]
            ],
            "type": "histogram2d"
           }
          ],
          "histogram2dcontour": [
           {
            "colorbar": {
             "outlinewidth": 0,
             "ticks": ""
            },
            "colorscale": [
             [
              0,
              "#0d0887"
             ],
             [
              0.1111111111111111,
              "#46039f"
             ],
             [
              0.2222222222222222,
              "#7201a8"
             ],
             [
              0.3333333333333333,
              "#9c179e"
             ],
             [
              0.4444444444444444,
              "#bd3786"
             ],
             [
              0.5555555555555556,
              "#d8576b"
             ],
             [
              0.6666666666666666,
              "#ed7953"
             ],
             [
              0.7777777777777778,
              "#fb9f3a"
             ],
             [
              0.8888888888888888,
              "#fdca26"
             ],
             [
              1,
              "#f0f921"
             ]
            ],
            "type": "histogram2dcontour"
           }
          ],
          "mesh3d": [
           {
            "colorbar": {
             "outlinewidth": 0,
             "ticks": ""
            },
            "type": "mesh3d"
           }
          ],
          "parcoords": [
           {
            "line": {
             "colorbar": {
              "outlinewidth": 0,
              "ticks": ""
             }
            },
            "type": "parcoords"
           }
          ],
          "pie": [
           {
            "automargin": true,
            "type": "pie"
           }
          ],
          "scatter": [
           {
            "marker": {
             "line": {
              "color": "#283442"
             }
            },
            "type": "scatter"
           }
          ],
          "scatter3d": [
           {
            "line": {
             "colorbar": {
              "outlinewidth": 0,
              "ticks": ""
             }
            },
            "marker": {
             "colorbar": {
              "outlinewidth": 0,
              "ticks": ""
             }
            },
            "type": "scatter3d"
           }
          ],
          "scattercarpet": [
           {
            "marker": {
             "colorbar": {
              "outlinewidth": 0,
              "ticks": ""
             }
            },
            "type": "scattercarpet"
           }
          ],
          "scattergeo": [
           {
            "marker": {
             "colorbar": {
              "outlinewidth": 0,
              "ticks": ""
             }
            },
            "type": "scattergeo"
           }
          ],
          "scattergl": [
           {
            "marker": {
             "line": {
              "color": "#283442"
             }
            },
            "type": "scattergl"
           }
          ],
          "scattermapbox": [
           {
            "marker": {
             "colorbar": {
              "outlinewidth": 0,
              "ticks": ""
             }
            },
            "type": "scattermapbox"
           }
          ],
          "scatterpolar": [
           {
            "marker": {
             "colorbar": {
              "outlinewidth": 0,
              "ticks": ""
             }
            },
            "type": "scatterpolar"
           }
          ],
          "scatterpolargl": [
           {
            "marker": {
             "colorbar": {
              "outlinewidth": 0,
              "ticks": ""
             }
            },
            "type": "scatterpolargl"
           }
          ],
          "scatterternary": [
           {
            "marker": {
             "colorbar": {
              "outlinewidth": 0,
              "ticks": ""
             }
            },
            "type": "scatterternary"
           }
          ],
          "surface": [
           {
            "colorbar": {
             "outlinewidth": 0,
             "ticks": ""
            },
            "colorscale": [
             [
              0,
              "#0d0887"
             ],
             [
              0.1111111111111111,
              "#46039f"
             ],
             [
              0.2222222222222222,
              "#7201a8"
             ],
             [
              0.3333333333333333,
              "#9c179e"
             ],
             [
              0.4444444444444444,
              "#bd3786"
             ],
             [
              0.5555555555555556,
              "#d8576b"
             ],
             [
              0.6666666666666666,
              "#ed7953"
             ],
             [
              0.7777777777777778,
              "#fb9f3a"
             ],
             [
              0.8888888888888888,
              "#fdca26"
             ],
             [
              1,
              "#f0f921"
             ]
            ],
            "type": "surface"
           }
          ],
          "table": [
           {
            "cells": {
             "fill": {
              "color": "#506784"
             },
             "line": {
              "color": "rgb(17,17,17)"
             }
            },
            "header": {
             "fill": {
              "color": "#2a3f5f"
             },
             "line": {
              "color": "rgb(17,17,17)"
             }
            },
            "type": "table"
           }
          ]
         },
         "layout": {
          "annotationdefaults": {
           "arrowcolor": "#f2f5fa",
           "arrowhead": 0,
           "arrowwidth": 1
          },
          "autotypenumbers": "strict",
          "coloraxis": {
           "colorbar": {
            "outlinewidth": 0,
            "ticks": ""
           }
          },
          "colorscale": {
           "diverging": [
            [
             0,
             "#8e0152"
            ],
            [
             0.1,
             "#c51b7d"
            ],
            [
             0.2,
             "#de77ae"
            ],
            [
             0.3,
             "#f1b6da"
            ],
            [
             0.4,
             "#fde0ef"
            ],
            [
             0.5,
             "#f7f7f7"
            ],
            [
             0.6,
             "#e6f5d0"
            ],
            [
             0.7,
             "#b8e186"
            ],
            [
             0.8,
             "#7fbc41"
            ],
            [
             0.9,
             "#4d9221"
            ],
            [
             1,
             "#276419"
            ]
           ],
           "sequential": [
            [
             0,
             "#0d0887"
            ],
            [
             0.1111111111111111,
             "#46039f"
            ],
            [
             0.2222222222222222,
             "#7201a8"
            ],
            [
             0.3333333333333333,
             "#9c179e"
            ],
            [
             0.4444444444444444,
             "#bd3786"
            ],
            [
             0.5555555555555556,
             "#d8576b"
            ],
            [
             0.6666666666666666,
             "#ed7953"
            ],
            [
             0.7777777777777778,
             "#fb9f3a"
            ],
            [
             0.8888888888888888,
             "#fdca26"
            ],
            [
             1,
             "#f0f921"
            ]
           ],
           "sequentialminus": [
            [
             0,
             "#0d0887"
            ],
            [
             0.1111111111111111,
             "#46039f"
            ],
            [
             0.2222222222222222,
             "#7201a8"
            ],
            [
             0.3333333333333333,
             "#9c179e"
            ],
            [
             0.4444444444444444,
             "#bd3786"
            ],
            [
             0.5555555555555556,
             "#d8576b"
            ],
            [
             0.6666666666666666,
             "#ed7953"
            ],
            [
             0.7777777777777778,
             "#fb9f3a"
            ],
            [
             0.8888888888888888,
             "#fdca26"
            ],
            [
             1,
             "#f0f921"
            ]
           ]
          },
          "colorway": [
           "#636efa",
           "#EF553B",
           "#00cc96",
           "#ab63fa",
           "#FFA15A",
           "#19d3f3",
           "#FF6692",
           "#B6E880",
           "#FF97FF",
           "#FECB52"
          ],
          "font": {
           "color": "#f2f5fa"
          },
          "geo": {
           "bgcolor": "rgb(17,17,17)",
           "lakecolor": "rgb(17,17,17)",
           "landcolor": "rgb(17,17,17)",
           "showlakes": true,
           "showland": true,
           "subunitcolor": "#506784"
          },
          "hoverlabel": {
           "align": "left"
          },
          "hovermode": "closest",
          "mapbox": {
           "style": "dark"
          },
          "paper_bgcolor": "rgb(17,17,17)",
          "plot_bgcolor": "rgb(17,17,17)",
          "polar": {
           "angularaxis": {
            "gridcolor": "#506784",
            "linecolor": "#506784",
            "ticks": ""
           },
           "bgcolor": "rgb(17,17,17)",
           "radialaxis": {
            "gridcolor": "#506784",
            "linecolor": "#506784",
            "ticks": ""
           }
          },
          "scene": {
           "xaxis": {
            "backgroundcolor": "rgb(17,17,17)",
            "gridcolor": "#506784",
            "gridwidth": 2,
            "linecolor": "#506784",
            "showbackground": true,
            "ticks": "",
            "zerolinecolor": "#C8D4E3"
           },
           "yaxis": {
            "backgroundcolor": "rgb(17,17,17)",
            "gridcolor": "#506784",
            "gridwidth": 2,
            "linecolor": "#506784",
            "showbackground": true,
            "ticks": "",
            "zerolinecolor": "#C8D4E3"
           },
           "zaxis": {
            "backgroundcolor": "rgb(17,17,17)",
            "gridcolor": "#506784",
            "gridwidth": 2,
            "linecolor": "#506784",
            "showbackground": true,
            "ticks": "",
            "zerolinecolor": "#C8D4E3"
           }
          },
          "shapedefaults": {
           "line": {
            "color": "#f2f5fa"
           }
          },
          "sliderdefaults": {
           "bgcolor": "#C8D4E3",
           "bordercolor": "rgb(17,17,17)",
           "borderwidth": 1,
           "tickwidth": 0
          },
          "ternary": {
           "aaxis": {
            "gridcolor": "#506784",
            "linecolor": "#506784",
            "ticks": ""
           },
           "baxis": {
            "gridcolor": "#506784",
            "linecolor": "#506784",
            "ticks": ""
           },
           "bgcolor": "rgb(17,17,17)",
           "caxis": {
            "gridcolor": "#506784",
            "linecolor": "#506784",
            "ticks": ""
           }
          },
          "title": {
           "x": 0.05
          },
          "updatemenudefaults": {
           "bgcolor": "#506784",
           "borderwidth": 0
          },
          "xaxis": {
           "automargin": true,
           "gridcolor": "#283442",
           "linecolor": "#506784",
           "ticks": "",
           "title": {
            "standoff": 15
           },
           "zerolinecolor": "#283442",
           "zerolinewidth": 2
          },
          "yaxis": {
           "automargin": true,
           "gridcolor": "#283442",
           "linecolor": "#506784",
           "ticks": "",
           "title": {
            "standoff": 15
           },
           "zerolinecolor": "#283442",
           "zerolinewidth": 2
          }
         }
        },
        "title": {
         "text": "3D Scatter Plot"
        }
       }
      }
     },
     "metadata": {},
     "output_type": "display_data"
    },
    {
     "name": "stdout",
     "output_type": "stream",
     "text": [
      "[[Fraction(0, 1) Fraction(50, 99) Fraction(49, 99) Fraction(0, 1)]]\n",
      "0.07620914479604808\n"
     ]
    }
   ],
   "source": [
    "budget = 1\n",
    "gridSize = (10, 10)\n",
    "target = Node(9, 9)\n",
    "strategies = list([  \n",
    "    Strategy({ Action.DOWN: frac(1, 2), Action.RIGHT: frac(1, 2) }) \n",
    "])\n",
    "enumerated_strategies = dict(enumerate(strategies, start=1))\n",
    "\n",
    "pomdp = POMDP(gridSize=gridSize, target=target, model='grid', budget=budget)\n",
    "\n",
    "# Assign strategies to the nodes\n",
    "for node in pomdp.nodes: node.assign_strategy(enumerated_strategies[1], 1)\n",
    "assignments =  {n: n.strategy_id for n in pomdp.nodes if n != target}\n",
    "\n",
    "# ---------------------------------------------------------\n",
    "# get one specific utility value\n",
    "# print(pomdp.utility(enumerated_strategies, assignments)[0])\n",
    "# ---------------------------------------------------------\n",
    "\n",
    "combinations_, U = pomdp.generate_points(enumerated_strategies, assignments, samples=100, write_to_file=True)\n",
    "plot_actions_3D(combinations_, U, actions = [Action.DOWN, Action.RIGHT])\n",
    "\n",
    "# get the probability distribution of the actions that maximizes the utility\n",
    "max_index = np.argmax(U)\n",
    "print(combinations_[max_index]) \n",
    "print(U[max_index]) # 0.07480985633519664"
   ]
  },
  {
   "cell_type": "markdown",
   "metadata": {},
   "source": [
    "10x10 grid with the target close to the bottom left."
   ]
  },
  {
   "cell_type": "code",
   "execution_count": 18,
   "metadata": {},
   "outputs": [
    {
     "name": "stdout",
     "output_type": "stream",
     "text": [
      "39.39393939393939\n"
     ]
    }
   ],
   "source": [
    "budget = 1\n",
    "gridSize = (10, 10)\n",
    "target = Node(9, 5)\n",
    "strategies = list([ \n",
    "    Strategy({ Action.DOWN: frac(1, 3), Action.RIGHT: frac(1, 3), Action.LEFT: frac(1, 3) }) \n",
    "])\n",
    "enumerated_strategies = dict(enumerate(strategies, start=1))\n",
    "\n",
    "pomdp = POMDP(gridSize=gridSize, target=target, model='grid', budget=budget)\n",
    "\n",
    "# Assign strategies to the nodes\n",
    "for node in pomdp.nodes: node.assign_strategy(enumerated_strategies[1], 1)\n",
    "assignments =  {n: n.strategy_id for n in pomdp.nodes if n != target}\n",
    "\n",
    "# ---------------------------------------------------------\n",
    "# get one specific utility value\n",
    "# print(pomdp.utility(enumerated_strategies, assignments)[0])\n",
    "# ---------------------------------------------------------\n",
    "\n",
    "combinations_, U = pomdp.generate_points(enumerated_strategies, assignments, samples=10, write_to_file=True)\n",
    "plot_actions_4D(combinations_, U, actions = [Action.DOWN, Action.RIGHT, Action.LEFT])\n"
   ]
  },
  {
   "cell_type": "code",
   "execution_count": null,
   "metadata": {},
   "outputs": [],
   "source": []
  }
 ],
 "metadata": {
  "kernelspec": {
   "display_name": "env",
   "language": "python",
   "name": "python3"
  },
  "language_info": {
   "codemirror_mode": {
    "name": "ipython",
    "version": 3
   },
   "file_extension": ".py",
   "mimetype": "text/x-python",
   "name": "python",
   "nbconvert_exporter": "python",
   "pygments_lexer": "ipython3",
   "version": "3.12.2"
  }
 },
 "nbformat": 4,
 "nbformat_minor": 2
}
