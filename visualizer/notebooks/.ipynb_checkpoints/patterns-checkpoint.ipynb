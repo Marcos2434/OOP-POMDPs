{
 "cells": [
  {
   "cell_type": "code",
   "execution_count": 1,
   "metadata": {},
   "outputs": [
    {
     "name": "stdout",
     "output_type": "stream",
     "text": [
      "/Users/marcos/Documents/github_projects/POMDPs/visualizer/notebooks\n",
      "/Users/marcos/Documents/github_projects/POMDPs/visualizer/notebooks\n",
      "/Users/marcos/Documents/github_projects/POMDPs/visualizer/solver/utility_functions/generated_models\n"
     ]
    }
   ],
   "source": [
    "%load_ext autoreload\n",
    "%autoreload 2\n",
    "\n",
    "\n",
    "# Adjusting the python path to manage compatability between the notebook and the server\n",
    "import sys\n",
    "import os\n",
    "from pathlib import Path\n",
    "sys.path.append(os.path.abspath(os.path.join('..')))\n",
    "\n",
    "import numpy as np\n",
    "from solver.pomdp import *\n",
    "from solver.helpers import *\n",
    "from fractions import Fraction as frac"
   ]
  },
  {
   "cell_type": "markdown",
   "metadata": {},
   "source": [
    "## Budget 1"
   ]
  },
  {
   "cell_type": "markdown",
   "metadata": {},
   "source": [
    "5x5 grid with target at the bottom right"
   ]
  },
  {
   "cell_type": "code",
   "execution_count": 3,
   "metadata": {},
   "outputs": [
    {
     "name": "stdout",
     "output_type": "stream",
     "text": [
      "[[0. 0. 1. 0.]\n",
      " [0. 1. 0. 0.]] (2, 4)\n"
     ]
    },
    {
     "data": {
      "application/vnd.plotly.v1+json": {
       "config": {
        "plotlyServerURL": "https://plot.ly"
       },
       "data": [
        {
         "marker": {
          "color": [
           "blue",
           "blue",
           "blue",
           "blue",
           "blue",
           "blue",
           "blue",
           "red",
           "blue",
           "blue",
           "blue",
           "blue",
           "blue",
           "blue",
           "blue"
          ],
          "line": {
           "color": "black",
           "width": 1
          },
          "opacity": 0.8,
          "size": 8
         },
         "mode": "markers",
         "type": "scatter3d",
         "x": [
          0,
          0.07142857142857142,
          0.14285714285714285,
          0.21428571428571427,
          0.2857142857142857,
          0.35714285714285715,
          0.42857142857142855,
          0.5,
          0.5714285714285714,
          0.6428571428571429,
          0.7142857142857143,
          0.7857142857142857,
          0.8571428571428571,
          0.9285714285714286,
          1
         ],
         "y": [
          1,
          0.9285714285714286,
          0.8571428571428571,
          0.7857142857142857,
          0.7142857142857143,
          0.6428571428571429,
          0.5714285714285714,
          0.5,
          0.42857142857142855,
          0.35714285714285715,
          0.2857142857142857,
          0.21428571428571427,
          0.14285714285714285,
          0.07142857142857142,
          0
         ],
         "z": [
          0,
          0.033687718617547005,
          0.06565489567291201,
          0.09488418375432525,
          0.12005079115104712,
          0.13962446578318868,
          0.1521149182414423,
          0.15641547861507127,
          0.1521149182414423,
          0.13962446578318868,
          0.12005079115104712,
          0.09488418375432525,
          0.06565489567291201,
          0.033687718617547005,
          0
         ]
        }
       ],
       "layout": {
        "scene": {
         "xaxis": {
          "range": [
           0,
           1
          ],
          "title": {
           "text": "d"
          }
         },
         "yaxis": {
          "range": [
           0,
           1
          ],
          "title": {
           "text": "r"
          }
         },
         "zaxis": {
          "title": {
           "text": "Utility"
          }
         }
        },
        "template": {
         "data": {
          "bar": [
           {
            "error_x": {
             "color": "#2a3f5f"
            },
            "error_y": {
             "color": "#2a3f5f"
            },
            "marker": {
             "line": {
              "color": "white",
              "width": 0.5
             },
             "pattern": {
              "fillmode": "overlay",
              "size": 10,
              "solidity": 0.2
             }
            },
            "type": "bar"
           }
          ],
          "barpolar": [
           {
            "marker": {
             "line": {
              "color": "white",
              "width": 0.5
             },
             "pattern": {
              "fillmode": "overlay",
              "size": 10,
              "solidity": 0.2
             }
            },
            "type": "barpolar"
           }
          ],
          "carpet": [
           {
            "aaxis": {
             "endlinecolor": "#2a3f5f",
             "gridcolor": "#C8D4E3",
             "linecolor": "#C8D4E3",
             "minorgridcolor": "#C8D4E3",
             "startlinecolor": "#2a3f5f"
            },
            "baxis": {
             "endlinecolor": "#2a3f5f",
             "gridcolor": "#C8D4E3",
             "linecolor": "#C8D4E3",
             "minorgridcolor": "#C8D4E3",
             "startlinecolor": "#2a3f5f"
            },
            "type": "carpet"
           }
          ],
          "choropleth": [
           {
            "colorbar": {
             "outlinewidth": 0,
             "ticks": ""
            },
            "type": "choropleth"
           }
          ],
          "contour": [
           {
            "colorbar": {
             "outlinewidth": 0,
             "ticks": ""
            },
            "colorscale": [
             [
              0,
              "#0d0887"
             ],
             [
              0.1111111111111111,
              "#46039f"
             ],
             [
              0.2222222222222222,
              "#7201a8"
             ],
             [
              0.3333333333333333,
              "#9c179e"
             ],
             [
              0.4444444444444444,
              "#bd3786"
             ],
             [
              0.5555555555555556,
              "#d8576b"
             ],
             [
              0.6666666666666666,
              "#ed7953"
             ],
             [
              0.7777777777777778,
              "#fb9f3a"
             ],
             [
              0.8888888888888888,
              "#fdca26"
             ],
             [
              1,
              "#f0f921"
             ]
            ],
            "type": "contour"
           }
          ],
          "contourcarpet": [
           {
            "colorbar": {
             "outlinewidth": 0,
             "ticks": ""
            },
            "type": "contourcarpet"
           }
          ],
          "heatmap": [
           {
            "colorbar": {
             "outlinewidth": 0,
             "ticks": ""
            },
            "colorscale": [
             [
              0,
              "#0d0887"
             ],
             [
              0.1111111111111111,
              "#46039f"
             ],
             [
              0.2222222222222222,
              "#7201a8"
             ],
             [
              0.3333333333333333,
              "#9c179e"
             ],
             [
              0.4444444444444444,
              "#bd3786"
             ],
             [
              0.5555555555555556,
              "#d8576b"
             ],
             [
              0.6666666666666666,
              "#ed7953"
             ],
             [
              0.7777777777777778,
              "#fb9f3a"
             ],
             [
              0.8888888888888888,
              "#fdca26"
             ],
             [
              1,
              "#f0f921"
             ]
            ],
            "type": "heatmap"
           }
          ],
          "heatmapgl": [
           {
            "colorbar": {
             "outlinewidth": 0,
             "ticks": ""
            },
            "colorscale": [
             [
              0,
              "#0d0887"
             ],
             [
              0.1111111111111111,
              "#46039f"
             ],
             [
              0.2222222222222222,
              "#7201a8"
             ],
             [
              0.3333333333333333,
              "#9c179e"
             ],
             [
              0.4444444444444444,
              "#bd3786"
             ],
             [
              0.5555555555555556,
              "#d8576b"
             ],
             [
              0.6666666666666666,
              "#ed7953"
             ],
             [
              0.7777777777777778,
              "#fb9f3a"
             ],
             [
              0.8888888888888888,
              "#fdca26"
             ],
             [
              1,
              "#f0f921"
             ]
            ],
            "type": "heatmapgl"
           }
          ],
          "histogram": [
           {
            "marker": {
             "pattern": {
              "fillmode": "overlay",
              "size": 10,
              "solidity": 0.2
             }
            },
            "type": "histogram"
           }
          ],
          "histogram2d": [
           {
            "colorbar": {
             "outlinewidth": 0,
             "ticks": ""
            },
            "colorscale": [
             [
              0,
              "#0d0887"
             ],
             [
              0.1111111111111111,
              "#46039f"
             ],
             [
              0.2222222222222222,
              "#7201a8"
             ],
             [
              0.3333333333333333,
              "#9c179e"
             ],
             [
              0.4444444444444444,
              "#bd3786"
             ],
             [
              0.5555555555555556,
              "#d8576b"
             ],
             [
              0.6666666666666666,
              "#ed7953"
             ],
             [
              0.7777777777777778,
              "#fb9f3a"
             ],
             [
              0.8888888888888888,
              "#fdca26"
             ],
             [
              1,
              "#f0f921"
             ]
            ],
            "type": "histogram2d"
           }
          ],
          "histogram2dcontour": [
           {
            "colorbar": {
             "outlinewidth": 0,
             "ticks": ""
            },
            "colorscale": [
             [
              0,
              "#0d0887"
             ],
             [
              0.1111111111111111,
              "#46039f"
             ],
             [
              0.2222222222222222,
              "#7201a8"
             ],
             [
              0.3333333333333333,
              "#9c179e"
             ],
             [
              0.4444444444444444,
              "#bd3786"
             ],
             [
              0.5555555555555556,
              "#d8576b"
             ],
             [
              0.6666666666666666,
              "#ed7953"
             ],
             [
              0.7777777777777778,
              "#fb9f3a"
             ],
             [
              0.8888888888888888,
              "#fdca26"
             ],
             [
              1,
              "#f0f921"
             ]
            ],
            "type": "histogram2dcontour"
           }
          ],
          "mesh3d": [
           {
            "colorbar": {
             "outlinewidth": 0,
             "ticks": ""
            },
            "type": "mesh3d"
           }
          ],
          "parcoords": [
           {
            "line": {
             "colorbar": {
              "outlinewidth": 0,
              "ticks": ""
             }
            },
            "type": "parcoords"
           }
          ],
          "pie": [
           {
            "automargin": true,
            "type": "pie"
           }
          ],
          "scatter": [
           {
            "fillpattern": {
             "fillmode": "overlay",
             "size": 10,
             "solidity": 0.2
            },
            "type": "scatter"
           }
          ],
          "scatter3d": [
           {
            "line": {
             "colorbar": {
              "outlinewidth": 0,
              "ticks": ""
             }
            },
            "marker": {
             "colorbar": {
              "outlinewidth": 0,
              "ticks": ""
             }
            },
            "type": "scatter3d"
           }
          ],
          "scattercarpet": [
           {
            "marker": {
             "colorbar": {
              "outlinewidth": 0,
              "ticks": ""
             }
            },
            "type": "scattercarpet"
           }
          ],
          "scattergeo": [
           {
            "marker": {
             "colorbar": {
              "outlinewidth": 0,
              "ticks": ""
             }
            },
            "type": "scattergeo"
           }
          ],
          "scattergl": [
           {
            "marker": {
             "colorbar": {
              "outlinewidth": 0,
              "ticks": ""
             }
            },
            "type": "scattergl"
           }
          ],
          "scattermapbox": [
           {
            "marker": {
             "colorbar": {
              "outlinewidth": 0,
              "ticks": ""
             }
            },
            "type": "scattermapbox"
           }
          ],
          "scatterpolar": [
           {
            "marker": {
             "colorbar": {
              "outlinewidth": 0,
              "ticks": ""
             }
            },
            "type": "scatterpolar"
           }
          ],
          "scatterpolargl": [
           {
            "marker": {
             "colorbar": {
              "outlinewidth": 0,
              "ticks": ""
             }
            },
            "type": "scatterpolargl"
           }
          ],
          "scatterternary": [
           {
            "marker": {
             "colorbar": {
              "outlinewidth": 0,
              "ticks": ""
             }
            },
            "type": "scatterternary"
           }
          ],
          "surface": [
           {
            "colorbar": {
             "outlinewidth": 0,
             "ticks": ""
            },
            "colorscale": [
             [
              0,
              "#0d0887"
             ],
             [
              0.1111111111111111,
              "#46039f"
             ],
             [
              0.2222222222222222,
              "#7201a8"
             ],
             [
              0.3333333333333333,
              "#9c179e"
             ],
             [
              0.4444444444444444,
              "#bd3786"
             ],
             [
              0.5555555555555556,
              "#d8576b"
             ],
             [
              0.6666666666666666,
              "#ed7953"
             ],
             [
              0.7777777777777778,
              "#fb9f3a"
             ],
             [
              0.8888888888888888,
              "#fdca26"
             ],
             [
              1,
              "#f0f921"
             ]
            ],
            "type": "surface"
           }
          ],
          "table": [
           {
            "cells": {
             "fill": {
              "color": "#EBF0F8"
             },
             "line": {
              "color": "white"
             }
            },
            "header": {
             "fill": {
              "color": "#C8D4E3"
             },
             "line": {
              "color": "white"
             }
            },
            "type": "table"
           }
          ]
         },
         "layout": {
          "annotationdefaults": {
           "arrowcolor": "#2a3f5f",
           "arrowhead": 0,
           "arrowwidth": 1
          },
          "autotypenumbers": "strict",
          "coloraxis": {
           "colorbar": {
            "outlinewidth": 0,
            "ticks": ""
           }
          },
          "colorscale": {
           "diverging": [
            [
             0,
             "#8e0152"
            ],
            [
             0.1,
             "#c51b7d"
            ],
            [
             0.2,
             "#de77ae"
            ],
            [
             0.3,
             "#f1b6da"
            ],
            [
             0.4,
             "#fde0ef"
            ],
            [
             0.5,
             "#f7f7f7"
            ],
            [
             0.6,
             "#e6f5d0"
            ],
            [
             0.7,
             "#b8e186"
            ],
            [
             0.8,
             "#7fbc41"
            ],
            [
             0.9,
             "#4d9221"
            ],
            [
             1,
             "#276419"
            ]
           ],
           "sequential": [
            [
             0,
             "#0d0887"
            ],
            [
             0.1111111111111111,
             "#46039f"
            ],
            [
             0.2222222222222222,
             "#7201a8"
            ],
            [
             0.3333333333333333,
             "#9c179e"
            ],
            [
             0.4444444444444444,
             "#bd3786"
            ],
            [
             0.5555555555555556,
             "#d8576b"
            ],
            [
             0.6666666666666666,
             "#ed7953"
            ],
            [
             0.7777777777777778,
             "#fb9f3a"
            ],
            [
             0.8888888888888888,
             "#fdca26"
            ],
            [
             1,
             "#f0f921"
            ]
           ],
           "sequentialminus": [
            [
             0,
             "#0d0887"
            ],
            [
             0.1111111111111111,
             "#46039f"
            ],
            [
             0.2222222222222222,
             "#7201a8"
            ],
            [
             0.3333333333333333,
             "#9c179e"
            ],
            [
             0.4444444444444444,
             "#bd3786"
            ],
            [
             0.5555555555555556,
             "#d8576b"
            ],
            [
             0.6666666666666666,
             "#ed7953"
            ],
            [
             0.7777777777777778,
             "#fb9f3a"
            ],
            [
             0.8888888888888888,
             "#fdca26"
            ],
            [
             1,
             "#f0f921"
            ]
           ]
          },
          "colorway": [
           "#636efa",
           "#EF553B",
           "#00cc96",
           "#ab63fa",
           "#FFA15A",
           "#19d3f3",
           "#FF6692",
           "#B6E880",
           "#FF97FF",
           "#FECB52"
          ],
          "font": {
           "color": "#2a3f5f"
          },
          "geo": {
           "bgcolor": "white",
           "lakecolor": "white",
           "landcolor": "white",
           "showlakes": true,
           "showland": true,
           "subunitcolor": "#C8D4E3"
          },
          "hoverlabel": {
           "align": "left"
          },
          "hovermode": "closest",
          "mapbox": {
           "style": "light"
          },
          "paper_bgcolor": "white",
          "plot_bgcolor": "white",
          "polar": {
           "angularaxis": {
            "gridcolor": "#EBF0F8",
            "linecolor": "#EBF0F8",
            "ticks": ""
           },
           "bgcolor": "white",
           "radialaxis": {
            "gridcolor": "#EBF0F8",
            "linecolor": "#EBF0F8",
            "ticks": ""
           }
          },
          "scene": {
           "xaxis": {
            "backgroundcolor": "white",
            "gridcolor": "#DFE8F3",
            "gridwidth": 2,
            "linecolor": "#EBF0F8",
            "showbackground": true,
            "ticks": "",
            "zerolinecolor": "#EBF0F8"
           },
           "yaxis": {
            "backgroundcolor": "white",
            "gridcolor": "#DFE8F3",
            "gridwidth": 2,
            "linecolor": "#EBF0F8",
            "showbackground": true,
            "ticks": "",
            "zerolinecolor": "#EBF0F8"
           },
           "zaxis": {
            "backgroundcolor": "white",
            "gridcolor": "#DFE8F3",
            "gridwidth": 2,
            "linecolor": "#EBF0F8",
            "showbackground": true,
            "ticks": "",
            "zerolinecolor": "#EBF0F8"
           }
          },
          "shapedefaults": {
           "line": {
            "color": "#2a3f5f"
           }
          },
          "ternary": {
           "aaxis": {
            "gridcolor": "#DFE8F3",
            "linecolor": "#A2B1C6",
            "ticks": ""
           },
           "baxis": {
            "gridcolor": "#DFE8F3",
            "linecolor": "#A2B1C6",
            "ticks": ""
           },
           "bgcolor": "white",
           "caxis": {
            "gridcolor": "#DFE8F3",
            "linecolor": "#A2B1C6",
            "ticks": ""
           }
          },
          "title": {
           "x": 0.05
          },
          "xaxis": {
           "automargin": true,
           "gridcolor": "#EBF0F8",
           "linecolor": "#EBF0F8",
           "ticks": "",
           "title": {
            "standoff": 15
           },
           "zerolinecolor": "#EBF0F8",
           "zerolinewidth": 2
          },
          "yaxis": {
           "automargin": true,
           "gridcolor": "#EBF0F8",
           "linecolor": "#EBF0F8",
           "ticks": "",
           "title": {
            "standoff": 15
           },
           "zerolinecolor": "#EBF0F8",
           "zerolinewidth": 2
          }
         }
        },
        "title": {
         "text": "3D Scatter Plot"
        }
       }
      }
     },
     "metadata": {},
     "output_type": "display_data"
    },
    {
     "name": "stdout",
     "output_type": "stream",
     "text": [
      "Max utility value: \n",
      "[Fraction(0, 1) Fraction(1, 2) Fraction(1, 2) Fraction(0, 1)]\n",
      "[0.  0.5 0.5 0. ]\n",
      "0.15641547861507127\n"
     ]
    }
   ],
   "source": [
    "budget = 1\n",
    "gridSize = (5, 5)\n",
    "target = Node(4, 4)\n",
    "strategies = list([  \n",
    "    Strategy({ Action.DOWN: frac(1, 2), Action.RIGHT: frac(1, 2) }) \n",
    "])\n",
    "enumerated_strategies = dict(enumerate(strategies, start=1))\n",
    "\n",
    "pomdp = POMDP(gridSize=gridSize, target=target, model='grid', budget=budget)\n",
    "\n",
    "# Assign strategies to the nodes\n",
    "for node in pomdp.nodes: node.assign_strategy(enumerated_strategies[1], 1)\n",
    "observations =  {n: n.strategy_id for n in pomdp.nodes if n != target}\n",
    "\n",
    "# ---------------------------------------------------------\n",
    "# get one specific utility value\n",
    "# print(pomdp.utility(enumerated_strategies, assignments)[0])\n",
    "# ---------------------------------------------------------\n",
    "\n",
    "combinations_, U = pomdp.generate_points(enumerated_strategies, observations, sections=15, write_to_file=True)\n",
    "plot_actions_3D(combinations_, U, actions = [Action.DOWN, Action.RIGHT])\n",
    "\n",
    "# get the probability distribution of the actions that maximizes the utility\n",
    "max_index = np.argmax(U)\n",
    "approx = np.around(list(map(float, combinations_[max_index][0])), 2)\n",
    "\n",
    "print('Max utility value: ')\n",
    "print(combinations_[max_index][0])\n",
    "print(approx)\n",
    "print(U[max_index])"
   ]
  },
  {
   "cell_type": "markdown",
   "metadata": {},
   "source": [
    "5x5 grid with the target in the bottom middle"
   ]
  },
  {
   "cell_type": "code",
   "execution_count": 4,
   "metadata": {},
   "outputs": [
    {
     "data": {
      "application/vnd.plotly.v1+json": {
       "config": {
        "plotlyServerURL": "https://plot.ly"
       },
       "data": [
        {
         "marker": {
          "color": [
           "blue",
           "blue",
           "blue",
           "blue",
           "blue",
           "blue",
           "blue",
           "blue",
           "blue",
           "blue",
           "blue",
           "blue",
           "blue",
           "blue",
           "blue",
           "blue",
           "blue",
           "blue",
           "blue",
           "blue",
           "blue",
           "blue",
           "blue",
           "blue",
           "blue",
           "blue",
           "blue",
           "blue",
           "blue",
           "blue",
           "red",
           "blue",
           "blue",
           "blue",
           "blue",
           "blue",
           "blue",
           "blue",
           "blue",
           "blue",
           "blue",
           "blue",
           "blue",
           "blue",
           "blue",
           "blue",
           "blue",
           "blue",
           "blue",
           "blue",
           "blue",
           "blue",
           "blue",
           "blue",
           "blue"
          ],
          "opacity": 0.7,
          "size": [
           1,
           1,
           1,
           1,
           1,
           1,
           1,
           1,
           1,
           1,
           1,
           3.7268651583488306,
           7.665513931366941,
           10.226050477754526,
           11.133333333333333,
           10.226050477754526,
           7.665513931366941,
           3.7268651583488306,
           1,
           1,
           4.621403502119453,
           11.363944863211739,
           16.379090565894792,
           16.379090565894792,
           11.363944863211739,
           4.621403502119453,
           1,
           1,
           5.692180782088191,
           14.986566835066487,
           20,
           14.986566835066487,
           5.692180782088191,
           1,
           1,
           7.204044113006889,
           18.359803404172567,
           18.359803404172567,
           7.204044113006889,
           1,
           1,
           9.35372214991232,
           19.095238095238095,
           9.35372214991232,
           1,
           1,
           11.977376529652108,
           11.977376529652108,
           1,
           1,
           12.083333333333334,
           1,
           1,
           1,
           1
          ]
         },
         "mode": "markers",
         "type": "scatter3d",
         "x": [
          0,
          0,
          0,
          0,
          0,
          0,
          0,
          0,
          0,
          0,
          0.1111111111111111,
          0.1111111111111111,
          0.1111111111111111,
          0.1111111111111111,
          0.1111111111111111,
          0.1111111111111111,
          0.1111111111111111,
          0.1111111111111111,
          0.1111111111111111,
          0.2222222222222222,
          0.2222222222222222,
          0.2222222222222222,
          0.2222222222222222,
          0.2222222222222222,
          0.2222222222222222,
          0.2222222222222222,
          0.2222222222222222,
          0.3333333333333333,
          0.3333333333333333,
          0.3333333333333333,
          0.3333333333333333,
          0.3333333333333333,
          0.3333333333333333,
          0.3333333333333333,
          0.4444444444444444,
          0.4444444444444444,
          0.4444444444444444,
          0.4444444444444444,
          0.4444444444444444,
          0.4444444444444444,
          0.5555555555555556,
          0.5555555555555556,
          0.5555555555555556,
          0.5555555555555556,
          0.5555555555555556,
          0.6666666666666666,
          0.6666666666666666,
          0.6666666666666666,
          0.6666666666666666,
          0.7777777777777778,
          0.7777777777777778,
          0.7777777777777778,
          0.8888888888888888,
          0.8888888888888888,
          1
         ],
         "y": [
          0,
          0.1111111111111111,
          0.2222222222222222,
          0.3333333333333333,
          0.4444444444444444,
          0.5555555555555556,
          0.6666666666666666,
          0.7777777777777778,
          0.8888888888888888,
          1,
          0,
          0.1111111111111111,
          0.2222222222222222,
          0.3333333333333333,
          0.4444444444444444,
          0.5555555555555556,
          0.6666666666666666,
          0.7777777777777778,
          0.8888888888888888,
          0,
          0.1111111111111111,
          0.2222222222222222,
          0.3333333333333333,
          0.4444444444444444,
          0.5555555555555556,
          0.6666666666666666,
          0.7777777777777778,
          0,
          0.1111111111111111,
          0.2222222222222222,
          0.3333333333333333,
          0.4444444444444444,
          0.5555555555555556,
          0.6666666666666666,
          0,
          0.1111111111111111,
          0.2222222222222222,
          0.3333333333333333,
          0.4444444444444444,
          0.5555555555555556,
          0,
          0.1111111111111111,
          0.2222222222222222,
          0.3333333333333333,
          0.4444444444444444,
          0,
          0.1111111111111111,
          0.2222222222222222,
          0.3333333333333333,
          0,
          0.1111111111111111,
          0.2222222222222222,
          0,
          0.1111111111111111,
          0
         ],
         "z": [
          1,
          0.8888888888888888,
          0.7777777777777778,
          0.6666666666666666,
          0.5555555555555556,
          0.4444444444444444,
          0.3333333333333333,
          0.2222222222222222,
          0.1111111111111111,
          0,
          0.8888888888888888,
          0.7777777777777778,
          0.6666666666666666,
          0.5555555555555556,
          0.4444444444444444,
          0.3333333333333333,
          0.2222222222222222,
          0.1111111111111111,
          0,
          0.7777777777777778,
          0.6666666666666666,
          0.5555555555555556,
          0.4444444444444444,
          0.3333333333333333,
          0.2222222222222222,
          0.1111111111111111,
          0,
          0.6666666666666666,
          0.5555555555555556,
          0.4444444444444444,
          0.3333333333333333,
          0.2222222222222222,
          0.1111111111111111,
          0,
          0.5555555555555556,
          0.4444444444444444,
          0.3333333333333333,
          0.2222222222222222,
          0.1111111111111111,
          0,
          0.4444444444444444,
          0.3333333333333333,
          0.2222222222222222,
          0.1111111111111111,
          0,
          0.3333333333333333,
          0.2222222222222222,
          0.1111111111111111,
          0,
          0.2222222222222222,
          0.1111111111111111,
          0,
          0.1111111111111111,
          0,
          0
         ]
        }
       ],
       "layout": {
        "scene": {
         "xaxis": {
          "title": {
           "text": "d"
          }
         },
         "yaxis": {
          "title": {
           "text": "r"
          }
         },
         "zaxis": {
          "title": {
           "text": "l"
          }
         }
        },
        "template": {
         "data": {
          "bar": [
           {
            "error_x": {
             "color": "#2a3f5f"
            },
            "error_y": {
             "color": "#2a3f5f"
            },
            "marker": {
             "line": {
              "color": "white",
              "width": 0.5
             },
             "pattern": {
              "fillmode": "overlay",
              "size": 10,
              "solidity": 0.2
             }
            },
            "type": "bar"
           }
          ],
          "barpolar": [
           {
            "marker": {
             "line": {
              "color": "white",
              "width": 0.5
             },
             "pattern": {
              "fillmode": "overlay",
              "size": 10,
              "solidity": 0.2
             }
            },
            "type": "barpolar"
           }
          ],
          "carpet": [
           {
            "aaxis": {
             "endlinecolor": "#2a3f5f",
             "gridcolor": "#C8D4E3",
             "linecolor": "#C8D4E3",
             "minorgridcolor": "#C8D4E3",
             "startlinecolor": "#2a3f5f"
            },
            "baxis": {
             "endlinecolor": "#2a3f5f",
             "gridcolor": "#C8D4E3",
             "linecolor": "#C8D4E3",
             "minorgridcolor": "#C8D4E3",
             "startlinecolor": "#2a3f5f"
            },
            "type": "carpet"
           }
          ],
          "choropleth": [
           {
            "colorbar": {
             "outlinewidth": 0,
             "ticks": ""
            },
            "type": "choropleth"
           }
          ],
          "contour": [
           {
            "colorbar": {
             "outlinewidth": 0,
             "ticks": ""
            },
            "colorscale": [
             [
              0,
              "#0d0887"
             ],
             [
              0.1111111111111111,
              "#46039f"
             ],
             [
              0.2222222222222222,
              "#7201a8"
             ],
             [
              0.3333333333333333,
              "#9c179e"
             ],
             [
              0.4444444444444444,
              "#bd3786"
             ],
             [
              0.5555555555555556,
              "#d8576b"
             ],
             [
              0.6666666666666666,
              "#ed7953"
             ],
             [
              0.7777777777777778,
              "#fb9f3a"
             ],
             [
              0.8888888888888888,
              "#fdca26"
             ],
             [
              1,
              "#f0f921"
             ]
            ],
            "type": "contour"
           }
          ],
          "contourcarpet": [
           {
            "colorbar": {
             "outlinewidth": 0,
             "ticks": ""
            },
            "type": "contourcarpet"
           }
          ],
          "heatmap": [
           {
            "colorbar": {
             "outlinewidth": 0,
             "ticks": ""
            },
            "colorscale": [
             [
              0,
              "#0d0887"
             ],
             [
              0.1111111111111111,
              "#46039f"
             ],
             [
              0.2222222222222222,
              "#7201a8"
             ],
             [
              0.3333333333333333,
              "#9c179e"
             ],
             [
              0.4444444444444444,
              "#bd3786"
             ],
             [
              0.5555555555555556,
              "#d8576b"
             ],
             [
              0.6666666666666666,
              "#ed7953"
             ],
             [
              0.7777777777777778,
              "#fb9f3a"
             ],
             [
              0.8888888888888888,
              "#fdca26"
             ],
             [
              1,
              "#f0f921"
             ]
            ],
            "type": "heatmap"
           }
          ],
          "heatmapgl": [
           {
            "colorbar": {
             "outlinewidth": 0,
             "ticks": ""
            },
            "colorscale": [
             [
              0,
              "#0d0887"
             ],
             [
              0.1111111111111111,
              "#46039f"
             ],
             [
              0.2222222222222222,
              "#7201a8"
             ],
             [
              0.3333333333333333,
              "#9c179e"
             ],
             [
              0.4444444444444444,
              "#bd3786"
             ],
             [
              0.5555555555555556,
              "#d8576b"
             ],
             [
              0.6666666666666666,
              "#ed7953"
             ],
             [
              0.7777777777777778,
              "#fb9f3a"
             ],
             [
              0.8888888888888888,
              "#fdca26"
             ],
             [
              1,
              "#f0f921"
             ]
            ],
            "type": "heatmapgl"
           }
          ],
          "histogram": [
           {
            "marker": {
             "pattern": {
              "fillmode": "overlay",
              "size": 10,
              "solidity": 0.2
             }
            },
            "type": "histogram"
           }
          ],
          "histogram2d": [
           {
            "colorbar": {
             "outlinewidth": 0,
             "ticks": ""
            },
            "colorscale": [
             [
              0,
              "#0d0887"
             ],
             [
              0.1111111111111111,
              "#46039f"
             ],
             [
              0.2222222222222222,
              "#7201a8"
             ],
             [
              0.3333333333333333,
              "#9c179e"
             ],
             [
              0.4444444444444444,
              "#bd3786"
             ],
             [
              0.5555555555555556,
              "#d8576b"
             ],
             [
              0.6666666666666666,
              "#ed7953"
             ],
             [
              0.7777777777777778,
              "#fb9f3a"
             ],
             [
              0.8888888888888888,
              "#fdca26"
             ],
             [
              1,
              "#f0f921"
             ]
            ],
            "type": "histogram2d"
           }
          ],
          "histogram2dcontour": [
           {
            "colorbar": {
             "outlinewidth": 0,
             "ticks": ""
            },
            "colorscale": [
             [
              0,
              "#0d0887"
             ],
             [
              0.1111111111111111,
              "#46039f"
             ],
             [
              0.2222222222222222,
              "#7201a8"
             ],
             [
              0.3333333333333333,
              "#9c179e"
             ],
             [
              0.4444444444444444,
              "#bd3786"
             ],
             [
              0.5555555555555556,
              "#d8576b"
             ],
             [
              0.6666666666666666,
              "#ed7953"
             ],
             [
              0.7777777777777778,
              "#fb9f3a"
             ],
             [
              0.8888888888888888,
              "#fdca26"
             ],
             [
              1,
              "#f0f921"
             ]
            ],
            "type": "histogram2dcontour"
           }
          ],
          "mesh3d": [
           {
            "colorbar": {
             "outlinewidth": 0,
             "ticks": ""
            },
            "type": "mesh3d"
           }
          ],
          "parcoords": [
           {
            "line": {
             "colorbar": {
              "outlinewidth": 0,
              "ticks": ""
             }
            },
            "type": "parcoords"
           }
          ],
          "pie": [
           {
            "automargin": true,
            "type": "pie"
           }
          ],
          "scatter": [
           {
            "fillpattern": {
             "fillmode": "overlay",
             "size": 10,
             "solidity": 0.2
            },
            "type": "scatter"
           }
          ],
          "scatter3d": [
           {
            "line": {
             "colorbar": {
              "outlinewidth": 0,
              "ticks": ""
             }
            },
            "marker": {
             "colorbar": {
              "outlinewidth": 0,
              "ticks": ""
             }
            },
            "type": "scatter3d"
           }
          ],
          "scattercarpet": [
           {
            "marker": {
             "colorbar": {
              "outlinewidth": 0,
              "ticks": ""
             }
            },
            "type": "scattercarpet"
           }
          ],
          "scattergeo": [
           {
            "marker": {
             "colorbar": {
              "outlinewidth": 0,
              "ticks": ""
             }
            },
            "type": "scattergeo"
           }
          ],
          "scattergl": [
           {
            "marker": {
             "colorbar": {
              "outlinewidth": 0,
              "ticks": ""
             }
            },
            "type": "scattergl"
           }
          ],
          "scattermapbox": [
           {
            "marker": {
             "colorbar": {
              "outlinewidth": 0,
              "ticks": ""
             }
            },
            "type": "scattermapbox"
           }
          ],
          "scatterpolar": [
           {
            "marker": {
             "colorbar": {
              "outlinewidth": 0,
              "ticks": ""
             }
            },
            "type": "scatterpolar"
           }
          ],
          "scatterpolargl": [
           {
            "marker": {
             "colorbar": {
              "outlinewidth": 0,
              "ticks": ""
             }
            },
            "type": "scatterpolargl"
           }
          ],
          "scatterternary": [
           {
            "marker": {
             "colorbar": {
              "outlinewidth": 0,
              "ticks": ""
             }
            },
            "type": "scatterternary"
           }
          ],
          "surface": [
           {
            "colorbar": {
             "outlinewidth": 0,
             "ticks": ""
            },
            "colorscale": [
             [
              0,
              "#0d0887"
             ],
             [
              0.1111111111111111,
              "#46039f"
             ],
             [
              0.2222222222222222,
              "#7201a8"
             ],
             [
              0.3333333333333333,
              "#9c179e"
             ],
             [
              0.4444444444444444,
              "#bd3786"
             ],
             [
              0.5555555555555556,
              "#d8576b"
             ],
             [
              0.6666666666666666,
              "#ed7953"
             ],
             [
              0.7777777777777778,
              "#fb9f3a"
             ],
             [
              0.8888888888888888,
              "#fdca26"
             ],
             [
              1,
              "#f0f921"
             ]
            ],
            "type": "surface"
           }
          ],
          "table": [
           {
            "cells": {
             "fill": {
              "color": "#EBF0F8"
             },
             "line": {
              "color": "white"
             }
            },
            "header": {
             "fill": {
              "color": "#C8D4E3"
             },
             "line": {
              "color": "white"
             }
            },
            "type": "table"
           }
          ]
         },
         "layout": {
          "annotationdefaults": {
           "arrowcolor": "#2a3f5f",
           "arrowhead": 0,
           "arrowwidth": 1
          },
          "autotypenumbers": "strict",
          "coloraxis": {
           "colorbar": {
            "outlinewidth": 0,
            "ticks": ""
           }
          },
          "colorscale": {
           "diverging": [
            [
             0,
             "#8e0152"
            ],
            [
             0.1,
             "#c51b7d"
            ],
            [
             0.2,
             "#de77ae"
            ],
            [
             0.3,
             "#f1b6da"
            ],
            [
             0.4,
             "#fde0ef"
            ],
            [
             0.5,
             "#f7f7f7"
            ],
            [
             0.6,
             "#e6f5d0"
            ],
            [
             0.7,
             "#b8e186"
            ],
            [
             0.8,
             "#7fbc41"
            ],
            [
             0.9,
             "#4d9221"
            ],
            [
             1,
             "#276419"
            ]
           ],
           "sequential": [
            [
             0,
             "#0d0887"
            ],
            [
             0.1111111111111111,
             "#46039f"
            ],
            [
             0.2222222222222222,
             "#7201a8"
            ],
            [
             0.3333333333333333,
             "#9c179e"
            ],
            [
             0.4444444444444444,
             "#bd3786"
            ],
            [
             0.5555555555555556,
             "#d8576b"
            ],
            [
             0.6666666666666666,
             "#ed7953"
            ],
            [
             0.7777777777777778,
             "#fb9f3a"
            ],
            [
             0.8888888888888888,
             "#fdca26"
            ],
            [
             1,
             "#f0f921"
            ]
           ],
           "sequentialminus": [
            [
             0,
             "#0d0887"
            ],
            [
             0.1111111111111111,
             "#46039f"
            ],
            [
             0.2222222222222222,
             "#7201a8"
            ],
            [
             0.3333333333333333,
             "#9c179e"
            ],
            [
             0.4444444444444444,
             "#bd3786"
            ],
            [
             0.5555555555555556,
             "#d8576b"
            ],
            [
             0.6666666666666666,
             "#ed7953"
            ],
            [
             0.7777777777777778,
             "#fb9f3a"
            ],
            [
             0.8888888888888888,
             "#fdca26"
            ],
            [
             1,
             "#f0f921"
            ]
           ]
          },
          "colorway": [
           "#636efa",
           "#EF553B",
           "#00cc96",
           "#ab63fa",
           "#FFA15A",
           "#19d3f3",
           "#FF6692",
           "#B6E880",
           "#FF97FF",
           "#FECB52"
          ],
          "font": {
           "color": "#2a3f5f"
          },
          "geo": {
           "bgcolor": "white",
           "lakecolor": "white",
           "landcolor": "white",
           "showlakes": true,
           "showland": true,
           "subunitcolor": "#C8D4E3"
          },
          "hoverlabel": {
           "align": "left"
          },
          "hovermode": "closest",
          "mapbox": {
           "style": "light"
          },
          "paper_bgcolor": "white",
          "plot_bgcolor": "white",
          "polar": {
           "angularaxis": {
            "gridcolor": "#EBF0F8",
            "linecolor": "#EBF0F8",
            "ticks": ""
           },
           "bgcolor": "white",
           "radialaxis": {
            "gridcolor": "#EBF0F8",
            "linecolor": "#EBF0F8",
            "ticks": ""
           }
          },
          "scene": {
           "xaxis": {
            "backgroundcolor": "white",
            "gridcolor": "#DFE8F3",
            "gridwidth": 2,
            "linecolor": "#EBF0F8",
            "showbackground": true,
            "ticks": "",
            "zerolinecolor": "#EBF0F8"
           },
           "yaxis": {
            "backgroundcolor": "white",
            "gridcolor": "#DFE8F3",
            "gridwidth": 2,
            "linecolor": "#EBF0F8",
            "showbackground": true,
            "ticks": "",
            "zerolinecolor": "#EBF0F8"
           },
           "zaxis": {
            "backgroundcolor": "white",
            "gridcolor": "#DFE8F3",
            "gridwidth": 2,
            "linecolor": "#EBF0F8",
            "showbackground": true,
            "ticks": "",
            "zerolinecolor": "#EBF0F8"
           }
          },
          "shapedefaults": {
           "line": {
            "color": "#2a3f5f"
           }
          },
          "ternary": {
           "aaxis": {
            "gridcolor": "#DFE8F3",
            "linecolor": "#A2B1C6",
            "ticks": ""
           },
           "baxis": {
            "gridcolor": "#DFE8F3",
            "linecolor": "#A2B1C6",
            "ticks": ""
           },
           "bgcolor": "white",
           "caxis": {
            "gridcolor": "#DFE8F3",
            "linecolor": "#A2B1C6",
            "ticks": ""
           }
          },
          "title": {
           "x": 0.05
          },
          "xaxis": {
           "automargin": true,
           "gridcolor": "#EBF0F8",
           "linecolor": "#EBF0F8",
           "ticks": "",
           "title": {
            "standoff": 15
           },
           "zerolinecolor": "#EBF0F8",
           "zerolinewidth": 2
          },
          "yaxis": {
           "automargin": true,
           "gridcolor": "#EBF0F8",
           "linecolor": "#EBF0F8",
           "ticks": "",
           "title": {
            "standoff": 15
           },
           "zerolinecolor": "#EBF0F8",
           "zerolinewidth": 2
          }
         }
        }
       }
      }
     },
     "metadata": {},
     "output_type": "display_data"
    },
    {
     "name": "stdout",
     "output_type": "stream",
     "text": [
      "Max utility value: \n",
      "[Fraction(0, 1) Fraction(1, 3) Fraction(1, 3) Fraction(1, 3)]\n",
      "[0.   0.33 0.33 0.33]\n",
      "0.08\n"
     ]
    }
   ],
   "source": [
    "budget = 1\n",
    "gridSize = (5, 5)\n",
    "target = Node(4, 2)\n",
    "strategies = list([ \n",
    "    Strategy({ Action.DOWN: frac(1, 3), Action.RIGHT: frac(1, 3), Action.LEFT: frac(1, 3) }) \n",
    "])\n",
    "enumerated_strategies = dict(enumerate(strategies, start=1))\n",
    "\n",
    "pomdp = POMDP(gridSize=gridSize, target=target, model='grid', budget=budget)\n",
    "\n",
    "# Assign strategies to the nodes\n",
    "for node in pomdp.nodes: node.assign_strategy(enumerated_strategies[1], 1)\n",
    "observations =  {n: n.strategy_id for n in pomdp.nodes if n != target}\n",
    "\n",
    "# ---------------------------------------------------------\n",
    "# get one specific utility value\n",
    "# print(pomdp.utility(enumerated_strategies, assignments)[0])\n",
    "# ---------------------------------------------------------\n",
    "\n",
    "combinations_, U = pomdp.generate_points(enumerated_strategies, observations, sections=10, write_to_file=True)\n",
    "plot_actions_4D(combinations_, U, actions = [Action.DOWN, Action.RIGHT, Action.LEFT])\n",
    "\n",
    "# get the probability distribution of the actions that maximizes the utility\n",
    "max_index = np.argmax(U)\n",
    "approx = np.around(list(map(float, combinations_[max_index][0])), 2)\n",
    "\n",
    "print('Max utility value: ')\n",
    "print(combinations_[max_index][0])\n",
    "print(approx)\n",
    "print(U[max_index]) # 0.07480985633519664"
   ]
  },
  {
   "cell_type": "markdown",
   "metadata": {},
   "source": [
    "5x5 grid with the target close to the bottom left."
   ]
  },
  {
   "cell_type": "code",
   "execution_count": 5,
   "metadata": {},
   "outputs": [
    {
     "data": {
      "application/vnd.plotly.v1+json": {
       "config": {
        "plotlyServerURL": "https://plot.ly"
       },
       "data": [
        {
         "marker": {
          "color": [
           "blue",
           "blue",
           "blue",
           "blue",
           "blue",
           "blue",
           "blue",
           "blue",
           "blue",
           "blue",
           "blue",
           "blue",
           "blue",
           "blue",
           "blue",
           "blue",
           "blue",
           "blue",
           "blue",
           "blue",
           "blue",
           "blue",
           "blue",
           "blue",
           "blue",
           "blue",
           "blue",
           "blue",
           "blue",
           "blue",
           "blue",
           "blue",
           "blue",
           "blue",
           "blue",
           "blue",
           "blue",
           "blue",
           "blue",
           "blue",
           "blue",
           "red",
           "blue",
           "blue",
           "blue",
           "blue",
           "blue",
           "blue",
           "blue",
           "blue",
           "blue",
           "blue",
           "blue",
           "blue",
           "blue"
          ],
          "opacity": 0.7,
          "size": [
           1,
           1,
           1,
           1,
           1,
           1,
           1,
           1,
           1,
           1,
           1,
           8.757610253461658,
           9.94564920959458,
           9.930817093367882,
           8.694665373315964,
           6.19429179618937,
           3.254744631179446,
           1.3506167811984955,
           1,
           1,
           13.622808423557347,
           16.19749546870059,
           14.597169011196723,
           9.634447160684918,
           4.339144576642042,
           1.478937502956537,
           1,
           1,
           17.262586398881428,
           19.381807009240383,
           13.696197865971342,
           5.9045524610691045,
           1.6841902203410686,
           1,
           1,
           19.74426560131398,
           18.163604490538937,
           8.376825791742128,
           2.0431154718939593,
           1,
           1,
           20,
           12.137015671904686,
           2.7288127824268287,
           1,
           1,
           16.186089989683964,
           4.179034389085551,
           1,
           1,
           7.440100366797057,
           1,
           1,
           1,
           1
          ]
         },
         "mode": "markers",
         "type": "scatter3d",
         "x": [
          0,
          0,
          0,
          0,
          0,
          0,
          0,
          0,
          0,
          0,
          0.1111111111111111,
          0.1111111111111111,
          0.1111111111111111,
          0.1111111111111111,
          0.1111111111111111,
          0.1111111111111111,
          0.1111111111111111,
          0.1111111111111111,
          0.1111111111111111,
          0.2222222222222222,
          0.2222222222222222,
          0.2222222222222222,
          0.2222222222222222,
          0.2222222222222222,
          0.2222222222222222,
          0.2222222222222222,
          0.2222222222222222,
          0.3333333333333333,
          0.3333333333333333,
          0.3333333333333333,
          0.3333333333333333,
          0.3333333333333333,
          0.3333333333333333,
          0.3333333333333333,
          0.4444444444444444,
          0.4444444444444444,
          0.4444444444444444,
          0.4444444444444444,
          0.4444444444444444,
          0.4444444444444444,
          0.5555555555555556,
          0.5555555555555556,
          0.5555555555555556,
          0.5555555555555556,
          0.5555555555555556,
          0.6666666666666666,
          0.6666666666666666,
          0.6666666666666666,
          0.6666666666666666,
          0.7777777777777778,
          0.7777777777777778,
          0.7777777777777778,
          0.8888888888888888,
          0.8888888888888888,
          1
         ],
         "y": [
          0,
          0.1111111111111111,
          0.2222222222222222,
          0.3333333333333333,
          0.4444444444444444,
          0.5555555555555556,
          0.6666666666666666,
          0.7777777777777778,
          0.8888888888888888,
          1,
          0,
          0.1111111111111111,
          0.2222222222222222,
          0.3333333333333333,
          0.4444444444444444,
          0.5555555555555556,
          0.6666666666666666,
          0.7777777777777778,
          0.8888888888888888,
          0,
          0.1111111111111111,
          0.2222222222222222,
          0.3333333333333333,
          0.4444444444444444,
          0.5555555555555556,
          0.6666666666666666,
          0.7777777777777778,
          0,
          0.1111111111111111,
          0.2222222222222222,
          0.3333333333333333,
          0.4444444444444444,
          0.5555555555555556,
          0.6666666666666666,
          0,
          0.1111111111111111,
          0.2222222222222222,
          0.3333333333333333,
          0.4444444444444444,
          0.5555555555555556,
          0,
          0.1111111111111111,
          0.2222222222222222,
          0.3333333333333333,
          0.4444444444444444,
          0,
          0.1111111111111111,
          0.2222222222222222,
          0.3333333333333333,
          0,
          0.1111111111111111,
          0.2222222222222222,
          0,
          0.1111111111111111,
          0
         ],
         "z": [
          1,
          0.8888888888888888,
          0.7777777777777778,
          0.6666666666666666,
          0.5555555555555556,
          0.4444444444444444,
          0.3333333333333333,
          0.2222222222222222,
          0.1111111111111111,
          0,
          0.8888888888888888,
          0.7777777777777778,
          0.6666666666666666,
          0.5555555555555556,
          0.4444444444444444,
          0.3333333333333333,
          0.2222222222222222,
          0.1111111111111111,
          0,
          0.7777777777777778,
          0.6666666666666666,
          0.5555555555555556,
          0.4444444444444444,
          0.3333333333333333,
          0.2222222222222222,
          0.1111111111111111,
          0,
          0.6666666666666666,
          0.5555555555555556,
          0.4444444444444444,
          0.3333333333333333,
          0.2222222222222222,
          0.1111111111111111,
          0,
          0.5555555555555556,
          0.4444444444444444,
          0.3333333333333333,
          0.2222222222222222,
          0.1111111111111111,
          0,
          0.4444444444444444,
          0.3333333333333333,
          0.2222222222222222,
          0.1111111111111111,
          0,
          0.3333333333333333,
          0.2222222222222222,
          0.1111111111111111,
          0,
          0.2222222222222222,
          0.1111111111111111,
          0,
          0.1111111111111111,
          0,
          0
         ]
        }
       ],
       "layout": {
        "scene": {
         "xaxis": {
          "title": {
           "text": "d"
          }
         },
         "yaxis": {
          "title": {
           "text": "r"
          }
         },
         "zaxis": {
          "title": {
           "text": "l"
          }
         }
        },
        "template": {
         "data": {
          "bar": [
           {
            "error_x": {
             "color": "#2a3f5f"
            },
            "error_y": {
             "color": "#2a3f5f"
            },
            "marker": {
             "line": {
              "color": "white",
              "width": 0.5
             },
             "pattern": {
              "fillmode": "overlay",
              "size": 10,
              "solidity": 0.2
             }
            },
            "type": "bar"
           }
          ],
          "barpolar": [
           {
            "marker": {
             "line": {
              "color": "white",
              "width": 0.5
             },
             "pattern": {
              "fillmode": "overlay",
              "size": 10,
              "solidity": 0.2
             }
            },
            "type": "barpolar"
           }
          ],
          "carpet": [
           {
            "aaxis": {
             "endlinecolor": "#2a3f5f",
             "gridcolor": "#C8D4E3",
             "linecolor": "#C8D4E3",
             "minorgridcolor": "#C8D4E3",
             "startlinecolor": "#2a3f5f"
            },
            "baxis": {
             "endlinecolor": "#2a3f5f",
             "gridcolor": "#C8D4E3",
             "linecolor": "#C8D4E3",
             "minorgridcolor": "#C8D4E3",
             "startlinecolor": "#2a3f5f"
            },
            "type": "carpet"
           }
          ],
          "choropleth": [
           {
            "colorbar": {
             "outlinewidth": 0,
             "ticks": ""
            },
            "type": "choropleth"
           }
          ],
          "contour": [
           {
            "colorbar": {
             "outlinewidth": 0,
             "ticks": ""
            },
            "colorscale": [
             [
              0,
              "#0d0887"
             ],
             [
              0.1111111111111111,
              "#46039f"
             ],
             [
              0.2222222222222222,
              "#7201a8"
             ],
             [
              0.3333333333333333,
              "#9c179e"
             ],
             [
              0.4444444444444444,
              "#bd3786"
             ],
             [
              0.5555555555555556,
              "#d8576b"
             ],
             [
              0.6666666666666666,
              "#ed7953"
             ],
             [
              0.7777777777777778,
              "#fb9f3a"
             ],
             [
              0.8888888888888888,
              "#fdca26"
             ],
             [
              1,
              "#f0f921"
             ]
            ],
            "type": "contour"
           }
          ],
          "contourcarpet": [
           {
            "colorbar": {
             "outlinewidth": 0,
             "ticks": ""
            },
            "type": "contourcarpet"
           }
          ],
          "heatmap": [
           {
            "colorbar": {
             "outlinewidth": 0,
             "ticks": ""
            },
            "colorscale": [
             [
              0,
              "#0d0887"
             ],
             [
              0.1111111111111111,
              "#46039f"
             ],
             [
              0.2222222222222222,
              "#7201a8"
             ],
             [
              0.3333333333333333,
              "#9c179e"
             ],
             [
              0.4444444444444444,
              "#bd3786"
             ],
             [
              0.5555555555555556,
              "#d8576b"
             ],
             [
              0.6666666666666666,
              "#ed7953"
             ],
             [
              0.7777777777777778,
              "#fb9f3a"
             ],
             [
              0.8888888888888888,
              "#fdca26"
             ],
             [
              1,
              "#f0f921"
             ]
            ],
            "type": "heatmap"
           }
          ],
          "heatmapgl": [
           {
            "colorbar": {
             "outlinewidth": 0,
             "ticks": ""
            },
            "colorscale": [
             [
              0,
              "#0d0887"
             ],
             [
              0.1111111111111111,
              "#46039f"
             ],
             [
              0.2222222222222222,
              "#7201a8"
             ],
             [
              0.3333333333333333,
              "#9c179e"
             ],
             [
              0.4444444444444444,
              "#bd3786"
             ],
             [
              0.5555555555555556,
              "#d8576b"
             ],
             [
              0.6666666666666666,
              "#ed7953"
             ],
             [
              0.7777777777777778,
              "#fb9f3a"
             ],
             [
              0.8888888888888888,
              "#fdca26"
             ],
             [
              1,
              "#f0f921"
             ]
            ],
            "type": "heatmapgl"
           }
          ],
          "histogram": [
           {
            "marker": {
             "pattern": {
              "fillmode": "overlay",
              "size": 10,
              "solidity": 0.2
             }
            },
            "type": "histogram"
           }
          ],
          "histogram2d": [
           {
            "colorbar": {
             "outlinewidth": 0,
             "ticks": ""
            },
            "colorscale": [
             [
              0,
              "#0d0887"
             ],
             [
              0.1111111111111111,
              "#46039f"
             ],
             [
              0.2222222222222222,
              "#7201a8"
             ],
             [
              0.3333333333333333,
              "#9c179e"
             ],
             [
              0.4444444444444444,
              "#bd3786"
             ],
             [
              0.5555555555555556,
              "#d8576b"
             ],
             [
              0.6666666666666666,
              "#ed7953"
             ],
             [
              0.7777777777777778,
              "#fb9f3a"
             ],
             [
              0.8888888888888888,
              "#fdca26"
             ],
             [
              1,
              "#f0f921"
             ]
            ],
            "type": "histogram2d"
           }
          ],
          "histogram2dcontour": [
           {
            "colorbar": {
             "outlinewidth": 0,
             "ticks": ""
            },
            "colorscale": [
             [
              0,
              "#0d0887"
             ],
             [
              0.1111111111111111,
              "#46039f"
             ],
             [
              0.2222222222222222,
              "#7201a8"
             ],
             [
              0.3333333333333333,
              "#9c179e"
             ],
             [
              0.4444444444444444,
              "#bd3786"
             ],
             [
              0.5555555555555556,
              "#d8576b"
             ],
             [
              0.6666666666666666,
              "#ed7953"
             ],
             [
              0.7777777777777778,
              "#fb9f3a"
             ],
             [
              0.8888888888888888,
              "#fdca26"
             ],
             [
              1,
              "#f0f921"
             ]
            ],
            "type": "histogram2dcontour"
           }
          ],
          "mesh3d": [
           {
            "colorbar": {
             "outlinewidth": 0,
             "ticks": ""
            },
            "type": "mesh3d"
           }
          ],
          "parcoords": [
           {
            "line": {
             "colorbar": {
              "outlinewidth": 0,
              "ticks": ""
             }
            },
            "type": "parcoords"
           }
          ],
          "pie": [
           {
            "automargin": true,
            "type": "pie"
           }
          ],
          "scatter": [
           {
            "fillpattern": {
             "fillmode": "overlay",
             "size": 10,
             "solidity": 0.2
            },
            "type": "scatter"
           }
          ],
          "scatter3d": [
           {
            "line": {
             "colorbar": {
              "outlinewidth": 0,
              "ticks": ""
             }
            },
            "marker": {
             "colorbar": {
              "outlinewidth": 0,
              "ticks": ""
             }
            },
            "type": "scatter3d"
           }
          ],
          "scattercarpet": [
           {
            "marker": {
             "colorbar": {
              "outlinewidth": 0,
              "ticks": ""
             }
            },
            "type": "scattercarpet"
           }
          ],
          "scattergeo": [
           {
            "marker": {
             "colorbar": {
              "outlinewidth": 0,
              "ticks": ""
             }
            },
            "type": "scattergeo"
           }
          ],
          "scattergl": [
           {
            "marker": {
             "colorbar": {
              "outlinewidth": 0,
              "ticks": ""
             }
            },
            "type": "scattergl"
           }
          ],
          "scattermapbox": [
           {
            "marker": {
             "colorbar": {
              "outlinewidth": 0,
              "ticks": ""
             }
            },
            "type": "scattermapbox"
           }
          ],
          "scatterpolar": [
           {
            "marker": {
             "colorbar": {
              "outlinewidth": 0,
              "ticks": ""
             }
            },
            "type": "scatterpolar"
           }
          ],
          "scatterpolargl": [
           {
            "marker": {
             "colorbar": {
              "outlinewidth": 0,
              "ticks": ""
             }
            },
            "type": "scatterpolargl"
           }
          ],
          "scatterternary": [
           {
            "marker": {
             "colorbar": {
              "outlinewidth": 0,
              "ticks": ""
             }
            },
            "type": "scatterternary"
           }
          ],
          "surface": [
           {
            "colorbar": {
             "outlinewidth": 0,
             "ticks": ""
            },
            "colorscale": [
             [
              0,
              "#0d0887"
             ],
             [
              0.1111111111111111,
              "#46039f"
             ],
             [
              0.2222222222222222,
              "#7201a8"
             ],
             [
              0.3333333333333333,
              "#9c179e"
             ],
             [
              0.4444444444444444,
              "#bd3786"
             ],
             [
              0.5555555555555556,
              "#d8576b"
             ],
             [
              0.6666666666666666,
              "#ed7953"
             ],
             [
              0.7777777777777778,
              "#fb9f3a"
             ],
             [
              0.8888888888888888,
              "#fdca26"
             ],
             [
              1,
              "#f0f921"
             ]
            ],
            "type": "surface"
           }
          ],
          "table": [
           {
            "cells": {
             "fill": {
              "color": "#EBF0F8"
             },
             "line": {
              "color": "white"
             }
            },
            "header": {
             "fill": {
              "color": "#C8D4E3"
             },
             "line": {
              "color": "white"
             }
            },
            "type": "table"
           }
          ]
         },
         "layout": {
          "annotationdefaults": {
           "arrowcolor": "#2a3f5f",
           "arrowhead": 0,
           "arrowwidth": 1
          },
          "autotypenumbers": "strict",
          "coloraxis": {
           "colorbar": {
            "outlinewidth": 0,
            "ticks": ""
           }
          },
          "colorscale": {
           "diverging": [
            [
             0,
             "#8e0152"
            ],
            [
             0.1,
             "#c51b7d"
            ],
            [
             0.2,
             "#de77ae"
            ],
            [
             0.3,
             "#f1b6da"
            ],
            [
             0.4,
             "#fde0ef"
            ],
            [
             0.5,
             "#f7f7f7"
            ],
            [
             0.6,
             "#e6f5d0"
            ],
            [
             0.7,
             "#b8e186"
            ],
            [
             0.8,
             "#7fbc41"
            ],
            [
             0.9,
             "#4d9221"
            ],
            [
             1,
             "#276419"
            ]
           ],
           "sequential": [
            [
             0,
             "#0d0887"
            ],
            [
             0.1111111111111111,
             "#46039f"
            ],
            [
             0.2222222222222222,
             "#7201a8"
            ],
            [
             0.3333333333333333,
             "#9c179e"
            ],
            [
             0.4444444444444444,
             "#bd3786"
            ],
            [
             0.5555555555555556,
             "#d8576b"
            ],
            [
             0.6666666666666666,
             "#ed7953"
            ],
            [
             0.7777777777777778,
             "#fb9f3a"
            ],
            [
             0.8888888888888888,
             "#fdca26"
            ],
            [
             1,
             "#f0f921"
            ]
           ],
           "sequentialminus": [
            [
             0,
             "#0d0887"
            ],
            [
             0.1111111111111111,
             "#46039f"
            ],
            [
             0.2222222222222222,
             "#7201a8"
            ],
            [
             0.3333333333333333,
             "#9c179e"
            ],
            [
             0.4444444444444444,
             "#bd3786"
            ],
            [
             0.5555555555555556,
             "#d8576b"
            ],
            [
             0.6666666666666666,
             "#ed7953"
            ],
            [
             0.7777777777777778,
             "#fb9f3a"
            ],
            [
             0.8888888888888888,
             "#fdca26"
            ],
            [
             1,
             "#f0f921"
            ]
           ]
          },
          "colorway": [
           "#636efa",
           "#EF553B",
           "#00cc96",
           "#ab63fa",
           "#FFA15A",
           "#19d3f3",
           "#FF6692",
           "#B6E880",
           "#FF97FF",
           "#FECB52"
          ],
          "font": {
           "color": "#2a3f5f"
          },
          "geo": {
           "bgcolor": "white",
           "lakecolor": "white",
           "landcolor": "white",
           "showlakes": true,
           "showland": true,
           "subunitcolor": "#C8D4E3"
          },
          "hoverlabel": {
           "align": "left"
          },
          "hovermode": "closest",
          "mapbox": {
           "style": "light"
          },
          "paper_bgcolor": "white",
          "plot_bgcolor": "white",
          "polar": {
           "angularaxis": {
            "gridcolor": "#EBF0F8",
            "linecolor": "#EBF0F8",
            "ticks": ""
           },
           "bgcolor": "white",
           "radialaxis": {
            "gridcolor": "#EBF0F8",
            "linecolor": "#EBF0F8",
            "ticks": ""
           }
          },
          "scene": {
           "xaxis": {
            "backgroundcolor": "white",
            "gridcolor": "#DFE8F3",
            "gridwidth": 2,
            "linecolor": "#EBF0F8",
            "showbackground": true,
            "ticks": "",
            "zerolinecolor": "#EBF0F8"
           },
           "yaxis": {
            "backgroundcolor": "white",
            "gridcolor": "#DFE8F3",
            "gridwidth": 2,
            "linecolor": "#EBF0F8",
            "showbackground": true,
            "ticks": "",
            "zerolinecolor": "#EBF0F8"
           },
           "zaxis": {
            "backgroundcolor": "white",
            "gridcolor": "#DFE8F3",
            "gridwidth": 2,
            "linecolor": "#EBF0F8",
            "showbackground": true,
            "ticks": "",
            "zerolinecolor": "#EBF0F8"
           }
          },
          "shapedefaults": {
           "line": {
            "color": "#2a3f5f"
           }
          },
          "ternary": {
           "aaxis": {
            "gridcolor": "#DFE8F3",
            "linecolor": "#A2B1C6",
            "ticks": ""
           },
           "baxis": {
            "gridcolor": "#DFE8F3",
            "linecolor": "#A2B1C6",
            "ticks": ""
           },
           "bgcolor": "white",
           "caxis": {
            "gridcolor": "#DFE8F3",
            "linecolor": "#A2B1C6",
            "ticks": ""
           }
          },
          "title": {
           "x": 0.05
          },
          "xaxis": {
           "automargin": true,
           "gridcolor": "#EBF0F8",
           "linecolor": "#EBF0F8",
           "ticks": "",
           "title": {
            "standoff": 15
           },
           "zerolinecolor": "#EBF0F8",
           "zerolinewidth": 2
          },
          "yaxis": {
           "automargin": true,
           "gridcolor": "#EBF0F8",
           "linecolor": "#EBF0F8",
           "ticks": "",
           "title": {
            "standoff": 15
           },
           "zerolinecolor": "#EBF0F8",
           "zerolinewidth": 2
          }
         }
        }
       }
      }
     },
     "metadata": {},
     "output_type": "display_data"
    },
    {
     "name": "stdout",
     "output_type": "stream",
     "text": [
      "Max utility value: \n",
      "[Fraction(0, 1) Fraction(1, 9) Fraction(5, 9) Fraction(1, 3)]\n",
      "[0.   0.11 0.56 0.33]\n",
      "0.09577670518660968\n"
     ]
    }
   ],
   "source": [
    "budget = 1\n",
    "gridSize = (5, 5)\n",
    "target = Node(4, 1)\n",
    "strategies = list([ \n",
    "    Strategy({ Action.DOWN: frac(1, 3), Action.RIGHT: frac(1, 3), Action.LEFT: frac(1, 3) }) \n",
    "])\n",
    "enumerated_strategies = dict(enumerate(strategies, start=1))\n",
    "\n",
    "pomdp = POMDP(gridSize=gridSize, target=target, model='grid', budget=budget)\n",
    "\n",
    "# Assign strategies to the nodes\n",
    "for node in pomdp.nodes: node.assign_strategy(enumerated_strategies[1], 1)\n",
    "observations =  {n: n.strategy_id for n in pomdp.nodes if n != target}\n",
    "\n",
    "# ---------------------------------------------------------\n",
    "# get one specific utility value\n",
    "# print(pomdp.utility(enumerated_strategies, assignments)[0])\n",
    "# ---------------------------------------------------------\n",
    "\n",
    "combinations_, U = pomdp.generate_points(enumerated_strategies, observations, sections=10, write_to_file=True)\n",
    "plot_actions_4D(combinations_, U, actions = [Action.DOWN, Action.RIGHT, Action.LEFT])\n",
    "\n",
    "# get the probability distribution of the actions that maximizes the utility\n",
    "max_index = np.argmax(U)\n",
    "approx = np.around(list(map(float, combinations_[max_index][0])), 2)\n",
    "\n",
    "print('Max utility value: ')\n",
    "print(combinations_[max_index][0])\n",
    "print(approx)\n",
    "print(U[max_index])"
   ]
  },
  {
   "cell_type": "markdown",
   "metadata": {},
   "source": [
    "15x15 grid with the target close to the bottom left."
   ]
  },
  {
   "cell_type": "code",
   "execution_count": 4,
   "metadata": {},
   "outputs": [
    {
     "data": {
      "application/vnd.plotly.v1+json": {
       "config": {
        "plotlyServerURL": "https://plot.ly"
       },
       "data": [
        {
         "marker": {
          "color": [
           "blue",
           "blue",
           "blue",
           "blue",
           "blue",
           "blue",
           "blue",
           "blue",
           "blue",
           "blue",
           "blue",
           "blue",
           "blue",
           "blue",
           "blue",
           "blue",
           "blue",
           "blue",
           "blue",
           "blue",
           "blue",
           "blue",
           "blue",
           "blue",
           "blue",
           "blue",
           "blue",
           "blue",
           "blue",
           "blue",
           "blue",
           "blue",
           "blue",
           "blue",
           "blue",
           "blue",
           "blue",
           "blue",
           "blue",
           "blue",
           "blue",
           "blue",
           "blue",
           "blue",
           "blue",
           "blue",
           "blue",
           "blue",
           "blue",
           "blue",
           "blue",
           "blue",
           "blue",
           "blue",
           "blue",
           "blue",
           "blue",
           "blue",
           "blue",
           "blue",
           "blue",
           "blue",
           "blue",
           "blue",
           "blue",
           "blue",
           "blue",
           "blue",
           "blue",
           "blue",
           "blue",
           "blue",
           "blue",
           "blue",
           "blue",
           "blue",
           "blue",
           "blue",
           "blue",
           "blue",
           "blue",
           "blue",
           "blue",
           "blue",
           "blue",
           "blue",
           "blue",
           "blue",
           "blue",
           "blue",
           "blue",
           "blue",
           "blue",
           "blue",
           "blue",
           "blue",
           "blue",
           "blue",
           "blue",
           "blue",
           "blue",
           "blue",
           "blue",
           "blue",
           "blue",
           "blue",
           "blue",
           "blue",
           "blue",
           "blue",
           "blue",
           "blue",
           "blue",
           "blue",
           "blue",
           "blue",
           "blue",
           "blue",
           "blue",
           "blue",
           "blue",
           "blue",
           "blue",
           "blue",
           "blue",
           "blue",
           "blue",
           "blue",
           "blue",
           "blue",
           "blue",
           "blue",
           "blue",
           "blue",
           "blue",
           "blue",
           "blue",
           "blue",
           "blue",
           "blue",
           "blue",
           "blue",
           "blue",
           "blue",
           "blue",
           "blue",
           "blue",
           "blue",
           "blue",
           "blue",
           "blue",
           "blue",
           "blue",
           "blue",
           "blue",
           "blue",
           "blue",
           "blue",
           "blue",
           "blue",
           "blue",
           "blue",
           "blue",
           "blue",
           "blue",
           "blue",
           "blue",
           "blue",
           "blue",
           "blue",
           "blue",
           "blue",
           "blue",
           "blue",
           "blue",
           "blue",
           "blue",
           "blue",
           "blue",
           "blue",
           "blue",
           "blue",
           "blue",
           "blue",
           "blue",
           "blue",
           "blue",
           "blue",
           "blue",
           "blue",
           "blue",
           "blue",
           "blue",
           "blue",
           "blue",
           "blue",
           "blue",
           "blue",
           "blue",
           "blue",
           "blue",
           "blue",
           "blue",
           "blue",
           "blue",
           "blue",
           "blue",
           "blue",
           "blue",
           "blue",
           "blue",
           "blue",
           "blue",
           "blue",
           "blue",
           "blue",
           "blue",
           "blue",
           "blue",
           "blue",
           "blue",
           "blue",
           "blue",
           "blue",
           "blue",
           "blue",
           "blue",
           "blue",
           "blue",
           "blue",
           "blue",
           "blue",
           "blue",
           "blue",
           "blue",
           "blue",
           "blue",
           "blue",
           "blue",
           "blue",
           "blue",
           "blue",
           "blue",
           "blue",
           "blue",
           "blue",
           "blue",
           "blue",
           "blue",
           "blue",
           "blue",
           "blue",
           "blue",
           "blue",
           "blue",
           "blue",
           "blue",
           "blue",
           "blue",
           "blue",
           "blue",
           "blue",
           "blue",
           "blue",
           "blue",
           "blue",
           "blue",
           "blue",
           "blue",
           "blue",
           "blue",
           "blue",
           "blue",
           "blue",
           "blue",
           "blue",
           "blue",
           "blue",
           "blue",
           "blue",
           "blue",
           "blue",
           "blue",
           "blue",
           "blue",
           "blue",
           "blue",
           "blue",
           "blue",
           "blue",
           "blue",
           "blue",
           "blue",
           "blue",
           "blue",
           "blue",
           "blue",
           "blue",
           "blue",
           "blue",
           "blue",
           "blue",
           "blue",
           "blue",
           "blue",
           "blue",
           "blue",
           "blue",
           "blue",
           "blue",
           "blue",
           "blue",
           "blue",
           "blue",
           "blue",
           "blue",
           "blue",
           "blue",
           "blue",
           "blue",
           "blue",
           "blue",
           "blue",
           "blue",
           "blue",
           "blue",
           "blue",
           "blue",
           "blue",
           "blue",
           "blue",
           "blue",
           "blue",
           "blue",
           "blue",
           "blue",
           "blue",
           "blue",
           "blue",
           "blue",
           "blue",
           "blue",
           "blue",
           "blue",
           "blue",
           "blue",
           "blue",
           "blue",
           "blue",
           "blue",
           "blue",
           "blue",
           "blue",
           "blue",
           "blue",
           "blue",
           "blue",
           "blue",
           "blue",
           "blue",
           "blue",
           "blue",
           "blue",
           "blue",
           "blue",
           "blue",
           "blue",
           "blue",
           "blue",
           "blue",
           "blue",
           "blue",
           "blue",
           "blue",
           "blue",
           "blue",
           "blue",
           "blue",
           "blue",
           "blue",
           "blue",
           "blue",
           "blue",
           "blue",
           "blue",
           "blue",
           "blue",
           "blue",
           "blue",
           "blue",
           "blue",
           "blue",
           "blue",
           "blue",
           "blue",
           "blue",
           "blue",
           "blue",
           "blue",
           "blue",
           "blue",
           "blue",
           "blue",
           "blue",
           "blue",
           "blue",
           "blue",
           "blue",
           "blue",
           "blue",
           "blue",
           "blue",
           "blue",
           "blue",
           "blue",
           "blue",
           "blue",
           "blue",
           "blue",
           "blue",
           "blue",
           "blue",
           "blue",
           "blue",
           "blue",
           "blue",
           "blue",
           "blue",
           "blue",
           "blue",
           "blue",
           "blue",
           "blue",
           "blue",
           "blue",
           "blue",
           "blue",
           "blue",
           "blue",
           "blue",
           "blue",
           "blue",
           "blue",
           "blue",
           "blue",
           "blue",
           "blue",
           "blue",
           "blue",
           "blue",
           "blue",
           "blue",
           "blue",
           "blue",
           "blue",
           "blue",
           "blue",
           "blue",
           "blue",
           "blue",
           "blue",
           "blue",
           "blue",
           "blue",
           "blue",
           "blue",
           "blue",
           "blue",
           "blue",
           "blue",
           "blue",
           "blue",
           "blue",
           "blue",
           "blue",
           "blue",
           "blue",
           "blue",
           "blue",
           "blue",
           "blue",
           "blue",
           "blue",
           "blue",
           "blue",
           "blue",
           "blue",
           "blue",
           "blue",
           "blue",
           "blue",
           "blue",
           "blue",
           "blue",
           "blue",
           "blue",
           "blue",
           "blue",
           "blue",
           "blue",
           "blue",
           "blue",
           "blue",
           "blue",
           "blue",
           "blue",
           "blue",
           "blue",
           "blue",
           "blue",
           "blue",
           "blue",
           "blue",
           "blue",
           "blue",
           "blue",
           "blue",
           "blue",
           "blue",
           "blue",
           "blue",
           "blue",
           "blue",
           "blue",
           "blue",
           "blue",
           "blue",
           "blue",
           "blue",
           "blue",
           "blue",
           "blue",
           "blue",
           "blue",
           "blue",
           "blue",
           "blue",
           "blue",
           "blue",
           "blue",
           "blue",
           "blue",
           "blue",
           "blue",
           "blue",
           "blue",
           "blue",
           "blue",
           "blue",
           "blue",
           "blue",
           "blue",
           "blue",
           "blue",
           "blue",
           "blue",
           "blue",
           "blue",
           "blue",
           "blue",
           "blue",
           "blue",
           "blue",
           "blue",
           "blue",
           "blue",
           "blue",
           "blue",
           "blue",
           "blue",
           "blue",
           "blue",
           "blue",
           "blue",
           "blue",
           "blue",
           "blue",
           "blue",
           "blue",
           "blue",
           "blue",
           "blue",
           "blue",
           "blue",
           "blue",
           "blue",
           "blue",
           "blue",
           "blue",
           "blue",
           "blue",
           "blue",
           "red",
           "blue",
           "blue",
           "blue",
           "blue",
           "blue",
           "blue",
           "blue",
           "blue",
           "blue",
           "blue",
           "blue",
           "blue",
           "blue",
           "blue",
           "blue",
           "blue",
           "blue",
           "blue",
           "blue",
           "blue",
           "blue",
           "blue",
           "blue",
           "blue",
           "blue",
           "blue",
           "blue",
           "blue",
           "blue",
           "blue",
           "blue",
           "blue",
           "blue",
           "blue",
           "blue",
           "blue",
           "blue",
           "blue",
           "blue",
           "blue",
           "blue",
           "blue",
           "blue",
           "blue",
           "blue",
           "blue",
           "blue",
           "blue",
           "blue",
           "blue",
           "blue",
           "blue",
           "blue",
           "blue",
           "blue",
           "blue",
           "blue",
           "blue",
           "blue",
           "blue",
           "blue",
           "blue",
           "blue",
           "blue",
           "blue",
           "blue",
           "blue",
           "blue",
           "blue",
           "blue",
           "blue",
           "blue",
           "blue",
           "blue",
           "blue",
           "blue",
           "blue",
           "blue",
           "blue",
           "blue",
           "blue",
           "blue",
           "blue",
           "blue",
           "blue",
           "blue",
           "blue",
           "blue",
           "blue",
           "blue",
           "blue",
           "blue",
           "blue",
           "blue",
           "blue",
           "blue",
           "blue",
           "blue",
           "blue",
           "blue",
           "blue",
           "blue",
           "blue",
           "blue",
           "blue",
           "blue",
           "blue",
           "blue",
           "blue",
           "blue",
           "blue",
           "blue",
           "blue",
           "blue",
           "blue",
           "blue",
           "blue",
           "blue",
           "blue",
           "blue",
           "blue",
           "blue",
           "blue",
           "blue",
           "blue",
           "blue",
           "blue",
           "blue",
           "blue",
           "blue",
           "blue",
           "blue",
           "blue",
           "blue",
           "blue",
           "blue",
           "blue",
           "blue",
           "blue",
           "blue",
           "blue",
           "blue",
           "blue",
           "blue",
           "blue",
           "blue",
           "blue",
           "blue",
           "blue",
           "blue",
           "blue",
           "blue",
           "blue",
           "blue",
           "blue",
           "blue",
           "blue",
           "blue",
           "blue",
           "blue",
           "blue",
           "blue",
           "blue",
           "blue",
           "blue",
           "blue",
           "blue",
           "blue",
           "blue",
           "blue",
           "blue",
           "blue",
           "blue",
           "blue",
           "blue",
           "blue",
           "blue",
           "blue",
           "blue",
           "blue",
           "blue",
           "blue",
           "blue",
           "blue",
           "blue",
           "blue",
           "blue",
           "blue",
           "blue",
           "blue",
           "blue",
           "blue",
           "blue",
           "blue",
           "blue",
           "blue",
           "blue",
           "blue",
           "blue",
           "blue",
           "blue",
           "blue",
           "blue",
           "blue",
           "blue",
           "blue",
           "blue",
           "blue",
           "blue",
           "blue",
           "blue",
           "blue",
           "blue",
           "blue",
           "blue",
           "blue",
           "blue",
           "blue",
           "blue",
           "blue",
           "blue",
           "blue",
           "blue",
           "blue",
           "blue",
           "blue",
           "blue"
          ],
          "opacity": 0.7,
          "size": [
           1,
           1,
           1,
           1,
           1,
           1,
           1,
           1,
           1,
           1,
           1,
           1,
           1,
           1,
           1,
           1,
           1,
           1,
           1,
           1,
           1,
           1,
           1,
           1,
           1,
           1,
           1,
           1,
           1,
           1,
           1,
           1,
           1,
           1,
           1,
           1,
           1,
           1,
           1,
           1,
           1,
           2.677729360000213,
           2.7818860142929185,
           2.819464246397979,
           2.838752141805032,
           2.850385747326544,
           2.858039358847356,
           2.863293412681071,
           2.8669031054411964,
           2.869220521035966,
           2.870343846304298,
           2.870143155567285,
           2.8681875524204767,
           2.8635233504671724,
           2.8541415360261797,
           2.8357500085323313,
           2.7991325176820605,
           2.7256469978715585,
           2.5843779930914277,
           2.3440618005711036,
           2.0076479284925677,
           1.637935570500264,
           1.3304186086493108,
           1.1402381220114197,
           1.0502735972717225,
           1.0157281124288615,
           1.0043757834865394,
           1.0010870036067712,
           1.0002393295625478,
           1.0000459189341249,
           1.000007471473952,
           1.0000009897104647,
           1.0000001003489636,
           1.000000007067809,
           1.0000000002935947,
           1.0000000000052875,
           1.0000000000000207,
           1,
           1,
           1,
           4.016533713135008,
           4.365065105363909,
           4.499376538505285,
           4.5700288478266105,
           4.613025432578466,
           4.64124146637981,
           4.660281597350242,
           4.672777927615979,
           4.67983129249407,
           4.681481431672807,
           4.676685323616569,
           4.662826848050219,
           4.634455563908643,
           4.580490163452652,
           4.478601059013947,
           4.2867055523853015,
           3.9414329138161883,
           3.3949766492012983,
           2.6978405303019706,
           2.0154077031537874,
           1.5058319608210555,
           1.2112266422289157,
           1.0754937687996915,
           1.023624026840279,
           1.0065652267382208,
           1.0016253206063181,
           1.0003559463042806,
           1.0000678411216066,
           1.0000109565760436,
           1.0000014399752075,
           1.0000001448285527,
           1.0000000101182691,
           1.0000000004169474,
           1.00000000000745,
           1.0000000000000289,
           1,
           1,
           1,
           5.120520672182798,
           5.787250400795926,
           6.05866669563296,
           6.204394136636999,
           6.29357009407114,
           6.3516535215430245,
           6.38978679639859,
           6.413020576054265,
           6.4230586096450955,
           6.419020370352998,
           6.397060705955294,
           6.348737341269978,
           6.257323555428891,
           6.0907406697011846,
           5.791530325436163,
           5.275990328119797,
           4.480523508355855,
           3.4720004150612636,
           2.48370363097667,
           1.7446654686243865,
           1.314502823616813,
           1.1136278978946084,
           1.0357914888923392,
           1.0099625688356426,
           1.0024605577590358,
           1.0005361450202068,
           1.0001014992748691,
           1.000016266218143,
           1.0000021201912144,
           1.0000002114347157,
           1.0000000146455847,
           1.0000000005983976,
           1.000000000010603,
           1.0000000000000409,
           1,
           1,
           1,
           6.056535086304654,
           7.0778001202717,
           7.513009661049645,
           7.750561801735849,
           7.896157209684135,
           7.989657027538366,
           8.04845186035779,
           8.079932503072389,
           8.085558556086852,
           8.06166304181453,
           7.99812596699818,
           7.874586900523725,
           7.653245412156924,
           7.269021529611418,
           6.628235203146825,
           5.651203519969838,
           4.387920782449131,
           3.0954881776084395,
           2.0821376953642305,
           1.4680913062033132,
           1.1721213819773564,
           1.0547781273490038,
           1.0153029919285779,
           1.0037742648432013,
           1.0008185061262125,
           1.00015390211102,
           1.0000244671654888,
           1.0000031615551679,
           1.0000003124619015,
           1.0000000214480078,
           1.000000000868474,
           1.0000000000152531,
           1.0000000000000582,
           1,
           1,
           1,
           6.8696753008261595,
           8.259944828238545,
           8.875382881404727,
           9.215498369731677,
           9.423286002201504,
           9.55364379350576,
           9.630171561383367,
           9.661809146949292,
           9.64801779503534,
           9.579177831287613,
           9.433639552756341,
           9.171353452256083,
           8.7252087919373,
           7.999149216340514,
           6.901565650118951,
           5.448664456305625,
           3.876182867519123,
           2.5521780226230564,
           1.6958577265443906,
           1.2623158766233713,
           1.084701696779266,
           1.023804555377354,
           1.0058698482874955,
           1.0012675075388986,
           1.000236705834976,
           1.0000373198689294,
           1.0000047785593618,
           1.00000046780557,
           1.0000000318036366,
           1.0000000012755337,
           1.0000000000221925,
           1.000000000000084,
           1,
           1,
           1,
           7.591693061757728,
           9.352328605920823,
           10.15646250306394,
           10.604442478681978,
           10.875606798567075,
           11.039576040672248,
           11.125365008659521,
           11.141840815700382,
           11.083653444826812,
           10.930807500865306,
           10.644079706553216,
           10.158160166237131,
           9.379702459267815,
           8.211424209574957,
           6.6346401002716995,
           4.831848175842282,
           3.186179464220685,
           2.0286003483350417,
           1.4012992096148422,
           1.1322380295943055,
           1.0375075425705684,
           1.0092618239656819,
           1.0019926677446263,
           1.0003696228703425,
           1.0000577784486062,
           1.0000073276525345,
           1.0000007101747725,
           1.000000047790214,
           1.0000000018972963,
           1.0000000000326819,
           1.0000000000001223,
           1,
           1,
           1,
           8.245822439210308,
           10.37008941672158,
           11.364884246856686,
           11.920832485857341,
           12.251604141129725,
           12.440410717876661,
           12.520105072581924,
           12.496986826113943,
           12.357203571342604,
           12.065707918306837,
           11.561951163171692,
           10.758604944531086,
           9.558569348428943,
           7.916243200295053,
           5.949447504067257,
           4.005786668208664,
           2.5021340276973714,
           1.613733413006438,
           1.208102082885848,
           1.0598516689554975,
           1.0148347965738314,
           1.0031831373125508,
           1.000586584026465,
           1.0000908889058497,
           1.0000114116063537,
           1.0000010942600326,
           1.000000072840652,
           1.0000000028606277,
           1.000000000048753,
           1.0000000000001805,
           1,
           1,
           1,
           8.849697166243502,
           11.32561358412165,
           12.507375547228975,
           13.166121519839594,
           13.547148536976303,
           13.745393651987275,
           13.795232688485337,
           13.697278702001311,
           13.425524049869136,
           12.927324599590076,
           12.123864462343763,
           10.922768164316095,
           9.262098007191883,
           7.200761796366652,
           5.015373205714769,
           3.1515720933354707,
           1.9328201608790776,
           1.329102969481652,
           1.0966423511795518,
           1.0241284579208807,
           1.0051711800678056,
           1.0009470900433235,
           1.0001454350031185,
           1.0000180689000253,
           1.000001713170937,
           1.0000001127260816,
           1.0000000043760735,
           1.0000000000737355,
           1.0000000000002702,
           1,
           1,
           1,
           9.417181921346076,
           12.22903684799166,
           13.588744266455057,
           14.339448462501311,
           14.754907464613844,
           14.939312183507132,
           14.925790230040013,
           14.706327472561766,
           14.240987902823347,
           13.46227586398197,
           12.286089379860158,
           10.6437102208457,
           8.549771334409542,
           6.1987813311171225,
           4.0020105543038795,
           2.3986798506473916,
           1.5205545942587682,
           1.1576107598973018,
           1.0398485411047764,
           1.0085503065356798,
           1.001557527911737,
           1.000237017752532,
           1.0000291246833677,
           1.0000027285201687,
           1.0000001773302691,
           1.0000000067993016,
           1.0000000001131775,
           1.0000000000004097,
           1,
           1,
           1,
           9.959541816434154,
           13.08851710650496,
           14.611692198912703,
           15.437141900240457,
           15.863669418035702,
           16.001947046057566,
           15.881324518910038,
           15.483837996015934,
           14.758009927662867,
           13.63160951913938,
           12.036778467288158,
           9.960063064861973,
           7.522865398396294,
           5.0588728739195545,
           3.0521175492228556,
           1.8180983681098495,
           1.2587639772157768,
           1.0667741880610033,
           1.0143976127921852,
           1.0026119757458918,
           1.0003939447683659,
           1.0000478559116202,
           1.0000044267085326,
           1.0000002839211748,
           1.0000000107426594,
           1.0000000001764915,
           1.0000000000006308,
           1,
           1,
           1,
           10.486165704607219,
           13.910271124201838,
           15.57642367559201,
           16.45208361635872,
           16.857753988946445,
           16.908129218901227,
           16.627643799883682,
           15.990388159505551,
           14.941370628314692,
           13.420169704002019,
           11.399326091058688,
           8.945993013341518,
           6.303442216029485,
           3.9234069096662445,
           2.2668082331824664,
           1.4254775999273253,
           1.1133285835259583,
           1.024695083742826,
           1.0044717836771004,
           1.0006687532966652,
           1.000080282325302,
           1.0000073267445284,
           1.0000004633219528,
           1.0000000172821792,
           1.0000000002799603,
           1.000000000000987,
           1,
           1,
           1,
           11.004945430529075,
           14.698356654524147,
           16.480056974961194,
           17.373055086134766,
           17.716817981680936,
           17.628859935913496,
           17.130285061461382,
           16.193689724787337,
           14.773607765675907,
           12.840248171750636,
           10.426705082288311,
           7.69705891534176,
           5.019918532034741,
           2.9146017181873907,
           1.6954730352058056,
           1.1941557192328218,
           1.04312707913188,
           1.0078234582941241,
           1.0011612928864078,
           1.0001377365143986,
           1.0000123920815518,
           1.0000007718401274,
           1.0000000283508126,
           1.000000000452343,
           1.0000000000015714,
           1.0000000000000002,
           1,
           1,
           11.522354714103416,
           15.454200877799323,
           17.315923264889655,
           18.184308490367716,
           18.416436937975554,
           18.133766195995644,
           17.359272726331728,
           16.074560347668463,
           14.25874475498185,
           11.928689797947698,
           9.191618863120087,
           6.320048821960134,
           3.7986311005348243,
           2.11916507551242,
           1.3339178421134874,
           1.0765682314358274,
           1.0139963062367834,
           1.0020660804248378,
           1.0002421197728197,
           1.0000214583035438,
           1.0000013149462001,
           1.0000000475045558,
           1.0000000007455943,
           1.000000000002549,
           1.0000000000000002,
           1,
           1,
           12.043250608200234,
           16.175927346175207,
           18.072937500346338,
           18.865684356667654,
           18.92975017072075,
           18.394720101686517,
           17.29402566430413,
           15.6306186131469,
           13.421262197353062,
           10.7399937512574,
           7.778475657624002,
           4.929096661415704,
           2.753088765560918,
           1.5717262992913292,
           1.1377556207712938,
           1.0256066817950926,
           1.0037717589846546,
           1.0004369595373772,
           1.000038122224117,
           1.0000022956376489,
           1.0000000814564527,
           1.0000000012558874,
           1.00000000000422,
           1.0000000000000004,
           1,
           1,
           12.570427703178497,
           16.857607257347304,
           18.735309952947524,
           19.393571719815835,
           19.230168834119183,
           18.389905759422575,
           16.926952062927263,
           14.876559607719772,
           12.301452676012705,
           9.339513379322451,
           6.2808558101346605,
           3.643363275692355,
           1.9634496206862213,
           1.2497077781284913,
           1.04786122651485,
           1.0070746063094858,
           1.0008113721368286,
           1.0000696492260466,
           1.0000041163315854,
           1.0000001432406034,
           1.000000002166027,
           1.0000000000071423,
           1.0000000000000007,
           1,
           1,
           13.10398258671148,
           17.488636234494326,
           19.282886725230874,
           19.742830861532067,
           19.294735165948634,
           18.10726536996044,
           16.26464755876762,
           13.841321777414535,
           10.949752732476378,
           7.80030640359336,
           4.80409655835836,
           2.5759037096922857,
           1.4518384160393774,
           1.0911353888353559,
           1.0136452134252683,
           1.001553601877747,
           1.000131205397506,
           1.0000076008732157,
           1.0000002589523396,
           1.000000003833661,
           1.000000000012383,
           1.0000000000000009,
           1,
           1,
           13.640585649238835,
           18.05348584925176,
           19.6923212575109,
           19.88949651358569,
           19.10737157579088,
           17.546348228871846,
           15.326529811004757,
           12.563662024603618,
           9.42281994843033,
           6.20555628462141,
           3.466905570438562,
           1.805143838872996,
           1.1757827097326055,
           1.0270589801962913,
           1.0030743538514575,
           1.000255593305635,
           1.0000144962799162,
           1.000000482621727,
           1.0000000069809667,
           1.0000000000220441,
           1.0000000000000018,
           1,
           1,
           14.172799912861448,
           18.532067677857953,
           19.939077853397997,
           19.813757981911422,
           18.661177407450886,
           16.718130087703727,
           14.141693359430175,
           11.088088578032414,
           7.783591776111913,
           4.655927273423876,
           2.3885057598407897,
           1.339970222417428,
           1.0550599100554248,
           1.006299262760823,
           1.0005165248347458,
           1.0000286527888667,
           1.0000009303270496,
           1.0000000131176843,
           1.0000000000404026,
           1.0000000000000029,
           1,
           1,
           14.688619061881765,
           18.900852100408525,
           20,
           19.502529381387095,
           17.95920562751031,
           15.64308933800513,
           12.745286814544357,
           9.4629453294531,
           6.107035835223211,
           3.275125657611339,
           1.6487799361057582,
           1.114361514250317,
           1.0133795134530137,
           1.001086540825087,
           1.0000589224035028,
           1.0000018618300013,
           1.000000025523199,
           1.0000000000764726,
           1.0000000000000056,
           1,
           1,
           15.171400855385459,
           19.13470550088219,
           19.85594462537086,
           18.950997056148363,
           17.013663229570632,
           14.348355357914794,
           11.17573219603098,
           7.742366487214396,
           4.4919425748402375,
           2.19487851425775,
           1.2398849328478025,
           1.0294419089612081,
           1.0023872291097156,
           1.0001266235316526,
           1.0000038853028983,
           1.0000000516298537,
           1.0000000001500204,
           1.0000000000000104,
           1,
           1,
           15.600328078632126,
           19.209192479782324,
           19.493906727248433,
           18.162851782217018,
           15.843971240704477,
           12.864896579882107,
           9.473986938819214,
           5.994370851118948,
           3.071907862334585,
           1.4986603074107219,
           1.0668569175645881,
           1.0054947748242307,
           1.000285777758546,
           1.0000084980934263,
           1.0000001090988166,
           1.0000000003063267,
           1.0000000000000209,
           1,
           1,
           15.951429081721045,
           19.102919117002145,
           18.90819597907459,
           17.149329304256675,
           14.474375810194632,
           11.225602619537941,
           7.686423445653451,
           4.3174568992601134,
           1.9983266646241158,
           1.1550426057503027,
           1.0132731797594483,
           1.0006810883746184,
           1.000019599877605,
           1.000000242185594,
           1.0000000006543266,
           1.0000000000000429,
           1,
           1,
           16.199052769203583,
           18.79945670294918,
           18.1005252588319,
           15.927497549778174,
           12.93178418388121,
           9.465093790670515,
           5.874494711390773,
           2.859925862206275,
           1.35934378216216,
           1.0336005979243328,
           1.0017240075325629,
           1.000048007636294,
           1.0000005686320381,
           1.0000000014709567,
           1.0000000000000921,
           1,
           1,
           16.317568694458075,
           18.288514611308297,
           17.07918897554411,
           14.518329211201522,
           11.244361303581062,
           7.622769955310131,
           4.136711425698206,
           1.8020549640422214,
           1.0883765827405196,
           1.0046596147157338,
           1.0001259276098926,
           1.000001423756237,
           1.0000000035057075,
           1.0000000000002096,
           1,
           1,
           16.283011911519033,
           17.566269971067122,
           15.857706390646655,
           12.94501372532799,
           9.441458559094306,
           5.753168242243908,
           2.6410802535693056,
           1.2359810959771382,
           1.013488658154352,
           1.0003571818470964,
           1.0000038399148279,
           1.0000000089375358,
           1.000000000000506,
           1,
           1,
           16.074445316744786,
           16.63499551287176,
           14.453328824686732,
           11.23183212917958,
           7.5562291180273045,
           3.953558785184671,
           1.609750085312277,
           1.0416629038691156,
           1.0011073792221077,
           1.0000112945599424,
           1.000000024647583,
           1.0000000000013094,
           1,
           1,
           15.674942529595414,
           15.502255554492143,
           12.885710539242517,
           9.403955577449048,
           5.635512611311548,
           2.416759131161594,
           1.1343883633328011,
           1.0037928650921,
           1.0000367927683134,
           1.000000074572091,
           1.0000000000036777,
           1,
           1,
           15.072229431757108,
           14.179937848519835,
           11.175930424936608,
           7.48920752010824,
           3.772088049242421,
           1.426379185826741,
           1.0144412768987847,
           1.0001352999948798,
           1.0000002520695006,
           1.0000000000113807,
           1,
           1,
           14.259092440886128,
           12.683305132296173,
           9.346061154736308,
           5.526091356819571,
           2.1879999251791604,
           1.0604071181356887,
           1.000574825421788,
           1.0000009749636045,
           1.0000000000395852,
           1,
           1,
           13.233644950048745,
           11.030164508362711,
           7.419919774165045,
           3.597370370343659,
           1.2595045091654327,
           1.0028939014418077,
           1.0000044559305954,
           1.0000000001589657,
           1,
           1,
           11.999474168720008,
           9.240241190302017,
           5.428097188458502,
           1.9555935557017872,
           1.0175306892335207,
           1.0000251498505184,
           1.0000000007648715,
           1,
           1,
           10.56562727088141,
           7.335040653557788,
           3.4364599731915173,
           1.1214257711627442,
           1.0001863410266,
           1.0000000046517035,
           1,
           1,
           8.946384418223428,
           5.339699291145932,
           1.7201535455749253,
           1.001962227944423,
           1.0000000387773826,
           1,
           1,
           7.160841215745285,
           3.299217681150687,
           1.0308538165366194,
           1.0000005051193026,
           1,
           1,
           5.232659842821619,
           1.4821631156630122,
           1.0000129340184953,
           1,
           1,
           3.1933585938398283,
           1.0009974968510384,
           1,
           1,
           1.2420080331892425,
           1,
           1,
           1,
           1
          ]
         },
         "mode": "markers",
         "type": "scatter3d",
         "x": [
          0,
          0,
          0,
          0,
          0,
          0,
          0,
          0,
          0,
          0,
          0,
          0,
          0,
          0,
          0,
          0,
          0,
          0,
          0,
          0,
          0,
          0,
          0,
          0,
          0,
          0,
          0,
          0,
          0,
          0,
          0,
          0,
          0,
          0,
          0,
          0,
          0,
          0,
          0,
          0,
          0.02564102564102564,
          0.02564102564102564,
          0.02564102564102564,
          0.02564102564102564,
          0.02564102564102564,
          0.02564102564102564,
          0.02564102564102564,
          0.02564102564102564,
          0.02564102564102564,
          0.02564102564102564,
          0.02564102564102564,
          0.02564102564102564,
          0.02564102564102564,
          0.02564102564102564,
          0.02564102564102564,
          0.02564102564102564,
          0.02564102564102564,
          0.02564102564102564,
          0.02564102564102564,
          0.02564102564102564,
          0.02564102564102564,
          0.02564102564102564,
          0.02564102564102564,
          0.02564102564102564,
          0.02564102564102564,
          0.02564102564102564,
          0.02564102564102564,
          0.02564102564102564,
          0.02564102564102564,
          0.02564102564102564,
          0.02564102564102564,
          0.02564102564102564,
          0.02564102564102564,
          0.02564102564102564,
          0.02564102564102564,
          0.02564102564102564,
          0.02564102564102564,
          0.02564102564102564,
          0.02564102564102564,
          0.05128205128205128,
          0.05128205128205128,
          0.05128205128205128,
          0.05128205128205128,
          0.05128205128205128,
          0.05128205128205128,
          0.05128205128205128,
          0.05128205128205128,
          0.05128205128205128,
          0.05128205128205128,
          0.05128205128205128,
          0.05128205128205128,
          0.05128205128205128,
          0.05128205128205128,
          0.05128205128205128,
          0.05128205128205128,
          0.05128205128205128,
          0.05128205128205128,
          0.05128205128205128,
          0.05128205128205128,
          0.05128205128205128,
          0.05128205128205128,
          0.05128205128205128,
          0.05128205128205128,
          0.05128205128205128,
          0.05128205128205128,
          0.05128205128205128,
          0.05128205128205128,
          0.05128205128205128,
          0.05128205128205128,
          0.05128205128205128,
          0.05128205128205128,
          0.05128205128205128,
          0.05128205128205128,
          0.05128205128205128,
          0.05128205128205128,
          0.05128205128205128,
          0.05128205128205128,
          0.07692307692307693,
          0.07692307692307693,
          0.07692307692307693,
          0.07692307692307693,
          0.07692307692307693,
          0.07692307692307693,
          0.07692307692307693,
          0.07692307692307693,
          0.07692307692307693,
          0.07692307692307693,
          0.07692307692307693,
          0.07692307692307693,
          0.07692307692307693,
          0.07692307692307693,
          0.07692307692307693,
          0.07692307692307693,
          0.07692307692307693,
          0.07692307692307693,
          0.07692307692307693,
          0.07692307692307693,
          0.07692307692307693,
          0.07692307692307693,
          0.07692307692307693,
          0.07692307692307693,
          0.07692307692307693,
          0.07692307692307693,
          0.07692307692307693,
          0.07692307692307693,
          0.07692307692307693,
          0.07692307692307693,
          0.07692307692307693,
          0.07692307692307693,
          0.07692307692307693,
          0.07692307692307693,
          0.07692307692307693,
          0.07692307692307693,
          0.07692307692307693,
          0.10256410256410256,
          0.10256410256410256,
          0.10256410256410256,
          0.10256410256410256,
          0.10256410256410256,
          0.10256410256410256,
          0.10256410256410256,
          0.10256410256410256,
          0.10256410256410256,
          0.10256410256410256,
          0.10256410256410256,
          0.10256410256410256,
          0.10256410256410256,
          0.10256410256410256,
          0.10256410256410256,
          0.10256410256410256,
          0.10256410256410256,
          0.10256410256410256,
          0.10256410256410256,
          0.10256410256410256,
          0.10256410256410256,
          0.10256410256410256,
          0.10256410256410256,
          0.10256410256410256,
          0.10256410256410256,
          0.10256410256410256,
          0.10256410256410256,
          0.10256410256410256,
          0.10256410256410256,
          0.10256410256410256,
          0.10256410256410256,
          0.10256410256410256,
          0.10256410256410256,
          0.10256410256410256,
          0.10256410256410256,
          0.10256410256410256,
          0.1282051282051282,
          0.1282051282051282,
          0.1282051282051282,
          0.1282051282051282,
          0.1282051282051282,
          0.1282051282051282,
          0.1282051282051282,
          0.1282051282051282,
          0.1282051282051282,
          0.1282051282051282,
          0.1282051282051282,
          0.1282051282051282,
          0.1282051282051282,
          0.1282051282051282,
          0.1282051282051282,
          0.1282051282051282,
          0.1282051282051282,
          0.1282051282051282,
          0.1282051282051282,
          0.1282051282051282,
          0.1282051282051282,
          0.1282051282051282,
          0.1282051282051282,
          0.1282051282051282,
          0.1282051282051282,
          0.1282051282051282,
          0.1282051282051282,
          0.1282051282051282,
          0.1282051282051282,
          0.1282051282051282,
          0.1282051282051282,
          0.1282051282051282,
          0.1282051282051282,
          0.1282051282051282,
          0.1282051282051282,
          0.15384615384615385,
          0.15384615384615385,
          0.15384615384615385,
          0.15384615384615385,
          0.15384615384615385,
          0.15384615384615385,
          0.15384615384615385,
          0.15384615384615385,
          0.15384615384615385,
          0.15384615384615385,
          0.15384615384615385,
          0.15384615384615385,
          0.15384615384615385,
          0.15384615384615385,
          0.15384615384615385,
          0.15384615384615385,
          0.15384615384615385,
          0.15384615384615385,
          0.15384615384615385,
          0.15384615384615385,
          0.15384615384615385,
          0.15384615384615385,
          0.15384615384615385,
          0.15384615384615385,
          0.15384615384615385,
          0.15384615384615385,
          0.15384615384615385,
          0.15384615384615385,
          0.15384615384615385,
          0.15384615384615385,
          0.15384615384615385,
          0.15384615384615385,
          0.15384615384615385,
          0.15384615384615385,
          0.1794871794871795,
          0.1794871794871795,
          0.1794871794871795,
          0.1794871794871795,
          0.1794871794871795,
          0.1794871794871795,
          0.1794871794871795,
          0.1794871794871795,
          0.1794871794871795,
          0.1794871794871795,
          0.1794871794871795,
          0.1794871794871795,
          0.1794871794871795,
          0.1794871794871795,
          0.1794871794871795,
          0.1794871794871795,
          0.1794871794871795,
          0.1794871794871795,
          0.1794871794871795,
          0.1794871794871795,
          0.1794871794871795,
          0.1794871794871795,
          0.1794871794871795,
          0.1794871794871795,
          0.1794871794871795,
          0.1794871794871795,
          0.1794871794871795,
          0.1794871794871795,
          0.1794871794871795,
          0.1794871794871795,
          0.1794871794871795,
          0.1794871794871795,
          0.1794871794871795,
          0.20512820512820512,
          0.20512820512820512,
          0.20512820512820512,
          0.20512820512820512,
          0.20512820512820512,
          0.20512820512820512,
          0.20512820512820512,
          0.20512820512820512,
          0.20512820512820512,
          0.20512820512820512,
          0.20512820512820512,
          0.20512820512820512,
          0.20512820512820512,
          0.20512820512820512,
          0.20512820512820512,
          0.20512820512820512,
          0.20512820512820512,
          0.20512820512820512,
          0.20512820512820512,
          0.20512820512820512,
          0.20512820512820512,
          0.20512820512820512,
          0.20512820512820512,
          0.20512820512820512,
          0.20512820512820512,
          0.20512820512820512,
          0.20512820512820512,
          0.20512820512820512,
          0.20512820512820512,
          0.20512820512820512,
          0.20512820512820512,
          0.20512820512820512,
          0.23076923076923078,
          0.23076923076923078,
          0.23076923076923078,
          0.23076923076923078,
          0.23076923076923078,
          0.23076923076923078,
          0.23076923076923078,
          0.23076923076923078,
          0.23076923076923078,
          0.23076923076923078,
          0.23076923076923078,
          0.23076923076923078,
          0.23076923076923078,
          0.23076923076923078,
          0.23076923076923078,
          0.23076923076923078,
          0.23076923076923078,
          0.23076923076923078,
          0.23076923076923078,
          0.23076923076923078,
          0.23076923076923078,
          0.23076923076923078,
          0.23076923076923078,
          0.23076923076923078,
          0.23076923076923078,
          0.23076923076923078,
          0.23076923076923078,
          0.23076923076923078,
          0.23076923076923078,
          0.23076923076923078,
          0.23076923076923078,
          0.2564102564102564,
          0.2564102564102564,
          0.2564102564102564,
          0.2564102564102564,
          0.2564102564102564,
          0.2564102564102564,
          0.2564102564102564,
          0.2564102564102564,
          0.2564102564102564,
          0.2564102564102564,
          0.2564102564102564,
          0.2564102564102564,
          0.2564102564102564,
          0.2564102564102564,
          0.2564102564102564,
          0.2564102564102564,
          0.2564102564102564,
          0.2564102564102564,
          0.2564102564102564,
          0.2564102564102564,
          0.2564102564102564,
          0.2564102564102564,
          0.2564102564102564,
          0.2564102564102564,
          0.2564102564102564,
          0.2564102564102564,
          0.2564102564102564,
          0.2564102564102564,
          0.2564102564102564,
          0.2564102564102564,
          0.28205128205128205,
          0.28205128205128205,
          0.28205128205128205,
          0.28205128205128205,
          0.28205128205128205,
          0.28205128205128205,
          0.28205128205128205,
          0.28205128205128205,
          0.28205128205128205,
          0.28205128205128205,
          0.28205128205128205,
          0.28205128205128205,
          0.28205128205128205,
          0.28205128205128205,
          0.28205128205128205,
          0.28205128205128205,
          0.28205128205128205,
          0.28205128205128205,
          0.28205128205128205,
          0.28205128205128205,
          0.28205128205128205,
          0.28205128205128205,
          0.28205128205128205,
          0.28205128205128205,
          0.28205128205128205,
          0.28205128205128205,
          0.28205128205128205,
          0.28205128205128205,
          0.28205128205128205,
          0.3076923076923077,
          0.3076923076923077,
          0.3076923076923077,
          0.3076923076923077,
          0.3076923076923077,
          0.3076923076923077,
          0.3076923076923077,
          0.3076923076923077,
          0.3076923076923077,
          0.3076923076923077,
          0.3076923076923077,
          0.3076923076923077,
          0.3076923076923077,
          0.3076923076923077,
          0.3076923076923077,
          0.3076923076923077,
          0.3076923076923077,
          0.3076923076923077,
          0.3076923076923077,
          0.3076923076923077,
          0.3076923076923077,
          0.3076923076923077,
          0.3076923076923077,
          0.3076923076923077,
          0.3076923076923077,
          0.3076923076923077,
          0.3076923076923077,
          0.3076923076923077,
          0.3333333333333333,
          0.3333333333333333,
          0.3333333333333333,
          0.3333333333333333,
          0.3333333333333333,
          0.3333333333333333,
          0.3333333333333333,
          0.3333333333333333,
          0.3333333333333333,
          0.3333333333333333,
          0.3333333333333333,
          0.3333333333333333,
          0.3333333333333333,
          0.3333333333333333,
          0.3333333333333333,
          0.3333333333333333,
          0.3333333333333333,
          0.3333333333333333,
          0.3333333333333333,
          0.3333333333333333,
          0.3333333333333333,
          0.3333333333333333,
          0.3333333333333333,
          0.3333333333333333,
          0.3333333333333333,
          0.3333333333333333,
          0.3333333333333333,
          0.358974358974359,
          0.358974358974359,
          0.358974358974359,
          0.358974358974359,
          0.358974358974359,
          0.358974358974359,
          0.358974358974359,
          0.358974358974359,
          0.358974358974359,
          0.358974358974359,
          0.358974358974359,
          0.358974358974359,
          0.358974358974359,
          0.358974358974359,
          0.358974358974359,
          0.358974358974359,
          0.358974358974359,
          0.358974358974359,
          0.358974358974359,
          0.358974358974359,
          0.358974358974359,
          0.358974358974359,
          0.358974358974359,
          0.358974358974359,
          0.358974358974359,
          0.358974358974359,
          0.38461538461538464,
          0.38461538461538464,
          0.38461538461538464,
          0.38461538461538464,
          0.38461538461538464,
          0.38461538461538464,
          0.38461538461538464,
          0.38461538461538464,
          0.38461538461538464,
          0.38461538461538464,
          0.38461538461538464,
          0.38461538461538464,
          0.38461538461538464,
          0.38461538461538464,
          0.38461538461538464,
          0.38461538461538464,
          0.38461538461538464,
          0.38461538461538464,
          0.38461538461538464,
          0.38461538461538464,
          0.38461538461538464,
          0.38461538461538464,
          0.38461538461538464,
          0.38461538461538464,
          0.38461538461538464,
          0.41025641025641024,
          0.41025641025641024,
          0.41025641025641024,
          0.41025641025641024,
          0.41025641025641024,
          0.41025641025641024,
          0.41025641025641024,
          0.41025641025641024,
          0.41025641025641024,
          0.41025641025641024,
          0.41025641025641024,
          0.41025641025641024,
          0.41025641025641024,
          0.41025641025641024,
          0.41025641025641024,
          0.41025641025641024,
          0.41025641025641024,
          0.41025641025641024,
          0.41025641025641024,
          0.41025641025641024,
          0.41025641025641024,
          0.41025641025641024,
          0.41025641025641024,
          0.41025641025641024,
          0.4358974358974359,
          0.4358974358974359,
          0.4358974358974359,
          0.4358974358974359,
          0.4358974358974359,
          0.4358974358974359,
          0.4358974358974359,
          0.4358974358974359,
          0.4358974358974359,
          0.4358974358974359,
          0.4358974358974359,
          0.4358974358974359,
          0.4358974358974359,
          0.4358974358974359,
          0.4358974358974359,
          0.4358974358974359,
          0.4358974358974359,
          0.4358974358974359,
          0.4358974358974359,
          0.4358974358974359,
          0.4358974358974359,
          0.4358974358974359,
          0.4358974358974359,
          0.46153846153846156,
          0.46153846153846156,
          0.46153846153846156,
          0.46153846153846156,
          0.46153846153846156,
          0.46153846153846156,
          0.46153846153846156,
          0.46153846153846156,
          0.46153846153846156,
          0.46153846153846156,
          0.46153846153846156,
          0.46153846153846156,
          0.46153846153846156,
          0.46153846153846156,
          0.46153846153846156,
          0.46153846153846156,
          0.46153846153846156,
          0.46153846153846156,
          0.46153846153846156,
          0.46153846153846156,
          0.46153846153846156,
          0.46153846153846156,
          0.48717948717948717,
          0.48717948717948717,
          0.48717948717948717,
          0.48717948717948717,
          0.48717948717948717,
          0.48717948717948717,
          0.48717948717948717,
          0.48717948717948717,
          0.48717948717948717,
          0.48717948717948717,
          0.48717948717948717,
          0.48717948717948717,
          0.48717948717948717,
          0.48717948717948717,
          0.48717948717948717,
          0.48717948717948717,
          0.48717948717948717,
          0.48717948717948717,
          0.48717948717948717,
          0.48717948717948717,
          0.48717948717948717,
          0.5128205128205128,
          0.5128205128205128,
          0.5128205128205128,
          0.5128205128205128,
          0.5128205128205128,
          0.5128205128205128,
          0.5128205128205128,
          0.5128205128205128,
          0.5128205128205128,
          0.5128205128205128,
          0.5128205128205128,
          0.5128205128205128,
          0.5128205128205128,
          0.5128205128205128,
          0.5128205128205128,
          0.5128205128205128,
          0.5128205128205128,
          0.5128205128205128,
          0.5128205128205128,
          0.5128205128205128,
          0.5384615384615384,
          0.5384615384615384,
          0.5384615384615384,
          0.5384615384615384,
          0.5384615384615384,
          0.5384615384615384,
          0.5384615384615384,
          0.5384615384615384,
          0.5384615384615384,
          0.5384615384615384,
          0.5384615384615384,
          0.5384615384615384,
          0.5384615384615384,
          0.5384615384615384,
          0.5384615384615384,
          0.5384615384615384,
          0.5384615384615384,
          0.5384615384615384,
          0.5384615384615384,
          0.5641025641025641,
          0.5641025641025641,
          0.5641025641025641,
          0.5641025641025641,
          0.5641025641025641,
          0.5641025641025641,
          0.5641025641025641,
          0.5641025641025641,
          0.5641025641025641,
          0.5641025641025641,
          0.5641025641025641,
          0.5641025641025641,
          0.5641025641025641,
          0.5641025641025641,
          0.5641025641025641,
          0.5641025641025641,
          0.5641025641025641,
          0.5641025641025641,
          0.5897435897435898,
          0.5897435897435898,
          0.5897435897435898,
          0.5897435897435898,
          0.5897435897435898,
          0.5897435897435898,
          0.5897435897435898,
          0.5897435897435898,
          0.5897435897435898,
          0.5897435897435898,
          0.5897435897435898,
          0.5897435897435898,
          0.5897435897435898,
          0.5897435897435898,
          0.5897435897435898,
          0.5897435897435898,
          0.5897435897435898,
          0.6153846153846154,
          0.6153846153846154,
          0.6153846153846154,
          0.6153846153846154,
          0.6153846153846154,
          0.6153846153846154,
          0.6153846153846154,
          0.6153846153846154,
          0.6153846153846154,
          0.6153846153846154,
          0.6153846153846154,
          0.6153846153846154,
          0.6153846153846154,
          0.6153846153846154,
          0.6153846153846154,
          0.6153846153846154,
          0.6410256410256411,
          0.6410256410256411,
          0.6410256410256411,
          0.6410256410256411,
          0.6410256410256411,
          0.6410256410256411,
          0.6410256410256411,
          0.6410256410256411,
          0.6410256410256411,
          0.6410256410256411,
          0.6410256410256411,
          0.6410256410256411,
          0.6410256410256411,
          0.6410256410256411,
          0.6410256410256411,
          0.6666666666666666,
          0.6666666666666666,
          0.6666666666666666,
          0.6666666666666666,
          0.6666666666666666,
          0.6666666666666666,
          0.6666666666666666,
          0.6666666666666666,
          0.6666666666666666,
          0.6666666666666666,
          0.6666666666666666,
          0.6666666666666666,
          0.6666666666666666,
          0.6666666666666666,
          0.6923076923076923,
          0.6923076923076923,
          0.6923076923076923,
          0.6923076923076923,
          0.6923076923076923,
          0.6923076923076923,
          0.6923076923076923,
          0.6923076923076923,
          0.6923076923076923,
          0.6923076923076923,
          0.6923076923076923,
          0.6923076923076923,
          0.6923076923076923,
          0.717948717948718,
          0.717948717948718,
          0.717948717948718,
          0.717948717948718,
          0.717948717948718,
          0.717948717948718,
          0.717948717948718,
          0.717948717948718,
          0.717948717948718,
          0.717948717948718,
          0.717948717948718,
          0.717948717948718,
          0.7435897435897436,
          0.7435897435897436,
          0.7435897435897436,
          0.7435897435897436,
          0.7435897435897436,
          0.7435897435897436,
          0.7435897435897436,
          0.7435897435897436,
          0.7435897435897436,
          0.7435897435897436,
          0.7435897435897436,
          0.7692307692307693,
          0.7692307692307693,
          0.7692307692307693,
          0.7692307692307693,
          0.7692307692307693,
          0.7692307692307693,
          0.7692307692307693,
          0.7692307692307693,
          0.7692307692307693,
          0.7692307692307693,
          0.7948717948717948,
          0.7948717948717948,
          0.7948717948717948,
          0.7948717948717948,
          0.7948717948717948,
          0.7948717948717948,
          0.7948717948717948,
          0.7948717948717948,
          0.7948717948717948,
          0.8205128205128205,
          0.8205128205128205,
          0.8205128205128205,
          0.8205128205128205,
          0.8205128205128205,
          0.8205128205128205,
          0.8205128205128205,
          0.8205128205128205,
          0.8461538461538461,
          0.8461538461538461,
          0.8461538461538461,
          0.8461538461538461,
          0.8461538461538461,
          0.8461538461538461,
          0.8461538461538461,
          0.8717948717948718,
          0.8717948717948718,
          0.8717948717948718,
          0.8717948717948718,
          0.8717948717948718,
          0.8717948717948718,
          0.8974358974358975,
          0.8974358974358975,
          0.8974358974358975,
          0.8974358974358975,
          0.8974358974358975,
          0.9230769230769231,
          0.9230769230769231,
          0.9230769230769231,
          0.9230769230769231,
          0.9487179487179487,
          0.9487179487179487,
          0.9487179487179487,
          0.9743589743589743,
          0.9743589743589743,
          1
         ],
         "y": [
          0,
          0.02564102564102564,
          0.05128205128205128,
          0.07692307692307693,
          0.10256410256410256,
          0.1282051282051282,
          0.15384615384615385,
          0.1794871794871795,
          0.20512820512820512,
          0.23076923076923078,
          0.2564102564102564,
          0.28205128205128205,
          0.3076923076923077,
          0.3333333333333333,
          0.358974358974359,
          0.38461538461538464,
          0.41025641025641024,
          0.4358974358974359,
          0.46153846153846156,
          0.48717948717948717,
          0.5128205128205128,
          0.5384615384615384,
          0.5641025641025641,
          0.5897435897435898,
          0.6153846153846154,
          0.6410256410256411,
          0.6666666666666666,
          0.6923076923076923,
          0.717948717948718,
          0.7435897435897436,
          0.7692307692307693,
          0.7948717948717948,
          0.8205128205128205,
          0.8461538461538461,
          0.8717948717948718,
          0.8974358974358975,
          0.9230769230769231,
          0.9487179487179487,
          0.9743589743589743,
          1,
          0,
          0.02564102564102564,
          0.05128205128205128,
          0.07692307692307693,
          0.10256410256410256,
          0.1282051282051282,
          0.15384615384615385,
          0.1794871794871795,
          0.20512820512820512,
          0.23076923076923078,
          0.2564102564102564,
          0.28205128205128205,
          0.3076923076923077,
          0.3333333333333333,
          0.358974358974359,
          0.38461538461538464,
          0.41025641025641024,
          0.4358974358974359,
          0.46153846153846156,
          0.48717948717948717,
          0.5128205128205128,
          0.5384615384615384,
          0.5641025641025641,
          0.5897435897435898,
          0.6153846153846154,
          0.6410256410256411,
          0.6666666666666666,
          0.6923076923076923,
          0.717948717948718,
          0.7435897435897436,
          0.7692307692307693,
          0.7948717948717948,
          0.8205128205128205,
          0.8461538461538461,
          0.8717948717948718,
          0.8974358974358975,
          0.9230769230769231,
          0.9487179487179487,
          0.9743589743589743,
          0,
          0.02564102564102564,
          0.05128205128205128,
          0.07692307692307693,
          0.10256410256410256,
          0.1282051282051282,
          0.15384615384615385,
          0.1794871794871795,
          0.20512820512820512,
          0.23076923076923078,
          0.2564102564102564,
          0.28205128205128205,
          0.3076923076923077,
          0.3333333333333333,
          0.358974358974359,
          0.38461538461538464,
          0.41025641025641024,
          0.4358974358974359,
          0.46153846153846156,
          0.48717948717948717,
          0.5128205128205128,
          0.5384615384615384,
          0.5641025641025641,
          0.5897435897435898,
          0.6153846153846154,
          0.6410256410256411,
          0.6666666666666666,
          0.6923076923076923,
          0.717948717948718,
          0.7435897435897436,
          0.7692307692307693,
          0.7948717948717948,
          0.8205128205128205,
          0.8461538461538461,
          0.8717948717948718,
          0.8974358974358975,
          0.9230769230769231,
          0.9487179487179487,
          0,
          0.02564102564102564,
          0.05128205128205128,
          0.07692307692307693,
          0.10256410256410256,
          0.1282051282051282,
          0.15384615384615385,
          0.1794871794871795,
          0.20512820512820512,
          0.23076923076923078,
          0.2564102564102564,
          0.28205128205128205,
          0.3076923076923077,
          0.3333333333333333,
          0.358974358974359,
          0.38461538461538464,
          0.41025641025641024,
          0.4358974358974359,
          0.46153846153846156,
          0.48717948717948717,
          0.5128205128205128,
          0.5384615384615384,
          0.5641025641025641,
          0.5897435897435898,
          0.6153846153846154,
          0.6410256410256411,
          0.6666666666666666,
          0.6923076923076923,
          0.717948717948718,
          0.7435897435897436,
          0.7692307692307693,
          0.7948717948717948,
          0.8205128205128205,
          0.8461538461538461,
          0.8717948717948718,
          0.8974358974358975,
          0.9230769230769231,
          0,
          0.02564102564102564,
          0.05128205128205128,
          0.07692307692307693,
          0.10256410256410256,
          0.1282051282051282,
          0.15384615384615385,
          0.1794871794871795,
          0.20512820512820512,
          0.23076923076923078,
          0.2564102564102564,
          0.28205128205128205,
          0.3076923076923077,
          0.3333333333333333,
          0.358974358974359,
          0.38461538461538464,
          0.41025641025641024,
          0.4358974358974359,
          0.46153846153846156,
          0.48717948717948717,
          0.5128205128205128,
          0.5384615384615384,
          0.5641025641025641,
          0.5897435897435898,
          0.6153846153846154,
          0.6410256410256411,
          0.6666666666666666,
          0.6923076923076923,
          0.717948717948718,
          0.7435897435897436,
          0.7692307692307693,
          0.7948717948717948,
          0.8205128205128205,
          0.8461538461538461,
          0.8717948717948718,
          0.8974358974358975,
          0,
          0.02564102564102564,
          0.05128205128205128,
          0.07692307692307693,
          0.10256410256410256,
          0.1282051282051282,
          0.15384615384615385,
          0.1794871794871795,
          0.20512820512820512,
          0.23076923076923078,
          0.2564102564102564,
          0.28205128205128205,
          0.3076923076923077,
          0.3333333333333333,
          0.358974358974359,
          0.38461538461538464,
          0.41025641025641024,
          0.4358974358974359,
          0.46153846153846156,
          0.48717948717948717,
          0.5128205128205128,
          0.5384615384615384,
          0.5641025641025641,
          0.5897435897435898,
          0.6153846153846154,
          0.6410256410256411,
          0.6666666666666666,
          0.6923076923076923,
          0.717948717948718,
          0.7435897435897436,
          0.7692307692307693,
          0.7948717948717948,
          0.8205128205128205,
          0.8461538461538461,
          0.8717948717948718,
          0,
          0.02564102564102564,
          0.05128205128205128,
          0.07692307692307693,
          0.10256410256410256,
          0.1282051282051282,
          0.15384615384615385,
          0.1794871794871795,
          0.20512820512820512,
          0.23076923076923078,
          0.2564102564102564,
          0.28205128205128205,
          0.3076923076923077,
          0.3333333333333333,
          0.358974358974359,
          0.38461538461538464,
          0.41025641025641024,
          0.4358974358974359,
          0.46153846153846156,
          0.48717948717948717,
          0.5128205128205128,
          0.5384615384615384,
          0.5641025641025641,
          0.5897435897435898,
          0.6153846153846154,
          0.6410256410256411,
          0.6666666666666666,
          0.6923076923076923,
          0.717948717948718,
          0.7435897435897436,
          0.7692307692307693,
          0.7948717948717948,
          0.8205128205128205,
          0.8461538461538461,
          0,
          0.02564102564102564,
          0.05128205128205128,
          0.07692307692307693,
          0.10256410256410256,
          0.1282051282051282,
          0.15384615384615385,
          0.1794871794871795,
          0.20512820512820512,
          0.23076923076923078,
          0.2564102564102564,
          0.28205128205128205,
          0.3076923076923077,
          0.3333333333333333,
          0.358974358974359,
          0.38461538461538464,
          0.41025641025641024,
          0.4358974358974359,
          0.46153846153846156,
          0.48717948717948717,
          0.5128205128205128,
          0.5384615384615384,
          0.5641025641025641,
          0.5897435897435898,
          0.6153846153846154,
          0.6410256410256411,
          0.6666666666666666,
          0.6923076923076923,
          0.717948717948718,
          0.7435897435897436,
          0.7692307692307693,
          0.7948717948717948,
          0.8205128205128205,
          0,
          0.02564102564102564,
          0.05128205128205128,
          0.07692307692307693,
          0.10256410256410256,
          0.1282051282051282,
          0.15384615384615385,
          0.1794871794871795,
          0.20512820512820512,
          0.23076923076923078,
          0.2564102564102564,
          0.28205128205128205,
          0.3076923076923077,
          0.3333333333333333,
          0.358974358974359,
          0.38461538461538464,
          0.41025641025641024,
          0.4358974358974359,
          0.46153846153846156,
          0.48717948717948717,
          0.5128205128205128,
          0.5384615384615384,
          0.5641025641025641,
          0.5897435897435898,
          0.6153846153846154,
          0.6410256410256411,
          0.6666666666666666,
          0.6923076923076923,
          0.717948717948718,
          0.7435897435897436,
          0.7692307692307693,
          0.7948717948717948,
          0,
          0.02564102564102564,
          0.05128205128205128,
          0.07692307692307693,
          0.10256410256410256,
          0.1282051282051282,
          0.15384615384615385,
          0.1794871794871795,
          0.20512820512820512,
          0.23076923076923078,
          0.2564102564102564,
          0.28205128205128205,
          0.3076923076923077,
          0.3333333333333333,
          0.358974358974359,
          0.38461538461538464,
          0.41025641025641024,
          0.4358974358974359,
          0.46153846153846156,
          0.48717948717948717,
          0.5128205128205128,
          0.5384615384615384,
          0.5641025641025641,
          0.5897435897435898,
          0.6153846153846154,
          0.6410256410256411,
          0.6666666666666666,
          0.6923076923076923,
          0.717948717948718,
          0.7435897435897436,
          0.7692307692307693,
          0,
          0.02564102564102564,
          0.05128205128205128,
          0.07692307692307693,
          0.10256410256410256,
          0.1282051282051282,
          0.15384615384615385,
          0.1794871794871795,
          0.20512820512820512,
          0.23076923076923078,
          0.2564102564102564,
          0.28205128205128205,
          0.3076923076923077,
          0.3333333333333333,
          0.358974358974359,
          0.38461538461538464,
          0.41025641025641024,
          0.4358974358974359,
          0.46153846153846156,
          0.48717948717948717,
          0.5128205128205128,
          0.5384615384615384,
          0.5641025641025641,
          0.5897435897435898,
          0.6153846153846154,
          0.6410256410256411,
          0.6666666666666666,
          0.6923076923076923,
          0.717948717948718,
          0.7435897435897436,
          0,
          0.02564102564102564,
          0.05128205128205128,
          0.07692307692307693,
          0.10256410256410256,
          0.1282051282051282,
          0.15384615384615385,
          0.1794871794871795,
          0.20512820512820512,
          0.23076923076923078,
          0.2564102564102564,
          0.28205128205128205,
          0.3076923076923077,
          0.3333333333333333,
          0.358974358974359,
          0.38461538461538464,
          0.41025641025641024,
          0.4358974358974359,
          0.46153846153846156,
          0.48717948717948717,
          0.5128205128205128,
          0.5384615384615384,
          0.5641025641025641,
          0.5897435897435898,
          0.6153846153846154,
          0.6410256410256411,
          0.6666666666666666,
          0.6923076923076923,
          0.717948717948718,
          0,
          0.02564102564102564,
          0.05128205128205128,
          0.07692307692307693,
          0.10256410256410256,
          0.1282051282051282,
          0.15384615384615385,
          0.1794871794871795,
          0.20512820512820512,
          0.23076923076923078,
          0.2564102564102564,
          0.28205128205128205,
          0.3076923076923077,
          0.3333333333333333,
          0.358974358974359,
          0.38461538461538464,
          0.41025641025641024,
          0.4358974358974359,
          0.46153846153846156,
          0.48717948717948717,
          0.5128205128205128,
          0.5384615384615384,
          0.5641025641025641,
          0.5897435897435898,
          0.6153846153846154,
          0.6410256410256411,
          0.6666666666666666,
          0.6923076923076923,
          0,
          0.02564102564102564,
          0.05128205128205128,
          0.07692307692307693,
          0.10256410256410256,
          0.1282051282051282,
          0.15384615384615385,
          0.1794871794871795,
          0.20512820512820512,
          0.23076923076923078,
          0.2564102564102564,
          0.28205128205128205,
          0.3076923076923077,
          0.3333333333333333,
          0.358974358974359,
          0.38461538461538464,
          0.41025641025641024,
          0.4358974358974359,
          0.46153846153846156,
          0.48717948717948717,
          0.5128205128205128,
          0.5384615384615384,
          0.5641025641025641,
          0.5897435897435898,
          0.6153846153846154,
          0.6410256410256411,
          0.6666666666666666,
          0,
          0.02564102564102564,
          0.05128205128205128,
          0.07692307692307693,
          0.10256410256410256,
          0.1282051282051282,
          0.15384615384615385,
          0.1794871794871795,
          0.20512820512820512,
          0.23076923076923078,
          0.2564102564102564,
          0.28205128205128205,
          0.3076923076923077,
          0.3333333333333333,
          0.358974358974359,
          0.38461538461538464,
          0.41025641025641024,
          0.4358974358974359,
          0.46153846153846156,
          0.48717948717948717,
          0.5128205128205128,
          0.5384615384615384,
          0.5641025641025641,
          0.5897435897435898,
          0.6153846153846154,
          0.6410256410256411,
          0,
          0.02564102564102564,
          0.05128205128205128,
          0.07692307692307693,
          0.10256410256410256,
          0.1282051282051282,
          0.15384615384615385,
          0.1794871794871795,
          0.20512820512820512,
          0.23076923076923078,
          0.2564102564102564,
          0.28205128205128205,
          0.3076923076923077,
          0.3333333333333333,
          0.358974358974359,
          0.38461538461538464,
          0.41025641025641024,
          0.4358974358974359,
          0.46153846153846156,
          0.48717948717948717,
          0.5128205128205128,
          0.5384615384615384,
          0.5641025641025641,
          0.5897435897435898,
          0.6153846153846154,
          0,
          0.02564102564102564,
          0.05128205128205128,
          0.07692307692307693,
          0.10256410256410256,
          0.1282051282051282,
          0.15384615384615385,
          0.1794871794871795,
          0.20512820512820512,
          0.23076923076923078,
          0.2564102564102564,
          0.28205128205128205,
          0.3076923076923077,
          0.3333333333333333,
          0.358974358974359,
          0.38461538461538464,
          0.41025641025641024,
          0.4358974358974359,
          0.46153846153846156,
          0.48717948717948717,
          0.5128205128205128,
          0.5384615384615384,
          0.5641025641025641,
          0.5897435897435898,
          0,
          0.02564102564102564,
          0.05128205128205128,
          0.07692307692307693,
          0.10256410256410256,
          0.1282051282051282,
          0.15384615384615385,
          0.1794871794871795,
          0.20512820512820512,
          0.23076923076923078,
          0.2564102564102564,
          0.28205128205128205,
          0.3076923076923077,
          0.3333333333333333,
          0.358974358974359,
          0.38461538461538464,
          0.41025641025641024,
          0.4358974358974359,
          0.46153846153846156,
          0.48717948717948717,
          0.5128205128205128,
          0.5384615384615384,
          0.5641025641025641,
          0,
          0.02564102564102564,
          0.05128205128205128,
          0.07692307692307693,
          0.10256410256410256,
          0.1282051282051282,
          0.15384615384615385,
          0.1794871794871795,
          0.20512820512820512,
          0.23076923076923078,
          0.2564102564102564,
          0.28205128205128205,
          0.3076923076923077,
          0.3333333333333333,
          0.358974358974359,
          0.38461538461538464,
          0.41025641025641024,
          0.4358974358974359,
          0.46153846153846156,
          0.48717948717948717,
          0.5128205128205128,
          0.5384615384615384,
          0,
          0.02564102564102564,
          0.05128205128205128,
          0.07692307692307693,
          0.10256410256410256,
          0.1282051282051282,
          0.15384615384615385,
          0.1794871794871795,
          0.20512820512820512,
          0.23076923076923078,
          0.2564102564102564,
          0.28205128205128205,
          0.3076923076923077,
          0.3333333333333333,
          0.358974358974359,
          0.38461538461538464,
          0.41025641025641024,
          0.4358974358974359,
          0.46153846153846156,
          0.48717948717948717,
          0.5128205128205128,
          0,
          0.02564102564102564,
          0.05128205128205128,
          0.07692307692307693,
          0.10256410256410256,
          0.1282051282051282,
          0.15384615384615385,
          0.1794871794871795,
          0.20512820512820512,
          0.23076923076923078,
          0.2564102564102564,
          0.28205128205128205,
          0.3076923076923077,
          0.3333333333333333,
          0.358974358974359,
          0.38461538461538464,
          0.41025641025641024,
          0.4358974358974359,
          0.46153846153846156,
          0.48717948717948717,
          0,
          0.02564102564102564,
          0.05128205128205128,
          0.07692307692307693,
          0.10256410256410256,
          0.1282051282051282,
          0.15384615384615385,
          0.1794871794871795,
          0.20512820512820512,
          0.23076923076923078,
          0.2564102564102564,
          0.28205128205128205,
          0.3076923076923077,
          0.3333333333333333,
          0.358974358974359,
          0.38461538461538464,
          0.41025641025641024,
          0.4358974358974359,
          0.46153846153846156,
          0,
          0.02564102564102564,
          0.05128205128205128,
          0.07692307692307693,
          0.10256410256410256,
          0.1282051282051282,
          0.15384615384615385,
          0.1794871794871795,
          0.20512820512820512,
          0.23076923076923078,
          0.2564102564102564,
          0.28205128205128205,
          0.3076923076923077,
          0.3333333333333333,
          0.358974358974359,
          0.38461538461538464,
          0.41025641025641024,
          0.4358974358974359,
          0,
          0.02564102564102564,
          0.05128205128205128,
          0.07692307692307693,
          0.10256410256410256,
          0.1282051282051282,
          0.15384615384615385,
          0.1794871794871795,
          0.20512820512820512,
          0.23076923076923078,
          0.2564102564102564,
          0.28205128205128205,
          0.3076923076923077,
          0.3333333333333333,
          0.358974358974359,
          0.38461538461538464,
          0.41025641025641024,
          0,
          0.02564102564102564,
          0.05128205128205128,
          0.07692307692307693,
          0.10256410256410256,
          0.1282051282051282,
          0.15384615384615385,
          0.1794871794871795,
          0.20512820512820512,
          0.23076923076923078,
          0.2564102564102564,
          0.28205128205128205,
          0.3076923076923077,
          0.3333333333333333,
          0.358974358974359,
          0.38461538461538464,
          0,
          0.02564102564102564,
          0.05128205128205128,
          0.07692307692307693,
          0.10256410256410256,
          0.1282051282051282,
          0.15384615384615385,
          0.1794871794871795,
          0.20512820512820512,
          0.23076923076923078,
          0.2564102564102564,
          0.28205128205128205,
          0.3076923076923077,
          0.3333333333333333,
          0.358974358974359,
          0,
          0.02564102564102564,
          0.05128205128205128,
          0.07692307692307693,
          0.10256410256410256,
          0.1282051282051282,
          0.15384615384615385,
          0.1794871794871795,
          0.20512820512820512,
          0.23076923076923078,
          0.2564102564102564,
          0.28205128205128205,
          0.3076923076923077,
          0.3333333333333333,
          0,
          0.02564102564102564,
          0.05128205128205128,
          0.07692307692307693,
          0.10256410256410256,
          0.1282051282051282,
          0.15384615384615385,
          0.1794871794871795,
          0.20512820512820512,
          0.23076923076923078,
          0.2564102564102564,
          0.28205128205128205,
          0.3076923076923077,
          0,
          0.02564102564102564,
          0.05128205128205128,
          0.07692307692307693,
          0.10256410256410256,
          0.1282051282051282,
          0.15384615384615385,
          0.1794871794871795,
          0.20512820512820512,
          0.23076923076923078,
          0.2564102564102564,
          0.28205128205128205,
          0,
          0.02564102564102564,
          0.05128205128205128,
          0.07692307692307693,
          0.10256410256410256,
          0.1282051282051282,
          0.15384615384615385,
          0.1794871794871795,
          0.20512820512820512,
          0.23076923076923078,
          0.2564102564102564,
          0,
          0.02564102564102564,
          0.05128205128205128,
          0.07692307692307693,
          0.10256410256410256,
          0.1282051282051282,
          0.15384615384615385,
          0.1794871794871795,
          0.20512820512820512,
          0.23076923076923078,
          0,
          0.02564102564102564,
          0.05128205128205128,
          0.07692307692307693,
          0.10256410256410256,
          0.1282051282051282,
          0.15384615384615385,
          0.1794871794871795,
          0.20512820512820512,
          0,
          0.02564102564102564,
          0.05128205128205128,
          0.07692307692307693,
          0.10256410256410256,
          0.1282051282051282,
          0.15384615384615385,
          0.1794871794871795,
          0,
          0.02564102564102564,
          0.05128205128205128,
          0.07692307692307693,
          0.10256410256410256,
          0.1282051282051282,
          0.15384615384615385,
          0,
          0.02564102564102564,
          0.05128205128205128,
          0.07692307692307693,
          0.10256410256410256,
          0.1282051282051282,
          0,
          0.02564102564102564,
          0.05128205128205128,
          0.07692307692307693,
          0.10256410256410256,
          0,
          0.02564102564102564,
          0.05128205128205128,
          0.07692307692307693,
          0,
          0.02564102564102564,
          0.05128205128205128,
          0,
          0.02564102564102564,
          0
         ],
         "z": [
          1,
          0.9743589743589743,
          0.9487179487179487,
          0.9230769230769231,
          0.8974358974358975,
          0.8717948717948718,
          0.8461538461538461,
          0.8205128205128205,
          0.7948717948717948,
          0.7692307692307693,
          0.7435897435897436,
          0.717948717948718,
          0.6923076923076923,
          0.6666666666666666,
          0.6410256410256411,
          0.6153846153846154,
          0.5897435897435898,
          0.5641025641025641,
          0.5384615384615384,
          0.5128205128205128,
          0.48717948717948717,
          0.46153846153846156,
          0.4358974358974359,
          0.41025641025641024,
          0.38461538461538464,
          0.358974358974359,
          0.3333333333333333,
          0.3076923076923077,
          0.28205128205128205,
          0.2564102564102564,
          0.23076923076923078,
          0.20512820512820512,
          0.1794871794871795,
          0.15384615384615385,
          0.1282051282051282,
          0.10256410256410256,
          0.07692307692307693,
          0.05128205128205128,
          0.02564102564102564,
          0,
          0.9743589743589743,
          0.9487179487179487,
          0.9230769230769231,
          0.8974358974358975,
          0.8717948717948718,
          0.8461538461538461,
          0.8205128205128205,
          0.7948717948717948,
          0.7692307692307693,
          0.7435897435897436,
          0.717948717948718,
          0.6923076923076923,
          0.6666666666666666,
          0.6410256410256411,
          0.6153846153846154,
          0.5897435897435898,
          0.5641025641025641,
          0.5384615384615384,
          0.5128205128205128,
          0.48717948717948717,
          0.46153846153846156,
          0.4358974358974359,
          0.41025641025641024,
          0.38461538461538464,
          0.358974358974359,
          0.3333333333333333,
          0.3076923076923077,
          0.28205128205128205,
          0.2564102564102564,
          0.23076923076923078,
          0.20512820512820512,
          0.1794871794871795,
          0.15384615384615385,
          0.1282051282051282,
          0.10256410256410256,
          0.07692307692307693,
          0.05128205128205128,
          0.02564102564102564,
          0,
          0.9487179487179487,
          0.9230769230769231,
          0.8974358974358975,
          0.8717948717948718,
          0.8461538461538461,
          0.8205128205128205,
          0.7948717948717948,
          0.7692307692307693,
          0.7435897435897436,
          0.717948717948718,
          0.6923076923076923,
          0.6666666666666666,
          0.6410256410256411,
          0.6153846153846154,
          0.5897435897435898,
          0.5641025641025641,
          0.5384615384615384,
          0.5128205128205128,
          0.48717948717948717,
          0.46153846153846156,
          0.4358974358974359,
          0.41025641025641024,
          0.38461538461538464,
          0.358974358974359,
          0.3333333333333333,
          0.3076923076923077,
          0.28205128205128205,
          0.2564102564102564,
          0.23076923076923078,
          0.20512820512820512,
          0.1794871794871795,
          0.15384615384615385,
          0.1282051282051282,
          0.10256410256410256,
          0.07692307692307693,
          0.05128205128205128,
          0.02564102564102564,
          0,
          0.9230769230769231,
          0.8974358974358975,
          0.8717948717948718,
          0.8461538461538461,
          0.8205128205128205,
          0.7948717948717948,
          0.7692307692307693,
          0.7435897435897436,
          0.717948717948718,
          0.6923076923076923,
          0.6666666666666666,
          0.6410256410256411,
          0.6153846153846154,
          0.5897435897435898,
          0.5641025641025641,
          0.5384615384615384,
          0.5128205128205128,
          0.48717948717948717,
          0.46153846153846156,
          0.4358974358974359,
          0.41025641025641024,
          0.38461538461538464,
          0.358974358974359,
          0.3333333333333333,
          0.3076923076923077,
          0.28205128205128205,
          0.2564102564102564,
          0.23076923076923078,
          0.20512820512820512,
          0.1794871794871795,
          0.15384615384615385,
          0.1282051282051282,
          0.10256410256410256,
          0.07692307692307693,
          0.05128205128205128,
          0.02564102564102564,
          0,
          0.8974358974358975,
          0.8717948717948718,
          0.8461538461538461,
          0.8205128205128205,
          0.7948717948717948,
          0.7692307692307693,
          0.7435897435897436,
          0.717948717948718,
          0.6923076923076923,
          0.6666666666666666,
          0.6410256410256411,
          0.6153846153846154,
          0.5897435897435898,
          0.5641025641025641,
          0.5384615384615384,
          0.5128205128205128,
          0.48717948717948717,
          0.46153846153846156,
          0.4358974358974359,
          0.41025641025641024,
          0.38461538461538464,
          0.358974358974359,
          0.3333333333333333,
          0.3076923076923077,
          0.28205128205128205,
          0.2564102564102564,
          0.23076923076923078,
          0.20512820512820512,
          0.1794871794871795,
          0.15384615384615385,
          0.1282051282051282,
          0.10256410256410256,
          0.07692307692307693,
          0.05128205128205128,
          0.02564102564102564,
          0,
          0.8717948717948718,
          0.8461538461538461,
          0.8205128205128205,
          0.7948717948717948,
          0.7692307692307693,
          0.7435897435897436,
          0.717948717948718,
          0.6923076923076923,
          0.6666666666666666,
          0.6410256410256411,
          0.6153846153846154,
          0.5897435897435898,
          0.5641025641025641,
          0.5384615384615384,
          0.5128205128205128,
          0.48717948717948717,
          0.46153846153846156,
          0.4358974358974359,
          0.41025641025641024,
          0.38461538461538464,
          0.358974358974359,
          0.3333333333333333,
          0.3076923076923077,
          0.28205128205128205,
          0.2564102564102564,
          0.23076923076923078,
          0.20512820512820512,
          0.1794871794871795,
          0.15384615384615385,
          0.1282051282051282,
          0.10256410256410256,
          0.07692307692307693,
          0.05128205128205128,
          0.02564102564102564,
          0,
          0.8461538461538461,
          0.8205128205128205,
          0.7948717948717948,
          0.7692307692307693,
          0.7435897435897436,
          0.717948717948718,
          0.6923076923076923,
          0.6666666666666666,
          0.6410256410256411,
          0.6153846153846154,
          0.5897435897435898,
          0.5641025641025641,
          0.5384615384615384,
          0.5128205128205128,
          0.48717948717948717,
          0.46153846153846156,
          0.4358974358974359,
          0.41025641025641024,
          0.38461538461538464,
          0.358974358974359,
          0.3333333333333333,
          0.3076923076923077,
          0.28205128205128205,
          0.2564102564102564,
          0.23076923076923078,
          0.20512820512820512,
          0.1794871794871795,
          0.15384615384615385,
          0.1282051282051282,
          0.10256410256410256,
          0.07692307692307693,
          0.05128205128205128,
          0.02564102564102564,
          0,
          0.8205128205128205,
          0.7948717948717948,
          0.7692307692307693,
          0.7435897435897436,
          0.717948717948718,
          0.6923076923076923,
          0.6666666666666666,
          0.6410256410256411,
          0.6153846153846154,
          0.5897435897435898,
          0.5641025641025641,
          0.5384615384615384,
          0.5128205128205128,
          0.48717948717948717,
          0.46153846153846156,
          0.4358974358974359,
          0.41025641025641024,
          0.38461538461538464,
          0.358974358974359,
          0.3333333333333333,
          0.3076923076923077,
          0.28205128205128205,
          0.2564102564102564,
          0.23076923076923078,
          0.20512820512820512,
          0.1794871794871795,
          0.15384615384615385,
          0.1282051282051282,
          0.10256410256410256,
          0.07692307692307693,
          0.05128205128205128,
          0.02564102564102564,
          0,
          0.7948717948717948,
          0.7692307692307693,
          0.7435897435897436,
          0.717948717948718,
          0.6923076923076923,
          0.6666666666666666,
          0.6410256410256411,
          0.6153846153846154,
          0.5897435897435898,
          0.5641025641025641,
          0.5384615384615384,
          0.5128205128205128,
          0.48717948717948717,
          0.46153846153846156,
          0.4358974358974359,
          0.41025641025641024,
          0.38461538461538464,
          0.358974358974359,
          0.3333333333333333,
          0.3076923076923077,
          0.28205128205128205,
          0.2564102564102564,
          0.23076923076923078,
          0.20512820512820512,
          0.1794871794871795,
          0.15384615384615385,
          0.1282051282051282,
          0.10256410256410256,
          0.07692307692307693,
          0.05128205128205128,
          0.02564102564102564,
          0,
          0.7692307692307693,
          0.7435897435897436,
          0.717948717948718,
          0.6923076923076923,
          0.6666666666666666,
          0.6410256410256411,
          0.6153846153846154,
          0.5897435897435898,
          0.5641025641025641,
          0.5384615384615384,
          0.5128205128205128,
          0.48717948717948717,
          0.46153846153846156,
          0.4358974358974359,
          0.41025641025641024,
          0.38461538461538464,
          0.358974358974359,
          0.3333333333333333,
          0.3076923076923077,
          0.28205128205128205,
          0.2564102564102564,
          0.23076923076923078,
          0.20512820512820512,
          0.1794871794871795,
          0.15384615384615385,
          0.1282051282051282,
          0.10256410256410256,
          0.07692307692307693,
          0.05128205128205128,
          0.02564102564102564,
          0,
          0.7435897435897436,
          0.717948717948718,
          0.6923076923076923,
          0.6666666666666666,
          0.6410256410256411,
          0.6153846153846154,
          0.5897435897435898,
          0.5641025641025641,
          0.5384615384615384,
          0.5128205128205128,
          0.48717948717948717,
          0.46153846153846156,
          0.4358974358974359,
          0.41025641025641024,
          0.38461538461538464,
          0.358974358974359,
          0.3333333333333333,
          0.3076923076923077,
          0.28205128205128205,
          0.2564102564102564,
          0.23076923076923078,
          0.20512820512820512,
          0.1794871794871795,
          0.15384615384615385,
          0.1282051282051282,
          0.10256410256410256,
          0.07692307692307693,
          0.05128205128205128,
          0.02564102564102564,
          0,
          0.717948717948718,
          0.6923076923076923,
          0.6666666666666666,
          0.6410256410256411,
          0.6153846153846154,
          0.5897435897435898,
          0.5641025641025641,
          0.5384615384615384,
          0.5128205128205128,
          0.48717948717948717,
          0.46153846153846156,
          0.4358974358974359,
          0.41025641025641024,
          0.38461538461538464,
          0.358974358974359,
          0.3333333333333333,
          0.3076923076923077,
          0.28205128205128205,
          0.2564102564102564,
          0.23076923076923078,
          0.20512820512820512,
          0.1794871794871795,
          0.15384615384615385,
          0.1282051282051282,
          0.10256410256410256,
          0.07692307692307693,
          0.05128205128205128,
          0.02564102564102564,
          0,
          0.6923076923076923,
          0.6666666666666666,
          0.6410256410256411,
          0.6153846153846154,
          0.5897435897435898,
          0.5641025641025641,
          0.5384615384615384,
          0.5128205128205128,
          0.48717948717948717,
          0.46153846153846156,
          0.4358974358974359,
          0.41025641025641024,
          0.38461538461538464,
          0.358974358974359,
          0.3333333333333333,
          0.3076923076923077,
          0.28205128205128205,
          0.2564102564102564,
          0.23076923076923078,
          0.20512820512820512,
          0.1794871794871795,
          0.15384615384615385,
          0.1282051282051282,
          0.10256410256410256,
          0.07692307692307693,
          0.05128205128205128,
          0.02564102564102564,
          0,
          0.6666666666666666,
          0.6410256410256411,
          0.6153846153846154,
          0.5897435897435898,
          0.5641025641025641,
          0.5384615384615384,
          0.5128205128205128,
          0.48717948717948717,
          0.46153846153846156,
          0.4358974358974359,
          0.41025641025641024,
          0.38461538461538464,
          0.358974358974359,
          0.3333333333333333,
          0.3076923076923077,
          0.28205128205128205,
          0.2564102564102564,
          0.23076923076923078,
          0.20512820512820512,
          0.1794871794871795,
          0.15384615384615385,
          0.1282051282051282,
          0.10256410256410256,
          0.07692307692307693,
          0.05128205128205128,
          0.02564102564102564,
          0,
          0.6410256410256411,
          0.6153846153846154,
          0.5897435897435898,
          0.5641025641025641,
          0.5384615384615384,
          0.5128205128205128,
          0.48717948717948717,
          0.46153846153846156,
          0.4358974358974359,
          0.41025641025641024,
          0.38461538461538464,
          0.358974358974359,
          0.3333333333333333,
          0.3076923076923077,
          0.28205128205128205,
          0.2564102564102564,
          0.23076923076923078,
          0.20512820512820512,
          0.1794871794871795,
          0.15384615384615385,
          0.1282051282051282,
          0.10256410256410256,
          0.07692307692307693,
          0.05128205128205128,
          0.02564102564102564,
          0,
          0.6153846153846154,
          0.5897435897435898,
          0.5641025641025641,
          0.5384615384615384,
          0.5128205128205128,
          0.48717948717948717,
          0.46153846153846156,
          0.4358974358974359,
          0.41025641025641024,
          0.38461538461538464,
          0.358974358974359,
          0.3333333333333333,
          0.3076923076923077,
          0.28205128205128205,
          0.2564102564102564,
          0.23076923076923078,
          0.20512820512820512,
          0.1794871794871795,
          0.15384615384615385,
          0.1282051282051282,
          0.10256410256410256,
          0.07692307692307693,
          0.05128205128205128,
          0.02564102564102564,
          0,
          0.5897435897435898,
          0.5641025641025641,
          0.5384615384615384,
          0.5128205128205128,
          0.48717948717948717,
          0.46153846153846156,
          0.4358974358974359,
          0.41025641025641024,
          0.38461538461538464,
          0.358974358974359,
          0.3333333333333333,
          0.3076923076923077,
          0.28205128205128205,
          0.2564102564102564,
          0.23076923076923078,
          0.20512820512820512,
          0.1794871794871795,
          0.15384615384615385,
          0.1282051282051282,
          0.10256410256410256,
          0.07692307692307693,
          0.05128205128205128,
          0.02564102564102564,
          0,
          0.5641025641025641,
          0.5384615384615384,
          0.5128205128205128,
          0.48717948717948717,
          0.46153846153846156,
          0.4358974358974359,
          0.41025641025641024,
          0.38461538461538464,
          0.358974358974359,
          0.3333333333333333,
          0.3076923076923077,
          0.28205128205128205,
          0.2564102564102564,
          0.23076923076923078,
          0.20512820512820512,
          0.1794871794871795,
          0.15384615384615385,
          0.1282051282051282,
          0.10256410256410256,
          0.07692307692307693,
          0.05128205128205128,
          0.02564102564102564,
          0,
          0.5384615384615384,
          0.5128205128205128,
          0.48717948717948717,
          0.46153846153846156,
          0.4358974358974359,
          0.41025641025641024,
          0.38461538461538464,
          0.358974358974359,
          0.3333333333333333,
          0.3076923076923077,
          0.28205128205128205,
          0.2564102564102564,
          0.23076923076923078,
          0.20512820512820512,
          0.1794871794871795,
          0.15384615384615385,
          0.1282051282051282,
          0.10256410256410256,
          0.07692307692307693,
          0.05128205128205128,
          0.02564102564102564,
          0,
          0.5128205128205128,
          0.48717948717948717,
          0.46153846153846156,
          0.4358974358974359,
          0.41025641025641024,
          0.38461538461538464,
          0.358974358974359,
          0.3333333333333333,
          0.3076923076923077,
          0.28205128205128205,
          0.2564102564102564,
          0.23076923076923078,
          0.20512820512820512,
          0.1794871794871795,
          0.15384615384615385,
          0.1282051282051282,
          0.10256410256410256,
          0.07692307692307693,
          0.05128205128205128,
          0.02564102564102564,
          0,
          0.48717948717948717,
          0.46153846153846156,
          0.4358974358974359,
          0.41025641025641024,
          0.38461538461538464,
          0.358974358974359,
          0.3333333333333333,
          0.3076923076923077,
          0.28205128205128205,
          0.2564102564102564,
          0.23076923076923078,
          0.20512820512820512,
          0.1794871794871795,
          0.15384615384615385,
          0.1282051282051282,
          0.10256410256410256,
          0.07692307692307693,
          0.05128205128205128,
          0.02564102564102564,
          0,
          0.46153846153846156,
          0.4358974358974359,
          0.41025641025641024,
          0.38461538461538464,
          0.358974358974359,
          0.3333333333333333,
          0.3076923076923077,
          0.28205128205128205,
          0.2564102564102564,
          0.23076923076923078,
          0.20512820512820512,
          0.1794871794871795,
          0.15384615384615385,
          0.1282051282051282,
          0.10256410256410256,
          0.07692307692307693,
          0.05128205128205128,
          0.02564102564102564,
          0,
          0.4358974358974359,
          0.41025641025641024,
          0.38461538461538464,
          0.358974358974359,
          0.3333333333333333,
          0.3076923076923077,
          0.28205128205128205,
          0.2564102564102564,
          0.23076923076923078,
          0.20512820512820512,
          0.1794871794871795,
          0.15384615384615385,
          0.1282051282051282,
          0.10256410256410256,
          0.07692307692307693,
          0.05128205128205128,
          0.02564102564102564,
          0,
          0.41025641025641024,
          0.38461538461538464,
          0.358974358974359,
          0.3333333333333333,
          0.3076923076923077,
          0.28205128205128205,
          0.2564102564102564,
          0.23076923076923078,
          0.20512820512820512,
          0.1794871794871795,
          0.15384615384615385,
          0.1282051282051282,
          0.10256410256410256,
          0.07692307692307693,
          0.05128205128205128,
          0.02564102564102564,
          0,
          0.38461538461538464,
          0.358974358974359,
          0.3333333333333333,
          0.3076923076923077,
          0.28205128205128205,
          0.2564102564102564,
          0.23076923076923078,
          0.20512820512820512,
          0.1794871794871795,
          0.15384615384615385,
          0.1282051282051282,
          0.10256410256410256,
          0.07692307692307693,
          0.05128205128205128,
          0.02564102564102564,
          0,
          0.358974358974359,
          0.3333333333333333,
          0.3076923076923077,
          0.28205128205128205,
          0.2564102564102564,
          0.23076923076923078,
          0.20512820512820512,
          0.1794871794871795,
          0.15384615384615385,
          0.1282051282051282,
          0.10256410256410256,
          0.07692307692307693,
          0.05128205128205128,
          0.02564102564102564,
          0,
          0.3333333333333333,
          0.3076923076923077,
          0.28205128205128205,
          0.2564102564102564,
          0.23076923076923078,
          0.20512820512820512,
          0.1794871794871795,
          0.15384615384615385,
          0.1282051282051282,
          0.10256410256410256,
          0.07692307692307693,
          0.05128205128205128,
          0.02564102564102564,
          0,
          0.3076923076923077,
          0.28205128205128205,
          0.2564102564102564,
          0.23076923076923078,
          0.20512820512820512,
          0.1794871794871795,
          0.15384615384615385,
          0.1282051282051282,
          0.10256410256410256,
          0.07692307692307693,
          0.05128205128205128,
          0.02564102564102564,
          0,
          0.28205128205128205,
          0.2564102564102564,
          0.23076923076923078,
          0.20512820512820512,
          0.1794871794871795,
          0.15384615384615385,
          0.1282051282051282,
          0.10256410256410256,
          0.07692307692307693,
          0.05128205128205128,
          0.02564102564102564,
          0,
          0.2564102564102564,
          0.23076923076923078,
          0.20512820512820512,
          0.1794871794871795,
          0.15384615384615385,
          0.1282051282051282,
          0.10256410256410256,
          0.07692307692307693,
          0.05128205128205128,
          0.02564102564102564,
          0,
          0.23076923076923078,
          0.20512820512820512,
          0.1794871794871795,
          0.15384615384615385,
          0.1282051282051282,
          0.10256410256410256,
          0.07692307692307693,
          0.05128205128205128,
          0.02564102564102564,
          0,
          0.20512820512820512,
          0.1794871794871795,
          0.15384615384615385,
          0.1282051282051282,
          0.10256410256410256,
          0.07692307692307693,
          0.05128205128205128,
          0.02564102564102564,
          0,
          0.1794871794871795,
          0.15384615384615385,
          0.1282051282051282,
          0.10256410256410256,
          0.07692307692307693,
          0.05128205128205128,
          0.02564102564102564,
          0,
          0.15384615384615385,
          0.1282051282051282,
          0.10256410256410256,
          0.07692307692307693,
          0.05128205128205128,
          0.02564102564102564,
          0,
          0.1282051282051282,
          0.10256410256410256,
          0.07692307692307693,
          0.05128205128205128,
          0.02564102564102564,
          0,
          0.10256410256410256,
          0.07692307692307693,
          0.05128205128205128,
          0.02564102564102564,
          0,
          0.07692307692307693,
          0.05128205128205128,
          0.02564102564102564,
          0,
          0.05128205128205128,
          0.02564102564102564,
          0,
          0.02564102564102564,
          0,
          0
         ]
        }
       ],
       "layout": {
        "scene": {
         "xaxis": {
          "title": {
           "text": "d"
          }
         },
         "yaxis": {
          "title": {
           "text": "r"
          }
         },
         "zaxis": {
          "title": {
           "text": "l"
          }
         }
        },
        "template": {
         "data": {
          "bar": [
           {
            "error_x": {
             "color": "#2a3f5f"
            },
            "error_y": {
             "color": "#2a3f5f"
            },
            "marker": {
             "line": {
              "color": "white",
              "width": 0.5
             },
             "pattern": {
              "fillmode": "overlay",
              "size": 10,
              "solidity": 0.2
             }
            },
            "type": "bar"
           }
          ],
          "barpolar": [
           {
            "marker": {
             "line": {
              "color": "white",
              "width": 0.5
             },
             "pattern": {
              "fillmode": "overlay",
              "size": 10,
              "solidity": 0.2
             }
            },
            "type": "barpolar"
           }
          ],
          "carpet": [
           {
            "aaxis": {
             "endlinecolor": "#2a3f5f",
             "gridcolor": "#C8D4E3",
             "linecolor": "#C8D4E3",
             "minorgridcolor": "#C8D4E3",
             "startlinecolor": "#2a3f5f"
            },
            "baxis": {
             "endlinecolor": "#2a3f5f",
             "gridcolor": "#C8D4E3",
             "linecolor": "#C8D4E3",
             "minorgridcolor": "#C8D4E3",
             "startlinecolor": "#2a3f5f"
            },
            "type": "carpet"
           }
          ],
          "choropleth": [
           {
            "colorbar": {
             "outlinewidth": 0,
             "ticks": ""
            },
            "type": "choropleth"
           }
          ],
          "contour": [
           {
            "colorbar": {
             "outlinewidth": 0,
             "ticks": ""
            },
            "colorscale": [
             [
              0,
              "#0d0887"
             ],
             [
              0.1111111111111111,
              "#46039f"
             ],
             [
              0.2222222222222222,
              "#7201a8"
             ],
             [
              0.3333333333333333,
              "#9c179e"
             ],
             [
              0.4444444444444444,
              "#bd3786"
             ],
             [
              0.5555555555555556,
              "#d8576b"
             ],
             [
              0.6666666666666666,
              "#ed7953"
             ],
             [
              0.7777777777777778,
              "#fb9f3a"
             ],
             [
              0.8888888888888888,
              "#fdca26"
             ],
             [
              1,
              "#f0f921"
             ]
            ],
            "type": "contour"
           }
          ],
          "contourcarpet": [
           {
            "colorbar": {
             "outlinewidth": 0,
             "ticks": ""
            },
            "type": "contourcarpet"
           }
          ],
          "heatmap": [
           {
            "colorbar": {
             "outlinewidth": 0,
             "ticks": ""
            },
            "colorscale": [
             [
              0,
              "#0d0887"
             ],
             [
              0.1111111111111111,
              "#46039f"
             ],
             [
              0.2222222222222222,
              "#7201a8"
             ],
             [
              0.3333333333333333,
              "#9c179e"
             ],
             [
              0.4444444444444444,
              "#bd3786"
             ],
             [
              0.5555555555555556,
              "#d8576b"
             ],
             [
              0.6666666666666666,
              "#ed7953"
             ],
             [
              0.7777777777777778,
              "#fb9f3a"
             ],
             [
              0.8888888888888888,
              "#fdca26"
             ],
             [
              1,
              "#f0f921"
             ]
            ],
            "type": "heatmap"
           }
          ],
          "heatmapgl": [
           {
            "colorbar": {
             "outlinewidth": 0,
             "ticks": ""
            },
            "colorscale": [
             [
              0,
              "#0d0887"
             ],
             [
              0.1111111111111111,
              "#46039f"
             ],
             [
              0.2222222222222222,
              "#7201a8"
             ],
             [
              0.3333333333333333,
              "#9c179e"
             ],
             [
              0.4444444444444444,
              "#bd3786"
             ],
             [
              0.5555555555555556,
              "#d8576b"
             ],
             [
              0.6666666666666666,
              "#ed7953"
             ],
             [
              0.7777777777777778,
              "#fb9f3a"
             ],
             [
              0.8888888888888888,
              "#fdca26"
             ],
             [
              1,
              "#f0f921"
             ]
            ],
            "type": "heatmapgl"
           }
          ],
          "histogram": [
           {
            "marker": {
             "pattern": {
              "fillmode": "overlay",
              "size": 10,
              "solidity": 0.2
             }
            },
            "type": "histogram"
           }
          ],
          "histogram2d": [
           {
            "colorbar": {
             "outlinewidth": 0,
             "ticks": ""
            },
            "colorscale": [
             [
              0,
              "#0d0887"
             ],
             [
              0.1111111111111111,
              "#46039f"
             ],
             [
              0.2222222222222222,
              "#7201a8"
             ],
             [
              0.3333333333333333,
              "#9c179e"
             ],
             [
              0.4444444444444444,
              "#bd3786"
             ],
             [
              0.5555555555555556,
              "#d8576b"
             ],
             [
              0.6666666666666666,
              "#ed7953"
             ],
             [
              0.7777777777777778,
              "#fb9f3a"
             ],
             [
              0.8888888888888888,
              "#fdca26"
             ],
             [
              1,
              "#f0f921"
             ]
            ],
            "type": "histogram2d"
           }
          ],
          "histogram2dcontour": [
           {
            "colorbar": {
             "outlinewidth": 0,
             "ticks": ""
            },
            "colorscale": [
             [
              0,
              "#0d0887"
             ],
             [
              0.1111111111111111,
              "#46039f"
             ],
             [
              0.2222222222222222,
              "#7201a8"
             ],
             [
              0.3333333333333333,
              "#9c179e"
             ],
             [
              0.4444444444444444,
              "#bd3786"
             ],
             [
              0.5555555555555556,
              "#d8576b"
             ],
             [
              0.6666666666666666,
              "#ed7953"
             ],
             [
              0.7777777777777778,
              "#fb9f3a"
             ],
             [
              0.8888888888888888,
              "#fdca26"
             ],
             [
              1,
              "#f0f921"
             ]
            ],
            "type": "histogram2dcontour"
           }
          ],
          "mesh3d": [
           {
            "colorbar": {
             "outlinewidth": 0,
             "ticks": ""
            },
            "type": "mesh3d"
           }
          ],
          "parcoords": [
           {
            "line": {
             "colorbar": {
              "outlinewidth": 0,
              "ticks": ""
             }
            },
            "type": "parcoords"
           }
          ],
          "pie": [
           {
            "automargin": true,
            "type": "pie"
           }
          ],
          "scatter": [
           {
            "fillpattern": {
             "fillmode": "overlay",
             "size": 10,
             "solidity": 0.2
            },
            "type": "scatter"
           }
          ],
          "scatter3d": [
           {
            "line": {
             "colorbar": {
              "outlinewidth": 0,
              "ticks": ""
             }
            },
            "marker": {
             "colorbar": {
              "outlinewidth": 0,
              "ticks": ""
             }
            },
            "type": "scatter3d"
           }
          ],
          "scattercarpet": [
           {
            "marker": {
             "colorbar": {
              "outlinewidth": 0,
              "ticks": ""
             }
            },
            "type": "scattercarpet"
           }
          ],
          "scattergeo": [
           {
            "marker": {
             "colorbar": {
              "outlinewidth": 0,
              "ticks": ""
             }
            },
            "type": "scattergeo"
           }
          ],
          "scattergl": [
           {
            "marker": {
             "colorbar": {
              "outlinewidth": 0,
              "ticks": ""
             }
            },
            "type": "scattergl"
           }
          ],
          "scattermapbox": [
           {
            "marker": {
             "colorbar": {
              "outlinewidth": 0,
              "ticks": ""
             }
            },
            "type": "scattermapbox"
           }
          ],
          "scatterpolar": [
           {
            "marker": {
             "colorbar": {
              "outlinewidth": 0,
              "ticks": ""
             }
            },
            "type": "scatterpolar"
           }
          ],
          "scatterpolargl": [
           {
            "marker": {
             "colorbar": {
              "outlinewidth": 0,
              "ticks": ""
             }
            },
            "type": "scatterpolargl"
           }
          ],
          "scatterternary": [
           {
            "marker": {
             "colorbar": {
              "outlinewidth": 0,
              "ticks": ""
             }
            },
            "type": "scatterternary"
           }
          ],
          "surface": [
           {
            "colorbar": {
             "outlinewidth": 0,
             "ticks": ""
            },
            "colorscale": [
             [
              0,
              "#0d0887"
             ],
             [
              0.1111111111111111,
              "#46039f"
             ],
             [
              0.2222222222222222,
              "#7201a8"
             ],
             [
              0.3333333333333333,
              "#9c179e"
             ],
             [
              0.4444444444444444,
              "#bd3786"
             ],
             [
              0.5555555555555556,
              "#d8576b"
             ],
             [
              0.6666666666666666,
              "#ed7953"
             ],
             [
              0.7777777777777778,
              "#fb9f3a"
             ],
             [
              0.8888888888888888,
              "#fdca26"
             ],
             [
              1,
              "#f0f921"
             ]
            ],
            "type": "surface"
           }
          ],
          "table": [
           {
            "cells": {
             "fill": {
              "color": "#EBF0F8"
             },
             "line": {
              "color": "white"
             }
            },
            "header": {
             "fill": {
              "color": "#C8D4E3"
             },
             "line": {
              "color": "white"
             }
            },
            "type": "table"
           }
          ]
         },
         "layout": {
          "annotationdefaults": {
           "arrowcolor": "#2a3f5f",
           "arrowhead": 0,
           "arrowwidth": 1
          },
          "autotypenumbers": "strict",
          "coloraxis": {
           "colorbar": {
            "outlinewidth": 0,
            "ticks": ""
           }
          },
          "colorscale": {
           "diverging": [
            [
             0,
             "#8e0152"
            ],
            [
             0.1,
             "#c51b7d"
            ],
            [
             0.2,
             "#de77ae"
            ],
            [
             0.3,
             "#f1b6da"
            ],
            [
             0.4,
             "#fde0ef"
            ],
            [
             0.5,
             "#f7f7f7"
            ],
            [
             0.6,
             "#e6f5d0"
            ],
            [
             0.7,
             "#b8e186"
            ],
            [
             0.8,
             "#7fbc41"
            ],
            [
             0.9,
             "#4d9221"
            ],
            [
             1,
             "#276419"
            ]
           ],
           "sequential": [
            [
             0,
             "#0d0887"
            ],
            [
             0.1111111111111111,
             "#46039f"
            ],
            [
             0.2222222222222222,
             "#7201a8"
            ],
            [
             0.3333333333333333,
             "#9c179e"
            ],
            [
             0.4444444444444444,
             "#bd3786"
            ],
            [
             0.5555555555555556,
             "#d8576b"
            ],
            [
             0.6666666666666666,
             "#ed7953"
            ],
            [
             0.7777777777777778,
             "#fb9f3a"
            ],
            [
             0.8888888888888888,
             "#fdca26"
            ],
            [
             1,
             "#f0f921"
            ]
           ],
           "sequentialminus": [
            [
             0,
             "#0d0887"
            ],
            [
             0.1111111111111111,
             "#46039f"
            ],
            [
             0.2222222222222222,
             "#7201a8"
            ],
            [
             0.3333333333333333,
             "#9c179e"
            ],
            [
             0.4444444444444444,
             "#bd3786"
            ],
            [
             0.5555555555555556,
             "#d8576b"
            ],
            [
             0.6666666666666666,
             "#ed7953"
            ],
            [
             0.7777777777777778,
             "#fb9f3a"
            ],
            [
             0.8888888888888888,
             "#fdca26"
            ],
            [
             1,
             "#f0f921"
            ]
           ]
          },
          "colorway": [
           "#636efa",
           "#EF553B",
           "#00cc96",
           "#ab63fa",
           "#FFA15A",
           "#19d3f3",
           "#FF6692",
           "#B6E880",
           "#FF97FF",
           "#FECB52"
          ],
          "font": {
           "color": "#2a3f5f"
          },
          "geo": {
           "bgcolor": "white",
           "lakecolor": "white",
           "landcolor": "white",
           "showlakes": true,
           "showland": true,
           "subunitcolor": "#C8D4E3"
          },
          "hoverlabel": {
           "align": "left"
          },
          "hovermode": "closest",
          "mapbox": {
           "style": "light"
          },
          "paper_bgcolor": "white",
          "plot_bgcolor": "white",
          "polar": {
           "angularaxis": {
            "gridcolor": "#EBF0F8",
            "linecolor": "#EBF0F8",
            "ticks": ""
           },
           "bgcolor": "white",
           "radialaxis": {
            "gridcolor": "#EBF0F8",
            "linecolor": "#EBF0F8",
            "ticks": ""
           }
          },
          "scene": {
           "xaxis": {
            "backgroundcolor": "white",
            "gridcolor": "#DFE8F3",
            "gridwidth": 2,
            "linecolor": "#EBF0F8",
            "showbackground": true,
            "ticks": "",
            "zerolinecolor": "#EBF0F8"
           },
           "yaxis": {
            "backgroundcolor": "white",
            "gridcolor": "#DFE8F3",
            "gridwidth": 2,
            "linecolor": "#EBF0F8",
            "showbackground": true,
            "ticks": "",
            "zerolinecolor": "#EBF0F8"
           },
           "zaxis": {
            "backgroundcolor": "white",
            "gridcolor": "#DFE8F3",
            "gridwidth": 2,
            "linecolor": "#EBF0F8",
            "showbackground": true,
            "ticks": "",
            "zerolinecolor": "#EBF0F8"
           }
          },
          "shapedefaults": {
           "line": {
            "color": "#2a3f5f"
           }
          },
          "ternary": {
           "aaxis": {
            "gridcolor": "#DFE8F3",
            "linecolor": "#A2B1C6",
            "ticks": ""
           },
           "baxis": {
            "gridcolor": "#DFE8F3",
            "linecolor": "#A2B1C6",
            "ticks": ""
           },
           "bgcolor": "white",
           "caxis": {
            "gridcolor": "#DFE8F3",
            "linecolor": "#A2B1C6",
            "ticks": ""
           }
          },
          "title": {
           "x": 0.05
          },
          "xaxis": {
           "automargin": true,
           "gridcolor": "#EBF0F8",
           "linecolor": "#EBF0F8",
           "ticks": "",
           "title": {
            "standoff": 15
           },
           "zerolinecolor": "#EBF0F8",
           "zerolinewidth": 2
          },
          "yaxis": {
           "automargin": true,
           "gridcolor": "#EBF0F8",
           "linecolor": "#EBF0F8",
           "ticks": "",
           "title": {
            "standoff": 15
           },
           "zerolinecolor": "#EBF0F8",
           "zerolinewidth": 2
          }
         }
        }
       }
      }
     },
     "metadata": {},
     "output_type": "display_data"
    },
    {
     "name": "stdout",
     "output_type": "stream",
     "text": [
      "Max utility value: \n",
      "[Fraction(0, 1) Fraction(1, 13) Fraction(19, 39) Fraction(17, 39)]\n",
      "[0.   0.08 0.49 0.44]\n",
      "0.036534377905936506\n"
     ]
    }
   ],
   "source": [
    "budget = 1\n",
    "gridSize = (15, 15)\n",
    "target = Node(14, 1)\n",
    "strategies = list([ \n",
    "    Strategy({ Action.DOWN: frac(1, 3), Action.RIGHT: frac(1, 3), Action.LEFT: frac(1, 3) }) \n",
    "])\n",
    "enumerated_strategies = dict(enumerate(strategies, start=1))\n",
    "\n",
    "pomdp = POMDP(gridSize=gridSize, target=target, model='grid', budget=budget)\n",
    "\n",
    "# Assign strategies to the nodes\n",
    "for node in pomdp.nodes: node.assign_strategy(enumerated_strategies[1], 1)\n",
    "observations =  {n: n.strategy_id for n in pomdp.nodes if n != target}\n",
    "\n",
    "# ---------------------------------------------------------\n",
    "# get one specific utility value\n",
    "# print(pomdp.utility(enumerated_strategies, assignments)[0])\n",
    "# ---------------------------------------------------------\n",
    "\n",
    "combinations_, U = pomdp.generate_points(enumerated_strategies, observations, sections=40, write_to_file=True)\n",
    "plot_actions_4D(combinations_, U, actions = [Action.DOWN, Action.RIGHT, Action.LEFT])\n",
    "\n",
    "# get the probability distribution of the actions that maximizes the utility\n",
    "max_index = np.argmax(U)\n",
    "approx = np.around(list(map(float, combinations_[max_index][0])), 2)\n",
    "\n",
    "print('Max utility value: ')\n",
    "print(combinations_[max_index][0])\n",
    "print(approx)\n",
    "print(U[max_index])"
   ]
  },
  {
   "cell_type": "markdown",
   "metadata": {},
   "source": [
    "25x25 grid with the target close to the bottom left."
   ]
  },
  {
   "cell_type": "code",
   "execution_count": 12,
   "metadata": {},
   "outputs": [
    {
     "data": {
      "application/vnd.plotly.v1+json": {
       "config": {
        "plotlyServerURL": "https://plot.ly"
       },
       "data": [
        {
         "marker": {
          "color": [
           "blue",
           "blue",
           "blue",
           "blue",
           "blue",
           "blue",
           "blue",
           "blue",
           "blue",
           "blue",
           "blue",
           "blue",
           "blue",
           "blue",
           "blue",
           "blue",
           "blue",
           "blue",
           "blue",
           "blue",
           "blue",
           "blue",
           "blue",
           "blue",
           "blue",
           "blue",
           "blue",
           "blue",
           "blue",
           "blue",
           "blue",
           "blue",
           "blue",
           "blue",
           "blue",
           "blue",
           "blue",
           "blue",
           "blue",
           "blue",
           "blue",
           "blue",
           "blue",
           "blue",
           "blue",
           "blue",
           "blue",
           "blue",
           "blue",
           "blue",
           "blue",
           "blue",
           "blue",
           "blue",
           "blue",
           "blue",
           "blue",
           "blue",
           "blue",
           "blue",
           "blue",
           "blue",
           "blue",
           "blue",
           "blue",
           "blue",
           "blue",
           "blue",
           "blue",
           "blue",
           "blue",
           "blue",
           "blue",
           "blue",
           "blue",
           "blue",
           "blue",
           "blue",
           "blue",
           "blue",
           "blue",
           "blue",
           "blue",
           "blue",
           "blue",
           "red",
           "blue",
           "blue",
           "blue",
           "blue",
           "blue",
           "blue",
           "blue",
           "blue",
           "blue",
           "blue",
           "blue",
           "blue",
           "blue",
           "blue",
           "blue",
           "blue",
           "blue",
           "blue",
           "blue",
           "blue",
           "blue",
           "blue",
           "blue",
           "blue",
           "blue",
           "blue",
           "blue",
           "blue",
           "blue",
           "blue",
           "blue",
           "blue",
           "blue",
           "blue"
          ],
          "opacity": 0.7,
          "size": [
           1,
           1,
           1,
           1,
           1,
           1,
           1,
           1,
           1,
           1,
           1,
           1,
           1,
           1,
           1,
           1,
           5.576503841109548,
           5.738557507548869,
           5.778716690890868,
           5.754822228579474,
           5.566197803530674,
           4.286736969838319,
           1.2972119882062993,
           1.0013629277145653,
           1.0000013127495597,
           1.0000000002740312,
           1.000000000000004,
           1,
           1,
           1,
           9.55604450995143,
           10.06909907501909,
           10.105213817541667,
           9.69906249194123,
           7.83773325087814,
           2.696601574829722,
           1.0154947932019618,
           1.0000142728118337,
           1.0000000025292064,
           1.000000000000032,
           1,
           1,
           1,
           13.033671451805423,
           13.851927782907218,
           13.495091651585383,
           11.497098467846191,
           6.017577941383302,
           1.1887149272665316,
           1.0002006231588847,
           1.0000000297698708,
           1.0000000000003066,
           1,
           1,
           1,
           16.023493950106225,
           16.759013018469123,
           15.048754064388831,
           10.055890339209189,
           2.571762983773989,
           1.0037472012995048,
           1.0000004726749532,
           1.0000000000038134,
           1,
           1,
           1,
           18.418563873899743,
           18.207063896209146,
           14.026066675719667,
           6.312211335709958,
           1.0859048354988243,
           1.000010900110819,
           1.000000000065501,
           1,
           1,
           1,
           19.90599257056695,
           17.63008534973094,
           10.795193631746304,
           2.3060395180088835,
           1.0003982349225273,
           1.0000000017052322,
           1,
           1,
           1,
           20,
           15.063480315179657,
           6.344391765785195,
           1.0233631256555116,
           1.000000077172066,
           1.0000000000000002,
           1,
           1,
           18.419702493045964,
           11.083861307366467,
           1.9988443074349629,
           1.0000074566117056,
           1.0000000000000162,
           1,
           1,
           15.333092448323768,
           6.316130615628683,
           1.0019941403360815,
           1.000000000001941,
           1,
           1,
           11.146001938532875,
           1.6738687364869098,
           1.00000000087564,
           1,
           1,
           6.276183618054563,
           1.0000038513414489,
           1,
           1,
           1.3396453344247239,
           1,
           1,
           1,
           1
          ]
         },
         "mode": "markers",
         "type": "scatter3d",
         "x": [
          0,
          0,
          0,
          0,
          0,
          0,
          0,
          0,
          0,
          0,
          0,
          0,
          0,
          0,
          0,
          0.07142857142857142,
          0.07142857142857142,
          0.07142857142857142,
          0.07142857142857142,
          0.07142857142857142,
          0.07142857142857142,
          0.07142857142857142,
          0.07142857142857142,
          0.07142857142857142,
          0.07142857142857142,
          0.07142857142857142,
          0.07142857142857142,
          0.07142857142857142,
          0.07142857142857142,
          0.14285714285714285,
          0.14285714285714285,
          0.14285714285714285,
          0.14285714285714285,
          0.14285714285714285,
          0.14285714285714285,
          0.14285714285714285,
          0.14285714285714285,
          0.14285714285714285,
          0.14285714285714285,
          0.14285714285714285,
          0.14285714285714285,
          0.14285714285714285,
          0.21428571428571427,
          0.21428571428571427,
          0.21428571428571427,
          0.21428571428571427,
          0.21428571428571427,
          0.21428571428571427,
          0.21428571428571427,
          0.21428571428571427,
          0.21428571428571427,
          0.21428571428571427,
          0.21428571428571427,
          0.21428571428571427,
          0.2857142857142857,
          0.2857142857142857,
          0.2857142857142857,
          0.2857142857142857,
          0.2857142857142857,
          0.2857142857142857,
          0.2857142857142857,
          0.2857142857142857,
          0.2857142857142857,
          0.2857142857142857,
          0.2857142857142857,
          0.35714285714285715,
          0.35714285714285715,
          0.35714285714285715,
          0.35714285714285715,
          0.35714285714285715,
          0.35714285714285715,
          0.35714285714285715,
          0.35714285714285715,
          0.35714285714285715,
          0.35714285714285715,
          0.42857142857142855,
          0.42857142857142855,
          0.42857142857142855,
          0.42857142857142855,
          0.42857142857142855,
          0.42857142857142855,
          0.42857142857142855,
          0.42857142857142855,
          0.42857142857142855,
          0.5,
          0.5,
          0.5,
          0.5,
          0.5,
          0.5,
          0.5,
          0.5,
          0.5714285714285714,
          0.5714285714285714,
          0.5714285714285714,
          0.5714285714285714,
          0.5714285714285714,
          0.5714285714285714,
          0.5714285714285714,
          0.6428571428571429,
          0.6428571428571429,
          0.6428571428571429,
          0.6428571428571429,
          0.6428571428571429,
          0.6428571428571429,
          0.7142857142857143,
          0.7142857142857143,
          0.7142857142857143,
          0.7142857142857143,
          0.7142857142857143,
          0.7857142857142857,
          0.7857142857142857,
          0.7857142857142857,
          0.7857142857142857,
          0.8571428571428571,
          0.8571428571428571,
          0.8571428571428571,
          0.9285714285714286,
          0.9285714285714286,
          1
         ],
         "y": [
          0,
          0.07142857142857142,
          0.14285714285714285,
          0.21428571428571427,
          0.2857142857142857,
          0.35714285714285715,
          0.42857142857142855,
          0.5,
          0.5714285714285714,
          0.6428571428571429,
          0.7142857142857143,
          0.7857142857142857,
          0.8571428571428571,
          0.9285714285714286,
          1,
          0,
          0.07142857142857142,
          0.14285714285714285,
          0.21428571428571427,
          0.2857142857142857,
          0.35714285714285715,
          0.42857142857142855,
          0.5,
          0.5714285714285714,
          0.6428571428571429,
          0.7142857142857143,
          0.7857142857142857,
          0.8571428571428571,
          0.9285714285714286,
          0,
          0.07142857142857142,
          0.14285714285714285,
          0.21428571428571427,
          0.2857142857142857,
          0.35714285714285715,
          0.42857142857142855,
          0.5,
          0.5714285714285714,
          0.6428571428571429,
          0.7142857142857143,
          0.7857142857142857,
          0.8571428571428571,
          0,
          0.07142857142857142,
          0.14285714285714285,
          0.21428571428571427,
          0.2857142857142857,
          0.35714285714285715,
          0.42857142857142855,
          0.5,
          0.5714285714285714,
          0.6428571428571429,
          0.7142857142857143,
          0.7857142857142857,
          0,
          0.07142857142857142,
          0.14285714285714285,
          0.21428571428571427,
          0.2857142857142857,
          0.35714285714285715,
          0.42857142857142855,
          0.5,
          0.5714285714285714,
          0.6428571428571429,
          0.7142857142857143,
          0,
          0.07142857142857142,
          0.14285714285714285,
          0.21428571428571427,
          0.2857142857142857,
          0.35714285714285715,
          0.42857142857142855,
          0.5,
          0.5714285714285714,
          0.6428571428571429,
          0,
          0.07142857142857142,
          0.14285714285714285,
          0.21428571428571427,
          0.2857142857142857,
          0.35714285714285715,
          0.42857142857142855,
          0.5,
          0.5714285714285714,
          0,
          0.07142857142857142,
          0.14285714285714285,
          0.21428571428571427,
          0.2857142857142857,
          0.35714285714285715,
          0.42857142857142855,
          0.5,
          0,
          0.07142857142857142,
          0.14285714285714285,
          0.21428571428571427,
          0.2857142857142857,
          0.35714285714285715,
          0.42857142857142855,
          0,
          0.07142857142857142,
          0.14285714285714285,
          0.21428571428571427,
          0.2857142857142857,
          0.35714285714285715,
          0,
          0.07142857142857142,
          0.14285714285714285,
          0.21428571428571427,
          0.2857142857142857,
          0,
          0.07142857142857142,
          0.14285714285714285,
          0.21428571428571427,
          0,
          0.07142857142857142,
          0.14285714285714285,
          0,
          0.07142857142857142,
          0
         ],
         "z": [
          1,
          0.9285714285714286,
          0.8571428571428571,
          0.7857142857142857,
          0.7142857142857143,
          0.6428571428571429,
          0.5714285714285714,
          0.5,
          0.42857142857142855,
          0.35714285714285715,
          0.2857142857142857,
          0.21428571428571427,
          0.14285714285714285,
          0.07142857142857142,
          0,
          0.9285714285714286,
          0.8571428571428571,
          0.7857142857142857,
          0.7142857142857143,
          0.6428571428571429,
          0.5714285714285714,
          0.5,
          0.42857142857142855,
          0.35714285714285715,
          0.2857142857142857,
          0.21428571428571427,
          0.14285714285714285,
          0.07142857142857142,
          0,
          0.8571428571428571,
          0.7857142857142857,
          0.7142857142857143,
          0.6428571428571429,
          0.5714285714285714,
          0.5,
          0.42857142857142855,
          0.35714285714285715,
          0.2857142857142857,
          0.21428571428571427,
          0.14285714285714285,
          0.07142857142857142,
          0,
          0.7857142857142857,
          0.7142857142857143,
          0.6428571428571429,
          0.5714285714285714,
          0.5,
          0.42857142857142855,
          0.35714285714285715,
          0.2857142857142857,
          0.21428571428571427,
          0.14285714285714285,
          0.07142857142857142,
          0,
          0.7142857142857143,
          0.6428571428571429,
          0.5714285714285714,
          0.5,
          0.42857142857142855,
          0.35714285714285715,
          0.2857142857142857,
          0.21428571428571427,
          0.14285714285714285,
          0.07142857142857142,
          0,
          0.6428571428571429,
          0.5714285714285714,
          0.5,
          0.42857142857142855,
          0.35714285714285715,
          0.2857142857142857,
          0.21428571428571427,
          0.14285714285714285,
          0.07142857142857142,
          0,
          0.5714285714285714,
          0.5,
          0.42857142857142855,
          0.35714285714285715,
          0.2857142857142857,
          0.21428571428571427,
          0.14285714285714285,
          0.07142857142857142,
          0,
          0.5,
          0.42857142857142855,
          0.35714285714285715,
          0.2857142857142857,
          0.21428571428571427,
          0.14285714285714285,
          0.07142857142857142,
          0,
          0.42857142857142855,
          0.35714285714285715,
          0.2857142857142857,
          0.21428571428571427,
          0.14285714285714285,
          0.07142857142857142,
          0,
          0.35714285714285715,
          0.2857142857142857,
          0.21428571428571427,
          0.14285714285714285,
          0.07142857142857142,
          0,
          0.2857142857142857,
          0.21428571428571427,
          0.14285714285714285,
          0.07142857142857142,
          0,
          0.21428571428571427,
          0.14285714285714285,
          0.07142857142857142,
          0,
          0.14285714285714285,
          0.07142857142857142,
          0,
          0.07142857142857142,
          0,
          0
         ]
        }
       ],
       "layout": {
        "scene": {
         "xaxis": {
          "title": {
           "text": "d"
          }
         },
         "yaxis": {
          "title": {
           "text": "r"
          }
         },
         "zaxis": {
          "title": {
           "text": "l"
          }
         }
        },
        "template": {
         "data": {
          "bar": [
           {
            "error_x": {
             "color": "#2a3f5f"
            },
            "error_y": {
             "color": "#2a3f5f"
            },
            "marker": {
             "line": {
              "color": "white",
              "width": 0.5
             },
             "pattern": {
              "fillmode": "overlay",
              "size": 10,
              "solidity": 0.2
             }
            },
            "type": "bar"
           }
          ],
          "barpolar": [
           {
            "marker": {
             "line": {
              "color": "white",
              "width": 0.5
             },
             "pattern": {
              "fillmode": "overlay",
              "size": 10,
              "solidity": 0.2
             }
            },
            "type": "barpolar"
           }
          ],
          "carpet": [
           {
            "aaxis": {
             "endlinecolor": "#2a3f5f",
             "gridcolor": "#C8D4E3",
             "linecolor": "#C8D4E3",
             "minorgridcolor": "#C8D4E3",
             "startlinecolor": "#2a3f5f"
            },
            "baxis": {
             "endlinecolor": "#2a3f5f",
             "gridcolor": "#C8D4E3",
             "linecolor": "#C8D4E3",
             "minorgridcolor": "#C8D4E3",
             "startlinecolor": "#2a3f5f"
            },
            "type": "carpet"
           }
          ],
          "choropleth": [
           {
            "colorbar": {
             "outlinewidth": 0,
             "ticks": ""
            },
            "type": "choropleth"
           }
          ],
          "contour": [
           {
            "colorbar": {
             "outlinewidth": 0,
             "ticks": ""
            },
            "colorscale": [
             [
              0,
              "#0d0887"
             ],
             [
              0.1111111111111111,
              "#46039f"
             ],
             [
              0.2222222222222222,
              "#7201a8"
             ],
             [
              0.3333333333333333,
              "#9c179e"
             ],
             [
              0.4444444444444444,
              "#bd3786"
             ],
             [
              0.5555555555555556,
              "#d8576b"
             ],
             [
              0.6666666666666666,
              "#ed7953"
             ],
             [
              0.7777777777777778,
              "#fb9f3a"
             ],
             [
              0.8888888888888888,
              "#fdca26"
             ],
             [
              1,
              "#f0f921"
             ]
            ],
            "type": "contour"
           }
          ],
          "contourcarpet": [
           {
            "colorbar": {
             "outlinewidth": 0,
             "ticks": ""
            },
            "type": "contourcarpet"
           }
          ],
          "heatmap": [
           {
            "colorbar": {
             "outlinewidth": 0,
             "ticks": ""
            },
            "colorscale": [
             [
              0,
              "#0d0887"
             ],
             [
              0.1111111111111111,
              "#46039f"
             ],
             [
              0.2222222222222222,
              "#7201a8"
             ],
             [
              0.3333333333333333,
              "#9c179e"
             ],
             [
              0.4444444444444444,
              "#bd3786"
             ],
             [
              0.5555555555555556,
              "#d8576b"
             ],
             [
              0.6666666666666666,
              "#ed7953"
             ],
             [
              0.7777777777777778,
              "#fb9f3a"
             ],
             [
              0.8888888888888888,
              "#fdca26"
             ],
             [
              1,
              "#f0f921"
             ]
            ],
            "type": "heatmap"
           }
          ],
          "heatmapgl": [
           {
            "colorbar": {
             "outlinewidth": 0,
             "ticks": ""
            },
            "colorscale": [
             [
              0,
              "#0d0887"
             ],
             [
              0.1111111111111111,
              "#46039f"
             ],
             [
              0.2222222222222222,
              "#7201a8"
             ],
             [
              0.3333333333333333,
              "#9c179e"
             ],
             [
              0.4444444444444444,
              "#bd3786"
             ],
             [
              0.5555555555555556,
              "#d8576b"
             ],
             [
              0.6666666666666666,
              "#ed7953"
             ],
             [
              0.7777777777777778,
              "#fb9f3a"
             ],
             [
              0.8888888888888888,
              "#fdca26"
             ],
             [
              1,
              "#f0f921"
             ]
            ],
            "type": "heatmapgl"
           }
          ],
          "histogram": [
           {
            "marker": {
             "pattern": {
              "fillmode": "overlay",
              "size": 10,
              "solidity": 0.2
             }
            },
            "type": "histogram"
           }
          ],
          "histogram2d": [
           {
            "colorbar": {
             "outlinewidth": 0,
             "ticks": ""
            },
            "colorscale": [
             [
              0,
              "#0d0887"
             ],
             [
              0.1111111111111111,
              "#46039f"
             ],
             [
              0.2222222222222222,
              "#7201a8"
             ],
             [
              0.3333333333333333,
              "#9c179e"
             ],
             [
              0.4444444444444444,
              "#bd3786"
             ],
             [
              0.5555555555555556,
              "#d8576b"
             ],
             [
              0.6666666666666666,
              "#ed7953"
             ],
             [
              0.7777777777777778,
              "#fb9f3a"
             ],
             [
              0.8888888888888888,
              "#fdca26"
             ],
             [
              1,
              "#f0f921"
             ]
            ],
            "type": "histogram2d"
           }
          ],
          "histogram2dcontour": [
           {
            "colorbar": {
             "outlinewidth": 0,
             "ticks": ""
            },
            "colorscale": [
             [
              0,
              "#0d0887"
             ],
             [
              0.1111111111111111,
              "#46039f"
             ],
             [
              0.2222222222222222,
              "#7201a8"
             ],
             [
              0.3333333333333333,
              "#9c179e"
             ],
             [
              0.4444444444444444,
              "#bd3786"
             ],
             [
              0.5555555555555556,
              "#d8576b"
             ],
             [
              0.6666666666666666,
              "#ed7953"
             ],
             [
              0.7777777777777778,
              "#fb9f3a"
             ],
             [
              0.8888888888888888,
              "#fdca26"
             ],
             [
              1,
              "#f0f921"
             ]
            ],
            "type": "histogram2dcontour"
           }
          ],
          "mesh3d": [
           {
            "colorbar": {
             "outlinewidth": 0,
             "ticks": ""
            },
            "type": "mesh3d"
           }
          ],
          "parcoords": [
           {
            "line": {
             "colorbar": {
              "outlinewidth": 0,
              "ticks": ""
             }
            },
            "type": "parcoords"
           }
          ],
          "pie": [
           {
            "automargin": true,
            "type": "pie"
           }
          ],
          "scatter": [
           {
            "fillpattern": {
             "fillmode": "overlay",
             "size": 10,
             "solidity": 0.2
            },
            "type": "scatter"
           }
          ],
          "scatter3d": [
           {
            "line": {
             "colorbar": {
              "outlinewidth": 0,
              "ticks": ""
             }
            },
            "marker": {
             "colorbar": {
              "outlinewidth": 0,
              "ticks": ""
             }
            },
            "type": "scatter3d"
           }
          ],
          "scattercarpet": [
           {
            "marker": {
             "colorbar": {
              "outlinewidth": 0,
              "ticks": ""
             }
            },
            "type": "scattercarpet"
           }
          ],
          "scattergeo": [
           {
            "marker": {
             "colorbar": {
              "outlinewidth": 0,
              "ticks": ""
             }
            },
            "type": "scattergeo"
           }
          ],
          "scattergl": [
           {
            "marker": {
             "colorbar": {
              "outlinewidth": 0,
              "ticks": ""
             }
            },
            "type": "scattergl"
           }
          ],
          "scattermapbox": [
           {
            "marker": {
             "colorbar": {
              "outlinewidth": 0,
              "ticks": ""
             }
            },
            "type": "scattermapbox"
           }
          ],
          "scatterpolar": [
           {
            "marker": {
             "colorbar": {
              "outlinewidth": 0,
              "ticks": ""
             }
            },
            "type": "scatterpolar"
           }
          ],
          "scatterpolargl": [
           {
            "marker": {
             "colorbar": {
              "outlinewidth": 0,
              "ticks": ""
             }
            },
            "type": "scatterpolargl"
           }
          ],
          "scatterternary": [
           {
            "marker": {
             "colorbar": {
              "outlinewidth": 0,
              "ticks": ""
             }
            },
            "type": "scatterternary"
           }
          ],
          "surface": [
           {
            "colorbar": {
             "outlinewidth": 0,
             "ticks": ""
            },
            "colorscale": [
             [
              0,
              "#0d0887"
             ],
             [
              0.1111111111111111,
              "#46039f"
             ],
             [
              0.2222222222222222,
              "#7201a8"
             ],
             [
              0.3333333333333333,
              "#9c179e"
             ],
             [
              0.4444444444444444,
              "#bd3786"
             ],
             [
              0.5555555555555556,
              "#d8576b"
             ],
             [
              0.6666666666666666,
              "#ed7953"
             ],
             [
              0.7777777777777778,
              "#fb9f3a"
             ],
             [
              0.8888888888888888,
              "#fdca26"
             ],
             [
              1,
              "#f0f921"
             ]
            ],
            "type": "surface"
           }
          ],
          "table": [
           {
            "cells": {
             "fill": {
              "color": "#EBF0F8"
             },
             "line": {
              "color": "white"
             }
            },
            "header": {
             "fill": {
              "color": "#C8D4E3"
             },
             "line": {
              "color": "white"
             }
            },
            "type": "table"
           }
          ]
         },
         "layout": {
          "annotationdefaults": {
           "arrowcolor": "#2a3f5f",
           "arrowhead": 0,
           "arrowwidth": 1
          },
          "autotypenumbers": "strict",
          "coloraxis": {
           "colorbar": {
            "outlinewidth": 0,
            "ticks": ""
           }
          },
          "colorscale": {
           "diverging": [
            [
             0,
             "#8e0152"
            ],
            [
             0.1,
             "#c51b7d"
            ],
            [
             0.2,
             "#de77ae"
            ],
            [
             0.3,
             "#f1b6da"
            ],
            [
             0.4,
             "#fde0ef"
            ],
            [
             0.5,
             "#f7f7f7"
            ],
            [
             0.6,
             "#e6f5d0"
            ],
            [
             0.7,
             "#b8e186"
            ],
            [
             0.8,
             "#7fbc41"
            ],
            [
             0.9,
             "#4d9221"
            ],
            [
             1,
             "#276419"
            ]
           ],
           "sequential": [
            [
             0,
             "#0d0887"
            ],
            [
             0.1111111111111111,
             "#46039f"
            ],
            [
             0.2222222222222222,
             "#7201a8"
            ],
            [
             0.3333333333333333,
             "#9c179e"
            ],
            [
             0.4444444444444444,
             "#bd3786"
            ],
            [
             0.5555555555555556,
             "#d8576b"
            ],
            [
             0.6666666666666666,
             "#ed7953"
            ],
            [
             0.7777777777777778,
             "#fb9f3a"
            ],
            [
             0.8888888888888888,
             "#fdca26"
            ],
            [
             1,
             "#f0f921"
            ]
           ],
           "sequentialminus": [
            [
             0,
             "#0d0887"
            ],
            [
             0.1111111111111111,
             "#46039f"
            ],
            [
             0.2222222222222222,
             "#7201a8"
            ],
            [
             0.3333333333333333,
             "#9c179e"
            ],
            [
             0.4444444444444444,
             "#bd3786"
            ],
            [
             0.5555555555555556,
             "#d8576b"
            ],
            [
             0.6666666666666666,
             "#ed7953"
            ],
            [
             0.7777777777777778,
             "#fb9f3a"
            ],
            [
             0.8888888888888888,
             "#fdca26"
            ],
            [
             1,
             "#f0f921"
            ]
           ]
          },
          "colorway": [
           "#636efa",
           "#EF553B",
           "#00cc96",
           "#ab63fa",
           "#FFA15A",
           "#19d3f3",
           "#FF6692",
           "#B6E880",
           "#FF97FF",
           "#FECB52"
          ],
          "font": {
           "color": "#2a3f5f"
          },
          "geo": {
           "bgcolor": "white",
           "lakecolor": "white",
           "landcolor": "white",
           "showlakes": true,
           "showland": true,
           "subunitcolor": "#C8D4E3"
          },
          "hoverlabel": {
           "align": "left"
          },
          "hovermode": "closest",
          "mapbox": {
           "style": "light"
          },
          "paper_bgcolor": "white",
          "plot_bgcolor": "white",
          "polar": {
           "angularaxis": {
            "gridcolor": "#EBF0F8",
            "linecolor": "#EBF0F8",
            "ticks": ""
           },
           "bgcolor": "white",
           "radialaxis": {
            "gridcolor": "#EBF0F8",
            "linecolor": "#EBF0F8",
            "ticks": ""
           }
          },
          "scene": {
           "xaxis": {
            "backgroundcolor": "white",
            "gridcolor": "#DFE8F3",
            "gridwidth": 2,
            "linecolor": "#EBF0F8",
            "showbackground": true,
            "ticks": "",
            "zerolinecolor": "#EBF0F8"
           },
           "yaxis": {
            "backgroundcolor": "white",
            "gridcolor": "#DFE8F3",
            "gridwidth": 2,
            "linecolor": "#EBF0F8",
            "showbackground": true,
            "ticks": "",
            "zerolinecolor": "#EBF0F8"
           },
           "zaxis": {
            "backgroundcolor": "white",
            "gridcolor": "#DFE8F3",
            "gridwidth": 2,
            "linecolor": "#EBF0F8",
            "showbackground": true,
            "ticks": "",
            "zerolinecolor": "#EBF0F8"
           }
          },
          "shapedefaults": {
           "line": {
            "color": "#2a3f5f"
           }
          },
          "ternary": {
           "aaxis": {
            "gridcolor": "#DFE8F3",
            "linecolor": "#A2B1C6",
            "ticks": ""
           },
           "baxis": {
            "gridcolor": "#DFE8F3",
            "linecolor": "#A2B1C6",
            "ticks": ""
           },
           "bgcolor": "white",
           "caxis": {
            "gridcolor": "#DFE8F3",
            "linecolor": "#A2B1C6",
            "ticks": ""
           }
          },
          "title": {
           "x": 0.05
          },
          "xaxis": {
           "automargin": true,
           "gridcolor": "#EBF0F8",
           "linecolor": "#EBF0F8",
           "ticks": "",
           "title": {
            "standoff": 15
           },
           "zerolinecolor": "#EBF0F8",
           "zerolinewidth": 2
          },
          "yaxis": {
           "automargin": true,
           "gridcolor": "#EBF0F8",
           "linecolor": "#EBF0F8",
           "ticks": "",
           "title": {
            "standoff": 15
           },
           "zerolinecolor": "#EBF0F8",
           "zerolinewidth": 2
          }
         }
        }
       }
      }
     },
     "metadata": {},
     "output_type": "display_data"
    },
    {
     "name": "stdout",
     "output_type": "stream",
     "text": [
      "Max utility value: \n",
      "[Fraction(0, 1) Fraction(1, 14) Fraction(1, 2) Fraction(3, 7)]\n",
      "[0.   0.07 0.5  0.43]\n",
      "0.022927422605160164\n"
     ]
    }
   ],
   "source": [
    "budget = 1\n",
    "gridSize = (25, 25)\n",
    "target = Node(24, 1)\n",
    "strategies = list([ \n",
    "    Strategy({ Action.DOWN: frac(1, 3), Action.RIGHT: frac(1, 3), Action.LEFT: frac(1, 3) }) \n",
    "])\n",
    "enumerated_strategies = dict(enumerate(strategies, start=1))\n",
    "\n",
    "pomdp = POMDP(gridSize=gridSize, target=target, model='grid', budget=budget)\n",
    "\n",
    "# Assign strategies to the nodes\n",
    "for node in pomdp.nodes: node.assign_strategy(enumerated_strategies[1], 1)\n",
    "observations =  {n: n.strategy_id for n in pomdp.nodes if n != target}\n",
    "\n",
    "# ---------------------------------------------------------\n",
    "# get one specific utility value\n",
    "# print(pomdp.utility(enumerated_strategies, assignments)[0])\n",
    "# ---------------------------------------------------------\n",
    "\n",
    "combinations_, U = pomdp.generate_points(enumerated_strategies, observations, sections=15, write_to_file=True)\n",
    "plot_actions_4D(combinations_, U, actions = [Action.DOWN, Action.RIGHT, Action.LEFT])\n",
    "\n",
    "# get the probability distribution of the actions that maximizes the utility\n",
    "max_index = np.argmax(U)\n",
    "approx = np.around(list(map(float, combinations_[max_index][0])), 2)\n",
    "\n",
    "print('Max utility value: ')\n",
    "print(combinations_[max_index][0])\n",
    "print(approx)\n",
    "print(U[max_index])"
   ]
  },
  {
   "cell_type": "markdown",
   "metadata": {},
   "source": [
    "# Budget 2"
   ]
  },
  {
   "cell_type": "markdown",
   "metadata": {},
   "source": [
    "5x5 grid with target close to the bottom left"
   ]
  },
  {
   "cell_type": "code",
   "execution_count": 6,
   "metadata": {},
   "outputs": [
    {
     "name": "stdout",
     "output_type": "stream",
     "text": [
      "Max utility value: \n",
      "[[Fraction(0, 1) Fraction(1, 1) Fraction(0, 1) Fraction(0, 1)]\n",
      " [Fraction(0, 1) Fraction(0, 1) Fraction(56, 89) Fraction(33, 89)]]\n",
      "[[0.0, 1.0, 0.0, 0.0], [0.0, 0.0, 0.63, 0.37]]\n",
      "0.15807418381325913\n"
     ]
    }
   ],
   "source": [
    "budget = 2\n",
    "gridSize = (5, 5)\n",
    "target = Node(4, 1)\n",
    "strategies = list([\n",
    "    Strategy({ Action.RIGHT: frac(1, 3) }),\n",
    "    Strategy({ Action.DOWN: frac(1, 3), Action.LEFT: frac(1, 3) }), \n",
    "])\n",
    "enumerated_strategies = dict(enumerate(strategies, start=1))\n",
    "\n",
    "pomdp = POMDP(gridSize=gridSize, target=target, model='grid', budget=budget)\n",
    "\n",
    "# Assign strategies to the nodes\n",
    "for node in pomdp.nodes: \n",
    "    if node.j < 1: node.assign_strategy(enumerated_strategies[1], 1)\n",
    "    else: node.assign_strategy(enumerated_strategies[2], 2)\n",
    "\n",
    "observations =  {n: n.strategy_id for n in pomdp.nodes if n != target}\n",
    "\n",
    "# ---------------------------------------------------------\n",
    "# get one specific utility value\n",
    "# print(pomdp.utility(enumerated_strategies, assignments)[0])\n",
    "# ---------------------------------------------------------\n",
    "\n",
    "combinations_, U = pomdp.generate_points(enumerated_strategies, observations, sections=90, write_to_file=True)\n",
    "\n",
    "# get the probability distribution of the actions that maximizes the utility\n",
    "max_index = np.argmax(U)\n",
    "print('Max utility value: ')\n",
    "\n",
    "print(combinations_[max_index])\n",
    "print([list(map(lambda x : round(float(x), 2), x)) for x in combinations_[max_index]])\n",
    "print(U[max_index]) "
   ]
  },
  {
   "cell_type": "code",
   "execution_count": 7,
   "metadata": {},
   "outputs": [
    {
     "name": "stdout",
     "output_type": "stream",
     "text": [
      "Max utility value: \n",
      "[[Fraction(0, 1) Fraction(1, 1) Fraction(0, 1) Fraction(0, 1)]\n",
      " [Fraction(0, 1) Fraction(0, 1) Fraction(55, 89) Fraction(34, 89)]]\n",
      "[[0.0, 1.0, 0.0, 0.0], [0.0, 0.0, 0.62, 0.38]]\n",
      "0.12026029388044755\n"
     ]
    }
   ],
   "source": [
    "budget = 2\n",
    "gridSize = (5, 5)\n",
    "target = Node(4, 1)\n",
    "strategies = list([\n",
    "    Strategy({ Action.RIGHT: frac(1, 3) }),\n",
    "    Strategy({ Action.DOWN: frac(1, 3), Action.LEFT: frac(1, 3) }), \n",
    "])\n",
    "enumerated_strategies = dict(enumerate(strategies, start=1))\n",
    "\n",
    "pomdp = POMDP(gridSize=gridSize, target=target, model='grid', budget=budget)\n",
    "\n",
    "# Assign strategies to the nodes\n",
    "for node in pomdp.nodes: \n",
    "    if node.j <= 1: node.assign_strategy(enumerated_strategies[1], 1)\n",
    "    else: node.assign_strategy(enumerated_strategies[2], 2)\n",
    "\n",
    "observations =  {n: n.strategy_id for n in pomdp.nodes if n != target}\n",
    "\n",
    "# ---------------------------------------------------------\n",
    "# get one specific utility value\n",
    "# print(pomdp.utility(enumerated_strategies, assignments)[0])\n",
    "# ---------------------------------------------------------\n",
    "\n",
    "combinations_, U = pomdp.generate_points(enumerated_strategies, observations, sections=90, write_to_file=True)\n",
    "\n",
    "# get the probability distribution of the actions that maximizes the utility\n",
    "max_index = np.argmax(U)\n",
    "print('Max utility value: ')\n",
    "\n",
    "print(combinations_[max_index])\n",
    "print([list(map(lambda x : round(float(x), 2), x)) for x in combinations_[max_index]])\n",
    "print(U[max_index]) "
   ]
  },
  {
   "cell_type": "code",
   "execution_count": 8,
   "metadata": {},
   "outputs": [
    {
     "name": "stdout",
     "output_type": "stream",
     "text": [
      "Max utility value: \n",
      "[[Fraction(0, 1) Fraction(28, 89) Fraction(61, 89) Fraction(0, 1)]\n",
      " [Fraction(0, 1) Fraction(0, 1) Fraction(0, 1) Fraction(1, 1)]]\n",
      "[[0.0, 0.31, 0.69, 0.0], [0.0, 0.0, 0.0, 1.0]]\n",
      "0.11502425801889572\n"
     ]
    }
   ],
   "source": [
    "budget = 2\n",
    "gridSize = (5, 5)\n",
    "target = Node(4, 1)\n",
    "strategies = list([\n",
    "    Strategy({ Action.DOWN: frac(1, 3), Action.RIGHT: frac(1, 3) }), \n",
    "    Strategy({ Action.LEFT: frac(1, 3) }),\n",
    "])\n",
    "enumerated_strategies = dict(enumerate(strategies, start=1))\n",
    "\n",
    "pomdp = POMDP(gridSize=gridSize, target=target, model='grid', budget=budget)\n",
    "\n",
    "# Assign strategies to the nodes\n",
    "for node in pomdp.nodes: \n",
    "    if node.j < 1: node.assign_strategy(enumerated_strategies[1], 1)\n",
    "    else: node.assign_strategy(enumerated_strategies[2], 2)\n",
    "\n",
    "observations =  {n: n.strategy_id for n in pomdp.nodes if n != target}\n",
    "\n",
    "# ---------------------------------------------------------\n",
    "# get one specific utility value\n",
    "# print(pomdp.utility(enumerated_strategies, assignments)[0])\n",
    "# ---------------------------------------------------------\n",
    "\n",
    "combinations_, U = pomdp.generate_points(enumerated_strategies, observations, sections=90, write_to_file=True)\n",
    "\n",
    "# get the probability distribution of the actions that maximizes the utility\n",
    "max_index = np.argmax(U)\n",
    "print('Max utility value: ')\n",
    "\n",
    "print(combinations_[max_index])\n",
    "print([list(map(lambda x : round(float(x), 2), x)) for x in combinations_[max_index]])\n",
    "print(U[max_index]) "
   ]
  },
  {
   "cell_type": "code",
   "execution_count": 4,
   "metadata": {},
   "outputs": [
    {
     "name": "stdout",
     "output_type": "stream",
     "text": [
      "Max utility value: \n",
      "[[Fraction(0, 1) Fraction(16, 89) Fraction(73, 89) Fraction(0, 1)]\n",
      " [Fraction(0, 1) Fraction(0, 1) Fraction(0, 1) Fraction(1, 1)]]\n",
      "[[0.0, 0.18, 0.82, 0.0], [0.0, 0.0, 0.0, 1.0]]\n",
      "0.20021738975729864\n"
     ]
    }
   ],
   "source": [
    "budget = 2\n",
    "gridSize = (5, 5)\n",
    "target = Node(4, 1)\n",
    "strategies = list([\n",
    "    Strategy({ Action.DOWN: frac(1, 3), Action.RIGHT: frac(1, 3) }), \n",
    "    Strategy({ Action.LEFT: frac(1, 3) }),\n",
    "])\n",
    "enumerated_strategies = dict(enumerate(strategies, start=1))\n",
    "\n",
    "pomdp = POMDP(gridSize=gridSize, target=target, model='grid', budget=budget)\n",
    "\n",
    "# Assign strategies to the nodes\n",
    "for node in pomdp.nodes: \n",
    "    if node.j <= 1: node.assign_strategy(enumerated_strategies[1], 1)\n",
    "    else: node.assign_strategy(enumerated_strategies[2], 2)\n",
    "\n",
    "observations =  {n: n.strategy_id for n in pomdp.nodes if n != target}\n",
    "\n",
    "# ---------------------------------------------------------\n",
    "# get one specific utility value\n",
    "# print(pomdp.utility(enumerated_strategies, assignments)[0])\n",
    "# ---------------------------------------------------------\n",
    "\n",
    "combinations_, U = pomdp.generate_points(enumerated_strategies, observations, sections=90, write_to_file=True)\n",
    "\n",
    "# get the probability distribution of the actions that maximizes the utility\n",
    "max_index = np.argmax(U)\n",
    "print('Max utility value: ')\n",
    "\n",
    "print(combinations_[max_index])\n",
    "print([list(map(lambda x : round(float(x), 2), x)) for x in combinations_[max_index]])\n",
    "print(U[max_index]) "
   ]
  },
  {
   "cell_type": "code",
   "execution_count": 3,
   "metadata": {},
   "outputs": [
    {
     "name": "stdout",
     "output_type": "stream",
     "text": [
      "Max utility value: \n",
      "[[Fraction(0, 1) Fraction(18, 89) Fraction(0, 1) Fraction(71, 89)]\n",
      " [Fraction(0, 1) Fraction(0, 1) Fraction(1, 1) Fraction(0, 1)]]\n",
      "[[0.0, 0.2, 0.0, 0.8], [0.0, 0.0, 1.0, 0.0]]\n",
      "0.19756139927484928\n"
     ]
    }
   ],
   "source": [
    "budget = 2\n",
    "gridSize = (5, 5)\n",
    "target = Node(4, 1)\n",
    "strategies = list([\n",
    "    Strategy({ Action.LEFT: frac(1, 3), Action.RIGHT: frac(1, 3) }), \n",
    "    Strategy({ Action.DOWN: frac(1, 3) }),\n",
    "])\n",
    "enumerated_strategies = dict(enumerate(strategies, start=1))\n",
    "\n",
    "pomdp = POMDP(gridSize=gridSize, target=target, model='grid', budget=budget)\n",
    "\n",
    "# Assign strategies to the nodes\n",
    "for node in pomdp.nodes: \n",
    "    if node.i == 4: node.assign_strategy(enumerated_strategies[1], 1)\n",
    "    else: node.assign_strategy(enumerated_strategies[2], 2)\n",
    "\n",
    "observations =  {n: n.strategy_id for n in pomdp.nodes if n != target}\n",
    "\n",
    "# ---------------------------------------------------------\n",
    "# get one specific utility value\n",
    "# print(pomdp.utility(enumerated_strategies, assignments)[0])\n",
    "# ---------------------------------------------------------\n",
    "\n",
    "combinations_, U = pomdp.generate_points(enumerated_strategies, observations, sections=90, write_to_file=True)\n",
    "\n",
    "# get the probability distribution of the actions that maximizes the utility\n",
    "max_index = np.argmax(U)\n",
    "print('Max utility value: ')\n",
    "\n",
    "print(combinations_[max_index])\n",
    "print([list(map(lambda x : round(float(x), 2), x)) for x in combinations_[max_index]])\n",
    "print(U[max_index]) "
   ]
  },
  {
   "cell_type": "markdown",
   "metadata": {},
   "source": [
    "# Convergence Analysis"
   ]
  },
  {
   "cell_type": "markdown",
   "metadata": {},
   "source": [
    "Current Implementation is fidgety since python bugs out when generating so many files, a new approach is to be found."
   ]
  },
  {
   "cell_type": "code",
   "execution_count": 7,
   "metadata": {},
   "outputs": [
    {
     "ename": "NameError",
     "evalue": "name 'ys12_1' is not defined",
     "output_type": "error",
     "traceback": [
      "\u001b[0;31m---------------------------------------------------------------------------\u001b[0m",
      "\u001b[0;31mNameError\u001b[0m                                 Traceback (most recent call last)",
      "Cell \u001b[0;32mIn[7], line 40\u001b[0m\n\u001b[1;32m     35\u001b[0m     \u001b[38;5;28;01mreturn\u001b[39;00m approx\n\u001b[1;32m     39\u001b[0m \u001b[38;5;28;01mfor\u001b[39;00m i \u001b[38;5;129;01min\u001b[39;00m \u001b[38;5;28mrange\u001b[39m(\u001b[38;5;241m3\u001b[39m,\u001b[38;5;241m15\u001b[39m):\n\u001b[0;32m---> 40\u001b[0m     \u001b[38;5;28mprint\u001b[39m(\u001b[38;5;124mf\u001b[39m\u001b[38;5;124m'\u001b[39m\u001b[38;5;132;01m{\u001b[39;00mi\u001b[38;5;132;01m}\u001b[39;00m\u001b[38;5;124m: \u001b[39m\u001b[38;5;132;01m{\u001b[39;00m\u001b[43mf\u001b[49m\u001b[43m(\u001b[49m\u001b[43mi\u001b[49m\u001b[43m)\u001b[49m\u001b[38;5;132;01m}\u001b[39;00m\u001b[38;5;124m'\u001b[39m)\n",
      "Cell \u001b[0;32mIn[7], line 23\u001b[0m, in \u001b[0;36mf\u001b[0;34m(x)\u001b[0m\n\u001b[1;32m     15\u001b[0m observations \u001b[38;5;241m=\u001b[39m  {n: n\u001b[38;5;241m.\u001b[39mstrategy_id \u001b[38;5;28;01mfor\u001b[39;00m n \u001b[38;5;129;01min\u001b[39;00m pomdp\u001b[38;5;241m.\u001b[39mnodes \u001b[38;5;28;01mif\u001b[39;00m n \u001b[38;5;241m!=\u001b[39m target}\n\u001b[1;32m     17\u001b[0m \u001b[38;5;66;03m# ---------------------------------------------------------\u001b[39;00m\n\u001b[1;32m     18\u001b[0m \u001b[38;5;66;03m# get one specific utility value\u001b[39;00m\n\u001b[1;32m     19\u001b[0m \u001b[38;5;66;03m# print(pomdp.utility(enumerated_strategies, assignments)[0])\u001b[39;00m\n\u001b[1;32m     20\u001b[0m \u001b[38;5;66;03m# ---------------------------------------------------------\u001b[39;00m\n\u001b[1;32m     21\u001b[0m \u001b[38;5;66;03m# print(len(pomdp.ordered_nodes))\u001b[39;00m\n\u001b[1;32m     22\u001b[0m \u001b[38;5;66;03m# print(len(observations))\u001b[39;00m\n\u001b[0;32m---> 23\u001b[0m combinations_, U \u001b[38;5;241m=\u001b[39m \u001b[43mpomdp\u001b[49m\u001b[38;5;241;43m.\u001b[39;49m\u001b[43mgenerate_points\u001b[49m\u001b[43m(\u001b[49m\u001b[43menumerated_strategies\u001b[49m\u001b[43m,\u001b[49m\u001b[43m \u001b[49m\u001b[43mobservations\u001b[49m\u001b[43m,\u001b[49m\u001b[43m \u001b[49m\u001b[43msections\u001b[49m\u001b[38;5;241;43m=\u001b[39;49m\u001b[38;5;241;43m20\u001b[39;49m\u001b[43m,\u001b[49m\u001b[43m \u001b[49m\u001b[43mwrite_to_file\u001b[49m\u001b[38;5;241;43m=\u001b[39;49m\u001b[38;5;28;43;01mTrue\u001b[39;49;00m\u001b[43m)\u001b[49m\n\u001b[1;32m     24\u001b[0m \u001b[38;5;66;03m# plot_actions_4D(combinations_, U, actions = [Action.DOWN, Action.RIGHT, Action.LEFT])\u001b[39;00m\n\u001b[1;32m     25\u001b[0m \n\u001b[1;32m     26\u001b[0m \u001b[38;5;66;03m# get the probability distribution of the actions that maximizes the utility\u001b[39;00m\n\u001b[1;32m     27\u001b[0m max_index \u001b[38;5;241m=\u001b[39m np\u001b[38;5;241m.\u001b[39margmax(U)\n",
      "File \u001b[0;32m~/Documents/github_projects/POMDPs/visualizer/api/solver/pomdp.py:167\u001b[0m, in \u001b[0;36mPOMDP.generate_points\u001b[0;34m(self, strategies, observations, sections, write_to_file)\u001b[0m\n\u001b[1;32m    164\u001b[0m         strategies[j\u001b[38;5;241m+\u001b[39m\u001b[38;5;241m1\u001b[39m]\u001b[38;5;241m.\u001b[39mactions \u001b[38;5;241m=\u001b[39m {a: combinations_[i][j][a\u001b[38;5;241m.\u001b[39mvalue] \u001b[38;5;28;01mfor\u001b[39;00m a \u001b[38;5;129;01min\u001b[39;00m Action}\n\u001b[1;32m    166\u001b[0m     \u001b[38;5;66;03m# compute the utility of the strategies\u001b[39;00m\n\u001b[0;32m--> 167\u001b[0m     U[i], _ \u001b[38;5;241m=\u001b[39m \u001b[38;5;28;43mself\u001b[39;49m\u001b[38;5;241;43m.\u001b[39;49m\u001b[43mutility\u001b[49m\u001b[43m(\u001b[49m\u001b[43mstrategies\u001b[49m\u001b[43m,\u001b[49m\u001b[43m \u001b[49m\u001b[43mobservations\u001b[49m\u001b[43m)\u001b[49m\n\u001b[1;32m    169\u001b[0m     \u001b[38;5;66;03m# U[i] = inverse_fraction(u) # take the inverse of the utility as a fraction\u001b[39;00m\n\u001b[1;32m    170\u001b[0m     \u001b[38;5;66;03m# U[i] = 1/u if u != 0 else 0 # take the inverse of the utility\u001b[39;00m\n\u001b[1;32m    171\u001b[0m \n\u001b[1;32m    172\u001b[0m \u001b[38;5;66;03m# standardize U\u001b[39;00m\n\u001b[1;32m    173\u001b[0m \u001b[38;5;66;03m# U = (U - U.min()) / (U.max() - U.min())\u001b[39;00m\n\u001b[1;32m    175\u001b[0m \u001b[38;5;28;01mif\u001b[39;00m write_to_file:\n",
      "File \u001b[0;32m~/Documents/github_projects/POMDPs/visualizer/api/solver/pomdp.py:134\u001b[0m, in \u001b[0;36mPOMDP.utility\u001b[0;34m(self, strategies, observations)\u001b[0m\n\u001b[1;32m    131\u001b[0m target \u001b[38;5;241m=\u001b[39m \u001b[38;5;28mself\u001b[39m\u001b[38;5;241m.\u001b[39mtranslate_grid_coords_to_grid_id(pos \u001b[38;5;241m=\u001b[39m \u001b[38;5;28mself\u001b[39m\u001b[38;5;241m.\u001b[39mtarget)\n\u001b[1;32m    133\u001b[0m \u001b[38;5;28;01mfor\u001b[39;00m n \u001b[38;5;129;01min\u001b[39;00m \u001b[38;5;28mself\u001b[39m\u001b[38;5;241m.\u001b[39mnodes: n\u001b[38;5;241m.\u001b[39mid \u001b[38;5;241m=\u001b[39m \u001b[38;5;28mself\u001b[39m\u001b[38;5;241m.\u001b[39mtranslate_grid_coords_to_grid_id(n)\n\u001b[0;32m--> 134\u001b[0m exp_min_rew, parsed_pomdp \u001b[38;5;241m=\u001b[39m \u001b[43mgrid_utility\u001b[49m\u001b[43m(\u001b[49m\u001b[38;5;28;43mself\u001b[39;49m\u001b[38;5;241;43m.\u001b[39;49m\u001b[43mbudget\u001b[49m\u001b[43m,\u001b[49m\u001b[43m \u001b[49m\u001b[43mtarget\u001b[49m\u001b[43m,\u001b[49m\u001b[43m \u001b[49m\u001b[38;5;28;43mself\u001b[39;49m\u001b[38;5;241;43m.\u001b[39;49m\u001b[43mgridSize\u001b[49m\u001b[43m[\u001b[49m\u001b[38;5;241;43m0\u001b[39;49m\u001b[43m]\u001b[49m\u001b[43m,\u001b[49m\u001b[43m \u001b[49m\u001b[43mstrategies\u001b[49m\u001b[43m,\u001b[49m\u001b[43m \u001b[49m\u001b[43mobservations\u001b[49m\u001b[43m)\u001b[49m\n\u001b[1;32m    135\u001b[0m u \u001b[38;5;241m=\u001b[39m \u001b[38;5;241m1\u001b[39m\u001b[38;5;241m/\u001b[39mexp_min_rew \u001b[38;5;28;01mif\u001b[39;00m exp_min_rew \u001b[38;5;241m!=\u001b[39m \u001b[38;5;241m0\u001b[39m \u001b[38;5;28;01melse\u001b[39;00m \u001b[38;5;241m0\u001b[39m\n\u001b[1;32m    136\u001b[0m \u001b[38;5;28;01mreturn\u001b[39;00m u, parsed_pomdp\n",
      "File \u001b[0;32m~/Documents/github_projects/POMDPs/visualizer/api/solver/utility_functions/createGridUtility.py:271\u001b[0m, in \u001b[0;36mgrid_utility\u001b[0;34m(budget, target, size, strategies, observations, det)\u001b[0m\n\u001b[1;32m    269\u001b[0m spec \u001b[38;5;241m=\u001b[39m importlib\u001b[38;5;241m.\u001b[39mutil\u001b[38;5;241m.\u001b[39mspec_from_file_location(\u001b[38;5;124m\"\u001b[39m\u001b[38;5;124mgenerated_module\u001b[39m\u001b[38;5;124m\"\u001b[39m, file_path)\n\u001b[1;32m    270\u001b[0m module \u001b[38;5;241m=\u001b[39m importlib\u001b[38;5;241m.\u001b[39mutil\u001b[38;5;241m.\u001b[39mmodule_from_spec(spec)\n\u001b[0;32m--> 271\u001b[0m \u001b[43mspec\u001b[49m\u001b[38;5;241;43m.\u001b[39;49m\u001b[43mloader\u001b[49m\u001b[38;5;241;43m.\u001b[39;49m\u001b[43mexec_module\u001b[49m\u001b[43m(\u001b[49m\u001b[43mmodule\u001b[49m\u001b[43m)\u001b[49m\n\u001b[1;32m    273\u001b[0m \u001b[38;5;66;03m# ModelRef to python dict\u001b[39;00m\n\u001b[1;32m    274\u001b[0m model \u001b[38;5;241m=\u001b[39m module\u001b[38;5;241m.\u001b[39msol()\n",
      "File \u001b[0;32m<frozen importlib._bootstrap_external>:995\u001b[0m, in \u001b[0;36mexec_module\u001b[0;34m(self, module)\u001b[0m\n",
      "File \u001b[0;32m<frozen importlib._bootstrap>:488\u001b[0m, in \u001b[0;36m_call_with_frames_removed\u001b[0;34m(f, *args, **kwds)\u001b[0m\n",
      "File \u001b[0;32m~/Documents/github_projects/POMDPs/visualizer/api/solver/utility_functions/generated_models/grid.py:64\u001b[0m\n\u001b[1;32m     30\u001b[0m xo1d \u001b[38;5;241m=\u001b[39m Real(\u001b[38;5;124m'\u001b[39m\u001b[38;5;124mxo1d\u001b[39m\u001b[38;5;124m'\u001b[39m)\n\u001b[1;32m     31\u001b[0m solver \u001b[38;5;241m=\u001b[39m Solver()\n\u001b[1;32m     34\u001b[0m solver\u001b[38;5;241m.\u001b[39madd(\n\u001b[1;32m     35\u001b[0m \u001b[38;5;66;03m#We cannot do better than the fully observable case\u001b[39;00m\n\u001b[1;32m     36\u001b[0m pi0\u001b[38;5;241m>\u001b[39m\u001b[38;5;241m=\u001b[39m\u001b[38;5;241m3\u001b[39m, pi1\u001b[38;5;241m>\u001b[39m\u001b[38;5;241m=\u001b[39m\u001b[38;5;241m2\u001b[39m, pi2\u001b[38;5;241m>\u001b[39m\u001b[38;5;241m=\u001b[39m\u001b[38;5;241m2\u001b[39m, pi3\u001b[38;5;241m>\u001b[39m\u001b[38;5;241m=\u001b[39m\u001b[38;5;241m2\u001b[39m, pi4\u001b[38;5;241m>\u001b[39m\u001b[38;5;241m=\u001b[39m\u001b[38;5;241m1\u001b[39m, pi5\u001b[38;5;241m>\u001b[39m\u001b[38;5;241m=\u001b[39m\u001b[38;5;241m1\u001b[39m, pi6\u001b[38;5;241m>\u001b[39m\u001b[38;5;241m=\u001b[39m\u001b[38;5;241m1\u001b[39m, pi7\u001b[38;5;241m>\u001b[39m\u001b[38;5;241m=\u001b[39m\u001b[38;5;241m0\u001b[39m, pi8\u001b[38;5;241m>\u001b[39m\u001b[38;5;241m=\u001b[39m\u001b[38;5;241m0\u001b[39m, \n\u001b[1;32m     37\u001b[0m \u001b[38;5;66;03m# Expected cost/reard equations\u001b[39;00m\n\u001b[1;32m     38\u001b[0m pi0 \u001b[38;5;241m==\u001b[39m (ys0_1\u001b[38;5;241m*\u001b[39mxo1l) \u001b[38;5;241m*\u001b[39m (\u001b[38;5;241m1\u001b[39m \u001b[38;5;241m+\u001b[39m pi0) \u001b[38;5;241m+\u001b[39m (ys0_1\u001b[38;5;241m*\u001b[39mxo1r) \u001b[38;5;241m*\u001b[39m (\u001b[38;5;241m1\u001b[39m \u001b[38;5;241m+\u001b[39m pi1) \u001b[38;5;241m+\u001b[39m (ys0_1\u001b[38;5;241m*\u001b[39mxo1u) \u001b[38;5;241m*\u001b[39m (\u001b[38;5;241m1\u001b[39m \u001b[38;5;241m+\u001b[39m pi0) \u001b[38;5;241m+\u001b[39m (ys0_1\u001b[38;5;241m*\u001b[39mxo1d) \u001b[38;5;241m*\u001b[39m (\u001b[38;5;241m1\u001b[39m \u001b[38;5;241m+\u001b[39m pi3),\n\u001b[1;32m     39\u001b[0m pi1 \u001b[38;5;241m==\u001b[39m (ys1_1\u001b[38;5;241m*\u001b[39mxo1l) \u001b[38;5;241m*\u001b[39m (\u001b[38;5;241m1\u001b[39m \u001b[38;5;241m+\u001b[39m pi0) \u001b[38;5;241m+\u001b[39m (ys1_1\u001b[38;5;241m*\u001b[39mxo1r) \u001b[38;5;241m*\u001b[39m (\u001b[38;5;241m1\u001b[39m \u001b[38;5;241m+\u001b[39m pi2) \u001b[38;5;241m+\u001b[39m (ys1_1\u001b[38;5;241m*\u001b[39mxo1u) \u001b[38;5;241m*\u001b[39m (\u001b[38;5;241m1\u001b[39m \u001b[38;5;241m+\u001b[39m pi1) \u001b[38;5;241m+\u001b[39m (ys1_1\u001b[38;5;241m*\u001b[39mxo1d) \u001b[38;5;241m*\u001b[39m (\u001b[38;5;241m1\u001b[39m \u001b[38;5;241m+\u001b[39m pi4),\n\u001b[1;32m     40\u001b[0m pi2 \u001b[38;5;241m==\u001b[39m (ys2_1\u001b[38;5;241m*\u001b[39mxo1l) \u001b[38;5;241m*\u001b[39m (\u001b[38;5;241m1\u001b[39m \u001b[38;5;241m+\u001b[39m pi1) \u001b[38;5;241m+\u001b[39m (ys2_1\u001b[38;5;241m*\u001b[39mxo1r) \u001b[38;5;241m*\u001b[39m (\u001b[38;5;241m1\u001b[39m \u001b[38;5;241m+\u001b[39m pi2) \u001b[38;5;241m+\u001b[39m (ys2_1\u001b[38;5;241m*\u001b[39mxo1u) \u001b[38;5;241m*\u001b[39m (\u001b[38;5;241m1\u001b[39m \u001b[38;5;241m+\u001b[39m pi2) \u001b[38;5;241m+\u001b[39m (ys2_1\u001b[38;5;241m*\u001b[39mxo1d) \u001b[38;5;241m*\u001b[39m (\u001b[38;5;241m1\u001b[39m \u001b[38;5;241m+\u001b[39m pi5),\n\u001b[1;32m     41\u001b[0m pi3 \u001b[38;5;241m==\u001b[39m (ys3_1\u001b[38;5;241m*\u001b[39mxo1l) \u001b[38;5;241m*\u001b[39m (\u001b[38;5;241m1\u001b[39m \u001b[38;5;241m+\u001b[39m pi3) \u001b[38;5;241m+\u001b[39m (ys3_1\u001b[38;5;241m*\u001b[39mxo1r) \u001b[38;5;241m*\u001b[39m (\u001b[38;5;241m1\u001b[39m \u001b[38;5;241m+\u001b[39m pi4) \u001b[38;5;241m+\u001b[39m (ys3_1\u001b[38;5;241m*\u001b[39mxo1u) \u001b[38;5;241m*\u001b[39m (\u001b[38;5;241m1\u001b[39m \u001b[38;5;241m+\u001b[39m pi0) \u001b[38;5;241m+\u001b[39m (ys3_1\u001b[38;5;241m*\u001b[39mxo1d) \u001b[38;5;241m*\u001b[39m (\u001b[38;5;241m1\u001b[39m \u001b[38;5;241m+\u001b[39m pi6),\n\u001b[1;32m     42\u001b[0m pi4 \u001b[38;5;241m==\u001b[39m (ys4_1\u001b[38;5;241m*\u001b[39mxo1l) \u001b[38;5;241m*\u001b[39m (\u001b[38;5;241m1\u001b[39m \u001b[38;5;241m+\u001b[39m pi3) \u001b[38;5;241m+\u001b[39m (ys4_1\u001b[38;5;241m*\u001b[39mxo1r) \u001b[38;5;241m*\u001b[39m (\u001b[38;5;241m1\u001b[39m \u001b[38;5;241m+\u001b[39m pi5) \u001b[38;5;241m+\u001b[39m (ys4_1\u001b[38;5;241m*\u001b[39mxo1u) \u001b[38;5;241m*\u001b[39m (\u001b[38;5;241m1\u001b[39m \u001b[38;5;241m+\u001b[39m pi1) \u001b[38;5;241m+\u001b[39m (ys4_1\u001b[38;5;241m*\u001b[39mxo1d) \u001b[38;5;241m*\u001b[39m (\u001b[38;5;241m1\u001b[39m \u001b[38;5;241m+\u001b[39m pi7),\n\u001b[1;32m     43\u001b[0m pi5 \u001b[38;5;241m==\u001b[39m (ys5_1\u001b[38;5;241m*\u001b[39mxo1l) \u001b[38;5;241m*\u001b[39m (\u001b[38;5;241m1\u001b[39m \u001b[38;5;241m+\u001b[39m pi4) \u001b[38;5;241m+\u001b[39m (ys5_1\u001b[38;5;241m*\u001b[39mxo1r) \u001b[38;5;241m*\u001b[39m (\u001b[38;5;241m1\u001b[39m \u001b[38;5;241m+\u001b[39m pi5) \u001b[38;5;241m+\u001b[39m (ys5_1\u001b[38;5;241m*\u001b[39mxo1u) \u001b[38;5;241m*\u001b[39m (\u001b[38;5;241m1\u001b[39m \u001b[38;5;241m+\u001b[39m pi2) \u001b[38;5;241m+\u001b[39m (ys5_1\u001b[38;5;241m*\u001b[39mxo1d) \u001b[38;5;241m*\u001b[39m (\u001b[38;5;241m1\u001b[39m \u001b[38;5;241m+\u001b[39m pi8),\n\u001b[1;32m     44\u001b[0m pi6 \u001b[38;5;241m==\u001b[39m (ys6_1\u001b[38;5;241m*\u001b[39mxo1l) \u001b[38;5;241m*\u001b[39m (\u001b[38;5;241m1\u001b[39m \u001b[38;5;241m+\u001b[39m pi6) \u001b[38;5;241m+\u001b[39m (ys6_1\u001b[38;5;241m*\u001b[39mxo1r) \u001b[38;5;241m*\u001b[39m (\u001b[38;5;241m1\u001b[39m \u001b[38;5;241m+\u001b[39m pi7) \u001b[38;5;241m+\u001b[39m (ys6_1\u001b[38;5;241m*\u001b[39mxo1u) \u001b[38;5;241m*\u001b[39m (\u001b[38;5;241m1\u001b[39m \u001b[38;5;241m+\u001b[39m pi3) \u001b[38;5;241m+\u001b[39m (ys6_1\u001b[38;5;241m*\u001b[39mxo1d) \u001b[38;5;241m*\u001b[39m (\u001b[38;5;241m1\u001b[39m \u001b[38;5;241m+\u001b[39m pi6),\n\u001b[1;32m     45\u001b[0m pi7 \u001b[38;5;241m==\u001b[39m \u001b[38;5;241m0\u001b[39m, \n\u001b[1;32m     46\u001b[0m pi8 \u001b[38;5;241m==\u001b[39m (ys8_1\u001b[38;5;241m*\u001b[39mxo1l) \u001b[38;5;241m*\u001b[39m (\u001b[38;5;241m1\u001b[39m \u001b[38;5;241m+\u001b[39m pi7) \u001b[38;5;241m+\u001b[39m (ys8_1\u001b[38;5;241m*\u001b[39mxo1r) \u001b[38;5;241m*\u001b[39m (\u001b[38;5;241m1\u001b[39m \u001b[38;5;241m+\u001b[39m pi8) \u001b[38;5;241m+\u001b[39m (ys8_1\u001b[38;5;241m*\u001b[39mxo1u) \u001b[38;5;241m*\u001b[39m (\u001b[38;5;241m1\u001b[39m \u001b[38;5;241m+\u001b[39m pi5) \u001b[38;5;241m+\u001b[39m (ys8_1\u001b[38;5;241m*\u001b[39mxo1d) \u001b[38;5;241m*\u001b[39m (\u001b[38;5;241m1\u001b[39m \u001b[38;5;241m+\u001b[39m pi8),\n\u001b[1;32m     47\u001b[0m exp\u001b[38;5;241m==\u001b[39m((pi0\u001b[38;5;241m+\u001b[39mpi1\u001b[38;5;241m+\u001b[39mpi2\u001b[38;5;241m+\u001b[39mpi3\u001b[38;5;241m+\u001b[39mpi4\u001b[38;5;241m+\u001b[39mpi5\u001b[38;5;241m+\u001b[39mpi6\u001b[38;5;241m+\u001b[39mpi8)) \u001b[38;5;241m*\u001b[39m Q(\u001b[38;5;241m1\u001b[39m,\u001b[38;5;241m8\u001b[39m),\n\u001b[1;32m     48\u001b[0m \u001b[38;5;66;03m# Randomised strategies (proper probability distributions)\u001b[39;00m\n\u001b[1;32m     49\u001b[0m xo1l\u001b[38;5;241m>\u001b[39m\u001b[38;5;241m=\u001b[39m \u001b[38;5;241m0\u001b[39m,\n\u001b[1;32m     50\u001b[0m xo1l\u001b[38;5;241m<\u001b[39m\u001b[38;5;241m=\u001b[39m \u001b[38;5;241m1\u001b[39m,\n\u001b[1;32m     51\u001b[0m xo1r\u001b[38;5;241m>\u001b[39m\u001b[38;5;241m=\u001b[39m \u001b[38;5;241m0\u001b[39m,\n\u001b[1;32m     52\u001b[0m xo1r\u001b[38;5;241m<\u001b[39m\u001b[38;5;241m=\u001b[39m \u001b[38;5;241m1\u001b[39m,\n\u001b[1;32m     53\u001b[0m xo1u\u001b[38;5;241m>\u001b[39m\u001b[38;5;241m=\u001b[39m \u001b[38;5;241m0\u001b[39m,\n\u001b[1;32m     54\u001b[0m xo1u\u001b[38;5;241m<\u001b[39m\u001b[38;5;241m=\u001b[39m \u001b[38;5;241m1\u001b[39m,\n\u001b[1;32m     55\u001b[0m xo1d\u001b[38;5;241m>\u001b[39m\u001b[38;5;241m=\u001b[39m \u001b[38;5;241m0\u001b[39m,\n\u001b[1;32m     56\u001b[0m xo1d\u001b[38;5;241m<\u001b[39m\u001b[38;5;241m=\u001b[39m \u001b[38;5;241m1\u001b[39m,\n\u001b[1;32m     57\u001b[0m \u001b[38;5;66;03m# Assigning the action probability distribution from the strategies\u001b[39;00m\n\u001b[1;32m     58\u001b[0m xo1u\u001b[38;5;241m==\u001b[39m Q(\u001b[38;5;241m0\u001b[39m, \u001b[38;5;241m1\u001b[39m),\n\u001b[1;32m     59\u001b[0m xo1r\u001b[38;5;241m==\u001b[39m Q(\u001b[38;5;241m0\u001b[39m, \u001b[38;5;241m1\u001b[39m),\n\u001b[1;32m     60\u001b[0m xo1d\u001b[38;5;241m==\u001b[39m Q(\u001b[38;5;241m0\u001b[39m, \u001b[38;5;241m1\u001b[39m),\n\u001b[1;32m     61\u001b[0m xo1l\u001b[38;5;241m==\u001b[39m Q(\u001b[38;5;241m1\u001b[39m, \u001b[38;5;241m1\u001b[39m),\n\u001b[1;32m     62\u001b[0m xo1u \u001b[38;5;241m+\u001b[39m xo1r \u001b[38;5;241m+\u001b[39m xo1d \u001b[38;5;241m+\u001b[39m xo1l \u001b[38;5;241m==\u001b[39m \u001b[38;5;241m1\u001b[39m,\n\u001b[1;32m     63\u001b[0m \u001b[38;5;66;03m# Assigned observables\u001b[39;00m\n\u001b[0;32m---> 64\u001b[0m \u001b[43mys12_1\u001b[49m \u001b[38;5;241m==\u001b[39m \u001b[38;5;241m1\u001b[39m,\n\u001b[1;32m     65\u001b[0m ys13_1 \u001b[38;5;241m==\u001b[39m \u001b[38;5;241m1\u001b[39m,\n\u001b[1;32m     66\u001b[0m ys15_1 \u001b[38;5;241m==\u001b[39m \u001b[38;5;241m1\u001b[39m,\n\u001b[1;32m     67\u001b[0m ys10_1 \u001b[38;5;241m==\u001b[39m \u001b[38;5;241m1\u001b[39m,\n\u001b[1;32m     68\u001b[0m ys2_1 \u001b[38;5;241m==\u001b[39m \u001b[38;5;241m1\u001b[39m,\n\u001b[1;32m     69\u001b[0m ys8_1 \u001b[38;5;241m==\u001b[39m \u001b[38;5;241m1\u001b[39m,\n\u001b[1;32m     70\u001b[0m ys3_1 \u001b[38;5;241m==\u001b[39m \u001b[38;5;241m1\u001b[39m,\n\u001b[1;32m     71\u001b[0m ys6_1 \u001b[38;5;241m==\u001b[39m \u001b[38;5;241m1\u001b[39m,\n\u001b[1;32m     72\u001b[0m ys14_1 \u001b[38;5;241m==\u001b[39m \u001b[38;5;241m1\u001b[39m,\n\u001b[1;32m     73\u001b[0m ys9_1 \u001b[38;5;241m==\u001b[39m \u001b[38;5;241m1\u001b[39m,\n\u001b[1;32m     74\u001b[0m ys12_1 \u001b[38;5;241m==\u001b[39m \u001b[38;5;241m1\u001b[39m,\n\u001b[1;32m     75\u001b[0m ys1_1 \u001b[38;5;241m==\u001b[39m \u001b[38;5;241m1\u001b[39m,\n\u001b[1;32m     76\u001b[0m ys10_1 \u001b[38;5;241m==\u001b[39m \u001b[38;5;241m1\u001b[39m,\n\u001b[1;32m     77\u001b[0m ys5_1 \u001b[38;5;241m==\u001b[39m \u001b[38;5;241m1\u001b[39m,\n\u001b[1;32m     78\u001b[0m ys4_1 \u001b[38;5;241m==\u001b[39m \u001b[38;5;241m1\u001b[39m,\n\u001b[1;32m     79\u001b[0m ys11_1 \u001b[38;5;241m==\u001b[39m \u001b[38;5;241m1\u001b[39m,\n\u001b[1;32m     80\u001b[0m ys13_1 \u001b[38;5;241m==\u001b[39m \u001b[38;5;241m1\u001b[39m,\n\u001b[1;32m     81\u001b[0m ys16_1 \u001b[38;5;241m==\u001b[39m \u001b[38;5;241m1\u001b[39m,\n\u001b[1;32m     82\u001b[0m ys0_1 \u001b[38;5;241m==\u001b[39m \u001b[38;5;241m1\u001b[39m,\n\u001b[1;32m     83\u001b[0m ys4_1 \u001b[38;5;241m==\u001b[39m \u001b[38;5;241m1\u001b[39m,\n\u001b[1;32m     84\u001b[0m ys3_1 \u001b[38;5;241m==\u001b[39m \u001b[38;5;241m1\u001b[39m,\n\u001b[1;32m     85\u001b[0m ys6_1 \u001b[38;5;241m==\u001b[39m \u001b[38;5;241m1\u001b[39m,\n\u001b[1;32m     86\u001b[0m ys7_1 \u001b[38;5;241m==\u001b[39m \u001b[38;5;241m1\u001b[39m,\n\u001b[1;32m     87\u001b[0m ys9_1 \u001b[38;5;241m==\u001b[39m \u001b[38;5;241m1\u001b[39m,\n\u001b[1;32m     88\u001b[0m \u001b[38;5;66;03m# Every state should be mapped to exactly one equivalence class\u001b[39;00m\n\u001b[1;32m     89\u001b[0m ys0_1 \u001b[38;5;241m==\u001b[39m \u001b[38;5;241m1\u001b[39m,\n\u001b[1;32m     90\u001b[0m ys1_1 \u001b[38;5;241m==\u001b[39m \u001b[38;5;241m1\u001b[39m,\n\u001b[1;32m     91\u001b[0m ys2_1 \u001b[38;5;241m==\u001b[39m \u001b[38;5;241m1\u001b[39m,\n\u001b[1;32m     92\u001b[0m ys3_1 \u001b[38;5;241m==\u001b[39m \u001b[38;5;241m1\u001b[39m,\n\u001b[1;32m     93\u001b[0m ys4_1 \u001b[38;5;241m==\u001b[39m \u001b[38;5;241m1\u001b[39m,\n\u001b[1;32m     94\u001b[0m ys5_1 \u001b[38;5;241m==\u001b[39m \u001b[38;5;241m1\u001b[39m,\n\u001b[1;32m     95\u001b[0m ys6_1 \u001b[38;5;241m==\u001b[39m \u001b[38;5;241m1\u001b[39m,\n\u001b[1;32m     96\u001b[0m ys8_1 \u001b[38;5;241m==\u001b[39m \u001b[38;5;241m1\u001b[39m\n\u001b[1;32m     97\u001b[0m )\n\u001b[1;32m    100\u001b[0m sol \u001b[38;5;241m=\u001b[39m \u001b[38;5;28;01mlambda\u001b[39;00m : solver\u001b[38;5;241m.\u001b[39mmodel() \u001b[38;5;28;01mif\u001b[39;00m solver\u001b[38;5;241m.\u001b[39mcheck() \u001b[38;5;241m==\u001b[39m sat \u001b[38;5;28;01melse\u001b[39;00m \u001b[38;5;124m\"\u001b[39m\u001b[38;5;124mNo Solution\u001b[39m\u001b[38;5;124m\"\u001b[39m \u001b[38;5;28;01mif\u001b[39;00m solver\u001b[38;5;241m.\u001b[39mcheck() \u001b[38;5;241m==\u001b[39m unsat \u001b[38;5;28;01melse\u001b[39;00m \u001b[38;5;28;01mNone\u001b[39;00m\n",
      "\u001b[0;31mNameError\u001b[0m: name 'ys12_1' is not defined"
     ]
    }
   ],
   "source": [
    "def f(x):\n",
    "    budget = 1\n",
    "    gridSize = (x, x)\n",
    "\n",
    "    target = Node(x-1, 1)\n",
    "    strategies = list([ \n",
    "        Strategy({ Action.DOWN: frac(1, 3), Action.RIGHT: frac(1, 3), Action.LEFT: frac(1, 3) }) \n",
    "    ])\n",
    "    enumerated_strategies = dict(enumerate(strategies, start=1))\n",
    "\n",
    "    pomdp = POMDP(gridSize=gridSize, target=target, model='grid', budget=budget)\n",
    "    \n",
    "    # Assign strategies to the nodes\n",
    "    for node in pomdp.nodes: node.assign_strategy(enumerated_strategies[1], 1)\n",
    "    observations =  {n: n.strategy_id for n in pomdp.nodes if n != target}\n",
    "\n",
    "    # ---------------------------------------------------------\n",
    "    # get one specific utility value\n",
    "    # print(pomdp.utility(enumerated_strategies, assignments)[0])\n",
    "    # ---------------------------------------------------------\n",
    "    # print(len(pomdp.ordered_nodes))\n",
    "    # print(len(observations))\n",
    "    combinations_, U = pomdp.generate_points(enumerated_strategies, observations, sections=20, write_to_file=True)\n",
    "    # plot_actions_4D(combinations_, U, actions = [Action.DOWN, Action.RIGHT, Action.LEFT])\n",
    "\n",
    "    # get the probability distribution of the actions that maximizes the utility\n",
    "    max_index = np.argmax(U)\n",
    "    approx = np.around(list(map(float, combinations_[max_index][0])), 2) # the probability distribution of the actions that maximizes the utility\n",
    "    \n",
    "    # print('Max utility value: ')\n",
    "    # print(combinations_[max_index][0])\n",
    "    # print(approx)\n",
    "    # print(U[max_index])\n",
    "    \n",
    "    return approx\n",
    "\n",
    "    \n",
    "    \n",
    "for i in range(3,15):\n",
    "    print(f'{i}: {f(i)}')"
   ]
  },
  {
   "cell_type": "markdown",
   "metadata": {},
   "source": [
    "# Simulated Annealing"
   ]
  },
  {
   "cell_type": "code",
   "execution_count": 6,
   "metadata": {},
   "outputs": [
    {
     "data": {
      "application/vnd.plotly.v1+json": {
       "config": {
        "plotlyServerURL": "https://plot.ly"
       },
       "data": [
        {
         "marker": {
          "color": [
           "blue",
           "blue",
           "blue",
           "blue",
           "blue",
           "blue",
           "blue",
           "blue",
           "blue",
           "blue",
           "blue",
           "blue",
           "blue",
           "blue",
           "blue",
           "blue",
           "blue",
           "blue",
           "blue",
           "blue",
           "blue",
           "blue",
           "blue",
           "blue",
           "blue",
           "blue",
           "blue",
           "blue",
           "blue",
           "blue",
           "blue",
           "blue",
           "blue",
           "blue",
           "blue",
           "blue",
           "blue",
           "blue",
           "blue",
           "blue",
           "blue",
           "blue",
           "blue",
           "blue",
           "blue",
           "blue",
           "blue",
           "blue",
           "blue",
           "blue",
           "blue",
           "blue",
           "blue",
           "blue",
           "blue",
           "blue",
           "blue",
           "blue",
           "blue",
           "blue",
           "blue",
           "blue",
           "blue",
           "blue",
           "blue",
           "blue",
           "blue",
           "blue",
           "blue",
           "blue",
           "blue",
           "blue",
           "blue",
           "blue",
           "blue",
           "blue",
           "blue",
           "blue",
           "blue",
           "blue",
           "blue",
           "blue",
           "blue",
           "blue",
           "blue",
           "blue",
           "blue",
           "blue",
           "blue",
           "blue",
           "blue",
           "blue",
           "blue",
           "blue",
           "blue",
           "blue",
           "blue",
           "blue",
           "blue",
           "blue",
           "blue",
           "blue",
           "blue",
           "blue",
           "blue",
           "blue",
           "blue",
           "blue",
           "blue",
           "blue",
           "blue",
           "blue",
           "blue",
           "blue",
           "blue",
           "blue",
           "blue",
           "blue",
           "blue",
           "blue",
           "blue",
           "blue",
           "blue",
           "blue",
           "blue",
           "blue",
           "blue",
           "blue",
           "blue",
           "blue",
           "blue",
           "blue",
           "blue",
           "blue",
           "blue",
           "blue",
           "blue",
           "blue",
           "blue",
           "blue",
           "blue",
           "blue",
           "blue",
           "blue",
           "blue",
           "blue",
           "blue",
           "blue",
           "blue",
           "blue",
           "blue",
           "blue",
           "blue",
           "blue",
           "blue",
           "blue",
           "blue",
           "blue",
           "blue",
           "blue",
           "blue",
           "red",
           "blue",
           "blue",
           "blue",
           "blue",
           "blue",
           "blue",
           "blue",
           "blue",
           "blue",
           "blue",
           "blue",
           "blue",
           "blue",
           "blue",
           "blue",
           "blue",
           "blue",
           "blue",
           "blue",
           "blue",
           "blue",
           "blue",
           "blue",
           "blue",
           "blue",
           "blue",
           "blue",
           "blue",
           "blue",
           "blue",
           "blue",
           "blue",
           "blue",
           "blue",
           "blue",
           "blue",
           "blue",
           "blue"
          ],
          "line": {
           "color": "black",
           "width": 1
          },
          "opacity": 0.8,
          "size": 8
         },
         "mode": "markers",
         "type": "scatter3d",
         "x": [
          0.46963475149973777,
          0.5678403549852268,
          0.5599876094630922,
          0.5824868017599384,
          0.6594978917851386,
          0.655074325853392,
          0.6332871290111678,
          0.5232947855555639,
          0.5618715155880963,
          0.4398629779705036,
          0.5773071266341184,
          0.4319727526670389,
          0.582104612397785,
          0.43062828093475886,
          0.4800029287520823,
          0.557727306166987,
          0.5013561727016168,
          0.5999125354316821,
          0.5373948600149215,
          0.4918162626057452,
          0.43390096214766405,
          0.5719698260704885,
          0.6002793871606684,
          0.5910583229056502,
          0.4242912048047355,
          0.479012082397883,
          0.5637531649531546,
          0.5764858567764145,
          0.41742369936424106,
          0.5638375573888023,
          0.5025376512227354,
          0.5919679484030156,
          0.5019932795617585,
          0.4156535389768221,
          0.4148024982604555,
          0.4573922365025342,
          0.5251141014974787,
          0.5693441537606673,
          0.43655725102652143,
          0.5645936980118352,
          0.4295500932204383,
          0.5390338831286791,
          0.5994750690447423,
          0.57968174923473,
          0.546647350737696,
          0.5313948997812816,
          0.49776534618611956,
          0.5017324531574041,
          0.5429188810648882,
          0.5721905194716199,
          0.5966461384128314,
          0.4666153631338137,
          0.5116953198061894,
          0.5736326075237117,
          0.5261874491386695,
          0.42642946498904766,
          0.596644476466702,
          0.5104983822010917,
          0.4779979219121964,
          0.5682263616357125,
          0.4699185231253875,
          0.5460153735833082,
          0.5929666179198461,
          0.5322459437198116,
          0.4101744143344362,
          0.5552381034271406,
          0.4626049878966362,
          0.43736369358667104,
          0.5216671836007126,
          0.5631930811644117,
          0.5081184051265453,
          0.44882725031692494,
          0.4181155816192782,
          0.4428315166175144,
          0.5552703458925402,
          0.4613148033413568,
          0.4703938221121145,
          0.5187909185683223,
          0.4101359283772346,
          0.5826982183237255,
          0.4193199914224136,
          0.4484643248667251,
          0.4428561654246633,
          0.5538834367406914,
          0.4984208793914753,
          0.458366118742686,
          0.47781456713354514,
          0.4016658241122226,
          0.471247743619017,
          0.5941644657387269,
          0.4883457667226838,
          0.5248015750896073,
          0.48212543235998234,
          0.5743430381038869,
          0.4594376745181897,
          0.40522009597326647,
          0.49279328126933875,
          0.48165712724775045,
          0.4903872509340475,
          0.5633320860423024,
          0.5163466302110267,
          0.5097747353880793,
          0.5255979473596778,
          0.4795164525833526,
          0.5638658290995664,
          0.4046551743409745,
          0.5640124482117486,
          0.5905581172937595,
          0.5009396021308093,
          0.45474516730964354,
          0.4013359140961019,
          0.5408220679132808,
          0.41891672051482187,
          0.45491966747639145,
          0.5712763529309803,
          0.5358991395708681,
          0.5529633182860199,
          0.5287170751398108,
          0.40233677816004687,
          0.4894046347456739,
          0.5037694759559215,
          0.583155200183921,
          0.42196940976424524,
          0.5277512127148445,
          0.515741121441605,
          0.5590250128395114,
          0.4246997406948989,
          0.5024304765707455,
          0.4175297379730798,
          0.5761120098634743,
          0.5801216049807807,
          0.4479814720669923,
          0.5419918104082007,
          0.5208122477932938,
          0.5973988718011124,
          0.5851185435631402,
          0.5963167505569702,
          0.5550627796297533,
          0.519808752113607,
          0.6004734345677042,
          0.5582387721416103,
          0.4427747596308542,
          0.47732585218068785,
          0.530402063824624,
          0.46137409318187506,
          0.5542966281731125,
          0.5242088345056327,
          0.5769775624485175,
          0.5698775872106283,
          0.48247378328739415,
          0.5951113885512113,
          0.547063239628307,
          0.459847468449244,
          0.5597350642709328,
          0.5464248112026474,
          0.5818062294845355,
          0.5732538975695466,
          0.4391819151574236,
          0.40180843529565863,
          0.5206226782109822,
          0.5059060838731342,
          0.5008098583678178,
          0.5954407231875929,
          0.4395570708949383,
          0.4938237438741786,
          0.4060941426497081,
          0.4154572623169837,
          0.4882523060450858,
          0.5809904501197174,
          0.4217672847133259,
          0.5529120189152913,
          0.544581494558506,
          0.4716892762175923,
          0.5294266835595002,
          0.5159103014070664,
          0.5499127131187731,
          0.469975380379697,
          0.59040695682783,
          0.4486010990285794,
          0.5312560413055456,
          0.4529068970646147,
          0.5909622609861606,
          0.5812815629941219,
          0.5771134627887008,
          0.5764624744303081,
          0.49134756963596943,
          0.44540171032997616,
          0.4223169469442054,
          0.5443091306731923,
          0.5152700956448619,
          0.5175466801534321,
          0.563203058031008,
          0.5599791538404933,
          0.5276392855326404,
          0.4147027810702058,
          0.4860077852265847,
          0.43680694275710247,
          0.4026626800881331,
          0.46918704177180587,
          0.48071425574713267
         ],
         "y": [
          0.5303652485002622,
          0.4321596450147732,
          0.44001239053690777,
          0.4175131982400616,
          0.3405021082148613,
          0.344925674146608,
          0.36671287098883215,
          0.4767052144444361,
          0.43812848441190366,
          0.5601370220294963,
          0.4226928733658816,
          0.5680272473329611,
          0.41789538760221495,
          0.5693717190652412,
          0.5199970712479177,
          0.4422726938330131,
          0.49864382729838325,
          0.40008746456831795,
          0.4626051399850784,
          0.5081837373942548,
          0.566099037852336,
          0.42803017392951154,
          0.3997206128393316,
          0.40894167709434986,
          0.5757087951952645,
          0.520987917602117,
          0.43624683504684536,
          0.42351414322358544,
          0.5825763006357589,
          0.4361624426111977,
          0.49746234877726453,
          0.4080320515969844,
          0.4980067204382414,
          0.5843464610231779,
          0.5851975017395444,
          0.5426077634974658,
          0.4748858985025212,
          0.4306558462393327,
          0.5634427489734786,
          0.43540630198816477,
          0.5704499067795618,
          0.4609661168713209,
          0.40052493095525765,
          0.4203182507652699,
          0.453352649262304,
          0.46860510021871843,
          0.5022346538138804,
          0.4982675468425959,
          0.4570811189351118,
          0.4278094805283801,
          0.4033538615871685,
          0.5333846368661863,
          0.4883046801938105,
          0.4263673924762883,
          0.4738125508613304,
          0.5735705350109523,
          0.40335552353329795,
          0.4895016177989084,
          0.5220020780878035,
          0.43177363836428745,
          0.5300814768746125,
          0.45398462641669174,
          0.40703338208015394,
          0.46775405628018846,
          0.5898255856655639,
          0.44476189657285936,
          0.5373950121033638,
          0.562636306413329,
          0.4783328163992873,
          0.43680691883558825,
          0.4918815948734548,
          0.5511727496830751,
          0.5818844183807218,
          0.5571684833824856,
          0.4447296541074598,
          0.5386851966586431,
          0.5296061778878856,
          0.4812090814316777,
          0.5898640716227653,
          0.4173017816762745,
          0.5806800085775864,
          0.5515356751332748,
          0.5571438345753368,
          0.4461165632593086,
          0.5015791206085247,
          0.541633881257314,
          0.5221854328664548,
          0.5983341758877774,
          0.528752256380983,
          0.40583553426127306,
          0.5116542332773162,
          0.47519842491039266,
          0.5178745676400176,
          0.42565696189611313,
          0.5405623254818104,
          0.5947799040267335,
          0.5072067187306613,
          0.5183428727522496,
          0.5096127490659526,
          0.4366679139576976,
          0.4836533697889733,
          0.4902252646119207,
          0.4744020526403222,
          0.5204835474166474,
          0.4361341709004336,
          0.5953448256590255,
          0.4359875517882514,
          0.4094418827062405,
          0.4990603978691907,
          0.5452548326903565,
          0.5986640859038981,
          0.45917793208671914,
          0.5810832794851781,
          0.5450803325236085,
          0.4287236470690197,
          0.4641008604291319,
          0.4470366817139801,
          0.47128292486018925,
          0.5976632218399531,
          0.5105953652543261,
          0.49623052404407847,
          0.4168447998160791,
          0.5780305902357548,
          0.4722487872851555,
          0.484258878558395,
          0.44097498716048855,
          0.5753002593051011,
          0.4975695234292546,
          0.5824702620269202,
          0.4238879901365256,
          0.41987839501921925,
          0.5520185279330078,
          0.4580081895917993,
          0.47918775220670623,
          0.4026011281988876,
          0.41488145643685986,
          0.4036832494430298,
          0.4449372203702468,
          0.48019124788639295,
          0.39952656543229587,
          0.44176122785838967,
          0.5572252403691458,
          0.5226741478193122,
          0.46959793617537604,
          0.5386259068181249,
          0.44570337182688746,
          0.4757911654943673,
          0.4230224375514825,
          0.43012241278937174,
          0.5175262167126058,
          0.4048886114487887,
          0.4529367603716929,
          0.5401525315507559,
          0.4402649357290672,
          0.45357518879735254,
          0.41819377051546447,
          0.42674610243045336,
          0.5608180848425764,
          0.5981915647043413,
          0.4793773217890179,
          0.4940939161268658,
          0.4991901416321822,
          0.4045592768124071,
          0.5604429291050617,
          0.5061762561258214,
          0.5939058573502919,
          0.5845427376830163,
          0.5117476939549142,
          0.4190095498802826,
          0.5782327152866741,
          0.4470879810847087,
          0.455418505441494,
          0.5283107237824076,
          0.4705733164404998,
          0.48408969859293355,
          0.4500872868812269,
          0.530024619620303,
          0.40959304317217005,
          0.5513989009714206,
          0.4687439586944544,
          0.5470931029353854,
          0.4090377390138394,
          0.4187184370058781,
          0.42288653721129915,
          0.423537525569692,
          0.5086524303640305,
          0.5545982896700239,
          0.5776830530557946,
          0.45569086932680763,
          0.484729904355138,
          0.4824533198465679,
          0.43679694196899205,
          0.4400208461595066,
          0.4723607144673596,
          0.5852972189297942,
          0.5139922147734153,
          0.5631930572428975,
          0.5973373199118669,
          0.5308129582281941,
          0.5192857442528673
         ],
         "z": [
          0.07579697852714962,
          0.07412502443131866,
          0.07457791342945967,
          0.07313970544862311,
          0.06520811966829666,
          0.06577694378316469,
          0.06839029139780652,
          0.07597116403221672,
          0.07447413148716882,
          0.07456979523596208,
          0.07350881827817356,
          0.07411359803043895,
          0.07316770467738666,
          0.07403051645952537,
          0.07603679767204158,
          0.07469834912067568,
          0.07622005216634402,
          0.07173634664421465,
          0.07557878225928018,
          0.07619003885242855,
          0.07423004507719919,
          0.07386559142420254,
          0.07170418107912054,
          0.07248015791028,
          0.07361818216480628,
          0.07601812292488333,
          0.07436739826819105,
          0.07356528116050824,
          0.0731331312449427,
          0.07436253941491718,
          0.07621793197459203,
          0.0724066456704642,
          0.07621906869458565,
          0.07300174022688638,
          0.07293765006511878,
          0.07538818586909982,
          0.07593069920820508,
          0.07403223539048265,
          0.0743852173054162,
          0.07431873028388652,
          0.0739627729957825,
          0.07552148916858939,
          0.07177456468691874,
          0.07334237850705055,
          0.07522373987731219,
          0.0757678171310714,
          0.07621859837692084,
          0.07621951654990959,
          0.07537603924536726,
          0.07385131713544875,
          0.0720180423530198,
          0.07570873924583119,
          0.07615788386278587,
          0.07375702603043065,
          0.07590540899589716,
          0.07376112096887087,
          0.07201818352038639,
          0.07617011879619161,
          0.07599807812370783,
          0.07410139144024923,
          0.07580484614447063,
          0.07525042807998916,
          0.07232516684600927,
          0.0757429878531669,
          0.07257871199498835,
          0.07482580911248549,
          0.07557877705523383,
          0.0744311202240146,
          0.07600480136211729,
          0.07439948865929777,
          0.07619052953775872,
          0.07502225879814421,
          0.07318378107110714,
          0.07472743644833657,
          0.07482419288591664,
          0.0755338803341288,
          0.07581785995793959,
          0.0760583167044365,
          0.07257565381492882,
          0.07312416501011247,
          0.07327100212084772,
          0.07500531410880343,
          0.07472871314994786,
          0.07489288877882502,
          0.0762197505655963,
          0.07542564739916321,
          0.07599435368738236,
          0.07187352282750005,
          0.07584072455648781,
          0.07222637704920691,
          0.07615832568661954,
          0.07593786535406136,
          0.07607377402007146,
          0.07370992644280354,
          0.07546588303389584,
          0.07217517153757831,
          0.07619696674213551,
          0.07606597068201344,
          0.07617832309315307,
          0.07439154960856532,
          0.07609783501083296,
          0.07617687642948892,
          0.07591942893385684,
          0.07602774126078866,
          0.07436091030759341,
          0.07212790164164638,
          0.07435245055396962,
          0.07252029677712123,
          0.0762204929213222,
          0.07528207333465627,
          0.07184501332519107,
          0.07545622466184236,
          0.07324193239467881,
          0.0752892612942604,
          0.07391017517987365,
          0.07562895237610362,
          0.07493752923856406,
          0.07584165234332402,
          0.07193123734589213,
          0.07616917652061327,
          0.07621435151006664,
          0.07309044743882785,
          0.07345861033149455,
          0.07586668373910076,
          0.07610677741395781,
          0.0746297486918276,
          0.07364579048300582,
          0.07621817736251975,
          0.07314091965936365,
          0.07359079548780105,
          0.07331103087846029,
          0.07498258959014532,
          0.07541197805004617,
          0.07602149937875331,
          0.07195387806597152,
          0.0729436213673914,
          0.07204597781081644,
          0.07483458162499583,
          0.07604024529263136,
          0.07168712404092978,
          0.0746714873033892,
          0.07472449465882919,
          0.07598427635860436,
          0.07579595245446896,
          0.07553597641191323,
          0.07487259971838425,
          0.07595121180399302,
          0.07353154415675758,
          0.07399885595937808,
          0.0760794481205471,
          0.07214746553306409,
          0.07520598289799935,
          0.07548099775550099,
          0.07459159101456231,
          0.07523317825280687,
          0.07318947996592234,
          0.07378195881446717,
          0.07453254407706175,
          0.07188581997179752,
          0.07602511129961709,
          0.07620482514308835,
          0.076220597530872,
          0.07211985201585468,
          0.07455311340482206,
          0.07620332099422056,
          0.07224780291959707,
          0.07298701201135362,
          0.07615731840649795,
          0.07324863598179089,
          0.0734445045158971,
          0.0749399961108267,
          0.07530965932214786,
          0.07585228686241487,
          0.07582272114117837,
          0.07610431277821311,
          0.07508018389577432,
          0.0758064137227817,
          0.07253238665895786,
          0.07501171365875475,
          0.07577180597920916,
          0.07520470191445351,
          0.07248788211757973,
          0.07322758951866917,
          0.07352218388335427,
          0.07356688040913106,
          0.0761864034532011,
          0.07485769224452854,
          0.07348278401967608,
          0.07532070275946924,
          0.07611350093623262,
          0.07607911787976296,
          0.07439891940313824,
          0.07457837227643423,
          0.07586952954348965,
          0.07293010150279206,
          0.07613071532684923,
          0.07439949002409861,
          0.07195914180197535,
          0.0757844169496256,
          0.0760496497574871
         ]
        }
       ],
       "layout": {
        "scene": {
         "xaxis": {
          "range": [
           0,
           1
          ],
          "title": {
           "text": "d"
          }
         },
         "yaxis": {
          "range": [
           0,
           1
          ],
          "title": {
           "text": "r"
          }
         },
         "zaxis": {
          "title": {
           "text": "Utility"
          }
         }
        },
        "template": {
         "data": {
          "bar": [
           {
            "error_x": {
             "color": "#2a3f5f"
            },
            "error_y": {
             "color": "#2a3f5f"
            },
            "marker": {
             "line": {
              "color": "white",
              "width": 0.5
             },
             "pattern": {
              "fillmode": "overlay",
              "size": 10,
              "solidity": 0.2
             }
            },
            "type": "bar"
           }
          ],
          "barpolar": [
           {
            "marker": {
             "line": {
              "color": "white",
              "width": 0.5
             },
             "pattern": {
              "fillmode": "overlay",
              "size": 10,
              "solidity": 0.2
             }
            },
            "type": "barpolar"
           }
          ],
          "carpet": [
           {
            "aaxis": {
             "endlinecolor": "#2a3f5f",
             "gridcolor": "#C8D4E3",
             "linecolor": "#C8D4E3",
             "minorgridcolor": "#C8D4E3",
             "startlinecolor": "#2a3f5f"
            },
            "baxis": {
             "endlinecolor": "#2a3f5f",
             "gridcolor": "#C8D4E3",
             "linecolor": "#C8D4E3",
             "minorgridcolor": "#C8D4E3",
             "startlinecolor": "#2a3f5f"
            },
            "type": "carpet"
           }
          ],
          "choropleth": [
           {
            "colorbar": {
             "outlinewidth": 0,
             "ticks": ""
            },
            "type": "choropleth"
           }
          ],
          "contour": [
           {
            "colorbar": {
             "outlinewidth": 0,
             "ticks": ""
            },
            "colorscale": [
             [
              0,
              "#0d0887"
             ],
             [
              0.1111111111111111,
              "#46039f"
             ],
             [
              0.2222222222222222,
              "#7201a8"
             ],
             [
              0.3333333333333333,
              "#9c179e"
             ],
             [
              0.4444444444444444,
              "#bd3786"
             ],
             [
              0.5555555555555556,
              "#d8576b"
             ],
             [
              0.6666666666666666,
              "#ed7953"
             ],
             [
              0.7777777777777778,
              "#fb9f3a"
             ],
             [
              0.8888888888888888,
              "#fdca26"
             ],
             [
              1,
              "#f0f921"
             ]
            ],
            "type": "contour"
           }
          ],
          "contourcarpet": [
           {
            "colorbar": {
             "outlinewidth": 0,
             "ticks": ""
            },
            "type": "contourcarpet"
           }
          ],
          "heatmap": [
           {
            "colorbar": {
             "outlinewidth": 0,
             "ticks": ""
            },
            "colorscale": [
             [
              0,
              "#0d0887"
             ],
             [
              0.1111111111111111,
              "#46039f"
             ],
             [
              0.2222222222222222,
              "#7201a8"
             ],
             [
              0.3333333333333333,
              "#9c179e"
             ],
             [
              0.4444444444444444,
              "#bd3786"
             ],
             [
              0.5555555555555556,
              "#d8576b"
             ],
             [
              0.6666666666666666,
              "#ed7953"
             ],
             [
              0.7777777777777778,
              "#fb9f3a"
             ],
             [
              0.8888888888888888,
              "#fdca26"
             ],
             [
              1,
              "#f0f921"
             ]
            ],
            "type": "heatmap"
           }
          ],
          "heatmapgl": [
           {
            "colorbar": {
             "outlinewidth": 0,
             "ticks": ""
            },
            "colorscale": [
             [
              0,
              "#0d0887"
             ],
             [
              0.1111111111111111,
              "#46039f"
             ],
             [
              0.2222222222222222,
              "#7201a8"
             ],
             [
              0.3333333333333333,
              "#9c179e"
             ],
             [
              0.4444444444444444,
              "#bd3786"
             ],
             [
              0.5555555555555556,
              "#d8576b"
             ],
             [
              0.6666666666666666,
              "#ed7953"
             ],
             [
              0.7777777777777778,
              "#fb9f3a"
             ],
             [
              0.8888888888888888,
              "#fdca26"
             ],
             [
              1,
              "#f0f921"
             ]
            ],
            "type": "heatmapgl"
           }
          ],
          "histogram": [
           {
            "marker": {
             "pattern": {
              "fillmode": "overlay",
              "size": 10,
              "solidity": 0.2
             }
            },
            "type": "histogram"
           }
          ],
          "histogram2d": [
           {
            "colorbar": {
             "outlinewidth": 0,
             "ticks": ""
            },
            "colorscale": [
             [
              0,
              "#0d0887"
             ],
             [
              0.1111111111111111,
              "#46039f"
             ],
             [
              0.2222222222222222,
              "#7201a8"
             ],
             [
              0.3333333333333333,
              "#9c179e"
             ],
             [
              0.4444444444444444,
              "#bd3786"
             ],
             [
              0.5555555555555556,
              "#d8576b"
             ],
             [
              0.6666666666666666,
              "#ed7953"
             ],
             [
              0.7777777777777778,
              "#fb9f3a"
             ],
             [
              0.8888888888888888,
              "#fdca26"
             ],
             [
              1,
              "#f0f921"
             ]
            ],
            "type": "histogram2d"
           }
          ],
          "histogram2dcontour": [
           {
            "colorbar": {
             "outlinewidth": 0,
             "ticks": ""
            },
            "colorscale": [
             [
              0,
              "#0d0887"
             ],
             [
              0.1111111111111111,
              "#46039f"
             ],
             [
              0.2222222222222222,
              "#7201a8"
             ],
             [
              0.3333333333333333,
              "#9c179e"
             ],
             [
              0.4444444444444444,
              "#bd3786"
             ],
             [
              0.5555555555555556,
              "#d8576b"
             ],
             [
              0.6666666666666666,
              "#ed7953"
             ],
             [
              0.7777777777777778,
              "#fb9f3a"
             ],
             [
              0.8888888888888888,
              "#fdca26"
             ],
             [
              1,
              "#f0f921"
             ]
            ],
            "type": "histogram2dcontour"
           }
          ],
          "mesh3d": [
           {
            "colorbar": {
             "outlinewidth": 0,
             "ticks": ""
            },
            "type": "mesh3d"
           }
          ],
          "parcoords": [
           {
            "line": {
             "colorbar": {
              "outlinewidth": 0,
              "ticks": ""
             }
            },
            "type": "parcoords"
           }
          ],
          "pie": [
           {
            "automargin": true,
            "type": "pie"
           }
          ],
          "scatter": [
           {
            "fillpattern": {
             "fillmode": "overlay",
             "size": 10,
             "solidity": 0.2
            },
            "type": "scatter"
           }
          ],
          "scatter3d": [
           {
            "line": {
             "colorbar": {
              "outlinewidth": 0,
              "ticks": ""
             }
            },
            "marker": {
             "colorbar": {
              "outlinewidth": 0,
              "ticks": ""
             }
            },
            "type": "scatter3d"
           }
          ],
          "scattercarpet": [
           {
            "marker": {
             "colorbar": {
              "outlinewidth": 0,
              "ticks": ""
             }
            },
            "type": "scattercarpet"
           }
          ],
          "scattergeo": [
           {
            "marker": {
             "colorbar": {
              "outlinewidth": 0,
              "ticks": ""
             }
            },
            "type": "scattergeo"
           }
          ],
          "scattergl": [
           {
            "marker": {
             "colorbar": {
              "outlinewidth": 0,
              "ticks": ""
             }
            },
            "type": "scattergl"
           }
          ],
          "scattermapbox": [
           {
            "marker": {
             "colorbar": {
              "outlinewidth": 0,
              "ticks": ""
             }
            },
            "type": "scattermapbox"
           }
          ],
          "scatterpolar": [
           {
            "marker": {
             "colorbar": {
              "outlinewidth": 0,
              "ticks": ""
             }
            },
            "type": "scatterpolar"
           }
          ],
          "scatterpolargl": [
           {
            "marker": {
             "colorbar": {
              "outlinewidth": 0,
              "ticks": ""
             }
            },
            "type": "scatterpolargl"
           }
          ],
          "scatterternary": [
           {
            "marker": {
             "colorbar": {
              "outlinewidth": 0,
              "ticks": ""
             }
            },
            "type": "scatterternary"
           }
          ],
          "surface": [
           {
            "colorbar": {
             "outlinewidth": 0,
             "ticks": ""
            },
            "colorscale": [
             [
              0,
              "#0d0887"
             ],
             [
              0.1111111111111111,
              "#46039f"
             ],
             [
              0.2222222222222222,
              "#7201a8"
             ],
             [
              0.3333333333333333,
              "#9c179e"
             ],
             [
              0.4444444444444444,
              "#bd3786"
             ],
             [
              0.5555555555555556,
              "#d8576b"
             ],
             [
              0.6666666666666666,
              "#ed7953"
             ],
             [
              0.7777777777777778,
              "#fb9f3a"
             ],
             [
              0.8888888888888888,
              "#fdca26"
             ],
             [
              1,
              "#f0f921"
             ]
            ],
            "type": "surface"
           }
          ],
          "table": [
           {
            "cells": {
             "fill": {
              "color": "#EBF0F8"
             },
             "line": {
              "color": "white"
             }
            },
            "header": {
             "fill": {
              "color": "#C8D4E3"
             },
             "line": {
              "color": "white"
             }
            },
            "type": "table"
           }
          ]
         },
         "layout": {
          "annotationdefaults": {
           "arrowcolor": "#2a3f5f",
           "arrowhead": 0,
           "arrowwidth": 1
          },
          "autotypenumbers": "strict",
          "coloraxis": {
           "colorbar": {
            "outlinewidth": 0,
            "ticks": ""
           }
          },
          "colorscale": {
           "diverging": [
            [
             0,
             "#8e0152"
            ],
            [
             0.1,
             "#c51b7d"
            ],
            [
             0.2,
             "#de77ae"
            ],
            [
             0.3,
             "#f1b6da"
            ],
            [
             0.4,
             "#fde0ef"
            ],
            [
             0.5,
             "#f7f7f7"
            ],
            [
             0.6,
             "#e6f5d0"
            ],
            [
             0.7,
             "#b8e186"
            ],
            [
             0.8,
             "#7fbc41"
            ],
            [
             0.9,
             "#4d9221"
            ],
            [
             1,
             "#276419"
            ]
           ],
           "sequential": [
            [
             0,
             "#0d0887"
            ],
            [
             0.1111111111111111,
             "#46039f"
            ],
            [
             0.2222222222222222,
             "#7201a8"
            ],
            [
             0.3333333333333333,
             "#9c179e"
            ],
            [
             0.4444444444444444,
             "#bd3786"
            ],
            [
             0.5555555555555556,
             "#d8576b"
            ],
            [
             0.6666666666666666,
             "#ed7953"
            ],
            [
             0.7777777777777778,
             "#fb9f3a"
            ],
            [
             0.8888888888888888,
             "#fdca26"
            ],
            [
             1,
             "#f0f921"
            ]
           ],
           "sequentialminus": [
            [
             0,
             "#0d0887"
            ],
            [
             0.1111111111111111,
             "#46039f"
            ],
            [
             0.2222222222222222,
             "#7201a8"
            ],
            [
             0.3333333333333333,
             "#9c179e"
            ],
            [
             0.4444444444444444,
             "#bd3786"
            ],
            [
             0.5555555555555556,
             "#d8576b"
            ],
            [
             0.6666666666666666,
             "#ed7953"
            ],
            [
             0.7777777777777778,
             "#fb9f3a"
            ],
            [
             0.8888888888888888,
             "#fdca26"
            ],
            [
             1,
             "#f0f921"
            ]
           ]
          },
          "colorway": [
           "#636efa",
           "#EF553B",
           "#00cc96",
           "#ab63fa",
           "#FFA15A",
           "#19d3f3",
           "#FF6692",
           "#B6E880",
           "#FF97FF",
           "#FECB52"
          ],
          "font": {
           "color": "#2a3f5f"
          },
          "geo": {
           "bgcolor": "white",
           "lakecolor": "white",
           "landcolor": "white",
           "showlakes": true,
           "showland": true,
           "subunitcolor": "#C8D4E3"
          },
          "hoverlabel": {
           "align": "left"
          },
          "hovermode": "closest",
          "mapbox": {
           "style": "light"
          },
          "paper_bgcolor": "white",
          "plot_bgcolor": "white",
          "polar": {
           "angularaxis": {
            "gridcolor": "#EBF0F8",
            "linecolor": "#EBF0F8",
            "ticks": ""
           },
           "bgcolor": "white",
           "radialaxis": {
            "gridcolor": "#EBF0F8",
            "linecolor": "#EBF0F8",
            "ticks": ""
           }
          },
          "scene": {
           "xaxis": {
            "backgroundcolor": "white",
            "gridcolor": "#DFE8F3",
            "gridwidth": 2,
            "linecolor": "#EBF0F8",
            "showbackground": true,
            "ticks": "",
            "zerolinecolor": "#EBF0F8"
           },
           "yaxis": {
            "backgroundcolor": "white",
            "gridcolor": "#DFE8F3",
            "gridwidth": 2,
            "linecolor": "#EBF0F8",
            "showbackground": true,
            "ticks": "",
            "zerolinecolor": "#EBF0F8"
           },
           "zaxis": {
            "backgroundcolor": "white",
            "gridcolor": "#DFE8F3",
            "gridwidth": 2,
            "linecolor": "#EBF0F8",
            "showbackground": true,
            "ticks": "",
            "zerolinecolor": "#EBF0F8"
           }
          },
          "shapedefaults": {
           "line": {
            "color": "#2a3f5f"
           }
          },
          "ternary": {
           "aaxis": {
            "gridcolor": "#DFE8F3",
            "linecolor": "#A2B1C6",
            "ticks": ""
           },
           "baxis": {
            "gridcolor": "#DFE8F3",
            "linecolor": "#A2B1C6",
            "ticks": ""
           },
           "bgcolor": "white",
           "caxis": {
            "gridcolor": "#DFE8F3",
            "linecolor": "#A2B1C6",
            "ticks": ""
           }
          },
          "title": {
           "x": 0.05
          },
          "xaxis": {
           "automargin": true,
           "gridcolor": "#EBF0F8",
           "linecolor": "#EBF0F8",
           "ticks": "",
           "title": {
            "standoff": 15
           },
           "zerolinecolor": "#EBF0F8",
           "zerolinewidth": 2
          },
          "yaxis": {
           "automargin": true,
           "gridcolor": "#EBF0F8",
           "linecolor": "#EBF0F8",
           "ticks": "",
           "title": {
            "standoff": 15
           },
           "zerolinecolor": "#EBF0F8",
           "zerolinewidth": 2
          }
         }
        },
        "title": {
         "text": "3D Scatter Plot"
        }
       }
      }
     },
     "metadata": {},
     "output_type": "display_data"
    },
    {
     "name": "stdout",
     "output_type": "stream",
     "text": [
      "Best solution:  [0.  0.5 0.5 0. ]\n",
      "Best utility:  0.076220597530872\n"
     ]
    }
   ],
   "source": [
    "budget = 1\n",
    "gridSize = (10, 10)\n",
    "target = Node(9, 9)\n",
    "strategies = list([  \n",
    "    Strategy({ Action.DOWN: frac(1, 2), Action.RIGHT: frac(1, 2) }) \n",
    "])\n",
    "enumerated_strategies = dict(enumerate(strategies, start=1))\n",
    "\n",
    "pomdp = POMDP(gridSize=gridSize, target=target, model='grid', budget=budget)\n",
    "\n",
    "# Assign strategies to the nodes\n",
    "for node in pomdp.nodes: node.assign_strategy(enumerated_strategies[1], 1)\n",
    "observations =  {n: n.strategy_id for n in pomdp.nodes if n != target}\n",
    "\n",
    "# ---------------------------------------------------------\n",
    "# get one specific utility value\n",
    "# print(pomdp.utility(enumerated_strategies, assignments)[0])\n",
    "# ---------------------------------------------------------\n",
    "# print(len(pomdp.ordered_nodes))\n",
    "# print(len(observations))\n",
    "\n",
    "initial_temperature = 10.0  # High initial temperature to encourage exploration\n",
    "cooling_rate = 0.01  # Low cooling rate to increase exploitation\n",
    "max_iterations = 200  # Sufficient iterations to explore the search space\n",
    "neighborhood_scale = 0.1  # Small perturbations for neighborhood exploration around (0.5, 0.5)\n",
    "\n",
    "\n",
    "best_solution, best_U, points, utilities = pomdp.simulated_annealing(\n",
    "    enumerated_strategies, \n",
    "    observations, \n",
    "    initial_temperature, \n",
    "    cooling_rate, \n",
    "    max_iterations, \n",
    "    neighborhood_scale, \n",
    ")\n",
    "\n",
    "plot_actions_3D(np.array(points), utilities, actions = [Action.DOWN, Action.RIGHT])\n",
    "\n",
    "approximated_solution = np.around(list(map(float, best_solution[0])), 2)\n",
    "\n",
    "print('Best solution: ', approximated_solution)\n",
    "print('Best utility: ', best_U)"
   ]
  },
  {
   "cell_type": "code",
   "execution_count": 9,
   "metadata": {},
   "outputs": [
    {
     "ename": "ValueError",
     "evalue": "Exceeds the limit (4300 digits) for integer string conversion: value has 5007 digits; use sys.set_int_max_str_digits() to increase the limit",
     "output_type": "error",
     "traceback": [
      "\u001b[0;31m---------------------------------------------------------------------------\u001b[0m",
      "\u001b[0;31mValueError\u001b[0m                                Traceback (most recent call last)",
      "\u001b[0;32m/var/folders/nb/bcl7qtp16rv9lpgrryc9q4c00000gn/T/ipykernel_58771/2537571472.py\u001b[0m in \u001b[0;36m?\u001b[0;34m()\u001b[0m\n\u001b[1;32m     28\u001b[0m \u001b[0;31m# cooling_rate = 0.9999  # Faster cooling rate to shift towards exploitation sooner\u001b[0m\u001b[0;34m\u001b[0m\u001b[0;34m\u001b[0m\u001b[0m\n\u001b[1;32m     29\u001b[0m \u001b[0;31m# max_iterations = 100  # Reduced maximum iterations to limit exploration\u001b[0m\u001b[0;34m\u001b[0m\u001b[0;34m\u001b[0m\u001b[0m\n\u001b[1;32m     30\u001b[0m \u001b[0;31m# neighborhood_scale = 0.1  # Small perturbations for narrow exploration around the target point\u001b[0m\u001b[0;34m\u001b[0m\u001b[0;34m\u001b[0m\u001b[0m\n\u001b[1;32m     31\u001b[0m \u001b[0;34m\u001b[0m\u001b[0m\n\u001b[0;32m---> 32\u001b[0;31m best_solution, best_U, points, utilities = pomdp.simulated_annealing(\n\u001b[0m\u001b[1;32m     33\u001b[0m     \u001b[0menumerated_strategies\u001b[0m\u001b[0;34m,\u001b[0m\u001b[0;34m\u001b[0m\u001b[0;34m\u001b[0m\u001b[0m\n\u001b[1;32m     34\u001b[0m     \u001b[0mobservations\u001b[0m\u001b[0;34m,\u001b[0m\u001b[0;34m\u001b[0m\u001b[0;34m\u001b[0m\u001b[0m\n\u001b[1;32m     35\u001b[0m     \u001b[0minitial_temperature\u001b[0m\u001b[0;34m,\u001b[0m\u001b[0;34m\u001b[0m\u001b[0;34m\u001b[0m\u001b[0m\n",
      "\u001b[0;32m~/Documents/github_projects/POMDPs/visualizer/api/solver/pomdp.py\u001b[0m in \u001b[0;36m?\u001b[0;34m(self, strategies, observations, initial_temperature, cooling_rate, max_iterations, neighborhood_scale)\u001b[0m\n\u001b[1;32m    250\u001b[0m         \u001b[0mutilities\u001b[0m \u001b[0;34m=\u001b[0m \u001b[0;34m[\u001b[0m\u001b[0;34m]\u001b[0m\u001b[0;34m\u001b[0m\u001b[0;34m\u001b[0m\u001b[0m\n\u001b[1;32m    251\u001b[0m \u001b[0;34m\u001b[0m\u001b[0m\n\u001b[1;32m    252\u001b[0m         \u001b[0;32mfor\u001b[0m \u001b[0m_\u001b[0m \u001b[0;32min\u001b[0m \u001b[0mrange\u001b[0m\u001b[0;34m(\u001b[0m\u001b[0mmax_iterations\u001b[0m\u001b[0;34m)\u001b[0m\u001b[0;34m:\u001b[0m\u001b[0;34m\u001b[0m\u001b[0;34m\u001b[0m\u001b[0m\n\u001b[1;32m    253\u001b[0m             \u001b[0mnew_solution\u001b[0m\u001b[0;34m,\u001b[0m \u001b[0mstrategies\u001b[0m \u001b[0;34m=\u001b[0m \u001b[0mself\u001b[0m\u001b[0;34m.\u001b[0m\u001b[0mneighbor\u001b[0m\u001b[0;34m(\u001b[0m\u001b[0mstrategies\u001b[0m\u001b[0;34m,\u001b[0m \u001b[0mcurrent_solution\u001b[0m\u001b[0;34m,\u001b[0m \u001b[0mneighborhood_scale\u001b[0m\u001b[0;34m)\u001b[0m \u001b[0;31m# Generate a new solution, i.e. perturb the current solution\u001b[0m\u001b[0;34m\u001b[0m\u001b[0;34m\u001b[0m\u001b[0m\n\u001b[0;32m--> 254\u001b[0;31m             \u001b[0mnew_utility\u001b[0m\u001b[0;34m,\u001b[0m \u001b[0m_\u001b[0m \u001b[0;34m=\u001b[0m \u001b[0mself\u001b[0m\u001b[0;34m.\u001b[0m\u001b[0mutility\u001b[0m\u001b[0;34m(\u001b[0m\u001b[0mstrategies\u001b[0m\u001b[0;34m,\u001b[0m \u001b[0mobservations\u001b[0m\u001b[0;34m)\u001b[0m  \u001b[0;31m# Compute cost of new solution\u001b[0m\u001b[0;34m\u001b[0m\u001b[0;34m\u001b[0m\u001b[0m\n\u001b[0m\u001b[1;32m    255\u001b[0m \u001b[0;34m\u001b[0m\u001b[0m\n\u001b[1;32m    256\u001b[0m             \u001b[0;31m# print(new_utility)\u001b[0m\u001b[0;34m\u001b[0m\u001b[0;34m\u001b[0m\u001b[0m\n\u001b[1;32m    257\u001b[0m \u001b[0;34m\u001b[0m\u001b[0m\n",
      "\u001b[0;32m~/Documents/github_projects/POMDPs/visualizer/api/solver/pomdp.py\u001b[0m in \u001b[0;36m?\u001b[0;34m(self, strategies, observations)\u001b[0m\n\u001b[1;32m    130\u001b[0m             \u001b[0;31m# modify the node coordinates into grid ids for the OOP library\u001b[0m\u001b[0;34m\u001b[0m\u001b[0;34m\u001b[0m\u001b[0m\n\u001b[1;32m    131\u001b[0m             \u001b[0mtarget\u001b[0m \u001b[0;34m=\u001b[0m \u001b[0mself\u001b[0m\u001b[0;34m.\u001b[0m\u001b[0mtranslate_grid_coords_to_grid_id\u001b[0m\u001b[0;34m(\u001b[0m\u001b[0mpos\u001b[0m \u001b[0;34m=\u001b[0m \u001b[0mself\u001b[0m\u001b[0;34m.\u001b[0m\u001b[0mtarget\u001b[0m\u001b[0;34m)\u001b[0m\u001b[0;34m\u001b[0m\u001b[0;34m\u001b[0m\u001b[0m\n\u001b[1;32m    132\u001b[0m \u001b[0;34m\u001b[0m\u001b[0m\n\u001b[1;32m    133\u001b[0m             \u001b[0;32mfor\u001b[0m \u001b[0mn\u001b[0m \u001b[0;32min\u001b[0m \u001b[0mself\u001b[0m\u001b[0;34m.\u001b[0m\u001b[0mnodes\u001b[0m\u001b[0;34m:\u001b[0m \u001b[0mn\u001b[0m\u001b[0;34m.\u001b[0m\u001b[0mid\u001b[0m \u001b[0;34m=\u001b[0m \u001b[0mself\u001b[0m\u001b[0;34m.\u001b[0m\u001b[0mtranslate_grid_coords_to_grid_id\u001b[0m\u001b[0;34m(\u001b[0m\u001b[0mn\u001b[0m\u001b[0;34m)\u001b[0m\u001b[0;34m\u001b[0m\u001b[0;34m\u001b[0m\u001b[0m\n\u001b[0;32m--> 134\u001b[0;31m             \u001b[0mexp_min_rew\u001b[0m\u001b[0;34m,\u001b[0m \u001b[0mparsed_pomdp\u001b[0m \u001b[0;34m=\u001b[0m \u001b[0mgrid_utility\u001b[0m\u001b[0;34m(\u001b[0m\u001b[0mself\u001b[0m\u001b[0;34m.\u001b[0m\u001b[0mbudget\u001b[0m\u001b[0;34m,\u001b[0m \u001b[0mtarget\u001b[0m\u001b[0;34m,\u001b[0m \u001b[0mself\u001b[0m\u001b[0;34m.\u001b[0m\u001b[0mgridSize\u001b[0m\u001b[0;34m[\u001b[0m\u001b[0;36m0\u001b[0m\u001b[0;34m]\u001b[0m\u001b[0;34m,\u001b[0m \u001b[0mstrategies\u001b[0m\u001b[0;34m,\u001b[0m \u001b[0mobservations\u001b[0m\u001b[0;34m)\u001b[0m\u001b[0;34m\u001b[0m\u001b[0;34m\u001b[0m\u001b[0m\n\u001b[0m\u001b[1;32m    135\u001b[0m             \u001b[0mu\u001b[0m \u001b[0;34m=\u001b[0m \u001b[0;36m1\u001b[0m\u001b[0;34m/\u001b[0m\u001b[0mexp_min_rew\u001b[0m \u001b[0;32mif\u001b[0m \u001b[0mexp_min_rew\u001b[0m \u001b[0;34m!=\u001b[0m \u001b[0;36m0\u001b[0m \u001b[0;32melse\u001b[0m \u001b[0;36m0\u001b[0m\u001b[0;34m\u001b[0m\u001b[0;34m\u001b[0m\u001b[0m\n\u001b[1;32m    136\u001b[0m             \u001b[0;32mreturn\u001b[0m \u001b[0mu\u001b[0m\u001b[0;34m,\u001b[0m \u001b[0mparsed_pomdp\u001b[0m\u001b[0;34m\u001b[0m\u001b[0;34m\u001b[0m\u001b[0m\n\u001b[1;32m    137\u001b[0m         \u001b[0;32melse\u001b[0m\u001b[0;34m:\u001b[0m\u001b[0;34m\u001b[0m\u001b[0;34m\u001b[0m\u001b[0m\n",
      "\u001b[0;32m~/Documents/github_projects/POMDPs/visualizer/api/solver/utility_functions/createGridUtility.py\u001b[0m in \u001b[0;36m?\u001b[0;34m(budget, target, size, strategies, observations, det)\u001b[0m\n\u001b[1;32m    273\u001b[0m     \u001b[0;31m# ModelRef to python dict\u001b[0m\u001b[0;34m\u001b[0m\u001b[0;34m\u001b[0m\u001b[0m\n\u001b[1;32m    274\u001b[0m     \u001b[0mmodel\u001b[0m \u001b[0;34m=\u001b[0m \u001b[0mmodule\u001b[0m\u001b[0;34m.\u001b[0m\u001b[0msol\u001b[0m\u001b[0;34m(\u001b[0m\u001b[0;34m)\u001b[0m\u001b[0;34m\u001b[0m\u001b[0;34m\u001b[0m\u001b[0m\n\u001b[1;32m    275\u001b[0m \u001b[0;34m\u001b[0m\u001b[0m\n\u001b[1;32m    276\u001b[0m     \u001b[0;32mif\u001b[0m \u001b[0mmodel\u001b[0m \u001b[0;34m==\u001b[0m \u001b[0;34m\"No Solution\"\u001b[0m \u001b[0;32mor\u001b[0m \u001b[0mmodel\u001b[0m \u001b[0;32mis\u001b[0m \u001b[0;32mNone\u001b[0m\u001b[0;34m:\u001b[0m \u001b[0;32mreturn\u001b[0m \u001b[0;36m0\u001b[0m\u001b[0;34m,\u001b[0m \u001b[0;32mNone\u001b[0m\u001b[0;34m\u001b[0m\u001b[0;34m\u001b[0m\u001b[0m\n\u001b[0;32m--> 277\u001b[0;31m     \u001b[0mmodel\u001b[0m \u001b[0;34m=\u001b[0m \u001b[0mZ3Serializer\u001b[0m\u001b[0;34m(\u001b[0m\u001b[0mmodel\u001b[0m\u001b[0;34m)\u001b[0m\u001b[0;34m\u001b[0m\u001b[0;34m\u001b[0m\u001b[0m\n\u001b[0m\u001b[1;32m    278\u001b[0m     \u001b[0;32mreturn\u001b[0m \u001b[0mfloat\u001b[0m\u001b[0;34m(\u001b[0m\u001b[0mmodel\u001b[0m\u001b[0;34m[\u001b[0m\u001b[0;34m'exp'\u001b[0m\u001b[0;34m]\u001b[0m\u001b[0;34m)\u001b[0m\u001b[0;34m,\u001b[0m \u001b[0mmodel\u001b[0m\u001b[0;34m\u001b[0m\u001b[0;34m\u001b[0m\u001b[0m\n\u001b[1;32m    279\u001b[0m \u001b[0;34m\u001b[0m\u001b[0m\n\u001b[1;32m    280\u001b[0m     \u001b[0;31m# return module.sol()\u001b[0m\u001b[0;34m\u001b[0m\u001b[0;34m\u001b[0m\u001b[0m\n",
      "\u001b[0;32m~/Documents/github_projects/POMDPs/visualizer/api/solver/helpers.py\u001b[0m in \u001b[0;36m?\u001b[0;34m(m)\u001b[0m\n\u001b[1;32m    186\u001b[0m     \u001b[0;32mfor\u001b[0m \u001b[0mdecl\u001b[0m \u001b[0;32min\u001b[0m \u001b[0mm\u001b[0m\u001b[0;34m.\u001b[0m\u001b[0mdecls\u001b[0m\u001b[0;34m(\u001b[0m\u001b[0;34m)\u001b[0m\u001b[0;34m:\u001b[0m\u001b[0;34m\u001b[0m\u001b[0;34m\u001b[0m\u001b[0m\n\u001b[1;32m    187\u001b[0m         \u001b[0;32mif\u001b[0m \u001b[0mm\u001b[0m\u001b[0;34m[\u001b[0m\u001b[0mdecl\u001b[0m\u001b[0;34m]\u001b[0m\u001b[0;34m.\u001b[0m\u001b[0msort\u001b[0m\u001b[0;34m(\u001b[0m\u001b[0;34m)\u001b[0m\u001b[0;34m.\u001b[0m\u001b[0mkind\u001b[0m\u001b[0;34m(\u001b[0m\u001b[0;34m)\u001b[0m \u001b[0;34m==\u001b[0m \u001b[0mZ3_INT_SORT\u001b[0m\u001b[0;34m:\u001b[0m\u001b[0;34m\u001b[0m\u001b[0;34m\u001b[0m\u001b[0m\n\u001b[1;32m    188\u001b[0m             \u001b[0mvalues\u001b[0m\u001b[0;34m[\u001b[0m\u001b[0mstr\u001b[0m\u001b[0;34m(\u001b[0m\u001b[0mdecl\u001b[0m\u001b[0;34m)\u001b[0m\u001b[0;34m]\u001b[0m \u001b[0;34m=\u001b[0m \u001b[0mm\u001b[0m\u001b[0;34m[\u001b[0m\u001b[0mdecl\u001b[0m\u001b[0;34m]\u001b[0m\u001b[0;34m.\u001b[0m\u001b[0mas_long\u001b[0m\u001b[0;34m(\u001b[0m\u001b[0;34m)\u001b[0m\u001b[0;34m\u001b[0m\u001b[0;34m\u001b[0m\u001b[0m\n\u001b[1;32m    189\u001b[0m         \u001b[0;32melif\u001b[0m \u001b[0mm\u001b[0m\u001b[0;34m[\u001b[0m\u001b[0mdecl\u001b[0m\u001b[0;34m]\u001b[0m\u001b[0;34m.\u001b[0m\u001b[0msort\u001b[0m\u001b[0;34m(\u001b[0m\u001b[0;34m)\u001b[0m\u001b[0;34m.\u001b[0m\u001b[0mkind\u001b[0m\u001b[0;34m(\u001b[0m\u001b[0;34m)\u001b[0m \u001b[0;34m==\u001b[0m \u001b[0mZ3_REAL_SORT\u001b[0m\u001b[0;34m:\u001b[0m\u001b[0;34m\u001b[0m\u001b[0;34m\u001b[0m\u001b[0m\n\u001b[0;32m--> 190\u001b[0;31m             \u001b[0mvalues\u001b[0m\u001b[0;34m[\u001b[0m\u001b[0mstr\u001b[0m\u001b[0;34m(\u001b[0m\u001b[0mdecl\u001b[0m\u001b[0;34m)\u001b[0m\u001b[0;34m]\u001b[0m \u001b[0;34m=\u001b[0m \u001b[0mm\u001b[0m\u001b[0;34m[\u001b[0m\u001b[0mdecl\u001b[0m\u001b[0;34m]\u001b[0m\u001b[0;34m.\u001b[0m\u001b[0mas_fraction\u001b[0m\u001b[0;34m(\u001b[0m\u001b[0;34m)\u001b[0m\u001b[0;34m\u001b[0m\u001b[0;34m\u001b[0m\u001b[0m\n\u001b[0m\u001b[1;32m    191\u001b[0m             \u001b[0;31m# values[str(decl)] = z3_rational_to_float(m[decl])\u001b[0m\u001b[0;34m\u001b[0m\u001b[0;34m\u001b[0m\u001b[0m\n\u001b[1;32m    192\u001b[0m             \u001b[0;31m# values[str(decl)] = float(m[decl].as_decimal(prec=10))\u001b[0m\u001b[0;34m\u001b[0m\u001b[0;34m\u001b[0m\u001b[0m\n\u001b[1;32m    193\u001b[0m         \u001b[0;32melse\u001b[0m\u001b[0;34m:\u001b[0m\u001b[0;34m\u001b[0m\u001b[0;34m\u001b[0m\u001b[0m\n",
      "\u001b[0;32m/Library/Frameworks/Python.framework/Versions/3.12/lib/python3.12/site-packages/z3/z3.py\u001b[0m in \u001b[0;36m?\u001b[0;34m(self)\u001b[0m\n\u001b[1;32m   3132\u001b[0m         \u001b[0;34m>>\u001b[0m\u001b[0;34m>\u001b[0m \u001b[0mv\u001b[0m \u001b[0;34m=\u001b[0m \u001b[0mRealVal\u001b[0m\u001b[0;34m(\u001b[0m\u001b[0;34m\"1/5\"\u001b[0m\u001b[0;34m)\u001b[0m\u001b[0;34m\u001b[0m\u001b[0;34m\u001b[0m\u001b[0m\n\u001b[1;32m   3133\u001b[0m         \u001b[0;34m>>\u001b[0m\u001b[0;34m>\u001b[0m \u001b[0mv\u001b[0m\u001b[0;34m.\u001b[0m\u001b[0mas_fraction\u001b[0m\u001b[0;34m(\u001b[0m\u001b[0;34m)\u001b[0m\u001b[0;34m\u001b[0m\u001b[0;34m\u001b[0m\u001b[0m\n\u001b[1;32m   3134\u001b[0m         \u001b[0mFraction\u001b[0m\u001b[0;34m(\u001b[0m\u001b[0;36m1\u001b[0m\u001b[0;34m,\u001b[0m \u001b[0;36m5\u001b[0m\u001b[0;34m)\u001b[0m\u001b[0;34m\u001b[0m\u001b[0;34m\u001b[0m\u001b[0m\n\u001b[1;32m   3135\u001b[0m         \"\"\"\n\u001b[0;32m-> 3136\u001b[0;31m         \u001b[0;32mreturn\u001b[0m \u001b[0mFraction\u001b[0m\u001b[0;34m(\u001b[0m\u001b[0mself\u001b[0m\u001b[0;34m.\u001b[0m\u001b[0mnumerator_as_long\u001b[0m\u001b[0;34m(\u001b[0m\u001b[0;34m)\u001b[0m\u001b[0;34m,\u001b[0m \u001b[0mself\u001b[0m\u001b[0;34m.\u001b[0m\u001b[0mdenominator_as_long\u001b[0m\u001b[0;34m(\u001b[0m\u001b[0;34m)\u001b[0m\u001b[0;34m)\u001b[0m\u001b[0;34m\u001b[0m\u001b[0;34m\u001b[0m\u001b[0m\n\u001b[0m",
      "\u001b[0;32m/Library/Frameworks/Python.framework/Versions/3.12/lib/python3.12/site-packages/z3/z3.py\u001b[0m in \u001b[0;36m?\u001b[0;34m(self)\u001b[0m\n\u001b[1;32m   3078\u001b[0m         \u001b[0;36m10000000000\u001b[0m \u001b[0;34m+\u001b[0m \u001b[0;36m1\u001b[0m\u001b[0;34m\u001b[0m\u001b[0;34m\u001b[0m\u001b[0m\n\u001b[1;32m   3079\u001b[0m         \u001b[0;34m>>\u001b[0m\u001b[0;34m>\u001b[0m \u001b[0mv\u001b[0m\u001b[0;34m.\u001b[0m\u001b[0mnumerator_as_long\u001b[0m\u001b[0;34m(\u001b[0m\u001b[0;34m)\u001b[0m \u001b[0;34m+\u001b[0m \u001b[0;36m1\u001b[0m \u001b[0;34m==\u001b[0m \u001b[0;36m10000000001\u001b[0m\u001b[0;34m\u001b[0m\u001b[0;34m\u001b[0m\u001b[0m\n\u001b[1;32m   3080\u001b[0m         \u001b[0;32mTrue\u001b[0m\u001b[0;34m\u001b[0m\u001b[0;34m\u001b[0m\u001b[0m\n\u001b[1;32m   3081\u001b[0m         \"\"\"\n\u001b[0;32m-> 3082\u001b[0;31m         \u001b[0;32mreturn\u001b[0m \u001b[0mself\u001b[0m\u001b[0;34m.\u001b[0m\u001b[0mnumerator\u001b[0m\u001b[0;34m(\u001b[0m\u001b[0;34m)\u001b[0m\u001b[0;34m.\u001b[0m\u001b[0mas_long\u001b[0m\u001b[0;34m(\u001b[0m\u001b[0;34m)\u001b[0m\u001b[0;34m\u001b[0m\u001b[0;34m\u001b[0m\u001b[0m\n\u001b[0m",
      "\u001b[0;32m/Library/Frameworks/Python.framework/Versions/3.12/lib/python3.12/site-packages/z3/z3.py\u001b[0m in \u001b[0;36m?\u001b[0;34m(self)\u001b[0m\n\u001b[1;32m   3019\u001b[0m         \u001b[0;36m2\u001b[0m\u001b[0;34m\u001b[0m\u001b[0;34m\u001b[0m\u001b[0m\n\u001b[1;32m   3020\u001b[0m         \"\"\"\n\u001b[1;32m   3021\u001b[0m         \u001b[0;32mif\u001b[0m \u001b[0mz3_debug\u001b[0m\u001b[0;34m(\u001b[0m\u001b[0;34m)\u001b[0m\u001b[0;34m:\u001b[0m\u001b[0;34m\u001b[0m\u001b[0;34m\u001b[0m\u001b[0m\n\u001b[1;32m   3022\u001b[0m             \u001b[0m_z3_assert\u001b[0m\u001b[0;34m(\u001b[0m\u001b[0mself\u001b[0m\u001b[0;34m.\u001b[0m\u001b[0mis_int\u001b[0m\u001b[0;34m(\u001b[0m\u001b[0;34m)\u001b[0m\u001b[0;34m,\u001b[0m \u001b[0;34m\"Integer value expected\"\u001b[0m\u001b[0;34m)\u001b[0m\u001b[0;34m\u001b[0m\u001b[0;34m\u001b[0m\u001b[0m\n\u001b[0;32m-> 3023\u001b[0;31m         \u001b[0;32mreturn\u001b[0m \u001b[0mint\u001b[0m\u001b[0;34m(\u001b[0m\u001b[0mself\u001b[0m\u001b[0;34m.\u001b[0m\u001b[0mas_string\u001b[0m\u001b[0;34m(\u001b[0m\u001b[0;34m)\u001b[0m\u001b[0;34m)\u001b[0m\u001b[0;34m\u001b[0m\u001b[0;34m\u001b[0m\u001b[0m\n\u001b[0m",
      "\u001b[0;31mValueError\u001b[0m: Exceeds the limit (4300 digits) for integer string conversion: value has 5007 digits; use sys.set_int_max_str_digits() to increase the limit"
     ]
    }
   ],
   "source": [
    "budget = 1\n",
    "gridSize = (10, 10)\n",
    "target = Node(9, 1)\n",
    "strategies = list([  \n",
    "    Strategy({ Action.DOWN: frac(1, 3), Action.RIGHT: frac(1, 3), Action.LEFT: frac(1, 3) }) \n",
    "])\n",
    "enumerated_strategies = dict(enumerate(strategies, start=1))\n",
    "\n",
    "pomdp = POMDP(gridSize=gridSize, target=target, model='grid', budget=budget)\n",
    "\n",
    "# Assign strategies to the nodes\n",
    "for node in pomdp.nodes: node.assign_strategy(enumerated_strategies[1], 1)\n",
    "observations =  {n: n.strategy_id for n in pomdp.nodes if n != target}\n",
    "\n",
    "# ---------------------------------------------------------\n",
    "# get one specific utility value\n",
    "# print(pomdp.utility(enumerated_strategies, assignments)[0])\n",
    "# ---------------------------------------------------------\n",
    "# print(len(pomdp.ordered_nodes))\n",
    "# print(len(observations))\n",
    "\n",
    "initial_temperature = 20.0  # High initial temperature to encourage exploration\n",
    "cooling_rate = 0.99  # Gradual cooling rate to balance exploration and exploitation\n",
    "max_iterations = 10  # Sufficient iterations to explore the search space\n",
    "neighborhood_scale = 0.1  # Small perturbations for neighborhood exploration around (0.5, 0.5)\n",
    "\n",
    "# initial_temperature = 0.01  # Low initial temperature to focus search near the known maximum point\n",
    "# cooling_rate = 0.9999  # Faster cooling rate to shift towards exploitation sooner\n",
    "# max_iterations = 100  # Reduced maximum iterations to limit exploration\n",
    "# neighborhood_scale = 0.1  # Small perturbations for narrow exploration around the target point\n",
    "\n",
    "best_solution, best_U, points, utilities = pomdp.simulated_annealing(\n",
    "    enumerated_strategies, \n",
    "    observations, \n",
    "    initial_temperature, \n",
    "    cooling_rate, \n",
    "    max_iterations, \n",
    "    neighborhood_scale, \n",
    ")\n",
    "\n",
    "print(points)\n",
    "print(utilities)\n",
    "\n",
    "plot_actions_4D(np.array(points), utilities, actions = [Action.DOWN, Action.RIGHT, Action.LEFT])\n",
    "\n",
    "approximated_solution = np.around(list(map(float, best_solution[0])), 2)\n",
    "\n",
    "print('Best solution: ', approximated_solution)\n",
    "print('Best utility: ', best_U)"
   ]
  }
 ],
 "metadata": {
  "kernelspec": {
   "display_name": "env",
   "language": "python",
   "name": "python3"
  },
  "language_info": {
   "codemirror_mode": {
    "name": "ipython",
    "version": 3
   },
   "file_extension": ".py",
   "mimetype": "text/x-python",
   "name": "python",
   "nbconvert_exporter": "python",
   "pygments_lexer": "ipython3",
   "version": "3.12.2"
  }
 },
 "nbformat": 4,
 "nbformat_minor": 2
}
